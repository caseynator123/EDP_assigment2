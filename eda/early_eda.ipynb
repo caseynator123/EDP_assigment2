{
 "cells": [
  {
   "cell_type": "markdown",
   "id": "3f2ef154-5f41-4b43-af23-76db4b5cb40e",
   "metadata": {},
   "source": [
    "# Exploratory Data Analysis"
   ]
  },
  {
   "cell_type": "markdown",
   "id": "1a07f420-dbf7-41f7-8d28-c46e4fa3f6b3",
   "metadata": {},
   "source": [
    "## Set up environment"
   ]
  },
  {
   "cell_type": "code",
   "execution_count": 224,
   "id": "1c28b2c4-f829-45fd-91ae-48281758c649",
   "metadata": {},
   "outputs": [],
   "source": [
    "import os\n",
    "import pandas as pd\n",
    "import numpy as np\n",
    "import matplotlib.pyplot as plt\n",
    "import seaborn as sns"
   ]
  },
  {
   "cell_type": "code",
   "execution_count": 28,
   "id": "d476bb51-41c4-4397-bb4e-a6f52ef19028",
   "metadata": {},
   "outputs": [],
   "source": [
    "path = os.path.join(os.path.normpath(os.getcwd() + os.sep + os.pardir) + \"/data/raw\")"
   ]
  },
  {
   "cell_type": "code",
   "execution_count": 29,
   "id": "cb86ea6d-7e32-45a5-affb-3ce190e78820",
   "metadata": {},
   "outputs": [
    {
     "data": {
      "text/plain": [
       "['BX-NewBooksUsers.csv',\n",
       " 'BX-Books.csv',\n",
       " 'BX-Ratings.csv',\n",
       " 'BX-Users.csv',\n",
       " 'BX-NewBooksRatings.csv',\n",
       " 'BX-NewBooks.csv']"
      ]
     },
     "execution_count": 29,
     "metadata": {},
     "output_type": "execute_result"
    }
   ],
   "source": [
    "os.listdir(path)"
   ]
  },
  {
   "cell_type": "markdown",
   "id": "3364346c-b883-456e-ad42-88c1dbdf9a38",
   "metadata": {},
   "source": [
    "## BX-Books"
   ]
  },
  {
   "cell_type": "code",
   "execution_count": 30,
   "id": "0a8c835e-5989-4611-85a8-342222205e46",
   "metadata": {
    "scrolled": true
   },
   "outputs": [
    {
     "data": {
      "text/html": [
       "<div>\n",
       "<style scoped>\n",
       "    .dataframe tbody tr th:only-of-type {\n",
       "        vertical-align: middle;\n",
       "    }\n",
       "\n",
       "    .dataframe tbody tr th {\n",
       "        vertical-align: top;\n",
       "    }\n",
       "\n",
       "    .dataframe thead th {\n",
       "        text-align: right;\n",
       "    }\n",
       "</style>\n",
       "<table border=\"1\" class=\"dataframe\">\n",
       "  <thead>\n",
       "    <tr style=\"text-align: right;\">\n",
       "      <th></th>\n",
       "      <th>ISBN</th>\n",
       "      <th>Book-Title</th>\n",
       "      <th>Book-Author</th>\n",
       "      <th>Year-Of-Publication</th>\n",
       "      <th>Book-Publisher</th>\n",
       "    </tr>\n",
       "  </thead>\n",
       "  <tbody>\n",
       "    <tr>\n",
       "      <th>0</th>\n",
       "      <td>0002005018</td>\n",
       "      <td>Clara Callan</td>\n",
       "      <td>Richard Bruce Wright</td>\n",
       "      <td>2001</td>\n",
       "      <td>HarperFlamingo Canada</td>\n",
       "    </tr>\n",
       "    <tr>\n",
       "      <th>1</th>\n",
       "      <td>0374157065</td>\n",
       "      <td>Flu: The Story of the Great Influenza Pandemic...</td>\n",
       "      <td>Gina Bari Kolata</td>\n",
       "      <td>1999</td>\n",
       "      <td>Farrar Straus Giroux</td>\n",
       "    </tr>\n",
       "    <tr>\n",
       "      <th>2</th>\n",
       "      <td>0399135782</td>\n",
       "      <td>The Kitchen God's Wife</td>\n",
       "      <td>Amy Tan</td>\n",
       "      <td>1991</td>\n",
       "      <td>Putnam Pub Group</td>\n",
       "    </tr>\n",
       "    <tr>\n",
       "      <th>3</th>\n",
       "      <td>0440234743</td>\n",
       "      <td>The Testament</td>\n",
       "      <td>John Grisham</td>\n",
       "      <td>1999</td>\n",
       "      <td>Dell</td>\n",
       "    </tr>\n",
       "    <tr>\n",
       "      <th>4</th>\n",
       "      <td>0452264464</td>\n",
       "      <td>Beloved (Plume Contemporary Fiction)</td>\n",
       "      <td>Toni Morrison</td>\n",
       "      <td>1994</td>\n",
       "      <td>Plume</td>\n",
       "    </tr>\n",
       "  </tbody>\n",
       "</table>\n",
       "</div>"
      ],
      "text/plain": [
       "         ISBN  ...         Book-Publisher\n",
       "0  0002005018  ...  HarperFlamingo Canada\n",
       "1  0374157065  ...   Farrar Straus Giroux\n",
       "2  0399135782  ...       Putnam Pub Group\n",
       "3  0440234743  ...                   Dell\n",
       "4  0452264464  ...                  Plume\n",
       "\n",
       "[5 rows x 5 columns]"
      ]
     },
     "execution_count": 30,
     "metadata": {},
     "output_type": "execute_result"
    }
   ],
   "source": [
    "books = pd.read_csv(path + \"/BX-Books.csv\")\n",
    "books.head()"
   ]
  },
  {
   "cell_type": "markdown",
   "id": "e32c58d1-d709-482a-8c5d-b9d87081cd87",
   "metadata": {},
   "source": [
    "### Null Values"
   ]
  },
  {
   "cell_type": "markdown",
   "id": "0ab13139-2cac-4006-a857-b0822b1c574c",
   "metadata": {},
   "source": [
    "No null values to deal with"
   ]
  },
  {
   "cell_type": "code",
   "execution_count": 31,
   "id": "0ed1cdf0-21b8-423f-bafb-d80429a60134",
   "metadata": {},
   "outputs": [
    {
     "data": {
      "text/plain": [
       "ISBN                   0\n",
       "Book-Title             0\n",
       "Book-Author            0\n",
       "Year-Of-Publication    0\n",
       "Book-Publisher         0\n",
       "dtype: int64"
      ]
     },
     "execution_count": 31,
     "metadata": {},
     "output_type": "execute_result"
    }
   ],
   "source": [
    "books.isna().sum()"
   ]
  },
  {
   "cell_type": "code",
   "execution_count": 32,
   "id": "781758de-d3a8-4b27-9b23-35435d25be3c",
   "metadata": {},
   "outputs": [
    {
     "data": {
      "text/plain": [
       "ISBN                   object\n",
       "Book-Title             object\n",
       "Book-Author            object\n",
       "Year-Of-Publication     int64\n",
       "Book-Publisher         object\n",
       "dtype: object"
      ]
     },
     "execution_count": 32,
     "metadata": {},
     "output_type": "execute_result"
    }
   ],
   "source": [
    "books.dtypes"
   ]
  },
  {
   "cell_type": "markdown",
   "id": "6f3ed081-b71e-44e9-a929-9011fc2d3c30",
   "metadata": {},
   "source": [
    "### Year of publication\n",
    "Year of Publication has max 2030 and min 0. Plot a histogram to see distribution for books published by year.\n",
    "- 314 books published in year 0.\n",
    "- 3 books published in year 2030 (not possible)"
   ]
  },
  {
   "cell_type": "code",
   "execution_count": 33,
   "id": "febcfd7d-2f40-46e5-919a-e836f77669a3",
   "metadata": {},
   "outputs": [
    {
     "data": {
      "text/plain": [
       "(0, 2030)"
      ]
     },
     "execution_count": 33,
     "metadata": {},
     "output_type": "execute_result"
    }
   ],
   "source": [
    "books[\"Year-Of-Publication\"].min(), books[\"Year-Of-Publication\"].max()"
   ]
  },
  {
   "cell_type": "code",
   "execution_count": 58,
   "id": "3b44de05-1042-4b01-8586-66d69464bc9e",
   "metadata": {},
   "outputs": [
    {
     "data": {
      "text/plain": [
       "<Axes: ylabel='Frequency'>"
      ]
     },
     "execution_count": 58,
     "metadata": {},
     "output_type": "execute_result"
    },
    {
     "data": {
      "image/png": "[encoded data removed]",
      "text/plain": [
       "<Figure size 432x288 with 1 Axes>"
      ]
     },
     "metadata": {},
     "output_type": "display_data"
    }
   ],
   "source": [
    "books.plot(kind = \"hist\", y = \"Year-Of-Publication\")"
   ]
  },
  {
   "cell_type": "code",
   "execution_count": 41,
   "id": "191287d3-43b9-4c43-859e-6daae4ee4f5f",
   "metadata": {},
   "outputs": [
    {
     "data": {
      "text/plain": [
       "Year-Of-Publication\n",
       "0        314\n",
       "1920       2\n",
       "1927       1\n",
       "1929       1\n",
       "1930       1\n",
       "        ... \n",
       "2002    1750\n",
       "2003    1530\n",
       "2004     475\n",
       "2005       3\n",
       "2030       3\n",
       "Name: ISBN, Length: 70, dtype: int64"
      ]
     },
     "execution_count": 41,
     "metadata": {},
     "output_type": "execute_result"
    }
   ],
   "source": [
    "books.groupby(\"Year-Of-Publication\")[\"ISBN\"].count()"
   ]
  },
  {
   "cell_type": "code",
   "execution_count": 49,
   "id": "454ef737-bc5f-459d-a6dd-d5d74b3fe550",
   "metadata": {
    "scrolled": true
   },
   "outputs": [
    {
     "data": {
      "text/html": [
       "<div>\n",
       "<style scoped>\n",
       "    .dataframe tbody tr th:only-of-type {\n",
       "        vertical-align: middle;\n",
       "    }\n",
       "\n",
       "    .dataframe tbody tr th {\n",
       "        vertical-align: top;\n",
       "    }\n",
       "\n",
       "    .dataframe thead th {\n",
       "        text-align: right;\n",
       "    }\n",
       "</style>\n",
       "<table border=\"1\" class=\"dataframe\">\n",
       "  <thead>\n",
       "    <tr style=\"text-align: right;\">\n",
       "      <th></th>\n",
       "      <th>ISBN</th>\n",
       "      <th>Book-Title</th>\n",
       "      <th>Book-Author</th>\n",
       "      <th>Year-Of-Publication</th>\n",
       "      <th>Book-Publisher</th>\n",
       "    </tr>\n",
       "  </thead>\n",
       "  <tbody>\n",
       "    <tr>\n",
       "      <th>164</th>\n",
       "      <td>0571197639</td>\n",
       "      <td>Poisonwood Bible Edition Uk</td>\n",
       "      <td>Barbara Kingsolver</td>\n",
       "      <td>0</td>\n",
       "      <td>Faber Faber Inc</td>\n",
       "    </tr>\n",
       "    <tr>\n",
       "      <th>195</th>\n",
       "      <td>3596214629</td>\n",
       "      <td>Herr Der Fliegen (Fiction, Poetry and Drama)</td>\n",
       "      <td>Golding</td>\n",
       "      <td>0</td>\n",
       "      <td>Fischer Taschenbuch Verlag GmbH</td>\n",
       "    </tr>\n",
       "    <tr>\n",
       "      <th>285</th>\n",
       "      <td>8845229041</td>\n",
       "      <td>Biblioteca Universale Rizzoli: Sulla Sponda De...</td>\n",
       "      <td>P Coelho</td>\n",
       "      <td>0</td>\n",
       "      <td>Fabbri - RCS Libri</td>\n",
       "    </tr>\n",
       "    <tr>\n",
       "      <th>343</th>\n",
       "      <td>0590021117</td>\n",
       "      <td>Little House On the Prairie</td>\n",
       "      <td>Laura Ingall Wilder</td>\n",
       "      <td>0</td>\n",
       "      <td>Scholastic Inc</td>\n",
       "    </tr>\n",
       "    <tr>\n",
       "      <th>395</th>\n",
       "      <td>2070362388</td>\n",
       "      <td>Ravage</td>\n",
       "      <td>Rene Barjavel</td>\n",
       "      <td>0</td>\n",
       "      <td>Gallimard French</td>\n",
       "    </tr>\n",
       "    <tr>\n",
       "      <th>441</th>\n",
       "      <td>0718144538</td>\n",
       "      <td>Shattered Uk</td>\n",
       "      <td>Dick Francis</td>\n",
       "      <td>0</td>\n",
       "      <td>Michael Joseph Ltd</td>\n",
       "    </tr>\n",
       "    <tr>\n",
       "      <th>444</th>\n",
       "      <td>0349101779</td>\n",
       "      <td>The Wasp Factory</td>\n",
       "      <td>Iain Banks</td>\n",
       "      <td>0</td>\n",
       "      <td>Abacus</td>\n",
       "    </tr>\n",
       "    <tr>\n",
       "      <th>488</th>\n",
       "      <td>0753804700</td>\n",
       "      <td>Reader</td>\n",
       "      <td>Bernhard Schlink</td>\n",
       "      <td>0</td>\n",
       "      <td>Phoenix Books</td>\n",
       "    </tr>\n",
       "    <tr>\n",
       "      <th>650</th>\n",
       "      <td>0140620338</td>\n",
       "      <td>Picture of Dorian Gray</td>\n",
       "      <td>Oscar Wilde</td>\n",
       "      <td>0</td>\n",
       "      <td>Penguin Putnam~mass</td>\n",
       "    </tr>\n",
       "    <tr>\n",
       "      <th>661</th>\n",
       "      <td>000649840X</td>\n",
       "      <td>Angelas Ashes</td>\n",
       "      <td>Frank Mccourt</td>\n",
       "      <td>0</td>\n",
       "      <td>Harpercollins Uk</td>\n",
       "    </tr>\n",
       "    <tr>\n",
       "      <th>663</th>\n",
       "      <td>0099771519</td>\n",
       "      <td>Memoirs of a Geisha Uk</td>\n",
       "      <td>Arthur Golden</td>\n",
       "      <td>0</td>\n",
       "      <td>Trafalgar Square</td>\n",
       "    </tr>\n",
       "    <tr>\n",
       "      <th>728</th>\n",
       "      <td>0552996009</td>\n",
       "      <td>Notes From a Small Planet</td>\n",
       "      <td>Bill Bryson</td>\n",
       "      <td>0</td>\n",
       "      <td>Bantam Doubleday Dell</td>\n",
       "    </tr>\n",
       "    <tr>\n",
       "      <th>922</th>\n",
       "      <td>3518368540</td>\n",
       "      <td>Homo Faber</td>\n",
       "      <td>Max Frisch</td>\n",
       "      <td>0</td>\n",
       "      <td>Distribooks Int'l+inc</td>\n",
       "    </tr>\n",
       "    <tr>\n",
       "      <th>996</th>\n",
       "      <td>2253004243</td>\n",
       "      <td>Une Vie</td>\n",
       "      <td>Guy De Maupassant</td>\n",
       "      <td>0</td>\n",
       "      <td>Livre De Poche French</td>\n",
       "    </tr>\n",
       "    <tr>\n",
       "      <th>1004</th>\n",
       "      <td>0006550789</td>\n",
       "      <td>253</td>\n",
       "      <td>Geoff Ryman</td>\n",
       "      <td>0</td>\n",
       "      <td>Flamingo</td>\n",
       "    </tr>\n",
       "    <tr>\n",
       "      <th>1008</th>\n",
       "      <td>0670848549</td>\n",
       "      <td>Secret History</td>\n",
       "      <td>Donna Tartt</td>\n",
       "      <td>0</td>\n",
       "      <td>Penguin Putnam~childrens Hc</td>\n",
       "    </tr>\n",
       "    <tr>\n",
       "      <th>1054</th>\n",
       "      <td>0330294377</td>\n",
       "      <td>Falling Towards England</td>\n",
       "      <td>Clive James</td>\n",
       "      <td>0</td>\n",
       "      <td>Pan Books Ltd</td>\n",
       "    </tr>\n",
       "    <tr>\n",
       "      <th>1147</th>\n",
       "      <td>0553135457</td>\n",
       "      <td>Sophies Choice</td>\n",
       "      <td>William Styron</td>\n",
       "      <td>0</td>\n",
       "      <td>Bantam Doubleday Dell</td>\n",
       "    </tr>\n",
       "    <tr>\n",
       "      <th>1150</th>\n",
       "      <td>0330312367</td>\n",
       "      <td>Year In Provence</td>\n",
       "      <td>Peter Mayle</td>\n",
       "      <td>0</td>\n",
       "      <td>Pan Books Ltd</td>\n",
       "    </tr>\n",
       "    <tr>\n",
       "      <th>1152</th>\n",
       "      <td>2253047422</td>\n",
       "      <td>Le Pigeon</td>\n",
       "      <td>Patrick Suskind</td>\n",
       "      <td>0</td>\n",
       "      <td>Livre De Poche French</td>\n",
       "    </tr>\n",
       "  </tbody>\n",
       "</table>\n",
       "</div>"
      ],
      "text/plain": [
       "            ISBN  ...                   Book-Publisher\n",
       "164   0571197639  ...                  Faber Faber Inc\n",
       "195   3596214629  ...  Fischer Taschenbuch Verlag GmbH\n",
       "285   8845229041  ...               Fabbri - RCS Libri\n",
       "343   0590021117  ...                   Scholastic Inc\n",
       "395   2070362388  ...                 Gallimard French\n",
       "441   0718144538  ...               Michael Joseph Ltd\n",
       "444   0349101779  ...                           Abacus\n",
       "488   0753804700  ...                    Phoenix Books\n",
       "650   0140620338  ...              Penguin Putnam~mass\n",
       "661   000649840X  ...                 Harpercollins Uk\n",
       "663   0099771519  ...                 Trafalgar Square\n",
       "728   0552996009  ...            Bantam Doubleday Dell\n",
       "922   3518368540  ...            Distribooks Int'l+inc\n",
       "996   2253004243  ...            Livre De Poche French\n",
       "1004  0006550789  ...                         Flamingo\n",
       "1008  0670848549  ...      Penguin Putnam~childrens Hc\n",
       "1054  0330294377  ...                    Pan Books Ltd\n",
       "1147  0553135457  ...            Bantam Doubleday Dell\n",
       "1150  0330312367  ...                    Pan Books Ltd\n",
       "1152  2253047422  ...            Livre De Poche French\n",
       "\n",
       "[20 rows x 5 columns]"
      ]
     },
     "execution_count": 49,
     "metadata": {},
     "output_type": "execute_result"
    }
   ],
   "source": [
    "books[books[\"Year-Of-Publication\"] == 0].head(20)"
   ]
  },
  {
   "cell_type": "code",
   "execution_count": 48,
   "id": "58d45c23-8584-4e7c-a1df-a2794d8f3f4f",
   "metadata": {},
   "outputs": [
    {
     "data": {
      "text/html": [
       "<div>\n",
       "<style scoped>\n",
       "    .dataframe tbody tr th:only-of-type {\n",
       "        vertical-align: middle;\n",
       "    }\n",
       "\n",
       "    .dataframe tbody tr th {\n",
       "        vertical-align: top;\n",
       "    }\n",
       "\n",
       "    .dataframe thead th {\n",
       "        text-align: right;\n",
       "    }\n",
       "</style>\n",
       "<table border=\"1\" class=\"dataframe\">\n",
       "  <thead>\n",
       "    <tr style=\"text-align: right;\">\n",
       "      <th></th>\n",
       "      <th>ISBN</th>\n",
       "      <th>Book-Title</th>\n",
       "      <th>Book-Author</th>\n",
       "      <th>Year-Of-Publication</th>\n",
       "      <th>Book-Publisher</th>\n",
       "    </tr>\n",
       "  </thead>\n",
       "  <tbody>\n",
       "    <tr>\n",
       "      <th>11362</th>\n",
       "      <td>0671746103</td>\n",
       "      <td>MY TEACHER FRIED MY BRAINS (RACK SIZE) (MY TEA...</td>\n",
       "      <td>Coville</td>\n",
       "      <td>2030</td>\n",
       "      <td>Aladdin</td>\n",
       "    </tr>\n",
       "    <tr>\n",
       "      <th>13687</th>\n",
       "      <td>0671791990</td>\n",
       "      <td>MY TEACHER FLUNKED THE PLANET (RACK SIZE) (MY ...</td>\n",
       "      <td>Bruce Coville</td>\n",
       "      <td>2030</td>\n",
       "      <td>Aladdin</td>\n",
       "    </tr>\n",
       "    <tr>\n",
       "      <th>15739</th>\n",
       "      <td>0870449842</td>\n",
       "      <td>Crossing America</td>\n",
       "      <td>National Geographic Society</td>\n",
       "      <td>2030</td>\n",
       "      <td>National Geographic</td>\n",
       "    </tr>\n",
       "  </tbody>\n",
       "</table>\n",
       "</div>"
      ],
      "text/plain": [
       "             ISBN  ...       Book-Publisher\n",
       "11362  0671746103  ...              Aladdin\n",
       "13687  0671791990  ...              Aladdin\n",
       "15739  0870449842  ...  National Geographic\n",
       "\n",
       "[3 rows x 5 columns]"
      ]
     },
     "execution_count": 48,
     "metadata": {},
     "output_type": "execute_result"
    }
   ],
   "source": [
    "books[books[\"Year-Of-Publication\"] == 2030]"
   ]
  },
  {
   "cell_type": "markdown",
   "id": "94a73638-cfe4-48d9-b742-2bcc1166dadd",
   "metadata": {},
   "source": [
    "### ISBN \n",
    "Also noticed ISBN is a 10 digit number but some have and X at the end.\n",
    "- ISBN is a 10 digit number before 2007. This dataset is fine for just 10.\n",
    "- the only letter wich can be in an ISBN is an X to represent ten.\n",
    "\n",
    "No duplicates on ISBN"
   ]
  },
  {
   "cell_type": "code",
   "execution_count": 57,
   "id": "6d0ca0ee-a3b1-4820-864f-38a059cb9628",
   "metadata": {
    "scrolled": true
   },
   "outputs": [
    {
     "data": {
      "text/html": [
       "<div>\n",
       "<style scoped>\n",
       "    .dataframe tbody tr th:only-of-type {\n",
       "        vertical-align: middle;\n",
       "    }\n",
       "\n",
       "    .dataframe tbody tr th {\n",
       "        vertical-align: top;\n",
       "    }\n",
       "\n",
       "    .dataframe thead th {\n",
       "        text-align: right;\n",
       "    }\n",
       "</style>\n",
       "<table border=\"1\" class=\"dataframe\">\n",
       "  <thead>\n",
       "    <tr style=\"text-align: right;\">\n",
       "      <th></th>\n",
       "      <th>ISBN</th>\n",
       "      <th>Book-Title</th>\n",
       "      <th>Book-Author</th>\n",
       "      <th>Year-Of-Publication</th>\n",
       "      <th>Book-Publisher</th>\n",
       "    </tr>\n",
       "  </thead>\n",
       "  <tbody>\n",
       "  </tbody>\n",
       "</table>\n",
       "</div>"
      ],
      "text/plain": [
       "Empty DataFrame\n",
       "Columns: [ISBN, Book-Title, Book-Author, Year-Of-Publication, Book-Publisher]\n",
       "Index: []"
      ]
     },
     "execution_count": 57,
     "metadata": {},
     "output_type": "execute_result"
    }
   ],
   "source": [
    "books[~books[\"ISBN\"].str.match(r\"^(?=(?:\\D*\\d){9,10})|\\d{9}X\")]"
   ]
  },
  {
   "cell_type": "code",
   "execution_count": 137,
   "id": "d1122130-a36d-4e0e-b1b7-319ecb6a98f8",
   "metadata": {},
   "outputs": [
    {
     "data": {
      "text/html": [
       "<div>\n",
       "<style scoped>\n",
       "    .dataframe tbody tr th:only-of-type {\n",
       "        vertical-align: middle;\n",
       "    }\n",
       "\n",
       "    .dataframe tbody tr th {\n",
       "        vertical-align: top;\n",
       "    }\n",
       "\n",
       "    .dataframe thead th {\n",
       "        text-align: right;\n",
       "    }\n",
       "</style>\n",
       "<table border=\"1\" class=\"dataframe\">\n",
       "  <thead>\n",
       "    <tr style=\"text-align: right;\">\n",
       "      <th></th>\n",
       "      <th>ISBN</th>\n",
       "      <th>Book-Title</th>\n",
       "      <th>Book-Author</th>\n",
       "      <th>Year-Of-Publication</th>\n",
       "      <th>Book-Publisher</th>\n",
       "    </tr>\n",
       "  </thead>\n",
       "  <tbody>\n",
       "  </tbody>\n",
       "</table>\n",
       "</div>"
      ],
      "text/plain": [
       "Empty DataFrame\n",
       "Columns: [ISBN, Book-Title, Book-Author, Year-Of-Publication, Book-Publisher]\n",
       "Index: []"
      ]
     },
     "execution_count": 137,
     "metadata": {},
     "output_type": "execute_result"
    }
   ],
   "source": [
    "books[books[\"ISBN\"].duplicated()]"
   ]
  },
  {
   "cell_type": "markdown",
   "id": "2fac3ee9-58fe-4586-8103-5df0a503d876",
   "metadata": {},
   "source": [
    "### Book-Author\n",
    "Potential for Authors to be under different naming convention.\n",
    "- For example Jack Du Brul vs Jack B. Du Brul\n",
    "    - Do some text analysis in cleaning to give authors same name\n",
    "- Also text is mix of upper/lowercase - case folding to lowercase.\n",
    "- Look to see if there are any unknown names\n",
    "    - unknown\n",
    "    - Jack\n"
   ]
  },
  {
   "cell_type": "code",
   "execution_count": 95,
   "id": "08c9dcdf-2cdc-4b64-943e-d84a5f2365c7",
   "metadata": {
    "scrolled": true
   },
   "outputs": [
    {
     "data": {
      "text/html": [
       "<div>\n",
       "<style scoped>\n",
       "    .dataframe tbody tr th:only-of-type {\n",
       "        vertical-align: middle;\n",
       "    }\n",
       "\n",
       "    .dataframe tbody tr th {\n",
       "        vertical-align: top;\n",
       "    }\n",
       "\n",
       "    .dataframe thead th {\n",
       "        text-align: right;\n",
       "    }\n",
       "</style>\n",
       "<table border=\"1\" class=\"dataframe\">\n",
       "  <thead>\n",
       "    <tr style=\"text-align: right;\">\n",
       "      <th></th>\n",
       "      <th>Book-Author</th>\n",
       "      <th>Count</th>\n",
       "    </tr>\n",
       "  </thead>\n",
       "  <tbody>\n",
       "    <tr>\n",
       "      <th>0</th>\n",
       "      <td>Stephen King</td>\n",
       "      <td>193</td>\n",
       "    </tr>\n",
       "    <tr>\n",
       "      <th>1</th>\n",
       "      <td>Nora Roberts</td>\n",
       "      <td>123</td>\n",
       "    </tr>\n",
       "    <tr>\n",
       "      <th>2</th>\n",
       "      <td>Anne McCaffrey</td>\n",
       "      <td>81</td>\n",
       "    </tr>\n",
       "    <tr>\n",
       "      <th>3</th>\n",
       "      <td>Danielle Steel</td>\n",
       "      <td>74</td>\n",
       "    </tr>\n",
       "    <tr>\n",
       "      <th>4</th>\n",
       "      <td>Piers Anthony</td>\n",
       "      <td>70</td>\n",
       "    </tr>\n",
       "    <tr>\n",
       "      <th>...</th>\n",
       "      <td>...</td>\n",
       "      <td>...</td>\n",
       "    </tr>\n",
       "    <tr>\n",
       "      <th>6447</th>\n",
       "      <td>Jack Kersh</td>\n",
       "      <td>1</td>\n",
       "    </tr>\n",
       "    <tr>\n",
       "      <th>6448</th>\n",
       "      <td>Jack Handey</td>\n",
       "      <td>1</td>\n",
       "    </tr>\n",
       "    <tr>\n",
       "      <th>6449</th>\n",
       "      <td>Jack Du Brul</td>\n",
       "      <td>1</td>\n",
       "    </tr>\n",
       "    <tr>\n",
       "      <th>6450</th>\n",
       "      <td>Jack B. Du Brul</td>\n",
       "      <td>1</td>\n",
       "    </tr>\n",
       "    <tr>\n",
       "      <th>6451</th>\n",
       "      <td>unknown</td>\n",
       "      <td>1</td>\n",
       "    </tr>\n",
       "  </tbody>\n",
       "</table>\n",
       "<p>6452 rows × 2 columns</p>\n",
       "</div>"
      ],
      "text/plain": [
       "          Book-Author  Count\n",
       "0        Stephen King    193\n",
       "1        Nora Roberts    123\n",
       "2      Anne McCaffrey     81\n",
       "3      Danielle Steel     74\n",
       "4       Piers Anthony     70\n",
       "...               ...    ...\n",
       "6447       Jack Kersh      1\n",
       "6448      Jack Handey      1\n",
       "6449     Jack Du Brul      1\n",
       "6450  Jack B. Du Brul      1\n",
       "6451          unknown      1\n",
       "\n",
       "[6452 rows x 2 columns]"
      ]
     },
     "execution_count": 95,
     "metadata": {},
     "output_type": "execute_result"
    }
   ],
   "source": [
    "author_dist = books.groupby(\"Book-Author\")[\"ISBN\"].count().sort_values(ascending=False).reset_index().rename(columns= {'ISBN':'Count'})\n",
    "\n",
    "author_dist"
   ]
  },
  {
   "cell_type": "code",
   "execution_count": 96,
   "id": "af9311eb-0ac2-45f3-90c8-949a0a970d53",
   "metadata": {},
   "outputs": [
    {
     "data": {
      "text/plain": [
       "<Axes: xlabel='Count', ylabel='Book-Author'>"
      ]
     },
     "execution_count": 96,
     "metadata": {},
     "output_type": "execute_result"
    },
    {
     "data": {
      "image/png": "[encoded data removed]",
      "text/plain": [
       "<Figure size 432x288 with 1 Axes>"
      ]
     },
     "metadata": {},
     "output_type": "display_data"
    }
   ],
   "source": [
    "sns.barplot(author_dist.head(20), x = \"Count\", y = \"Book-Author\", orient = \"h\")"
   ]
  },
  {
   "cell_type": "code",
   "execution_count": 97,
   "id": "cde5d436-1aa2-4bb7-9362-247e5ad15a25",
   "metadata": {},
   "outputs": [
    {
     "data": {
      "text/plain": [
       "<Axes: xlabel='Count', ylabel='Book-Author'>"
      ]
     },
     "execution_count": 97,
     "metadata": {},
     "output_type": "execute_result"
    },
    {
     "data": {
      "image/png": "[encoded data removed]",
      "text/plain": [
       "<Figure size 432x288 with 1 Axes>"
      ]
     },
     "metadata": {},
     "output_type": "display_data"
    }
   ],
   "source": [
    "sns.barplot(author_dist.tail(20), x = \"Count\", y = \"Book-Author\", orient = \"h\")"
   ]
  },
  {
   "cell_type": "markdown",
   "id": "a7250af6-a2e3-4ea5-aa27-6d9a111ac74c",
   "metadata": {},
   "source": [
    "### Book-Title\n",
    "- Books can be published by other publisher\n",
    "- Potential for Book-Title to be similar\n",
    "- Duplicates on Book-Publisher and Book-Title\n",
    "    - No concern "
   ]
  },
  {
   "cell_type": "code",
   "execution_count": 117,
   "id": "f4e46692-3c05-4b29-aafa-4ebee624d02f",
   "metadata": {},
   "outputs": [
    {
     "data": {
      "text/plain": [
       "<Axes: xlabel='Count', ylabel='Book-Title'>"
      ]
     },
     "execution_count": 117,
     "metadata": {},
     "output_type": "execute_result"
    },
    {
     "data": {
      "image/png": "[encoded data removed]",
      "text/plain": [
       "<Figure size 432x288 with 1 Axes>"
      ]
     },
     "metadata": {},
     "output_type": "display_data"
    }
   ],
   "source": [
    "books_title = books.groupby([\"Book-Title\"])[\"ISBN\"].count() \\\n",
    "    .sort_values(ascending = False).reset_index().rename(columns= {'ISBN':'Count'})\n",
    "\n",
    "duplicate_books = books_title[books_title[\"Count\"] > 1]\n",
    "\n",
    "sns.barplot(duplicate_books.head(20), x = \"Count\", y = \"Book-Title\", orient = \"h\")"
   ]
  },
  {
   "cell_type": "code",
   "execution_count": 119,
   "id": "0f06a3c4-6692-413c-916b-b7a5dad926b1",
   "metadata": {},
   "outputs": [
    {
     "data": {
      "text/html": [
       "<div>\n",
       "<style scoped>\n",
       "    .dataframe tbody tr th:only-of-type {\n",
       "        vertical-align: middle;\n",
       "    }\n",
       "\n",
       "    .dataframe tbody tr th {\n",
       "        vertical-align: top;\n",
       "    }\n",
       "\n",
       "    .dataframe thead th {\n",
       "        text-align: right;\n",
       "    }\n",
       "</style>\n",
       "<table border=\"1\" class=\"dataframe\">\n",
       "  <thead>\n",
       "    <tr style=\"text-align: right;\">\n",
       "      <th></th>\n",
       "      <th>ISBN</th>\n",
       "      <th>Book-Title</th>\n",
       "      <th>Book-Author</th>\n",
       "      <th>Year-Of-Publication</th>\n",
       "      <th>Book-Publisher</th>\n",
       "    </tr>\n",
       "  </thead>\n",
       "  <tbody>\n",
       "    <tr>\n",
       "      <th>4643</th>\n",
       "      <td>0451168089</td>\n",
       "      <td>'Salem's Lot</td>\n",
       "      <td>Stephen King</td>\n",
       "      <td>1990</td>\n",
       "      <td>Signet Book</td>\n",
       "    </tr>\n",
       "    <tr>\n",
       "      <th>16688</th>\n",
       "      <td>0385007515</td>\n",
       "      <td>'Salem's Lot</td>\n",
       "      <td>Stephen King</td>\n",
       "      <td>1993</td>\n",
       "      <td>Doubleday Books</td>\n",
       "    </tr>\n",
       "    <tr>\n",
       "      <th>10276</th>\n",
       "      <td>0717284832</td>\n",
       "      <td>101 Dalmatians</td>\n",
       "      <td>Walt Disney</td>\n",
       "      <td>1995</td>\n",
       "      <td>Stoddart+publishing</td>\n",
       "    </tr>\n",
       "    <tr>\n",
       "      <th>337</th>\n",
       "      <td>0307001164</td>\n",
       "      <td>101 Dalmatians</td>\n",
       "      <td>Justine Korman</td>\n",
       "      <td>1996</td>\n",
       "      <td>Golden Books Publishing Company</td>\n",
       "    </tr>\n",
       "    <tr>\n",
       "      <th>14503</th>\n",
       "      <td>207036822X</td>\n",
       "      <td>1984</td>\n",
       "      <td>George Orwell</td>\n",
       "      <td>0</td>\n",
       "      <td>Gallimard French</td>\n",
       "    </tr>\n",
       "    <tr>\n",
       "      <th>3842</th>\n",
       "      <td>0451519841</td>\n",
       "      <td>1984</td>\n",
       "      <td>George Orwell</td>\n",
       "      <td>1980</td>\n",
       "      <td>New Amer Library</td>\n",
       "    </tr>\n",
       "    <tr>\n",
       "      <th>5470</th>\n",
       "      <td>0452262933</td>\n",
       "      <td>1984</td>\n",
       "      <td>George Orwell</td>\n",
       "      <td>1983</td>\n",
       "      <td>Plume Books</td>\n",
       "    </tr>\n",
       "    <tr>\n",
       "      <th>1117</th>\n",
       "      <td>0451524934</td>\n",
       "      <td>1984</td>\n",
       "      <td>George Orwell</td>\n",
       "      <td>1990</td>\n",
       "      <td>Signet Book</td>\n",
       "    </tr>\n",
       "    <tr>\n",
       "      <th>991</th>\n",
       "      <td>0446610038</td>\n",
       "      <td>1st to Die: A Novel</td>\n",
       "      <td>James Patterson</td>\n",
       "      <td>2002</td>\n",
       "      <td>Warner Vision</td>\n",
       "    </tr>\n",
       "    <tr>\n",
       "      <th>2044</th>\n",
       "      <td>0316666009</td>\n",
       "      <td>1st to Die: A Novel</td>\n",
       "      <td>James Patterson</td>\n",
       "      <td>2001</td>\n",
       "      <td>Little Brown and Company</td>\n",
       "    </tr>\n",
       "    <tr>\n",
       "      <th>7369</th>\n",
       "      <td>0399146245</td>\n",
       "      <td>24 Hours</td>\n",
       "      <td>Greg Iles</td>\n",
       "      <td>2000</td>\n",
       "      <td>Putnam Publishing Group</td>\n",
       "    </tr>\n",
       "    <tr>\n",
       "      <th>4529</th>\n",
       "      <td>0451203593</td>\n",
       "      <td>24 Hours</td>\n",
       "      <td>Greg Iles</td>\n",
       "      <td>2001</td>\n",
       "      <td>Signet Book</td>\n",
       "    </tr>\n",
       "    <tr>\n",
       "      <th>1845</th>\n",
       "      <td>0446612790</td>\n",
       "      <td>2nd Chance</td>\n",
       "      <td>James Patterson</td>\n",
       "      <td>2003</td>\n",
       "      <td>Warner Vision</td>\n",
       "    </tr>\n",
       "    <tr>\n",
       "      <th>435</th>\n",
       "      <td>0316693200</td>\n",
       "      <td>2nd Chance</td>\n",
       "      <td>James Patterson</td>\n",
       "      <td>2002</td>\n",
       "      <td>Little, Brown</td>\n",
       "    </tr>\n",
       "    <tr>\n",
       "      <th>12506</th>\n",
       "      <td>0345423496</td>\n",
       "      <td>3001: The Final Odyssey</td>\n",
       "      <td>Arthur C. Clarke</td>\n",
       "      <td>1998</td>\n",
       "      <td>Del Rey Books</td>\n",
       "    </tr>\n",
       "    <tr>\n",
       "      <th>4579</th>\n",
       "      <td>0345315227</td>\n",
       "      <td>3001: The Final Odyssey</td>\n",
       "      <td>Arthur C. Clarke</td>\n",
       "      <td>1997</td>\n",
       "      <td>Ballantine Books</td>\n",
       "    </tr>\n",
       "    <tr>\n",
       "      <th>4054</th>\n",
       "      <td>0140143505</td>\n",
       "      <td>84 Charing Cross Road</td>\n",
       "      <td>Helene Hanff</td>\n",
       "      <td>1990</td>\n",
       "      <td>Penguin Books</td>\n",
       "    </tr>\n",
       "    <tr>\n",
       "      <th>3200</th>\n",
       "      <td>0860074382</td>\n",
       "      <td>84 Charing Cross Road</td>\n",
       "      <td>Helene Hanff</td>\n",
       "      <td>0</td>\n",
       "      <td>Warner Books&gt; C/o Little Br</td>\n",
       "    </tr>\n",
       "    <tr>\n",
       "      <th>11743</th>\n",
       "      <td>0380001225</td>\n",
       "      <td>84 Charing Cross Road</td>\n",
       "      <td>Helene Hanff</td>\n",
       "      <td>1987</td>\n",
       "      <td>Avon Books</td>\n",
       "    </tr>\n",
       "    <tr>\n",
       "      <th>2053</th>\n",
       "      <td>0446611867</td>\n",
       "      <td>A Bend in the Road</td>\n",
       "      <td>Nicholas Sparks</td>\n",
       "      <td>2002</td>\n",
       "      <td>Warner Books</td>\n",
       "    </tr>\n",
       "  </tbody>\n",
       "</table>\n",
       "</div>"
      ],
      "text/plain": [
       "             ISBN  ...                   Book-Publisher\n",
       "4643   0451168089  ...                      Signet Book\n",
       "16688  0385007515  ...                  Doubleday Books\n",
       "10276  0717284832  ...              Stoddart+publishing\n",
       "337    0307001164  ...  Golden Books Publishing Company\n",
       "14503  207036822X  ...                 Gallimard French\n",
       "3842   0451519841  ...                 New Amer Library\n",
       "5470   0452262933  ...                      Plume Books\n",
       "1117   0451524934  ...                      Signet Book\n",
       "991    0446610038  ...                    Warner Vision\n",
       "2044   0316666009  ...         Little Brown and Company\n",
       "7369   0399146245  ...          Putnam Publishing Group\n",
       "4529   0451203593  ...                      Signet Book\n",
       "1845   0446612790  ...                    Warner Vision\n",
       "435    0316693200  ...                    Little, Brown\n",
       "12506  0345423496  ...                    Del Rey Books\n",
       "4579   0345315227  ...                 Ballantine Books\n",
       "4054   0140143505  ...                    Penguin Books\n",
       "3200   0860074382  ...      Warner Books> C/o Little Br\n",
       "11743  0380001225  ...                       Avon Books\n",
       "2053   0446611867  ...                     Warner Books\n",
       "\n",
       "[20 rows x 5 columns]"
      ]
     },
     "execution_count": 119,
     "metadata": {},
     "output_type": "execute_result"
    }
   ],
   "source": [
    "books[books[\"Book-Title\"].isin(duplicate_books[\"Book-Title\"])].sort_values(by = \"Book-Title\").head(20)"
   ]
  },
  {
   "cell_type": "code",
   "execution_count": 121,
   "id": "c5c480b8-94f8-494e-9dfd-24ae88e14694",
   "metadata": {},
   "outputs": [],
   "source": [
    "books_tp = books.groupby([\"Book-Title\", \"Book-Publisher\"])[\"ISBN\"].count() \\\n",
    "    .sort_values(ascending = False).reset_index().rename(columns= {'ISBN':'Count'})"
   ]
  },
  {
   "cell_type": "code",
   "execution_count": 131,
   "id": "a9441abb-945f-4e24-9d97-d5cc76054fa8",
   "metadata": {},
   "outputs": [
    {
     "data": {
      "text/html": [
       "<div>\n",
       "<style scoped>\n",
       "    .dataframe tbody tr th:only-of-type {\n",
       "        vertical-align: middle;\n",
       "    }\n",
       "\n",
       "    .dataframe tbody tr th {\n",
       "        vertical-align: top;\n",
       "    }\n",
       "\n",
       "    .dataframe thead th {\n",
       "        text-align: right;\n",
       "    }\n",
       "</style>\n",
       "<table border=\"1\" class=\"dataframe\">\n",
       "  <thead>\n",
       "    <tr style=\"text-align: right;\">\n",
       "      <th></th>\n",
       "      <th>ISBN</th>\n",
       "      <th>Book-Title</th>\n",
       "      <th>Book-Author</th>\n",
       "      <th>Year-Of-Publication</th>\n",
       "      <th>Book-Publisher</th>\n",
       "    </tr>\n",
       "  </thead>\n",
       "  <tbody>\n",
       "    <tr>\n",
       "      <th>4650</th>\n",
       "      <td>1591820073</td>\n",
       "      <td>Chobits (Chobits)</td>\n",
       "      <td>Clamp</td>\n",
       "      <td>2003</td>\n",
       "      <td>TokyoPop</td>\n",
       "    </tr>\n",
       "    <tr>\n",
       "      <th>4649</th>\n",
       "      <td>1591821533</td>\n",
       "      <td>Chobits (Chobits)</td>\n",
       "      <td>Clamp</td>\n",
       "      <td>2003</td>\n",
       "      <td>TokyoPop</td>\n",
       "    </tr>\n",
       "    <tr>\n",
       "      <th>4648</th>\n",
       "      <td>1591822572</td>\n",
       "      <td>Chobits (Chobits)</td>\n",
       "      <td>Clamp</td>\n",
       "      <td>2003</td>\n",
       "      <td>TokyoPop</td>\n",
       "    </tr>\n",
       "    <tr>\n",
       "      <th>4647</th>\n",
       "      <td>1591822580</td>\n",
       "      <td>Chobits (Chobits)</td>\n",
       "      <td>Clamp</td>\n",
       "      <td>2003</td>\n",
       "      <td>TokyoPop</td>\n",
       "    </tr>\n",
       "    <tr>\n",
       "      <th>1528</th>\n",
       "      <td>0812533550</td>\n",
       "      <td>Ender's Game (Ender Wiggins Saga (Paperback))</td>\n",
       "      <td>Orson Scott Card</td>\n",
       "      <td>1986</td>\n",
       "      <td>Tor Books</td>\n",
       "    </tr>\n",
       "    <tr>\n",
       "      <th>499</th>\n",
       "      <td>0312853238</td>\n",
       "      <td>Ender's Game (Ender Wiggins Saga (Paperback))</td>\n",
       "      <td>Orson Scott Card</td>\n",
       "      <td>1992</td>\n",
       "      <td>Tor Books</td>\n",
       "    </tr>\n",
       "    <tr>\n",
       "      <th>1020</th>\n",
       "      <td>0765342294</td>\n",
       "      <td>Ender's Game (Ender Wiggins Saga (Paperback))</td>\n",
       "      <td>Orson Scott Card</td>\n",
       "      <td>2002</td>\n",
       "      <td>Starscape Books</td>\n",
       "    </tr>\n",
       "    <tr>\n",
       "      <th>1168</th>\n",
       "      <td>0812550706</td>\n",
       "      <td>Ender's Game (Ender Wiggins Saga (Paperback))</td>\n",
       "      <td>Orson Scott Card</td>\n",
       "      <td>1994</td>\n",
       "      <td>Tor Books</td>\n",
       "    </tr>\n",
       "    <tr>\n",
       "      <th>6336</th>\n",
       "      <td>0451150244</td>\n",
       "      <td>Pet Sematary</td>\n",
       "      <td>Stephen King</td>\n",
       "      <td>1984</td>\n",
       "      <td>Signet Book</td>\n",
       "    </tr>\n",
       "    <tr>\n",
       "      <th>9712</th>\n",
       "      <td>0451139755</td>\n",
       "      <td>Pet Sematary</td>\n",
       "      <td>Stephen King</td>\n",
       "      <td>1985</td>\n",
       "      <td>New Amer Library</td>\n",
       "    </tr>\n",
       "    <tr>\n",
       "      <th>8244</th>\n",
       "      <td>0451132378</td>\n",
       "      <td>Pet Sematary</td>\n",
       "      <td>Stephen King</td>\n",
       "      <td>1984</td>\n",
       "      <td>Signet Book</td>\n",
       "    </tr>\n",
       "    <tr>\n",
       "      <th>883</th>\n",
       "      <td>0743412273</td>\n",
       "      <td>Pet Sematary</td>\n",
       "      <td>Stephen King</td>\n",
       "      <td>2001</td>\n",
       "      <td>Pocket</td>\n",
       "    </tr>\n",
       "    <tr>\n",
       "      <th>14176</th>\n",
       "      <td>0385182449</td>\n",
       "      <td>Pet Sematary</td>\n",
       "      <td>Stephen King</td>\n",
       "      <td>1993</td>\n",
       "      <td>Doubleday Books</td>\n",
       "    </tr>\n",
       "    <tr>\n",
       "      <th>125</th>\n",
       "      <td>0451162072</td>\n",
       "      <td>Pet Sematary</td>\n",
       "      <td>Stephen King</td>\n",
       "      <td>1994</td>\n",
       "      <td>Signet Book</td>\n",
       "    </tr>\n",
       "    <tr>\n",
       "      <th>8950</th>\n",
       "      <td>0451157753</td>\n",
       "      <td>Pet Sematary</td>\n",
       "      <td>Stephen King</td>\n",
       "      <td>1984</td>\n",
       "      <td>Signet Book</td>\n",
       "    </tr>\n",
       "    <tr>\n",
       "      <th>11911</th>\n",
       "      <td>0395489318</td>\n",
       "      <td>The Fellowship of the Ring (The Lord of the Ri...</td>\n",
       "      <td>J. R. R. Tolkien</td>\n",
       "      <td>1988</td>\n",
       "      <td>Houghton Mifflin Company</td>\n",
       "    </tr>\n",
       "    <tr>\n",
       "      <th>5469</th>\n",
       "      <td>0618002227</td>\n",
       "      <td>The Fellowship of the Ring (The Lord of the Ri...</td>\n",
       "      <td>J. R. R. Tolkien</td>\n",
       "      <td>1999</td>\n",
       "      <td>Houghton Mifflin Company</td>\n",
       "    </tr>\n",
       "    <tr>\n",
       "      <th>17475</th>\n",
       "      <td>0618260269</td>\n",
       "      <td>The Fellowship of the Ring (The Lord of the Ri...</td>\n",
       "      <td>J. R. R. Tolkien</td>\n",
       "      <td>2002</td>\n",
       "      <td>Houghton Mifflin Company</td>\n",
       "    </tr>\n",
       "    <tr>\n",
       "      <th>6474</th>\n",
       "      <td>0618129030</td>\n",
       "      <td>The Fellowship of the Ring (The Lord of the Ri...</td>\n",
       "      <td>J. R. R. Tolkien</td>\n",
       "      <td>2001</td>\n",
       "      <td>Houghton Mifflin Company</td>\n",
       "    </tr>\n",
       "    <tr>\n",
       "      <th>848</th>\n",
       "      <td>0345339703</td>\n",
       "      <td>The Fellowship of the Ring (The Lord of the Ri...</td>\n",
       "      <td>J.R.R. TOLKIEN</td>\n",
       "      <td>1986</td>\n",
       "      <td>Del Rey</td>\n",
       "    </tr>\n",
       "    <tr>\n",
       "      <th>8497</th>\n",
       "      <td>0671701592</td>\n",
       "      <td>The Hitchhiker's Guide to the Galaxy</td>\n",
       "      <td>Douglas Adams</td>\n",
       "      <td>1990</td>\n",
       "      <td>Pocket</td>\n",
       "    </tr>\n",
       "    <tr>\n",
       "      <th>8830</th>\n",
       "      <td>0517542099</td>\n",
       "      <td>The Hitchhiker's Guide to the Galaxy</td>\n",
       "      <td>Douglas Adams</td>\n",
       "      <td>1989</td>\n",
       "      <td>Harmony</td>\n",
       "    </tr>\n",
       "    <tr>\n",
       "      <th>17080</th>\n",
       "      <td>0345418913</td>\n",
       "      <td>The Hitchhiker's Guide to the Galaxy</td>\n",
       "      <td>Douglas Adams</td>\n",
       "      <td>1997</td>\n",
       "      <td>Ballantine Books</td>\n",
       "    </tr>\n",
       "    <tr>\n",
       "      <th>481</th>\n",
       "      <td>0345391802</td>\n",
       "      <td>The Hitchhiker's Guide to the Galaxy</td>\n",
       "      <td>Douglas Adams</td>\n",
       "      <td>1995</td>\n",
       "      <td>Ballantine Books</td>\n",
       "    </tr>\n",
       "    <tr>\n",
       "      <th>14800</th>\n",
       "      <td>0671664964</td>\n",
       "      <td>The Hitchhiker's Guide to the Galaxy</td>\n",
       "      <td>Douglas Adams</td>\n",
       "      <td>1988</td>\n",
       "      <td>Pocket</td>\n",
       "    </tr>\n",
       "    <tr>\n",
       "      <th>6658</th>\n",
       "      <td>0671746065</td>\n",
       "      <td>The Hitchhiker's Guide to the Galaxy</td>\n",
       "      <td>Douglas Adams</td>\n",
       "      <td>1991</td>\n",
       "      <td>Pocket</td>\n",
       "    </tr>\n",
       "    <tr>\n",
       "      <th>87</th>\n",
       "      <td>0671461494</td>\n",
       "      <td>The Hitchhiker's Guide to the Galaxy</td>\n",
       "      <td>Douglas Adams</td>\n",
       "      <td>1982</td>\n",
       "      <td>Pocket</td>\n",
       "    </tr>\n",
       "  </tbody>\n",
       "</table>\n",
       "</div>"
      ],
      "text/plain": [
       "             ISBN  ...            Book-Publisher\n",
       "4650   1591820073  ...                  TokyoPop\n",
       "4649   1591821533  ...                  TokyoPop\n",
       "4648   1591822572  ...                  TokyoPop\n",
       "4647   1591822580  ...                  TokyoPop\n",
       "1528   0812533550  ...                 Tor Books\n",
       "499    0312853238  ...                 Tor Books\n",
       "1020   0765342294  ...           Starscape Books\n",
       "1168   0812550706  ...                 Tor Books\n",
       "6336   0451150244  ...               Signet Book\n",
       "9712   0451139755  ...          New Amer Library\n",
       "8244   0451132378  ...               Signet Book\n",
       "883    0743412273  ...                    Pocket\n",
       "14176  0385182449  ...           Doubleday Books\n",
       "125    0451162072  ...               Signet Book\n",
       "8950   0451157753  ...               Signet Book\n",
       "11911  0395489318  ...  Houghton Mifflin Company\n",
       "5469   0618002227  ...  Houghton Mifflin Company\n",
       "17475  0618260269  ...  Houghton Mifflin Company\n",
       "6474   0618129030  ...  Houghton Mifflin Company\n",
       "848    0345339703  ...                   Del Rey\n",
       "8497   0671701592  ...                    Pocket\n",
       "8830   0517542099  ...                   Harmony\n",
       "17080  0345418913  ...          Ballantine Books\n",
       "481    0345391802  ...          Ballantine Books\n",
       "14800  0671664964  ...                    Pocket\n",
       "6658   0671746065  ...                    Pocket\n",
       "87     0671461494  ...                    Pocket\n",
       "\n",
       "[27 rows x 5 columns]"
      ]
     },
     "execution_count": 131,
     "metadata": {},
     "output_type": "execute_result"
    }
   ],
   "source": [
    "books[books[\"Book-Title\"].isin(books_tp[\"Book-Title\"].head(5))].sort_values(\"Book-Title\")"
   ]
  },
  {
   "cell_type": "markdown",
   "id": "187176d0-78ff-4ff6-a702-0347e08485cc",
   "metadata": {},
   "source": [
    "### Book-Publisher\n",
    "String Fuzzy match for all text data "
   ]
  },
  {
   "cell_type": "code",
   "execution_count": 140,
   "id": "1934ecb0-1896-4916-b48c-da513c36c59e",
   "metadata": {},
   "outputs": [
    {
     "data": {
      "text/plain": [
       "<Axes: xlabel='Count', ylabel='Book-Publisher'>"
      ]
     },
     "execution_count": 140,
     "metadata": {},
     "output_type": "execute_result"
    },
    {
     "data": {
      "image/png": "[encoded data removed]",
      "text/plain": [
       "<Figure size 432x288 with 1 Axes>"
      ]
     },
     "metadata": {},
     "output_type": "display_data"
    }
   ],
   "source": [
    "books_publisher = books.groupby([\"Book-Publisher\"])[\"ISBN\"].count() \\\n",
    "    .sort_values(ascending = False).reset_index().rename(columns= {'ISBN':'Count'})\n",
    "\n",
    "sns.barplot(books_publisher.head(20), x = \"Count\", y = \"Book-Publisher\", orient = \"h\")"
   ]
  },
  {
   "cell_type": "code",
   "execution_count": 141,
   "id": "cdada892-bf57-4eb4-b19a-07ad03142c59",
   "metadata": {},
   "outputs": [
    {
     "data": {
      "text/plain": [
       "<Axes: xlabel='Count', ylabel='Book-Publisher'>"
      ]
     },
     "execution_count": 141,
     "metadata": {},
     "output_type": "execute_result"
    },
    {
     "data": {
      "image/png": "[encoded data removed]",
      "text/plain": [
       "<Figure size 432x288 with 1 Axes>"
      ]
     },
     "metadata": {},
     "output_type": "display_data"
    }
   ],
   "source": [
    "sns.barplot(books_publisher.tail(20), x = \"Count\", y = \"Book-Publisher\", orient = \"h\")"
   ]
  },
  {
   "cell_type": "markdown",
   "id": "5243bddd-711d-4c0c-ae92-b12ae864aeb1",
   "metadata": {},
   "source": [
    "## BX-Users"
   ]
  },
  {
   "cell_type": "code",
   "execution_count": 142,
   "id": "d3300361-03bc-4948-a0cb-397cbcdf192a",
   "metadata": {},
   "outputs": [
    {
     "data": {
      "text/plain": [
       "Index(['User-ID', 'User-City', 'User-State', 'User-Country', 'User-Age'], dtype='object')"
      ]
     },
     "execution_count": 142,
     "metadata": {},
     "output_type": "execute_result"
    }
   ],
   "source": [
    "users = pd.read_csv(path + \"/BX-Users.csv\")\n",
    "users.columns"
   ]
  },
  {
   "cell_type": "code",
   "execution_count": 69,
   "id": "25de09aa-5ed7-4a93-b5e3-079441adac68",
   "metadata": {},
   "outputs": [
    {
     "data": {
      "text/plain": [
       "(48299, 5)"
      ]
     },
     "execution_count": 69,
     "metadata": {},
     "output_type": "execute_result"
    }
   ],
   "source": [
    "users.shape"
   ]
  },
  {
   "cell_type": "code",
   "execution_count": 144,
   "id": "0200b460-0d8a-4c7a-9110-5ec6983cf445",
   "metadata": {},
   "outputs": [
    {
     "data": {
      "text/plain": [
       "User-ID          int64\n",
       "User-City       object\n",
       "User-State      object\n",
       "User-Country    object\n",
       "User-Age        object\n",
       "dtype: object"
      ]
     },
     "execution_count": 144,
     "metadata": {},
     "output_type": "execute_result"
    }
   ],
   "source": [
    "users.dtypes"
   ]
  },
  {
   "cell_type": "markdown",
   "id": "5c4fd4f8-92e2-42c3-8fd7-ae5652ad0654",
   "metadata": {},
   "source": [
    "## Initial Look \n",
    "Null values to deal with:\n",
    "- User-City: 61\n",
    "- User-Country: 669\n",
    "- User-Age: 18952 (39.2% of users)\n",
    "- User-State: 666\n",
    "\n",
    "Can see that User-State has empty strings:' '.\n",
    "\n",
    "Some values in columns have trailing \" to remove."
   ]
  },
  {
   "cell_type": "code",
   "execution_count": 148,
   "id": "fd7099cb-c9c3-4865-840e-cc4879b8c9c2",
   "metadata": {},
   "outputs": [
    {
     "data": {
      "text/plain": [
       "User-ID             0\n",
       "User-City          61\n",
       "User-State          0\n",
       "User-Country      669\n",
       "User-Age        18952\n",
       "dtype: int64"
      ]
     },
     "execution_count": 148,
     "metadata": {},
     "output_type": "execute_result"
    }
   ],
   "source": [
    "users.isna().sum()"
   ]
  },
  {
   "cell_type": "code",
   "execution_count": 174,
   "id": "55b190ff-027f-4fb6-aa88-a8333059c5a0",
   "metadata": {},
   "outputs": [
    {
     "data": {
      "text/html": [
       "<div>\n",
       "<style scoped>\n",
       "    .dataframe tbody tr th:only-of-type {\n",
       "        vertical-align: middle;\n",
       "    }\n",
       "\n",
       "    .dataframe tbody tr th {\n",
       "        vertical-align: top;\n",
       "    }\n",
       "\n",
       "    .dataframe thead th {\n",
       "        text-align: right;\n",
       "    }\n",
       "</style>\n",
       "<table border=\"1\" class=\"dataframe\">\n",
       "  <thead>\n",
       "    <tr style=\"text-align: right;\">\n",
       "      <th></th>\n",
       "      <th>User-ID</th>\n",
       "      <th>User-City</th>\n",
       "      <th>User-State</th>\n",
       "      <th>User-Country</th>\n",
       "      <th>User-Age</th>\n",
       "    </tr>\n",
       "  </thead>\n",
       "  <tbody>\n",
       "    <tr>\n",
       "      <th>385</th>\n",
       "      <td>2197</td>\n",
       "      <td>NaN</td>\n",
       "      <td>travelling</td>\n",
       "      <td>canada\"</td>\n",
       "      <td>26</td>\n",
       "    </tr>\n",
       "    <tr>\n",
       "      <th>616</th>\n",
       "      <td>3569</td>\n",
       "      <td>NaN</td>\n",
       "      <td>n/a</td>\n",
       "      <td>usa\"</td>\n",
       "      <td>NaN</td>\n",
       "    </tr>\n",
       "    <tr>\n",
       "      <th>731</th>\n",
       "      <td>4221</td>\n",
       "      <td>NaN</td>\n",
       "      <td>connecticut</td>\n",
       "      <td>usa\"</td>\n",
       "      <td>NaN</td>\n",
       "    </tr>\n",
       "    <tr>\n",
       "      <th>1904</th>\n",
       "      <td>11676</td>\n",
       "      <td>NaN</td>\n",
       "      <td>n/a</td>\n",
       "      <td>n/a\"</td>\n",
       "      <td>NaN</td>\n",
       "    </tr>\n",
       "    <tr>\n",
       "      <th>2107</th>\n",
       "      <td>12966</td>\n",
       "      <td>NaN</td>\n",
       "      <td>n/a</td>\n",
       "      <td>singapore\"</td>\n",
       "      <td>28</td>\n",
       "    </tr>\n",
       "  </tbody>\n",
       "</table>\n",
       "</div>"
      ],
      "text/plain": [
       "      User-ID User-City    User-State User-Country User-Age\n",
       "385      2197       NaN    travelling      canada\"       26\n",
       "616      3569       NaN           n/a         usa\"      NaN\n",
       "731      4221       NaN   connecticut         usa\"      NaN\n",
       "1904    11676       NaN           n/a         n/a\"      NaN\n",
       "2107    12966       NaN           n/a   singapore\"       28"
      ]
     },
     "execution_count": 174,
     "metadata": {},
     "output_type": "execute_result"
    }
   ],
   "source": [
    "users[users[\"User-City\"].isna()].head(5)"
   ]
  },
  {
   "cell_type": "code",
   "execution_count": 168,
   "id": "c3501337-c77c-4428-8024-a46750e327e8",
   "metadata": {
    "scrolled": true
   },
   "outputs": [
    {
     "data": {
      "text/plain": [
       "47963    True\n",
       "Name: User-State, dtype: bool"
      ]
     },
     "execution_count": 168,
     "metadata": {},
     "output_type": "execute_result"
    }
   ],
   "source": [
    "users[users[\"User-ID\"] == 277124][\"User-State\"] == ' '"
   ]
  },
  {
   "cell_type": "code",
   "execution_count": 175,
   "id": "f3ff68f9-88cb-4999-a256-06e2f43f05aa",
   "metadata": {},
   "outputs": [
    {
     "data": {
      "text/html": [
       "<div>\n",
       "<style scoped>\n",
       "    .dataframe tbody tr th:only-of-type {\n",
       "        vertical-align: middle;\n",
       "    }\n",
       "\n",
       "    .dataframe tbody tr th {\n",
       "        vertical-align: top;\n",
       "    }\n",
       "\n",
       "    .dataframe thead th {\n",
       "        text-align: right;\n",
       "    }\n",
       "</style>\n",
       "<table border=\"1\" class=\"dataframe\">\n",
       "  <thead>\n",
       "    <tr style=\"text-align: right;\">\n",
       "      <th></th>\n",
       "      <th>User-ID</th>\n",
       "      <th>User-City</th>\n",
       "      <th>User-State</th>\n",
       "      <th>User-Country</th>\n",
       "      <th>User-Age</th>\n",
       "    </tr>\n",
       "  </thead>\n",
       "  <tbody>\n",
       "    <tr>\n",
       "      <th>4</th>\n",
       "      <td>19</td>\n",
       "      <td>weston</td>\n",
       "      <td></td>\n",
       "      <td>NaN</td>\n",
       "      <td>14\"</td>\n",
       "    </tr>\n",
       "    <tr>\n",
       "      <th>133</th>\n",
       "      <td>777</td>\n",
       "      <td>portland</td>\n",
       "      <td></td>\n",
       "      <td>NaN</td>\n",
       "      <td>13\"</td>\n",
       "    </tr>\n",
       "    <tr>\n",
       "      <th>160</th>\n",
       "      <td>929</td>\n",
       "      <td>king of prussia</td>\n",
       "      <td></td>\n",
       "      <td>NaN</td>\n",
       "      <td>36\"</td>\n",
       "    </tr>\n",
       "    <tr>\n",
       "      <th>196</th>\n",
       "      <td>1118</td>\n",
       "      <td>cleveland</td>\n",
       "      <td></td>\n",
       "      <td>usa\"</td>\n",
       "      <td>NaN</td>\n",
       "    </tr>\n",
       "    <tr>\n",
       "      <th>198</th>\n",
       "      <td>1131</td>\n",
       "      <td>berkeley</td>\n",
       "      <td></td>\n",
       "      <td>NaN</td>\n",
       "      <td>22\"</td>\n",
       "    </tr>\n",
       "  </tbody>\n",
       "</table>\n",
       "</div>"
      ],
      "text/plain": [
       "     User-ID        User-City User-State User-Country User-Age\n",
       "4         19           weston                     NaN      14\"\n",
       "133      777         portland                     NaN      13\"\n",
       "160      929  king of prussia                     NaN      36\"\n",
       "196     1118        cleveland                    usa\"      NaN\n",
       "198     1131         berkeley                     NaN      22\""
      ]
     },
     "execution_count": 175,
     "metadata": {},
     "output_type": "execute_result"
    }
   ],
   "source": [
    "users[users[\"User-State\"] == \" \"].head(5)"
   ]
  },
  {
   "cell_type": "code",
   "execution_count": 172,
   "id": "05eae018-b787-4acc-ad12-24b65eca3cff",
   "metadata": {},
   "outputs": [
    {
     "data": {
      "text/plain": [
       "(666, 5)"
      ]
     },
     "execution_count": 172,
     "metadata": {},
     "output_type": "execute_result"
    }
   ],
   "source": [
    "users[users[\"User-State\"] == \" \"].shape"
   ]
  },
  {
   "cell_type": "code",
   "execution_count": 176,
   "id": "b51634b3-2e62-47d3-b5fa-7fadeb4dfdd4",
   "metadata": {},
   "outputs": [
    {
     "data": {
      "text/html": [
       "<div>\n",
       "<style scoped>\n",
       "    .dataframe tbody tr th:only-of-type {\n",
       "        vertical-align: middle;\n",
       "    }\n",
       "\n",
       "    .dataframe tbody tr th {\n",
       "        vertical-align: top;\n",
       "    }\n",
       "\n",
       "    .dataframe thead th {\n",
       "        text-align: right;\n",
       "    }\n",
       "</style>\n",
       "<table border=\"1\" class=\"dataframe\">\n",
       "  <thead>\n",
       "    <tr style=\"text-align: right;\">\n",
       "      <th></th>\n",
       "      <th>User-ID</th>\n",
       "      <th>User-City</th>\n",
       "      <th>User-State</th>\n",
       "      <th>User-Country</th>\n",
       "      <th>User-Age</th>\n",
       "    </tr>\n",
       "  </thead>\n",
       "  <tbody>\n",
       "    <tr>\n",
       "      <th>4</th>\n",
       "      <td>19</td>\n",
       "      <td>weston</td>\n",
       "      <td></td>\n",
       "      <td>NaN</td>\n",
       "      <td>14\"</td>\n",
       "    </tr>\n",
       "    <tr>\n",
       "      <th>133</th>\n",
       "      <td>777</td>\n",
       "      <td>portland</td>\n",
       "      <td></td>\n",
       "      <td>NaN</td>\n",
       "      <td>13\"</td>\n",
       "    </tr>\n",
       "    <tr>\n",
       "      <th>160</th>\n",
       "      <td>929</td>\n",
       "      <td>king of prussia</td>\n",
       "      <td></td>\n",
       "      <td>NaN</td>\n",
       "      <td>36\"</td>\n",
       "    </tr>\n",
       "    <tr>\n",
       "      <th>198</th>\n",
       "      <td>1131</td>\n",
       "      <td>berkeley</td>\n",
       "      <td></td>\n",
       "      <td>NaN</td>\n",
       "      <td>22\"</td>\n",
       "    </tr>\n",
       "    <tr>\n",
       "      <th>284</th>\n",
       "      <td>1589</td>\n",
       "      <td>clio</td>\n",
       "      <td>michigan</td>\n",
       "      <td>NaN</td>\n",
       "      <td>50\"</td>\n",
       "    </tr>\n",
       "  </tbody>\n",
       "</table>\n",
       "</div>"
      ],
      "text/plain": [
       "     User-ID        User-City User-State User-Country User-Age\n",
       "4         19           weston                     NaN      14\"\n",
       "133      777         portland                     NaN      13\"\n",
       "160      929  king of prussia                     NaN      36\"\n",
       "198     1131         berkeley                     NaN      22\"\n",
       "284     1589             clio   michigan          NaN      50\""
      ]
     },
     "execution_count": 176,
     "metadata": {},
     "output_type": "execute_result"
    }
   ],
   "source": [
    "users[users[\"User-Country\"].isna()].head(5)"
   ]
  },
  {
   "cell_type": "code",
   "execution_count": 177,
   "id": "d98f0d4d-6b18-46fb-8a84-434a6825ac50",
   "metadata": {},
   "outputs": [
    {
     "data": {
      "text/html": [
       "<div>\n",
       "<style scoped>\n",
       "    .dataframe tbody tr th:only-of-type {\n",
       "        vertical-align: middle;\n",
       "    }\n",
       "\n",
       "    .dataframe tbody tr th {\n",
       "        vertical-align: top;\n",
       "    }\n",
       "\n",
       "    .dataframe thead th {\n",
       "        text-align: right;\n",
       "    }\n",
       "</style>\n",
       "<table border=\"1\" class=\"dataframe\">\n",
       "  <thead>\n",
       "    <tr style=\"text-align: right;\">\n",
       "      <th></th>\n",
       "      <th>User-ID</th>\n",
       "      <th>User-City</th>\n",
       "      <th>User-State</th>\n",
       "      <th>User-Country</th>\n",
       "      <th>User-Age</th>\n",
       "    </tr>\n",
       "  </thead>\n",
       "  <tbody>\n",
       "    <tr>\n",
       "      <th>0</th>\n",
       "      <td>8</td>\n",
       "      <td>timmins</td>\n",
       "      <td>ontario</td>\n",
       "      <td>canada\"</td>\n",
       "      <td>NaN</td>\n",
       "    </tr>\n",
       "    <tr>\n",
       "      <th>1</th>\n",
       "      <td>9</td>\n",
       "      <td>germantown</td>\n",
       "      <td>tennessee</td>\n",
       "      <td>usa\"</td>\n",
       "      <td>NaN</td>\n",
       "    </tr>\n",
       "    <tr>\n",
       "      <th>2</th>\n",
       "      <td>16</td>\n",
       "      <td>albuquerque</td>\n",
       "      <td>new mexico</td>\n",
       "      <td>usa\"</td>\n",
       "      <td>NaN</td>\n",
       "    </tr>\n",
       "    <tr>\n",
       "      <th>3</th>\n",
       "      <td>17</td>\n",
       "      <td>chesapeake</td>\n",
       "      <td>virginia</td>\n",
       "      <td>usa\"</td>\n",
       "      <td>NaN</td>\n",
       "    </tr>\n",
       "    <tr>\n",
       "      <th>5</th>\n",
       "      <td>26</td>\n",
       "      <td>bellevue</td>\n",
       "      <td>washington</td>\n",
       "      <td>usa\"</td>\n",
       "      <td>NaN</td>\n",
       "    </tr>\n",
       "  </tbody>\n",
       "</table>\n",
       "</div>"
      ],
      "text/plain": [
       "   User-ID    User-City   User-State User-Country User-Age\n",
       "0        8      timmins      ontario      canada\"      NaN\n",
       "1        9   germantown    tennessee         usa\"      NaN\n",
       "2       16  albuquerque   new mexico         usa\"      NaN\n",
       "3       17   chesapeake     virginia         usa\"      NaN\n",
       "5       26     bellevue   washington         usa\"      NaN"
      ]
     },
     "execution_count": 177,
     "metadata": {},
     "output_type": "execute_result"
    }
   ],
   "source": [
    "users[users[\"User-Age\"].isna()].head(5)"
   ]
  },
  {
   "cell_type": "markdown",
   "id": "cd58f824-b99a-445a-bff2-5e27f78a659f",
   "metadata": {},
   "source": [
    "### Remove trailing \":"
   ]
  },
  {
   "cell_type": "code",
   "execution_count": 178,
   "id": "13908684-71ee-4e70-af3c-c5645df0e145",
   "metadata": {},
   "outputs": [
    {
     "data": {
      "text/plain": [
       "0            canada\n",
       "1               usa\n",
       "2               usa\n",
       "3               usa\n",
       "4               NaN\n",
       "            ...    \n",
       "48294        canada\n",
       "48295        canada\n",
       "48296           usa\n",
       "48297     australia\n",
       "48298           usa\n",
       "Name: User-Country, Length: 48299, dtype: object"
      ]
     },
     "execution_count": 178,
     "metadata": {},
     "output_type": "execute_result"
    }
   ],
   "source": [
    "users[\"User-Country\"].str.rstrip('\"')"
   ]
  },
  {
   "cell_type": "code",
   "execution_count": 179,
   "id": "7ea6f51e-d7cf-4052-a1e8-72ae6d190d30",
   "metadata": {},
   "outputs": [
    {
     "data": {
      "text/plain": [
       "0            canada\"\n",
       "1               usa\"\n",
       "2               usa\"\n",
       "3               usa\"\n",
       "4                NaN\n",
       "            ...     \n",
       "48294        canada\"\n",
       "48295        canada\"\n",
       "48296           usa\"\n",
       "48297     australia\"\n",
       "48298           usa\"\n",
       "Name: User-Country, Length: 48299, dtype: object"
      ]
     },
     "execution_count": 179,
     "metadata": {},
     "output_type": "execute_result"
    }
   ],
   "source": [
    "users[\"User-Country\"]"
   ]
  },
  {
   "cell_type": "code",
   "execution_count": 180,
   "id": "12942f68-46db-4a42-a514-2ece4c26c026",
   "metadata": {},
   "outputs": [],
   "source": [
    "users[\"User-City\"] = users[\"User-City\"].str.rstrip('\"')\n",
    "users[\"User-State\"] = users[\"User-State\"].str.rstrip('\"')\n",
    "users[\"User-Country\"] = users[\"User-Country\"].str.rstrip('\"')\n",
    "users[\"User-Age\"] = users[\"User-Age\"].str.rstrip('\"')"
   ]
  },
  {
   "cell_type": "code",
   "execution_count": 181,
   "id": "d28a9029-1258-4283-ade7-a5eac2e8ab5e",
   "metadata": {},
   "outputs": [
    {
     "data": {
      "text/html": [
       "<div>\n",
       "<style scoped>\n",
       "    .dataframe tbody tr th:only-of-type {\n",
       "        vertical-align: middle;\n",
       "    }\n",
       "\n",
       "    .dataframe tbody tr th {\n",
       "        vertical-align: top;\n",
       "    }\n",
       "\n",
       "    .dataframe thead th {\n",
       "        text-align: right;\n",
       "    }\n",
       "</style>\n",
       "<table border=\"1\" class=\"dataframe\">\n",
       "  <thead>\n",
       "    <tr style=\"text-align: right;\">\n",
       "      <th></th>\n",
       "      <th>User-ID</th>\n",
       "      <th>User-City</th>\n",
       "      <th>User-State</th>\n",
       "      <th>User-Country</th>\n",
       "      <th>User-Age</th>\n",
       "    </tr>\n",
       "  </thead>\n",
       "  <tbody>\n",
       "    <tr>\n",
       "      <th>0</th>\n",
       "      <td>8</td>\n",
       "      <td>timmins</td>\n",
       "      <td>ontario</td>\n",
       "      <td>canada</td>\n",
       "      <td>NaN</td>\n",
       "    </tr>\n",
       "    <tr>\n",
       "      <th>1</th>\n",
       "      <td>9</td>\n",
       "      <td>germantown</td>\n",
       "      <td>tennessee</td>\n",
       "      <td>usa</td>\n",
       "      <td>NaN</td>\n",
       "    </tr>\n",
       "    <tr>\n",
       "      <th>2</th>\n",
       "      <td>16</td>\n",
       "      <td>albuquerque</td>\n",
       "      <td>new mexico</td>\n",
       "      <td>usa</td>\n",
       "      <td>NaN</td>\n",
       "    </tr>\n",
       "    <tr>\n",
       "      <th>3</th>\n",
       "      <td>17</td>\n",
       "      <td>chesapeake</td>\n",
       "      <td>virginia</td>\n",
       "      <td>usa</td>\n",
       "      <td>NaN</td>\n",
       "    </tr>\n",
       "    <tr>\n",
       "      <th>4</th>\n",
       "      <td>19</td>\n",
       "      <td>weston</td>\n",
       "      <td></td>\n",
       "      <td>NaN</td>\n",
       "      <td>14</td>\n",
       "    </tr>\n",
       "    <tr>\n",
       "      <th>5</th>\n",
       "      <td>26</td>\n",
       "      <td>bellevue</td>\n",
       "      <td>washington</td>\n",
       "      <td>usa</td>\n",
       "      <td>NaN</td>\n",
       "    </tr>\n",
       "    <tr>\n",
       "      <th>6</th>\n",
       "      <td>32</td>\n",
       "      <td>portland</td>\n",
       "      <td>oregon</td>\n",
       "      <td>usa</td>\n",
       "      <td>NaN</td>\n",
       "    </tr>\n",
       "    <tr>\n",
       "      <th>7</th>\n",
       "      <td>39</td>\n",
       "      <td>cary</td>\n",
       "      <td>north carolina</td>\n",
       "      <td>usa</td>\n",
       "      <td>NaN</td>\n",
       "    </tr>\n",
       "    <tr>\n",
       "      <th>8</th>\n",
       "      <td>42</td>\n",
       "      <td>appleton</td>\n",
       "      <td>wisconsin</td>\n",
       "      <td>usa</td>\n",
       "      <td>17</td>\n",
       "    </tr>\n",
       "    <tr>\n",
       "      <th>9</th>\n",
       "      <td>44</td>\n",
       "      <td>black mountain</td>\n",
       "      <td>north carolina</td>\n",
       "      <td>usa</td>\n",
       "      <td>51</td>\n",
       "    </tr>\n",
       "    <tr>\n",
       "      <th>10</th>\n",
       "      <td>51</td>\n",
       "      <td>renton</td>\n",
       "      <td>washington</td>\n",
       "      <td>usa</td>\n",
       "      <td>34</td>\n",
       "    </tr>\n",
       "    <tr>\n",
       "      <th>11</th>\n",
       "      <td>53</td>\n",
       "      <td>tacoma</td>\n",
       "      <td>washington</td>\n",
       "      <td>usa</td>\n",
       "      <td>NaN</td>\n",
       "    </tr>\n",
       "    <tr>\n",
       "      <th>12</th>\n",
       "      <td>56</td>\n",
       "      <td>cheyenne</td>\n",
       "      <td>wyoming</td>\n",
       "      <td>usa</td>\n",
       "      <td>24</td>\n",
       "    </tr>\n",
       "    <tr>\n",
       "      <th>13</th>\n",
       "      <td>69</td>\n",
       "      <td>vancouver</td>\n",
       "      <td>british columbia</td>\n",
       "      <td>canada</td>\n",
       "      <td>NaN</td>\n",
       "    </tr>\n",
       "    <tr>\n",
       "      <th>14</th>\n",
       "      <td>73</td>\n",
       "      <td>wentzville</td>\n",
       "      <td>missouri</td>\n",
       "      <td>usa</td>\n",
       "      <td>NaN</td>\n",
       "    </tr>\n",
       "    <tr>\n",
       "      <th>15</th>\n",
       "      <td>75</td>\n",
       "      <td>long beach</td>\n",
       "      <td>california</td>\n",
       "      <td>usa</td>\n",
       "      <td>37</td>\n",
       "    </tr>\n",
       "    <tr>\n",
       "      <th>16</th>\n",
       "      <td>78</td>\n",
       "      <td>oakland</td>\n",
       "      <td>california</td>\n",
       "      <td>usa</td>\n",
       "      <td>18</td>\n",
       "    </tr>\n",
       "    <tr>\n",
       "      <th>17</th>\n",
       "      <td>81</td>\n",
       "      <td>santa cruz</td>\n",
       "      <td>california</td>\n",
       "      <td>usa</td>\n",
       "      <td>NaN</td>\n",
       "    </tr>\n",
       "    <tr>\n",
       "      <th>18</th>\n",
       "      <td>83</td>\n",
       "      <td>eugene</td>\n",
       "      <td>oregon</td>\n",
       "      <td>usa</td>\n",
       "      <td>NaN</td>\n",
       "    </tr>\n",
       "    <tr>\n",
       "      <th>19</th>\n",
       "      <td>85</td>\n",
       "      <td>london</td>\n",
       "      <td>england</td>\n",
       "      <td>united kingdom</td>\n",
       "      <td>41</td>\n",
       "    </tr>\n",
       "  </tbody>\n",
       "</table>\n",
       "</div>"
      ],
      "text/plain": [
       "    User-ID       User-City         User-State     User-Country User-Age\n",
       "0         8         timmins            ontario           canada      NaN\n",
       "1         9      germantown          tennessee              usa      NaN\n",
       "2        16     albuquerque         new mexico              usa      NaN\n",
       "3        17      chesapeake           virginia              usa      NaN\n",
       "4        19          weston                                 NaN       14\n",
       "5        26        bellevue         washington              usa      NaN\n",
       "6        32        portland             oregon              usa      NaN\n",
       "7        39            cary     north carolina              usa      NaN\n",
       "8        42        appleton          wisconsin              usa       17\n",
       "9        44  black mountain     north carolina              usa       51\n",
       "10       51          renton         washington              usa       34\n",
       "11       53          tacoma         washington              usa      NaN\n",
       "12       56        cheyenne            wyoming              usa       24\n",
       "13       69       vancouver   british columbia           canada      NaN\n",
       "14       73      wentzville           missouri              usa      NaN\n",
       "15       75      long beach         california              usa       37\n",
       "16       78         oakland         california              usa       18\n",
       "17       81      santa cruz         california              usa      NaN\n",
       "18       83          eugene             oregon              usa      NaN\n",
       "19       85          london            england   united kingdom       41"
      ]
     },
     "execution_count": 181,
     "metadata": {},
     "output_type": "execute_result"
    }
   ],
   "source": [
    "users.head(20)"
   ]
  },
  {
   "cell_type": "markdown",
   "id": "73e2fc4f-3fa8-4abb-8d14-790e9e5acc76",
   "metadata": {},
   "source": [
    "## User-ID\n",
    "No duplicates"
   ]
  },
  {
   "cell_type": "code",
   "execution_count": 184,
   "id": "34634734-df20-481a-bf24-06740b9d11af",
   "metadata": {},
   "outputs": [
    {
     "data": {
      "text/html": [
       "<div>\n",
       "<style scoped>\n",
       "    .dataframe tbody tr th:only-of-type {\n",
       "        vertical-align: middle;\n",
       "    }\n",
       "\n",
       "    .dataframe tbody tr th {\n",
       "        vertical-align: top;\n",
       "    }\n",
       "\n",
       "    .dataframe thead th {\n",
       "        text-align: right;\n",
       "    }\n",
       "</style>\n",
       "<table border=\"1\" class=\"dataframe\">\n",
       "  <thead>\n",
       "    <tr style=\"text-align: right;\">\n",
       "      <th></th>\n",
       "      <th>User-ID</th>\n",
       "      <th>User-City</th>\n",
       "      <th>User-State</th>\n",
       "      <th>User-Country</th>\n",
       "      <th>User-Age</th>\n",
       "    </tr>\n",
       "  </thead>\n",
       "  <tbody>\n",
       "  </tbody>\n",
       "</table>\n",
       "</div>"
      ],
      "text/plain": [
       "Empty DataFrame\n",
       "Columns: [User-ID, User-City, User-State, User-Country, User-Age]\n",
       "Index: []"
      ]
     },
     "execution_count": 184,
     "metadata": {},
     "output_type": "execute_result"
    }
   ],
   "source": [
    "users[users[\"User-ID\"].duplicated()]"
   ]
  },
  {
   "cell_type": "markdown",
   "id": "75a244e5-b18e-4fcc-9ba4-afb38cf0dc56",
   "metadata": {},
   "source": [
    "## User-City"
   ]
  },
  {
   "cell_type": "code",
   "execution_count": 188,
   "id": "9b14ed27-86e1-4683-94f7-1dab1dc7b357",
   "metadata": {},
   "outputs": [
    {
     "data": {
      "text/plain": [
       "<Axes: xlabel='Count', ylabel='User-City'>"
      ]
     },
     "execution_count": 188,
     "metadata": {},
     "output_type": "execute_result"
    },
    {
     "data": {
      "image/png": "[encoded data removed]",
      "text/plain": [
       "<Figure size 432x288 with 1 Axes>"
      ]
     },
     "metadata": {},
     "output_type": "display_data"
    }
   ],
   "source": [
    "users_city = users.groupby([\"User-City\"])[\"User-ID\"].count() \\\n",
    "    .sort_values(ascending = False).reset_index().rename(columns= {'User-ID':'Count'})\n",
    "\n",
    "sns.barplot(users_city.head(20), x = \"Count\", y = \"User-City\", orient = \"h\")"
   ]
  },
  {
   "cell_type": "code",
   "execution_count": 189,
   "id": "35271c38-f557-4574-8a95-da962bc4a981",
   "metadata": {},
   "outputs": [
    {
     "data": {
      "text/plain": [
       "<Axes: xlabel='Count', ylabel='User-City'>"
      ]
     },
     "execution_count": 189,
     "metadata": {},
     "output_type": "execute_result"
    },
    {
     "data": {
      "image/png": "[encoded data removed]",
      "text/plain": [
       "<Figure size 432x288 with 1 Axes>"
      ]
     },
     "metadata": {},
     "output_type": "display_data"
    }
   ],
   "source": [
    "sns.barplot(users_city.tail(20), x = \"Count\", y = \"User-City\", orient = \"h\")"
   ]
  },
  {
   "cell_type": "markdown",
   "id": "340ef773-9237-4454-b2bd-53ef6ff8bcda",
   "metadata": {},
   "source": [
    "## User-State"
   ]
  },
  {
   "cell_type": "code",
   "execution_count": 206,
   "id": "cffd83bb-a7ff-4770-b2ff-c3b92204978b",
   "metadata": {},
   "outputs": [
    {
     "data": {
      "text/plain": [
       "<Axes: xlabel='Count', ylabel='User-State'>"
      ]
     },
     "execution_count": 206,
     "metadata": {},
     "output_type": "execute_result"
    },
    {
     "data": {
      "image/png": "[encoded data removed]",
      "text/plain": [
       "<Figure size 432x288 with 1 Axes>"
      ]
     },
     "metadata": {},
     "output_type": "display_data"
    }
   ],
   "source": [
    "users_state = users.groupby([\"User-State\"])[\"User-ID\"].count() \\\n",
    "    .sort_values(ascending = False).reset_index().rename(columns= {'User-ID':'Count'})\n",
    "\n",
    "sns.barplot(users_state.head(20), x = \"Count\", y = \"User-State\", orient = \"h\")"
   ]
  },
  {
   "cell_type": "code",
   "execution_count": 207,
   "id": "ba7ff053-a023-4d45-8be6-abdba3e48b17",
   "metadata": {},
   "outputs": [
    {
     "data": {
      "text/plain": [
       "<Axes: xlabel='Count', ylabel='User-State'>"
      ]
     },
     "execution_count": 207,
     "metadata": {},
     "output_type": "execute_result"
    },
    {
     "data": {
      "image/png": "[encoded data removed]",
      "text/plain": [
       "<Figure size 432x288 with 1 Axes>"
      ]
     },
     "metadata": {},
     "output_type": "display_data"
    }
   ],
   "source": [
    "sns.barplot(users_state.tail(20), x = \"Count\", y = \"User-State\", orient = \"h\")"
   ]
  },
  {
   "cell_type": "markdown",
   "id": "ce6ff5c1-1cd3-40e7-98a2-7c75b640700b",
   "metadata": {},
   "source": [
    "## User-Country"
   ]
  },
  {
   "cell_type": "code",
   "execution_count": 208,
   "id": "3a69d25e-260d-4905-a069-8db2ec06a9a8",
   "metadata": {},
   "outputs": [
    {
     "data": {
      "text/plain": [
       "<Axes: xlabel='Count', ylabel='User-Country'>"
      ]
     },
     "execution_count": 208,
     "metadata": {},
     "output_type": "execute_result"
    },
    {
     "data": {
      "image/png": "[encoded data removed]",
      "text/plain": [
       "<Figure size 432x288 with 1 Axes>"
      ]
     },
     "metadata": {},
     "output_type": "display_data"
    }
   ],
   "source": [
    "users_country = users.groupby([\"User-Country\"])[\"User-ID\"].count() \\\n",
    "    .sort_values(ascending = False).reset_index().rename(columns= {'User-ID':'Count'})\n",
    "\n",
    "sns.barplot(users_city.head(20), x = \"Count\", y = \"User-Country\", orient = \"h\")"
   ]
  },
  {
   "cell_type": "code",
   "execution_count": 212,
   "id": "94804728-a6df-4cb9-b184-60e0b56e0e0b",
   "metadata": {},
   "outputs": [
    {
     "data": {
      "text/plain": [
       "<Axes: xlabel='Count', ylabel='User-Country'>"
      ]
     },
     "execution_count": 212,
     "metadata": {},
     "output_type": "execute_result"
    },
    {
     "data": {
      "image/png": "[encoded data removed]",
      "text/plain": [
       "<Figure size 432x288 with 1 Axes>"
      ]
     },
     "metadata": {},
     "output_type": "display_data"
    }
   ],
   "source": [
    "sns.barplot(users_country.tail(20), x = \"Count\", y = \"User-Country\", orient = \"h\")"
   ]
  },
  {
   "cell_type": "markdown",
   "id": "70c5a07e-0b6f-4048-8d2c-62c3d3f5353e",
   "metadata": {},
   "source": [
    "## User-Age\n",
    "- Ages that are NaN set to -1 and removed for analysis.\n",
    "- Impute mean, based on other features.\n",
    "- Ages above ~90 outliers.\n",
    "- Average age is 36.2."
   ]
  },
  {
   "cell_type": "code",
   "execution_count": 215,
   "id": "3ada1bbd-5674-43e4-bf7f-0546ba863f44",
   "metadata": {},
   "outputs": [
    {
     "data": {
      "text/plain": [
       "<Axes: xlabel='Count', ylabel='User-Age'>"
      ]
     },
     "execution_count": 215,
     "metadata": {},
     "output_type": "execute_result"
    },
    {
     "data": {
      "image/png": "[encoded data removed]",
      "text/plain": [
       "<Figure size 432x288 with 1 Axes>"
      ]
     },
     "metadata": {},
     "output_type": "display_data"
    }
   ],
   "source": [
    "users_age = users.groupby([\"User-Age\"])[\"User-ID\"].count() \\\n",
    "    .sort_values(ascending = False).reset_index().rename(columns= {'User-ID':'Count'})\n",
    "\n",
    "sns.barplot(users_age.head(30), x = \"Count\", y = \"User-Age\", orient = \"h\")"
   ]
  },
  {
   "cell_type": "code",
   "execution_count": 218,
   "id": "19d5086b-68ce-4101-b32d-70ce05ec7f8b",
   "metadata": {},
   "outputs": [
    {
     "data": {
      "text/plain": [
       "<Axes: xlabel='Count', ylabel='User-Age'>"
      ]
     },
     "execution_count": 218,
     "metadata": {},
     "output_type": "execute_result"
    },
    {
     "data": {
      "image/png": "[encoded data removed]",
      "text/plain": [
       "<Figure size 432x288 with 1 Axes>"
      ]
     },
     "metadata": {},
     "output_type": "display_data"
    }
   ],
   "source": [
    "sns.barplot(users_age.tail(20), x = \"Count\", y = \"User-Age\", orient = \"h\")"
   ]
  },
  {
   "cell_type": "code",
   "execution_count": 241,
   "id": "30db7244-7fe8-414f-89d4-1c158e50905d",
   "metadata": {},
   "outputs": [],
   "source": [
    "users[\"User-Age\"] = users[\"User-Age\"].fillna(-1).astype(int)"
   ]
  },
  {
   "cell_type": "code",
   "execution_count": 242,
   "id": "567f1092-e924-418b-b032-01b65649116d",
   "metadata": {},
   "outputs": [
    {
     "name": "stderr",
     "output_type": "stream",
     "text": [
      "/Users/caseyhaseloff/anaconda3/lib/python3.11/site-packages/seaborn/_oldcore.py:1119: FutureWarning: use_inf_as_na option is deprecated and will be removed in a future version. Convert inf values to NaN before operating instead.\n",
      "  with pd.option_context('mode.use_inf_as_na', True):\n"
     ]
    },
    {
     "data": {
      "text/plain": [
       "<Axes: xlabel='User-Age', ylabel='Count'>"
      ]
     },
     "execution_count": 242,
     "metadata": {},
     "output_type": "execute_result"
    },
    {
     "data": {
      "image/png": "[encoded data removed]",
      "text/plain": [
       "<Figure size 432x288 with 1 Axes>"
      ]
     },
     "metadata": {},
     "output_type": "display_data"
    }
   ],
   "source": [
    "sns.histplot(users, x = \"User-Age\")"
   ]
  },
  {
   "cell_type": "code",
   "execution_count": 244,
   "id": "62446297-b8b1-498d-82fa-785971a4f477",
   "metadata": {},
   "outputs": [],
   "source": [
    "users_age = users[users[\"User-Age\"] != -1]"
   ]
  },
  {
   "cell_type": "code",
   "execution_count": 246,
   "id": "07110eab-0e27-43a3-ba5a-115e1043ad1e",
   "metadata": {},
   "outputs": [
    {
     "data": {
      "text/html": [
       "<div>\n",
       "<style scoped>\n",
       "    .dataframe tbody tr th:only-of-type {\n",
       "        vertical-align: middle;\n",
       "    }\n",
       "\n",
       "    .dataframe tbody tr th {\n",
       "        vertical-align: top;\n",
       "    }\n",
       "\n",
       "    .dataframe thead th {\n",
       "        text-align: right;\n",
       "    }\n",
       "</style>\n",
       "<table border=\"1\" class=\"dataframe\">\n",
       "  <thead>\n",
       "    <tr style=\"text-align: right;\">\n",
       "      <th></th>\n",
       "      <th>User-ID</th>\n",
       "      <th>User-Age</th>\n",
       "    </tr>\n",
       "  </thead>\n",
       "  <tbody>\n",
       "    <tr>\n",
       "      <th>count</th>\n",
       "      <td>29347.000000</td>\n",
       "      <td>29347.000000</td>\n",
       "    </tr>\n",
       "    <tr>\n",
       "      <th>mean</th>\n",
       "      <td>139454.265751</td>\n",
       "      <td>36.204178</td>\n",
       "    </tr>\n",
       "    <tr>\n",
       "      <th>std</th>\n",
       "      <td>80448.399162</td>\n",
       "      <td>14.681020</td>\n",
       "    </tr>\n",
       "    <tr>\n",
       "      <th>min</th>\n",
       "      <td>19.000000</td>\n",
       "      <td>0.000000</td>\n",
       "    </tr>\n",
       "    <tr>\n",
       "      <th>25%</th>\n",
       "      <td>69601.000000</td>\n",
       "      <td>26.000000</td>\n",
       "    </tr>\n",
       "    <tr>\n",
       "      <th>50%</th>\n",
       "      <td>138514.000000</td>\n",
       "      <td>34.000000</td>\n",
       "    </tr>\n",
       "    <tr>\n",
       "      <th>75%</th>\n",
       "      <td>209461.000000</td>\n",
       "      <td>45.000000</td>\n",
       "    </tr>\n",
       "    <tr>\n",
       "      <th>max</th>\n",
       "      <td>278852.000000</td>\n",
       "      <td>244.000000</td>\n",
       "    </tr>\n",
       "  </tbody>\n",
       "</table>\n",
       "</div>"
      ],
      "text/plain": [
       "             User-ID      User-Age\n",
       "count   29347.000000  29347.000000\n",
       "mean   139454.265751     36.204178\n",
       "std     80448.399162     14.681020\n",
       "min        19.000000      0.000000\n",
       "25%     69601.000000     26.000000\n",
       "50%    138514.000000     34.000000\n",
       "75%    209461.000000     45.000000\n",
       "max    278852.000000    244.000000"
      ]
     },
     "execution_count": 246,
     "metadata": {},
     "output_type": "execute_result"
    }
   ],
   "source": [
    "users_age.describe()"
   ]
  },
  {
   "cell_type": "code",
   "execution_count": 247,
   "id": "adb8c496-d169-4bac-a2f7-440958b57d5d",
   "metadata": {},
   "outputs": [
    {
     "data": {
      "text/plain": [
       "<Axes: xlabel='User-Age'>"
      ]
     },
     "execution_count": 247,
     "metadata": {},
     "output_type": "execute_result"
    },
    {
     "data": {
      "image/png": "[encoded data removed]",
      "text/plain": [
       "<Figure size 432x288 with 1 Axes>"
      ]
     },
     "metadata": {},
     "output_type": "display_data"
    }
   ],
   "source": [
    "sns.boxplot(users, x = \"User-Age\")"
   ]
  },
  {
   "cell_type": "code",
   "execution_count": 248,
   "id": "78a354bb-35ad-4beb-9b92-4798cc8e1651",
   "metadata": {},
   "outputs": [
    {
     "name": "stderr",
     "output_type": "stream",
     "text": [
      "/Users/caseyhaseloff/anaconda3/lib/python3.11/site-packages/seaborn/_oldcore.py:1119: FutureWarning: use_inf_as_na option is deprecated and will be removed in a future version. Convert inf values to NaN before operating instead.\n",
      "  with pd.option_context('mode.use_inf_as_na', True):\n"
     ]
    },
    {
     "data": {
      "text/plain": [
       "<Axes: xlabel='User-Age', ylabel='Count'>"
      ]
     },
     "execution_count": 248,
     "metadata": {},
     "output_type": "execute_result"
    },
    {
     "data": {
      "image/png": "[encoded data removed]",
      "text/plain": [
       "<Figure size 432x288 with 1 Axes>"
      ]
     },
     "metadata": {},
     "output_type": "display_data"
    }
   ],
   "source": [
    "sns.histplot(users[users[\"User-Age\"] > 95], x = \"User-Age\")"
   ]
  },
  {
   "cell_type": "code",
   "execution_count": null,
   "id": "0d6dd197-f2a1-4ffd-8099-e5efc27c88bc",
   "metadata": {},
   "outputs": [],
   "source": []
  },
  {
   "cell_type": "code",
   "execution_count": null,
   "id": "2181a295-7d57-4142-8e9c-cb327e67cf68",
   "metadata": {},
   "outputs": [],
   "source": []
  },
  {
   "cell_type": "code",
   "execution_count": null,
   "id": "bc0e33f6-2c90-4ad1-8fc3-a53b198eeb91",
   "metadata": {},
   "outputs": [],
   "source": []
  },
  {
   "cell_type": "markdown",
   "id": "6a138f04-6fc8-4f6a-affe-f095d209386a",
   "metadata": {},
   "source": [
    "## BX-ratings"
   ]
  },
  {
   "cell_type": "code",
   "execution_count": 81,
   "id": "e2060459-b3a5-4041-b879-c14132fc0b92",
   "metadata": {},
   "outputs": [
    {
     "data": {
      "text/plain": [
       "Index(['User-ID', 'ISBN', 'Book-Rating'], dtype='object')"
      ]
     },
     "execution_count": 81,
     "metadata": {},
     "output_type": "execute_result"
    }
   ],
   "source": [
    "ratings = pd.read_csv(path + \"/BX-Ratings.csv\")\n",
    "ratings.columns"
   ]
  },
  {
   "cell_type": "code",
   "execution_count": null,
   "id": "e5210218-ee54-4448-b628-3693bd76ca25",
   "metadata": {},
   "outputs": [],
   "source": []
  },
  {
   "cell_type": "code",
   "execution_count": null,
   "id": "85d6e820-2c00-475d-aef1-eb412e1046cd",
   "metadata": {},
   "outputs": [],
   "source": []
  }
 ],
 "metadata": {
  "kernelspec": {
   "display_name": "Python 3 (Spyder)",
   "language": "python3",
   "name": "python3"
  },
  "language_info": {
   "codemirror_mode": {
    "name": "ipython",
    "version": 3
   },
   "file_extension": ".py",
   "mimetype": "text/x-python",
   "name": "python",
   "nbconvert_exporter": "python",
   "pygments_lexer": "ipython3",
   "version": "3.11.0"
  }
 },
 "nbformat": 4,
 "nbformat_minor": 5
}
