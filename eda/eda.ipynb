{
 "cells": [
  {
   "cell_type": "markdown",
   "id": "3f2ef154-5f41-4b43-af23-76db4b5cb40e",
   "metadata": {},
   "source": [
    "# Exploratory Data Analysis"
   ]
  },
  {
   "cell_type": "markdown",
   "id": "1a07f420-dbf7-41f7-8d28-c46e4fa3f6b3",
   "metadata": {},
   "source": [
    "## Set up environment"
   ]
  },
  {
   "cell_type": "code",
   "execution_count": 1,
   "id": "1c28b2c4-f829-45fd-91ae-48281758c649",
   "metadata": {},
   "outputs": [],
   "source": [
    "import os\n",
    "import pandas as pd\n",
    "import numpy as np\n",
    "import matplotlib.pyplot as plt\n",
    "import seaborn as sns\n",
    "import re\n",
    "\n",
    "from fuzzywuzzy import process, fuzz"
   ]
  },
  {
   "cell_type": "code",
   "execution_count": 2,
   "id": "d476bb51-41c4-4397-bb4e-a6f52ef19028",
   "metadata": {},
   "outputs": [],
   "source": [
    "path = os.path.join(os.path.normpath(os.getcwd() + os.sep + os.pardir) + \"/data/raw\")"
   ]
  },
  {
   "cell_type": "code",
   "execution_count": 3,
   "id": "792cba9d-1ce5-4a5e-b29a-c3d66fd75c16",
   "metadata": {},
   "outputs": [],
   "source": [
    "cwd = os.path.join(os.path.normpath(os.getcwd() + os.sep + os.pardir))"
   ]
  },
  {
   "cell_type": "code",
   "execution_count": 4,
   "id": "cb86ea6d-7e32-45a5-affb-3ce190e78820",
   "metadata": {},
   "outputs": [
    {
     "data": {
      "text/plain": [
       "['BX-NewBooksUsers.csv',\n",
       " 'BX-Books.csv',\n",
       " 'BX-Ratings.csv',\n",
       " 'BX-Users.csv',\n",
       " 'BX-NewBooksRatings.csv',\n",
       " 'BX-NewBooks.csv']"
      ]
     },
     "execution_count": 4,
     "metadata": {},
     "output_type": "execute_result"
    }
   ],
   "source": [
    "os.listdir(path)"
   ]
  },
  {
   "cell_type": "markdown",
   "id": "3364346c-b883-456e-ad42-88c1dbdf9a38",
   "metadata": {},
   "source": [
    "## BX-Books"
   ]
  },
  {
   "cell_type": "code",
   "execution_count": 5,
   "id": "0a8c835e-5989-4611-85a8-342222205e46",
   "metadata": {
    "scrolled": true
   },
   "outputs": [
    {
     "data": {
      "text/html": [
       "<div>\n",
       "<style scoped>\n",
       "    .dataframe tbody tr th:only-of-type {\n",
       "        vertical-align: middle;\n",
       "    }\n",
       "\n",
       "    .dataframe tbody tr th {\n",
       "        vertical-align: top;\n",
       "    }\n",
       "\n",
       "    .dataframe thead th {\n",
       "        text-align: right;\n",
       "    }\n",
       "</style>\n",
       "<table border=\"1\" class=\"dataframe\">\n",
       "  <thead>\n",
       "    <tr style=\"text-align: right;\">\n",
       "      <th></th>\n",
       "      <th>ISBN</th>\n",
       "      <th>Book-Title</th>\n",
       "      <th>Book-Author</th>\n",
       "      <th>Year-Of-Publication</th>\n",
       "      <th>Book-Publisher</th>\n",
       "    </tr>\n",
       "  </thead>\n",
       "  <tbody>\n",
       "    <tr>\n",
       "      <th>0</th>\n",
       "      <td>0002005018</td>\n",
       "      <td>Clara Callan</td>\n",
       "      <td>Richard Bruce Wright</td>\n",
       "      <td>2001</td>\n",
       "      <td>HarperFlamingo Canada</td>\n",
       "    </tr>\n",
       "    <tr>\n",
       "      <th>1</th>\n",
       "      <td>0374157065</td>\n",
       "      <td>Flu: The Story of the Great Influenza Pandemic...</td>\n",
       "      <td>Gina Bari Kolata</td>\n",
       "      <td>1999</td>\n",
       "      <td>Farrar Straus Giroux</td>\n",
       "    </tr>\n",
       "    <tr>\n",
       "      <th>2</th>\n",
       "      <td>0399135782</td>\n",
       "      <td>The Kitchen God's Wife</td>\n",
       "      <td>Amy Tan</td>\n",
       "      <td>1991</td>\n",
       "      <td>Putnam Pub Group</td>\n",
       "    </tr>\n",
       "    <tr>\n",
       "      <th>3</th>\n",
       "      <td>0440234743</td>\n",
       "      <td>The Testament</td>\n",
       "      <td>John Grisham</td>\n",
       "      <td>1999</td>\n",
       "      <td>Dell</td>\n",
       "    </tr>\n",
       "    <tr>\n",
       "      <th>4</th>\n",
       "      <td>0452264464</td>\n",
       "      <td>Beloved (Plume Contemporary Fiction)</td>\n",
       "      <td>Toni Morrison</td>\n",
       "      <td>1994</td>\n",
       "      <td>Plume</td>\n",
       "    </tr>\n",
       "  </tbody>\n",
       "</table>\n",
       "</div>"
      ],
      "text/plain": [
       "         ISBN  ...         Book-Publisher\n",
       "0  0002005018  ...  HarperFlamingo Canada\n",
       "1  0374157065  ...   Farrar Straus Giroux\n",
       "2  0399135782  ...       Putnam Pub Group\n",
       "3  0440234743  ...                   Dell\n",
       "4  0452264464  ...                  Plume\n",
       "\n",
       "[5 rows x 5 columns]"
      ]
     },
     "execution_count": 5,
     "metadata": {},
     "output_type": "execute_result"
    }
   ],
   "source": [
    "books = pd.read_csv(path + \"/BX-Books.csv\")\n",
    "books.head()"
   ]
  },
  {
   "cell_type": "markdown",
   "id": "e32c58d1-d709-482a-8c5d-b9d87081cd87",
   "metadata": {},
   "source": [
    "### Null Values"
   ]
  },
  {
   "cell_type": "markdown",
   "id": "0ab13139-2cac-4006-a857-b0822b1c574c",
   "metadata": {},
   "source": [
    "No null values to deal with"
   ]
  },
  {
   "cell_type": "code",
   "execution_count": 6,
   "id": "0ed1cdf0-21b8-423f-bafb-d80429a60134",
   "metadata": {},
   "outputs": [
    {
     "data": {
      "text/plain": [
       "ISBN                   0\n",
       "Book-Title             0\n",
       "Book-Author            0\n",
       "Year-Of-Publication    0\n",
       "Book-Publisher         0\n",
       "dtype: int64"
      ]
     },
     "execution_count": 6,
     "metadata": {},
     "output_type": "execute_result"
    }
   ],
   "source": [
    "books.isna().sum()"
   ]
  },
  {
   "cell_type": "code",
   "execution_count": 7,
   "id": "781758de-d3a8-4b27-9b23-35435d25be3c",
   "metadata": {},
   "outputs": [
    {
     "data": {
      "text/plain": [
       "ISBN                   object\n",
       "Book-Title             object\n",
       "Book-Author            object\n",
       "Year-Of-Publication     int64\n",
       "Book-Publisher         object\n",
       "dtype: object"
      ]
     },
     "execution_count": 7,
     "metadata": {},
     "output_type": "execute_result"
    }
   ],
   "source": [
    "books.dtypes"
   ]
  },
  {
   "cell_type": "markdown",
   "id": "6f3ed081-b71e-44e9-a929-9011fc2d3c30",
   "metadata": {},
   "source": [
    "### Year of publication\n",
    "Year of Publication has max 2030 and min 0. Plot a histogram to see distribution for books published by year.\n",
    "- 314 books published in year 0.\n",
    "- 3 books published in year 2030 (not possible)\n",
    "\n",
    "This imputation needs to be done after text processing on author, title and publisher."
   ]
  },
  {
   "cell_type": "code",
   "execution_count": 8,
   "id": "febcfd7d-2f40-46e5-919a-e836f77669a3",
   "metadata": {},
   "outputs": [
    {
     "data": {
      "text/plain": [
       "(0, 2030)"
      ]
     },
     "execution_count": 8,
     "metadata": {},
     "output_type": "execute_result"
    }
   ],
   "source": [
    "books[\"Year-Of-Publication\"].min(), books[\"Year-Of-Publication\"].max()"
   ]
  },
  {
   "cell_type": "code",
   "execution_count": 9,
   "id": "3b44de05-1042-4b01-8586-66d69464bc9e",
   "metadata": {},
   "outputs": [
    {
     "data": {
      "text/plain": [
       "<Axes: ylabel='Frequency'>"
      ]
     },
     "execution_count": 9,
     "metadata": {},
     "output_type": "execute_result"
    },
    {
     "data": {
      "image/png": "[encoded data removed]",
      "text/plain": [
       "<Figure size 432x288 with 1 Axes>"
      ]
     },
     "metadata": {},
     "output_type": "display_data"
    }
   ],
   "source": [
    "books.plot(kind = \"hist\", y = \"Year-Of-Publication\")"
   ]
  },
  {
   "cell_type": "code",
   "execution_count": 10,
   "id": "191287d3-43b9-4c43-859e-6daae4ee4f5f",
   "metadata": {},
   "outputs": [
    {
     "data": {
      "text/plain": [
       "Year-Of-Publication\n",
       "0        314\n",
       "1920       2\n",
       "1927       1\n",
       "1929       1\n",
       "1930       1\n",
       "        ... \n",
       "2002    1750\n",
       "2003    1530\n",
       "2004     475\n",
       "2005       3\n",
       "2030       3\n",
       "Name: ISBN, Length: 70, dtype: int64"
      ]
     },
     "execution_count": 10,
     "metadata": {},
     "output_type": "execute_result"
    }
   ],
   "source": [
    "books.groupby(\"Year-Of-Publication\")[\"ISBN\"].count()"
   ]
  },
  {
   "cell_type": "code",
   "execution_count": 11,
   "id": "454ef737-bc5f-459d-a6dd-d5d74b3fe550",
   "metadata": {
    "scrolled": true
   },
   "outputs": [
    {
     "data": {
      "text/html": [
       "<div>\n",
       "<style scoped>\n",
       "    .dataframe tbody tr th:only-of-type {\n",
       "        vertical-align: middle;\n",
       "    }\n",
       "\n",
       "    .dataframe tbody tr th {\n",
       "        vertical-align: top;\n",
       "    }\n",
       "\n",
       "    .dataframe thead th {\n",
       "        text-align: right;\n",
       "    }\n",
       "</style>\n",
       "<table border=\"1\" class=\"dataframe\">\n",
       "  <thead>\n",
       "    <tr style=\"text-align: right;\">\n",
       "      <th></th>\n",
       "      <th>ISBN</th>\n",
       "      <th>Book-Title</th>\n",
       "      <th>Book-Author</th>\n",
       "      <th>Year-Of-Publication</th>\n",
       "      <th>Book-Publisher</th>\n",
       "    </tr>\n",
       "  </thead>\n",
       "  <tbody>\n",
       "    <tr>\n",
       "      <th>164</th>\n",
       "      <td>0571197639</td>\n",
       "      <td>Poisonwood Bible Edition Uk</td>\n",
       "      <td>Barbara Kingsolver</td>\n",
       "      <td>0</td>\n",
       "      <td>Faber Faber Inc</td>\n",
       "    </tr>\n",
       "    <tr>\n",
       "      <th>195</th>\n",
       "      <td>3596214629</td>\n",
       "      <td>Herr Der Fliegen (Fiction, Poetry and Drama)</td>\n",
       "      <td>Golding</td>\n",
       "      <td>0</td>\n",
       "      <td>Fischer Taschenbuch Verlag GmbH</td>\n",
       "    </tr>\n",
       "    <tr>\n",
       "      <th>285</th>\n",
       "      <td>8845229041</td>\n",
       "      <td>Biblioteca Universale Rizzoli: Sulla Sponda De...</td>\n",
       "      <td>P Coelho</td>\n",
       "      <td>0</td>\n",
       "      <td>Fabbri - RCS Libri</td>\n",
       "    </tr>\n",
       "    <tr>\n",
       "      <th>343</th>\n",
       "      <td>0590021117</td>\n",
       "      <td>Little House On the Prairie</td>\n",
       "      <td>Laura Ingall Wilder</td>\n",
       "      <td>0</td>\n",
       "      <td>Scholastic Inc</td>\n",
       "    </tr>\n",
       "    <tr>\n",
       "      <th>395</th>\n",
       "      <td>2070362388</td>\n",
       "      <td>Ravage</td>\n",
       "      <td>Rene Barjavel</td>\n",
       "      <td>0</td>\n",
       "      <td>Gallimard French</td>\n",
       "    </tr>\n",
       "    <tr>\n",
       "      <th>441</th>\n",
       "      <td>0718144538</td>\n",
       "      <td>Shattered Uk</td>\n",
       "      <td>Dick Francis</td>\n",
       "      <td>0</td>\n",
       "      <td>Michael Joseph Ltd</td>\n",
       "    </tr>\n",
       "    <tr>\n",
       "      <th>444</th>\n",
       "      <td>0349101779</td>\n",
       "      <td>The Wasp Factory</td>\n",
       "      <td>Iain Banks</td>\n",
       "      <td>0</td>\n",
       "      <td>Abacus</td>\n",
       "    </tr>\n",
       "    <tr>\n",
       "      <th>488</th>\n",
       "      <td>0753804700</td>\n",
       "      <td>Reader</td>\n",
       "      <td>Bernhard Schlink</td>\n",
       "      <td>0</td>\n",
       "      <td>Phoenix Books</td>\n",
       "    </tr>\n",
       "    <tr>\n",
       "      <th>650</th>\n",
       "      <td>0140620338</td>\n",
       "      <td>Picture of Dorian Gray</td>\n",
       "      <td>Oscar Wilde</td>\n",
       "      <td>0</td>\n",
       "      <td>Penguin Putnam~mass</td>\n",
       "    </tr>\n",
       "    <tr>\n",
       "      <th>661</th>\n",
       "      <td>000649840X</td>\n",
       "      <td>Angelas Ashes</td>\n",
       "      <td>Frank Mccourt</td>\n",
       "      <td>0</td>\n",
       "      <td>Harpercollins Uk</td>\n",
       "    </tr>\n",
       "    <tr>\n",
       "      <th>663</th>\n",
       "      <td>0099771519</td>\n",
       "      <td>Memoirs of a Geisha Uk</td>\n",
       "      <td>Arthur Golden</td>\n",
       "      <td>0</td>\n",
       "      <td>Trafalgar Square</td>\n",
       "    </tr>\n",
       "    <tr>\n",
       "      <th>728</th>\n",
       "      <td>0552996009</td>\n",
       "      <td>Notes From a Small Planet</td>\n",
       "      <td>Bill Bryson</td>\n",
       "      <td>0</td>\n",
       "      <td>Bantam Doubleday Dell</td>\n",
       "    </tr>\n",
       "    <tr>\n",
       "      <th>922</th>\n",
       "      <td>3518368540</td>\n",
       "      <td>Homo Faber</td>\n",
       "      <td>Max Frisch</td>\n",
       "      <td>0</td>\n",
       "      <td>Distribooks Int'l+inc</td>\n",
       "    </tr>\n",
       "    <tr>\n",
       "      <th>996</th>\n",
       "      <td>2253004243</td>\n",
       "      <td>Une Vie</td>\n",
       "      <td>Guy De Maupassant</td>\n",
       "      <td>0</td>\n",
       "      <td>Livre De Poche French</td>\n",
       "    </tr>\n",
       "    <tr>\n",
       "      <th>1004</th>\n",
       "      <td>0006550789</td>\n",
       "      <td>253</td>\n",
       "      <td>Geoff Ryman</td>\n",
       "      <td>0</td>\n",
       "      <td>Flamingo</td>\n",
       "    </tr>\n",
       "    <tr>\n",
       "      <th>1008</th>\n",
       "      <td>0670848549</td>\n",
       "      <td>Secret History</td>\n",
       "      <td>Donna Tartt</td>\n",
       "      <td>0</td>\n",
       "      <td>Penguin Putnam~childrens Hc</td>\n",
       "    </tr>\n",
       "    <tr>\n",
       "      <th>1054</th>\n",
       "      <td>0330294377</td>\n",
       "      <td>Falling Towards England</td>\n",
       "      <td>Clive James</td>\n",
       "      <td>0</td>\n",
       "      <td>Pan Books Ltd</td>\n",
       "    </tr>\n",
       "    <tr>\n",
       "      <th>1147</th>\n",
       "      <td>0553135457</td>\n",
       "      <td>Sophies Choice</td>\n",
       "      <td>William Styron</td>\n",
       "      <td>0</td>\n",
       "      <td>Bantam Doubleday Dell</td>\n",
       "    </tr>\n",
       "    <tr>\n",
       "      <th>1150</th>\n",
       "      <td>0330312367</td>\n",
       "      <td>Year In Provence</td>\n",
       "      <td>Peter Mayle</td>\n",
       "      <td>0</td>\n",
       "      <td>Pan Books Ltd</td>\n",
       "    </tr>\n",
       "    <tr>\n",
       "      <th>1152</th>\n",
       "      <td>2253047422</td>\n",
       "      <td>Le Pigeon</td>\n",
       "      <td>Patrick Suskind</td>\n",
       "      <td>0</td>\n",
       "      <td>Livre De Poche French</td>\n",
       "    </tr>\n",
       "  </tbody>\n",
       "</table>\n",
       "</div>"
      ],
      "text/plain": [
       "            ISBN  ...                   Book-Publisher\n",
       "164   0571197639  ...                  Faber Faber Inc\n",
       "195   3596214629  ...  Fischer Taschenbuch Verlag GmbH\n",
       "285   8845229041  ...               Fabbri - RCS Libri\n",
       "343   0590021117  ...                   Scholastic Inc\n",
       "395   2070362388  ...                 Gallimard French\n",
       "441   0718144538  ...               Michael Joseph Ltd\n",
       "444   0349101779  ...                           Abacus\n",
       "488   0753804700  ...                    Phoenix Books\n",
       "650   0140620338  ...              Penguin Putnam~mass\n",
       "661   000649840X  ...                 Harpercollins Uk\n",
       "663   0099771519  ...                 Trafalgar Square\n",
       "728   0552996009  ...            Bantam Doubleday Dell\n",
       "922   3518368540  ...            Distribooks Int'l+inc\n",
       "996   2253004243  ...            Livre De Poche French\n",
       "1004  0006550789  ...                         Flamingo\n",
       "1008  0670848549  ...      Penguin Putnam~childrens Hc\n",
       "1054  0330294377  ...                    Pan Books Ltd\n",
       "1147  0553135457  ...            Bantam Doubleday Dell\n",
       "1150  0330312367  ...                    Pan Books Ltd\n",
       "1152  2253047422  ...            Livre De Poche French\n",
       "\n",
       "[20 rows x 5 columns]"
      ]
     },
     "execution_count": 11,
     "metadata": {},
     "output_type": "execute_result"
    }
   ],
   "source": [
    "books[books[\"Year-Of-Publication\"] == 0].head(20)"
   ]
  },
  {
   "cell_type": "code",
   "execution_count": 13,
   "id": "d8e2c972-7ed9-4938-ad0d-58e912e3c283",
   "metadata": {},
   "outputs": [
    {
     "data": {
      "text/html": [
       "<div>\n",
       "<style scoped>\n",
       "    .dataframe tbody tr th:only-of-type {\n",
       "        vertical-align: middle;\n",
       "    }\n",
       "\n",
       "    .dataframe tbody tr th {\n",
       "        vertical-align: top;\n",
       "    }\n",
       "\n",
       "    .dataframe thead th {\n",
       "        text-align: right;\n",
       "    }\n",
       "</style>\n",
       "<table border=\"1\" class=\"dataframe\">\n",
       "  <thead>\n",
       "    <tr style=\"text-align: right;\">\n",
       "      <th></th>\n",
       "      <th>ISBN</th>\n",
       "      <th>Book-Title</th>\n",
       "      <th>Book-Author</th>\n",
       "      <th>Year-Of-Publication</th>\n",
       "      <th>Book-Publisher</th>\n",
       "    </tr>\n",
       "  </thead>\n",
       "  <tbody>\n",
       "    <tr>\n",
       "      <th>14</th>\n",
       "      <td>0060168013</td>\n",
       "      <td>Pigs in Heaven</td>\n",
       "      <td>Barbara Kingsolver</td>\n",
       "      <td>1993</td>\n",
       "      <td>Harpercollins</td>\n",
       "    </tr>\n",
       "    <tr>\n",
       "      <th>164</th>\n",
       "      <td>0571197639</td>\n",
       "      <td>Poisonwood Bible Edition Uk</td>\n",
       "      <td>Barbara Kingsolver</td>\n",
       "      <td>0</td>\n",
       "      <td>Faber Faber Inc</td>\n",
       "    </tr>\n",
       "    <tr>\n",
       "      <th>271</th>\n",
       "      <td>0060915544</td>\n",
       "      <td>The Bean Trees</td>\n",
       "      <td>Barbara Kingsolver</td>\n",
       "      <td>1989</td>\n",
       "      <td>Perennial</td>\n",
       "    </tr>\n",
       "    <tr>\n",
       "      <th>272</th>\n",
       "      <td>0060917016</td>\n",
       "      <td>Homeland and Other Stories</td>\n",
       "      <td>Barbara Kingsolver</td>\n",
       "      <td>1990</td>\n",
       "      <td>Perennial</td>\n",
       "    </tr>\n",
       "    <tr>\n",
       "      <th>722</th>\n",
       "      <td>0060930535</td>\n",
       "      <td>The Poisonwood Bible: A Novel</td>\n",
       "      <td>Barbara Kingsolver</td>\n",
       "      <td>1999</td>\n",
       "      <td>Perennial</td>\n",
       "    </tr>\n",
       "    <tr>\n",
       "      <th>975</th>\n",
       "      <td>0060175400</td>\n",
       "      <td>The Poisonwood Bible</td>\n",
       "      <td>Barbara Kingsolver</td>\n",
       "      <td>1999</td>\n",
       "      <td>HarperCollins</td>\n",
       "    </tr>\n",
       "    <tr>\n",
       "      <th>1200</th>\n",
       "      <td>0060922532</td>\n",
       "      <td>Pigs in Heaven</td>\n",
       "      <td>Barbara Kingsolver</td>\n",
       "      <td>1994</td>\n",
       "      <td>Perennial</td>\n",
       "    </tr>\n",
       "    <tr>\n",
       "      <th>1743</th>\n",
       "      <td>0061097314</td>\n",
       "      <td>The Bean Trees</td>\n",
       "      <td>Barbara Kingsolver</td>\n",
       "      <td>1998</td>\n",
       "      <td>HarperTorch</td>\n",
       "    </tr>\n",
       "    <tr>\n",
       "      <th>1749</th>\n",
       "      <td>0060504080</td>\n",
       "      <td>Small Wonder : Essays</td>\n",
       "      <td>Barbara Kingsolver</td>\n",
       "      <td>2003</td>\n",
       "      <td>Perennial</td>\n",
       "    </tr>\n",
       "    <tr>\n",
       "      <th>2101</th>\n",
       "      <td>0060199652</td>\n",
       "      <td>Prodigal Summer</td>\n",
       "      <td>Barbara Kingsolver</td>\n",
       "      <td>2000</td>\n",
       "      <td>HarperCollins</td>\n",
       "    </tr>\n",
       "    <tr>\n",
       "      <th>2217</th>\n",
       "      <td>0060504072</td>\n",
       "      <td>Small Wonder: Essays</td>\n",
       "      <td>Barbara Kingsolver</td>\n",
       "      <td>2002</td>\n",
       "      <td>HarperCollins</td>\n",
       "    </tr>\n",
       "    <tr>\n",
       "      <th>2478</th>\n",
       "      <td>0060959037</td>\n",
       "      <td>Prodigal Summer: A Novel</td>\n",
       "      <td>Barbara Kingsolver</td>\n",
       "      <td>2001</td>\n",
       "      <td>Perennial</td>\n",
       "    </tr>\n",
       "    <tr>\n",
       "      <th>3144</th>\n",
       "      <td>0060921145</td>\n",
       "      <td>Animal Dreams</td>\n",
       "      <td>Barbara Kingsolver</td>\n",
       "      <td>1991</td>\n",
       "      <td>Perennial</td>\n",
       "    </tr>\n",
       "    <tr>\n",
       "      <th>4706</th>\n",
       "      <td>0060512822</td>\n",
       "      <td>The Poisonwood Bible</td>\n",
       "      <td>Barbara Kingsolver</td>\n",
       "      <td>2003</td>\n",
       "      <td>HarperTorch</td>\n",
       "    </tr>\n",
       "    <tr>\n",
       "      <th>5888</th>\n",
       "      <td>0571206484</td>\n",
       "      <td>Prodigal Summer</td>\n",
       "      <td>Barbara Kingsolver</td>\n",
       "      <td>2002</td>\n",
       "      <td>Faber &amp; Faber Ltd</td>\n",
       "    </tr>\n",
       "    <tr>\n",
       "      <th>7134</th>\n",
       "      <td>006109868X</td>\n",
       "      <td>Pigs in Heaven</td>\n",
       "      <td>Barbara Kingsolver</td>\n",
       "      <td>1999</td>\n",
       "      <td>Perennial</td>\n",
       "    </tr>\n",
       "    <tr>\n",
       "      <th>8056</th>\n",
       "      <td>0060927569</td>\n",
       "      <td>High Tide in Tucson : Essays from Now or Never</td>\n",
       "      <td>Barbara Kingsolver</td>\n",
       "      <td>1996</td>\n",
       "      <td>Perennial</td>\n",
       "    </tr>\n",
       "    <tr>\n",
       "      <th>11487</th>\n",
       "      <td>0060172916</td>\n",
       "      <td>High Tide in Tucson: Essays from Now or Never</td>\n",
       "      <td>Barbara Kingsolver</td>\n",
       "      <td>1995</td>\n",
       "      <td>HarperCollins Publishers</td>\n",
       "    </tr>\n",
       "  </tbody>\n",
       "</table>\n",
       "</div>"
      ],
      "text/plain": [
       "             ISBN  ...            Book-Publisher\n",
       "14     0060168013  ...             Harpercollins\n",
       "164    0571197639  ...           Faber Faber Inc\n",
       "271    0060915544  ...                 Perennial\n",
       "272    0060917016  ...                 Perennial\n",
       "722    0060930535  ...                 Perennial\n",
       "975    0060175400  ...             HarperCollins\n",
       "1200   0060922532  ...                 Perennial\n",
       "1743   0061097314  ...               HarperTorch\n",
       "1749   0060504080  ...                 Perennial\n",
       "2101   0060199652  ...             HarperCollins\n",
       "2217   0060504072  ...             HarperCollins\n",
       "2478   0060959037  ...                 Perennial\n",
       "3144   0060921145  ...                 Perennial\n",
       "4706   0060512822  ...               HarperTorch\n",
       "5888   0571206484  ...         Faber & Faber Ltd\n",
       "7134   006109868X  ...                 Perennial\n",
       "8056   0060927569  ...                 Perennial\n",
       "11487  0060172916  ...  HarperCollins Publishers\n",
       "\n",
       "[18 rows x 5 columns]"
      ]
     },
     "execution_count": 13,
     "metadata": {},
     "output_type": "execute_result"
    }
   ],
   "source": [
    "books[books[\"Book-Author\"] == \"Barbara Kingsolver\"]"
   ]
  },
  {
   "cell_type": "code",
   "execution_count": 14,
   "id": "931ff8b0-d179-443c-be16-95ff2b875c4f",
   "metadata": {},
   "outputs": [
    {
     "data": {
      "text/plain": [
       "ISBN                                    0571197639\n",
       "Book-Title             Poisonwood Bible Edition Uk\n",
       "Book-Author                     Barbara Kingsolver\n",
       "Year-Of-Publication                              0\n",
       "Book-Publisher                     Faber Faber Inc\n",
       "Name: 164, dtype: object"
      ]
     },
     "execution_count": 14,
     "metadata": {},
     "output_type": "execute_result"
    }
   ],
   "source": [
    "books.iloc[164]"
   ]
  },
  {
   "cell_type": "code",
   "execution_count": 15,
   "id": "58d45c23-8584-4e7c-a1df-a2794d8f3f4f",
   "metadata": {},
   "outputs": [
    {
     "data": {
      "text/html": [
       "<div>\n",
       "<style scoped>\n",
       "    .dataframe tbody tr th:only-of-type {\n",
       "        vertical-align: middle;\n",
       "    }\n",
       "\n",
       "    .dataframe tbody tr th {\n",
       "        vertical-align: top;\n",
       "    }\n",
       "\n",
       "    .dataframe thead th {\n",
       "        text-align: right;\n",
       "    }\n",
       "</style>\n",
       "<table border=\"1\" class=\"dataframe\">\n",
       "  <thead>\n",
       "    <tr style=\"text-align: right;\">\n",
       "      <th></th>\n",
       "      <th>ISBN</th>\n",
       "      <th>Book-Title</th>\n",
       "      <th>Book-Author</th>\n",
       "      <th>Year-Of-Publication</th>\n",
       "      <th>Book-Publisher</th>\n",
       "    </tr>\n",
       "  </thead>\n",
       "  <tbody>\n",
       "    <tr>\n",
       "      <th>11362</th>\n",
       "      <td>0671746103</td>\n",
       "      <td>MY TEACHER FRIED MY BRAINS (RACK SIZE) (MY TEA...</td>\n",
       "      <td>Coville</td>\n",
       "      <td>2030</td>\n",
       "      <td>Aladdin</td>\n",
       "    </tr>\n",
       "    <tr>\n",
       "      <th>13687</th>\n",
       "      <td>0671791990</td>\n",
       "      <td>MY TEACHER FLUNKED THE PLANET (RACK SIZE) (MY ...</td>\n",
       "      <td>Bruce Coville</td>\n",
       "      <td>2030</td>\n",
       "      <td>Aladdin</td>\n",
       "    </tr>\n",
       "    <tr>\n",
       "      <th>15739</th>\n",
       "      <td>0870449842</td>\n",
       "      <td>Crossing America</td>\n",
       "      <td>National Geographic Society</td>\n",
       "      <td>2030</td>\n",
       "      <td>National Geographic</td>\n",
       "    </tr>\n",
       "  </tbody>\n",
       "</table>\n",
       "</div>"
      ],
      "text/plain": [
       "             ISBN  ...       Book-Publisher\n",
       "11362  0671746103  ...              Aladdin\n",
       "13687  0671791990  ...              Aladdin\n",
       "15739  0870449842  ...  National Geographic\n",
       "\n",
       "[3 rows x 5 columns]"
      ]
     },
     "execution_count": 15,
     "metadata": {},
     "output_type": "execute_result"
    }
   ],
   "source": [
    "books[books[\"Year-Of-Publication\"] == 2030]"
   ]
  },
  {
   "cell_type": "markdown",
   "id": "94a73638-cfe4-48d9-b742-2bcc1166dadd",
   "metadata": {},
   "source": [
    "### ISBN \n",
    "Also noticed ISBN is a 10 digit number but some have and X at the end.\n",
    "- ISBN is a 10 digit number before 2007. This dataset is fine for just 10.\n",
    "- the only letter wich can be in an ISBN is an X to represent ten.\n",
    "\n",
    "No duplicates on ISBN"
   ]
  },
  {
   "cell_type": "code",
   "execution_count": 16,
   "id": "6d0ca0ee-a3b1-4820-864f-38a059cb9628",
   "metadata": {
    "scrolled": true
   },
   "outputs": [
    {
     "data": {
      "text/html": [
       "<div>\n",
       "<style scoped>\n",
       "    .dataframe tbody tr th:only-of-type {\n",
       "        vertical-align: middle;\n",
       "    }\n",
       "\n",
       "    .dataframe tbody tr th {\n",
       "        vertical-align: top;\n",
       "    }\n",
       "\n",
       "    .dataframe thead th {\n",
       "        text-align: right;\n",
       "    }\n",
       "</style>\n",
       "<table border=\"1\" class=\"dataframe\">\n",
       "  <thead>\n",
       "    <tr style=\"text-align: right;\">\n",
       "      <th></th>\n",
       "      <th>ISBN</th>\n",
       "      <th>Book-Title</th>\n",
       "      <th>Book-Author</th>\n",
       "      <th>Year-Of-Publication</th>\n",
       "      <th>Book-Publisher</th>\n",
       "    </tr>\n",
       "  </thead>\n",
       "  <tbody>\n",
       "  </tbody>\n",
       "</table>\n",
       "</div>"
      ],
      "text/plain": [
       "Empty DataFrame\n",
       "Columns: [ISBN, Book-Title, Book-Author, Year-Of-Publication, Book-Publisher]\n",
       "Index: []"
      ]
     },
     "execution_count": 16,
     "metadata": {},
     "output_type": "execute_result"
    }
   ],
   "source": [
    "books[~books[\"ISBN\"].str.match(r\"^(?=(?:\\D*\\d){9,10})|\\d{9}X\")]"
   ]
  },
  {
   "cell_type": "code",
   "execution_count": 17,
   "id": "d1122130-a36d-4e0e-b1b7-319ecb6a98f8",
   "metadata": {},
   "outputs": [
    {
     "data": {
      "text/html": [
       "<div>\n",
       "<style scoped>\n",
       "    .dataframe tbody tr th:only-of-type {\n",
       "        vertical-align: middle;\n",
       "    }\n",
       "\n",
       "    .dataframe tbody tr th {\n",
       "        vertical-align: top;\n",
       "    }\n",
       "\n",
       "    .dataframe thead th {\n",
       "        text-align: right;\n",
       "    }\n",
       "</style>\n",
       "<table border=\"1\" class=\"dataframe\">\n",
       "  <thead>\n",
       "    <tr style=\"text-align: right;\">\n",
       "      <th></th>\n",
       "      <th>ISBN</th>\n",
       "      <th>Book-Title</th>\n",
       "      <th>Book-Author</th>\n",
       "      <th>Year-Of-Publication</th>\n",
       "      <th>Book-Publisher</th>\n",
       "    </tr>\n",
       "  </thead>\n",
       "  <tbody>\n",
       "  </tbody>\n",
       "</table>\n",
       "</div>"
      ],
      "text/plain": [
       "Empty DataFrame\n",
       "Columns: [ISBN, Book-Title, Book-Author, Year-Of-Publication, Book-Publisher]\n",
       "Index: []"
      ]
     },
     "execution_count": 17,
     "metadata": {},
     "output_type": "execute_result"
    }
   ],
   "source": [
    "books[books[\"ISBN\"].duplicated()]"
   ]
  },
  {
   "cell_type": "markdown",
   "id": "2fac3ee9-58fe-4586-8103-5df0a503d876",
   "metadata": {},
   "source": [
    "### Book-Author\n",
    "Potential for Authors to be under different naming convention.\n",
    "- For example Jack Du Brul vs Jack B. Du Brul\n",
    "    - Do some text analysis in cleaning to give authors same name\n",
    "- Also text is mix of upper/lowercase - case folding to lowercase.\n",
    "- Look to see if there are any unknown names\n",
    "    - unknown\n",
    "    - Jack\n"
   ]
  },
  {
   "cell_type": "code",
   "execution_count": 18,
   "id": "08c9dcdf-2cdc-4b64-943e-d84a5f2365c7",
   "metadata": {
    "scrolled": true
   },
   "outputs": [
    {
     "data": {
      "text/html": [
       "<div>\n",
       "<style scoped>\n",
       "    .dataframe tbody tr th:only-of-type {\n",
       "        vertical-align: middle;\n",
       "    }\n",
       "\n",
       "    .dataframe tbody tr th {\n",
       "        vertical-align: top;\n",
       "    }\n",
       "\n",
       "    .dataframe thead th {\n",
       "        text-align: right;\n",
       "    }\n",
       "</style>\n",
       "<table border=\"1\" class=\"dataframe\">\n",
       "  <thead>\n",
       "    <tr style=\"text-align: right;\">\n",
       "      <th></th>\n",
       "      <th>Book-Author</th>\n",
       "      <th>Count</th>\n",
       "    </tr>\n",
       "  </thead>\n",
       "  <tbody>\n",
       "    <tr>\n",
       "      <th>0</th>\n",
       "      <td>Stephen King</td>\n",
       "      <td>193</td>\n",
       "    </tr>\n",
       "    <tr>\n",
       "      <th>1</th>\n",
       "      <td>Nora Roberts</td>\n",
       "      <td>123</td>\n",
       "    </tr>\n",
       "    <tr>\n",
       "      <th>2</th>\n",
       "      <td>Anne McCaffrey</td>\n",
       "      <td>81</td>\n",
       "    </tr>\n",
       "    <tr>\n",
       "      <th>3</th>\n",
       "      <td>Danielle Steel</td>\n",
       "      <td>74</td>\n",
       "    </tr>\n",
       "    <tr>\n",
       "      <th>4</th>\n",
       "      <td>Piers Anthony</td>\n",
       "      <td>70</td>\n",
       "    </tr>\n",
       "    <tr>\n",
       "      <th>...</th>\n",
       "      <td>...</td>\n",
       "      <td>...</td>\n",
       "    </tr>\n",
       "    <tr>\n",
       "      <th>6447</th>\n",
       "      <td>Jack Kersh</td>\n",
       "      <td>1</td>\n",
       "    </tr>\n",
       "    <tr>\n",
       "      <th>6448</th>\n",
       "      <td>Jack Handey</td>\n",
       "      <td>1</td>\n",
       "    </tr>\n",
       "    <tr>\n",
       "      <th>6449</th>\n",
       "      <td>Jack Du Brul</td>\n",
       "      <td>1</td>\n",
       "    </tr>\n",
       "    <tr>\n",
       "      <th>6450</th>\n",
       "      <td>Jack B. Du Brul</td>\n",
       "      <td>1</td>\n",
       "    </tr>\n",
       "    <tr>\n",
       "      <th>6451</th>\n",
       "      <td>unknown</td>\n",
       "      <td>1</td>\n",
       "    </tr>\n",
       "  </tbody>\n",
       "</table>\n",
       "<p>6452 rows × 2 columns</p>\n",
       "</div>"
      ],
      "text/plain": [
       "          Book-Author  Count\n",
       "0        Stephen King    193\n",
       "1        Nora Roberts    123\n",
       "2      Anne McCaffrey     81\n",
       "3      Danielle Steel     74\n",
       "4       Piers Anthony     70\n",
       "...               ...    ...\n",
       "6447       Jack Kersh      1\n",
       "6448      Jack Handey      1\n",
       "6449     Jack Du Brul      1\n",
       "6450  Jack B. Du Brul      1\n",
       "6451          unknown      1\n",
       "\n",
       "[6452 rows x 2 columns]"
      ]
     },
     "execution_count": 18,
     "metadata": {},
     "output_type": "execute_result"
    }
   ],
   "source": [
    "author_dist = books.groupby(\"Book-Author\")[\"ISBN\"].count().sort_values(ascending=False).reset_index().rename(columns= {'ISBN':'Count'})\n",
    "\n",
    "author_dist"
   ]
  },
  {
   "cell_type": "code",
   "execution_count": 19,
   "id": "af9311eb-0ac2-45f3-90c8-949a0a970d53",
   "metadata": {},
   "outputs": [
    {
     "data": {
      "text/plain": [
       "<Axes: xlabel='Count', ylabel='Book-Author'>"
      ]
     },
     "execution_count": 19,
     "metadata": {},
     "output_type": "execute_result"
    },
    {
     "data": {
      "image/png": "[encoded data removed]",
      "text/plain": [
       "<Figure size 432x288 with 1 Axes>"
      ]
     },
     "metadata": {},
     "output_type": "display_data"
    }
   ],
   "source": [
    "sns.barplot(author_dist.head(20), x = \"Count\", y = \"Book-Author\", orient = \"h\")"
   ]
  },
  {
   "cell_type": "code",
   "execution_count": 20,
   "id": "cde5d436-1aa2-4bb7-9362-247e5ad15a25",
   "metadata": {},
   "outputs": [
    {
     "data": {
      "text/plain": [
       "<Axes: xlabel='Count', ylabel='Book-Author'>"
      ]
     },
     "execution_count": 20,
     "metadata": {},
     "output_type": "execute_result"
    },
    {
     "data": {
      "image/png": "[encoded data removed]",
      "text/plain": [
       "<Figure size 432x288 with 1 Axes>"
      ]
     },
     "metadata": {},
     "output_type": "display_data"
    }
   ],
   "source": [
    "sns.barplot(author_dist.tail(20), x = \"Count\", y = \"Book-Author\", orient = \"h\")"
   ]
  },
  {
   "cell_type": "markdown",
   "id": "2b4b6843-dc7f-4e48-80f4-28a4734e433b",
   "metadata": {},
   "source": [
    "##### Author text cleaning:\n",
    "- case folding - lower.\n",
    "- names like o'dell needed special consideration to odell not o dell as there are authors that have inital of middle name.\n",
    "- consider co-authors with &.\n",
    "- remove extra spaces."
   ]
  },
  {
   "cell_type": "code",
   "execution_count": 21,
   "id": "a09f50b6-9cae-4ff0-85ce-5cf5d35d321c",
   "metadata": {},
   "outputs": [],
   "source": [
    "# Define regex pattern to remove non-alphanumeric characters except '&'\n",
    "pattern = r'[^a-zA-Z0-9& ]'\n",
    "\n",
    "# Function to clean text based on regex pattern\n",
    "def clean_text(text):\n",
    "    cleaned_text = re.sub(pattern, ' ', text)\n",
    "    return cleaned_text"
   ]
  },
  {
   "cell_type": "code",
   "execution_count": 51,
   "id": "4f4af94d-9571-4592-8fd0-202ce98c68ce",
   "metadata": {},
   "outputs": [],
   "source": [
    "def fuzzy_match_comparison(col):\n",
    "    \n",
    "    unique = books[f\"Book-{col}\"].unique()\n",
    "    print(len(unique))\n",
    "    \n",
    "    score_sort = [(x,) + i\n",
    "             for x in unique\n",
    "             for i in process.extract(x, unique, scorer=fuzz.ratio)] \n",
    "    \n",
    "    similarity_sort = pd.DataFrame(score_sort, columns=[f'{col}_sort','match_sort','score_sort'])\n",
    "    similarity_sort[f'sorted_{col}_sort'] = np.minimum(similarity_sort[f'{col}_sort'], similarity_sort['match_sort'])\n",
    "\n",
    "    high_score_sort = \\\n",
    "    similarity_sort[(similarity_sort['score_sort'] >= 80) & \\\n",
    "                    (similarity_sort[f'{col}_sort'] !=  similarity_sort['match_sort']) & \\\n",
    "                    (similarity_sort[f'sorted_{col}_sort'] != similarity_sort['match_sort'])] \n",
    "    high_score_sort = high_score_sort.drop(f'sorted_{col}_sort',axis=1).copy()\n",
    "\n",
    "    high_score_sort = high_score_sort.groupby([f'{col}_sort','score_sort']).agg(\n",
    "                        {'match_sort': ', '.join}).sort_values(\n",
    "                        ['score_sort'], ascending=False).reset_index()\n",
    "\n",
    "    return high_score_sort"
   ]
  },
  {
   "cell_type": "code",
   "execution_count": 22,
   "id": "03cfa6ff-bedb-4c33-8353-588fd2757f2d",
   "metadata": {},
   "outputs": [
    {
     "data": {
      "text/plain": [
       "(6452,)"
      ]
     },
     "execution_count": 22,
     "metadata": {},
     "output_type": "execute_result"
    }
   ],
   "source": [
    "books[\"Book-Author\"].unique().shape"
   ]
  },
  {
   "cell_type": "code",
   "execution_count": 23,
   "id": "3cbee3e3-ac34-48ca-bacc-0729efe549fe",
   "metadata": {},
   "outputs": [],
   "source": [
    "books[\"Book-Author-Processed\"] = books[\"Book-Author\"].str.lower()"
   ]
  },
  {
   "cell_type": "code",
   "execution_count": 24,
   "id": "74f09803-a706-4810-9a4d-5fad5aa21b02",
   "metadata": {
    "scrolled": true
   },
   "outputs": [],
   "source": [
    "books[\"Book-Author-Processed\"] = books[\"Book-Author-Processed\"].str.replace(\"'\", \"\")\n",
    "# Remove all non-alphabetic characters by replacing them with a space.\n",
    "books[\"Book-Author-Processed\"] = books[\"Book-Author-Processed\"].apply(clean_text).str.replace('  ', ' ').str.strip()"
   ]
  },
  {
   "cell_type": "code",
   "execution_count": 311,
   "id": "46fa93f7-dd98-48f7-a0e7-eac5bf476708",
   "metadata": {},
   "outputs": [
    {
     "name": "stdout",
     "output_type": "stream",
     "text": [
      "5959\n",
      "CPU times: user 52.4 s, sys: 964 ms, total: 53.4 s\n",
      "Wall time: 55.6 s\n"
     ]
    },
    {
     "data": {
      "text/plain": [
       "(968, 3)"
      ]
     },
     "execution_count": 311,
     "metadata": {},
     "output_type": "execute_result"
    }
   ],
   "source": [
    "%%time\n",
    "author_fuzzy_match = fuzzy_match_comparison(\"Author-Processed\")\n",
    "author_fuzzy_match.shape"
   ]
  },
  {
   "cell_type": "code",
   "execution_count": 312,
   "id": "2ac17a27-9684-4afa-a466-bc7fdbb32bb6",
   "metadata": {},
   "outputs": [
    {
     "data": {
      "text/html": [
       "<div>\n",
       "<style scoped>\n",
       "    .dataframe tbody tr th:only-of-type {\n",
       "        vertical-align: middle;\n",
       "    }\n",
       "\n",
       "    .dataframe tbody tr th {\n",
       "        vertical-align: top;\n",
       "    }\n",
       "\n",
       "    .dataframe thead th {\n",
       "        text-align: right;\n",
       "    }\n",
       "</style>\n",
       "<table border=\"1\" class=\"dataframe\">\n",
       "  <thead>\n",
       "    <tr style=\"text-align: right;\">\n",
       "      <th></th>\n",
       "      <th>Author-Processed_sort</th>\n",
       "      <th>score_sort</th>\n",
       "      <th>match_sort</th>\n",
       "    </tr>\n",
       "  </thead>\n",
       "  <tbody>\n",
       "    <tr>\n",
       "      <th>0</th>\n",
       "      <td>gabriel garacia marquez</td>\n",
       "      <td>98</td>\n",
       "      <td>gabriel garcia marquez</td>\n",
       "    </tr>\n",
       "    <tr>\n",
       "      <th>1</th>\n",
       "      <td>jean christophe grang</td>\n",
       "      <td>98</td>\n",
       "      <td>jean christophe grange</td>\n",
       "    </tr>\n",
       "    <tr>\n",
       "      <th>2</th>\n",
       "      <td>bathroom reader institute</td>\n",
       "      <td>98</td>\n",
       "      <td>bathroom readers institute</td>\n",
       "    </tr>\n",
       "    <tr>\n",
       "      <th>3</th>\n",
       "      <td>friedrich duerenmatt</td>\n",
       "      <td>98</td>\n",
       "      <td>friedrich duerrenmatt</td>\n",
       "    </tr>\n",
       "    <tr>\n",
       "      <th>4</th>\n",
       "      <td>vonda n mcintryre</td>\n",
       "      <td>97</td>\n",
       "      <td>vonda n mcintyre</td>\n",
       "    </tr>\n",
       "  </tbody>\n",
       "</table>\n",
       "</div>"
      ],
      "text/plain": [
       "       Author-Processed_sort  score_sort                  match_sort\n",
       "0    gabriel garacia marquez          98      gabriel garcia marquez\n",
       "1      jean christophe grang          98      jean christophe grange\n",
       "2  bathroom reader institute          98  bathroom readers institute\n",
       "3       friedrich duerenmatt          98       friedrich duerrenmatt\n",
       "4          vonda n mcintryre          97            vonda n mcintyre"
      ]
     },
     "execution_count": 312,
     "metadata": {},
     "output_type": "execute_result"
    }
   ],
   "source": [
    "author_fuzzy_match.head()"
   ]
  },
  {
   "cell_type": "code",
   "execution_count": 313,
   "id": "1eefffd2-0cae-412c-bfab-1c20b97f0e9a",
   "metadata": {},
   "outputs": [
    {
     "data": {
      "text/html": [
       "<div>\n",
       "<style scoped>\n",
       "    .dataframe tbody tr th:only-of-type {\n",
       "        vertical-align: middle;\n",
       "    }\n",
       "\n",
       "    .dataframe tbody tr th {\n",
       "        vertical-align: top;\n",
       "    }\n",
       "\n",
       "    .dataframe thead th {\n",
       "        text-align: right;\n",
       "    }\n",
       "</style>\n",
       "<table border=\"1\" class=\"dataframe\">\n",
       "  <thead>\n",
       "    <tr style=\"text-align: right;\">\n",
       "      <th></th>\n",
       "      <th>Author-Processed_sort</th>\n",
       "      <th>score_sort</th>\n",
       "      <th>match_sort</th>\n",
       "    </tr>\n",
       "  </thead>\n",
       "  <tbody>\n",
       "    <tr>\n",
       "      <th>963</th>\n",
       "      <td>joan anderson</td>\n",
       "      <td>80</td>\n",
       "      <td>ken anderson</td>\n",
       "    </tr>\n",
       "    <tr>\n",
       "      <th>964</th>\n",
       "      <td>carol burnett</td>\n",
       "      <td>80</td>\n",
       "      <td>mark burnett</td>\n",
       "    </tr>\n",
       "    <tr>\n",
       "      <th>965</th>\n",
       "      <td>joe connelly</td>\n",
       "      <td>80</td>\n",
       "      <td>john connolly</td>\n",
       "    </tr>\n",
       "    <tr>\n",
       "      <th>966</th>\n",
       "      <td>edward ball</td>\n",
       "      <td>80</td>\n",
       "      <td>edward bellamy</td>\n",
       "    </tr>\n",
       "    <tr>\n",
       "      <th>967</th>\n",
       "      <td>john mcphee</td>\n",
       "      <td>80</td>\n",
       "      <td>john peel</td>\n",
       "    </tr>\n",
       "  </tbody>\n",
       "</table>\n",
       "</div>"
      ],
      "text/plain": [
       "    Author-Processed_sort  score_sort      match_sort\n",
       "963         joan anderson          80    ken anderson\n",
       "964         carol burnett          80    mark burnett\n",
       "965          joe connelly          80   john connolly\n",
       "966           edward ball          80  edward bellamy\n",
       "967           john mcphee          80       john peel"
      ]
     },
     "execution_count": 313,
     "metadata": {},
     "output_type": "execute_result"
    }
   ],
   "source": [
    "author_fuzzy_match.tail()"
   ]
  },
  {
   "cell_type": "code",
   "execution_count": 315,
   "id": "65deef79-8875-4657-afed-9a9b48959c24",
   "metadata": {},
   "outputs": [],
   "source": [
    "author_fuzzy_match.to_csv(cwd + \"/data/cleaned/author_fuzzy_match.csv\")"
   ]
  },
  {
   "cell_type": "markdown",
   "id": "860e65e3-2305-408f-98e7-84c8ae315f15",
   "metadata": {},
   "source": [
    "### Fuzzy matching strings\n",
    "- Set up function for different columns\n",
    "- at beginning of processing case fold\n",
    "    - books[\"Book-Author\"] = books[\"Book-Author\"].str.lower()\n",
    "- get rid of .,!:- etc.\n",
    "- some books have similar title. For example:\n",
    "    - \"the beach\" vs. \"the breach\" - similarity = 0.95 but are different authors.\n",
    "    - \"the far side gallery 4\" vs. \"the far side gallery 5\" - similarity = 0.95 but different version in series.\n",
    " \n",
    "- Books will need to be processed. tf-idf? for similar titles?"
   ]
  },
  {
   "cell_type": "code",
   "execution_count": 26,
   "id": "c66ba3fe-d289-44bf-8b9b-01c54112526d",
   "metadata": {},
   "outputs": [],
   "source": [
    "books[\"Book-Title\"] = books[\"Book-Title\"].str.lower()"
   ]
  },
  {
   "cell_type": "code",
   "execution_count": 27,
   "id": "e38cbb59-a3d4-418b-9995-20c75aa1e6da",
   "metadata": {
    "scrolled": true
   },
   "outputs": [
    {
     "data": {
      "text/html": [
       "<div>\n",
       "<style scoped>\n",
       "    .dataframe tbody tr th:only-of-type {\n",
       "        vertical-align: middle;\n",
       "    }\n",
       "\n",
       "    .dataframe tbody tr th {\n",
       "        vertical-align: top;\n",
       "    }\n",
       "\n",
       "    .dataframe thead th {\n",
       "        text-align: right;\n",
       "    }\n",
       "</style>\n",
       "<table border=\"1\" class=\"dataframe\">\n",
       "  <thead>\n",
       "    <tr style=\"text-align: right;\">\n",
       "      <th></th>\n",
       "      <th>ISBN</th>\n",
       "      <th>Book-Title</th>\n",
       "      <th>Book-Author</th>\n",
       "      <th>Year-Of-Publication</th>\n",
       "      <th>Book-Publisher</th>\n",
       "      <th>Book-Author-Processed</th>\n",
       "    </tr>\n",
       "  </thead>\n",
       "  <tbody>\n",
       "    <tr>\n",
       "      <th>0</th>\n",
       "      <td>0002005018</td>\n",
       "      <td>clara callan</td>\n",
       "      <td>Richard Bruce Wright</td>\n",
       "      <td>2001</td>\n",
       "      <td>HarperFlamingo Canada</td>\n",
       "      <td>richard bruce wright</td>\n",
       "    </tr>\n",
       "    <tr>\n",
       "      <th>1</th>\n",
       "      <td>0374157065</td>\n",
       "      <td>flu: the story of the great influenza pandemic...</td>\n",
       "      <td>Gina Bari Kolata</td>\n",
       "      <td>1999</td>\n",
       "      <td>Farrar Straus Giroux</td>\n",
       "      <td>gina bari kolata</td>\n",
       "    </tr>\n",
       "    <tr>\n",
       "      <th>2</th>\n",
       "      <td>0399135782</td>\n",
       "      <td>the kitchen god's wife</td>\n",
       "      <td>Amy Tan</td>\n",
       "      <td>1991</td>\n",
       "      <td>Putnam Pub Group</td>\n",
       "      <td>amy tan</td>\n",
       "    </tr>\n",
       "    <tr>\n",
       "      <th>3</th>\n",
       "      <td>0440234743</td>\n",
       "      <td>the testament</td>\n",
       "      <td>John Grisham</td>\n",
       "      <td>1999</td>\n",
       "      <td>Dell</td>\n",
       "      <td>john grisham</td>\n",
       "    </tr>\n",
       "    <tr>\n",
       "      <th>4</th>\n",
       "      <td>0452264464</td>\n",
       "      <td>beloved (plume contemporary fiction)</td>\n",
       "      <td>Toni Morrison</td>\n",
       "      <td>1994</td>\n",
       "      <td>Plume</td>\n",
       "      <td>toni morrison</td>\n",
       "    </tr>\n",
       "  </tbody>\n",
       "</table>\n",
       "</div>"
      ],
      "text/plain": [
       "         ISBN  ... Book-Author-Processed\n",
       "0  0002005018  ...  richard bruce wright\n",
       "1  0374157065  ...      gina bari kolata\n",
       "2  0399135782  ...               amy tan\n",
       "3  0440234743  ...          john grisham\n",
       "4  0452264464  ...         toni morrison\n",
       "\n",
       "[5 rows x 6 columns]"
      ]
     },
     "execution_count": 27,
     "metadata": {},
     "output_type": "execute_result"
    }
   ],
   "source": [
    "books.head()"
   ]
  },
  {
   "cell_type": "code",
   "execution_count": 52,
   "id": "5e3f4114-8e7f-46f8-a1b0-7e2f822d19be",
   "metadata": {},
   "outputs": [
    {
     "name": "stdout",
     "output_type": "stream",
     "text": [
      "15976\n",
      "CPU times: user 11min 55s, sys: 14.6 s, total: 12min 10s\n",
      "Wall time: 12min 54s\n"
     ]
    },
    {
     "data": {
      "text/html": [
       "<div>\n",
       "<style scoped>\n",
       "    .dataframe tbody tr th:only-of-type {\n",
       "        vertical-align: middle;\n",
       "    }\n",
       "\n",
       "    .dataframe tbody tr th {\n",
       "        vertical-align: top;\n",
       "    }\n",
       "\n",
       "    .dataframe thead th {\n",
       "        text-align: right;\n",
       "    }\n",
       "</style>\n",
       "<table border=\"1\" class=\"dataframe\">\n",
       "  <thead>\n",
       "    <tr style=\"text-align: right;\">\n",
       "      <th></th>\n",
       "      <th>Title_sort</th>\n",
       "      <th>score_sort</th>\n",
       "      <th>match_sort</th>\n",
       "    </tr>\n",
       "  </thead>\n",
       "  <tbody>\n",
       "    <tr>\n",
       "      <th>0</th>\n",
       "      <td>all american girl</td>\n",
       "      <td>100</td>\n",
       "      <td>all-american girl</td>\n",
       "    </tr>\n",
       "    <tr>\n",
       "      <th>1</th>\n",
       "      <td>house of god</td>\n",
       "      <td>100</td>\n",
       "      <td>house of god.</td>\n",
       "    </tr>\n",
       "    <tr>\n",
       "      <th>2</th>\n",
       "      <td>die entdeckung der langsamkeit</td>\n",
       "      <td>100</td>\n",
       "      <td>die entdeckung der langsamkeit.</td>\n",
       "    </tr>\n",
       "    <tr>\n",
       "      <th>3</th>\n",
       "      <td>sybil</td>\n",
       "      <td>100</td>\n",
       "      <td>sybil.</td>\n",
       "    </tr>\n",
       "    <tr>\n",
       "      <th>4</th>\n",
       "      <td>small world</td>\n",
       "      <td>100</td>\n",
       "      <td>small world.</td>\n",
       "    </tr>\n",
       "    <tr>\n",
       "      <th>...</th>\n",
       "      <td>...</td>\n",
       "      <td>...</td>\n",
       "      <td>...</td>\n",
       "    </tr>\n",
       "    <tr>\n",
       "      <th>3302</th>\n",
       "      <td>the heretic's apprentice: the sixteenth chroni...</td>\n",
       "      <td>80</td>\n",
       "      <td>the potter's field: the seventeenth chronicle ...</td>\n",
       "    </tr>\n",
       "    <tr>\n",
       "      <th>3303</th>\n",
       "      <td>the hiding place: a novel</td>\n",
       "      <td>80</td>\n",
       "      <td>the living : a novel</td>\n",
       "    </tr>\n",
       "    <tr>\n",
       "      <th>3304</th>\n",
       "      <td>fishbowl (red dress ink (paperback))</td>\n",
       "      <td>80</td>\n",
       "      <td>out of the blue (red dress ink (paperback))</td>\n",
       "    </tr>\n",
       "    <tr>\n",
       "      <th>3305</th>\n",
       "      <td>first cut</td>\n",
       "      <td>80</td>\n",
       "      <td>first truth</td>\n",
       "    </tr>\n",
       "    <tr>\n",
       "      <th>3306</th>\n",
       "      <td>secret history</td>\n",
       "      <td>80</td>\n",
       "      <td>secret star</td>\n",
       "    </tr>\n",
       "  </tbody>\n",
       "</table>\n",
       "<p>3307 rows × 3 columns</p>\n",
       "</div>"
      ],
      "text/plain": [
       "                                             Title_sort  ...                                         match_sort\n",
       "0                                     all american girl  ...                                  all-american girl\n",
       "1                                          house of god  ...                                      house of god.\n",
       "2                        die entdeckung der langsamkeit  ...                    die entdeckung der langsamkeit.\n",
       "3                                                 sybil  ...                                             sybil.\n",
       "4                                           small world  ...                                       small world.\n",
       "...                                                 ...  ...                                                ...\n",
       "3302  the heretic's apprentice: the sixteenth chroni...  ...  the potter's field: the seventeenth chronicle ...\n",
       "3303                          the hiding place: a novel  ...                               the living : a novel\n",
       "3304               fishbowl (red dress ink (paperback))  ...        out of the blue (red dress ink (paperback))\n",
       "3305                                          first cut  ...                                        first truth\n",
       "3306                                     secret history  ...                                        secret star\n",
       "\n",
       "[3307 rows x 3 columns]"
      ]
     },
     "execution_count": 52,
     "metadata": {},
     "output_type": "execute_result"
    }
   ],
   "source": [
    "%%time\n",
    "title_fuzzy_match = fuzzy_match_comparison(\"Title\")\n",
    "title_fuzzy_match"
   ]
  },
  {
   "cell_type": "code",
   "execution_count": 76,
   "id": "73c28b67-49d3-477b-9edf-620725e22e21",
   "metadata": {
    "scrolled": true
   },
   "outputs": [
    {
     "data": {
      "text/html": [
       "<div>\n",
       "<style scoped>\n",
       "    .dataframe tbody tr th:only-of-type {\n",
       "        vertical-align: middle;\n",
       "    }\n",
       "\n",
       "    .dataframe tbody tr th {\n",
       "        vertical-align: top;\n",
       "    }\n",
       "\n",
       "    .dataframe thead th {\n",
       "        text-align: right;\n",
       "    }\n",
       "</style>\n",
       "<table border=\"1\" class=\"dataframe\">\n",
       "  <thead>\n",
       "    <tr style=\"text-align: right;\">\n",
       "      <th></th>\n",
       "      <th>Title_sort</th>\n",
       "      <th>score_sort</th>\n",
       "      <th>match_sort</th>\n",
       "    </tr>\n",
       "  </thead>\n",
       "  <tbody>\n",
       "    <tr>\n",
       "      <th>287</th>\n",
       "      <td>the wind in the willows (wordsworth collection)</td>\n",
       "      <td>95</td>\n",
       "      <td>wind in the willows (wordsworth collection)</td>\n",
       "    </tr>\n",
       "    <tr>\n",
       "      <th>288</th>\n",
       "      <td>false prophet: a peter decker/rina lazarus mys...</td>\n",
       "      <td>95</td>\n",
       "      <td>false prophet: a peter decker/rina lazarus nov...</td>\n",
       "    </tr>\n",
       "    <tr>\n",
       "      <th>289</th>\n",
       "      <td>people of the earth (the first north americans...</td>\n",
       "      <td>95</td>\n",
       "      <td>people of the sea (the first north americans s...</td>\n",
       "    </tr>\n",
       "    <tr>\n",
       "      <th>290</th>\n",
       "      <td>flash point</td>\n",
       "      <td>95</td>\n",
       "      <td>flashpoint</td>\n",
       "    </tr>\n",
       "    <tr>\n",
       "      <th>291</th>\n",
       "      <td>a stranger is watching</td>\n",
       "      <td>95</td>\n",
       "      <td>stranger is watching</td>\n",
       "    </tr>\n",
       "    <tr>\n",
       "      <th>292</th>\n",
       "      <td>rabbit run</td>\n",
       "      <td>95</td>\n",
       "      <td>rabbit, run</td>\n",
       "    </tr>\n",
       "    <tr>\n",
       "      <th>293</th>\n",
       "      <td>siddharta</td>\n",
       "      <td>95</td>\n",
       "      <td>siddhartha</td>\n",
       "    </tr>\n",
       "    <tr>\n",
       "      <th>294</th>\n",
       "      <td>weave world</td>\n",
       "      <td>95</td>\n",
       "      <td>weaveworld</td>\n",
       "    </tr>\n",
       "    <tr>\n",
       "      <th>295</th>\n",
       "      <td>godel, escher, bach: an eternal golden braid</td>\n",
       "      <td>95</td>\n",
       "      <td>gãâ¶del, escher, bach: an eternal golden braid</td>\n",
       "    </tr>\n",
       "    <tr>\n",
       "      <th>296</th>\n",
       "      <td>dark angel</td>\n",
       "      <td>95</td>\n",
       "      <td>darkangel</td>\n",
       "    </tr>\n",
       "    <tr>\n",
       "      <th>297</th>\n",
       "      <td>mr vertigo</td>\n",
       "      <td>95</td>\n",
       "      <td>mr. vertigo, mr. vertigo.</td>\n",
       "    </tr>\n",
       "    <tr>\n",
       "      <th>298</th>\n",
       "      <td>dave barry turns 40</td>\n",
       "      <td>95</td>\n",
       "      <td>dave barry turns 50</td>\n",
       "    </tr>\n",
       "    <tr>\n",
       "      <th>299</th>\n",
       "      <td>a walk across america</td>\n",
       "      <td>95</td>\n",
       "      <td>walk across america</td>\n",
       "    </tr>\n",
       "    <tr>\n",
       "      <th>300</th>\n",
       "      <td>the florabama ladies auxiliary and sewing circle</td>\n",
       "      <td>95</td>\n",
       "      <td>the florabama ladies' auxiliary &amp; sewing circle</td>\n",
       "    </tr>\n",
       "    <tr>\n",
       "      <th>301</th>\n",
       "      <td>restaurant at the end of the universe</td>\n",
       "      <td>95</td>\n",
       "      <td>the restaurant at the end of the universe</td>\n",
       "    </tr>\n",
       "    <tr>\n",
       "      <th>302</th>\n",
       "      <td>gruel and unusual punishment: a pennsylvania d...</td>\n",
       "      <td>95</td>\n",
       "      <td>gruel and unusual punishment: a pennsylvania d...</td>\n",
       "    </tr>\n",
       "    <tr>\n",
       "      <th>303</th>\n",
       "      <td>christmas box (christmas box trilogy)</td>\n",
       "      <td>95</td>\n",
       "      <td>the christmas box (christmas box trilogy)</td>\n",
       "    </tr>\n",
       "    <tr>\n",
       "      <th>304</th>\n",
       "      <td>irish mist: a nuala anne mcgrail novel (nuala ...</td>\n",
       "      <td>95</td>\n",
       "      <td>irish whiskey: a nuala anne mcgrail novel (nua...</td>\n",
       "    </tr>\n",
       "    <tr>\n",
       "      <th>305</th>\n",
       "      <td>witch child</td>\n",
       "      <td>95</td>\n",
       "      <td>with child</td>\n",
       "    </tr>\n",
       "    <tr>\n",
       "      <th>306</th>\n",
       "      <td>a prayer for owen meany</td>\n",
       "      <td>95</td>\n",
       "      <td>prayer for owen meany</td>\n",
       "    </tr>\n",
       "    <tr>\n",
       "      <th>307</th>\n",
       "      <td>the stand (the complete and uncut edition)</td>\n",
       "      <td>95</td>\n",
       "      <td>the stand: the complete &amp; uncut edition</td>\n",
       "    </tr>\n",
       "    <tr>\n",
       "      <th>308</th>\n",
       "      <td>awakening</td>\n",
       "      <td>95</td>\n",
       "      <td>awakenings</td>\n",
       "    </tr>\n",
       "    <tr>\n",
       "      <th>309</th>\n",
       "      <td>night fire</td>\n",
       "      <td>95</td>\n",
       "      <td>night fires</td>\n",
       "    </tr>\n",
       "    <tr>\n",
       "      <th>310</th>\n",
       "      <td>mcnally's risk (archy mcnally novels (paperback))</td>\n",
       "      <td>95</td>\n",
       "      <td>mcnally's trial (archy mcnally novels (paperba...</td>\n",
       "    </tr>\n",
       "    <tr>\n",
       "      <th>311</th>\n",
       "      <td>the black echo (detective harry bosch mysteries)</td>\n",
       "      <td>95</td>\n",
       "      <td>the black ice (detective harry bosch mysteries)</td>\n",
       "    </tr>\n",
       "    <tr>\n",
       "      <th>312</th>\n",
       "      <td>the far side gallery 4</td>\n",
       "      <td>95</td>\n",
       "      <td>the far side gallery 5</td>\n",
       "    </tr>\n",
       "    <tr>\n",
       "      <th>313</th>\n",
       "      <td>diary of a young girl: the definitive editon</td>\n",
       "      <td>95</td>\n",
       "      <td>the diary of a young girl: the definitive edition</td>\n",
       "    </tr>\n",
       "    <tr>\n",
       "      <th>314</th>\n",
       "      <td>the beach</td>\n",
       "      <td>95</td>\n",
       "      <td>the breach</td>\n",
       "    </tr>\n",
       "    <tr>\n",
       "      <th>315</th>\n",
       "      <td>brain child</td>\n",
       "      <td>95</td>\n",
       "      <td>brainchild</td>\n",
       "    </tr>\n",
       "    <tr>\n",
       "      <th>316</th>\n",
       "      <td>divine secrets of the ya-ya sisterhood : a novel</td>\n",
       "      <td>95</td>\n",
       "      <td>the divine secrets of the ya-ya sisterhood: a ...</td>\n",
       "    </tr>\n",
       "    <tr>\n",
       "      <th>317</th>\n",
       "      <td>irish eyes: a nuala anne mcgrail novel (nuala ...</td>\n",
       "      <td>95</td>\n",
       "      <td>irish whiskey: a nuala anne mcgrail novel (nua...</td>\n",
       "    </tr>\n",
       "    <tr>\n",
       "      <th>318</th>\n",
       "      <td>death of common sense : how law is suffocating...</td>\n",
       "      <td>95</td>\n",
       "      <td>the death of common sense: how law is suffocat...</td>\n",
       "    </tr>\n",
       "    <tr>\n",
       "      <th>319</th>\n",
       "      <td>the best american nonrequired reading 2002 (be...</td>\n",
       "      <td>95</td>\n",
       "      <td>the best american nonrequired reading 2003 (be...</td>\n",
       "    </tr>\n",
       "    <tr>\n",
       "      <th>320</th>\n",
       "      <td>avatar book one of two (star trek deep space n...</td>\n",
       "      <td>95</td>\n",
       "      <td>avatar book two of two (star trek: deep space ...</td>\n",
       "    </tr>\n",
       "    <tr>\n",
       "      <th>321</th>\n",
       "      <td>x-men 2: a novelization</td>\n",
       "      <td>95</td>\n",
       "      <td>x-men: a novelization</td>\n",
       "    </tr>\n",
       "    <tr>\n",
       "      <th>322</th>\n",
       "      <td>prince charming</td>\n",
       "      <td>94</td>\n",
       "      <td>princess charming</td>\n",
       "    </tr>\n",
       "    <tr>\n",
       "      <th>323</th>\n",
       "      <td>chicken soup for the soul (chicken soup for th...</td>\n",
       "      <td>94</td>\n",
       "      <td>chicken soup for the woman's soul (chicken sou...</td>\n",
       "    </tr>\n",
       "    <tr>\n",
       "      <th>324</th>\n",
       "      <td>a star called henry</td>\n",
       "      <td>94</td>\n",
       "      <td>star called henry</td>\n",
       "    </tr>\n",
       "    <tr>\n",
       "      <th>325</th>\n",
       "      <td>the return of the indian (indian in the cupboard)</td>\n",
       "      <td>94</td>\n",
       "      <td>the secret of the indian (indian in the cupboard)</td>\n",
       "    </tr>\n",
       "    <tr>\n",
       "      <th>326</th>\n",
       "      <td>a perfect stranger</td>\n",
       "      <td>94</td>\n",
       "      <td>perfect stranger</td>\n",
       "    </tr>\n",
       "    <tr>\n",
       "      <th>327</th>\n",
       "      <td>the unbearable lightness of being</td>\n",
       "      <td>94</td>\n",
       "      <td>unbearable lightness of being</td>\n",
       "    </tr>\n",
       "    <tr>\n",
       "      <th>328</th>\n",
       "      <td>a little princess</td>\n",
       "      <td>94</td>\n",
       "      <td>little princess</td>\n",
       "    </tr>\n",
       "    <tr>\n",
       "      <th>329</th>\n",
       "      <td>chicken soup for the mother's soul (chicken so...</td>\n",
       "      <td>94</td>\n",
       "      <td>chicken soup for the woman's soul (chicken sou...</td>\n",
       "    </tr>\n",
       "    <tr>\n",
       "      <th>330</th>\n",
       "      <td>burning time (april woo suspense novels (paper...</td>\n",
       "      <td>94</td>\n",
       "      <td>hanging time (april woo suspense novels (paper...</td>\n",
       "    </tr>\n",
       "    <tr>\n",
       "      <th>331</th>\n",
       "      <td>prayers for the dead : a peter decker/rina laz...</td>\n",
       "      <td>94</td>\n",
       "      <td>prayers for the dead: a peter decker/rina laza...</td>\n",
       "    </tr>\n",
       "    <tr>\n",
       "      <th>332</th>\n",
       "      <td>children of the vampire: the diaries of the fa...</td>\n",
       "      <td>94</td>\n",
       "      <td>lord of the vampires: the diaries of the famil...</td>\n",
       "    </tr>\n",
       "    <tr>\n",
       "      <th>333</th>\n",
       "      <td>complete chronicles of narnia</td>\n",
       "      <td>94</td>\n",
       "      <td>the complete chronicles of narnia</td>\n",
       "    </tr>\n",
       "    <tr>\n",
       "      <th>334</th>\n",
       "      <td>people of the mist (the first north americans ...</td>\n",
       "      <td>94</td>\n",
       "      <td>people of the sea (the first north americans s...</td>\n",
       "    </tr>\n",
       "    <tr>\n",
       "      <th>335</th>\n",
       "      <td>the eleventh commandment</td>\n",
       "      <td>94</td>\n",
       "      <td>the seventh commandment</td>\n",
       "    </tr>\n",
       "    <tr>\n",
       "      <th>336</th>\n",
       "      <td>the tie that binds</td>\n",
       "      <td>94</td>\n",
       "      <td>the ties that bind</td>\n",
       "    </tr>\n",
       "  </tbody>\n",
       "</table>\n",
       "</div>"
      ],
      "text/plain": [
       "                                            Title_sort  ...                                         match_sort\n",
       "287    the wind in the willows (wordsworth collection)  ...        wind in the willows (wordsworth collection)\n",
       "288  false prophet: a peter decker/rina lazarus mys...  ...  false prophet: a peter decker/rina lazarus nov...\n",
       "289  people of the earth (the first north americans...  ...  people of the sea (the first north americans s...\n",
       "290                                        flash point  ...                                         flashpoint\n",
       "291                             a stranger is watching  ...                               stranger is watching\n",
       "292                                         rabbit run  ...                                        rabbit, run\n",
       "293                                          siddharta  ...                                         siddhartha\n",
       "294                                        weave world  ...                                         weaveworld\n",
       "295       godel, escher, bach: an eternal golden braid  ...    gãâ¶del, escher, bach: an eternal golden braid\n",
       "296                                         dark angel  ...                                          darkangel\n",
       "297                                         mr vertigo  ...                          mr. vertigo, mr. vertigo.\n",
       "298                                dave barry turns 40  ...                                dave barry turns 50\n",
       "299                              a walk across america  ...                                walk across america\n",
       "300   the florabama ladies auxiliary and sewing circle  ...    the florabama ladies' auxiliary & sewing circle\n",
       "301              restaurant at the end of the universe  ...          the restaurant at the end of the universe\n",
       "302  gruel and unusual punishment: a pennsylvania d...  ...  gruel and unusual punishment: a pennsylvania d...\n",
       "303              christmas box (christmas box trilogy)  ...          the christmas box (christmas box trilogy)\n",
       "304  irish mist: a nuala anne mcgrail novel (nuala ...  ...  irish whiskey: a nuala anne mcgrail novel (nua...\n",
       "305                                        witch child  ...                                         with child\n",
       "306                            a prayer for owen meany  ...                              prayer for owen meany\n",
       "307         the stand (the complete and uncut edition)  ...            the stand: the complete & uncut edition\n",
       "308                                          awakening  ...                                         awakenings\n",
       "309                                         night fire  ...                                        night fires\n",
       "310  mcnally's risk (archy mcnally novels (paperback))  ...  mcnally's trial (archy mcnally novels (paperba...\n",
       "311   the black echo (detective harry bosch mysteries)  ...    the black ice (detective harry bosch mysteries)\n",
       "312                             the far side gallery 4  ...                             the far side gallery 5\n",
       "313       diary of a young girl: the definitive editon  ...  the diary of a young girl: the definitive edition\n",
       "314                                          the beach  ...                                         the breach\n",
       "315                                        brain child  ...                                         brainchild\n",
       "316   divine secrets of the ya-ya sisterhood : a novel  ...  the divine secrets of the ya-ya sisterhood: a ...\n",
       "317  irish eyes: a nuala anne mcgrail novel (nuala ...  ...  irish whiskey: a nuala anne mcgrail novel (nua...\n",
       "318  death of common sense : how law is suffocating...  ...  the death of common sense: how law is suffocat...\n",
       "319  the best american nonrequired reading 2002 (be...  ...  the best american nonrequired reading 2003 (be...\n",
       "320  avatar book one of two (star trek deep space n...  ...  avatar book two of two (star trek: deep space ...\n",
       "321                            x-men 2: a novelization  ...                              x-men: a novelization\n",
       "322                                    prince charming  ...                                  princess charming\n",
       "323  chicken soup for the soul (chicken soup for th...  ...  chicken soup for the woman's soul (chicken sou...\n",
       "324                                a star called henry  ...                                  star called henry\n",
       "325  the return of the indian (indian in the cupboard)  ...  the secret of the indian (indian in the cupboard)\n",
       "326                                 a perfect stranger  ...                                   perfect stranger\n",
       "327                  the unbearable lightness of being  ...                      unbearable lightness of being\n",
       "328                                  a little princess  ...                                    little princess\n",
       "329  chicken soup for the mother's soul (chicken so...  ...  chicken soup for the woman's soul (chicken sou...\n",
       "330  burning time (april woo suspense novels (paper...  ...  hanging time (april woo suspense novels (paper...\n",
       "331  prayers for the dead : a peter decker/rina laz...  ...  prayers for the dead: a peter decker/rina laza...\n",
       "332  children of the vampire: the diaries of the fa...  ...  lord of the vampires: the diaries of the famil...\n",
       "333                      complete chronicles of narnia  ...                  the complete chronicles of narnia\n",
       "334  people of the mist (the first north americans ...  ...  people of the sea (the first north americans s...\n",
       "335                           the eleventh commandment  ...                            the seventh commandment\n",
       "336                                 the tie that binds  ...                                 the ties that bind\n",
       "\n",
       "[50 rows x 3 columns]"
      ]
     },
     "execution_count": 76,
     "metadata": {},
     "output_type": "execute_result"
    }
   ],
   "source": [
    "title_fuzzy_match[title_fuzzy_match[\"score_sort\"] <= 95].head()"
   ]
  },
  {
   "cell_type": "code",
   "execution_count": 86,
   "id": "c15fb09a-14d7-4943-aa61-0da96520383d",
   "metadata": {},
   "outputs": [
    {
     "data": {
      "text/html": [
       "<div>\n",
       "<style scoped>\n",
       "    .dataframe tbody tr th:only-of-type {\n",
       "        vertical-align: middle;\n",
       "    }\n",
       "\n",
       "    .dataframe tbody tr th {\n",
       "        vertical-align: top;\n",
       "    }\n",
       "\n",
       "    .dataframe thead th {\n",
       "        text-align: right;\n",
       "    }\n",
       "</style>\n",
       "<table border=\"1\" class=\"dataframe\">\n",
       "  <thead>\n",
       "    <tr style=\"text-align: right;\">\n",
       "      <th></th>\n",
       "      <th>ISBN</th>\n",
       "      <th>Book-Title</th>\n",
       "      <th>Book-Author</th>\n",
       "      <th>Year-Of-Publication</th>\n",
       "      <th>Book-Publisher</th>\n",
       "    </tr>\n",
       "  </thead>\n",
       "  <tbody>\n",
       "    <tr>\n",
       "      <th>6209</th>\n",
       "      <td>0671870963</td>\n",
       "      <td>prince charming</td>\n",
       "      <td>julie garwood</td>\n",
       "      <td>1995</td>\n",
       "      <td>pocket</td>\n",
       "    </tr>\n",
       "    <tr>\n",
       "      <th>12676</th>\n",
       "      <td>1575662612</td>\n",
       "      <td>princess charming</td>\n",
       "      <td>jane heller</td>\n",
       "      <td>1997</td>\n",
       "      <td>kensington publishing corporation</td>\n",
       "    </tr>\n",
       "    <tr>\n",
       "      <th>17351</th>\n",
       "      <td>0671870955</td>\n",
       "      <td>prince charming</td>\n",
       "      <td>julie garwood</td>\n",
       "      <td>1994</td>\n",
       "      <td>atria</td>\n",
       "    </tr>\n",
       "  </tbody>\n",
       "</table>\n",
       "</div>"
      ],
      "text/plain": [
       "             ISBN  ...                     Book-Publisher\n",
       "6209   0671870963  ...                             pocket\n",
       "12676  1575662612  ...  kensington publishing corporation\n",
       "17351  0671870955  ...                              atria\n",
       "\n",
       "[3 rows x 5 columns]"
      ]
     },
     "execution_count": 86,
     "metadata": {},
     "output_type": "execute_result"
    }
   ],
   "source": [
    "books[books[\"Book-Title\"].isin([\"prince charming\", \"princess charming\"])]"
   ]
  },
  {
   "cell_type": "code",
   "execution_count": 65,
   "id": "22e9fb7f-f4a6-4e8f-8bef-fad98fb74d93",
   "metadata": {},
   "outputs": [
    {
     "name": "stdout",
     "output_type": "stream",
     "text": [
      "1330\n",
      "CPU times: user 2.97 s, sys: 145 ms, total: 3.12 s\n",
      "Wall time: 3.5 s\n"
     ]
    },
    {
     "data": {
      "text/html": [
       "<div>\n",
       "<style scoped>\n",
       "    .dataframe tbody tr th:only-of-type {\n",
       "        vertical-align: middle;\n",
       "    }\n",
       "\n",
       "    .dataframe tbody tr th {\n",
       "        vertical-align: top;\n",
       "    }\n",
       "\n",
       "    .dataframe thead th {\n",
       "        text-align: right;\n",
       "    }\n",
       "</style>\n",
       "<table border=\"1\" class=\"dataframe\">\n",
       "  <thead>\n",
       "    <tr style=\"text-align: right;\">\n",
       "      <th></th>\n",
       "      <th>Publisher_sort</th>\n",
       "      <th>score_sort</th>\n",
       "      <th>match_sort</th>\n",
       "    </tr>\n",
       "  </thead>\n",
       "  <tbody>\n",
       "    <tr>\n",
       "      <th>0</th>\n",
       "      <td>penguin books australia ltd</td>\n",
       "      <td>100</td>\n",
       "      <td>penguin books australia ltd.</td>\n",
       "    </tr>\n",
       "    <tr>\n",
       "      <th>1</th>\n",
       "      <td>scholastic inc</td>\n",
       "      <td>100</td>\n",
       "      <td>scholastic inc.</td>\n",
       "    </tr>\n",
       "    <tr>\n",
       "      <th>2</th>\n",
       "      <td>random house trade</td>\n",
       "      <td>100</td>\n",
       "      <td>random house~trade</td>\n",
       "    </tr>\n",
       "    <tr>\n",
       "      <th>3</th>\n",
       "      <td>droemersche verlagsanstalt th. knaur nachf. gm...</td>\n",
       "      <td>99</td>\n",
       "      <td>droemersche verlagsanstalt th. knaur nachf., g...</td>\n",
       "    </tr>\n",
       "    <tr>\n",
       "      <th>4</th>\n",
       "      <td>wilhelm goldmann verlag gmbh</td>\n",
       "      <td>98</td>\n",
       "      <td>wilhelm goldmann verlag, gmbh</td>\n",
       "    </tr>\n",
       "    <tr>\n",
       "      <th>...</th>\n",
       "      <td>...</td>\n",
       "      <td>...</td>\n",
       "      <td>...</td>\n",
       "    </tr>\n",
       "    <tr>\n",
       "      <th>411</th>\n",
       "      <td>living books</td>\n",
       "      <td>80</td>\n",
       "      <td>vintage books</td>\n",
       "    </tr>\n",
       "    <tr>\n",
       "      <th>412</th>\n",
       "      <td>livre de poche</td>\n",
       "      <td>80</td>\n",
       "      <td>livre de poche french</td>\n",
       "    </tr>\n",
       "    <tr>\n",
       "      <th>413</th>\n",
       "      <td>modern publishing</td>\n",
       "      <td>80</td>\n",
       "      <td>workman publishing</td>\n",
       "    </tr>\n",
       "    <tr>\n",
       "      <th>414</th>\n",
       "      <td>mondadori (it)</td>\n",
       "      <td>80</td>\n",
       "      <td>mondadori italian</td>\n",
       "    </tr>\n",
       "    <tr>\n",
       "      <th>415</th>\n",
       "      <td>zebra books</td>\n",
       "      <td>80</td>\n",
       "      <td>zed books</td>\n",
       "    </tr>\n",
       "  </tbody>\n",
       "</table>\n",
       "<p>416 rows × 3 columns</p>\n",
       "</div>"
      ],
      "text/plain": [
       "                                        Publisher_sort  ...                                         match_sort\n",
       "0                          penguin books australia ltd  ...                       penguin books australia ltd.\n",
       "1                                       scholastic inc  ...                                    scholastic inc.\n",
       "2                                   random house trade  ...                                 random house~trade\n",
       "3    droemersche verlagsanstalt th. knaur nachf. gm...  ...  droemersche verlagsanstalt th. knaur nachf., g...\n",
       "4                         wilhelm goldmann verlag gmbh  ...                      wilhelm goldmann verlag, gmbh\n",
       "..                                                 ...  ...                                                ...\n",
       "411                                       living books  ...                                      vintage books\n",
       "412                                     livre de poche  ...                              livre de poche french\n",
       "413                                  modern publishing  ...                                 workman publishing\n",
       "414                                     mondadori (it)  ...                                  mondadori italian\n",
       "415                                        zebra books  ...                                          zed books\n",
       "\n",
       "[416 rows x 3 columns]"
      ]
     },
     "execution_count": 65,
     "metadata": {},
     "output_type": "execute_result"
    }
   ],
   "source": [
    "%%time\n",
    "publisher_fuzzy_match = fuzzy_match_comparison(\"Publisher\")\n",
    "publisher_fuzzy_match"
   ]
  },
  {
   "cell_type": "markdown",
   "id": "a7250af6-a2e3-4ea5-aa27-6d9a111ac74c",
   "metadata": {},
   "source": [
    "### Book-Title\n",
    "- Books can be published by other publisher\n",
    "- Potential for Book-Title to be similar\n",
    "- Duplicates on Book-Publisher and Book-Title\n",
    "    - No concern "
   ]
  },
  {
   "cell_type": "code",
   "execution_count": 28,
   "id": "f4e46692-3c05-4b29-aafa-4ebee624d02f",
   "metadata": {},
   "outputs": [
    {
     "data": {
      "text/plain": [
       "<Axes: xlabel='Count', ylabel='Book-Title'>"
      ]
     },
     "execution_count": 28,
     "metadata": {},
     "output_type": "execute_result"
    },
    {
     "data": {
      "image/png": "[encoded data removed]",
      "text/plain": [
       "<Figure size 432x288 with 1 Axes>"
      ]
     },
     "metadata": {},
     "output_type": "display_data"
    }
   ],
   "source": [
    "books_title = books.groupby([\"Book-Title\"])[\"ISBN\"].count() \\\n",
    "    .sort_values(ascending = False).reset_index().rename(columns= {'ISBN':'Count'})\n",
    "\n",
    "duplicate_books = books_title[books_title[\"Count\"] > 1]\n",
    "\n",
    "sns.barplot(duplicate_books.head(20), x = \"Count\", y = \"Book-Title\", orient = \"h\")"
   ]
  },
  {
   "cell_type": "code",
   "execution_count": 29,
   "id": "0f06a3c4-6692-413c-916b-b7a5dad926b1",
   "metadata": {},
   "outputs": [
    {
     "data": {
      "text/html": [
       "<div>\n",
       "<style scoped>\n",
       "    .dataframe tbody tr th:only-of-type {\n",
       "        vertical-align: middle;\n",
       "    }\n",
       "\n",
       "    .dataframe tbody tr th {\n",
       "        vertical-align: top;\n",
       "    }\n",
       "\n",
       "    .dataframe thead th {\n",
       "        text-align: right;\n",
       "    }\n",
       "</style>\n",
       "<table border=\"1\" class=\"dataframe\">\n",
       "  <thead>\n",
       "    <tr style=\"text-align: right;\">\n",
       "      <th></th>\n",
       "      <th>ISBN</th>\n",
       "      <th>Book-Title</th>\n",
       "      <th>Book-Author</th>\n",
       "      <th>Year-Of-Publication</th>\n",
       "      <th>Book-Publisher</th>\n",
       "      <th>Book-Author-Processed</th>\n",
       "    </tr>\n",
       "  </thead>\n",
       "  <tbody>\n",
       "    <tr>\n",
       "      <th>16688</th>\n",
       "      <td>0385007515</td>\n",
       "      <td>'salem's lot</td>\n",
       "      <td>Stephen King</td>\n",
       "      <td>1993</td>\n",
       "      <td>Doubleday Books</td>\n",
       "      <td>stephen king</td>\n",
       "    </tr>\n",
       "    <tr>\n",
       "      <th>4643</th>\n",
       "      <td>0451168089</td>\n",
       "      <td>'salem's lot</td>\n",
       "      <td>Stephen King</td>\n",
       "      <td>1990</td>\n",
       "      <td>Signet Book</td>\n",
       "      <td>stephen king</td>\n",
       "    </tr>\n",
       "    <tr>\n",
       "      <th>337</th>\n",
       "      <td>0307001164</td>\n",
       "      <td>101 dalmatians</td>\n",
       "      <td>Justine Korman</td>\n",
       "      <td>1996</td>\n",
       "      <td>Golden Books Publishing Company</td>\n",
       "      <td>justine korman</td>\n",
       "    </tr>\n",
       "    <tr>\n",
       "      <th>10276</th>\n",
       "      <td>0717284832</td>\n",
       "      <td>101 dalmatians</td>\n",
       "      <td>Walt Disney</td>\n",
       "      <td>1995</td>\n",
       "      <td>Stoddart+publishing</td>\n",
       "      <td>walt disney</td>\n",
       "    </tr>\n",
       "    <tr>\n",
       "      <th>3842</th>\n",
       "      <td>0451519841</td>\n",
       "      <td>1984</td>\n",
       "      <td>George Orwell</td>\n",
       "      <td>1980</td>\n",
       "      <td>New Amer Library</td>\n",
       "      <td>george orwell</td>\n",
       "    </tr>\n",
       "    <tr>\n",
       "      <th>1117</th>\n",
       "      <td>0451524934</td>\n",
       "      <td>1984</td>\n",
       "      <td>George Orwell</td>\n",
       "      <td>1990</td>\n",
       "      <td>Signet Book</td>\n",
       "      <td>george orwell</td>\n",
       "    </tr>\n",
       "    <tr>\n",
       "      <th>14503</th>\n",
       "      <td>207036822X</td>\n",
       "      <td>1984</td>\n",
       "      <td>George Orwell</td>\n",
       "      <td>0</td>\n",
       "      <td>Gallimard French</td>\n",
       "      <td>george orwell</td>\n",
       "    </tr>\n",
       "    <tr>\n",
       "      <th>5470</th>\n",
       "      <td>0452262933</td>\n",
       "      <td>1984</td>\n",
       "      <td>George Orwell</td>\n",
       "      <td>1983</td>\n",
       "      <td>Plume Books</td>\n",
       "      <td>george orwell</td>\n",
       "    </tr>\n",
       "    <tr>\n",
       "      <th>991</th>\n",
       "      <td>0446610038</td>\n",
       "      <td>1st to die: a novel</td>\n",
       "      <td>James Patterson</td>\n",
       "      <td>2002</td>\n",
       "      <td>Warner Vision</td>\n",
       "      <td>james patterson</td>\n",
       "    </tr>\n",
       "    <tr>\n",
       "      <th>2044</th>\n",
       "      <td>0316666009</td>\n",
       "      <td>1st to die: a novel</td>\n",
       "      <td>James Patterson</td>\n",
       "      <td>2001</td>\n",
       "      <td>Little Brown and Company</td>\n",
       "      <td>james patterson</td>\n",
       "    </tr>\n",
       "    <tr>\n",
       "      <th>7369</th>\n",
       "      <td>0399146245</td>\n",
       "      <td>24 hours</td>\n",
       "      <td>Greg Iles</td>\n",
       "      <td>2000</td>\n",
       "      <td>Putnam Publishing Group</td>\n",
       "      <td>greg iles</td>\n",
       "    </tr>\n",
       "    <tr>\n",
       "      <th>4529</th>\n",
       "      <td>0451203593</td>\n",
       "      <td>24 hours</td>\n",
       "      <td>Greg Iles</td>\n",
       "      <td>2001</td>\n",
       "      <td>Signet Book</td>\n",
       "      <td>greg iles</td>\n",
       "    </tr>\n",
       "    <tr>\n",
       "      <th>1845</th>\n",
       "      <td>0446612790</td>\n",
       "      <td>2nd chance</td>\n",
       "      <td>James Patterson</td>\n",
       "      <td>2003</td>\n",
       "      <td>Warner Vision</td>\n",
       "      <td>james patterson</td>\n",
       "    </tr>\n",
       "    <tr>\n",
       "      <th>435</th>\n",
       "      <td>0316693200</td>\n",
       "      <td>2nd chance</td>\n",
       "      <td>James Patterson</td>\n",
       "      <td>2002</td>\n",
       "      <td>Little, Brown</td>\n",
       "      <td>james patterson</td>\n",
       "    </tr>\n",
       "    <tr>\n",
       "      <th>4579</th>\n",
       "      <td>0345315227</td>\n",
       "      <td>3001: the final odyssey</td>\n",
       "      <td>Arthur C. Clarke</td>\n",
       "      <td>1997</td>\n",
       "      <td>Ballantine Books</td>\n",
       "      <td>arthur c clarke</td>\n",
       "    </tr>\n",
       "    <tr>\n",
       "      <th>12506</th>\n",
       "      <td>0345423496</td>\n",
       "      <td>3001: the final odyssey</td>\n",
       "      <td>Arthur C. Clarke</td>\n",
       "      <td>1998</td>\n",
       "      <td>Del Rey Books</td>\n",
       "      <td>arthur c clarke</td>\n",
       "    </tr>\n",
       "    <tr>\n",
       "      <th>3200</th>\n",
       "      <td>0860074382</td>\n",
       "      <td>84 charing cross road</td>\n",
       "      <td>Helene Hanff</td>\n",
       "      <td>0</td>\n",
       "      <td>Warner Books&gt; C/o Little Br</td>\n",
       "      <td>helene hanff</td>\n",
       "    </tr>\n",
       "    <tr>\n",
       "      <th>4054</th>\n",
       "      <td>0140143505</td>\n",
       "      <td>84 charing cross road</td>\n",
       "      <td>Helene Hanff</td>\n",
       "      <td>1990</td>\n",
       "      <td>Penguin Books</td>\n",
       "      <td>helene hanff</td>\n",
       "    </tr>\n",
       "    <tr>\n",
       "      <th>11743</th>\n",
       "      <td>0380001225</td>\n",
       "      <td>84 charing cross road</td>\n",
       "      <td>Helene Hanff</td>\n",
       "      <td>1987</td>\n",
       "      <td>Avon Books</td>\n",
       "      <td>helene hanff</td>\n",
       "    </tr>\n",
       "    <tr>\n",
       "      <th>1307</th>\n",
       "      <td>0449003787</td>\n",
       "      <td>\\o\\\" is for outlaw\"</td>\n",
       "      <td>SUE GRAFTON</td>\n",
       "      <td>2001</td>\n",
       "      <td>Ballantine Books</td>\n",
       "      <td>sue grafton</td>\n",
       "    </tr>\n",
       "  </tbody>\n",
       "</table>\n",
       "</div>"
      ],
      "text/plain": [
       "             ISBN  ... Book-Author-Processed\n",
       "16688  0385007515  ...          stephen king\n",
       "4643   0451168089  ...          stephen king\n",
       "337    0307001164  ...        justine korman\n",
       "10276  0717284832  ...           walt disney\n",
       "3842   0451519841  ...         george orwell\n",
       "1117   0451524934  ...         george orwell\n",
       "14503  207036822X  ...         george orwell\n",
       "5470   0452262933  ...         george orwell\n",
       "991    0446610038  ...       james patterson\n",
       "2044   0316666009  ...       james patterson\n",
       "7369   0399146245  ...             greg iles\n",
       "4529   0451203593  ...             greg iles\n",
       "1845   0446612790  ...       james patterson\n",
       "435    0316693200  ...       james patterson\n",
       "4579   0345315227  ...       arthur c clarke\n",
       "12506  0345423496  ...       arthur c clarke\n",
       "3200   0860074382  ...          helene hanff\n",
       "4054   0140143505  ...          helene hanff\n",
       "11743  0380001225  ...          helene hanff\n",
       "1307   0449003787  ...           sue grafton\n",
       "\n",
       "[20 rows x 6 columns]"
      ]
     },
     "execution_count": 29,
     "metadata": {},
     "output_type": "execute_result"
    }
   ],
   "source": [
    "books[books[\"Book-Title\"].isin(duplicate_books[\"Book-Title\"])].sort_values(by = \"Book-Title\").head(20)"
   ]
  },
  {
   "cell_type": "code",
   "execution_count": 30,
   "id": "c5c480b8-94f8-494e-9dfd-24ae88e14694",
   "metadata": {},
   "outputs": [],
   "source": [
    "books_tp = books.groupby([\"Book-Title\", \"Book-Publisher\"])[\"ISBN\"].count() \\\n",
    "    .sort_values(ascending = False).reset_index().rename(columns= {'ISBN':'Count'})"
   ]
  },
  {
   "cell_type": "code",
   "execution_count": 31,
   "id": "a9441abb-945f-4e24-9d97-d5cc76054fa8",
   "metadata": {},
   "outputs": [
    {
     "data": {
      "text/html": [
       "<div>\n",
       "<style scoped>\n",
       "    .dataframe tbody tr th:only-of-type {\n",
       "        vertical-align: middle;\n",
       "    }\n",
       "\n",
       "    .dataframe tbody tr th {\n",
       "        vertical-align: top;\n",
       "    }\n",
       "\n",
       "    .dataframe thead th {\n",
       "        text-align: right;\n",
       "    }\n",
       "</style>\n",
       "<table border=\"1\" class=\"dataframe\">\n",
       "  <thead>\n",
       "    <tr style=\"text-align: right;\">\n",
       "      <th></th>\n",
       "      <th>ISBN</th>\n",
       "      <th>Book-Title</th>\n",
       "      <th>Book-Author</th>\n",
       "      <th>Year-Of-Publication</th>\n",
       "      <th>Book-Publisher</th>\n",
       "      <th>Book-Author-Processed</th>\n",
       "    </tr>\n",
       "  </thead>\n",
       "  <tbody>\n",
       "    <tr>\n",
       "      <th>4647</th>\n",
       "      <td>1591822580</td>\n",
       "      <td>chobits (chobits)</td>\n",
       "      <td>Clamp</td>\n",
       "      <td>2003</td>\n",
       "      <td>TokyoPop</td>\n",
       "      <td>clamp</td>\n",
       "    </tr>\n",
       "    <tr>\n",
       "      <th>4648</th>\n",
       "      <td>1591822572</td>\n",
       "      <td>chobits (chobits)</td>\n",
       "      <td>Clamp</td>\n",
       "      <td>2003</td>\n",
       "      <td>TokyoPop</td>\n",
       "      <td>clamp</td>\n",
       "    </tr>\n",
       "    <tr>\n",
       "      <th>4649</th>\n",
       "      <td>1591821533</td>\n",
       "      <td>chobits (chobits)</td>\n",
       "      <td>Clamp</td>\n",
       "      <td>2003</td>\n",
       "      <td>TokyoPop</td>\n",
       "      <td>clamp</td>\n",
       "    </tr>\n",
       "    <tr>\n",
       "      <th>4650</th>\n",
       "      <td>1591820073</td>\n",
       "      <td>chobits (chobits)</td>\n",
       "      <td>Clamp</td>\n",
       "      <td>2003</td>\n",
       "      <td>TokyoPop</td>\n",
       "      <td>clamp</td>\n",
       "    </tr>\n",
       "    <tr>\n",
       "      <th>6642</th>\n",
       "      <td>0671468200</td>\n",
       "      <td>my sweet audrina</td>\n",
       "      <td>V.C. Andrews</td>\n",
       "      <td>1983</td>\n",
       "      <td>Pocket</td>\n",
       "      <td>v c andrews</td>\n",
       "    </tr>\n",
       "    <tr>\n",
       "      <th>17073</th>\n",
       "      <td>0671606867</td>\n",
       "      <td>my sweet audrina</td>\n",
       "      <td>V. C. Andrews</td>\n",
       "      <td>1985</td>\n",
       "      <td>Pocket</td>\n",
       "      <td>v c andrews</td>\n",
       "    </tr>\n",
       "    <tr>\n",
       "      <th>2694</th>\n",
       "      <td>0671729462</td>\n",
       "      <td>my sweet audrina</td>\n",
       "      <td>V.C. Andrews</td>\n",
       "      <td>1990</td>\n",
       "      <td>Pocket</td>\n",
       "      <td>v c andrews</td>\n",
       "    </tr>\n",
       "    <tr>\n",
       "      <th>7453</th>\n",
       "      <td>0671656570</td>\n",
       "      <td>my sweet audrina</td>\n",
       "      <td>V. C. Andrews</td>\n",
       "      <td>1987</td>\n",
       "      <td>Pocket</td>\n",
       "      <td>v c andrews</td>\n",
       "    </tr>\n",
       "    <tr>\n",
       "      <th>125</th>\n",
       "      <td>0451162072</td>\n",
       "      <td>pet sematary</td>\n",
       "      <td>Stephen King</td>\n",
       "      <td>1994</td>\n",
       "      <td>Signet Book</td>\n",
       "      <td>stephen king</td>\n",
       "    </tr>\n",
       "    <tr>\n",
       "      <th>14176</th>\n",
       "      <td>0385182449</td>\n",
       "      <td>pet sematary</td>\n",
       "      <td>Stephen King</td>\n",
       "      <td>1993</td>\n",
       "      <td>Doubleday Books</td>\n",
       "      <td>stephen king</td>\n",
       "    </tr>\n",
       "    <tr>\n",
       "      <th>883</th>\n",
       "      <td>0743412273</td>\n",
       "      <td>pet sematary</td>\n",
       "      <td>Stephen King</td>\n",
       "      <td>2001</td>\n",
       "      <td>Pocket</td>\n",
       "      <td>stephen king</td>\n",
       "    </tr>\n",
       "    <tr>\n",
       "      <th>6336</th>\n",
       "      <td>0451150244</td>\n",
       "      <td>pet sematary</td>\n",
       "      <td>Stephen King</td>\n",
       "      <td>1984</td>\n",
       "      <td>Signet Book</td>\n",
       "      <td>stephen king</td>\n",
       "    </tr>\n",
       "    <tr>\n",
       "      <th>9712</th>\n",
       "      <td>0451139755</td>\n",
       "      <td>pet sematary</td>\n",
       "      <td>Stephen King</td>\n",
       "      <td>1985</td>\n",
       "      <td>New Amer Library</td>\n",
       "      <td>stephen king</td>\n",
       "    </tr>\n",
       "    <tr>\n",
       "      <th>8950</th>\n",
       "      <td>0451157753</td>\n",
       "      <td>pet sematary</td>\n",
       "      <td>Stephen King</td>\n",
       "      <td>1984</td>\n",
       "      <td>Signet Book</td>\n",
       "      <td>stephen king</td>\n",
       "    </tr>\n",
       "    <tr>\n",
       "      <th>8244</th>\n",
       "      <td>0451132378</td>\n",
       "      <td>pet sematary</td>\n",
       "      <td>Stephen King</td>\n",
       "      <td>1984</td>\n",
       "      <td>Signet Book</td>\n",
       "      <td>stephen king</td>\n",
       "    </tr>\n",
       "    <tr>\n",
       "      <th>11911</th>\n",
       "      <td>0395489318</td>\n",
       "      <td>the fellowship of the ring (the lord of the ri...</td>\n",
       "      <td>J. R. R. Tolkien</td>\n",
       "      <td>1988</td>\n",
       "      <td>Houghton Mifflin Company</td>\n",
       "      <td>j r r tolkien</td>\n",
       "    </tr>\n",
       "    <tr>\n",
       "      <th>17475</th>\n",
       "      <td>0618260269</td>\n",
       "      <td>the fellowship of the ring (the lord of the ri...</td>\n",
       "      <td>J. R. R. Tolkien</td>\n",
       "      <td>2002</td>\n",
       "      <td>Houghton Mifflin Company</td>\n",
       "      <td>j r r tolkien</td>\n",
       "    </tr>\n",
       "    <tr>\n",
       "      <th>6474</th>\n",
       "      <td>0618129030</td>\n",
       "      <td>the fellowship of the ring (the lord of the ri...</td>\n",
       "      <td>J. R. R. Tolkien</td>\n",
       "      <td>2001</td>\n",
       "      <td>Houghton Mifflin Company</td>\n",
       "      <td>j r r tolkien</td>\n",
       "    </tr>\n",
       "    <tr>\n",
       "      <th>5469</th>\n",
       "      <td>0618002227</td>\n",
       "      <td>the fellowship of the ring (the lord of the ri...</td>\n",
       "      <td>J. R. R. Tolkien</td>\n",
       "      <td>1999</td>\n",
       "      <td>Houghton Mifflin Company</td>\n",
       "      <td>j r r tolkien</td>\n",
       "    </tr>\n",
       "    <tr>\n",
       "      <th>848</th>\n",
       "      <td>0345339703</td>\n",
       "      <td>the fellowship of the ring (the lord of the ri...</td>\n",
       "      <td>J.R.R. TOLKIEN</td>\n",
       "      <td>1986</td>\n",
       "      <td>Del Rey</td>\n",
       "      <td>j r r tolkien</td>\n",
       "    </tr>\n",
       "    <tr>\n",
       "      <th>8497</th>\n",
       "      <td>0671701592</td>\n",
       "      <td>the hitchhiker's guide to the galaxy</td>\n",
       "      <td>Douglas Adams</td>\n",
       "      <td>1990</td>\n",
       "      <td>Pocket</td>\n",
       "      <td>douglas adams</td>\n",
       "    </tr>\n",
       "    <tr>\n",
       "      <th>8830</th>\n",
       "      <td>0517542099</td>\n",
       "      <td>the hitchhiker's guide to the galaxy</td>\n",
       "      <td>Douglas Adams</td>\n",
       "      <td>1989</td>\n",
       "      <td>Harmony</td>\n",
       "      <td>douglas adams</td>\n",
       "    </tr>\n",
       "    <tr>\n",
       "      <th>17080</th>\n",
       "      <td>0345418913</td>\n",
       "      <td>the hitchhiker's guide to the galaxy</td>\n",
       "      <td>Douglas Adams</td>\n",
       "      <td>1997</td>\n",
       "      <td>Ballantine Books</td>\n",
       "      <td>douglas adams</td>\n",
       "    </tr>\n",
       "    <tr>\n",
       "      <th>14800</th>\n",
       "      <td>0671664964</td>\n",
       "      <td>the hitchhiker's guide to the galaxy</td>\n",
       "      <td>Douglas Adams</td>\n",
       "      <td>1988</td>\n",
       "      <td>Pocket</td>\n",
       "      <td>douglas adams</td>\n",
       "    </tr>\n",
       "    <tr>\n",
       "      <th>481</th>\n",
       "      <td>0345391802</td>\n",
       "      <td>the hitchhiker's guide to the galaxy</td>\n",
       "      <td>Douglas Adams</td>\n",
       "      <td>1995</td>\n",
       "      <td>Ballantine Books</td>\n",
       "      <td>douglas adams</td>\n",
       "    </tr>\n",
       "    <tr>\n",
       "      <th>6658</th>\n",
       "      <td>0671746065</td>\n",
       "      <td>the hitchhiker's guide to the galaxy</td>\n",
       "      <td>Douglas Adams</td>\n",
       "      <td>1991</td>\n",
       "      <td>Pocket</td>\n",
       "      <td>douglas adams</td>\n",
       "    </tr>\n",
       "    <tr>\n",
       "      <th>87</th>\n",
       "      <td>0671461494</td>\n",
       "      <td>the hitchhiker's guide to the galaxy</td>\n",
       "      <td>Douglas Adams</td>\n",
       "      <td>1982</td>\n",
       "      <td>Pocket</td>\n",
       "      <td>douglas adams</td>\n",
       "    </tr>\n",
       "  </tbody>\n",
       "</table>\n",
       "</div>"
      ],
      "text/plain": [
       "             ISBN  ... Book-Author-Processed\n",
       "4647   1591822580  ...                 clamp\n",
       "4648   1591822572  ...                 clamp\n",
       "4649   1591821533  ...                 clamp\n",
       "4650   1591820073  ...                 clamp\n",
       "6642   0671468200  ...           v c andrews\n",
       "17073  0671606867  ...           v c andrews\n",
       "2694   0671729462  ...           v c andrews\n",
       "7453   0671656570  ...           v c andrews\n",
       "125    0451162072  ...          stephen king\n",
       "14176  0385182449  ...          stephen king\n",
       "883    0743412273  ...          stephen king\n",
       "6336   0451150244  ...          stephen king\n",
       "9712   0451139755  ...          stephen king\n",
       "8950   0451157753  ...          stephen king\n",
       "8244   0451132378  ...          stephen king\n",
       "11911  0395489318  ...         j r r tolkien\n",
       "17475  0618260269  ...         j r r tolkien\n",
       "6474   0618129030  ...         j r r tolkien\n",
       "5469   0618002227  ...         j r r tolkien\n",
       "848    0345339703  ...         j r r tolkien\n",
       "8497   0671701592  ...         douglas adams\n",
       "8830   0517542099  ...         douglas adams\n",
       "17080  0345418913  ...         douglas adams\n",
       "14800  0671664964  ...         douglas adams\n",
       "481    0345391802  ...         douglas adams\n",
       "6658   0671746065  ...         douglas adams\n",
       "87     0671461494  ...         douglas adams\n",
       "\n",
       "[27 rows x 6 columns]"
      ]
     },
     "execution_count": 31,
     "metadata": {},
     "output_type": "execute_result"
    }
   ],
   "source": [
    "books[books[\"Book-Title\"].isin(books_tp[\"Book-Title\"].head(5))].sort_values(\"Book-Title\")"
   ]
  },
  {
   "cell_type": "markdown",
   "id": "fe51e266-95ff-4f1e-8474-69dab1e6ed49",
   "metadata": {},
   "source": [
    "#### Title text cleaning:\n",
    "Will try to get information out of title using text processing techniques - BoW, vectorise for distances. Not much text to go off though."
   ]
  },
  {
   "cell_type": "code",
   "execution_count": 32,
   "id": "76cea67e-5dc3-40ac-bd70-29b4ed02c34b",
   "metadata": {},
   "outputs": [
    {
     "name": "stderr",
     "output_type": "stream",
     "text": [
      "[nltk_data] Downloading package omw-1.4 to\n",
      "[nltk_data]     /Users/caseyhaseloff/nltk_data...\n",
      "[nltk_data]   Package omw-1.4 is already up-to-date!\n",
      "[nltk_data] Downloading package punkt to\n",
      "[nltk_data]     /Users/caseyhaseloff/nltk_data...\n",
      "[nltk_data]   Package punkt is already up-to-date!\n",
      "[nltk_data] Downloading package stopwords to\n",
      "[nltk_data]     /Users/caseyhaseloff/nltk_data...\n",
      "[nltk_data]   Package stopwords is already up-to-date!\n",
      "[nltk_data] Downloading package wordnet to\n",
      "[nltk_data]     /Users/caseyhaseloff/nltk_data...\n",
      "[nltk_data]   Package wordnet is already up-to-date!\n"
     ]
    }
   ],
   "source": [
    "import nltk\n",
    "nltk.download('omw-1.4')\n",
    "nltk.download('punkt')\n",
    "from nltk.tokenize import word_tokenize\n",
    "from nltk.corpus import stopwords\n",
    "from nltk.stem import WordNetLemmatizer\n",
    "\n",
    "nltk.download('stopwords')\n",
    "nltk.download('wordnet')\n",
    "\n",
    "# Initialize the lemmatizer\n",
    "lemmatizer = WordNetLemmatizer()\n",
    "\n",
    "# Initialize the stop words\n",
    "stop_words = set(stopwords.words('english'))"
   ]
  },
  {
   "cell_type": "code",
   "execution_count": 33,
   "id": "a31e7caf-0b54-4b05-8bc6-f8c4704331ea",
   "metadata": {},
   "outputs": [
    {
     "data": {
      "text/plain": [
       "(15976,)"
      ]
     },
     "execution_count": 33,
     "metadata": {},
     "output_type": "execute_result"
    }
   ],
   "source": [
    "books[\"Book-Title\"].unique().shape"
   ]
  },
  {
   "cell_type": "code",
   "execution_count": 34,
   "id": "df140af6-1953-439c-8dcb-208a0f8ddfc4",
   "metadata": {},
   "outputs": [
    {
     "data": {
      "text/html": [
       "<div>\n",
       "<style scoped>\n",
       "    .dataframe tbody tr th:only-of-type {\n",
       "        vertical-align: middle;\n",
       "    }\n",
       "\n",
       "    .dataframe tbody tr th {\n",
       "        vertical-align: top;\n",
       "    }\n",
       "\n",
       "    .dataframe thead th {\n",
       "        text-align: right;\n",
       "    }\n",
       "</style>\n",
       "<table border=\"1\" class=\"dataframe\">\n",
       "  <thead>\n",
       "    <tr style=\"text-align: right;\">\n",
       "      <th></th>\n",
       "      <th>ISBN</th>\n",
       "      <th>Book-Title</th>\n",
       "      <th>Book-Author</th>\n",
       "      <th>Year-Of-Publication</th>\n",
       "      <th>Book-Publisher</th>\n",
       "      <th>Book-Author-Processed</th>\n",
       "    </tr>\n",
       "  </thead>\n",
       "  <tbody>\n",
       "    <tr>\n",
       "      <th>1117</th>\n",
       "      <td>0451524934</td>\n",
       "      <td>1984</td>\n",
       "      <td>George Orwell</td>\n",
       "      <td>1990</td>\n",
       "      <td>Signet Book</td>\n",
       "      <td>george orwell</td>\n",
       "    </tr>\n",
       "    <tr>\n",
       "      <th>2696</th>\n",
       "      <td>0679417397</td>\n",
       "      <td>1984 (everyman's library)</td>\n",
       "      <td>GEORGE ORWELL</td>\n",
       "      <td>1992</td>\n",
       "      <td>Everyman's Library</td>\n",
       "      <td>george orwell</td>\n",
       "    </tr>\n",
       "    <tr>\n",
       "      <th>3842</th>\n",
       "      <td>0451519841</td>\n",
       "      <td>1984</td>\n",
       "      <td>George Orwell</td>\n",
       "      <td>1980</td>\n",
       "      <td>New Amer Library</td>\n",
       "      <td>george orwell</td>\n",
       "    </tr>\n",
       "    <tr>\n",
       "      <th>4039</th>\n",
       "      <td>0881030368</td>\n",
       "      <td>1984 (signet classics (paperback))</td>\n",
       "      <td>George Orwell</td>\n",
       "      <td>1999</td>\n",
       "      <td>Sagebrush Bound</td>\n",
       "      <td>george orwell</td>\n",
       "    </tr>\n",
       "    <tr>\n",
       "      <th>5470</th>\n",
       "      <td>0452262933</td>\n",
       "      <td>1984</td>\n",
       "      <td>George Orwell</td>\n",
       "      <td>1983</td>\n",
       "      <td>Plume Books</td>\n",
       "      <td>george orwell</td>\n",
       "    </tr>\n",
       "    <tr>\n",
       "      <th>14503</th>\n",
       "      <td>207036822X</td>\n",
       "      <td>1984</td>\n",
       "      <td>George Orwell</td>\n",
       "      <td>0</td>\n",
       "      <td>Gallimard French</td>\n",
       "      <td>george orwell</td>\n",
       "    </tr>\n",
       "    <tr>\n",
       "      <th>16492</th>\n",
       "      <td>8423309835</td>\n",
       "      <td>1984 (spanish language edition)</td>\n",
       "      <td>George Orwell</td>\n",
       "      <td>1984</td>\n",
       "      <td>Destino Ediciones</td>\n",
       "      <td>george orwell</td>\n",
       "    </tr>\n",
       "    <tr>\n",
       "      <th>17098</th>\n",
       "      <td>0393310752</td>\n",
       "      <td>the fact of a doorframe: poems selected and ne...</td>\n",
       "      <td>Adrienne Rich</td>\n",
       "      <td>1994</td>\n",
       "      <td>W W Norton &amp; Co</td>\n",
       "      <td>adrienne rich</td>\n",
       "    </tr>\n",
       "  </tbody>\n",
       "</table>\n",
       "</div>"
      ],
      "text/plain": [
       "             ISBN  ... Book-Author-Processed\n",
       "1117   0451524934  ...         george orwell\n",
       "2696   0679417397  ...         george orwell\n",
       "3842   0451519841  ...         george orwell\n",
       "4039   0881030368  ...         george orwell\n",
       "5470   0452262933  ...         george orwell\n",
       "14503  207036822X  ...         george orwell\n",
       "16492  8423309835  ...         george orwell\n",
       "17098  0393310752  ...         adrienne rich\n",
       "\n",
       "[8 rows x 6 columns]"
      ]
     },
     "execution_count": 34,
     "metadata": {},
     "output_type": "execute_result"
    }
   ],
   "source": [
    "books[books[\"Book-Title\"].str.contains(\"1984\")]"
   ]
  },
  {
   "cell_type": "code",
   "execution_count": 39,
   "id": "391cea75-a7ef-4d74-8c00-b4791f1b9b38",
   "metadata": {},
   "outputs": [],
   "source": [
    "books[\"Book-Title-Processed\"] = books[\"Book-Title\"].str.lower()"
   ]
  },
  {
   "cell_type": "code",
   "execution_count": 40,
   "id": "39d46668-94b8-43d8-a340-c336de22d75c",
   "metadata": {
    "scrolled": true
   },
   "outputs": [],
   "source": [
    "# Remove all non-alphabetic characters by replacing them with a space.\n",
    "books[\"Book-Title-Processed\"] = books[\"Book-Title-Processed\"].str.replace(r'[^a-zA-Z]', ' ', regex = True).str.replace('  ', ' ')"
   ]
  },
  {
   "cell_type": "code",
   "execution_count": 37,
   "id": "1a092ea6-e619-4426-8a43-7844ec5578b9",
   "metadata": {},
   "outputs": [],
   "source": [
    "def preprocess_text(text):\n",
    "\n",
    "    # Convert to lowercase\n",
    "    text = text.lower()\n",
    "    \n",
    "    # Remove special characters and digits\n",
    "    text = re.sub(r'[^a-zA-Z0-9]', ' ', text)\n",
    "    \n",
    "    # Tokenize the text\n",
    "    tokens = nltk.word_tokenize(text)\n",
    "    \n",
    "    # Remove stop words\n",
    "    # tokens = [word for word in tokens if word not in stop_words]\n",
    "    \n",
    "    # Lemmatize the tokens\n",
    "    tokens = [lemmatizer.lemmatize(word) for word in tokens]\n",
    "    \n",
    "    # Return the processed text as a string\n",
    "    return \" \".join(tokens)\n",
    "\n",
    "def preprocess_dataframe(df, column_name):\n",
    "    df[f\"{column_name}-Processed\"] = df[column_name].apply(preprocess_text)\n",
    "    return df"
   ]
  },
  {
   "cell_type": "code",
   "execution_count": 42,
   "id": "f3722e24-1cde-4d92-bb77-8c66764bfce6",
   "metadata": {},
   "outputs": [
    {
     "data": {
      "text/html": [
       "<div>\n",
       "<style scoped>\n",
       "    .dataframe tbody tr th:only-of-type {\n",
       "        vertical-align: middle;\n",
       "    }\n",
       "\n",
       "    .dataframe tbody tr th {\n",
       "        vertical-align: top;\n",
       "    }\n",
       "\n",
       "    .dataframe thead th {\n",
       "        text-align: right;\n",
       "    }\n",
       "</style>\n",
       "<table border=\"1\" class=\"dataframe\">\n",
       "  <thead>\n",
       "    <tr style=\"text-align: right;\">\n",
       "      <th></th>\n",
       "      <th>ISBN</th>\n",
       "      <th>Book-Title</th>\n",
       "      <th>Book-Author</th>\n",
       "      <th>Year-Of-Publication</th>\n",
       "      <th>Book-Publisher</th>\n",
       "      <th>Book-Author-Processed</th>\n",
       "      <th>Book-Title-Processed</th>\n",
       "      <th>Book-Publisher-Processed</th>\n",
       "    </tr>\n",
       "  </thead>\n",
       "  <tbody>\n",
       "    <tr>\n",
       "      <th>0</th>\n",
       "      <td>0002005018</td>\n",
       "      <td>clara callan</td>\n",
       "      <td>Richard Bruce Wright</td>\n",
       "      <td>2001</td>\n",
       "      <td>HarperFlamingo Canada</td>\n",
       "      <td>richard bruce wright</td>\n",
       "      <td>clara callan</td>\n",
       "      <td>harperflamingo canada</td>\n",
       "    </tr>\n",
       "    <tr>\n",
       "      <th>1</th>\n",
       "      <td>0374157065</td>\n",
       "      <td>flu: the story of the great influenza pandemic...</td>\n",
       "      <td>Gina Bari Kolata</td>\n",
       "      <td>1999</td>\n",
       "      <td>Farrar Straus Giroux</td>\n",
       "      <td>gina bari kolata</td>\n",
       "      <td>flu the story of the great influenza pandemic ...</td>\n",
       "      <td>farrar straus giroux</td>\n",
       "    </tr>\n",
       "    <tr>\n",
       "      <th>2</th>\n",
       "      <td>0399135782</td>\n",
       "      <td>the kitchen god's wife</td>\n",
       "      <td>Amy Tan</td>\n",
       "      <td>1991</td>\n",
       "      <td>Putnam Pub Group</td>\n",
       "      <td>amy tan</td>\n",
       "      <td>the kitchen god s wife</td>\n",
       "      <td>putnam pub group</td>\n",
       "    </tr>\n",
       "    <tr>\n",
       "      <th>3</th>\n",
       "      <td>0440234743</td>\n",
       "      <td>the testament</td>\n",
       "      <td>John Grisham</td>\n",
       "      <td>1999</td>\n",
       "      <td>Dell</td>\n",
       "      <td>john grisham</td>\n",
       "      <td>the testament</td>\n",
       "      <td>dell</td>\n",
       "    </tr>\n",
       "    <tr>\n",
       "      <th>4</th>\n",
       "      <td>0452264464</td>\n",
       "      <td>beloved (plume contemporary fiction)</td>\n",
       "      <td>Toni Morrison</td>\n",
       "      <td>1994</td>\n",
       "      <td>Plume</td>\n",
       "      <td>toni morrison</td>\n",
       "      <td>beloved plume contemporary fiction</td>\n",
       "      <td>plume</td>\n",
       "    </tr>\n",
       "    <tr>\n",
       "      <th>...</th>\n",
       "      <td>...</td>\n",
       "      <td>...</td>\n",
       "      <td>...</td>\n",
       "      <td>...</td>\n",
       "      <td>...</td>\n",
       "      <td>...</td>\n",
       "      <td>...</td>\n",
       "      <td>...</td>\n",
       "    </tr>\n",
       "    <tr>\n",
       "      <th>18180</th>\n",
       "      <td>0375411615</td>\n",
       "      <td>love, etc.</td>\n",
       "      <td>Julian Barnes</td>\n",
       "      <td>2001</td>\n",
       "      <td>Alfred A. Knopf</td>\n",
       "      <td>julian barnes</td>\n",
       "      <td>love etc</td>\n",
       "      <td>alfred a knopf</td>\n",
       "    </tr>\n",
       "    <tr>\n",
       "      <th>18181</th>\n",
       "      <td>0836227751</td>\n",
       "      <td>the wit and whimsy of mary engelbreit</td>\n",
       "      <td>Mary Engelbreit</td>\n",
       "      <td>1997</td>\n",
       "      <td>Andrews McMeel Publishing</td>\n",
       "      <td>mary engelbreit</td>\n",
       "      <td>the wit and whimsy of mary engelbreit</td>\n",
       "      <td>andrew mcmeel publishing</td>\n",
       "    </tr>\n",
       "    <tr>\n",
       "      <th>18182</th>\n",
       "      <td>8433966634</td>\n",
       "      <td>los detectives salvajes</td>\n",
       "      <td>Roberto Bolano</td>\n",
       "      <td>2003</td>\n",
       "      <td>Anagrama</td>\n",
       "      <td>roberto bolano</td>\n",
       "      <td>los detective salvajes</td>\n",
       "      <td>anagrama</td>\n",
       "    </tr>\n",
       "    <tr>\n",
       "      <th>18183</th>\n",
       "      <td>0330353349</td>\n",
       "      <td>the ice house (tv tie-in edition)</td>\n",
       "      <td>Minette Walters</td>\n",
       "      <td>1997</td>\n",
       "      <td>McClelland &amp; Stewart</td>\n",
       "      <td>minette walters</td>\n",
       "      <td>the ice house tv tie in edition</td>\n",
       "      <td>mcclelland stewart</td>\n",
       "    </tr>\n",
       "    <tr>\n",
       "      <th>18184</th>\n",
       "      <td>0394757645</td>\n",
       "      <td>trouble is my business (vintage crime/black li...</td>\n",
       "      <td>Raymond Chandler</td>\n",
       "      <td>1992</td>\n",
       "      <td>Vintage Books USA</td>\n",
       "      <td>raymond chandler</td>\n",
       "      <td>trouble is my business vintage crime black lizard</td>\n",
       "      <td>vintage book usa</td>\n",
       "    </tr>\n",
       "  </tbody>\n",
       "</table>\n",
       "<p>18185 rows × 8 columns</p>\n",
       "</div>"
      ],
      "text/plain": [
       "             ISBN  ...  Book-Publisher-Processed\n",
       "0      0002005018  ...     harperflamingo canada\n",
       "1      0374157065  ...      farrar straus giroux\n",
       "2      0399135782  ...          putnam pub group\n",
       "3      0440234743  ...                      dell\n",
       "4      0452264464  ...                     plume\n",
       "...           ...  ...                       ...\n",
       "18180  0375411615  ...            alfred a knopf\n",
       "18181  0836227751  ...  andrew mcmeel publishing\n",
       "18182  8433966634  ...                  anagrama\n",
       "18183  0330353349  ...        mcclelland stewart\n",
       "18184  0394757645  ...          vintage book usa\n",
       "\n",
       "[18185 rows x 8 columns]"
      ]
     },
     "execution_count": 42,
     "metadata": {},
     "output_type": "execute_result"
    }
   ],
   "source": [
    "books = preprocess_dataframe(books, \"Book-Publisher\")\n",
    "books = preprocess_dataframe(books, \"Book-Title\")\n",
    "books"
   ]
  },
  {
   "cell_type": "code",
   "execution_count": 43,
   "id": "644143d0-aaff-468f-b735-4f0714f74876",
   "metadata": {},
   "outputs": [],
   "source": [
    "books[\"Book-Info\"] = books[\"Book-Title-Processed\"] + \" by \" + books[\"Book-Author-Processed\"]"
   ]
  },
  {
   "cell_type": "code",
   "execution_count": 44,
   "id": "952e0a9b-4bbb-4e1d-a784-75b161f1301b",
   "metadata": {},
   "outputs": [],
   "source": [
    "# vectorizing the book info column using TFidf Vectorizer\n",
    "from sklearn.feature_extraction.text import CountVectorizer, TfidfVectorizer\n",
    "from sklearn.metrics.pairwise import cosine_similarity\n",
    "\n",
    "\n",
    "tf = TfidfVectorizer(analyzer = \"word\", ngram_range=(1,2), min_df=0, stop_words='english')\n",
    "tfidf_matrix = tf.fit_transform(books['Book-Info'])"
   ]
  },
  {
   "cell_type": "code",
   "execution_count": 45,
   "id": "707df838-6bf9-43ef-9d03-f8e5f4d0f54a",
   "metadata": {},
   "outputs": [],
   "source": [
    "cosine_sim =  cosine_similarity(tfidf_matrix, tfidf_matrix)"
   ]
  },
  {
   "cell_type": "code",
   "execution_count": 46,
   "id": "51470ad1-6728-42cc-8335-25d941026725",
   "metadata": {},
   "outputs": [
    {
     "data": {
      "text/plain": [
       "0                                         clara callan\n",
       "1    flu: the story of the great influenza pandemic...\n",
       "2                               the kitchen god's wife\n",
       "3                                        the testament\n",
       "4                 beloved (plume contemporary fiction)\n",
       "Name: Book-Title, dtype: object"
      ]
     },
     "execution_count": 46,
     "metadata": {},
     "output_type": "execute_result"
    }
   ],
   "source": [
    "indices = pd.Series(books['Book-Title'])\n",
    "indices[:5]"
   ]
  },
  {
   "cell_type": "code",
   "execution_count": 47,
   "id": "d7c6c0ec-0853-4120-9b6b-7d94fd0e449a",
   "metadata": {},
   "outputs": [],
   "source": [
    "def recommend(title, cosine_sim = cosine_sim):\n",
    "    if title not in indices.values:\n",
    "        return \"Title not found in the database.\"\n",
    "    recommended_books = []\n",
    "    idx = indices[indices == title].index[0]   # to get the index of book name matching the input book_name\n",
    "    score_series = pd.Series(cosine_sim[idx]).sort_values(ascending = False)   # similarity scores in descending order\n",
    "    top_10_indices = list(score_series.iloc[1:11].index)   # to get the indices of top 10 most similar books\n",
    "    # [1:11] to exclude 0 (index 0 is the input book itself)\n",
    "    \n",
    "    for i, x in zip(top_10_indices, score_series.iloc[1:11]):   # to append the titles of top 10 similar booksto the recommended_books list\n",
    "        recommended_books.append([list(books['Book-Info'])[i], round(x, 2)])\n",
    "        \n",
    "    return recommended_books"
   ]
  },
  {
   "cell_type": "code",
   "execution_count": 48,
   "id": "ab758443-2e20-48a6-80fa-1b22998f3bb8",
   "metadata": {},
   "outputs": [
    {
     "data": {
      "text/plain": [
       "[['the kitchen god s wife by amy tan', 1.0],\n",
       " ['the kitchen god s wife vintage contemporary by amy tan', 0.72],\n",
       " ['the hundred secret sens by amy tan', 0.34],\n",
       " ['the hundred secret sens by amy tan', 0.34],\n",
       " ['the hundred secret sens by amy tan', 0.34],\n",
       " ['the bonesetter s daughter by amy tan', 0.33],\n",
       " ['the bonesetter s daughter by amy tan', 0.33],\n",
       " ['the joy luck club by amy tan', 0.3],\n",
       " ['the joy luck club by amy tan', 0.3],\n",
       " ['the joy luck club by amy tan', 0.3]]"
      ]
     },
     "execution_count": 48,
     "metadata": {},
     "output_type": "execute_result"
    }
   ],
   "source": [
    "recommend(\"the kitchen god's wife\")"
   ]
  },
  {
   "cell_type": "code",
   "execution_count": 49,
   "id": "5a359ba2-fb8b-42af-ac40-b6d04a788a88",
   "metadata": {},
   "outputs": [
    {
     "data": {
      "text/html": [
       "<div>\n",
       "<style scoped>\n",
       "    .dataframe tbody tr th:only-of-type {\n",
       "        vertical-align: middle;\n",
       "    }\n",
       "\n",
       "    .dataframe tbody tr th {\n",
       "        vertical-align: top;\n",
       "    }\n",
       "\n",
       "    .dataframe thead th {\n",
       "        text-align: right;\n",
       "    }\n",
       "</style>\n",
       "<table border=\"1\" class=\"dataframe\">\n",
       "  <thead>\n",
       "    <tr style=\"text-align: right;\">\n",
       "      <th></th>\n",
       "      <th>ISBN</th>\n",
       "      <th>Book-Title</th>\n",
       "      <th>Book-Author</th>\n",
       "      <th>Year-Of-Publication</th>\n",
       "      <th>Book-Publisher</th>\n",
       "      <th>Book-Author-Processed</th>\n",
       "      <th>Book-Title-Processed</th>\n",
       "      <th>Book-Publisher-Processed</th>\n",
       "      <th>Book-Info</th>\n",
       "    </tr>\n",
       "  </thead>\n",
       "  <tbody>\n",
       "    <tr>\n",
       "      <th>0</th>\n",
       "      <td>0002005018</td>\n",
       "      <td>clara callan</td>\n",
       "      <td>Richard Bruce Wright</td>\n",
       "      <td>2001</td>\n",
       "      <td>HarperFlamingo Canada</td>\n",
       "      <td>richard bruce wright</td>\n",
       "      <td>clara callan</td>\n",
       "      <td>harperflamingo canada</td>\n",
       "      <td>clara callan by richard bruce wright</td>\n",
       "    </tr>\n",
       "  </tbody>\n",
       "</table>\n",
       "</div>"
      ],
      "text/plain": [
       "         ISBN  ...                             Book-Info\n",
       "0  0002005018  ...  clara callan by richard bruce wright\n",
       "\n",
       "[1 rows x 9 columns]"
      ]
     },
     "execution_count": 49,
     "metadata": {},
     "output_type": "execute_result"
    }
   ],
   "source": [
    "books[books[\"Book-Title-Processed\"].isin(['clara callan novel','clara callan'])]"
   ]
  },
  {
   "cell_type": "code",
   "execution_count": 50,
   "id": "021a5761-9417-440b-baa1-cb462fcd965a",
   "metadata": {},
   "outputs": [
    {
     "data": {
      "text/html": [
       "<div>\n",
       "<style scoped>\n",
       "    .dataframe tbody tr th:only-of-type {\n",
       "        vertical-align: middle;\n",
       "    }\n",
       "\n",
       "    .dataframe tbody tr th {\n",
       "        vertical-align: top;\n",
       "    }\n",
       "\n",
       "    .dataframe thead th {\n",
       "        text-align: right;\n",
       "    }\n",
       "</style>\n",
       "<table border=\"1\" class=\"dataframe\">\n",
       "  <thead>\n",
       "    <tr style=\"text-align: right;\">\n",
       "      <th></th>\n",
       "      <th>ISBN</th>\n",
       "      <th>Book-Title</th>\n",
       "      <th>Book-Author</th>\n",
       "      <th>Year-Of-Publication</th>\n",
       "      <th>Book-Publisher</th>\n",
       "      <th>Book-Author-Processed</th>\n",
       "      <th>Book-Title-Processed</th>\n",
       "      <th>Book-Publisher-Processed</th>\n",
       "      <th>Book-Info</th>\n",
       "    </tr>\n",
       "  </thead>\n",
       "  <tbody>\n",
       "    <tr>\n",
       "      <th>0</th>\n",
       "      <td>0002005018</td>\n",
       "      <td>clara callan</td>\n",
       "      <td>Richard Bruce Wright</td>\n",
       "      <td>2001</td>\n",
       "      <td>HarperFlamingo Canada</td>\n",
       "      <td>richard bruce wright</td>\n",
       "      <td>clara callan</td>\n",
       "      <td>harperflamingo canada</td>\n",
       "      <td>clara callan by richard bruce wright</td>\n",
       "    </tr>\n",
       "    <tr>\n",
       "      <th>1</th>\n",
       "      <td>0374157065</td>\n",
       "      <td>flu: the story of the great influenza pandemic...</td>\n",
       "      <td>Gina Bari Kolata</td>\n",
       "      <td>1999</td>\n",
       "      <td>Farrar Straus Giroux</td>\n",
       "      <td>gina bari kolata</td>\n",
       "      <td>flu the story of the great influenza pandemic ...</td>\n",
       "      <td>farrar straus giroux</td>\n",
       "      <td>flu the story of the great influenza pandemic ...</td>\n",
       "    </tr>\n",
       "    <tr>\n",
       "      <th>2</th>\n",
       "      <td>0399135782</td>\n",
       "      <td>the kitchen god's wife</td>\n",
       "      <td>Amy Tan</td>\n",
       "      <td>1991</td>\n",
       "      <td>Putnam Pub Group</td>\n",
       "      <td>amy tan</td>\n",
       "      <td>the kitchen god s wife</td>\n",
       "      <td>putnam pub group</td>\n",
       "      <td>the kitchen god s wife by amy tan</td>\n",
       "    </tr>\n",
       "    <tr>\n",
       "      <th>3</th>\n",
       "      <td>0440234743</td>\n",
       "      <td>the testament</td>\n",
       "      <td>John Grisham</td>\n",
       "      <td>1999</td>\n",
       "      <td>Dell</td>\n",
       "      <td>john grisham</td>\n",
       "      <td>the testament</td>\n",
       "      <td>dell</td>\n",
       "      <td>the testament by john grisham</td>\n",
       "    </tr>\n",
       "    <tr>\n",
       "      <th>4</th>\n",
       "      <td>0452264464</td>\n",
       "      <td>beloved (plume contemporary fiction)</td>\n",
       "      <td>Toni Morrison</td>\n",
       "      <td>1994</td>\n",
       "      <td>Plume</td>\n",
       "      <td>toni morrison</td>\n",
       "      <td>beloved plume contemporary fiction</td>\n",
       "      <td>plume</td>\n",
       "      <td>beloved plume contemporary fiction by toni mor...</td>\n",
       "    </tr>\n",
       "  </tbody>\n",
       "</table>\n",
       "</div>"
      ],
      "text/plain": [
       "         ISBN  ...                                          Book-Info\n",
       "0  0002005018  ...               clara callan by richard bruce wright\n",
       "1  0374157065  ...  flu the story of the great influenza pandemic ...\n",
       "2  0399135782  ...                  the kitchen god s wife by amy tan\n",
       "3  0440234743  ...                      the testament by john grisham\n",
       "4  0452264464  ...  beloved plume contemporary fiction by toni mor...\n",
       "\n",
       "[5 rows x 9 columns]"
      ]
     },
     "execution_count": 50,
     "metadata": {},
     "output_type": "execute_result"
    }
   ],
   "source": [
    "books.head()"
   ]
  },
  {
   "cell_type": "code",
   "execution_count": 51,
   "id": "137541e8-3efa-45bb-a5aa-cbe5fc60bca1",
   "metadata": {},
   "outputs": [],
   "source": [
    "# Define regex pattern to remove non-alphanumeric characters except '&'\n",
    "pattern = r'[^a-zA-Z0-9& ]'\n",
    "\n",
    "# Function to clean text based on regex pattern\n",
    "def clean_text(text):\n",
    "    cleaned_text = re.sub(pattern, '', text)\n",
    "    return cleaned_text"
   ]
  },
  {
   "cell_type": "markdown",
   "id": "187176d0-78ff-4ff6-a702-0347e08485cc",
   "metadata": {},
   "source": [
    "### Book-Publisher\n",
    "String Fuzzy match for all text data "
   ]
  },
  {
   "cell_type": "code",
   "execution_count": 52,
   "id": "1934ecb0-1896-4916-b48c-da513c36c59e",
   "metadata": {},
   "outputs": [
    {
     "data": {
      "text/plain": [
       "<Axes: xlabel='Count', ylabel='Book-Publisher'>"
      ]
     },
     "execution_count": 52,
     "metadata": {},
     "output_type": "execute_result"
    },
    {
     "data": {
      "image/png": "[encoded data removed]",
      "text/plain": [
       "<Figure size 432x288 with 1 Axes>"
      ]
     },
     "metadata": {},
     "output_type": "display_data"
    }
   ],
   "source": [
    "books_publisher = books.groupby([\"Book-Publisher\"])[\"ISBN\"].count() \\\n",
    "    .sort_values(ascending = False).reset_index().rename(columns= {'ISBN':'Count'})\n",
    "\n",
    "sns.barplot(books_publisher.head(20), x = \"Count\", y = \"Book-Publisher\", orient = \"h\")"
   ]
  },
  {
   "cell_type": "code",
   "execution_count": 53,
   "id": "cdada892-bf57-4eb4-b19a-07ad03142c59",
   "metadata": {},
   "outputs": [
    {
     "data": {
      "text/plain": [
       "<Axes: xlabel='Count', ylabel='Book-Publisher'>"
      ]
     },
     "execution_count": 53,
     "metadata": {},
     "output_type": "execute_result"
    },
    {
     "data": {
      "image/png": "[encoded data removed]",
      "text/plain": [
       "<Figure size 432x288 with 1 Axes>"
      ]
     },
     "metadata": {},
     "output_type": "display_data"
    }
   ],
   "source": [
    "sns.barplot(books_publisher.tail(20), x = \"Count\", y = \"Book-Publisher\", orient = \"h\")"
   ]
  },
  {
   "cell_type": "markdown",
   "id": "f7cf5db1-c797-4e29-a425-1e6e63550d99",
   "metadata": {},
   "source": [
    "##### Publisher text cleaning:"
   ]
  },
  {
   "cell_type": "code",
   "execution_count": 54,
   "id": "42992dda-c36c-434b-9bf2-2c237e6139f9",
   "metadata": {
    "scrolled": true
   },
   "outputs": [
    {
     "data": {
      "text/plain": [
       "(1344,)"
      ]
     },
     "execution_count": 54,
     "metadata": {},
     "output_type": "execute_result"
    }
   ],
   "source": [
    "books[\"Book-Publisher\"].unique().shape"
   ]
  },
  {
   "cell_type": "code",
   "execution_count": 256,
   "id": "9c7e5f18-db7d-4f2f-8154-02793e4fe3ba",
   "metadata": {},
   "outputs": [],
   "source": [
    "books[\"Book-Publisher-Processed\"] = books[\"Book-Publisher\"].str.lower()"
   ]
  },
  {
   "cell_type": "code",
   "execution_count": 257,
   "id": "4672d9b8-05a6-48c0-9153-67937884ec93",
   "metadata": {},
   "outputs": [],
   "source": [
    "# Define regex pattern to remove non-alphanumeric characters except '&'\n",
    "pattern = r'[^a-zA-Z0-9& ]'\n",
    "\n",
    "# Function to clean text based on regex pattern\n",
    "def clean_text(text):\n",
    "    cleaned_text = re.sub(pattern, '', text)\n",
    "    return cleaned_text"
   ]
  },
  {
   "cell_type": "code",
   "execution_count": 258,
   "id": "a1321868-e7fe-43c8-bc9c-4667903124c2",
   "metadata": {
    "scrolled": true
   },
   "outputs": [],
   "source": [
    "# Remove all non-alphabetic characters by replacing them with a space.\n",
    "books[\"Book-Publisher-Processed\"] = books[\"Book-Publisher-Processed\"].apply(clean_text).str.strip()\n",
    "# books[\"Book-Publisher-Processed\"] = books[\"Book-Publisher-Processed\"].str.strip()"
   ]
  },
  {
   "cell_type": "code",
   "execution_count": 260,
   "id": "4a8629a0-f2f9-41ba-a39a-f42b6e7461b3",
   "metadata": {},
   "outputs": [
    {
     "name": "stdout",
     "output_type": "stream",
     "text": [
      "1320\n",
      "CPU times: user 2.72 s, sys: 39.3 ms, total: 2.76 s\n",
      "Wall time: 2.84 s\n"
     ]
    },
    {
     "data": {
      "text/plain": [
       "(411, 3)"
      ]
     },
     "execution_count": 260,
     "metadata": {},
     "output_type": "execute_result"
    }
   ],
   "source": [
    "%%time\n",
    "publisher_fuzzy_match = fuzzy_match_comparison(\"Publisher-Processed\")\n",
    "publisher_fuzzy_match.shape"
   ]
  },
  {
   "cell_type": "code",
   "execution_count": 268,
   "id": "11a8da20-fa94-457d-a644-d6cb2fa2a504",
   "metadata": {},
   "outputs": [
    {
     "data": {
      "text/html": [
       "<div>\n",
       "<style scoped>\n",
       "    .dataframe tbody tr th:only-of-type {\n",
       "        vertical-align: middle;\n",
       "    }\n",
       "\n",
       "    .dataframe tbody tr th {\n",
       "        vertical-align: top;\n",
       "    }\n",
       "\n",
       "    .dataframe thead th {\n",
       "        text-align: right;\n",
       "    }\n",
       "</style>\n",
       "<table border=\"1\" class=\"dataframe\">\n",
       "  <thead>\n",
       "    <tr style=\"text-align: right;\">\n",
       "      <th></th>\n",
       "      <th>Publisher-Processed_sort</th>\n",
       "      <th>score_sort</th>\n",
       "      <th>match_sort</th>\n",
       "    </tr>\n",
       "  </thead>\n",
       "  <tbody>\n",
       "    <tr>\n",
       "      <th>0</th>\n",
       "      <td>ullstein buchverlage gmbh &amp; co kg  ullstein tas</td>\n",
       "      <td>98</td>\n",
       "      <td>ullstein buchverlage gmbh &amp; cokg  ullstein tasc</td>\n",
       "    </tr>\n",
       "    <tr>\n",
       "      <th>1</th>\n",
       "      <td>harpercollins publisher</td>\n",
       "      <td>98</td>\n",
       "      <td>harpercollins publishers</td>\n",
       "    </tr>\n",
       "    <tr>\n",
       "      <th>2</th>\n",
       "      <td>harper collins publishers</td>\n",
       "      <td>98</td>\n",
       "      <td>harpercollins publishers</td>\n",
       "    </tr>\n",
       "    <tr>\n",
       "      <th>3</th>\n",
       "      <td>harper collins canada</td>\n",
       "      <td>98</td>\n",
       "      <td>harpercollins canada</td>\n",
       "    </tr>\n",
       "    <tr>\n",
       "      <th>4</th>\n",
       "      <td>harper sanfrancisco</td>\n",
       "      <td>97</td>\n",
       "      <td>harpersanfrancisco</td>\n",
       "    </tr>\n",
       "  </tbody>\n",
       "</table>\n",
       "</div>"
      ],
      "text/plain": [
       "                          Publisher-Processed_sort  ...                                       match_sort\n",
       "0  ullstein buchverlage gmbh & co kg  ullstein tas  ...  ullstein buchverlage gmbh & cokg  ullstein tasc\n",
       "1                          harpercollins publisher  ...                         harpercollins publishers\n",
       "2                        harper collins publishers  ...                         harpercollins publishers\n",
       "3                            harper collins canada  ...                             harpercollins canada\n",
       "4                              harper sanfrancisco  ...                               harpersanfrancisco\n",
       "\n",
       "[5 rows x 3 columns]"
      ]
     },
     "execution_count": 268,
     "metadata": {},
     "output_type": "execute_result"
    }
   ],
   "source": [
    "publisher_fuzzy_match.head()"
   ]
  },
  {
   "cell_type": "code",
   "execution_count": 243,
   "id": "059cf902-7287-4e8d-aa2a-0d9be3aebc79",
   "metadata": {},
   "outputs": [
    {
     "data": {
      "text/html": [
       "<div>\n",
       "<style scoped>\n",
       "    .dataframe tbody tr th:only-of-type {\n",
       "        vertical-align: middle;\n",
       "    }\n",
       "\n",
       "    .dataframe tbody tr th {\n",
       "        vertical-align: top;\n",
       "    }\n",
       "\n",
       "    .dataframe thead th {\n",
       "        text-align: right;\n",
       "    }\n",
       "</style>\n",
       "<table border=\"1\" class=\"dataframe\">\n",
       "  <thead>\n",
       "    <tr style=\"text-align: right;\">\n",
       "      <th></th>\n",
       "      <th>Publisher-Processed_sort</th>\n",
       "      <th>score_sort</th>\n",
       "      <th>match_sort</th>\n",
       "    </tr>\n",
       "  </thead>\n",
       "  <tbody>\n",
       "    <tr>\n",
       "      <th>406</th>\n",
       "      <td>knopf books for young readers</td>\n",
       "      <td>80</td>\n",
       "      <td>random house books for young readers</td>\n",
       "    </tr>\n",
       "    <tr>\n",
       "      <th>407</th>\n",
       "      <td>abacus</td>\n",
       "      <td>80</td>\n",
       "      <td>abacus uk</td>\n",
       "    </tr>\n",
       "    <tr>\n",
       "      <th>408</th>\n",
       "      <td>kensington publishing corporation</td>\n",
       "      <td>80</td>\n",
       "      <td>new directions publishing corporation</td>\n",
       "    </tr>\n",
       "    <tr>\n",
       "      <th>409</th>\n",
       "      <td>jove books</td>\n",
       "      <td>80</td>\n",
       "      <td>vega books</td>\n",
       "    </tr>\n",
       "    <tr>\n",
       "      <th>410</th>\n",
       "      <td>zebra books</td>\n",
       "      <td>80</td>\n",
       "      <td>zed books</td>\n",
       "    </tr>\n",
       "  </tbody>\n",
       "</table>\n",
       "</div>"
      ],
      "text/plain": [
       "              Publisher-Processed_sort  ...                             match_sort\n",
       "406      knopf books for young readers  ...   random house books for young readers\n",
       "407                             abacus  ...                              abacus uk\n",
       "408  kensington publishing corporation  ...  new directions publishing corporation\n",
       "409                         jove books  ...                             vega books\n",
       "410                        zebra books  ...                              zed books\n",
       "\n",
       "[5 rows x 3 columns]"
      ]
     },
     "execution_count": 243,
     "metadata": {},
     "output_type": "execute_result"
    }
   ],
   "source": [
    "publisher_fuzzy_match.tail()"
   ]
  },
  {
   "cell_type": "code",
   "execution_count": 290,
   "id": "545c1eb9-09a5-40b1-bf1f-6ce1cefd7cd4",
   "metadata": {},
   "outputs": [],
   "source": [
    "publisher_fuzzy_match.to_csv(cwd + \"/data/cleaned/publisher_fuzzy_match.csv\")"
   ]
  },
  {
   "cell_type": "markdown",
   "id": "5243bddd-711d-4c0c-ae92-b12ae864aeb1",
   "metadata": {},
   "source": [
    "## BX-Users"
   ]
  },
  {
   "cell_type": "code",
   "execution_count": 55,
   "id": "d3300361-03bc-4948-a0cb-397cbcdf192a",
   "metadata": {},
   "outputs": [
    {
     "data": {
      "text/plain": [
       "Index(['User-ID', 'User-City', 'User-State', 'User-Country', 'User-Age'], dtype='object')"
      ]
     },
     "execution_count": 55,
     "metadata": {},
     "output_type": "execute_result"
    }
   ],
   "source": [
    "users = pd.read_csv(path + \"/BX-Users.csv\")\n",
    "users.columns"
   ]
  },
  {
   "cell_type": "code",
   "execution_count": 56,
   "id": "25de09aa-5ed7-4a93-b5e3-079441adac68",
   "metadata": {},
   "outputs": [
    {
     "data": {
      "text/plain": [
       "(48299, 5)"
      ]
     },
     "execution_count": 56,
     "metadata": {},
     "output_type": "execute_result"
    }
   ],
   "source": [
    "users.shape"
   ]
  },
  {
   "cell_type": "code",
   "execution_count": 57,
   "id": "0200b460-0d8a-4c7a-9110-5ec6983cf445",
   "metadata": {},
   "outputs": [
    {
     "data": {
      "text/plain": [
       "User-ID          int64\n",
       "User-City       object\n",
       "User-State      object\n",
       "User-Country    object\n",
       "User-Age        object\n",
       "dtype: object"
      ]
     },
     "execution_count": 57,
     "metadata": {},
     "output_type": "execute_result"
    }
   ],
   "source": [
    "users.dtypes"
   ]
  },
  {
   "cell_type": "markdown",
   "id": "5c4fd4f8-92e2-42c3-8fd7-ae5652ad0654",
   "metadata": {},
   "source": [
    "## Initial Look \n",
    "Null values to deal with:\n",
    "- User-City: 61\n",
    "- User-Country: 669\n",
    "- User-Age: 18952 (39.2% of users)\n",
    "- User-State: 666\n",
    "\n",
    "Can see that User-State has empty strings:' '.\n",
    "\n",
    "strings have white space at beginning - strip these.\n",
    "\n",
    "Some values in columns have trailing \" to remove.\n",
    "\n",
    "deal with n/a in each columns"
   ]
  },
  {
   "cell_type": "code",
   "execution_count": 58,
   "id": "fd7099cb-c9c3-4865-840e-cc4879b8c9c2",
   "metadata": {},
   "outputs": [
    {
     "data": {
      "text/plain": [
       "User-ID             0\n",
       "User-City          61\n",
       "User-State          0\n",
       "User-Country      669\n",
       "User-Age        18952\n",
       "dtype: int64"
      ]
     },
     "execution_count": 58,
     "metadata": {},
     "output_type": "execute_result"
    }
   ],
   "source": [
    "users.isna().sum()"
   ]
  },
  {
   "cell_type": "code",
   "execution_count": 59,
   "id": "55b190ff-027f-4fb6-aa88-a8333059c5a0",
   "metadata": {},
   "outputs": [
    {
     "data": {
      "text/html": [
       "<div>\n",
       "<style scoped>\n",
       "    .dataframe tbody tr th:only-of-type {\n",
       "        vertical-align: middle;\n",
       "    }\n",
       "\n",
       "    .dataframe tbody tr th {\n",
       "        vertical-align: top;\n",
       "    }\n",
       "\n",
       "    .dataframe thead th {\n",
       "        text-align: right;\n",
       "    }\n",
       "</style>\n",
       "<table border=\"1\" class=\"dataframe\">\n",
       "  <thead>\n",
       "    <tr style=\"text-align: right;\">\n",
       "      <th></th>\n",
       "      <th>User-ID</th>\n",
       "      <th>User-City</th>\n",
       "      <th>User-State</th>\n",
       "      <th>User-Country</th>\n",
       "      <th>User-Age</th>\n",
       "    </tr>\n",
       "  </thead>\n",
       "  <tbody>\n",
       "    <tr>\n",
       "      <th>385</th>\n",
       "      <td>2197</td>\n",
       "      <td>NaN</td>\n",
       "      <td>travelling</td>\n",
       "      <td>canada\"</td>\n",
       "      <td>26</td>\n",
       "    </tr>\n",
       "    <tr>\n",
       "      <th>616</th>\n",
       "      <td>3569</td>\n",
       "      <td>NaN</td>\n",
       "      <td>n/a</td>\n",
       "      <td>usa\"</td>\n",
       "      <td>NaN</td>\n",
       "    </tr>\n",
       "    <tr>\n",
       "      <th>731</th>\n",
       "      <td>4221</td>\n",
       "      <td>NaN</td>\n",
       "      <td>connecticut</td>\n",
       "      <td>usa\"</td>\n",
       "      <td>NaN</td>\n",
       "    </tr>\n",
       "    <tr>\n",
       "      <th>1904</th>\n",
       "      <td>11676</td>\n",
       "      <td>NaN</td>\n",
       "      <td>n/a</td>\n",
       "      <td>n/a\"</td>\n",
       "      <td>NaN</td>\n",
       "    </tr>\n",
       "    <tr>\n",
       "      <th>2107</th>\n",
       "      <td>12966</td>\n",
       "      <td>NaN</td>\n",
       "      <td>n/a</td>\n",
       "      <td>singapore\"</td>\n",
       "      <td>28</td>\n",
       "    </tr>\n",
       "  </tbody>\n",
       "</table>\n",
       "</div>"
      ],
      "text/plain": [
       "      User-ID User-City    User-State User-Country User-Age\n",
       "385      2197       NaN    travelling      canada\"       26\n",
       "616      3569       NaN           n/a         usa\"      NaN\n",
       "731      4221       NaN   connecticut         usa\"      NaN\n",
       "1904    11676       NaN           n/a         n/a\"      NaN\n",
       "2107    12966       NaN           n/a   singapore\"       28"
      ]
     },
     "execution_count": 59,
     "metadata": {},
     "output_type": "execute_result"
    }
   ],
   "source": [
    "users[users[\"User-City\"].isna()].head(5)"
   ]
  },
  {
   "cell_type": "code",
   "execution_count": 60,
   "id": "c3501337-c77c-4428-8024-a46750e327e8",
   "metadata": {
    "scrolled": true
   },
   "outputs": [
    {
     "data": {
      "text/plain": [
       "47963    True\n",
       "Name: User-State, dtype: bool"
      ]
     },
     "execution_count": 60,
     "metadata": {},
     "output_type": "execute_result"
    }
   ],
   "source": [
    "users[users[\"User-ID\"] == 277124][\"User-State\"] == ' '"
   ]
  },
  {
   "cell_type": "code",
   "execution_count": 61,
   "id": "f3ff68f9-88cb-4999-a256-06e2f43f05aa",
   "metadata": {},
   "outputs": [
    {
     "data": {
      "text/html": [
       "<div>\n",
       "<style scoped>\n",
       "    .dataframe tbody tr th:only-of-type {\n",
       "        vertical-align: middle;\n",
       "    }\n",
       "\n",
       "    .dataframe tbody tr th {\n",
       "        vertical-align: top;\n",
       "    }\n",
       "\n",
       "    .dataframe thead th {\n",
       "        text-align: right;\n",
       "    }\n",
       "</style>\n",
       "<table border=\"1\" class=\"dataframe\">\n",
       "  <thead>\n",
       "    <tr style=\"text-align: right;\">\n",
       "      <th></th>\n",
       "      <th>User-ID</th>\n",
       "      <th>User-City</th>\n",
       "      <th>User-State</th>\n",
       "      <th>User-Country</th>\n",
       "      <th>User-Age</th>\n",
       "    </tr>\n",
       "  </thead>\n",
       "  <tbody>\n",
       "    <tr>\n",
       "      <th>4</th>\n",
       "      <td>19</td>\n",
       "      <td>weston</td>\n",
       "      <td></td>\n",
       "      <td>NaN</td>\n",
       "      <td>14\"</td>\n",
       "    </tr>\n",
       "    <tr>\n",
       "      <th>133</th>\n",
       "      <td>777</td>\n",
       "      <td>portland</td>\n",
       "      <td></td>\n",
       "      <td>NaN</td>\n",
       "      <td>13\"</td>\n",
       "    </tr>\n",
       "    <tr>\n",
       "      <th>160</th>\n",
       "      <td>929</td>\n",
       "      <td>king of prussia</td>\n",
       "      <td></td>\n",
       "      <td>NaN</td>\n",
       "      <td>36\"</td>\n",
       "    </tr>\n",
       "    <tr>\n",
       "      <th>196</th>\n",
       "      <td>1118</td>\n",
       "      <td>cleveland</td>\n",
       "      <td></td>\n",
       "      <td>usa\"</td>\n",
       "      <td>NaN</td>\n",
       "    </tr>\n",
       "    <tr>\n",
       "      <th>198</th>\n",
       "      <td>1131</td>\n",
       "      <td>berkeley</td>\n",
       "      <td></td>\n",
       "      <td>NaN</td>\n",
       "      <td>22\"</td>\n",
       "    </tr>\n",
       "  </tbody>\n",
       "</table>\n",
       "</div>"
      ],
      "text/plain": [
       "     User-ID        User-City User-State User-Country User-Age\n",
       "4         19           weston                     NaN      14\"\n",
       "133      777         portland                     NaN      13\"\n",
       "160      929  king of prussia                     NaN      36\"\n",
       "196     1118        cleveland                    usa\"      NaN\n",
       "198     1131         berkeley                     NaN      22\""
      ]
     },
     "execution_count": 61,
     "metadata": {},
     "output_type": "execute_result"
    }
   ],
   "source": [
    "users[users[\"User-State\"] == \" \"].head(5)"
   ]
  },
  {
   "cell_type": "code",
   "execution_count": 62,
   "id": "05eae018-b787-4acc-ad12-24b65eca3cff",
   "metadata": {},
   "outputs": [
    {
     "data": {
      "text/plain": [
       "(666, 5)"
      ]
     },
     "execution_count": 62,
     "metadata": {},
     "output_type": "execute_result"
    }
   ],
   "source": [
    "users[users[\"User-State\"] == \" \"].shape"
   ]
  },
  {
   "cell_type": "code",
   "execution_count": 63,
   "id": "b51634b3-2e62-47d3-b5fa-7fadeb4dfdd4",
   "metadata": {},
   "outputs": [
    {
     "data": {
      "text/html": [
       "<div>\n",
       "<style scoped>\n",
       "    .dataframe tbody tr th:only-of-type {\n",
       "        vertical-align: middle;\n",
       "    }\n",
       "\n",
       "    .dataframe tbody tr th {\n",
       "        vertical-align: top;\n",
       "    }\n",
       "\n",
       "    .dataframe thead th {\n",
       "        text-align: right;\n",
       "    }\n",
       "</style>\n",
       "<table border=\"1\" class=\"dataframe\">\n",
       "  <thead>\n",
       "    <tr style=\"text-align: right;\">\n",
       "      <th></th>\n",
       "      <th>User-ID</th>\n",
       "      <th>User-City</th>\n",
       "      <th>User-State</th>\n",
       "      <th>User-Country</th>\n",
       "      <th>User-Age</th>\n",
       "    </tr>\n",
       "  </thead>\n",
       "  <tbody>\n",
       "    <tr>\n",
       "      <th>4</th>\n",
       "      <td>19</td>\n",
       "      <td>weston</td>\n",
       "      <td></td>\n",
       "      <td>NaN</td>\n",
       "      <td>14\"</td>\n",
       "    </tr>\n",
       "    <tr>\n",
       "      <th>133</th>\n",
       "      <td>777</td>\n",
       "      <td>portland</td>\n",
       "      <td></td>\n",
       "      <td>NaN</td>\n",
       "      <td>13\"</td>\n",
       "    </tr>\n",
       "    <tr>\n",
       "      <th>160</th>\n",
       "      <td>929</td>\n",
       "      <td>king of prussia</td>\n",
       "      <td></td>\n",
       "      <td>NaN</td>\n",
       "      <td>36\"</td>\n",
       "    </tr>\n",
       "    <tr>\n",
       "      <th>198</th>\n",
       "      <td>1131</td>\n",
       "      <td>berkeley</td>\n",
       "      <td></td>\n",
       "      <td>NaN</td>\n",
       "      <td>22\"</td>\n",
       "    </tr>\n",
       "    <tr>\n",
       "      <th>284</th>\n",
       "      <td>1589</td>\n",
       "      <td>clio</td>\n",
       "      <td>michigan</td>\n",
       "      <td>NaN</td>\n",
       "      <td>50\"</td>\n",
       "    </tr>\n",
       "  </tbody>\n",
       "</table>\n",
       "</div>"
      ],
      "text/plain": [
       "     User-ID        User-City User-State User-Country User-Age\n",
       "4         19           weston                     NaN      14\"\n",
       "133      777         portland                     NaN      13\"\n",
       "160      929  king of prussia                     NaN      36\"\n",
       "198     1131         berkeley                     NaN      22\"\n",
       "284     1589             clio   michigan          NaN      50\""
      ]
     },
     "execution_count": 63,
     "metadata": {},
     "output_type": "execute_result"
    }
   ],
   "source": [
    "users[users[\"User-Country\"].isna()].head(5)"
   ]
  },
  {
   "cell_type": "code",
   "execution_count": 64,
   "id": "d98f0d4d-6b18-46fb-8a84-434a6825ac50",
   "metadata": {},
   "outputs": [
    {
     "data": {
      "text/html": [
       "<div>\n",
       "<style scoped>\n",
       "    .dataframe tbody tr th:only-of-type {\n",
       "        vertical-align: middle;\n",
       "    }\n",
       "\n",
       "    .dataframe tbody tr th {\n",
       "        vertical-align: top;\n",
       "    }\n",
       "\n",
       "    .dataframe thead th {\n",
       "        text-align: right;\n",
       "    }\n",
       "</style>\n",
       "<table border=\"1\" class=\"dataframe\">\n",
       "  <thead>\n",
       "    <tr style=\"text-align: right;\">\n",
       "      <th></th>\n",
       "      <th>User-ID</th>\n",
       "      <th>User-City</th>\n",
       "      <th>User-State</th>\n",
       "      <th>User-Country</th>\n",
       "      <th>User-Age</th>\n",
       "    </tr>\n",
       "  </thead>\n",
       "  <tbody>\n",
       "    <tr>\n",
       "      <th>0</th>\n",
       "      <td>8</td>\n",
       "      <td>timmins</td>\n",
       "      <td>ontario</td>\n",
       "      <td>canada\"</td>\n",
       "      <td>NaN</td>\n",
       "    </tr>\n",
       "    <tr>\n",
       "      <th>1</th>\n",
       "      <td>9</td>\n",
       "      <td>germantown</td>\n",
       "      <td>tennessee</td>\n",
       "      <td>usa\"</td>\n",
       "      <td>NaN</td>\n",
       "    </tr>\n",
       "    <tr>\n",
       "      <th>2</th>\n",
       "      <td>16</td>\n",
       "      <td>albuquerque</td>\n",
       "      <td>new mexico</td>\n",
       "      <td>usa\"</td>\n",
       "      <td>NaN</td>\n",
       "    </tr>\n",
       "    <tr>\n",
       "      <th>3</th>\n",
       "      <td>17</td>\n",
       "      <td>chesapeake</td>\n",
       "      <td>virginia</td>\n",
       "      <td>usa\"</td>\n",
       "      <td>NaN</td>\n",
       "    </tr>\n",
       "    <tr>\n",
       "      <th>5</th>\n",
       "      <td>26</td>\n",
       "      <td>bellevue</td>\n",
       "      <td>washington</td>\n",
       "      <td>usa\"</td>\n",
       "      <td>NaN</td>\n",
       "    </tr>\n",
       "  </tbody>\n",
       "</table>\n",
       "</div>"
      ],
      "text/plain": [
       "   User-ID    User-City   User-State User-Country User-Age\n",
       "0        8      timmins      ontario      canada\"      NaN\n",
       "1        9   germantown    tennessee         usa\"      NaN\n",
       "2       16  albuquerque   new mexico         usa\"      NaN\n",
       "3       17   chesapeake     virginia         usa\"      NaN\n",
       "5       26     bellevue   washington         usa\"      NaN"
      ]
     },
     "execution_count": 64,
     "metadata": {},
     "output_type": "execute_result"
    }
   ],
   "source": [
    "users[users[\"User-Age\"].isna()].head(5)"
   ]
  },
  {
   "cell_type": "markdown",
   "id": "cd58f824-b99a-445a-bff2-5e27f78a659f",
   "metadata": {},
   "source": [
    "### Remove trailing \":"
   ]
  },
  {
   "cell_type": "code",
   "execution_count": 65,
   "id": "13908684-71ee-4e70-af3c-c5645df0e145",
   "metadata": {},
   "outputs": [
    {
     "data": {
      "text/plain": [
       "0            canada\n",
       "1               usa\n",
       "2               usa\n",
       "3               usa\n",
       "4               NaN\n",
       "            ...    \n",
       "48294        canada\n",
       "48295        canada\n",
       "48296           usa\n",
       "48297     australia\n",
       "48298           usa\n",
       "Name: User-Country, Length: 48299, dtype: object"
      ]
     },
     "execution_count": 65,
     "metadata": {},
     "output_type": "execute_result"
    }
   ],
   "source": [
    "users[\"User-Country\"].str.rstrip('\"')"
   ]
  },
  {
   "cell_type": "code",
   "execution_count": 66,
   "id": "7ea6f51e-d7cf-4052-a1e8-72ae6d190d30",
   "metadata": {},
   "outputs": [
    {
     "data": {
      "text/plain": [
       "0            canada\"\n",
       "1               usa\"\n",
       "2               usa\"\n",
       "3               usa\"\n",
       "4                NaN\n",
       "            ...     \n",
       "48294        canada\"\n",
       "48295        canada\"\n",
       "48296           usa\"\n",
       "48297     australia\"\n",
       "48298           usa\"\n",
       "Name: User-Country, Length: 48299, dtype: object"
      ]
     },
     "execution_count": 66,
     "metadata": {},
     "output_type": "execute_result"
    }
   ],
   "source": [
    "users[\"User-Country\"]"
   ]
  },
  {
   "cell_type": "code",
   "execution_count": 67,
   "id": "12942f68-46db-4a42-a514-2ece4c26c026",
   "metadata": {},
   "outputs": [],
   "source": [
    "users[\"User-City\"] = users[\"User-City\"].str.rstrip('\"')\n",
    "users[\"User-State\"] = users[\"User-State\"].str.rstrip('\"')\n",
    "users[\"User-Country\"] = users[\"User-Country\"].str.rstrip('\"')\n",
    "users[\"User-Age\"] = users[\"User-Age\"].str.rstrip('\"')"
   ]
  },
  {
   "cell_type": "code",
   "execution_count": 68,
   "id": "d28a9029-1258-4283-ade7-a5eac2e8ab5e",
   "metadata": {},
   "outputs": [
    {
     "data": {
      "text/html": [
       "<div>\n",
       "<style scoped>\n",
       "    .dataframe tbody tr th:only-of-type {\n",
       "        vertical-align: middle;\n",
       "    }\n",
       "\n",
       "    .dataframe tbody tr th {\n",
       "        vertical-align: top;\n",
       "    }\n",
       "\n",
       "    .dataframe thead th {\n",
       "        text-align: right;\n",
       "    }\n",
       "</style>\n",
       "<table border=\"1\" class=\"dataframe\">\n",
       "  <thead>\n",
       "    <tr style=\"text-align: right;\">\n",
       "      <th></th>\n",
       "      <th>User-ID</th>\n",
       "      <th>User-City</th>\n",
       "      <th>User-State</th>\n",
       "      <th>User-Country</th>\n",
       "      <th>User-Age</th>\n",
       "    </tr>\n",
       "  </thead>\n",
       "  <tbody>\n",
       "    <tr>\n",
       "      <th>0</th>\n",
       "      <td>8</td>\n",
       "      <td>timmins</td>\n",
       "      <td>ontario</td>\n",
       "      <td>canada</td>\n",
       "      <td>NaN</td>\n",
       "    </tr>\n",
       "    <tr>\n",
       "      <th>1</th>\n",
       "      <td>9</td>\n",
       "      <td>germantown</td>\n",
       "      <td>tennessee</td>\n",
       "      <td>usa</td>\n",
       "      <td>NaN</td>\n",
       "    </tr>\n",
       "    <tr>\n",
       "      <th>2</th>\n",
       "      <td>16</td>\n",
       "      <td>albuquerque</td>\n",
       "      <td>new mexico</td>\n",
       "      <td>usa</td>\n",
       "      <td>NaN</td>\n",
       "    </tr>\n",
       "    <tr>\n",
       "      <th>3</th>\n",
       "      <td>17</td>\n",
       "      <td>chesapeake</td>\n",
       "      <td>virginia</td>\n",
       "      <td>usa</td>\n",
       "      <td>NaN</td>\n",
       "    </tr>\n",
       "    <tr>\n",
       "      <th>4</th>\n",
       "      <td>19</td>\n",
       "      <td>weston</td>\n",
       "      <td></td>\n",
       "      <td>NaN</td>\n",
       "      <td>14</td>\n",
       "    </tr>\n",
       "    <tr>\n",
       "      <th>5</th>\n",
       "      <td>26</td>\n",
       "      <td>bellevue</td>\n",
       "      <td>washington</td>\n",
       "      <td>usa</td>\n",
       "      <td>NaN</td>\n",
       "    </tr>\n",
       "    <tr>\n",
       "      <th>6</th>\n",
       "      <td>32</td>\n",
       "      <td>portland</td>\n",
       "      <td>oregon</td>\n",
       "      <td>usa</td>\n",
       "      <td>NaN</td>\n",
       "    </tr>\n",
       "    <tr>\n",
       "      <th>7</th>\n",
       "      <td>39</td>\n",
       "      <td>cary</td>\n",
       "      <td>north carolina</td>\n",
       "      <td>usa</td>\n",
       "      <td>NaN</td>\n",
       "    </tr>\n",
       "    <tr>\n",
       "      <th>8</th>\n",
       "      <td>42</td>\n",
       "      <td>appleton</td>\n",
       "      <td>wisconsin</td>\n",
       "      <td>usa</td>\n",
       "      <td>17</td>\n",
       "    </tr>\n",
       "    <tr>\n",
       "      <th>9</th>\n",
       "      <td>44</td>\n",
       "      <td>black mountain</td>\n",
       "      <td>north carolina</td>\n",
       "      <td>usa</td>\n",
       "      <td>51</td>\n",
       "    </tr>\n",
       "    <tr>\n",
       "      <th>10</th>\n",
       "      <td>51</td>\n",
       "      <td>renton</td>\n",
       "      <td>washington</td>\n",
       "      <td>usa</td>\n",
       "      <td>34</td>\n",
       "    </tr>\n",
       "    <tr>\n",
       "      <th>11</th>\n",
       "      <td>53</td>\n",
       "      <td>tacoma</td>\n",
       "      <td>washington</td>\n",
       "      <td>usa</td>\n",
       "      <td>NaN</td>\n",
       "    </tr>\n",
       "    <tr>\n",
       "      <th>12</th>\n",
       "      <td>56</td>\n",
       "      <td>cheyenne</td>\n",
       "      <td>wyoming</td>\n",
       "      <td>usa</td>\n",
       "      <td>24</td>\n",
       "    </tr>\n",
       "    <tr>\n",
       "      <th>13</th>\n",
       "      <td>69</td>\n",
       "      <td>vancouver</td>\n",
       "      <td>british columbia</td>\n",
       "      <td>canada</td>\n",
       "      <td>NaN</td>\n",
       "    </tr>\n",
       "    <tr>\n",
       "      <th>14</th>\n",
       "      <td>73</td>\n",
       "      <td>wentzville</td>\n",
       "      <td>missouri</td>\n",
       "      <td>usa</td>\n",
       "      <td>NaN</td>\n",
       "    </tr>\n",
       "    <tr>\n",
       "      <th>15</th>\n",
       "      <td>75</td>\n",
       "      <td>long beach</td>\n",
       "      <td>california</td>\n",
       "      <td>usa</td>\n",
       "      <td>37</td>\n",
       "    </tr>\n",
       "    <tr>\n",
       "      <th>16</th>\n",
       "      <td>78</td>\n",
       "      <td>oakland</td>\n",
       "      <td>california</td>\n",
       "      <td>usa</td>\n",
       "      <td>18</td>\n",
       "    </tr>\n",
       "    <tr>\n",
       "      <th>17</th>\n",
       "      <td>81</td>\n",
       "      <td>santa cruz</td>\n",
       "      <td>california</td>\n",
       "      <td>usa</td>\n",
       "      <td>NaN</td>\n",
       "    </tr>\n",
       "    <tr>\n",
       "      <th>18</th>\n",
       "      <td>83</td>\n",
       "      <td>eugene</td>\n",
       "      <td>oregon</td>\n",
       "      <td>usa</td>\n",
       "      <td>NaN</td>\n",
       "    </tr>\n",
       "    <tr>\n",
       "      <th>19</th>\n",
       "      <td>85</td>\n",
       "      <td>london</td>\n",
       "      <td>england</td>\n",
       "      <td>united kingdom</td>\n",
       "      <td>41</td>\n",
       "    </tr>\n",
       "  </tbody>\n",
       "</table>\n",
       "</div>"
      ],
      "text/plain": [
       "    User-ID       User-City         User-State     User-Country User-Age\n",
       "0         8         timmins            ontario           canada      NaN\n",
       "1         9      germantown          tennessee              usa      NaN\n",
       "2        16     albuquerque         new mexico              usa      NaN\n",
       "3        17      chesapeake           virginia              usa      NaN\n",
       "4        19          weston                                 NaN       14\n",
       "5        26        bellevue         washington              usa      NaN\n",
       "6        32        portland             oregon              usa      NaN\n",
       "7        39            cary     north carolina              usa      NaN\n",
       "8        42        appleton          wisconsin              usa       17\n",
       "9        44  black mountain     north carolina              usa       51\n",
       "10       51          renton         washington              usa       34\n",
       "11       53          tacoma         washington              usa      NaN\n",
       "12       56        cheyenne            wyoming              usa       24\n",
       "13       69       vancouver   british columbia           canada      NaN\n",
       "14       73      wentzville           missouri              usa      NaN\n",
       "15       75      long beach         california              usa       37\n",
       "16       78         oakland         california              usa       18\n",
       "17       81      santa cruz         california              usa      NaN\n",
       "18       83          eugene             oregon              usa      NaN\n",
       "19       85          london            england   united kingdom       41"
      ]
     },
     "execution_count": 68,
     "metadata": {},
     "output_type": "execute_result"
    }
   ],
   "source": [
    "users.head(20)"
   ]
  },
  {
   "cell_type": "markdown",
   "id": "73e2fc4f-3fa8-4abb-8d14-790e9e5acc76",
   "metadata": {},
   "source": [
    "## User-ID\n",
    "No duplicates"
   ]
  },
  {
   "cell_type": "code",
   "execution_count": 69,
   "id": "34634734-df20-481a-bf24-06740b9d11af",
   "metadata": {},
   "outputs": [
    {
     "data": {
      "text/html": [
       "<div>\n",
       "<style scoped>\n",
       "    .dataframe tbody tr th:only-of-type {\n",
       "        vertical-align: middle;\n",
       "    }\n",
       "\n",
       "    .dataframe tbody tr th {\n",
       "        vertical-align: top;\n",
       "    }\n",
       "\n",
       "    .dataframe thead th {\n",
       "        text-align: right;\n",
       "    }\n",
       "</style>\n",
       "<table border=\"1\" class=\"dataframe\">\n",
       "  <thead>\n",
       "    <tr style=\"text-align: right;\">\n",
       "      <th></th>\n",
       "      <th>User-ID</th>\n",
       "      <th>User-City</th>\n",
       "      <th>User-State</th>\n",
       "      <th>User-Country</th>\n",
       "      <th>User-Age</th>\n",
       "    </tr>\n",
       "  </thead>\n",
       "  <tbody>\n",
       "  </tbody>\n",
       "</table>\n",
       "</div>"
      ],
      "text/plain": [
       "Empty DataFrame\n",
       "Columns: [User-ID, User-City, User-State, User-Country, User-Age]\n",
       "Index: []"
      ]
     },
     "execution_count": 69,
     "metadata": {},
     "output_type": "execute_result"
    }
   ],
   "source": [
    "users[users[\"User-ID\"].duplicated()]"
   ]
  },
  {
   "cell_type": "markdown",
   "id": "75a244e5-b18e-4fcc-9ba4-afb38cf0dc56",
   "metadata": {},
   "source": [
    "## User-City"
   ]
  },
  {
   "cell_type": "code",
   "execution_count": 70,
   "id": "9b14ed27-86e1-4683-94f7-1dab1dc7b357",
   "metadata": {},
   "outputs": [
    {
     "data": {
      "text/plain": [
       "<Axes: xlabel='Count', ylabel='User-City'>"
      ]
     },
     "execution_count": 70,
     "metadata": {},
     "output_type": "execute_result"
    },
    {
     "data": {
      "image/png": "[encoded data removed]",
      "text/plain": [
       "<Figure size 432x288 with 1 Axes>"
      ]
     },
     "metadata": {},
     "output_type": "display_data"
    }
   ],
   "source": [
    "users_city = users.groupby([\"User-City\"])[\"User-ID\"].count() \\\n",
    "    .sort_values(ascending = False).reset_index().rename(columns= {'User-ID':'Count'})\n",
    "\n",
    "sns.barplot(users_city.head(20), x = \"Count\", y = \"User-City\", orient = \"h\")"
   ]
  },
  {
   "cell_type": "code",
   "execution_count": 71,
   "id": "35271c38-f557-4574-8a95-da962bc4a981",
   "metadata": {},
   "outputs": [
    {
     "data": {
      "text/plain": [
       "<Axes: xlabel='Count', ylabel='User-City'>"
      ]
     },
     "execution_count": 71,
     "metadata": {},
     "output_type": "execute_result"
    },
    {
     "data": {
      "image/png": "[encoded data removed]",
      "text/plain": [
       "<Figure size 432x288 with 1 Axes>"
      ]
     },
     "metadata": {},
     "output_type": "display_data"
    }
   ],
   "source": [
    "sns.barplot(users_city.tail(20), x = \"Count\", y = \"User-City\", orient = \"h\")"
   ]
  },
  {
   "cell_type": "markdown",
   "id": "340ef773-9237-4454-b2bd-53ef6ff8bcda",
   "metadata": {},
   "source": [
    "## User-State"
   ]
  },
  {
   "cell_type": "code",
   "execution_count": 72,
   "id": "cffd83bb-a7ff-4770-b2ff-c3b92204978b",
   "metadata": {},
   "outputs": [
    {
     "data": {
      "text/plain": [
       "<Axes: xlabel='Count', ylabel='User-State'>"
      ]
     },
     "execution_count": 72,
     "metadata": {},
     "output_type": "execute_result"
    },
    {
     "data": {
      "image/png": "[encoded data removed]",
      "text/plain": [
       "<Figure size 432x288 with 1 Axes>"
      ]
     },
     "metadata": {},
     "output_type": "display_data"
    }
   ],
   "source": [
    "users_state = users.groupby([\"User-State\"])[\"User-ID\"].count() \\\n",
    "    .sort_values(ascending = False).reset_index().rename(columns= {'User-ID':'Count'})\n",
    "\n",
    "sns.barplot(users_state.head(20), x = \"Count\", y = \"User-State\", orient = \"h\")"
   ]
  },
  {
   "cell_type": "code",
   "execution_count": 73,
   "id": "ba7ff053-a023-4d45-8be6-abdba3e48b17",
   "metadata": {},
   "outputs": [
    {
     "data": {
      "text/plain": [
       "<Axes: xlabel='Count', ylabel='User-State'>"
      ]
     },
     "execution_count": 73,
     "metadata": {},
     "output_type": "execute_result"
    },
    {
     "data": {
      "image/png": "[encoded data removed]",
      "text/plain": [
       "<Figure size 432x288 with 1 Axes>"
      ]
     },
     "metadata": {},
     "output_type": "display_data"
    }
   ],
   "source": [
    "sns.barplot(users_state.tail(20), x = \"Count\", y = \"User-State\", orient = \"h\")"
   ]
  },
  {
   "cell_type": "markdown",
   "id": "ce6ff5c1-1cd3-40e7-98a2-7c75b640700b",
   "metadata": {},
   "source": [
    "## User-Country"
   ]
  },
  {
   "cell_type": "code",
   "execution_count": 75,
   "id": "3a69d25e-260d-4905-a069-8db2ec06a9a8",
   "metadata": {},
   "outputs": [
    {
     "data": {
      "text/plain": [
       "<Axes: xlabel='Count', ylabel='User-Country'>"
      ]
     },
     "execution_count": 75,
     "metadata": {},
     "output_type": "execute_result"
    },
    {
     "data": {
      "image/png": "[encoded data removed]",
      "text/plain": [
       "<Figure size 432x288 with 1 Axes>"
      ]
     },
     "metadata": {},
     "output_type": "display_data"
    }
   ],
   "source": [
    "users_country = users.groupby([\"User-Country\"])[\"User-ID\"].count() \\\n",
    "    .sort_values(ascending = False).reset_index().rename(columns= {'User-ID':'Count'})\n",
    "\n",
    "sns.barplot(users_country.head(20), x = \"Count\", y = \"User-Country\", orient = \"h\")"
   ]
  },
  {
   "cell_type": "code",
   "execution_count": 76,
   "id": "94804728-a6df-4cb9-b184-60e0b56e0e0b",
   "metadata": {},
   "outputs": [
    {
     "data": {
      "text/plain": [
       "<Axes: xlabel='Count', ylabel='User-Country'>"
      ]
     },
     "execution_count": 76,
     "metadata": {},
     "output_type": "execute_result"
    },
    {
     "data": {
      "image/png": "[encoded data removed]",
      "text/plain": [
       "<Figure size 432x288 with 1 Axes>"
      ]
     },
     "metadata": {},
     "output_type": "display_data"
    }
   ],
   "source": [
    "sns.barplot(users_country.tail(20), x = \"Count\", y = \"User-Country\", orient = \"h\")"
   ]
  },
  {
   "cell_type": "markdown",
   "id": "70c5a07e-0b6f-4048-8d2c-62c3d3f5353e",
   "metadata": {},
   "source": [
    "## User-Age\n",
    "- Ages that are NaN set to -1 and removed for analysis.\n",
    "- Impute mean, based on other features.\n",
    "- Ages above ~90 outliers.\n",
    "- Average age is 36.2."
   ]
  },
  {
   "cell_type": "code",
   "execution_count": 77,
   "id": "3ada1bbd-5674-43e4-bf7f-0546ba863f44",
   "metadata": {},
   "outputs": [
    {
     "data": {
      "text/plain": [
       "<Axes: xlabel='Count', ylabel='User-Age'>"
      ]
     },
     "execution_count": 77,
     "metadata": {},
     "output_type": "execute_result"
    },
    {
     "data": {
      "image/png": "[encoded data removed]",
      "text/plain": [
       "<Figure size 432x288 with 1 Axes>"
      ]
     },
     "metadata": {},
     "output_type": "display_data"
    }
   ],
   "source": [
    "users_age = users.groupby([\"User-Age\"])[\"User-ID\"].count() \\\n",
    "    .sort_values(ascending = False).reset_index().rename(columns= {'User-ID':'Count'})\n",
    "\n",
    "sns.barplot(users_age.head(30), x = \"Count\", y = \"User-Age\", orient = \"h\")"
   ]
  },
  {
   "cell_type": "code",
   "execution_count": 78,
   "id": "19d5086b-68ce-4101-b32d-70ce05ec7f8b",
   "metadata": {},
   "outputs": [
    {
     "data": {
      "text/plain": [
       "<Axes: xlabel='Count', ylabel='User-Age'>"
      ]
     },
     "execution_count": 78,
     "metadata": {},
     "output_type": "execute_result"
    },
    {
     "data": {
      "image/png": "[encoded data removed]",
      "text/plain": [
       "<Figure size 432x288 with 1 Axes>"
      ]
     },
     "metadata": {},
     "output_type": "display_data"
    }
   ],
   "source": [
    "sns.barplot(users_age.tail(20), x = \"Count\", y = \"User-Age\", orient = \"h\")"
   ]
  },
  {
   "cell_type": "code",
   "execution_count": 79,
   "id": "30db7244-7fe8-414f-89d4-1c158e50905d",
   "metadata": {},
   "outputs": [],
   "source": [
    "users[\"User-Age\"] = users[\"User-Age\"].fillna(-1).astype(int)"
   ]
  },
  {
   "cell_type": "code",
   "execution_count": 80,
   "id": "567f1092-e924-418b-b032-01b65649116d",
   "metadata": {},
   "outputs": [
    {
     "name": "stderr",
     "output_type": "stream",
     "text": [
      "/Users/caseyhaseloff/anaconda3/lib/python3.11/site-packages/seaborn/_oldcore.py:1119: FutureWarning: use_inf_as_na option is deprecated and will be removed in a future version. Convert inf values to NaN before operating instead.\n",
      "  with pd.option_context('mode.use_inf_as_na', True):\n"
     ]
    },
    {
     "data": {
      "text/plain": [
       "<Axes: xlabel='User-Age', ylabel='Count'>"
      ]
     },
     "execution_count": 80,
     "metadata": {},
     "output_type": "execute_result"
    },
    {
     "data": {
      "image/png": "[encoded data removed]",
      "text/plain": [
       "<Figure size 432x288 with 1 Axes>"
      ]
     },
     "metadata": {},
     "output_type": "display_data"
    }
   ],
   "source": [
    "sns.histplot(users, x = \"User-Age\")"
   ]
  },
  {
   "cell_type": "code",
   "execution_count": 81,
   "id": "62446297-b8b1-498d-82fa-785971a4f477",
   "metadata": {},
   "outputs": [],
   "source": [
    "users_age = users[users[\"User-Age\"] != -1]"
   ]
  },
  {
   "cell_type": "code",
   "execution_count": 82,
   "id": "0e4bc4c3-e1b0-4494-afbe-db3b1a53dbd4",
   "metadata": {},
   "outputs": [
    {
     "name": "stderr",
     "output_type": "stream",
     "text": [
      "/Users/caseyhaseloff/anaconda3/lib/python3.11/site-packages/seaborn/_oldcore.py:1119: FutureWarning: use_inf_as_na option is deprecated and will be removed in a future version. Convert inf values to NaN before operating instead.\n",
      "  with pd.option_context('mode.use_inf_as_na', True):\n"
     ]
    },
    {
     "data": {
      "text/plain": [
       "<Axes: xlabel='User-Age', ylabel='Count'>"
      ]
     },
     "execution_count": 82,
     "metadata": {},
     "output_type": "execute_result"
    },
    {
     "data": {
      "image/png": "[encoded data removed]",
      "text/plain": [
       "<Figure size 432x288 with 1 Axes>"
      ]
     },
     "metadata": {},
     "output_type": "display_data"
    }
   ],
   "source": [
    "sns.histplot(users_age, x = \"User-Age\", bins = 20)"
   ]
  },
  {
   "cell_type": "code",
   "execution_count": 83,
   "id": "07110eab-0e27-43a3-ba5a-115e1043ad1e",
   "metadata": {},
   "outputs": [
    {
     "data": {
      "text/html": [
       "<div>\n",
       "<style scoped>\n",
       "    .dataframe tbody tr th:only-of-type {\n",
       "        vertical-align: middle;\n",
       "    }\n",
       "\n",
       "    .dataframe tbody tr th {\n",
       "        vertical-align: top;\n",
       "    }\n",
       "\n",
       "    .dataframe thead th {\n",
       "        text-align: right;\n",
       "    }\n",
       "</style>\n",
       "<table border=\"1\" class=\"dataframe\">\n",
       "  <thead>\n",
       "    <tr style=\"text-align: right;\">\n",
       "      <th></th>\n",
       "      <th>User-ID</th>\n",
       "      <th>User-Age</th>\n",
       "    </tr>\n",
       "  </thead>\n",
       "  <tbody>\n",
       "    <tr>\n",
       "      <th>count</th>\n",
       "      <td>29347.000000</td>\n",
       "      <td>29347.000000</td>\n",
       "    </tr>\n",
       "    <tr>\n",
       "      <th>mean</th>\n",
       "      <td>139454.265751</td>\n",
       "      <td>36.204178</td>\n",
       "    </tr>\n",
       "    <tr>\n",
       "      <th>std</th>\n",
       "      <td>80448.399162</td>\n",
       "      <td>14.681020</td>\n",
       "    </tr>\n",
       "    <tr>\n",
       "      <th>min</th>\n",
       "      <td>19.000000</td>\n",
       "      <td>0.000000</td>\n",
       "    </tr>\n",
       "    <tr>\n",
       "      <th>25%</th>\n",
       "      <td>69601.000000</td>\n",
       "      <td>26.000000</td>\n",
       "    </tr>\n",
       "    <tr>\n",
       "      <th>50%</th>\n",
       "      <td>138514.000000</td>\n",
       "      <td>34.000000</td>\n",
       "    </tr>\n",
       "    <tr>\n",
       "      <th>75%</th>\n",
       "      <td>209461.000000</td>\n",
       "      <td>45.000000</td>\n",
       "    </tr>\n",
       "    <tr>\n",
       "      <th>max</th>\n",
       "      <td>278852.000000</td>\n",
       "      <td>244.000000</td>\n",
       "    </tr>\n",
       "  </tbody>\n",
       "</table>\n",
       "</div>"
      ],
      "text/plain": [
       "             User-ID      User-Age\n",
       "count   29347.000000  29347.000000\n",
       "mean   139454.265751     36.204178\n",
       "std     80448.399162     14.681020\n",
       "min        19.000000      0.000000\n",
       "25%     69601.000000     26.000000\n",
       "50%    138514.000000     34.000000\n",
       "75%    209461.000000     45.000000\n",
       "max    278852.000000    244.000000"
      ]
     },
     "execution_count": 83,
     "metadata": {},
     "output_type": "execute_result"
    }
   ],
   "source": [
    "users_age.describe()"
   ]
  },
  {
   "cell_type": "code",
   "execution_count": 84,
   "id": "adb8c496-d169-4bac-a2f7-440958b57d5d",
   "metadata": {},
   "outputs": [
    {
     "data": {
      "text/plain": [
       "<Axes: xlabel='User-Age'>"
      ]
     },
     "execution_count": 84,
     "metadata": {},
     "output_type": "execute_result"
    },
    {
     "data": {
      "image/png": "[encoded data removed]",
      "text/plain": [
       "<Figure size 432x288 with 1 Axes>"
      ]
     },
     "metadata": {},
     "output_type": "display_data"
    }
   ],
   "source": [
    "sns.boxplot(users, x = \"User-Age\")"
   ]
  },
  {
   "cell_type": "code",
   "execution_count": 85,
   "id": "78a354bb-35ad-4beb-9b92-4798cc8e1651",
   "metadata": {},
   "outputs": [
    {
     "name": "stderr",
     "output_type": "stream",
     "text": [
      "/Users/caseyhaseloff/anaconda3/lib/python3.11/site-packages/seaborn/_oldcore.py:1119: FutureWarning: use_inf_as_na option is deprecated and will be removed in a future version. Convert inf values to NaN before operating instead.\n",
      "  with pd.option_context('mode.use_inf_as_na', True):\n"
     ]
    },
    {
     "data": {
      "text/plain": [
       "<Axes: xlabel='User-Age', ylabel='Count'>"
      ]
     },
     "execution_count": 85,
     "metadata": {},
     "output_type": "execute_result"
    },
    {
     "data": {
      "image/png": "[encoded data removed]",
      "text/plain": [
       "<Figure size 432x288 with 1 Axes>"
      ]
     },
     "metadata": {},
     "output_type": "display_data"
    }
   ],
   "source": [
    "sns.histplot(users[users[\"User-Age\"] > 95], x = \"User-Age\")"
   ]
  },
  {
   "cell_type": "code",
   "execution_count": 86,
   "id": "e617f7e4-1c52-4e93-b39c-5b44bb5dfe1a",
   "metadata": {
    "scrolled": true
   },
   "outputs": [
    {
     "data": {
      "text/html": [
       "<div>\n",
       "<style scoped>\n",
       "    .dataframe tbody tr th:only-of-type {\n",
       "        vertical-align: middle;\n",
       "    }\n",
       "\n",
       "    .dataframe tbody tr th {\n",
       "        vertical-align: top;\n",
       "    }\n",
       "\n",
       "    .dataframe thead th {\n",
       "        text-align: right;\n",
       "    }\n",
       "</style>\n",
       "<table border=\"1\" class=\"dataframe\">\n",
       "  <thead>\n",
       "    <tr style=\"text-align: right;\">\n",
       "      <th></th>\n",
       "      <th>User-ID</th>\n",
       "      <th>User-City</th>\n",
       "      <th>User-State</th>\n",
       "      <th>User-Country</th>\n",
       "      <th>User-Age</th>\n",
       "    </tr>\n",
       "  </thead>\n",
       "  <tbody>\n",
       "    <tr>\n",
       "      <th>591</th>\n",
       "      <td>3437</td>\n",
       "      <td>honolulu</td>\n",
       "      <td>hawaii</td>\n",
       "      <td>usa</td>\n",
       "      <td>103</td>\n",
       "    </tr>\n",
       "    <tr>\n",
       "      <th>1483</th>\n",
       "      <td>8782</td>\n",
       "      <td>calgary</td>\n",
       "      <td>alberta</td>\n",
       "      <td>canada</td>\n",
       "      <td>239</td>\n",
       "    </tr>\n",
       "    <tr>\n",
       "      <th>2056</th>\n",
       "      <td>12692</td>\n",
       "      <td>jacksonville</td>\n",
       "      <td>florida</td>\n",
       "      <td>usa</td>\n",
       "      <td>151</td>\n",
       "    </tr>\n",
       "    <tr>\n",
       "      <th>2158</th>\n",
       "      <td>13273</td>\n",
       "      <td>harrisburg</td>\n",
       "      <td>pennsylvania</td>\n",
       "      <td>usa</td>\n",
       "      <td>201</td>\n",
       "    </tr>\n",
       "    <tr>\n",
       "      <th>2233</th>\n",
       "      <td>13801</td>\n",
       "      <td>burlington</td>\n",
       "      <td>ontario</td>\n",
       "      <td>canada</td>\n",
       "      <td>104</td>\n",
       "    </tr>\n",
       "    <tr>\n",
       "      <th>3368</th>\n",
       "      <td>20857</td>\n",
       "      <td>stuttgart</td>\n",
       "      <td>baden-wuerttemberg</td>\n",
       "      <td>germany</td>\n",
       "      <td>244</td>\n",
       "    </tr>\n",
       "    <tr>\n",
       "      <th>4319</th>\n",
       "      <td>26083</td>\n",
       "      <td>leipzig</td>\n",
       "      <td>sachsen</td>\n",
       "      <td>NaN</td>\n",
       "      <td>104</td>\n",
       "    </tr>\n",
       "    <tr>\n",
       "      <th>4682</th>\n",
       "      <td>28091</td>\n",
       "      <td>fort collins</td>\n",
       "      <td>colorado</td>\n",
       "      <td>usa</td>\n",
       "      <td>128</td>\n",
       "    </tr>\n",
       "    <tr>\n",
       "      <th>5145</th>\n",
       "      <td>30590</td>\n",
       "      <td>cambridge</td>\n",
       "      <td>cambridgeshire</td>\n",
       "      <td>united kingdom</td>\n",
       "      <td>141</td>\n",
       "    </tr>\n",
       "    <tr>\n",
       "      <th>5595</th>\n",
       "      <td>32642</td>\n",
       "      <td>boston</td>\n",
       "      <td>massachusetts</td>\n",
       "      <td>usa</td>\n",
       "      <td>103</td>\n",
       "    </tr>\n",
       "  </tbody>\n",
       "</table>\n",
       "</div>"
      ],
      "text/plain": [
       "      User-ID     User-City           User-State     User-Country  User-Age\n",
       "591      3437      honolulu               hawaii              usa       103\n",
       "1483     8782       calgary              alberta           canada       239\n",
       "2056    12692  jacksonville              florida              usa       151\n",
       "2158    13273    harrisburg         pennsylvania              usa       201\n",
       "2233    13801    burlington              ontario           canada       104\n",
       "3368    20857     stuttgart   baden-wuerttemberg          germany       244\n",
       "4319    26083       leipzig              sachsen              NaN       104\n",
       "4682    28091  fort collins             colorado              usa       128\n",
       "5145    30590     cambridge       cambridgeshire   united kingdom       141\n",
       "5595    32642        boston        massachusetts              usa       103"
      ]
     },
     "execution_count": 86,
     "metadata": {},
     "output_type": "execute_result"
    }
   ],
   "source": [
    "users[users[\"User-Age\"] > 95].head(10)"
   ]
  },
  {
   "cell_type": "markdown",
   "id": "6a138f04-6fc8-4f6a-affe-f095d209386a",
   "metadata": {},
   "source": [
    "## BX-ratings\n",
    "No Nulls\n",
    "\n"
   ]
  },
  {
   "cell_type": "code",
   "execution_count": 127,
   "id": "e2060459-b3a5-4041-b879-c14132fc0b92",
   "metadata": {},
   "outputs": [],
   "source": [
    "ratings = pd.read_csv(path + \"/BX-Ratings.csv\")\n",
    "ratings.columns\n",
    "\n",
    "ratings[\"User-ID\"] = ratings[\"User-ID\"].astype(str)"
   ]
  },
  {
   "cell_type": "code",
   "execution_count": 128,
   "id": "e5210218-ee54-4448-b628-3693bd76ca25",
   "metadata": {},
   "outputs": [
    {
     "data": {
      "text/html": [
       "<div>\n",
       "<style scoped>\n",
       "    .dataframe tbody tr th:only-of-type {\n",
       "        vertical-align: middle;\n",
       "    }\n",
       "\n",
       "    .dataframe tbody tr th {\n",
       "        vertical-align: top;\n",
       "    }\n",
       "\n",
       "    .dataframe thead th {\n",
       "        text-align: right;\n",
       "    }\n",
       "</style>\n",
       "<table border=\"1\" class=\"dataframe\">\n",
       "  <thead>\n",
       "    <tr style=\"text-align: right;\">\n",
       "      <th></th>\n",
       "      <th>User-ID</th>\n",
       "      <th>ISBN</th>\n",
       "      <th>Book-Rating</th>\n",
       "    </tr>\n",
       "  </thead>\n",
       "  <tbody>\n",
       "    <tr>\n",
       "      <th>0</th>\n",
       "      <td>276744</td>\n",
       "      <td>038550120X</td>\n",
       "      <td>7</td>\n",
       "    </tr>\n",
       "    <tr>\n",
       "      <th>1</th>\n",
       "      <td>276754</td>\n",
       "      <td>0684867621</td>\n",
       "      <td>8</td>\n",
       "    </tr>\n",
       "    <tr>\n",
       "      <th>2</th>\n",
       "      <td>276755</td>\n",
       "      <td>0451166892</td>\n",
       "      <td>5</td>\n",
       "    </tr>\n",
       "    <tr>\n",
       "      <th>3</th>\n",
       "      <td>276762</td>\n",
       "      <td>0380711524</td>\n",
       "      <td>5</td>\n",
       "    </tr>\n",
       "    <tr>\n",
       "      <th>4</th>\n",
       "      <td>276772</td>\n",
       "      <td>0553572369</td>\n",
       "      <td>7</td>\n",
       "    </tr>\n",
       "  </tbody>\n",
       "</table>\n",
       "</div>"
      ],
      "text/plain": [
       "  User-ID        ISBN  Book-Rating\n",
       "0  276744  038550120X            7\n",
       "1  276754  0684867621            8\n",
       "2  276755  0451166892            5\n",
       "3  276762  0380711524            5\n",
       "4  276772  0553572369            7"
      ]
     },
     "execution_count": 128,
     "metadata": {},
     "output_type": "execute_result"
    }
   ],
   "source": [
    "ratings.head(5)"
   ]
  },
  {
   "cell_type": "code",
   "execution_count": 89,
   "id": "44f003a2-222a-4e58-82d5-ce4928f08887",
   "metadata": {},
   "outputs": [
    {
     "data": {
      "text/plain": [
       "User-ID        object\n",
       "ISBN           object\n",
       "Book-Rating     int64\n",
       "dtype: object"
      ]
     },
     "execution_count": 89,
     "metadata": {},
     "output_type": "execute_result"
    }
   ],
   "source": [
    "ratings.dtypes"
   ]
  },
  {
   "cell_type": "code",
   "execution_count": 90,
   "id": "85d6e820-2c00-475d-aef1-eb412e1046cd",
   "metadata": {},
   "outputs": [
    {
     "data": {
      "text/plain": [
       "User-ID        0\n",
       "ISBN           0\n",
       "Book-Rating    0\n",
       "dtype: int64"
      ]
     },
     "execution_count": 90,
     "metadata": {},
     "output_type": "execute_result"
    }
   ],
   "source": [
    "ratings.isna().sum()"
   ]
  },
  {
   "cell_type": "code",
   "execution_count": 91,
   "id": "59ba1294-f21b-4dbc-b56a-764d63c67149",
   "metadata": {},
   "outputs": [
    {
     "data": {
      "text/html": [
       "<div>\n",
       "<style scoped>\n",
       "    .dataframe tbody tr th:only-of-type {\n",
       "        vertical-align: middle;\n",
       "    }\n",
       "\n",
       "    .dataframe tbody tr th {\n",
       "        vertical-align: top;\n",
       "    }\n",
       "\n",
       "    .dataframe thead th {\n",
       "        text-align: right;\n",
       "    }\n",
       "</style>\n",
       "<table border=\"1\" class=\"dataframe\">\n",
       "  <thead>\n",
       "    <tr style=\"text-align: right;\">\n",
       "      <th></th>\n",
       "      <th>Book-Rating</th>\n",
       "    </tr>\n",
       "  </thead>\n",
       "  <tbody>\n",
       "    <tr>\n",
       "      <th>count</th>\n",
       "      <td>204164.000000</td>\n",
       "    </tr>\n",
       "    <tr>\n",
       "      <th>mean</th>\n",
       "      <td>7.719676</td>\n",
       "    </tr>\n",
       "    <tr>\n",
       "      <th>std</th>\n",
       "      <td>1.791132</td>\n",
       "    </tr>\n",
       "    <tr>\n",
       "      <th>min</th>\n",
       "      <td>1.000000</td>\n",
       "    </tr>\n",
       "    <tr>\n",
       "      <th>25%</th>\n",
       "      <td>7.000000</td>\n",
       "    </tr>\n",
       "    <tr>\n",
       "      <th>50%</th>\n",
       "      <td>8.000000</td>\n",
       "    </tr>\n",
       "    <tr>\n",
       "      <th>75%</th>\n",
       "      <td>9.000000</td>\n",
       "    </tr>\n",
       "    <tr>\n",
       "      <th>max</th>\n",
       "      <td>10.000000</td>\n",
       "    </tr>\n",
       "  </tbody>\n",
       "</table>\n",
       "</div>"
      ],
      "text/plain": [
       "         Book-Rating\n",
       "count  204164.000000\n",
       "mean        7.719676\n",
       "std         1.791132\n",
       "min         1.000000\n",
       "25%         7.000000\n",
       "50%         8.000000\n",
       "75%         9.000000\n",
       "max        10.000000"
      ]
     },
     "execution_count": 91,
     "metadata": {},
     "output_type": "execute_result"
    }
   ],
   "source": [
    "ratings.describe()"
   ]
  },
  {
   "cell_type": "code",
   "execution_count": 92,
   "id": "851c48d6-f8b0-4877-aa22-2d3bd4b2ef2c",
   "metadata": {},
   "outputs": [
    {
     "name": "stderr",
     "output_type": "stream",
     "text": [
      "/Users/caseyhaseloff/anaconda3/lib/python3.11/site-packages/seaborn/_oldcore.py:1119: FutureWarning: use_inf_as_na option is deprecated and will be removed in a future version. Convert inf values to NaN before operating instead.\n",
      "  with pd.option_context('mode.use_inf_as_na', True):\n"
     ]
    },
    {
     "data": {
      "text/plain": [
       "<Axes: xlabel='Book-Rating', ylabel='Count'>"
      ]
     },
     "execution_count": 92,
     "metadata": {},
     "output_type": "execute_result"
    },
    {
     "data": {
      "image/png": "[encoded data removed]",
      "text/plain": [
       "<Figure size 432x288 with 1 Axes>"
      ]
     },
     "metadata": {},
     "output_type": "display_data"
    }
   ],
   "source": [
    "sns.histplot(ratings, x = \"Book-Rating\")"
   ]
  },
  {
   "cell_type": "code",
   "execution_count": 93,
   "id": "2f1b9c0b-142e-4364-a680-60c33650148c",
   "metadata": {},
   "outputs": [
    {
     "data": {
      "text/plain": [
       "<Axes: xlabel='Book-Rating'>"
      ]
     },
     "execution_count": 93,
     "metadata": {},
     "output_type": "execute_result"
    },
    {
     "data": {
      "image/png": "[encoded data removed]",
      "text/plain": [
       "<Figure size 432x288 with 1 Axes>"
      ]
     },
     "metadata": {},
     "output_type": "display_data"
    }
   ],
   "source": [
    "sns.boxplot(ratings, x = \"Book-Rating\")"
   ]
  },
  {
   "cell_type": "code",
   "execution_count": 95,
   "id": "bf2d4175-2583-4857-abec-02e7b30d1e63",
   "metadata": {},
   "outputs": [
    {
     "data": {
      "text/html": [
       "<div>\n",
       "<style scoped>\n",
       "    .dataframe tbody tr th:only-of-type {\n",
       "        vertical-align: middle;\n",
       "    }\n",
       "\n",
       "    .dataframe tbody tr th {\n",
       "        vertical-align: top;\n",
       "    }\n",
       "\n",
       "    .dataframe thead th {\n",
       "        text-align: right;\n",
       "    }\n",
       "</style>\n",
       "<table border=\"1\" class=\"dataframe\">\n",
       "  <thead>\n",
       "    <tr style=\"text-align: right;\">\n",
       "      <th></th>\n",
       "      <th>User-ID</th>\n",
       "      <th>Count</th>\n",
       "    </tr>\n",
       "  </thead>\n",
       "  <tbody>\n",
       "    <tr>\n",
       "      <th>0</th>\n",
       "      <td>100002</td>\n",
       "      <td>1</td>\n",
       "    </tr>\n",
       "    <tr>\n",
       "      <th>28015</th>\n",
       "      <td>245668</td>\n",
       "      <td>1</td>\n",
       "    </tr>\n",
       "    <tr>\n",
       "      <th>28010</th>\n",
       "      <td>245652</td>\n",
       "      <td>1</td>\n",
       "    </tr>\n",
       "    <tr>\n",
       "      <th>28006</th>\n",
       "      <td>24562</td>\n",
       "      <td>1</td>\n",
       "    </tr>\n",
       "    <tr>\n",
       "      <th>28004</th>\n",
       "      <td>245610</td>\n",
       "      <td>1</td>\n",
       "    </tr>\n",
       "    <tr>\n",
       "      <th>...</th>\n",
       "      <td>...</td>\n",
       "      <td>...</td>\n",
       "    </tr>\n",
       "    <tr>\n",
       "      <th>2687</th>\n",
       "      <td>114368</td>\n",
       "      <td>432</td>\n",
       "    </tr>\n",
       "    <tr>\n",
       "      <th>12967</th>\n",
       "      <td>16795</td>\n",
       "      <td>516</td>\n",
       "    </tr>\n",
       "    <tr>\n",
       "      <th>10377</th>\n",
       "      <td>153662</td>\n",
       "      <td>603</td>\n",
       "    </tr>\n",
       "    <tr>\n",
       "      <th>47994</th>\n",
       "      <td>98391</td>\n",
       "      <td>1174</td>\n",
       "    </tr>\n",
       "    <tr>\n",
       "      <th>3211</th>\n",
       "      <td>11676</td>\n",
       "      <td>3598</td>\n",
       "    </tr>\n",
       "  </tbody>\n",
       "</table>\n",
       "<p>48299 rows × 2 columns</p>\n",
       "</div>"
      ],
      "text/plain": [
       "      User-ID  Count\n",
       "0      100002      1\n",
       "28015  245668      1\n",
       "28010  245652      1\n",
       "28006   24562      1\n",
       "28004  245610      1\n",
       "...       ...    ...\n",
       "2687   114368    432\n",
       "12967   16795    516\n",
       "10377  153662    603\n",
       "47994   98391   1174\n",
       "3211    11676   3598\n",
       "\n",
       "[48299 rows x 2 columns]"
      ]
     },
     "execution_count": 95,
     "metadata": {},
     "output_type": "execute_result"
    }
   ],
   "source": [
    "ratings.groupby(\"User-ID\")[\"ISBN\"].count().reset_index().rename(columns = {\"ISBN\":\"Count\"}).sort_values(\"Count\")"
   ]
  },
  {
   "cell_type": "code",
   "execution_count": 96,
   "id": "987c3d35-4d37-4860-90f7-3ef356176e1e",
   "metadata": {},
   "outputs": [
    {
     "data": {
      "text/plain": [
       "<Axes: xlabel='Count', ylabel='User-ID'>"
      ]
     },
     "execution_count": 96,
     "metadata": {},
     "output_type": "execute_result"
    },
    {
     "data": {
      "image/png": "[encoded data removed]",
      "text/plain": [
       "<Figure size 432x288 with 1 Axes>"
      ]
     },
     "metadata": {},
     "output_type": "display_data"
    }
   ],
   "source": [
    "ratings_users = ratings.groupby([\"User-ID\"])[\"ISBN\"].count() \\\n",
    "    .reset_index().rename(columns= {'ISBN':'Count'}).sort_values(by = \"Count\",ascending = False)\n",
    "\n",
    "sns.barplot(ratings_users.head(10), x = \"Count\", y = \"User-ID\", orient = \"h\")"
   ]
  },
  {
   "cell_type": "code",
   "execution_count": 97,
   "id": "5e8d21df-bd10-40f1-a844-b4e75be637a7",
   "metadata": {},
   "outputs": [
    {
     "data": {
      "text/plain": [
       "<Axes: xlabel='Count', ylabel='User-ID'>"
      ]
     },
     "execution_count": 97,
     "metadata": {},
     "output_type": "execute_result"
    },
    {
     "data": {
      "image/png": "[encoded data removed]",
      "text/plain": [
       "<Figure size 432x288 with 1 Axes>"
      ]
     },
     "metadata": {},
     "output_type": "display_data"
    }
   ],
   "source": [
    "sns.barplot(ratings_users.tail(10), x = \"Count\", y = \"User-ID\", orient = \"h\")"
   ]
  },
  {
   "cell_type": "code",
   "execution_count": 99,
   "id": "67ed3176-7c84-444e-866b-086aad05a642",
   "metadata": {},
   "outputs": [
    {
     "data": {
      "text/html": [
       "<div>\n",
       "<style scoped>\n",
       "    .dataframe tbody tr th:only-of-type {\n",
       "        vertical-align: middle;\n",
       "    }\n",
       "\n",
       "    .dataframe tbody tr th {\n",
       "        vertical-align: top;\n",
       "    }\n",
       "\n",
       "    .dataframe thead th {\n",
       "        text-align: right;\n",
       "    }\n",
       "</style>\n",
       "<table border=\"1\" class=\"dataframe\">\n",
       "  <thead>\n",
       "    <tr style=\"text-align: right;\">\n",
       "      <th></th>\n",
       "      <th>User-ID</th>\n",
       "      <th>Average</th>\n",
       "    </tr>\n",
       "  </thead>\n",
       "  <tbody>\n",
       "    <tr>\n",
       "      <th>21853</th>\n",
       "      <td>21468</td>\n",
       "      <td>10.0</td>\n",
       "    </tr>\n",
       "    <tr>\n",
       "      <th>5720</th>\n",
       "      <td>12972</td>\n",
       "      <td>10.0</td>\n",
       "    </tr>\n",
       "    <tr>\n",
       "      <th>45594</th>\n",
       "      <td>85549</td>\n",
       "      <td>10.0</td>\n",
       "    </tr>\n",
       "    <tr>\n",
       "      <th>45593</th>\n",
       "      <td>85540</td>\n",
       "      <td>10.0</td>\n",
       "    </tr>\n",
       "    <tr>\n",
       "      <th>25633</th>\n",
       "      <td>234016</td>\n",
       "      <td>10.0</td>\n",
       "    </tr>\n",
       "  </tbody>\n",
       "</table>\n",
       "</div>"
      ],
      "text/plain": [
       "      User-ID  Average\n",
       "21853   21468     10.0\n",
       "5720    12972     10.0\n",
       "45594   85549     10.0\n",
       "45593   85540     10.0\n",
       "25633  234016     10.0"
      ]
     },
     "execution_count": 99,
     "metadata": {},
     "output_type": "execute_result"
    }
   ],
   "source": [
    "ratings_user_average = ratings.groupby([\"User-ID\"])[\"Book-Rating\"].mean() \\\n",
    "     .reset_index().rename(columns= {'Book-Rating':'Average'}).sort_values(by = \"Average\",ascending = False)\n",
    "ratings_user_average.head()"
   ]
  },
  {
   "cell_type": "code",
   "execution_count": 101,
   "id": "22ee2fde-727f-49f1-b510-8422f01771d5",
   "metadata": {},
   "outputs": [
    {
     "data": {
      "text/html": [
       "<div>\n",
       "<style scoped>\n",
       "    .dataframe tbody tr th:only-of-type {\n",
       "        vertical-align: middle;\n",
       "    }\n",
       "\n",
       "    .dataframe tbody tr th {\n",
       "        vertical-align: top;\n",
       "    }\n",
       "\n",
       "    .dataframe thead th {\n",
       "        text-align: right;\n",
       "    }\n",
       "</style>\n",
       "<table border=\"1\" class=\"dataframe\">\n",
       "  <thead>\n",
       "    <tr style=\"text-align: right;\">\n",
       "      <th></th>\n",
       "      <th>User-ID</th>\n",
       "      <th>Average</th>\n",
       "    </tr>\n",
       "  </thead>\n",
       "  <tbody>\n",
       "    <tr>\n",
       "      <th>21853</th>\n",
       "      <td>21468</td>\n",
       "      <td>10.0</td>\n",
       "    </tr>\n",
       "    <tr>\n",
       "      <th>5720</th>\n",
       "      <td>12972</td>\n",
       "      <td>10.0</td>\n",
       "    </tr>\n",
       "    <tr>\n",
       "      <th>45594</th>\n",
       "      <td>85549</td>\n",
       "      <td>10.0</td>\n",
       "    </tr>\n",
       "    <tr>\n",
       "      <th>45593</th>\n",
       "      <td>85540</td>\n",
       "      <td>10.0</td>\n",
       "    </tr>\n",
       "    <tr>\n",
       "      <th>25633</th>\n",
       "      <td>234016</td>\n",
       "      <td>10.0</td>\n",
       "    </tr>\n",
       "  </tbody>\n",
       "</table>\n",
       "</div>"
      ],
      "text/plain": [
       "      User-ID  Average\n",
       "21853   21468     10.0\n",
       "5720    12972     10.0\n",
       "45594   85549     10.0\n",
       "45593   85540     10.0\n",
       "25633  234016     10.0"
      ]
     },
     "execution_count": 101,
     "metadata": {},
     "output_type": "execute_result"
    }
   ],
   "source": [
    "ratings_user_average = ratings.groupby([\"User-ID\"])[\"Book-Rating\"].mean() \\\n",
    "     .reset_index().rename(columns= {'Book-Rating':'Average'}).sort_values(by = \"Average\",ascending = False)\n",
    "ratings_user_average.head()"
   ]
  },
  {
   "cell_type": "markdown",
   "id": "b56dc8f3-4b57-4758-855a-bf5f2df9efdd",
   "metadata": {},
   "source": [
    "### Merge ratings with BX-Books to see titles"
   ]
  },
  {
   "cell_type": "code",
   "execution_count": 129,
   "id": "9e45e3e4-5dfb-456f-9e57-06f3179cb8b2",
   "metadata": {},
   "outputs": [],
   "source": [
    "ratings = ratings.merge(books)"
   ]
  },
  {
   "cell_type": "code",
   "execution_count": 121,
   "id": "8f2d3521-13d0-403b-860d-bb0ec0c3a06f",
   "metadata": {},
   "outputs": [
    {
     "data": {
      "text/html": [
       "<div>\n",
       "<style scoped>\n",
       "    .dataframe tbody tr th:only-of-type {\n",
       "        vertical-align: middle;\n",
       "    }\n",
       "\n",
       "    .dataframe tbody tr th {\n",
       "        vertical-align: top;\n",
       "    }\n",
       "\n",
       "    .dataframe thead th {\n",
       "        text-align: right;\n",
       "    }\n",
       "</style>\n",
       "<table border=\"1\" class=\"dataframe\">\n",
       "  <thead>\n",
       "    <tr style=\"text-align: right;\">\n",
       "      <th></th>\n",
       "      <th>Book-Title</th>\n",
       "      <th>mean</th>\n",
       "      <th>count</th>\n",
       "    </tr>\n",
       "  </thead>\n",
       "  <tbody>\n",
       "    <tr>\n",
       "      <th>0</th>\n",
       "      <td>earth prayers from around the world: 365 pray...</td>\n",
       "      <td>7.142857</td>\n",
       "      <td>7</td>\n",
       "    </tr>\n",
       "    <tr>\n",
       "      <th>1</th>\n",
       "      <td>good wives: image and reality in the lives of...</td>\n",
       "      <td>8.000000</td>\n",
       "      <td>4</td>\n",
       "    </tr>\n",
       "    <tr>\n",
       "      <th>2</th>\n",
       "      <td>murder of a sleeping beauty (scumble river my...</td>\n",
       "      <td>7.000000</td>\n",
       "      <td>5</td>\n",
       "    </tr>\n",
       "    <tr>\n",
       "      <th>3</th>\n",
       "      <td>q-space (star trek the next generation, book 47)</td>\n",
       "      <td>8.250000</td>\n",
       "      <td>4</td>\n",
       "    </tr>\n",
       "    <tr>\n",
       "      <th>4</th>\n",
       "      <td>!yo!</td>\n",
       "      <td>8.142857</td>\n",
       "      <td>7</td>\n",
       "    </tr>\n",
       "    <tr>\n",
       "      <th>...</th>\n",
       "      <td>...</td>\n",
       "      <td>...</td>\n",
       "      <td>...</td>\n",
       "    </tr>\n",
       "    <tr>\n",
       "      <th>15971</th>\n",
       "      <td>zuflucht im teehaus. roman.</td>\n",
       "      <td>7.200000</td>\n",
       "      <td>5</td>\n",
       "    </tr>\n",
       "    <tr>\n",
       "      <th>15972</th>\n",
       "      <td>zwei alte frauen. eine legende von verrat und ...</td>\n",
       "      <td>7.500000</td>\n",
       "      <td>6</td>\n",
       "    </tr>\n",
       "    <tr>\n",
       "      <th>15973</th>\n",
       "      <td>zweimal ist einmal zuviel.</td>\n",
       "      <td>7.500000</td>\n",
       "      <td>4</td>\n",
       "    </tr>\n",
       "    <tr>\n",
       "      <th>15974</th>\n",
       "      <td>zwã?ãâ¶lf.</td>\n",
       "      <td>6.416667</td>\n",
       "      <td>12</td>\n",
       "    </tr>\n",
       "    <tr>\n",
       "      <th>15975</th>\n",
       "      <td>ãâ¿quãâ© me quieres, amor?</td>\n",
       "      <td>6.750000</td>\n",
       "      <td>4</td>\n",
       "    </tr>\n",
       "  </tbody>\n",
       "</table>\n",
       "<p>15976 rows × 3 columns</p>\n",
       "</div>"
      ],
      "text/plain": [
       "                                              Book-Title      mean  count\n",
       "0       earth prayers from around the world: 365 pray...  7.142857      7\n",
       "1       good wives: image and reality in the lives of...  8.000000      4\n",
       "2       murder of a sleeping beauty (scumble river my...  7.000000      5\n",
       "3       q-space (star trek the next generation, book 47)  8.250000      4\n",
       "4                                                   !yo!  8.142857      7\n",
       "...                                                  ...       ...    ...\n",
       "15971                        zuflucht im teehaus. roman.  7.200000      5\n",
       "15972  zwei alte frauen. eine legende von verrat und ...  7.500000      6\n",
       "15973                         zweimal ist einmal zuviel.  7.500000      4\n",
       "15974                                       zwã?ãâ¶lf.  6.416667     12\n",
       "15975                       ãâ¿quãâ© me quieres, amor?  6.750000      4\n",
       "\n",
       "[15976 rows x 3 columns]"
      ]
     },
     "execution_count": 121,
     "metadata": {},
     "output_type": "execute_result"
    }
   ],
   "source": [
    "ratings_book = ratings.groupby([\"Book-Title\"]).agg(mean = (\"Book-Rating\",\"mean\"), count = (\"Book-Rating\",\"count\")).reset_index()\n",
    "ratings_book"
   ]
  },
  {
   "cell_type": "code",
   "execution_count": 104,
   "id": "8b8a34d3-9fca-4466-b7af-874e99ef17a3",
   "metadata": {},
   "outputs": [
    {
     "data": {
      "text/html": [
       "<div>\n",
       "<style scoped>\n",
       "    .dataframe tbody tr th:only-of-type {\n",
       "        vertical-align: middle;\n",
       "    }\n",
       "\n",
       "    .dataframe tbody tr th {\n",
       "        vertical-align: top;\n",
       "    }\n",
       "\n",
       "    .dataframe thead th {\n",
       "        text-align: right;\n",
       "    }\n",
       "</style>\n",
       "<table border=\"1\" class=\"dataframe\">\n",
       "  <thead>\n",
       "    <tr style=\"text-align: right;\">\n",
       "      <th></th>\n",
       "      <th>Book-Author</th>\n",
       "      <th>mean</th>\n",
       "      <th>count</th>\n",
       "    </tr>\n",
       "  </thead>\n",
       "  <tbody>\n",
       "    <tr>\n",
       "      <th>0</th>\n",
       "      <td>A Lobo Antunes</td>\n",
       "      <td>6.500000</td>\n",
       "      <td>4</td>\n",
       "    </tr>\n",
       "    <tr>\n",
       "      <th>1</th>\n",
       "      <td>A. A. Attanasio</td>\n",
       "      <td>7.250000</td>\n",
       "      <td>4</td>\n",
       "    </tr>\n",
       "    <tr>\n",
       "      <th>2</th>\n",
       "      <td>A. A. Milne</td>\n",
       "      <td>8.045455</td>\n",
       "      <td>22</td>\n",
       "    </tr>\n",
       "    <tr>\n",
       "      <th>3</th>\n",
       "      <td>A. C. Bhaktivedanta Swami Prabhupada et al.</td>\n",
       "      <td>7.777778</td>\n",
       "      <td>9</td>\n",
       "    </tr>\n",
       "    <tr>\n",
       "      <th>4</th>\n",
       "      <td>A. C. Crispin</td>\n",
       "      <td>6.500000</td>\n",
       "      <td>4</td>\n",
       "    </tr>\n",
       "    <tr>\n",
       "      <th>...</th>\n",
       "      <td>...</td>\n",
       "      <td>...</td>\n",
       "      <td>...</td>\n",
       "    </tr>\n",
       "    <tr>\n",
       "      <th>6447</th>\n",
       "      <td>Zz Packer</td>\n",
       "      <td>8.250000</td>\n",
       "      <td>4</td>\n",
       "    </tr>\n",
       "    <tr>\n",
       "      <th>6448</th>\n",
       "      <td>\\Pickles\\\"\"</td>\n",
       "      <td>8.500000</td>\n",
       "      <td>4</td>\n",
       "    </tr>\n",
       "    <tr>\n",
       "      <th>6449</th>\n",
       "      <td>bell hooks</td>\n",
       "      <td>9.000000</td>\n",
       "      <td>5</td>\n",
       "    </tr>\n",
       "    <tr>\n",
       "      <th>6450</th>\n",
       "      <td>stephen R Donaldson</td>\n",
       "      <td>8.400000</td>\n",
       "      <td>5</td>\n",
       "    </tr>\n",
       "    <tr>\n",
       "      <th>6451</th>\n",
       "      <td>unknown</td>\n",
       "      <td>8.800000</td>\n",
       "      <td>5</td>\n",
       "    </tr>\n",
       "  </tbody>\n",
       "</table>\n",
       "<p>6452 rows × 3 columns</p>\n",
       "</div>"
      ],
      "text/plain": [
       "                                      Book-Author      mean  count\n",
       "0                                  A Lobo Antunes  6.500000      4\n",
       "1                                 A. A. Attanasio  7.250000      4\n",
       "2                                     A. A. Milne  8.045455     22\n",
       "3     A. C. Bhaktivedanta Swami Prabhupada et al.  7.777778      9\n",
       "4                                   A. C. Crispin  6.500000      4\n",
       "...                                           ...       ...    ...\n",
       "6447                                    Zz Packer  8.250000      4\n",
       "6448                                  \\Pickles\\\"\"  8.500000      4\n",
       "6449                                   bell hooks  9.000000      5\n",
       "6450                          stephen R Donaldson  8.400000      5\n",
       "6451                                      unknown  8.800000      5\n",
       "\n",
       "[6452 rows x 3 columns]"
      ]
     },
     "execution_count": 104,
     "metadata": {},
     "output_type": "execute_result"
    }
   ],
   "source": [
    "ratings_author = ratings.groupby([\"Book-Author\"]).agg(mean = (\"Book-Rating\",\"mean\"), count = (\"Book-Rating\",\"count\")).reset_index()\n",
    "ratings_author"
   ]
  },
  {
   "cell_type": "code",
   "execution_count": 105,
   "id": "ae5c09b8-59db-4161-967f-52ed2f943e0c",
   "metadata": {},
   "outputs": [],
   "source": [
    "ratings_stats = ratings.groupby([\"Book-Title\", \"Book-Author\", \"Book-Publisher\"]) \\\n",
    "    .agg(mean = (\"Book-Rating\",\"mean\"), count = (\"Book-Rating\",\"count\")).reset_index()"
   ]
  },
  {
   "cell_type": "code",
   "execution_count": 107,
   "id": "9bf8684d-8aa6-4dc5-8a58-ea0c80fba4fd",
   "metadata": {},
   "outputs": [
    {
     "data": {
      "text/html": [
       "<div>\n",
       "<style scoped>\n",
       "    .dataframe tbody tr th:only-of-type {\n",
       "        vertical-align: middle;\n",
       "    }\n",
       "\n",
       "    .dataframe tbody tr th {\n",
       "        vertical-align: top;\n",
       "    }\n",
       "\n",
       "    .dataframe thead th {\n",
       "        text-align: right;\n",
       "    }\n",
       "</style>\n",
       "<table border=\"1\" class=\"dataframe\">\n",
       "  <thead>\n",
       "    <tr style=\"text-align: right;\">\n",
       "      <th></th>\n",
       "      <th>Book-Title</th>\n",
       "      <th>Book-Author</th>\n",
       "      <th>Book-Publisher</th>\n",
       "      <th>mean</th>\n",
       "      <th>count</th>\n",
       "    </tr>\n",
       "  </thead>\n",
       "  <tbody>\n",
       "    <tr>\n",
       "      <th>14441</th>\n",
       "      <td>the lovely bones: a novel</td>\n",
       "      <td>Alice Sebold</td>\n",
       "      <td>Little, Brown</td>\n",
       "      <td>8.214815</td>\n",
       "      <td>675</td>\n",
       "    </tr>\n",
       "    <tr>\n",
       "      <th>17442</th>\n",
       "      <td>wild animus</td>\n",
       "      <td>Rich Shapero</td>\n",
       "      <td>Too Far</td>\n",
       "      <td>4.400000</td>\n",
       "      <td>575</td>\n",
       "    </tr>\n",
       "    <tr>\n",
       "      <th>13134</th>\n",
       "      <td>the da vinci code</td>\n",
       "      <td>Dan Brown</td>\n",
       "      <td>Doubleday</td>\n",
       "      <td>8.427975</td>\n",
       "      <td>479</td>\n",
       "    </tr>\n",
       "    <tr>\n",
       "      <th>15126</th>\n",
       "      <td>the red tent (bestselling backlist)</td>\n",
       "      <td>Anita Diamant</td>\n",
       "      <td>Picador USA</td>\n",
       "      <td>8.196133</td>\n",
       "      <td>362</td>\n",
       "    </tr>\n",
       "    <tr>\n",
       "      <th>5737</th>\n",
       "      <td>harry potter and the chamber of secrets (book 2)</td>\n",
       "      <td>J. K. Rowling</td>\n",
       "      <td>Scholastic</td>\n",
       "      <td>8.849057</td>\n",
       "      <td>318</td>\n",
       "    </tr>\n",
       "    <tr>\n",
       "      <th>...</th>\n",
       "      <td>...</td>\n",
       "      <td>...</td>\n",
       "      <td>...</td>\n",
       "      <td>...</td>\n",
       "      <td>...</td>\n",
       "    </tr>\n",
       "    <tr>\n",
       "      <th>9230</th>\n",
       "      <td>november of the heart</td>\n",
       "      <td>Lavyrle Spencer</td>\n",
       "      <td>Putnam Pub Group</td>\n",
       "      <td>5.750000</td>\n",
       "      <td>4</td>\n",
       "    </tr>\n",
       "    <tr>\n",
       "      <th>9226</th>\n",
       "      <td>nouvelles histoires extraordinaires</td>\n",
       "      <td>Edgar Allan Poe</td>\n",
       "      <td>LGF</td>\n",
       "      <td>7.000000</td>\n",
       "      <td>4</td>\n",
       "    </tr>\n",
       "    <tr>\n",
       "      <th>9225</th>\n",
       "      <td>nouvelles chroniques tã?ãâ©lã?ãâ©</td>\n",
       "      <td>Guy Carlier</td>\n",
       "      <td>Pocket</td>\n",
       "      <td>8.250000</td>\n",
       "      <td>4</td>\n",
       "    </tr>\n",
       "    <tr>\n",
       "      <th>9218</th>\n",
       "      <td>nothing is impossible : reflections on a new life</td>\n",
       "      <td>CHRISTOPHER REEVE</td>\n",
       "      <td>Random House</td>\n",
       "      <td>6.750000</td>\n",
       "      <td>4</td>\n",
       "    </tr>\n",
       "    <tr>\n",
       "      <th>17816</th>\n",
       "      <td>ãâ¿quãâ© me quieres, amor?</td>\n",
       "      <td>Manuel Rivas</td>\n",
       "      <td>Santillana USA Publishing Company</td>\n",
       "      <td>6.750000</td>\n",
       "      <td>4</td>\n",
       "    </tr>\n",
       "  </tbody>\n",
       "</table>\n",
       "<p>17817 rows × 5 columns</p>\n",
       "</div>"
      ],
      "text/plain": [
       "                                              Book-Title  ... count\n",
       "14441                          the lovely bones: a novel  ...   675\n",
       "17442                                        wild animus  ...   575\n",
       "13134                                  the da vinci code  ...   479\n",
       "15126                the red tent (bestselling backlist)  ...   362\n",
       "5737    harry potter and the chamber of secrets (book 2)  ...   318\n",
       "...                                                  ...  ...   ...\n",
       "9230                               november of the heart  ...     4\n",
       "9226                 nouvelles histoires extraordinaires  ...     4\n",
       "9225               nouvelles chroniques tã?ãâ©lã?ãâ©  ...     4\n",
       "9218   nothing is impossible : reflections on a new life  ...     4\n",
       "17816                       ãâ¿quãâ© me quieres, amor?  ...     4\n",
       "\n",
       "[17817 rows x 5 columns]"
      ]
     },
     "execution_count": 107,
     "metadata": {},
     "output_type": "execute_result"
    }
   ],
   "source": [
    "ratings_stats.sort_values('count', ascending = False)"
   ]
  },
  {
   "cell_type": "code",
   "execution_count": 344,
   "id": "03763fde-b70b-4909-9f24-1a41d8898e6b",
   "metadata": {},
   "outputs": [
    {
     "data": {
      "text/plain": [
       "<Axes: xlabel='count', ylabel='mean'>"
      ]
     },
     "execution_count": 344,
     "metadata": {},
     "output_type": "execute_result"
    },
    {
     "data": {
      "image/png": "[encoded data removed]",
      "text/plain": [
       "<Figure size 432x288 with 1 Axes>"
      ]
     },
     "metadata": {},
     "output_type": "display_data"
    }
   ],
   "source": [
    "sns.scatterplot(ratings_stats, x = \"count\", y = \"mean\")"
   ]
  },
  {
   "cell_type": "markdown",
   "id": "53b3a7b7-ad0f-4e85-823d-46fef9def719",
   "metadata": {},
   "source": [
    "### Merge ratings with BX-Users to see more info"
   ]
  },
  {
   "cell_type": "code",
   "execution_count": 130,
   "id": "4e89194f-f1e3-445b-9b41-bb81c97f0839",
   "metadata": {},
   "outputs": [],
   "source": [
    "users[\"User-ID\"] = users[\"User-ID\"].astype(str)"
   ]
  },
  {
   "cell_type": "code",
   "execution_count": 131,
   "id": "594d5b67-9fce-40f1-be22-13f02b9540ad",
   "metadata": {},
   "outputs": [
    {
     "data": {
      "text/html": [
       "<div>\n",
       "<style scoped>\n",
       "    .dataframe tbody tr th:only-of-type {\n",
       "        vertical-align: middle;\n",
       "    }\n",
       "\n",
       "    .dataframe tbody tr th {\n",
       "        vertical-align: top;\n",
       "    }\n",
       "\n",
       "    .dataframe thead th {\n",
       "        text-align: right;\n",
       "    }\n",
       "</style>\n",
       "<table border=\"1\" class=\"dataframe\">\n",
       "  <thead>\n",
       "    <tr style=\"text-align: right;\">\n",
       "      <th></th>\n",
       "      <th>User-ID</th>\n",
       "      <th>User-City</th>\n",
       "      <th>User-State</th>\n",
       "      <th>User-Country</th>\n",
       "      <th>User-Age</th>\n",
       "    </tr>\n",
       "  </thead>\n",
       "  <tbody>\n",
       "    <tr>\n",
       "      <th>0</th>\n",
       "      <td>8</td>\n",
       "      <td>timmins</td>\n",
       "      <td>ontario</td>\n",
       "      <td>canada</td>\n",
       "      <td>-1</td>\n",
       "    </tr>\n",
       "    <tr>\n",
       "      <th>1</th>\n",
       "      <td>9</td>\n",
       "      <td>germantown</td>\n",
       "      <td>tennessee</td>\n",
       "      <td>usa</td>\n",
       "      <td>-1</td>\n",
       "    </tr>\n",
       "    <tr>\n",
       "      <th>2</th>\n",
       "      <td>16</td>\n",
       "      <td>albuquerque</td>\n",
       "      <td>new mexico</td>\n",
       "      <td>usa</td>\n",
       "      <td>-1</td>\n",
       "    </tr>\n",
       "    <tr>\n",
       "      <th>3</th>\n",
       "      <td>17</td>\n",
       "      <td>chesapeake</td>\n",
       "      <td>virginia</td>\n",
       "      <td>usa</td>\n",
       "      <td>-1</td>\n",
       "    </tr>\n",
       "    <tr>\n",
       "      <th>4</th>\n",
       "      <td>19</td>\n",
       "      <td>weston</td>\n",
       "      <td></td>\n",
       "      <td>NaN</td>\n",
       "      <td>14</td>\n",
       "    </tr>\n",
       "    <tr>\n",
       "      <th>...</th>\n",
       "      <td>...</td>\n",
       "      <td>...</td>\n",
       "      <td>...</td>\n",
       "      <td>...</td>\n",
       "      <td>...</td>\n",
       "    </tr>\n",
       "    <tr>\n",
       "      <th>48294</th>\n",
       "      <td>278846</td>\n",
       "      <td>toronto</td>\n",
       "      <td>ontario</td>\n",
       "      <td>canada</td>\n",
       "      <td>23</td>\n",
       "    </tr>\n",
       "    <tr>\n",
       "      <th>48295</th>\n",
       "      <td>278849</td>\n",
       "      <td>georgetown</td>\n",
       "      <td>ontario</td>\n",
       "      <td>canada</td>\n",
       "      <td>23</td>\n",
       "    </tr>\n",
       "    <tr>\n",
       "      <th>48296</th>\n",
       "      <td>278851</td>\n",
       "      <td>dallas</td>\n",
       "      <td>texas</td>\n",
       "      <td>usa</td>\n",
       "      <td>33</td>\n",
       "    </tr>\n",
       "    <tr>\n",
       "      <th>48297</th>\n",
       "      <td>278852</td>\n",
       "      <td>brisbane</td>\n",
       "      <td>queensland</td>\n",
       "      <td>australia</td>\n",
       "      <td>32</td>\n",
       "    </tr>\n",
       "    <tr>\n",
       "      <th>48298</th>\n",
       "      <td>278854</td>\n",
       "      <td>portland</td>\n",
       "      <td>oregon</td>\n",
       "      <td>usa</td>\n",
       "      <td>-1</td>\n",
       "    </tr>\n",
       "  </tbody>\n",
       "</table>\n",
       "<p>48299 rows × 5 columns</p>\n",
       "</div>"
      ],
      "text/plain": [
       "      User-ID    User-City   User-State User-Country  User-Age\n",
       "0           8      timmins      ontario       canada        -1\n",
       "1           9   germantown    tennessee          usa        -1\n",
       "2          16  albuquerque   new mexico          usa        -1\n",
       "3          17   chesapeake     virginia          usa        -1\n",
       "4          19       weston                       NaN        14\n",
       "...       ...          ...          ...          ...       ...\n",
       "48294  278846      toronto      ontario       canada        23\n",
       "48295  278849   georgetown      ontario       canada        23\n",
       "48296  278851       dallas        texas          usa        33\n",
       "48297  278852     brisbane   queensland    australia        32\n",
       "48298  278854     portland       oregon          usa        -1\n",
       "\n",
       "[48299 rows x 5 columns]"
      ]
     },
     "execution_count": 131,
     "metadata": {},
     "output_type": "execute_result"
    }
   ],
   "source": [
    "users"
   ]
  },
  {
   "cell_type": "code",
   "execution_count": 124,
   "id": "f1c3682a-731f-4f38-a310-4d7bfe6b1608",
   "metadata": {},
   "outputs": [
    {
     "data": {
      "text/html": [
       "<div>\n",
       "<style scoped>\n",
       "    .dataframe tbody tr th:only-of-type {\n",
       "        vertical-align: middle;\n",
       "    }\n",
       "\n",
       "    .dataframe tbody tr th {\n",
       "        vertical-align: top;\n",
       "    }\n",
       "\n",
       "    .dataframe thead th {\n",
       "        text-align: right;\n",
       "    }\n",
       "</style>\n",
       "<table border=\"1\" class=\"dataframe\">\n",
       "  <thead>\n",
       "    <tr style=\"text-align: right;\">\n",
       "      <th></th>\n",
       "      <th>User-ID</th>\n",
       "      <th>ISBN</th>\n",
       "      <th>Book-Rating</th>\n",
       "      <th>Book-Title</th>\n",
       "      <th>Book-Author</th>\n",
       "      <th>Year-Of-Publication</th>\n",
       "      <th>Book-Publisher</th>\n",
       "      <th>Book-Author-Processed</th>\n",
       "      <th>Book-Title-Processed</th>\n",
       "      <th>Book-Publisher-Processed</th>\n",
       "      <th>Book-Info</th>\n",
       "    </tr>\n",
       "  </thead>\n",
       "  <tbody>\n",
       "    <tr>\n",
       "      <th>0</th>\n",
       "      <td>276744</td>\n",
       "      <td>038550120X</td>\n",
       "      <td>7</td>\n",
       "      <td>a painted house</td>\n",
       "      <td>JOHN GRISHAM</td>\n",
       "      <td>2001</td>\n",
       "      <td>Doubleday</td>\n",
       "      <td>john grisham</td>\n",
       "      <td>a painted house</td>\n",
       "      <td>doubleday</td>\n",
       "      <td>a painted house by john grisham</td>\n",
       "    </tr>\n",
       "    <tr>\n",
       "      <th>1</th>\n",
       "      <td>276754</td>\n",
       "      <td>0684867621</td>\n",
       "      <td>8</td>\n",
       "      <td>the girl who loved tom gordon : a novel</td>\n",
       "      <td>Stephen King</td>\n",
       "      <td>1999</td>\n",
       "      <td>Scribner</td>\n",
       "      <td>stephen king</td>\n",
       "      <td>the girl who loved tom gordon a novel</td>\n",
       "      <td>scribner</td>\n",
       "      <td>the girl who loved tom gordon a novel by steph...</td>\n",
       "    </tr>\n",
       "    <tr>\n",
       "      <th>2</th>\n",
       "      <td>276755</td>\n",
       "      <td>0451166892</td>\n",
       "      <td>5</td>\n",
       "      <td>the pillars of the earth</td>\n",
       "      <td>Ken Follett</td>\n",
       "      <td>1996</td>\n",
       "      <td>Signet Book</td>\n",
       "      <td>ken follett</td>\n",
       "      <td>the pillar of the earth</td>\n",
       "      <td>signet book</td>\n",
       "      <td>the pillar of the earth by ken follett</td>\n",
       "    </tr>\n",
       "    <tr>\n",
       "      <th>3</th>\n",
       "      <td>276762</td>\n",
       "      <td>0380711524</td>\n",
       "      <td>5</td>\n",
       "      <td>see jane run</td>\n",
       "      <td>Joy Fielding</td>\n",
       "      <td>1992</td>\n",
       "      <td>Avon</td>\n",
       "      <td>joy fielding</td>\n",
       "      <td>see jane run</td>\n",
       "      <td>avon</td>\n",
       "      <td>see jane run by joy fielding</td>\n",
       "    </tr>\n",
       "    <tr>\n",
       "      <th>4</th>\n",
       "      <td>276772</td>\n",
       "      <td>0553572369</td>\n",
       "      <td>7</td>\n",
       "      <td>pay dirt (mrs. murphy mysteries (paperback))</td>\n",
       "      <td>RITA MAE BROWN</td>\n",
       "      <td>1996</td>\n",
       "      <td>Bantam</td>\n",
       "      <td>rita mae brown</td>\n",
       "      <td>pay dirt mr murphy mystery paperback</td>\n",
       "      <td>bantam</td>\n",
       "      <td>pay dirt mr murphy mystery paperback by rita m...</td>\n",
       "    </tr>\n",
       "    <tr>\n",
       "      <th>...</th>\n",
       "      <td>...</td>\n",
       "      <td>...</td>\n",
       "      <td>...</td>\n",
       "      <td>...</td>\n",
       "      <td>...</td>\n",
       "      <td>...</td>\n",
       "      <td>...</td>\n",
       "      <td>...</td>\n",
       "      <td>...</td>\n",
       "      <td>...</td>\n",
       "      <td>...</td>\n",
       "    </tr>\n",
       "    <tr>\n",
       "      <th>204159</th>\n",
       "      <td>276688</td>\n",
       "      <td>0892966548</td>\n",
       "      <td>10</td>\n",
       "      <td>killer market: a deborah knott mystery (debora...</td>\n",
       "      <td>Margaret Maron</td>\n",
       "      <td>1997</td>\n",
       "      <td>Warner Books Inc</td>\n",
       "      <td>margaret maron</td>\n",
       "      <td>killer market a deborah knott mystery deborah ...</td>\n",
       "      <td>warner book inc</td>\n",
       "      <td>killer market a deborah knott mystery deborah ...</td>\n",
       "    </tr>\n",
       "    <tr>\n",
       "      <th>204160</th>\n",
       "      <td>276688</td>\n",
       "      <td>1551669315</td>\n",
       "      <td>6</td>\n",
       "      <td>the third wife</td>\n",
       "      <td>Jasmine Cresswell</td>\n",
       "      <td>2002</td>\n",
       "      <td>Mira</td>\n",
       "      <td>jasmine cresswell</td>\n",
       "      <td>the third wife</td>\n",
       "      <td>mira</td>\n",
       "      <td>the third wife by jasmine cresswell</td>\n",
       "    </tr>\n",
       "    <tr>\n",
       "      <th>204161</th>\n",
       "      <td>276704</td>\n",
       "      <td>0345386108</td>\n",
       "      <td>6</td>\n",
       "      <td>winter moon</td>\n",
       "      <td>Dean R. Koontz</td>\n",
       "      <td>1995</td>\n",
       "      <td>Ballantine Books</td>\n",
       "      <td>dean r koontz</td>\n",
       "      <td>winter moon</td>\n",
       "      <td>ballantine book</td>\n",
       "      <td>winter moon by dean r koontz</td>\n",
       "    </tr>\n",
       "    <tr>\n",
       "      <th>204162</th>\n",
       "      <td>276704</td>\n",
       "      <td>0743211383</td>\n",
       "      <td>7</td>\n",
       "      <td>dreamcatcher</td>\n",
       "      <td>Stephen King</td>\n",
       "      <td>2001</td>\n",
       "      <td>Scribner</td>\n",
       "      <td>stephen king</td>\n",
       "      <td>dreamcatcher</td>\n",
       "      <td>scribner</td>\n",
       "      <td>dreamcatcher by stephen king</td>\n",
       "    </tr>\n",
       "    <tr>\n",
       "      <th>204163</th>\n",
       "      <td>276709</td>\n",
       "      <td>0515107662</td>\n",
       "      <td>10</td>\n",
       "      <td>the sherbrooke bride (bride trilogy (paperback))</td>\n",
       "      <td>Catherine Coulter</td>\n",
       "      <td>1996</td>\n",
       "      <td>Jove Books</td>\n",
       "      <td>catherine coulter</td>\n",
       "      <td>the sherbrooke bride bride trilogy paperback</td>\n",
       "      <td>jove book</td>\n",
       "      <td>the sherbrooke bride bride trilogy paperback b...</td>\n",
       "    </tr>\n",
       "  </tbody>\n",
       "</table>\n",
       "<p>204164 rows × 11 columns</p>\n",
       "</div>"
      ],
      "text/plain": [
       "       User-ID  ...                                          Book-Info\n",
       "0       276744  ...                    a painted house by john grisham\n",
       "1       276754  ...  the girl who loved tom gordon a novel by steph...\n",
       "2       276755  ...             the pillar of the earth by ken follett\n",
       "3       276762  ...                       see jane run by joy fielding\n",
       "4       276772  ...  pay dirt mr murphy mystery paperback by rita m...\n",
       "...        ...  ...                                                ...\n",
       "204159  276688  ...  killer market a deborah knott mystery deborah ...\n",
       "204160  276688  ...                the third wife by jasmine cresswell\n",
       "204161  276704  ...                       winter moon by dean r koontz\n",
       "204162  276704  ...                       dreamcatcher by stephen king\n",
       "204163  276709  ...  the sherbrooke bride bride trilogy paperback b...\n",
       "\n",
       "[204164 rows x 11 columns]"
      ]
     },
     "execution_count": 124,
     "metadata": {},
     "output_type": "execute_result"
    }
   ],
   "source": [
    "ratings"
   ]
  },
  {
   "cell_type": "code",
   "execution_count": 135,
   "id": "bb0a2854-973e-437d-a25f-edbb86d87603",
   "metadata": {},
   "outputs": [
    {
     "data": {
      "text/html": [
       "<div>\n",
       "<style scoped>\n",
       "    .dataframe tbody tr th:only-of-type {\n",
       "        vertical-align: middle;\n",
       "    }\n",
       "\n",
       "    .dataframe tbody tr th {\n",
       "        vertical-align: top;\n",
       "    }\n",
       "\n",
       "    .dataframe thead th {\n",
       "        text-align: right;\n",
       "    }\n",
       "</style>\n",
       "<table border=\"1\" class=\"dataframe\">\n",
       "  <thead>\n",
       "    <tr style=\"text-align: right;\">\n",
       "      <th></th>\n",
       "      <th>User-ID</th>\n",
       "      <th>ISBN</th>\n",
       "      <th>Book-Rating</th>\n",
       "      <th>Book-Title</th>\n",
       "      <th>Book-Author</th>\n",
       "      <th>Year-Of-Publication</th>\n",
       "      <th>Book-Publisher</th>\n",
       "      <th>Book-Author-Processed</th>\n",
       "      <th>Book-Title-Processed</th>\n",
       "      <th>Book-Publisher-Processed</th>\n",
       "      <th>Book-Info</th>\n",
       "      <th>User-City</th>\n",
       "      <th>User-State</th>\n",
       "      <th>User-Country</th>\n",
       "      <th>User-Age</th>\n",
       "    </tr>\n",
       "  </thead>\n",
       "  <tbody>\n",
       "    <tr>\n",
       "      <th>0</th>\n",
       "      <td>276744</td>\n",
       "      <td>038550120X</td>\n",
       "      <td>7</td>\n",
       "      <td>a painted house</td>\n",
       "      <td>JOHN GRISHAM</td>\n",
       "      <td>2001</td>\n",
       "      <td>Doubleday</td>\n",
       "      <td>john grisham</td>\n",
       "      <td>a painted house</td>\n",
       "      <td>doubleday</td>\n",
       "      <td>a painted house by john grisham</td>\n",
       "      <td>torrance</td>\n",
       "      <td>california</td>\n",
       "      <td>usa</td>\n",
       "      <td>-1</td>\n",
       "    </tr>\n",
       "    <tr>\n",
       "      <th>1</th>\n",
       "      <td>276754</td>\n",
       "      <td>0684867621</td>\n",
       "      <td>8</td>\n",
       "      <td>the girl who loved tom gordon : a novel</td>\n",
       "      <td>Stephen King</td>\n",
       "      <td>1999</td>\n",
       "      <td>Scribner</td>\n",
       "      <td>stephen king</td>\n",
       "      <td>the girl who loved tom gordon a novel</td>\n",
       "      <td>scribner</td>\n",
       "      <td>the girl who loved tom gordon a novel by steph...</td>\n",
       "      <td>alberta beach</td>\n",
       "      <td>alberta</td>\n",
       "      <td>canada</td>\n",
       "      <td>19</td>\n",
       "    </tr>\n",
       "    <tr>\n",
       "      <th>2</th>\n",
       "      <td>276755</td>\n",
       "      <td>0451166892</td>\n",
       "      <td>5</td>\n",
       "      <td>the pillars of the earth</td>\n",
       "      <td>Ken Follett</td>\n",
       "      <td>1996</td>\n",
       "      <td>Signet Book</td>\n",
       "      <td>ken follett</td>\n",
       "      <td>the pillar of the earth</td>\n",
       "      <td>signet book</td>\n",
       "      <td>the pillar of the earth by ken follett</td>\n",
       "      <td>frankfurt am main</td>\n",
       "      <td>hessen</td>\n",
       "      <td>germany</td>\n",
       "      <td>32</td>\n",
       "    </tr>\n",
       "    <tr>\n",
       "      <th>3</th>\n",
       "      <td>276762</td>\n",
       "      <td>0380711524</td>\n",
       "      <td>5</td>\n",
       "      <td>see jane run</td>\n",
       "      <td>Joy Fielding</td>\n",
       "      <td>1992</td>\n",
       "      <td>Avon</td>\n",
       "      <td>joy fielding</td>\n",
       "      <td>see jane run</td>\n",
       "      <td>avon</td>\n",
       "      <td>see jane run by joy fielding</td>\n",
       "      <td>duisburg</td>\n",
       "      <td>nordrhein-westfalen</td>\n",
       "      <td>germany</td>\n",
       "      <td>25</td>\n",
       "    </tr>\n",
       "    <tr>\n",
       "      <th>4</th>\n",
       "      <td>276772</td>\n",
       "      <td>0553572369</td>\n",
       "      <td>7</td>\n",
       "      <td>pay dirt (mrs. murphy mysteries (paperback))</td>\n",
       "      <td>RITA MAE BROWN</td>\n",
       "      <td>1996</td>\n",
       "      <td>Bantam</td>\n",
       "      <td>rita mae brown</td>\n",
       "      <td>pay dirt mr murphy mystery paperback</td>\n",
       "      <td>bantam</td>\n",
       "      <td>pay dirt mr murphy mystery paperback by rita m...</td>\n",
       "      <td>bonn</td>\n",
       "      <td>nordrhein-westfalen</td>\n",
       "      <td>germany</td>\n",
       "      <td>-1</td>\n",
       "    </tr>\n",
       "  </tbody>\n",
       "</table>\n",
       "</div>"
      ],
      "text/plain": [
       "  User-ID        ISBN  Book-Rating  ...            User-State User-Country  User-Age\n",
       "0  276744  038550120X            7  ...            california          usa        -1\n",
       "1  276754  0684867621            8  ...               alberta       canada        19\n",
       "2  276755  0451166892            5  ...                hessen      germany        32\n",
       "3  276762  0380711524            5  ...   nordrhein-westfalen      germany        25\n",
       "4  276772  0553572369            7  ...   nordrhein-westfalen      germany        -1\n",
       "\n",
       "[5 rows x 15 columns]"
      ]
     },
     "execution_count": 135,
     "metadata": {},
     "output_type": "execute_result"
    }
   ],
   "source": [
    "ratings = ratings.merge(users)\n",
    "\n",
    "ratings.head()"
   ]
  },
  {
   "cell_type": "code",
   "execution_count": 161,
   "id": "dfb86225-ea88-4a1e-a6ec-146f55551a74",
   "metadata": {},
   "outputs": [],
   "source": [
    "ratings = ratings[(ratings['User-Age'] >= 5) & (ratings['User-Age'] <= 100)]"
   ]
  },
  {
   "cell_type": "code",
   "execution_count": 162,
   "id": "e21ba99e-51ef-4527-9854-9346a633fa3e",
   "metadata": {},
   "outputs": [
    {
     "data": {
      "text/plain": [
       "<Axes: >"
      ]
     },
     "execution_count": 162,
     "metadata": {},
     "output_type": "execute_result"
    },
    {
     "data": {
      "image/png": "[encoded data removed]",
      "text/plain": [
       "<Figure size 432x288 with 1 Axes>"
      ]
     },
     "metadata": {},
     "output_type": "display_data"
    }
   ],
   "source": [
    "ratings['User-Age'].hist()"
   ]
  },
  {
   "cell_type": "code",
   "execution_count": 163,
   "id": "331c2b92-279c-4848-bb6b-b91dda57fb53",
   "metadata": {},
   "outputs": [
    {
     "data": {
      "text/plain": [
       "<Axes: xlabel='count', ylabel='mean'>"
      ]
     },
     "execution_count": 163,
     "metadata": {},
     "output_type": "execute_result"
    },
    {
     "data": {
      "image/png": "[encoded data removed]",
      "text/plain": [
       "<Figure size 432x288 with 1 Axes>"
      ]
     },
     "metadata": {},
     "output_type": "display_data"
    }
   ],
   "source": [
    "ratings_avg_age = ratings.groupby([\"Book-Author\"]) \\\n",
    "    .agg(mean = (\"Book-Rating\",\"mean\"), count = (\"Book-Rating\",\"count\"), average_age = (\"User-Age\", \"mean\")) \\\n",
    "    .reset_index()\n",
    "sns.scatterplot(ratings_avg_age[ratings_avg_age[\"count\"] > 1000], x = \"count\", y = \"mean\", hue = \"Book-Author\")"
   ]
  },
  {
   "cell_type": "code",
   "execution_count": 164,
   "id": "c9cce6d1-f917-4237-b340-73ba70a9fada",
   "metadata": {},
   "outputs": [
    {
     "data": {
      "text/plain": [
       "<Axes: xlabel='count', ylabel='average_age'>"
      ]
     },
     "execution_count": 164,
     "metadata": {},
     "output_type": "execute_result"
    },
    {
     "data": {
      "image/png": "[encoded data removed]",
      "text/plain": [
       "<Figure size 432x288 with 1 Axes>"
      ]
     },
     "metadata": {},
     "output_type": "display_data"
    }
   ],
   "source": [
    "ratings_avg_age = ratings.groupby([\"User-Country\"]) \\\n",
    "    .agg(mean = (\"Book-Rating\",\"mean\"), count = (\"Book-Rating\",\"count\"), average_age = (\"User-Age\", \"mean\")) \\\n",
    "    .reset_index()\n",
    "sns.scatterplot(ratings_avg_age[ratings_avg_age[\"count\"] > 1000], x = \"count\", y = \"average_age\", hue = \"User-Country\")"
   ]
  },
  {
   "cell_type": "code",
   "execution_count": 169,
   "id": "79f4371b-f6bd-4841-a686-4b7a58b2a4fe",
   "metadata": {},
   "outputs": [
    {
     "data": {
      "text/html": [
       "<div>\n",
       "<style scoped>\n",
       "    .dataframe tbody tr th:only-of-type {\n",
       "        vertical-align: middle;\n",
       "    }\n",
       "\n",
       "    .dataframe tbody tr th {\n",
       "        vertical-align: top;\n",
       "    }\n",
       "\n",
       "    .dataframe thead th {\n",
       "        text-align: right;\n",
       "    }\n",
       "</style>\n",
       "<table border=\"1\" class=\"dataframe\">\n",
       "  <thead>\n",
       "    <tr style=\"text-align: right;\">\n",
       "      <th></th>\n",
       "      <th>User-ID</th>\n",
       "      <th>ISBN</th>\n",
       "      <th>Book-Rating</th>\n",
       "      <th>Book-Title</th>\n",
       "      <th>Book-Author</th>\n",
       "      <th>Year-Of-Publication</th>\n",
       "      <th>Book-Publisher</th>\n",
       "      <th>Book-Author-Processed</th>\n",
       "      <th>Book-Title-Processed</th>\n",
       "      <th>Book-Publisher-Processed</th>\n",
       "      <th>Book-Info</th>\n",
       "      <th>User-City</th>\n",
       "      <th>User-State</th>\n",
       "      <th>User-Country</th>\n",
       "      <th>User-Age</th>\n",
       "    </tr>\n",
       "  </thead>\n",
       "  <tbody>\n",
       "    <tr>\n",
       "      <th>1</th>\n",
       "      <td>276754</td>\n",
       "      <td>0684867621</td>\n",
       "      <td>8</td>\n",
       "      <td>the girl who loved tom gordon : a novel</td>\n",
       "      <td>Stephen King</td>\n",
       "      <td>1999</td>\n",
       "      <td>Scribner</td>\n",
       "      <td>stephen king</td>\n",
       "      <td>the girl who loved tom gordon a novel</td>\n",
       "      <td>scribner</td>\n",
       "      <td>the girl who loved tom gordon a novel by steph...</td>\n",
       "      <td>alberta beach</td>\n",
       "      <td>alberta</td>\n",
       "      <td>canada</td>\n",
       "      <td>19</td>\n",
       "    </tr>\n",
       "    <tr>\n",
       "      <th>2</th>\n",
       "      <td>276755</td>\n",
       "      <td>0451166892</td>\n",
       "      <td>5</td>\n",
       "      <td>the pillars of the earth</td>\n",
       "      <td>Ken Follett</td>\n",
       "      <td>1996</td>\n",
       "      <td>Signet Book</td>\n",
       "      <td>ken follett</td>\n",
       "      <td>the pillar of the earth</td>\n",
       "      <td>signet book</td>\n",
       "      <td>the pillar of the earth by ken follett</td>\n",
       "      <td>frankfurt am main</td>\n",
       "      <td>hessen</td>\n",
       "      <td>germany</td>\n",
       "      <td>32</td>\n",
       "    </tr>\n",
       "    <tr>\n",
       "      <th>3</th>\n",
       "      <td>276762</td>\n",
       "      <td>0380711524</td>\n",
       "      <td>5</td>\n",
       "      <td>see jane run</td>\n",
       "      <td>Joy Fielding</td>\n",
       "      <td>1992</td>\n",
       "      <td>Avon</td>\n",
       "      <td>joy fielding</td>\n",
       "      <td>see jane run</td>\n",
       "      <td>avon</td>\n",
       "      <td>see jane run by joy fielding</td>\n",
       "      <td>duisburg</td>\n",
       "      <td>nordrhein-westfalen</td>\n",
       "      <td>germany</td>\n",
       "      <td>25</td>\n",
       "    </tr>\n",
       "    <tr>\n",
       "      <th>9</th>\n",
       "      <td>276796</td>\n",
       "      <td>0330332775</td>\n",
       "      <td>5</td>\n",
       "      <td>bridget jones's diary</td>\n",
       "      <td>Helen Fielding</td>\n",
       "      <td>1997</td>\n",
       "      <td>Picador (UK)</td>\n",
       "      <td>helen fielding</td>\n",
       "      <td>bridget jones s diary</td>\n",
       "      <td>picador uk</td>\n",
       "      <td>bridget jones s diary by helen fielding</td>\n",
       "      <td>manchester</td>\n",
       "      <td>england</td>\n",
       "      <td>united kingdom</td>\n",
       "      <td>21</td>\n",
       "    </tr>\n",
       "    <tr>\n",
       "      <th>10</th>\n",
       "      <td>276798</td>\n",
       "      <td>3548603203</td>\n",
       "      <td>6</td>\n",
       "      <td>artemis fowl.</td>\n",
       "      <td>Eoin Colfer</td>\n",
       "      <td>2003</td>\n",
       "      <td>Ullstein TB-Vlg</td>\n",
       "      <td>eoin colfer</td>\n",
       "      <td>artemis fowl</td>\n",
       "      <td>ullstein tb vlg</td>\n",
       "      <td>artemis fowl by eoin colfer</td>\n",
       "      <td>mannheim</td>\n",
       "      <td>baden-wuerttemberg</td>\n",
       "      <td>germany</td>\n",
       "      <td>31</td>\n",
       "    </tr>\n",
       "    <tr>\n",
       "      <th>...</th>\n",
       "      <td>...</td>\n",
       "      <td>...</td>\n",
       "      <td>...</td>\n",
       "      <td>...</td>\n",
       "      <td>...</td>\n",
       "      <td>...</td>\n",
       "      <td>...</td>\n",
       "      <td>...</td>\n",
       "      <td>...</td>\n",
       "      <td>...</td>\n",
       "      <td>...</td>\n",
       "      <td>...</td>\n",
       "      <td>...</td>\n",
       "      <td>...</td>\n",
       "      <td>...</td>\n",
       "    </tr>\n",
       "    <tr>\n",
       "      <th>204136</th>\n",
       "      <td>276681</td>\n",
       "      <td>0060930535</td>\n",
       "      <td>9</td>\n",
       "      <td>the poisonwood bible: a novel</td>\n",
       "      <td>Barbara Kingsolver</td>\n",
       "      <td>1999</td>\n",
       "      <td>Perennial</td>\n",
       "      <td>barbara kingsolver</td>\n",
       "      <td>the poisonwood bible a novel</td>\n",
       "      <td>perennial</td>\n",
       "      <td>the poisonwood bible a novel by barbara kingso...</td>\n",
       "      <td>chicago</td>\n",
       "      <td>illinois</td>\n",
       "      <td>usa</td>\n",
       "      <td>43</td>\n",
       "    </tr>\n",
       "    <tr>\n",
       "      <th>204137</th>\n",
       "      <td>276681</td>\n",
       "      <td>0060938455</td>\n",
       "      <td>9</td>\n",
       "      <td>fast food nation: the dark side of the all-ame...</td>\n",
       "      <td>Eric Schlosser</td>\n",
       "      <td>2002</td>\n",
       "      <td>Perennial</td>\n",
       "      <td>eric schlosser</td>\n",
       "      <td>fast food nation the dark side of the all amer...</td>\n",
       "      <td>perennial</td>\n",
       "      <td>fast food nation the dark side of the all amer...</td>\n",
       "      <td>chicago</td>\n",
       "      <td>illinois</td>\n",
       "      <td>usa</td>\n",
       "      <td>43</td>\n",
       "    </tr>\n",
       "    <tr>\n",
       "      <th>204138</th>\n",
       "      <td>276681</td>\n",
       "      <td>0399144463</td>\n",
       "      <td>8</td>\n",
       "      <td>who moved my cheese? an amazing way to deal wi...</td>\n",
       "      <td>Spencer Johnson</td>\n",
       "      <td>1998</td>\n",
       "      <td>Putnam Pub Group (Paper)</td>\n",
       "      <td>spencer johnson</td>\n",
       "      <td>who moved my cheese an amazing way to deal wit...</td>\n",
       "      <td>putnam pub group paper</td>\n",
       "      <td>who moved my cheese an amazing way to deal wit...</td>\n",
       "      <td>chicago</td>\n",
       "      <td>illinois</td>\n",
       "      <td>usa</td>\n",
       "      <td>43</td>\n",
       "    </tr>\n",
       "    <tr>\n",
       "      <th>204139</th>\n",
       "      <td>276681</td>\n",
       "      <td>0446677450</td>\n",
       "      <td>8</td>\n",
       "      <td>rich dad, poor dad: what the rich teach their ...</td>\n",
       "      <td>Robert T. Kiyosaki</td>\n",
       "      <td>2000</td>\n",
       "      <td>Warner Books</td>\n",
       "      <td>robert t kiyosaki</td>\n",
       "      <td>rich dad poor dad what the rich teach their ki...</td>\n",
       "      <td>warner book</td>\n",
       "      <td>rich dad poor dad what the rich teach their ki...</td>\n",
       "      <td>chicago</td>\n",
       "      <td>illinois</td>\n",
       "      <td>usa</td>\n",
       "      <td>43</td>\n",
       "    </tr>\n",
       "    <tr>\n",
       "      <th>204163</th>\n",
       "      <td>276709</td>\n",
       "      <td>0515107662</td>\n",
       "      <td>10</td>\n",
       "      <td>the sherbrooke bride (bride trilogy (paperback))</td>\n",
       "      <td>Catherine Coulter</td>\n",
       "      <td>1996</td>\n",
       "      <td>Jove Books</td>\n",
       "      <td>catherine coulter</td>\n",
       "      <td>the sherbrooke bride bride trilogy paperback</td>\n",
       "      <td>jove book</td>\n",
       "      <td>the sherbrooke bride bride trilogy paperback b...</td>\n",
       "      <td>mannington</td>\n",
       "      <td>west virginia</td>\n",
       "      <td>usa</td>\n",
       "      <td>38</td>\n",
       "    </tr>\n",
       "  </tbody>\n",
       "</table>\n",
       "<p>142030 rows × 15 columns</p>\n",
       "</div>"
      ],
      "text/plain": [
       "       User-ID        ISBN  ...     User-Country User-Age\n",
       "1       276754  0684867621  ...           canada       19\n",
       "2       276755  0451166892  ...          germany       32\n",
       "3       276762  0380711524  ...          germany       25\n",
       "9       276796  0330332775  ...   united kingdom       21\n",
       "10      276798  3548603203  ...          germany       31\n",
       "...        ...         ...  ...              ...      ...\n",
       "204136  276681  0060930535  ...              usa       43\n",
       "204137  276681  0060938455  ...              usa       43\n",
       "204138  276681  0399144463  ...              usa       43\n",
       "204139  276681  0446677450  ...              usa       43\n",
       "204163  276709  0515107662  ...              usa       38\n",
       "\n",
       "[142030 rows x 15 columns]"
      ]
     },
     "execution_count": 169,
     "metadata": {},
     "output_type": "execute_result"
    }
   ],
   "source": [
    "ratings"
   ]
  },
  {
   "cell_type": "code",
   "execution_count": 165,
   "id": "5f4daf87-c41e-4521-a93a-60820eb8025a",
   "metadata": {},
   "outputs": [],
   "source": [
    "publication = ratings.groupby(['ISBN', 'Book-Info', 'Year-Of-Publication']).agg(average_age = (\"User-Age\", \"mean\"),\n",
    "                                                                  average_rating = (\"Book-Rating\", \"mean\")).reset_index()"
   ]
  },
  {
   "cell_type": "code",
   "execution_count": 166,
   "id": "0fb23022-51d0-4a78-bbd7-f938d65f0c0a",
   "metadata": {},
   "outputs": [
    {
     "data": {
      "text/plain": [
       "<Axes: xlabel='Year-Of-Publication', ylabel='average_age'>"
      ]
     },
     "execution_count": 166,
     "metadata": {},
     "output_type": "execute_result"
    },
    {
     "data": {
      "image/png": "[encoded data removed]",
      "text/plain": [
       "<Figure size 432x288 with 1 Axes>"
      ]
     },
     "metadata": {},
     "output_type": "display_data"
    }
   ],
   "source": [
    "sns.scatterplot(publication[(publication['Year-Of-Publication'] != 0) & \n",
    "                (publication['Year-Of-Publication'] < 2030)], x = \"Year-Of-Publication\", y = \"average_age\")"
   ]
  },
  {
   "cell_type": "code",
   "execution_count": 167,
   "id": "49627787-dbd3-4bc3-919b-70ffa4e67364",
   "metadata": {},
   "outputs": [
    {
     "data": {
      "text/plain": [
       "<Axes: xlabel='Year-Of-Publication', ylabel='average_rating'>"
      ]
     },
     "execution_count": 167,
     "metadata": {},
     "output_type": "execute_result"
    },
    {
     "data": {
      "image/png": "[encoded data removed]",
      "text/plain": [
       "<Figure size 432x288 with 1 Axes>"
      ]
     },
     "metadata": {},
     "output_type": "display_data"
    }
   ],
   "source": [
    "sns.scatterplot(publication[(publication['Year-Of-Publication'] != 0) & \n",
    "                (publication['Year-Of-Publication'] < 2030)], x = \"Year-Of-Publication\", y = \"average_rating\")"
   ]
  },
  {
   "cell_type": "code",
   "execution_count": 168,
   "id": "c077e91a-79c8-4e8c-a9b7-ab45ad27192e",
   "metadata": {},
   "outputs": [
    {
     "data": {
      "text/plain": [
       "<Axes: xlabel='average_age', ylabel='average_rating'>"
      ]
     },
     "execution_count": 168,
     "metadata": {},
     "output_type": "execute_result"
    },
    {
     "data": {
      "image/png": "[encoded data removed]",
      "text/plain": [
       "<Figure size 432x288 with 1 Axes>"
      ]
     },
     "metadata": {},
     "output_type": "display_data"
    }
   ],
   "source": [
    "sns.scatterplot(publication[(publication['Year-Of-Publication'] != 0) & \n",
    "                (publication['Year-Of-Publication'] < 2030)], x = \"average_age\", y = \"average_rating\")"
   ]
  },
  {
   "cell_type": "code",
   "execution_count": null,
   "id": "7718dfb9-f00d-4696-805e-f960863177a5",
   "metadata": {},
   "outputs": [],
   "source": []
  }
 ],
 "metadata": {
  "kernelspec": {
   "display_name": "Python 3 (Spyder)",
   "language": "python3",
   "name": "python3"
  },
  "language_info": {
   "codemirror_mode": {
    "name": "ipython",
    "version": 3
   },
   "file_extension": ".py",
   "mimetype": "text/x-python",
   "name": "python",
   "nbconvert_exporter": "python",
   "pygments_lexer": "ipython3",
   "version": "3.11.0"
  }
 },
 "nbformat": 4,
 "nbformat_minor": 5
}
