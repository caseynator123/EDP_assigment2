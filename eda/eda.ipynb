{
 "cells": [
  {
   "cell_type": "markdown",
   "id": "3f2ef154-5f41-4b43-af23-76db4b5cb40e",
   "metadata": {},
   "source": [
    "# Exploratory Data Analysis"
   ]
  },
  {
   "cell_type": "markdown",
   "id": "1a07f420-dbf7-41f7-8d28-c46e4fa3f6b3",
   "metadata": {},
   "source": [
    "## Set up environment"
   ]
  },
  {
   "cell_type": "code",
   "execution_count": 1,
   "id": "1c28b2c4-f829-45fd-91ae-48281758c649",
   "metadata": {},
   "outputs": [],
   "source": [
    "import os\n",
    "import pandas as pd\n",
    "import numpy as np\n",
    "import matplotlib.pyplot as plt\n",
    "import seaborn as sns\n",
    "import re\n",
    "\n",
    "from fuzzywuzzy import process, fuzz"
   ]
  },
  {
   "cell_type": "code",
   "execution_count": 2,
   "id": "d476bb51-41c4-4397-bb4e-a6f52ef19028",
   "metadata": {},
   "outputs": [],
   "source": [
    "path = os.path.join(os.path.normpath(os.getcwd() + os.sep + os.pardir) + \"/data/\")"
   ]
  },
  {
   "cell_type": "code",
   "execution_count": 3,
   "id": "792cba9d-1ce5-4a5e-b29a-c3d66fd75c16",
   "metadata": {},
   "outputs": [],
   "source": [
    "cwd = os.path.join(os.path.normpath(os.getcwd() + os.sep + os.pardir))"
   ]
  },
  {
   "cell_type": "code",
   "execution_count": 4,
   "id": "cb86ea6d-7e32-45a5-affb-3ce190e78820",
   "metadata": {},
   "outputs": [
    {
     "data": {
      "text/plain": [
       "['BX-NewBooksUsers.csv',\n",
       " 'BX-Books.csv',\n",
       " 'BX-Ratings.csv',\n",
       " 'BX-Users.csv',\n",
       " 'BX-NewBooksRatings.csv',\n",
       " 'BX-NewBooks.csv']"
      ]
     },
     "execution_count": 4,
     "metadata": {},
     "output_type": "execute_result"
    }
   ],
   "source": [
    "os.listdir(path + 'raw')"
   ]
  },
  {
   "cell_type": "markdown",
   "id": "3364346c-b883-456e-ad42-88c1dbdf9a38",
   "metadata": {},
   "source": [
    "## BX-Books"
   ]
  },
  {
   "cell_type": "code",
   "execution_count": 5,
   "id": "0a8c835e-5989-4611-85a8-342222205e46",
   "metadata": {
    "scrolled": true
   },
   "outputs": [
    {
     "data": {
      "text/html": [
       "<div>\n",
       "<style scoped>\n",
       "    .dataframe tbody tr th:only-of-type {\n",
       "        vertical-align: middle;\n",
       "    }\n",
       "\n",
       "    .dataframe tbody tr th {\n",
       "        vertical-align: top;\n",
       "    }\n",
       "\n",
       "    .dataframe thead th {\n",
       "        text-align: right;\n",
       "    }\n",
       "</style>\n",
       "<table border=\"1\" class=\"dataframe\">\n",
       "  <thead>\n",
       "    <tr style=\"text-align: right;\">\n",
       "      <th></th>\n",
       "      <th>ISBN</th>\n",
       "      <th>Book-Title</th>\n",
       "      <th>Book-Author</th>\n",
       "      <th>Year-Of-Publication</th>\n",
       "      <th>Book-Publisher</th>\n",
       "    </tr>\n",
       "  </thead>\n",
       "  <tbody>\n",
       "    <tr>\n",
       "      <th>0</th>\n",
       "      <td>0002005018</td>\n",
       "      <td>Clara Callan</td>\n",
       "      <td>Richard Bruce Wright</td>\n",
       "      <td>2001</td>\n",
       "      <td>HarperFlamingo Canada</td>\n",
       "    </tr>\n",
       "    <tr>\n",
       "      <th>1</th>\n",
       "      <td>0374157065</td>\n",
       "      <td>Flu: The Story of the Great Influenza Pandemic...</td>\n",
       "      <td>Gina Bari Kolata</td>\n",
       "      <td>1999</td>\n",
       "      <td>Farrar Straus Giroux</td>\n",
       "    </tr>\n",
       "    <tr>\n",
       "      <th>2</th>\n",
       "      <td>0399135782</td>\n",
       "      <td>The Kitchen God's Wife</td>\n",
       "      <td>Amy Tan</td>\n",
       "      <td>1991</td>\n",
       "      <td>Putnam Pub Group</td>\n",
       "    </tr>\n",
       "    <tr>\n",
       "      <th>3</th>\n",
       "      <td>0440234743</td>\n",
       "      <td>The Testament</td>\n",
       "      <td>John Grisham</td>\n",
       "      <td>1999</td>\n",
       "      <td>Dell</td>\n",
       "    </tr>\n",
       "    <tr>\n",
       "      <th>4</th>\n",
       "      <td>0452264464</td>\n",
       "      <td>Beloved (Plume Contemporary Fiction)</td>\n",
       "      <td>Toni Morrison</td>\n",
       "      <td>1994</td>\n",
       "      <td>Plume</td>\n",
       "    </tr>\n",
       "  </tbody>\n",
       "</table>\n",
       "</div>"
      ],
      "text/plain": [
       "         ISBN  ...         Book-Publisher\n",
       "0  0002005018  ...  HarperFlamingo Canada\n",
       "1  0374157065  ...   Farrar Straus Giroux\n",
       "2  0399135782  ...       Putnam Pub Group\n",
       "3  0440234743  ...                   Dell\n",
       "4  0452264464  ...                  Plume\n",
       "\n",
       "[5 rows x 5 columns]"
      ]
     },
     "execution_count": 5,
     "metadata": {},
     "output_type": "execute_result"
    }
   ],
   "source": [
    "books = pd.read_csv(path + \"raw/BX-Books.csv\")\n",
    "books.head()"
   ]
  },
  {
   "cell_type": "markdown",
   "id": "e32c58d1-d709-482a-8c5d-b9d87081cd87",
   "metadata": {},
   "source": [
    "### Null Values"
   ]
  },
  {
   "cell_type": "markdown",
   "id": "0ab13139-2cac-4006-a857-b0822b1c574c",
   "metadata": {},
   "source": [
    "No null values to deal with"
   ]
  },
  {
   "cell_type": "code",
   "execution_count": 6,
   "id": "0ed1cdf0-21b8-423f-bafb-d80429a60134",
   "metadata": {},
   "outputs": [
    {
     "data": {
      "text/plain": [
       "ISBN                   0\n",
       "Book-Title             0\n",
       "Book-Author            0\n",
       "Year-Of-Publication    0\n",
       "Book-Publisher         0\n",
       "dtype: int64"
      ]
     },
     "execution_count": 6,
     "metadata": {},
     "output_type": "execute_result"
    }
   ],
   "source": [
    "books.isna().sum()"
   ]
  },
  {
   "cell_type": "code",
   "execution_count": 7,
   "id": "781758de-d3a8-4b27-9b23-35435d25be3c",
   "metadata": {},
   "outputs": [
    {
     "data": {
      "text/plain": [
       "ISBN                   object\n",
       "Book-Title             object\n",
       "Book-Author            object\n",
       "Year-Of-Publication     int64\n",
       "Book-Publisher         object\n",
       "dtype: object"
      ]
     },
     "execution_count": 7,
     "metadata": {},
     "output_type": "execute_result"
    }
   ],
   "source": [
    "books.dtypes"
   ]
  },
  {
   "cell_type": "markdown",
   "id": "6f3ed081-b71e-44e9-a929-9011fc2d3c30",
   "metadata": {},
   "source": [
    "### Year of publication\n",
    "Year of Publication has max 2030 and min 0. Plot a histogram to see distribution for books published by year.\n",
    "- 314 books published in year 0.\n",
    "- 3 books published in year 2030 (not possible)\n",
    "\n",
    "This imputation needs to be done after text processing on author, title and publisher."
   ]
  },
  {
   "cell_type": "code",
   "execution_count": 8,
   "id": "febcfd7d-2f40-46e5-919a-e836f77669a3",
   "metadata": {},
   "outputs": [
    {
     "data": {
      "text/plain": [
       "(0, 2030)"
      ]
     },
     "execution_count": 8,
     "metadata": {},
     "output_type": "execute_result"
    }
   ],
   "source": [
    "books[\"Year-Of-Publication\"].min(), books[\"Year-Of-Publication\"].max()"
   ]
  },
  {
   "cell_type": "code",
   "execution_count": 9,
   "id": "3b44de05-1042-4b01-8586-66d69464bc9e",
   "metadata": {},
   "outputs": [
    {
     "data": {
      "text/plain": [
       "<Axes: ylabel='Frequency'>"
      ]
     },
     "execution_count": 9,
     "metadata": {},
     "output_type": "execute_result"
    },
    {
     "data": {
      "image/png": "[encoded data removed]",
      "text/plain": [
       "<Figure size 432x288 with 1 Axes>"
      ]
     },
     "metadata": {},
     "output_type": "display_data"
    }
   ],
   "source": [
    "books.plot(kind = \"hist\", y = \"Year-Of-Publication\")"
   ]
  },
  {
   "cell_type": "code",
   "execution_count": 10,
   "id": "a08af6ad-7113-4fb8-b902-93c327249e4e",
   "metadata": {},
   "outputs": [
    {
     "name": "stderr",
     "output_type": "stream",
     "text": [
      "/Users/caseyhaseloff/anaconda3/lib/python3.11/site-packages/seaborn/_oldcore.py:1119: FutureWarning: use_inf_as_na option is deprecated and will be removed in a future version. Convert inf values to NaN before operating instead.\n",
      "  with pd.option_context('mode.use_inf_as_na', True):\n"
     ]
    },
    {
     "data": {
      "text/plain": [
       "Text(0, 0.5, 'Frequency')"
      ]
     },
     "execution_count": 10,
     "metadata": {},
     "output_type": "execute_result"
    },
    {
     "data": {
      "image/png": "[encoded data removed]",
      "text/plain": [
       "<Figure size 432x288 with 1 Axes>"
      ]
     },
     "metadata": {},
     "output_type": "display_data"
    }
   ],
   "source": [
    "sns.histplot(books[(books['Year-Of-Publication'] != 0) & (books['Year-Of-Publication'] < 2024)], x = 'Year-Of-Publication')\n",
    "plt.title('Distribution of Books Year of Publication')\n",
    "plt.xlabel('Year of Population')\n",
    "plt.ylabel('Frequency')"
   ]
  },
  {
   "cell_type": "code",
   "execution_count": 11,
   "id": "191287d3-43b9-4c43-859e-6daae4ee4f5f",
   "metadata": {},
   "outputs": [
    {
     "data": {
      "text/plain": [
       "Year-Of-Publication\n",
       "0        314\n",
       "1920       2\n",
       "1927       1\n",
       "1929       1\n",
       "1930       1\n",
       "        ... \n",
       "2002    1750\n",
       "2003    1530\n",
       "2004     475\n",
       "2005       3\n",
       "2030       3\n",
       "Name: ISBN, Length: 70, dtype: int64"
      ]
     },
     "execution_count": 11,
     "metadata": {},
     "output_type": "execute_result"
    }
   ],
   "source": [
    "books.groupby(\"Year-Of-Publication\")[\"ISBN\"].count()"
   ]
  },
  {
   "cell_type": "code",
   "execution_count": 12,
   "id": "454ef737-bc5f-459d-a6dd-d5d74b3fe550",
   "metadata": {
    "scrolled": true
   },
   "outputs": [
    {
     "data": {
      "text/html": [
       "<div>\n",
       "<style scoped>\n",
       "    .dataframe tbody tr th:only-of-type {\n",
       "        vertical-align: middle;\n",
       "    }\n",
       "\n",
       "    .dataframe tbody tr th {\n",
       "        vertical-align: top;\n",
       "    }\n",
       "\n",
       "    .dataframe thead th {\n",
       "        text-align: right;\n",
       "    }\n",
       "</style>\n",
       "<table border=\"1\" class=\"dataframe\">\n",
       "  <thead>\n",
       "    <tr style=\"text-align: right;\">\n",
       "      <th></th>\n",
       "      <th>ISBN</th>\n",
       "      <th>Book-Title</th>\n",
       "      <th>Book-Author</th>\n",
       "      <th>Year-Of-Publication</th>\n",
       "      <th>Book-Publisher</th>\n",
       "    </tr>\n",
       "  </thead>\n",
       "  <tbody>\n",
       "    <tr>\n",
       "      <th>164</th>\n",
       "      <td>0571197639</td>\n",
       "      <td>Poisonwood Bible Edition Uk</td>\n",
       "      <td>Barbara Kingsolver</td>\n",
       "      <td>0</td>\n",
       "      <td>Faber Faber Inc</td>\n",
       "    </tr>\n",
       "    <tr>\n",
       "      <th>195</th>\n",
       "      <td>3596214629</td>\n",
       "      <td>Herr Der Fliegen (Fiction, Poetry and Drama)</td>\n",
       "      <td>Golding</td>\n",
       "      <td>0</td>\n",
       "      <td>Fischer Taschenbuch Verlag GmbH</td>\n",
       "    </tr>\n",
       "    <tr>\n",
       "      <th>285</th>\n",
       "      <td>8845229041</td>\n",
       "      <td>Biblioteca Universale Rizzoli: Sulla Sponda De...</td>\n",
       "      <td>P Coelho</td>\n",
       "      <td>0</td>\n",
       "      <td>Fabbri - RCS Libri</td>\n",
       "    </tr>\n",
       "    <tr>\n",
       "      <th>343</th>\n",
       "      <td>0590021117</td>\n",
       "      <td>Little House On the Prairie</td>\n",
       "      <td>Laura Ingall Wilder</td>\n",
       "      <td>0</td>\n",
       "      <td>Scholastic Inc</td>\n",
       "    </tr>\n",
       "    <tr>\n",
       "      <th>395</th>\n",
       "      <td>2070362388</td>\n",
       "      <td>Ravage</td>\n",
       "      <td>Rene Barjavel</td>\n",
       "      <td>0</td>\n",
       "      <td>Gallimard French</td>\n",
       "    </tr>\n",
       "    <tr>\n",
       "      <th>441</th>\n",
       "      <td>0718144538</td>\n",
       "      <td>Shattered Uk</td>\n",
       "      <td>Dick Francis</td>\n",
       "      <td>0</td>\n",
       "      <td>Michael Joseph Ltd</td>\n",
       "    </tr>\n",
       "    <tr>\n",
       "      <th>444</th>\n",
       "      <td>0349101779</td>\n",
       "      <td>The Wasp Factory</td>\n",
       "      <td>Iain Banks</td>\n",
       "      <td>0</td>\n",
       "      <td>Abacus</td>\n",
       "    </tr>\n",
       "    <tr>\n",
       "      <th>488</th>\n",
       "      <td>0753804700</td>\n",
       "      <td>Reader</td>\n",
       "      <td>Bernhard Schlink</td>\n",
       "      <td>0</td>\n",
       "      <td>Phoenix Books</td>\n",
       "    </tr>\n",
       "    <tr>\n",
       "      <th>650</th>\n",
       "      <td>0140620338</td>\n",
       "      <td>Picture of Dorian Gray</td>\n",
       "      <td>Oscar Wilde</td>\n",
       "      <td>0</td>\n",
       "      <td>Penguin Putnam~mass</td>\n",
       "    </tr>\n",
       "    <tr>\n",
       "      <th>661</th>\n",
       "      <td>000649840X</td>\n",
       "      <td>Angelas Ashes</td>\n",
       "      <td>Frank Mccourt</td>\n",
       "      <td>0</td>\n",
       "      <td>Harpercollins Uk</td>\n",
       "    </tr>\n",
       "    <tr>\n",
       "      <th>663</th>\n",
       "      <td>0099771519</td>\n",
       "      <td>Memoirs of a Geisha Uk</td>\n",
       "      <td>Arthur Golden</td>\n",
       "      <td>0</td>\n",
       "      <td>Trafalgar Square</td>\n",
       "    </tr>\n",
       "    <tr>\n",
       "      <th>728</th>\n",
       "      <td>0552996009</td>\n",
       "      <td>Notes From a Small Planet</td>\n",
       "      <td>Bill Bryson</td>\n",
       "      <td>0</td>\n",
       "      <td>Bantam Doubleday Dell</td>\n",
       "    </tr>\n",
       "    <tr>\n",
       "      <th>922</th>\n",
       "      <td>3518368540</td>\n",
       "      <td>Homo Faber</td>\n",
       "      <td>Max Frisch</td>\n",
       "      <td>0</td>\n",
       "      <td>Distribooks Int'l+inc</td>\n",
       "    </tr>\n",
       "    <tr>\n",
       "      <th>996</th>\n",
       "      <td>2253004243</td>\n",
       "      <td>Une Vie</td>\n",
       "      <td>Guy De Maupassant</td>\n",
       "      <td>0</td>\n",
       "      <td>Livre De Poche French</td>\n",
       "    </tr>\n",
       "    <tr>\n",
       "      <th>1004</th>\n",
       "      <td>0006550789</td>\n",
       "      <td>253</td>\n",
       "      <td>Geoff Ryman</td>\n",
       "      <td>0</td>\n",
       "      <td>Flamingo</td>\n",
       "    </tr>\n",
       "    <tr>\n",
       "      <th>1008</th>\n",
       "      <td>0670848549</td>\n",
       "      <td>Secret History</td>\n",
       "      <td>Donna Tartt</td>\n",
       "      <td>0</td>\n",
       "      <td>Penguin Putnam~childrens Hc</td>\n",
       "    </tr>\n",
       "    <tr>\n",
       "      <th>1054</th>\n",
       "      <td>0330294377</td>\n",
       "      <td>Falling Towards England</td>\n",
       "      <td>Clive James</td>\n",
       "      <td>0</td>\n",
       "      <td>Pan Books Ltd</td>\n",
       "    </tr>\n",
       "    <tr>\n",
       "      <th>1147</th>\n",
       "      <td>0553135457</td>\n",
       "      <td>Sophies Choice</td>\n",
       "      <td>William Styron</td>\n",
       "      <td>0</td>\n",
       "      <td>Bantam Doubleday Dell</td>\n",
       "    </tr>\n",
       "    <tr>\n",
       "      <th>1150</th>\n",
       "      <td>0330312367</td>\n",
       "      <td>Year In Provence</td>\n",
       "      <td>Peter Mayle</td>\n",
       "      <td>0</td>\n",
       "      <td>Pan Books Ltd</td>\n",
       "    </tr>\n",
       "    <tr>\n",
       "      <th>1152</th>\n",
       "      <td>2253047422</td>\n",
       "      <td>Le Pigeon</td>\n",
       "      <td>Patrick Suskind</td>\n",
       "      <td>0</td>\n",
       "      <td>Livre De Poche French</td>\n",
       "    </tr>\n",
       "  </tbody>\n",
       "</table>\n",
       "</div>"
      ],
      "text/plain": [
       "            ISBN  ...                   Book-Publisher\n",
       "164   0571197639  ...                  Faber Faber Inc\n",
       "195   3596214629  ...  Fischer Taschenbuch Verlag GmbH\n",
       "285   8845229041  ...               Fabbri - RCS Libri\n",
       "343   0590021117  ...                   Scholastic Inc\n",
       "395   2070362388  ...                 Gallimard French\n",
       "441   0718144538  ...               Michael Joseph Ltd\n",
       "444   0349101779  ...                           Abacus\n",
       "488   0753804700  ...                    Phoenix Books\n",
       "650   0140620338  ...              Penguin Putnam~mass\n",
       "661   000649840X  ...                 Harpercollins Uk\n",
       "663   0099771519  ...                 Trafalgar Square\n",
       "728   0552996009  ...            Bantam Doubleday Dell\n",
       "922   3518368540  ...            Distribooks Int'l+inc\n",
       "996   2253004243  ...            Livre De Poche French\n",
       "1004  0006550789  ...                         Flamingo\n",
       "1008  0670848549  ...      Penguin Putnam~childrens Hc\n",
       "1054  0330294377  ...                    Pan Books Ltd\n",
       "1147  0553135457  ...            Bantam Doubleday Dell\n",
       "1150  0330312367  ...                    Pan Books Ltd\n",
       "1152  2253047422  ...            Livre De Poche French\n",
       "\n",
       "[20 rows x 5 columns]"
      ]
     },
     "execution_count": 12,
     "metadata": {},
     "output_type": "execute_result"
    }
   ],
   "source": [
    "books[books[\"Year-Of-Publication\"] == 0].head(20)"
   ]
  },
  {
   "cell_type": "code",
   "execution_count": 13,
   "id": "d8e2c972-7ed9-4938-ad0d-58e912e3c283",
   "metadata": {},
   "outputs": [
    {
     "data": {
      "text/html": [
       "<div>\n",
       "<style scoped>\n",
       "    .dataframe tbody tr th:only-of-type {\n",
       "        vertical-align: middle;\n",
       "    }\n",
       "\n",
       "    .dataframe tbody tr th {\n",
       "        vertical-align: top;\n",
       "    }\n",
       "\n",
       "    .dataframe thead th {\n",
       "        text-align: right;\n",
       "    }\n",
       "</style>\n",
       "<table border=\"1\" class=\"dataframe\">\n",
       "  <thead>\n",
       "    <tr style=\"text-align: right;\">\n",
       "      <th></th>\n",
       "      <th>ISBN</th>\n",
       "      <th>Book-Title</th>\n",
       "      <th>Book-Author</th>\n",
       "      <th>Year-Of-Publication</th>\n",
       "      <th>Book-Publisher</th>\n",
       "    </tr>\n",
       "  </thead>\n",
       "  <tbody>\n",
       "    <tr>\n",
       "      <th>14</th>\n",
       "      <td>0060168013</td>\n",
       "      <td>Pigs in Heaven</td>\n",
       "      <td>Barbara Kingsolver</td>\n",
       "      <td>1993</td>\n",
       "      <td>Harpercollins</td>\n",
       "    </tr>\n",
       "    <tr>\n",
       "      <th>164</th>\n",
       "      <td>0571197639</td>\n",
       "      <td>Poisonwood Bible Edition Uk</td>\n",
       "      <td>Barbara Kingsolver</td>\n",
       "      <td>0</td>\n",
       "      <td>Faber Faber Inc</td>\n",
       "    </tr>\n",
       "    <tr>\n",
       "      <th>271</th>\n",
       "      <td>0060915544</td>\n",
       "      <td>The Bean Trees</td>\n",
       "      <td>Barbara Kingsolver</td>\n",
       "      <td>1989</td>\n",
       "      <td>Perennial</td>\n",
       "    </tr>\n",
       "    <tr>\n",
       "      <th>272</th>\n",
       "      <td>0060917016</td>\n",
       "      <td>Homeland and Other Stories</td>\n",
       "      <td>Barbara Kingsolver</td>\n",
       "      <td>1990</td>\n",
       "      <td>Perennial</td>\n",
       "    </tr>\n",
       "    <tr>\n",
       "      <th>722</th>\n",
       "      <td>0060930535</td>\n",
       "      <td>The Poisonwood Bible: A Novel</td>\n",
       "      <td>Barbara Kingsolver</td>\n",
       "      <td>1999</td>\n",
       "      <td>Perennial</td>\n",
       "    </tr>\n",
       "    <tr>\n",
       "      <th>975</th>\n",
       "      <td>0060175400</td>\n",
       "      <td>The Poisonwood Bible</td>\n",
       "      <td>Barbara Kingsolver</td>\n",
       "      <td>1999</td>\n",
       "      <td>HarperCollins</td>\n",
       "    </tr>\n",
       "    <tr>\n",
       "      <th>1200</th>\n",
       "      <td>0060922532</td>\n",
       "      <td>Pigs in Heaven</td>\n",
       "      <td>Barbara Kingsolver</td>\n",
       "      <td>1994</td>\n",
       "      <td>Perennial</td>\n",
       "    </tr>\n",
       "    <tr>\n",
       "      <th>1743</th>\n",
       "      <td>0061097314</td>\n",
       "      <td>The Bean Trees</td>\n",
       "      <td>Barbara Kingsolver</td>\n",
       "      <td>1998</td>\n",
       "      <td>HarperTorch</td>\n",
       "    </tr>\n",
       "    <tr>\n",
       "      <th>1749</th>\n",
       "      <td>0060504080</td>\n",
       "      <td>Small Wonder : Essays</td>\n",
       "      <td>Barbara Kingsolver</td>\n",
       "      <td>2003</td>\n",
       "      <td>Perennial</td>\n",
       "    </tr>\n",
       "    <tr>\n",
       "      <th>2101</th>\n",
       "      <td>0060199652</td>\n",
       "      <td>Prodigal Summer</td>\n",
       "      <td>Barbara Kingsolver</td>\n",
       "      <td>2000</td>\n",
       "      <td>HarperCollins</td>\n",
       "    </tr>\n",
       "    <tr>\n",
       "      <th>2217</th>\n",
       "      <td>0060504072</td>\n",
       "      <td>Small Wonder: Essays</td>\n",
       "      <td>Barbara Kingsolver</td>\n",
       "      <td>2002</td>\n",
       "      <td>HarperCollins</td>\n",
       "    </tr>\n",
       "    <tr>\n",
       "      <th>2478</th>\n",
       "      <td>0060959037</td>\n",
       "      <td>Prodigal Summer: A Novel</td>\n",
       "      <td>Barbara Kingsolver</td>\n",
       "      <td>2001</td>\n",
       "      <td>Perennial</td>\n",
       "    </tr>\n",
       "    <tr>\n",
       "      <th>3144</th>\n",
       "      <td>0060921145</td>\n",
       "      <td>Animal Dreams</td>\n",
       "      <td>Barbara Kingsolver</td>\n",
       "      <td>1991</td>\n",
       "      <td>Perennial</td>\n",
       "    </tr>\n",
       "    <tr>\n",
       "      <th>4706</th>\n",
       "      <td>0060512822</td>\n",
       "      <td>The Poisonwood Bible</td>\n",
       "      <td>Barbara Kingsolver</td>\n",
       "      <td>2003</td>\n",
       "      <td>HarperTorch</td>\n",
       "    </tr>\n",
       "    <tr>\n",
       "      <th>5888</th>\n",
       "      <td>0571206484</td>\n",
       "      <td>Prodigal Summer</td>\n",
       "      <td>Barbara Kingsolver</td>\n",
       "      <td>2002</td>\n",
       "      <td>Faber &amp; Faber Ltd</td>\n",
       "    </tr>\n",
       "    <tr>\n",
       "      <th>7134</th>\n",
       "      <td>006109868X</td>\n",
       "      <td>Pigs in Heaven</td>\n",
       "      <td>Barbara Kingsolver</td>\n",
       "      <td>1999</td>\n",
       "      <td>Perennial</td>\n",
       "    </tr>\n",
       "    <tr>\n",
       "      <th>8056</th>\n",
       "      <td>0060927569</td>\n",
       "      <td>High Tide in Tucson : Essays from Now or Never</td>\n",
       "      <td>Barbara Kingsolver</td>\n",
       "      <td>1996</td>\n",
       "      <td>Perennial</td>\n",
       "    </tr>\n",
       "    <tr>\n",
       "      <th>11487</th>\n",
       "      <td>0060172916</td>\n",
       "      <td>High Tide in Tucson: Essays from Now or Never</td>\n",
       "      <td>Barbara Kingsolver</td>\n",
       "      <td>1995</td>\n",
       "      <td>HarperCollins Publishers</td>\n",
       "    </tr>\n",
       "  </tbody>\n",
       "</table>\n",
       "</div>"
      ],
      "text/plain": [
       "             ISBN  ...            Book-Publisher\n",
       "14     0060168013  ...             Harpercollins\n",
       "164    0571197639  ...           Faber Faber Inc\n",
       "271    0060915544  ...                 Perennial\n",
       "272    0060917016  ...                 Perennial\n",
       "722    0060930535  ...                 Perennial\n",
       "975    0060175400  ...             HarperCollins\n",
       "1200   0060922532  ...                 Perennial\n",
       "1743   0061097314  ...               HarperTorch\n",
       "1749   0060504080  ...                 Perennial\n",
       "2101   0060199652  ...             HarperCollins\n",
       "2217   0060504072  ...             HarperCollins\n",
       "2478   0060959037  ...                 Perennial\n",
       "3144   0060921145  ...                 Perennial\n",
       "4706   0060512822  ...               HarperTorch\n",
       "5888   0571206484  ...         Faber & Faber Ltd\n",
       "7134   006109868X  ...                 Perennial\n",
       "8056   0060927569  ...                 Perennial\n",
       "11487  0060172916  ...  HarperCollins Publishers\n",
       "\n",
       "[18 rows x 5 columns]"
      ]
     },
     "execution_count": 13,
     "metadata": {},
     "output_type": "execute_result"
    }
   ],
   "source": [
    "# babara kingsolver has invalid year, see if there are any other book titles similar. (272)\n",
    "books[books[\"Book-Author\"] == \"Barbara Kingsolver\"]"
   ]
  },
  {
   "cell_type": "code",
   "execution_count": 14,
   "id": "931ff8b0-d179-443c-be16-95ff2b875c4f",
   "metadata": {},
   "outputs": [
    {
     "data": {
      "text/plain": [
       "ISBN                                    0571197639\n",
       "Book-Title             Poisonwood Bible Edition Uk\n",
       "Book-Author                     Barbara Kingsolver\n",
       "Year-Of-Publication                              0\n",
       "Book-Publisher                     Faber Faber Inc\n",
       "Name: 164, dtype: object"
      ]
     },
     "execution_count": 14,
     "metadata": {},
     "output_type": "execute_result"
    }
   ],
   "source": [
    "# invalid year\n",
    "books.iloc[164]"
   ]
  },
  {
   "cell_type": "code",
   "execution_count": 15,
   "id": "58d45c23-8584-4e7c-a1df-a2794d8f3f4f",
   "metadata": {},
   "outputs": [
    {
     "data": {
      "text/html": [
       "<div>\n",
       "<style scoped>\n",
       "    .dataframe tbody tr th:only-of-type {\n",
       "        vertical-align: middle;\n",
       "    }\n",
       "\n",
       "    .dataframe tbody tr th {\n",
       "        vertical-align: top;\n",
       "    }\n",
       "\n",
       "    .dataframe thead th {\n",
       "        text-align: right;\n",
       "    }\n",
       "</style>\n",
       "<table border=\"1\" class=\"dataframe\">\n",
       "  <thead>\n",
       "    <tr style=\"text-align: right;\">\n",
       "      <th></th>\n",
       "      <th>ISBN</th>\n",
       "      <th>Book-Title</th>\n",
       "      <th>Book-Author</th>\n",
       "      <th>Year-Of-Publication</th>\n",
       "      <th>Book-Publisher</th>\n",
       "    </tr>\n",
       "  </thead>\n",
       "  <tbody>\n",
       "    <tr>\n",
       "      <th>11362</th>\n",
       "      <td>0671746103</td>\n",
       "      <td>MY TEACHER FRIED MY BRAINS (RACK SIZE) (MY TEA...</td>\n",
       "      <td>Coville</td>\n",
       "      <td>2030</td>\n",
       "      <td>Aladdin</td>\n",
       "    </tr>\n",
       "    <tr>\n",
       "      <th>13687</th>\n",
       "      <td>0671791990</td>\n",
       "      <td>MY TEACHER FLUNKED THE PLANET (RACK SIZE) (MY ...</td>\n",
       "      <td>Bruce Coville</td>\n",
       "      <td>2030</td>\n",
       "      <td>Aladdin</td>\n",
       "    </tr>\n",
       "    <tr>\n",
       "      <th>15739</th>\n",
       "      <td>0870449842</td>\n",
       "      <td>Crossing America</td>\n",
       "      <td>National Geographic Society</td>\n",
       "      <td>2030</td>\n",
       "      <td>National Geographic</td>\n",
       "    </tr>\n",
       "  </tbody>\n",
       "</table>\n",
       "</div>"
      ],
      "text/plain": [
       "             ISBN  ...       Book-Publisher\n",
       "11362  0671746103  ...              Aladdin\n",
       "13687  0671791990  ...              Aladdin\n",
       "15739  0870449842  ...  National Geographic\n",
       "\n",
       "[3 rows x 5 columns]"
      ]
     },
     "execution_count": 15,
     "metadata": {},
     "output_type": "execute_result"
    }
   ],
   "source": [
    "# invalid years\n",
    "books[books[\"Year-Of-Publication\"] >= 2025]"
   ]
  },
  {
   "cell_type": "markdown",
   "id": "94a73638-cfe4-48d9-b742-2bcc1166dadd",
   "metadata": {},
   "source": [
    "### ISBN \n",
    "Also noticed ISBN is a 10 digit number but some have and X at the end.\n",
    "- ISBN is a 10 digit number before 2007. This dataset is fine for just 10.\n",
    "- the only letter wich can be in an ISBN is an X to represent ten.\n",
    "\n",
    "No duplicates on ISBN"
   ]
  },
  {
   "cell_type": "code",
   "execution_count": 16,
   "id": "6d0ca0ee-a3b1-4820-864f-38a059cb9628",
   "metadata": {
    "scrolled": true
   },
   "outputs": [
    {
     "data": {
      "text/html": [
       "<div>\n",
       "<style scoped>\n",
       "    .dataframe tbody tr th:only-of-type {\n",
       "        vertical-align: middle;\n",
       "    }\n",
       "\n",
       "    .dataframe tbody tr th {\n",
       "        vertical-align: top;\n",
       "    }\n",
       "\n",
       "    .dataframe thead th {\n",
       "        text-align: right;\n",
       "    }\n",
       "</style>\n",
       "<table border=\"1\" class=\"dataframe\">\n",
       "  <thead>\n",
       "    <tr style=\"text-align: right;\">\n",
       "      <th></th>\n",
       "      <th>ISBN</th>\n",
       "      <th>Book-Title</th>\n",
       "      <th>Book-Author</th>\n",
       "      <th>Year-Of-Publication</th>\n",
       "      <th>Book-Publisher</th>\n",
       "    </tr>\n",
       "  </thead>\n",
       "  <tbody>\n",
       "  </tbody>\n",
       "</table>\n",
       "</div>"
      ],
      "text/plain": [
       "Empty DataFrame\n",
       "Columns: [ISBN, Book-Title, Book-Author, Year-Of-Publication, Book-Publisher]\n",
       "Index: []"
      ]
     },
     "execution_count": 16,
     "metadata": {},
     "output_type": "execute_result"
    }
   ],
   "source": [
    "books[~books[\"ISBN\"].str.match(r\"^(?=(?:\\D*\\d){9,10})|\\d{9}X\")]"
   ]
  },
  {
   "cell_type": "code",
   "execution_count": 17,
   "id": "d1122130-a36d-4e0e-b1b7-319ecb6a98f8",
   "metadata": {},
   "outputs": [
    {
     "data": {
      "text/html": [
       "<div>\n",
       "<style scoped>\n",
       "    .dataframe tbody tr th:only-of-type {\n",
       "        vertical-align: middle;\n",
       "    }\n",
       "\n",
       "    .dataframe tbody tr th {\n",
       "        vertical-align: top;\n",
       "    }\n",
       "\n",
       "    .dataframe thead th {\n",
       "        text-align: right;\n",
       "    }\n",
       "</style>\n",
       "<table border=\"1\" class=\"dataframe\">\n",
       "  <thead>\n",
       "    <tr style=\"text-align: right;\">\n",
       "      <th></th>\n",
       "      <th>ISBN</th>\n",
       "      <th>Book-Title</th>\n",
       "      <th>Book-Author</th>\n",
       "      <th>Year-Of-Publication</th>\n",
       "      <th>Book-Publisher</th>\n",
       "    </tr>\n",
       "  </thead>\n",
       "  <tbody>\n",
       "  </tbody>\n",
       "</table>\n",
       "</div>"
      ],
      "text/plain": [
       "Empty DataFrame\n",
       "Columns: [ISBN, Book-Title, Book-Author, Year-Of-Publication, Book-Publisher]\n",
       "Index: []"
      ]
     },
     "execution_count": 17,
     "metadata": {},
     "output_type": "execute_result"
    }
   ],
   "source": [
    "books[books[\"ISBN\"].duplicated()]"
   ]
  },
  {
   "cell_type": "markdown",
   "id": "2fac3ee9-58fe-4586-8103-5df0a503d876",
   "metadata": {},
   "source": [
    "### Book-Author\n",
    "Potential for Authors to be under different naming convention.\n",
    "- For example Jack Du Brul vs Jack B. Du Brul\n",
    "    - Do some text analysis in cleaning to give authors same name\n",
    "- Also text is mix of upper/lowercase - case folding to lowercase.\n",
    "- Look to see if there are any unknown names\n",
    "    - unknown\n",
    "    - Jack\n"
   ]
  },
  {
   "cell_type": "code",
   "execution_count": 18,
   "id": "08c9dcdf-2cdc-4b64-943e-d84a5f2365c7",
   "metadata": {
    "scrolled": true
   },
   "outputs": [
    {
     "data": {
      "text/html": [
       "<div>\n",
       "<style scoped>\n",
       "    .dataframe tbody tr th:only-of-type {\n",
       "        vertical-align: middle;\n",
       "    }\n",
       "\n",
       "    .dataframe tbody tr th {\n",
       "        vertical-align: top;\n",
       "    }\n",
       "\n",
       "    .dataframe thead th {\n",
       "        text-align: right;\n",
       "    }\n",
       "</style>\n",
       "<table border=\"1\" class=\"dataframe\">\n",
       "  <thead>\n",
       "    <tr style=\"text-align: right;\">\n",
       "      <th></th>\n",
       "      <th>Book-Author</th>\n",
       "      <th>Count</th>\n",
       "    </tr>\n",
       "  </thead>\n",
       "  <tbody>\n",
       "    <tr>\n",
       "      <th>0</th>\n",
       "      <td>Stephen King</td>\n",
       "      <td>193</td>\n",
       "    </tr>\n",
       "    <tr>\n",
       "      <th>1</th>\n",
       "      <td>Nora Roberts</td>\n",
       "      <td>123</td>\n",
       "    </tr>\n",
       "    <tr>\n",
       "      <th>2</th>\n",
       "      <td>Anne McCaffrey</td>\n",
       "      <td>81</td>\n",
       "    </tr>\n",
       "    <tr>\n",
       "      <th>3</th>\n",
       "      <td>Danielle Steel</td>\n",
       "      <td>74</td>\n",
       "    </tr>\n",
       "    <tr>\n",
       "      <th>4</th>\n",
       "      <td>Piers Anthony</td>\n",
       "      <td>70</td>\n",
       "    </tr>\n",
       "    <tr>\n",
       "      <th>...</th>\n",
       "      <td>...</td>\n",
       "      <td>...</td>\n",
       "    </tr>\n",
       "    <tr>\n",
       "      <th>6447</th>\n",
       "      <td>Jack Kersh</td>\n",
       "      <td>1</td>\n",
       "    </tr>\n",
       "    <tr>\n",
       "      <th>6448</th>\n",
       "      <td>Jack Handey</td>\n",
       "      <td>1</td>\n",
       "    </tr>\n",
       "    <tr>\n",
       "      <th>6449</th>\n",
       "      <td>Jack Du Brul</td>\n",
       "      <td>1</td>\n",
       "    </tr>\n",
       "    <tr>\n",
       "      <th>6450</th>\n",
       "      <td>Jack B. Du Brul</td>\n",
       "      <td>1</td>\n",
       "    </tr>\n",
       "    <tr>\n",
       "      <th>6451</th>\n",
       "      <td>unknown</td>\n",
       "      <td>1</td>\n",
       "    </tr>\n",
       "  </tbody>\n",
       "</table>\n",
       "<p>6452 rows × 2 columns</p>\n",
       "</div>"
      ],
      "text/plain": [
       "          Book-Author  Count\n",
       "0        Stephen King    193\n",
       "1        Nora Roberts    123\n",
       "2      Anne McCaffrey     81\n",
       "3      Danielle Steel     74\n",
       "4       Piers Anthony     70\n",
       "...               ...    ...\n",
       "6447       Jack Kersh      1\n",
       "6448      Jack Handey      1\n",
       "6449     Jack Du Brul      1\n",
       "6450  Jack B. Du Brul      1\n",
       "6451          unknown      1\n",
       "\n",
       "[6452 rows x 2 columns]"
      ]
     },
     "execution_count": 18,
     "metadata": {},
     "output_type": "execute_result"
    }
   ],
   "source": [
    "# output of books in dataset by author\n",
    "author_dist = books.groupby(\"Book-Author\")[\"ISBN\"].count().sort_values(ascending=False).reset_index().rename(columns= {'ISBN':'Count'})\n",
    "\n",
    "author_dist"
   ]
  },
  {
   "cell_type": "code",
   "execution_count": 19,
   "id": "af9311eb-0ac2-45f3-90c8-949a0a970d53",
   "metadata": {},
   "outputs": [
    {
     "data": {
      "text/plain": [
       "<Axes: xlabel='Count', ylabel='Book-Author'>"
      ]
     },
     "execution_count": 19,
     "metadata": {},
     "output_type": "execute_result"
    },
    {
     "data": {
      "image/png": "[encoded data removed]",
      "text/plain": [
       "<Figure size 432x288 with 1 Axes>"
      ]
     },
     "metadata": {},
     "output_type": "display_data"
    }
   ],
   "source": [
    "sns.barplot(author_dist.head(20), x = \"Count\", y = \"Book-Author\", orient = \"h\")"
   ]
  },
  {
   "cell_type": "code",
   "execution_count": 20,
   "id": "cde5d436-1aa2-4bb7-9362-247e5ad15a25",
   "metadata": {},
   "outputs": [
    {
     "data": {
      "text/plain": [
       "<Axes: xlabel='Count', ylabel='Book-Author'>"
      ]
     },
     "execution_count": 20,
     "metadata": {},
     "output_type": "execute_result"
    },
    {
     "data": {
      "image/png": "[encoded data removed]",
      "text/plain": [
       "<Figure size 432x288 with 1 Axes>"
      ]
     },
     "metadata": {},
     "output_type": "display_data"
    }
   ],
   "source": [
    "sns.barplot(author_dist.tail(20), x = \"Count\", y = \"Book-Author\", orient = \"h\")"
   ]
  },
  {
   "cell_type": "markdown",
   "id": "2b4b6843-dc7f-4e48-80f4-28a4734e433b",
   "metadata": {},
   "source": [
    "##### Author text cleaning:\n",
    "- case folding - lower.\n",
    "- names like o'dell needed special consideration to odell not o dell as there are authors that have inital of middle name.\n",
    "- consider co-authors with &.\n",
    "- remove extra spaces."
   ]
  },
  {
   "cell_type": "code",
   "execution_count": 21,
   "id": "a09f50b6-9cae-4ff0-85ce-5cf5d35d321c",
   "metadata": {},
   "outputs": [],
   "source": [
    "# Define regex pattern to remove non-alphanumeric characters except '&'\n",
    "pattern = r'[^a-zA-Z0-9& ]'\n",
    "\n",
    "# Function to clean text based on regex pattern\n",
    "def clean_text(text):\n",
    "    cleaned_text = re.sub(pattern, ' ', text)\n",
    "    return cleaned_text"
   ]
  },
  {
   "cell_type": "code",
   "execution_count": 22,
   "id": "4f4af94d-9571-4592-8fd0-202ce98c68ce",
   "metadata": {},
   "outputs": [],
   "source": [
    "def fuzzy_match_comparison(col):\n",
    "    \n",
    "    unique = books[f\"Book-{col}\"].unique()\n",
    "    print(len(unique))\n",
    "    \n",
    "    score_sort = [(x,) + i\n",
    "             for x in unique\n",
    "             for i in process.extract(x, unique, scorer=fuzz.ratio)] \n",
    "    \n",
    "    similarity_sort = pd.DataFrame(score_sort, columns=[f'{col}_sort','match_sort','score_sort'])\n",
    "    similarity_sort[f'sorted_{col}_sort'] = np.minimum(similarity_sort[f'{col}_sort'], similarity_sort['match_sort'])\n",
    "\n",
    "    high_score_sort = \\\n",
    "    similarity_sort[(similarity_sort['score_sort'] >= 80) & \\\n",
    "                    (similarity_sort[f'{col}_sort'] !=  similarity_sort['match_sort']) & \\\n",
    "                    (similarity_sort[f'sorted_{col}_sort'] != similarity_sort['match_sort'])] \n",
    "    high_score_sort = high_score_sort.drop(f'sorted_{col}_sort',axis=1).copy()\n",
    "\n",
    "    high_score_sort = high_score_sort.groupby([f'{col}_sort','score_sort']).agg(\n",
    "                        {'match_sort': ', '.join}).sort_values(\n",
    "                        ['score_sort'], ascending=False).reset_index()\n",
    "\n",
    "    return high_score_sort"
   ]
  },
  {
   "cell_type": "code",
   "execution_count": 23,
   "id": "03cfa6ff-bedb-4c33-8353-588fd2757f2d",
   "metadata": {},
   "outputs": [
    {
     "data": {
      "text/plain": [
       "(6452,)"
      ]
     },
     "execution_count": 23,
     "metadata": {},
     "output_type": "execute_result"
    }
   ],
   "source": [
    "books[\"Book-Author\"].unique().shape"
   ]
  },
  {
   "cell_type": "code",
   "execution_count": 24,
   "id": "3cbee3e3-ac34-48ca-bacc-0729efe549fe",
   "metadata": {},
   "outputs": [],
   "source": [
    "books[\"Book-Author-Processed\"] = books[\"Book-Author\"].str.lower()"
   ]
  },
  {
   "cell_type": "code",
   "execution_count": 25,
   "id": "74f09803-a706-4810-9a4d-5fad5aa21b02",
   "metadata": {
    "scrolled": true
   },
   "outputs": [],
   "source": [
    "books[\"Book-Author-Processed\"] = books[\"Book-Author-Processed\"].str.replace(\"'\", \"\")\n",
    "# Remove all non-alphabetic characters by replacing them with a space.\n",
    "books[\"Book-Author-Processed\"] = books[\"Book-Author-Processed\"].apply(clean_text).str.replace('  ', ' ').str.strip()"
   ]
  },
  {
   "cell_type": "code",
   "execution_count": 26,
   "id": "a1cbc6c2-de02-4e5f-815f-e54c3741f6e5",
   "metadata": {},
   "outputs": [
    {
     "name": "stdout",
     "output_type": "stream",
     "text": [
      "5960\n",
      "CPU times: user 55.7 s, sys: 4.34 s, total: 1min\n",
      "Wall time: 1min 10s\n"
     ]
    },
    {
     "data": {
      "text/plain": [
       "(965, 3)"
      ]
     },
     "execution_count": 26,
     "metadata": {},
     "output_type": "execute_result"
    }
   ],
   "source": [
    "%%time\n",
    "author_fuzzy_match = fuzzy_match_comparison(\"Author-Processed\")\n",
    "author_fuzzy_match.shape"
   ]
  },
  {
   "cell_type": "code",
   "execution_count": 27,
   "id": "2dd3db5e-b6d4-4e64-a58a-f3a9e5c8102e",
   "metadata": {},
   "outputs": [
    {
     "data": {
      "text/html": [
       "<div>\n",
       "<style scoped>\n",
       "    .dataframe tbody tr th:only-of-type {\n",
       "        vertical-align: middle;\n",
       "    }\n",
       "\n",
       "    .dataframe tbody tr th {\n",
       "        vertical-align: top;\n",
       "    }\n",
       "\n",
       "    .dataframe thead th {\n",
       "        text-align: right;\n",
       "    }\n",
       "</style>\n",
       "<table border=\"1\" class=\"dataframe\">\n",
       "  <thead>\n",
       "    <tr style=\"text-align: right;\">\n",
       "      <th></th>\n",
       "      <th>Author-Processed_sort</th>\n",
       "      <th>score_sort</th>\n",
       "      <th>match_sort</th>\n",
       "    </tr>\n",
       "  </thead>\n",
       "  <tbody>\n",
       "    <tr>\n",
       "      <th>0</th>\n",
       "      <td>jean christophe grang</td>\n",
       "      <td>98</td>\n",
       "      <td>jean christophe grange</td>\n",
       "    </tr>\n",
       "    <tr>\n",
       "      <th>1</th>\n",
       "      <td>bathroom reader institute</td>\n",
       "      <td>98</td>\n",
       "      <td>bathroom readers institute</td>\n",
       "    </tr>\n",
       "    <tr>\n",
       "      <th>2</th>\n",
       "      <td>gabriel garacia marquez</td>\n",
       "      <td>98</td>\n",
       "      <td>gabriel garcia marquez</td>\n",
       "    </tr>\n",
       "    <tr>\n",
       "      <th>3</th>\n",
       "      <td>friedrich duerenmatt</td>\n",
       "      <td>98</td>\n",
       "      <td>friedrich duerrenmatt</td>\n",
       "    </tr>\n",
       "    <tr>\n",
       "      <th>4</th>\n",
       "      <td>zalata filipovic</td>\n",
       "      <td>97</td>\n",
       "      <td>zlata filipovic</td>\n",
       "    </tr>\n",
       "  </tbody>\n",
       "</table>\n",
       "</div>"
      ],
      "text/plain": [
       "       Author-Processed_sort  score_sort                  match_sort\n",
       "0      jean christophe grang          98      jean christophe grange\n",
       "1  bathroom reader institute          98  bathroom readers institute\n",
       "2    gabriel garacia marquez          98      gabriel garcia marquez\n",
       "3       friedrich duerenmatt          98       friedrich duerrenmatt\n",
       "4           zalata filipovic          97             zlata filipovic"
      ]
     },
     "execution_count": 27,
     "metadata": {},
     "output_type": "execute_result"
    }
   ],
   "source": [
    "author_fuzzy_match.head()"
   ]
  },
  {
   "cell_type": "code",
   "execution_count": 28,
   "id": "a7caa066-c509-4cd5-92fa-2b5f843a4e4c",
   "metadata": {},
   "outputs": [
    {
     "data": {
      "text/html": [
       "<div>\n",
       "<style scoped>\n",
       "    .dataframe tbody tr th:only-of-type {\n",
       "        vertical-align: middle;\n",
       "    }\n",
       "\n",
       "    .dataframe tbody tr th {\n",
       "        vertical-align: top;\n",
       "    }\n",
       "\n",
       "    .dataframe thead th {\n",
       "        text-align: right;\n",
       "    }\n",
       "</style>\n",
       "<table border=\"1\" class=\"dataframe\">\n",
       "  <thead>\n",
       "    <tr style=\"text-align: right;\">\n",
       "      <th></th>\n",
       "      <th>Author-Processed_sort</th>\n",
       "      <th>score_sort</th>\n",
       "      <th>match_sort</th>\n",
       "    </tr>\n",
       "  </thead>\n",
       "  <tbody>\n",
       "    <tr>\n",
       "      <th>960</th>\n",
       "      <td>richard bach</td>\n",
       "      <td>80</td>\n",
       "      <td>richard zacks</td>\n",
       "    </tr>\n",
       "    <tr>\n",
       "      <th>961</th>\n",
       "      <td>barbara shapiro</td>\n",
       "      <td>80</td>\n",
       "      <td>barbara trapido</td>\n",
       "    </tr>\n",
       "    <tr>\n",
       "      <th>962</th>\n",
       "      <td>judy blume</td>\n",
       "      <td>80</td>\n",
       "      <td>judy blunt</td>\n",
       "    </tr>\n",
       "    <tr>\n",
       "      <th>963</th>\n",
       "      <td>richard branson</td>\n",
       "      <td>80</td>\n",
       "      <td>richard carlson, richard preston</td>\n",
       "    </tr>\n",
       "    <tr>\n",
       "      <th>964</th>\n",
       "      <td>john mcphee</td>\n",
       "      <td>80</td>\n",
       "      <td>john peel</td>\n",
       "    </tr>\n",
       "  </tbody>\n",
       "</table>\n",
       "</div>"
      ],
      "text/plain": [
       "    Author-Processed_sort  score_sort                        match_sort\n",
       "960          richard bach          80                     richard zacks\n",
       "961       barbara shapiro          80                   barbara trapido\n",
       "962            judy blume          80                        judy blunt\n",
       "963       richard branson          80  richard carlson, richard preston\n",
       "964           john mcphee          80                         john peel"
      ]
     },
     "execution_count": 28,
     "metadata": {},
     "output_type": "execute_result"
    }
   ],
   "source": [
    "author_fuzzy_match.tail()"
   ]
  },
  {
   "cell_type": "markdown",
   "id": "860e65e3-2305-408f-98e7-84c8ae315f15",
   "metadata": {},
   "source": [
    "### Fuzzy matching strings\n",
    "- Set up function for different columns\n",
    "- at beginning of processing case fold\n",
    "    - books[\"Book-Author\"] = books[\"Book-Author\"].str.lower()\n",
    "- get rid of .,!:- etc.\n",
    "- some books have similar title. For example:\n",
    "    - \"the beach\" vs. \"the breach\" - similarity = 0.95 but are different authors.\n",
    "    - \"the far side gallery 4\" vs. \"the far side gallery 5\" - similarity = 0.95 but different version in series.\n",
    " \n",
    "- Books will need to be processed. tf-idf? for similar titles?"
   ]
  },
  {
   "cell_type": "markdown",
   "id": "a7250af6-a2e3-4ea5-aa27-6d9a111ac74c",
   "metadata": {},
   "source": [
    "### Book-Title\n",
    "- Books can be published by other publisher\n",
    "- Potential for Book-Title to be similar\n",
    "- Duplicates on Book-Publisher and Book-Title\n",
    "    - No concern "
   ]
  },
  {
   "cell_type": "code",
   "execution_count": 33,
   "id": "f4e46692-3c05-4b29-aafa-4ebee624d02f",
   "metadata": {},
   "outputs": [
    {
     "data": {
      "text/plain": [
       "<Axes: xlabel='Count', ylabel='Book-Title'>"
      ]
     },
     "execution_count": 33,
     "metadata": {},
     "output_type": "execute_result"
    },
    {
     "data": {
      "image/png": "[encoded data removed]",
      "text/plain": [
       "<Figure size 432x288 with 1 Axes>"
      ]
     },
     "metadata": {},
     "output_type": "display_data"
    }
   ],
   "source": [
    "books_title = books.groupby([\"Book-Title\"])[\"ISBN\"].count() \\\n",
    "    .sort_values(ascending = False).reset_index().rename(columns= {'ISBN':'Count'})\n",
    "\n",
    "duplicate_books = books_title[books_title[\"Count\"] > 1]\n",
    "\n",
    "sns.barplot(duplicate_books.head(20), x = \"Count\", y = \"Book-Title\", orient = \"h\")"
   ]
  },
  {
   "cell_type": "code",
   "execution_count": 34,
   "id": "0f06a3c4-6692-413c-916b-b7a5dad926b1",
   "metadata": {},
   "outputs": [
    {
     "data": {
      "text/html": [
       "<div>\n",
       "<style scoped>\n",
       "    .dataframe tbody tr th:only-of-type {\n",
       "        vertical-align: middle;\n",
       "    }\n",
       "\n",
       "    .dataframe tbody tr th {\n",
       "        vertical-align: top;\n",
       "    }\n",
       "\n",
       "    .dataframe thead th {\n",
       "        text-align: right;\n",
       "    }\n",
       "</style>\n",
       "<table border=\"1\" class=\"dataframe\">\n",
       "  <thead>\n",
       "    <tr style=\"text-align: right;\">\n",
       "      <th></th>\n",
       "      <th>ISBN</th>\n",
       "      <th>Book-Title</th>\n",
       "      <th>Book-Author</th>\n",
       "      <th>Year-Of-Publication</th>\n",
       "      <th>Book-Publisher</th>\n",
       "      <th>Book-Author-Processed</th>\n",
       "    </tr>\n",
       "  </thead>\n",
       "  <tbody>\n",
       "    <tr>\n",
       "      <th>4643</th>\n",
       "      <td>0451168089</td>\n",
       "      <td>'Salem's Lot</td>\n",
       "      <td>Stephen King</td>\n",
       "      <td>1990</td>\n",
       "      <td>signet book</td>\n",
       "      <td>stephen king</td>\n",
       "    </tr>\n",
       "    <tr>\n",
       "      <th>16688</th>\n",
       "      <td>0385007515</td>\n",
       "      <td>'Salem's Lot</td>\n",
       "      <td>Stephen King</td>\n",
       "      <td>1993</td>\n",
       "      <td>doubleday books</td>\n",
       "      <td>stephen king</td>\n",
       "    </tr>\n",
       "    <tr>\n",
       "      <th>10276</th>\n",
       "      <td>0717284832</td>\n",
       "      <td>101 Dalmatians</td>\n",
       "      <td>Walt Disney</td>\n",
       "      <td>1995</td>\n",
       "      <td>stoddart+publishing</td>\n",
       "      <td>walt disney</td>\n",
       "    </tr>\n",
       "    <tr>\n",
       "      <th>337</th>\n",
       "      <td>0307001164</td>\n",
       "      <td>101 Dalmatians</td>\n",
       "      <td>Justine Korman</td>\n",
       "      <td>1996</td>\n",
       "      <td>golden books publishing company</td>\n",
       "      <td>justine korman</td>\n",
       "    </tr>\n",
       "    <tr>\n",
       "      <th>14503</th>\n",
       "      <td>207036822X</td>\n",
       "      <td>1984</td>\n",
       "      <td>George Orwell</td>\n",
       "      <td>0</td>\n",
       "      <td>gallimard french</td>\n",
       "      <td>george orwell</td>\n",
       "    </tr>\n",
       "    <tr>\n",
       "      <th>3842</th>\n",
       "      <td>0451519841</td>\n",
       "      <td>1984</td>\n",
       "      <td>George Orwell</td>\n",
       "      <td>1980</td>\n",
       "      <td>new amer library</td>\n",
       "      <td>george orwell</td>\n",
       "    </tr>\n",
       "    <tr>\n",
       "      <th>5470</th>\n",
       "      <td>0452262933</td>\n",
       "      <td>1984</td>\n",
       "      <td>George Orwell</td>\n",
       "      <td>1983</td>\n",
       "      <td>plume books</td>\n",
       "      <td>george orwell</td>\n",
       "    </tr>\n",
       "    <tr>\n",
       "      <th>1117</th>\n",
       "      <td>0451524934</td>\n",
       "      <td>1984</td>\n",
       "      <td>George Orwell</td>\n",
       "      <td>1990</td>\n",
       "      <td>signet book</td>\n",
       "      <td>george orwell</td>\n",
       "    </tr>\n",
       "    <tr>\n",
       "      <th>991</th>\n",
       "      <td>0446610038</td>\n",
       "      <td>1st to Die: A Novel</td>\n",
       "      <td>James Patterson</td>\n",
       "      <td>2002</td>\n",
       "      <td>warner vision</td>\n",
       "      <td>james patterson</td>\n",
       "    </tr>\n",
       "    <tr>\n",
       "      <th>2044</th>\n",
       "      <td>0316666009</td>\n",
       "      <td>1st to Die: A Novel</td>\n",
       "      <td>James Patterson</td>\n",
       "      <td>2001</td>\n",
       "      <td>little brown and company</td>\n",
       "      <td>james patterson</td>\n",
       "    </tr>\n",
       "    <tr>\n",
       "      <th>7369</th>\n",
       "      <td>0399146245</td>\n",
       "      <td>24 Hours</td>\n",
       "      <td>Greg Iles</td>\n",
       "      <td>2000</td>\n",
       "      <td>putnam publishing group</td>\n",
       "      <td>greg iles</td>\n",
       "    </tr>\n",
       "    <tr>\n",
       "      <th>4529</th>\n",
       "      <td>0451203593</td>\n",
       "      <td>24 Hours</td>\n",
       "      <td>Greg Iles</td>\n",
       "      <td>2001</td>\n",
       "      <td>signet book</td>\n",
       "      <td>greg iles</td>\n",
       "    </tr>\n",
       "    <tr>\n",
       "      <th>1845</th>\n",
       "      <td>0446612790</td>\n",
       "      <td>2nd Chance</td>\n",
       "      <td>James Patterson</td>\n",
       "      <td>2003</td>\n",
       "      <td>warner vision</td>\n",
       "      <td>james patterson</td>\n",
       "    </tr>\n",
       "    <tr>\n",
       "      <th>435</th>\n",
       "      <td>0316693200</td>\n",
       "      <td>2nd Chance</td>\n",
       "      <td>James Patterson</td>\n",
       "      <td>2002</td>\n",
       "      <td>little, brown</td>\n",
       "      <td>james patterson</td>\n",
       "    </tr>\n",
       "    <tr>\n",
       "      <th>12506</th>\n",
       "      <td>0345423496</td>\n",
       "      <td>3001: The Final Odyssey</td>\n",
       "      <td>Arthur C. Clarke</td>\n",
       "      <td>1998</td>\n",
       "      <td>del rey books</td>\n",
       "      <td>arthur c clarke</td>\n",
       "    </tr>\n",
       "    <tr>\n",
       "      <th>4579</th>\n",
       "      <td>0345315227</td>\n",
       "      <td>3001: The Final Odyssey</td>\n",
       "      <td>Arthur C. Clarke</td>\n",
       "      <td>1997</td>\n",
       "      <td>ballantine books</td>\n",
       "      <td>arthur c clarke</td>\n",
       "    </tr>\n",
       "    <tr>\n",
       "      <th>4054</th>\n",
       "      <td>0140143505</td>\n",
       "      <td>84 Charing Cross Road</td>\n",
       "      <td>Helene Hanff</td>\n",
       "      <td>1990</td>\n",
       "      <td>penguin books</td>\n",
       "      <td>helene hanff</td>\n",
       "    </tr>\n",
       "    <tr>\n",
       "      <th>3200</th>\n",
       "      <td>0860074382</td>\n",
       "      <td>84 Charing Cross Road</td>\n",
       "      <td>Helene Hanff</td>\n",
       "      <td>0</td>\n",
       "      <td>warner books&gt; c/o little br</td>\n",
       "      <td>helene hanff</td>\n",
       "    </tr>\n",
       "    <tr>\n",
       "      <th>11743</th>\n",
       "      <td>0380001225</td>\n",
       "      <td>84 Charing Cross Road</td>\n",
       "      <td>Helene Hanff</td>\n",
       "      <td>1987</td>\n",
       "      <td>avon books</td>\n",
       "      <td>helene hanff</td>\n",
       "    </tr>\n",
       "    <tr>\n",
       "      <th>2053</th>\n",
       "      <td>0446611867</td>\n",
       "      <td>A Bend in the Road</td>\n",
       "      <td>Nicholas Sparks</td>\n",
       "      <td>2002</td>\n",
       "      <td>warner books</td>\n",
       "      <td>nicholas sparks</td>\n",
       "    </tr>\n",
       "  </tbody>\n",
       "</table>\n",
       "</div>"
      ],
      "text/plain": [
       "             ISBN  ... Book-Author-Processed\n",
       "4643   0451168089  ...          stephen king\n",
       "16688  0385007515  ...          stephen king\n",
       "10276  0717284832  ...           walt disney\n",
       "337    0307001164  ...        justine korman\n",
       "14503  207036822X  ...         george orwell\n",
       "3842   0451519841  ...         george orwell\n",
       "5470   0452262933  ...         george orwell\n",
       "1117   0451524934  ...         george orwell\n",
       "991    0446610038  ...       james patterson\n",
       "2044   0316666009  ...       james patterson\n",
       "7369   0399146245  ...             greg iles\n",
       "4529   0451203593  ...             greg iles\n",
       "1845   0446612790  ...       james patterson\n",
       "435    0316693200  ...       james patterson\n",
       "12506  0345423496  ...       arthur c clarke\n",
       "4579   0345315227  ...       arthur c clarke\n",
       "4054   0140143505  ...          helene hanff\n",
       "3200   0860074382  ...          helene hanff\n",
       "11743  0380001225  ...          helene hanff\n",
       "2053   0446611867  ...       nicholas sparks\n",
       "\n",
       "[20 rows x 6 columns]"
      ]
     },
     "execution_count": 34,
     "metadata": {},
     "output_type": "execute_result"
    }
   ],
   "source": [
    "books[books[\"Book-Title\"].isin(duplicate_books[\"Book-Title\"])].sort_values(by = \"Book-Title\").head(20)"
   ]
  },
  {
   "cell_type": "code",
   "execution_count": 35,
   "id": "c5c480b8-94f8-494e-9dfd-24ae88e14694",
   "metadata": {},
   "outputs": [],
   "source": [
    "books_tp = books.groupby([\"Book-Title\", \"Book-Publisher\"])[\"ISBN\"].count() \\\n",
    "    .sort_values(ascending = False).reset_index().rename(columns= {'ISBN':'Count'})"
   ]
  },
  {
   "cell_type": "code",
   "execution_count": 36,
   "id": "a9441abb-945f-4e24-9d97-d5cc76054fa8",
   "metadata": {},
   "outputs": [
    {
     "data": {
      "text/html": [
       "<div>\n",
       "<style scoped>\n",
       "    .dataframe tbody tr th:only-of-type {\n",
       "        vertical-align: middle;\n",
       "    }\n",
       "\n",
       "    .dataframe tbody tr th {\n",
       "        vertical-align: top;\n",
       "    }\n",
       "\n",
       "    .dataframe thead th {\n",
       "        text-align: right;\n",
       "    }\n",
       "</style>\n",
       "<table border=\"1\" class=\"dataframe\">\n",
       "  <thead>\n",
       "    <tr style=\"text-align: right;\">\n",
       "      <th></th>\n",
       "      <th>ISBN</th>\n",
       "      <th>Book-Title</th>\n",
       "      <th>Book-Author</th>\n",
       "      <th>Year-Of-Publication</th>\n",
       "      <th>Book-Publisher</th>\n",
       "      <th>Book-Author-Processed</th>\n",
       "    </tr>\n",
       "  </thead>\n",
       "  <tbody>\n",
       "    <tr>\n",
       "      <th>4647</th>\n",
       "      <td>1591822580</td>\n",
       "      <td>Chobits (Chobits)</td>\n",
       "      <td>Clamp</td>\n",
       "      <td>2003</td>\n",
       "      <td>tokyopop</td>\n",
       "      <td>clamp</td>\n",
       "    </tr>\n",
       "    <tr>\n",
       "      <th>4648</th>\n",
       "      <td>1591822572</td>\n",
       "      <td>Chobits (Chobits)</td>\n",
       "      <td>Clamp</td>\n",
       "      <td>2003</td>\n",
       "      <td>tokyopop</td>\n",
       "      <td>clamp</td>\n",
       "    </tr>\n",
       "    <tr>\n",
       "      <th>4649</th>\n",
       "      <td>1591821533</td>\n",
       "      <td>Chobits (Chobits)</td>\n",
       "      <td>Clamp</td>\n",
       "      <td>2003</td>\n",
       "      <td>tokyopop</td>\n",
       "      <td>clamp</td>\n",
       "    </tr>\n",
       "    <tr>\n",
       "      <th>4650</th>\n",
       "      <td>1591820073</td>\n",
       "      <td>Chobits (Chobits)</td>\n",
       "      <td>Clamp</td>\n",
       "      <td>2003</td>\n",
       "      <td>tokyopop</td>\n",
       "      <td>clamp</td>\n",
       "    </tr>\n",
       "    <tr>\n",
       "      <th>6336</th>\n",
       "      <td>0451150244</td>\n",
       "      <td>Pet Sematary</td>\n",
       "      <td>Stephen King</td>\n",
       "      <td>1984</td>\n",
       "      <td>signet book</td>\n",
       "      <td>stephen king</td>\n",
       "    </tr>\n",
       "    <tr>\n",
       "      <th>125</th>\n",
       "      <td>0451162072</td>\n",
       "      <td>Pet Sematary</td>\n",
       "      <td>Stephen King</td>\n",
       "      <td>1994</td>\n",
       "      <td>signet book</td>\n",
       "      <td>stephen king</td>\n",
       "    </tr>\n",
       "    <tr>\n",
       "      <th>14176</th>\n",
       "      <td>0385182449</td>\n",
       "      <td>Pet Sematary</td>\n",
       "      <td>Stephen King</td>\n",
       "      <td>1993</td>\n",
       "      <td>doubleday books</td>\n",
       "      <td>stephen king</td>\n",
       "    </tr>\n",
       "    <tr>\n",
       "      <th>883</th>\n",
       "      <td>0743412273</td>\n",
       "      <td>Pet Sematary</td>\n",
       "      <td>Stephen King</td>\n",
       "      <td>2001</td>\n",
       "      <td>pocket</td>\n",
       "      <td>stephen king</td>\n",
       "    </tr>\n",
       "    <tr>\n",
       "      <th>9712</th>\n",
       "      <td>0451139755</td>\n",
       "      <td>Pet Sematary</td>\n",
       "      <td>Stephen King</td>\n",
       "      <td>1985</td>\n",
       "      <td>new amer library</td>\n",
       "      <td>stephen king</td>\n",
       "    </tr>\n",
       "    <tr>\n",
       "      <th>8950</th>\n",
       "      <td>0451157753</td>\n",
       "      <td>Pet Sematary</td>\n",
       "      <td>Stephen King</td>\n",
       "      <td>1984</td>\n",
       "      <td>signet book</td>\n",
       "      <td>stephen king</td>\n",
       "    </tr>\n",
       "    <tr>\n",
       "      <th>8244</th>\n",
       "      <td>0451132378</td>\n",
       "      <td>Pet Sematary</td>\n",
       "      <td>Stephen King</td>\n",
       "      <td>1984</td>\n",
       "      <td>signet book</td>\n",
       "      <td>stephen king</td>\n",
       "    </tr>\n",
       "    <tr>\n",
       "      <th>11911</th>\n",
       "      <td>0395489318</td>\n",
       "      <td>The Fellowship of the Ring (The Lord of the Ri...</td>\n",
       "      <td>J. R. R. Tolkien</td>\n",
       "      <td>1988</td>\n",
       "      <td>houghton mifflin company</td>\n",
       "      <td>j r r tolkien</td>\n",
       "    </tr>\n",
       "    <tr>\n",
       "      <th>6474</th>\n",
       "      <td>0618129030</td>\n",
       "      <td>The Fellowship of the Ring (The Lord of the Ri...</td>\n",
       "      <td>J. R. R. Tolkien</td>\n",
       "      <td>2001</td>\n",
       "      <td>houghton mifflin company</td>\n",
       "      <td>j r r tolkien</td>\n",
       "    </tr>\n",
       "    <tr>\n",
       "      <th>17475</th>\n",
       "      <td>0618260269</td>\n",
       "      <td>The Fellowship of the Ring (The Lord of the Ri...</td>\n",
       "      <td>J. R. R. Tolkien</td>\n",
       "      <td>2002</td>\n",
       "      <td>houghton mifflin company</td>\n",
       "      <td>j r r tolkien</td>\n",
       "    </tr>\n",
       "    <tr>\n",
       "      <th>5469</th>\n",
       "      <td>0618002227</td>\n",
       "      <td>The Fellowship of the Ring (The Lord of the Ri...</td>\n",
       "      <td>J. R. R. Tolkien</td>\n",
       "      <td>1999</td>\n",
       "      <td>houghton mifflin company</td>\n",
       "      <td>j r r tolkien</td>\n",
       "    </tr>\n",
       "    <tr>\n",
       "      <th>848</th>\n",
       "      <td>0345339703</td>\n",
       "      <td>The Fellowship of the Ring (The Lord of the Ri...</td>\n",
       "      <td>J.R.R. TOLKIEN</td>\n",
       "      <td>1986</td>\n",
       "      <td>del rey</td>\n",
       "      <td>j r r tolkien</td>\n",
       "    </tr>\n",
       "    <tr>\n",
       "      <th>6658</th>\n",
       "      <td>0671746065</td>\n",
       "      <td>The Hitchhiker's Guide to the Galaxy</td>\n",
       "      <td>Douglas Adams</td>\n",
       "      <td>1991</td>\n",
       "      <td>pocket</td>\n",
       "      <td>douglas adams</td>\n",
       "    </tr>\n",
       "    <tr>\n",
       "      <th>8497</th>\n",
       "      <td>0671701592</td>\n",
       "      <td>The Hitchhiker's Guide to the Galaxy</td>\n",
       "      <td>Douglas Adams</td>\n",
       "      <td>1990</td>\n",
       "      <td>pocket</td>\n",
       "      <td>douglas adams</td>\n",
       "    </tr>\n",
       "    <tr>\n",
       "      <th>8830</th>\n",
       "      <td>0517542099</td>\n",
       "      <td>The Hitchhiker's Guide to the Galaxy</td>\n",
       "      <td>Douglas Adams</td>\n",
       "      <td>1989</td>\n",
       "      <td>harmony</td>\n",
       "      <td>douglas adams</td>\n",
       "    </tr>\n",
       "    <tr>\n",
       "      <th>481</th>\n",
       "      <td>0345391802</td>\n",
       "      <td>The Hitchhiker's Guide to the Galaxy</td>\n",
       "      <td>Douglas Adams</td>\n",
       "      <td>1995</td>\n",
       "      <td>ballantine books</td>\n",
       "      <td>douglas adams</td>\n",
       "    </tr>\n",
       "    <tr>\n",
       "      <th>14800</th>\n",
       "      <td>0671664964</td>\n",
       "      <td>The Hitchhiker's Guide to the Galaxy</td>\n",
       "      <td>Douglas Adams</td>\n",
       "      <td>1988</td>\n",
       "      <td>pocket</td>\n",
       "      <td>douglas adams</td>\n",
       "    </tr>\n",
       "    <tr>\n",
       "      <th>17080</th>\n",
       "      <td>0345418913</td>\n",
       "      <td>The Hitchhiker's Guide to the Galaxy</td>\n",
       "      <td>Douglas Adams</td>\n",
       "      <td>1997</td>\n",
       "      <td>ballantine books</td>\n",
       "      <td>douglas adams</td>\n",
       "    </tr>\n",
       "    <tr>\n",
       "      <th>87</th>\n",
       "      <td>0671461494</td>\n",
       "      <td>The Hitchhiker's Guide to the Galaxy</td>\n",
       "      <td>Douglas Adams</td>\n",
       "      <td>1982</td>\n",
       "      <td>pocket</td>\n",
       "      <td>douglas adams</td>\n",
       "    </tr>\n",
       "    <tr>\n",
       "      <th>4877</th>\n",
       "      <td>0446520802</td>\n",
       "      <td>The Notebook</td>\n",
       "      <td>Nicholas Sparks</td>\n",
       "      <td>1996</td>\n",
       "      <td>warner books</td>\n",
       "      <td>nicholas sparks</td>\n",
       "    </tr>\n",
       "    <tr>\n",
       "      <th>8960</th>\n",
       "      <td>0446676098</td>\n",
       "      <td>The Notebook</td>\n",
       "      <td>Nicholas Sparks</td>\n",
       "      <td>1999</td>\n",
       "      <td>warner books</td>\n",
       "      <td>nicholas sparks</td>\n",
       "    </tr>\n",
       "    <tr>\n",
       "      <th>1333</th>\n",
       "      <td>0446605239</td>\n",
       "      <td>The Notebook</td>\n",
       "      <td>Nicholas Sparks</td>\n",
       "      <td>1998</td>\n",
       "      <td>warner books</td>\n",
       "      <td>nicholas sparks</td>\n",
       "    </tr>\n",
       "  </tbody>\n",
       "</table>\n",
       "</div>"
      ],
      "text/plain": [
       "             ISBN  ... Book-Author-Processed\n",
       "4647   1591822580  ...                 clamp\n",
       "4648   1591822572  ...                 clamp\n",
       "4649   1591821533  ...                 clamp\n",
       "4650   1591820073  ...                 clamp\n",
       "6336   0451150244  ...          stephen king\n",
       "125    0451162072  ...          stephen king\n",
       "14176  0385182449  ...          stephen king\n",
       "883    0743412273  ...          stephen king\n",
       "9712   0451139755  ...          stephen king\n",
       "8950   0451157753  ...          stephen king\n",
       "8244   0451132378  ...          stephen king\n",
       "11911  0395489318  ...         j r r tolkien\n",
       "6474   0618129030  ...         j r r tolkien\n",
       "17475  0618260269  ...         j r r tolkien\n",
       "5469   0618002227  ...         j r r tolkien\n",
       "848    0345339703  ...         j r r tolkien\n",
       "6658   0671746065  ...         douglas adams\n",
       "8497   0671701592  ...         douglas adams\n",
       "8830   0517542099  ...         douglas adams\n",
       "481    0345391802  ...         douglas adams\n",
       "14800  0671664964  ...         douglas adams\n",
       "17080  0345418913  ...         douglas adams\n",
       "87     0671461494  ...         douglas adams\n",
       "4877   0446520802  ...       nicholas sparks\n",
       "8960   0446676098  ...       nicholas sparks\n",
       "1333   0446605239  ...       nicholas sparks\n",
       "\n",
       "[26 rows x 6 columns]"
      ]
     },
     "execution_count": 36,
     "metadata": {},
     "output_type": "execute_result"
    }
   ],
   "source": [
    "books[books[\"Book-Title\"].isin(books_tp[\"Book-Title\"].head(5))].sort_values(\"Book-Title\")"
   ]
  },
  {
   "cell_type": "markdown",
   "id": "fe51e266-95ff-4f1e-8474-69dab1e6ed49",
   "metadata": {},
   "source": [
    "#### Title text cleaning:\n",
    "Will try to get information out of title using text processing techniques - BoW, vectorise for distances. Not much text to go off though."
   ]
  },
  {
   "cell_type": "code",
   "execution_count": 37,
   "id": "76cea67e-5dc3-40ac-bd70-29b4ed02c34b",
   "metadata": {},
   "outputs": [
    {
     "name": "stderr",
     "output_type": "stream",
     "text": [
      "[nltk_data] Downloading package omw-1.4 to\n",
      "[nltk_data]     /Users/caseyhaseloff/nltk_data...\n",
      "[nltk_data]   Package omw-1.4 is already up-to-date!\n",
      "[nltk_data] Downloading package punkt to\n",
      "[nltk_data]     /Users/caseyhaseloff/nltk_data...\n",
      "[nltk_data]   Package punkt is already up-to-date!\n",
      "[nltk_data] Downloading package stopwords to\n",
      "[nltk_data]     /Users/caseyhaseloff/nltk_data...\n",
      "[nltk_data]   Package stopwords is already up-to-date!\n",
      "[nltk_data] Downloading package wordnet to\n",
      "[nltk_data]     /Users/caseyhaseloff/nltk_data...\n",
      "[nltk_data]   Package wordnet is already up-to-date!\n"
     ]
    }
   ],
   "source": [
    "import nltk\n",
    "nltk.download('omw-1.4')\n",
    "nltk.download('punkt')\n",
    "from nltk.tokenize import word_tokenize\n",
    "from nltk.corpus import stopwords\n",
    "from nltk.stem import WordNetLemmatizer\n",
    "\n",
    "nltk.download('stopwords')\n",
    "nltk.download('wordnet')\n",
    "\n",
    "# Initialize the lemmatizer\n",
    "lemmatizer = WordNetLemmatizer()\n",
    "\n",
    "# Initialize the stop words\n",
    "stop_words = set(stopwords.words('english'))"
   ]
  },
  {
   "cell_type": "code",
   "execution_count": 38,
   "id": "a31e7caf-0b54-4b05-8bc6-f8c4704331ea",
   "metadata": {},
   "outputs": [
    {
     "data": {
      "text/plain": [
       "(16135,)"
      ]
     },
     "execution_count": 38,
     "metadata": {},
     "output_type": "execute_result"
    }
   ],
   "source": [
    "books[\"Book-Title\"].unique().shape"
   ]
  },
  {
   "cell_type": "code",
   "execution_count": 39,
   "id": "df140af6-1953-439c-8dcb-208a0f8ddfc4",
   "metadata": {},
   "outputs": [
    {
     "data": {
      "text/html": [
       "<div>\n",
       "<style scoped>\n",
       "    .dataframe tbody tr th:only-of-type {\n",
       "        vertical-align: middle;\n",
       "    }\n",
       "\n",
       "    .dataframe tbody tr th {\n",
       "        vertical-align: top;\n",
       "    }\n",
       "\n",
       "    .dataframe thead th {\n",
       "        text-align: right;\n",
       "    }\n",
       "</style>\n",
       "<table border=\"1\" class=\"dataframe\">\n",
       "  <thead>\n",
       "    <tr style=\"text-align: right;\">\n",
       "      <th></th>\n",
       "      <th>ISBN</th>\n",
       "      <th>Book-Title</th>\n",
       "      <th>Book-Author</th>\n",
       "      <th>Year-Of-Publication</th>\n",
       "      <th>Book-Publisher</th>\n",
       "      <th>Book-Author-Processed</th>\n",
       "    </tr>\n",
       "  </thead>\n",
       "  <tbody>\n",
       "    <tr>\n",
       "      <th>1117</th>\n",
       "      <td>0451524934</td>\n",
       "      <td>1984</td>\n",
       "      <td>George Orwell</td>\n",
       "      <td>1990</td>\n",
       "      <td>signet book</td>\n",
       "      <td>george orwell</td>\n",
       "    </tr>\n",
       "    <tr>\n",
       "      <th>2696</th>\n",
       "      <td>0679417397</td>\n",
       "      <td>1984 (Everyman's Library)</td>\n",
       "      <td>GEORGE ORWELL</td>\n",
       "      <td>1992</td>\n",
       "      <td>everyman's library</td>\n",
       "      <td>george orwell</td>\n",
       "    </tr>\n",
       "    <tr>\n",
       "      <th>3842</th>\n",
       "      <td>0451519841</td>\n",
       "      <td>1984</td>\n",
       "      <td>George Orwell</td>\n",
       "      <td>1980</td>\n",
       "      <td>new amer library</td>\n",
       "      <td>george orwell</td>\n",
       "    </tr>\n",
       "    <tr>\n",
       "      <th>4039</th>\n",
       "      <td>0881030368</td>\n",
       "      <td>1984 (Signet Classics (Paperback))</td>\n",
       "      <td>George Orwell</td>\n",
       "      <td>1999</td>\n",
       "      <td>sagebrush bound</td>\n",
       "      <td>george orwell</td>\n",
       "    </tr>\n",
       "    <tr>\n",
       "      <th>5470</th>\n",
       "      <td>0452262933</td>\n",
       "      <td>1984</td>\n",
       "      <td>George Orwell</td>\n",
       "      <td>1983</td>\n",
       "      <td>plume books</td>\n",
       "      <td>george orwell</td>\n",
       "    </tr>\n",
       "    <tr>\n",
       "      <th>14503</th>\n",
       "      <td>207036822X</td>\n",
       "      <td>1984</td>\n",
       "      <td>George Orwell</td>\n",
       "      <td>0</td>\n",
       "      <td>gallimard french</td>\n",
       "      <td>george orwell</td>\n",
       "    </tr>\n",
       "    <tr>\n",
       "      <th>16492</th>\n",
       "      <td>8423309835</td>\n",
       "      <td>1984 (Spanish Language Edition)</td>\n",
       "      <td>George Orwell</td>\n",
       "      <td>1984</td>\n",
       "      <td>destino ediciones</td>\n",
       "      <td>george orwell</td>\n",
       "    </tr>\n",
       "    <tr>\n",
       "      <th>17098</th>\n",
       "      <td>0393310752</td>\n",
       "      <td>The Fact of a Doorframe: Poems Selected and Ne...</td>\n",
       "      <td>Adrienne Rich</td>\n",
       "      <td>1994</td>\n",
       "      <td>w w norton &amp; co</td>\n",
       "      <td>adrienne rich</td>\n",
       "    </tr>\n",
       "  </tbody>\n",
       "</table>\n",
       "</div>"
      ],
      "text/plain": [
       "             ISBN  ... Book-Author-Processed\n",
       "1117   0451524934  ...         george orwell\n",
       "2696   0679417397  ...         george orwell\n",
       "3842   0451519841  ...         george orwell\n",
       "4039   0881030368  ...         george orwell\n",
       "5470   0452262933  ...         george orwell\n",
       "14503  207036822X  ...         george orwell\n",
       "16492  8423309835  ...         george orwell\n",
       "17098  0393310752  ...         adrienne rich\n",
       "\n",
       "[8 rows x 6 columns]"
      ]
     },
     "execution_count": 39,
     "metadata": {},
     "output_type": "execute_result"
    }
   ],
   "source": [
    "# 1984 has different version, in a vectorised version they would be similar since 1984 is in each.\n",
    "books[books[\"Book-Title\"].str.contains(\"1984\")]"
   ]
  },
  {
   "cell_type": "code",
   "execution_count": 40,
   "id": "391cea75-a7ef-4d74-8c00-b4791f1b9b38",
   "metadata": {},
   "outputs": [],
   "source": [
    "books[\"Book-Title-Processed\"] = books[\"Book-Title\"].str.lower()"
   ]
  },
  {
   "cell_type": "code",
   "execution_count": 41,
   "id": "39d46668-94b8-43d8-a340-c336de22d75c",
   "metadata": {
    "scrolled": true
   },
   "outputs": [],
   "source": [
    "# Remove all non-alphabetic characters by replacing them with a space.\n",
    "books[\"Book-Title-Processed\"] = books[\"Book-Title-Processed\"].str.replace(r'[^a-zA-Z]', ' ', regex = True).str.replace('  ', ' ')"
   ]
  },
  {
   "cell_type": "code",
   "execution_count": 42,
   "id": "1a092ea6-e619-4426-8a43-7844ec5578b9",
   "metadata": {},
   "outputs": [],
   "source": [
    "def preprocess_text(text):\n",
    "\n",
    "    # Convert to lowercase\n",
    "    text = text.lower()\n",
    "    \n",
    "    # Remove special characters and digits\n",
    "    text = re.sub(r'[^a-zA-Z0-9]', ' ', text)\n",
    "    \n",
    "    # Tokenize the text\n",
    "    tokens = nltk.word_tokenize(text)\n",
    "\n",
    "    # don't remove stop words in preparing data as some titles only have stop words. Stephen Kings \"it\"\n",
    "    # Remove stop words\n",
    "    # tokens = [word for word in tokens if word not in stop_words]\n",
    "    \n",
    "    # Lemmatize the tokens\n",
    "    tokens = [lemmatizer.lemmatize(word) for word in tokens]\n",
    "    \n",
    "    # Return the processed text as a string\n",
    "    return \" \".join(tokens)\n",
    "\n",
    "def preprocess_dataframe(df, column_name):\n",
    "    df[f\"{column_name}-Processed\"] = df[column_name].apply(preprocess_text)\n",
    "    return df"
   ]
  },
  {
   "cell_type": "code",
   "execution_count": 43,
   "id": "f3722e24-1cde-4d92-bb77-8c66764bfce6",
   "metadata": {
    "scrolled": true
   },
   "outputs": [
    {
     "data": {
      "text/html": [
       "<div>\n",
       "<style scoped>\n",
       "    .dataframe tbody tr th:only-of-type {\n",
       "        vertical-align: middle;\n",
       "    }\n",
       "\n",
       "    .dataframe tbody tr th {\n",
       "        vertical-align: top;\n",
       "    }\n",
       "\n",
       "    .dataframe thead th {\n",
       "        text-align: right;\n",
       "    }\n",
       "</style>\n",
       "<table border=\"1\" class=\"dataframe\">\n",
       "  <thead>\n",
       "    <tr style=\"text-align: right;\">\n",
       "      <th></th>\n",
       "      <th>ISBN</th>\n",
       "      <th>Book-Title</th>\n",
       "      <th>Book-Author</th>\n",
       "      <th>Year-Of-Publication</th>\n",
       "      <th>Book-Publisher</th>\n",
       "      <th>Book-Author-Processed</th>\n",
       "      <th>Book-Title-Processed</th>\n",
       "      <th>Book-Publisher-Processed</th>\n",
       "    </tr>\n",
       "  </thead>\n",
       "  <tbody>\n",
       "    <tr>\n",
       "      <th>0</th>\n",
       "      <td>0002005018</td>\n",
       "      <td>Clara Callan</td>\n",
       "      <td>Richard Bruce Wright</td>\n",
       "      <td>2001</td>\n",
       "      <td>harperflamingo canada</td>\n",
       "      <td>richard bruce wright</td>\n",
       "      <td>clara callan</td>\n",
       "      <td>harperflamingo canada</td>\n",
       "    </tr>\n",
       "    <tr>\n",
       "      <th>1</th>\n",
       "      <td>0374157065</td>\n",
       "      <td>Flu: The Story of the Great Influenza Pandemic...</td>\n",
       "      <td>Gina Bari Kolata</td>\n",
       "      <td>1999</td>\n",
       "      <td>farrar straus giroux</td>\n",
       "      <td>gina bari kolata</td>\n",
       "      <td>flu the story of the great influenza pandemic ...</td>\n",
       "      <td>farrar straus giroux</td>\n",
       "    </tr>\n",
       "    <tr>\n",
       "      <th>2</th>\n",
       "      <td>0399135782</td>\n",
       "      <td>The Kitchen God's Wife</td>\n",
       "      <td>Amy Tan</td>\n",
       "      <td>1991</td>\n",
       "      <td>putnam pub group</td>\n",
       "      <td>amy tan</td>\n",
       "      <td>the kitchen god s wife</td>\n",
       "      <td>putnam pub group</td>\n",
       "    </tr>\n",
       "    <tr>\n",
       "      <th>3</th>\n",
       "      <td>0440234743</td>\n",
       "      <td>The Testament</td>\n",
       "      <td>John Grisham</td>\n",
       "      <td>1999</td>\n",
       "      <td>dell</td>\n",
       "      <td>john grisham</td>\n",
       "      <td>the testament</td>\n",
       "      <td>dell</td>\n",
       "    </tr>\n",
       "    <tr>\n",
       "      <th>4</th>\n",
       "      <td>0452264464</td>\n",
       "      <td>Beloved (Plume Contemporary Fiction)</td>\n",
       "      <td>Toni Morrison</td>\n",
       "      <td>1994</td>\n",
       "      <td>plume</td>\n",
       "      <td>toni morrison</td>\n",
       "      <td>beloved plume contemporary fiction</td>\n",
       "      <td>plume</td>\n",
       "    </tr>\n",
       "    <tr>\n",
       "      <th>...</th>\n",
       "      <td>...</td>\n",
       "      <td>...</td>\n",
       "      <td>...</td>\n",
       "      <td>...</td>\n",
       "      <td>...</td>\n",
       "      <td>...</td>\n",
       "      <td>...</td>\n",
       "      <td>...</td>\n",
       "    </tr>\n",
       "    <tr>\n",
       "      <th>18180</th>\n",
       "      <td>0375411615</td>\n",
       "      <td>Love, Etc.</td>\n",
       "      <td>Julian Barnes</td>\n",
       "      <td>2001</td>\n",
       "      <td>alfred a. knopf</td>\n",
       "      <td>julian barnes</td>\n",
       "      <td>love etc</td>\n",
       "      <td>alfred a knopf</td>\n",
       "    </tr>\n",
       "    <tr>\n",
       "      <th>18181</th>\n",
       "      <td>0836227751</td>\n",
       "      <td>The Wit And Whimsy Of Mary Engelbreit</td>\n",
       "      <td>Mary Engelbreit</td>\n",
       "      <td>1997</td>\n",
       "      <td>andrews mcmeel publishing</td>\n",
       "      <td>mary engelbreit</td>\n",
       "      <td>the wit and whimsy of mary engelbreit</td>\n",
       "      <td>andrew mcmeel publishing</td>\n",
       "    </tr>\n",
       "    <tr>\n",
       "      <th>18182</th>\n",
       "      <td>8433966634</td>\n",
       "      <td>Los Detectives Salvajes</td>\n",
       "      <td>Roberto Bolano</td>\n",
       "      <td>2003</td>\n",
       "      <td>anagrama</td>\n",
       "      <td>roberto bolano</td>\n",
       "      <td>los detective salvajes</td>\n",
       "      <td>anagrama</td>\n",
       "    </tr>\n",
       "    <tr>\n",
       "      <th>18183</th>\n",
       "      <td>0330353349</td>\n",
       "      <td>The Ice House (TV Tie-In Edition)</td>\n",
       "      <td>Minette Walters</td>\n",
       "      <td>1997</td>\n",
       "      <td>mcclelland &amp; stewart</td>\n",
       "      <td>minette walter</td>\n",
       "      <td>the ice house tv tie in edition</td>\n",
       "      <td>mcclelland stewart</td>\n",
       "    </tr>\n",
       "    <tr>\n",
       "      <th>18184</th>\n",
       "      <td>0394757645</td>\n",
       "      <td>Trouble Is My Business (Vintage Crime/Black Li...</td>\n",
       "      <td>Raymond Chandler</td>\n",
       "      <td>1992</td>\n",
       "      <td>vintage books usa</td>\n",
       "      <td>raymond chandler</td>\n",
       "      <td>trouble is my business vintage crime black lizard</td>\n",
       "      <td>vintage book usa</td>\n",
       "    </tr>\n",
       "  </tbody>\n",
       "</table>\n",
       "<p>18185 rows × 8 columns</p>\n",
       "</div>"
      ],
      "text/plain": [
       "             ISBN  ...  Book-Publisher-Processed\n",
       "0      0002005018  ...     harperflamingo canada\n",
       "1      0374157065  ...      farrar straus giroux\n",
       "2      0399135782  ...          putnam pub group\n",
       "3      0440234743  ...                      dell\n",
       "4      0452264464  ...                     plume\n",
       "...           ...  ...                       ...\n",
       "18180  0375411615  ...            alfred a knopf\n",
       "18181  0836227751  ...  andrew mcmeel publishing\n",
       "18182  8433966634  ...                  anagrama\n",
       "18183  0330353349  ...        mcclelland stewart\n",
       "18184  0394757645  ...          vintage book usa\n",
       "\n",
       "[18185 rows x 8 columns]"
      ]
     },
     "execution_count": 43,
     "metadata": {},
     "output_type": "execute_result"
    }
   ],
   "source": [
    "books = preprocess_dataframe(books, \"Book-Publisher\")\n",
    "books = preprocess_dataframe(books, \"Book-Title\")\n",
    "books = preprocess_dataframe(books, \"Book-Author\")\n",
    "books"
   ]
  },
  {
   "cell_type": "raw",
   "id": "77833e15-5402-4f1c-b391-46d4d866e84a",
   "metadata": {},
   "source": [
    "## this takes 12 minutes to run and find comparison\n",
    "%%time\n",
    "title_fuzzy_match = fuzzy_match_comparison(\"Title\")\n",
    "title_fuzzy_match"
   ]
  },
  {
   "cell_type": "raw",
   "id": "7b4ee88a-d72f-4883-897e-90ea7b68afe2",
   "metadata": {
    "scrolled": true
   },
   "source": [
    "title_fuzzy_match[title_fuzzy_match[\"score_sort\"] <= 95].head()"
   ]
  },
  {
   "cell_type": "code",
   "execution_count": 44,
   "id": "f16c1891-265f-41a8-bb57-5385d5c7cebf",
   "metadata": {},
   "outputs": [
    {
     "data": {
      "text/html": [
       "<div>\n",
       "<style scoped>\n",
       "    .dataframe tbody tr th:only-of-type {\n",
       "        vertical-align: middle;\n",
       "    }\n",
       "\n",
       "    .dataframe tbody tr th {\n",
       "        vertical-align: top;\n",
       "    }\n",
       "\n",
       "    .dataframe thead th {\n",
       "        text-align: right;\n",
       "    }\n",
       "</style>\n",
       "<table border=\"1\" class=\"dataframe\">\n",
       "  <thead>\n",
       "    <tr style=\"text-align: right;\">\n",
       "      <th></th>\n",
       "      <th>ISBN</th>\n",
       "      <th>Book-Title</th>\n",
       "      <th>Book-Author</th>\n",
       "      <th>Year-Of-Publication</th>\n",
       "      <th>Book-Publisher</th>\n",
       "      <th>Book-Author-Processed</th>\n",
       "      <th>Book-Title-Processed</th>\n",
       "      <th>Book-Publisher-Processed</th>\n",
       "    </tr>\n",
       "  </thead>\n",
       "  <tbody>\n",
       "  </tbody>\n",
       "</table>\n",
       "</div>"
      ],
      "text/plain": [
       "Empty DataFrame\n",
       "Columns: [ISBN, Book-Title, Book-Author, Year-Of-Publication, Book-Publisher, Book-Author-Processed, Book-Title-Processed, Book-Publisher-Processed]\n",
       "Index: []"
      ]
     },
     "execution_count": 44,
     "metadata": {},
     "output_type": "execute_result"
    }
   ],
   "source": [
    "books[books[\"Book-Title\"].isin([\"prince charming\", \"princess charming\"])]"
   ]
  },
  {
   "cell_type": "markdown",
   "id": "187176d0-78ff-4ff6-a702-0347e08485cc",
   "metadata": {},
   "source": [
    "### Book-Publisher\n",
    "String Fuzzy match for all text data, can see some typos and similar publishers"
   ]
  },
  {
   "cell_type": "code",
   "execution_count": 45,
   "id": "1934ecb0-1896-4916-b48c-da513c36c59e",
   "metadata": {},
   "outputs": [
    {
     "data": {
      "text/plain": [
       "<Axes: xlabel='Count', ylabel='Book-Publisher'>"
      ]
     },
     "execution_count": 45,
     "metadata": {},
     "output_type": "execute_result"
    },
    {
     "data": {
      "image/png": "[encoded data removed]",
      "text/plain": [
       "<Figure size 432x288 with 1 Axes>"
      ]
     },
     "metadata": {},
     "output_type": "display_data"
    }
   ],
   "source": [
    "books_publisher = books.groupby([\"Book-Publisher\"])[\"ISBN\"].count() \\\n",
    "    .sort_values(ascending = False).reset_index().rename(columns= {'ISBN':'Count'})\n",
    "\n",
    "sns.barplot(books_publisher.head(20), x = \"Count\", y = \"Book-Publisher\", orient = \"h\")"
   ]
  },
  {
   "cell_type": "code",
   "execution_count": 46,
   "id": "cdada892-bf57-4eb4-b19a-07ad03142c59",
   "metadata": {},
   "outputs": [
    {
     "data": {
      "text/plain": [
       "<Axes: xlabel='Count', ylabel='Book-Publisher'>"
      ]
     },
     "execution_count": 46,
     "metadata": {},
     "output_type": "execute_result"
    },
    {
     "data": {
      "image/png": "[encoded data removed]",
      "text/plain": [
       "<Figure size 432x288 with 1 Axes>"
      ]
     },
     "metadata": {},
     "output_type": "display_data"
    }
   ],
   "source": [
    "sns.barplot(books_publisher.tail(20), x = \"Count\", y = \"Book-Publisher\", orient = \"h\")"
   ]
  },
  {
   "cell_type": "markdown",
   "id": "f7cf5db1-c797-4e29-a425-1e6e63550d99",
   "metadata": {},
   "source": [
    "##### Publisher text cleaning:"
   ]
  },
  {
   "cell_type": "code",
   "execution_count": 47,
   "id": "42992dda-c36c-434b-9bf2-2c237e6139f9",
   "metadata": {
    "scrolled": true
   },
   "outputs": [
    {
     "data": {
      "text/plain": [
       "(1330,)"
      ]
     },
     "execution_count": 47,
     "metadata": {},
     "output_type": "execute_result"
    }
   ],
   "source": [
    "books[\"Book-Publisher\"].unique().shape"
   ]
  },
  {
   "cell_type": "code",
   "execution_count": 48,
   "id": "9c7e5f18-db7d-4f2f-8154-02793e4fe3ba",
   "metadata": {},
   "outputs": [],
   "source": [
    "books[\"Book-Publisher-Processed\"] = books[\"Book-Publisher\"].str.lower()"
   ]
  },
  {
   "cell_type": "code",
   "execution_count": 49,
   "id": "4672d9b8-05a6-48c0-9153-67937884ec93",
   "metadata": {},
   "outputs": [],
   "source": [
    "# Define regex pattern to remove non-alphanumeric characters except '&'\n",
    "pattern = r'[^a-zA-Z0-9& ]'\n",
    "\n",
    "# Function to clean text based on regex pattern\n",
    "def clean_text(text):\n",
    "    cleaned_text = re.sub(pattern, '', text)\n",
    "    return cleaned_text"
   ]
  },
  {
   "cell_type": "code",
   "execution_count": 50,
   "id": "a1321868-e7fe-43c8-bc9c-4667903124c2",
   "metadata": {
    "scrolled": true
   },
   "outputs": [],
   "source": [
    "# Remove all non-alphabetic characters by replacing them with a space.\n",
    "books[\"Book-Publisher-Processed\"] = books[\"Book-Publisher-Processed\"].apply(clean_text).str.strip()\n",
    "# books[\"Book-Publisher-Processed\"] = books[\"Book-Publisher-Processed\"].str.strip()"
   ]
  },
  {
   "cell_type": "code",
   "execution_count": 51,
   "id": "4a8629a0-f2f9-41ba-a39a-f42b6e7461b3",
   "metadata": {},
   "outputs": [
    {
     "name": "stdout",
     "output_type": "stream",
     "text": [
      "1320\n",
      "CPU times: user 2.97 s, sys: 341 ms, total: 3.32 s\n",
      "Wall time: 4.05 s\n"
     ]
    },
    {
     "data": {
      "text/plain": [
       "(411, 3)"
      ]
     },
     "execution_count": 51,
     "metadata": {},
     "output_type": "execute_result"
    }
   ],
   "source": [
    "%%time\n",
    "publisher_fuzzy_match = fuzzy_match_comparison(\"Publisher-Processed\")\n",
    "publisher_fuzzy_match.shape"
   ]
  },
  {
   "cell_type": "code",
   "execution_count": 52,
   "id": "11a8da20-fa94-457d-a644-d6cb2fa2a504",
   "metadata": {},
   "outputs": [
    {
     "data": {
      "text/html": [
       "<div>\n",
       "<style scoped>\n",
       "    .dataframe tbody tr th:only-of-type {\n",
       "        vertical-align: middle;\n",
       "    }\n",
       "\n",
       "    .dataframe tbody tr th {\n",
       "        vertical-align: top;\n",
       "    }\n",
       "\n",
       "    .dataframe thead th {\n",
       "        text-align: right;\n",
       "    }\n",
       "</style>\n",
       "<table border=\"1\" class=\"dataframe\">\n",
       "  <thead>\n",
       "    <tr style=\"text-align: right;\">\n",
       "      <th></th>\n",
       "      <th>Publisher-Processed_sort</th>\n",
       "      <th>score_sort</th>\n",
       "      <th>match_sort</th>\n",
       "    </tr>\n",
       "  </thead>\n",
       "  <tbody>\n",
       "    <tr>\n",
       "      <th>0</th>\n",
       "      <td>ullstein buchverlage gmbh &amp; co kg  ullstein tas</td>\n",
       "      <td>98</td>\n",
       "      <td>ullstein buchverlage gmbh &amp; cokg  ullstein tasc</td>\n",
       "    </tr>\n",
       "    <tr>\n",
       "      <th>1</th>\n",
       "      <td>harpercollins publisher</td>\n",
       "      <td>98</td>\n",
       "      <td>harpercollins publishers</td>\n",
       "    </tr>\n",
       "    <tr>\n",
       "      <th>2</th>\n",
       "      <td>harper collins publishers</td>\n",
       "      <td>98</td>\n",
       "      <td>harpercollins publishers</td>\n",
       "    </tr>\n",
       "    <tr>\n",
       "      <th>3</th>\n",
       "      <td>harper collins canada</td>\n",
       "      <td>98</td>\n",
       "      <td>harpercollins canada</td>\n",
       "    </tr>\n",
       "    <tr>\n",
       "      <th>4</th>\n",
       "      <td>harper sanfrancisco</td>\n",
       "      <td>97</td>\n",
       "      <td>harpersanfrancisco</td>\n",
       "    </tr>\n",
       "  </tbody>\n",
       "</table>\n",
       "</div>"
      ],
      "text/plain": [
       "                          Publisher-Processed_sort  ...                                       match_sort\n",
       "0  ullstein buchverlage gmbh & co kg  ullstein tas  ...  ullstein buchverlage gmbh & cokg  ullstein tasc\n",
       "1                          harpercollins publisher  ...                         harpercollins publishers\n",
       "2                        harper collins publishers  ...                         harpercollins publishers\n",
       "3                            harper collins canada  ...                             harpercollins canada\n",
       "4                              harper sanfrancisco  ...                               harpersanfrancisco\n",
       "\n",
       "[5 rows x 3 columns]"
      ]
     },
     "execution_count": 52,
     "metadata": {},
     "output_type": "execute_result"
    }
   ],
   "source": [
    "publisher_fuzzy_match.head()"
   ]
  },
  {
   "cell_type": "markdown",
   "id": "5243bddd-711d-4c0c-ae92-b12ae864aeb1",
   "metadata": {},
   "source": [
    "## BX-Users"
   ]
  },
  {
   "cell_type": "code",
   "execution_count": 53,
   "id": "d3300361-03bc-4948-a0cb-397cbcdf192a",
   "metadata": {},
   "outputs": [
    {
     "data": {
      "text/plain": [
       "Index(['User-ID', 'User-City', 'User-State', 'User-Country', 'User-Age'], dtype='object')"
      ]
     },
     "execution_count": 53,
     "metadata": {},
     "output_type": "execute_result"
    }
   ],
   "source": [
    "users = pd.read_csv(path + \"raw/BX-Users.csv\")\n",
    "users.columns"
   ]
  },
  {
   "cell_type": "code",
   "execution_count": 54,
   "id": "25de09aa-5ed7-4a93-b5e3-079441adac68",
   "metadata": {},
   "outputs": [
    {
     "data": {
      "text/plain": [
       "(48299, 5)"
      ]
     },
     "execution_count": 54,
     "metadata": {},
     "output_type": "execute_result"
    }
   ],
   "source": [
    "users.shape"
   ]
  },
  {
   "cell_type": "code",
   "execution_count": 55,
   "id": "0200b460-0d8a-4c7a-9110-5ec6983cf445",
   "metadata": {},
   "outputs": [
    {
     "data": {
      "text/plain": [
       "User-ID          int64\n",
       "User-City       object\n",
       "User-State      object\n",
       "User-Country    object\n",
       "User-Age        object\n",
       "dtype: object"
      ]
     },
     "execution_count": 55,
     "metadata": {},
     "output_type": "execute_result"
    }
   ],
   "source": [
    "users.dtypes"
   ]
  },
  {
   "cell_type": "markdown",
   "id": "5c4fd4f8-92e2-42c3-8fd7-ae5652ad0654",
   "metadata": {},
   "source": [
    "## Initial Look \n",
    "Null values to deal with:\n",
    "- User-City: 61\n",
    "- User-Country: 669\n",
    "- User-Age: 18952 (39.2% of users)\n",
    "- User-State: 666\n",
    "\n",
    "Can see that User-State has empty strings:' '.\n",
    "\n",
    "strings have white space at beginning - strip these.\n",
    "\n",
    "Some values in columns have trailing \" to remove.\n",
    "\n",
    "deal with n/a in each columns"
   ]
  },
  {
   "cell_type": "code",
   "execution_count": 56,
   "id": "fd7099cb-c9c3-4865-840e-cc4879b8c9c2",
   "metadata": {},
   "outputs": [
    {
     "data": {
      "text/plain": [
       "User-ID             0\n",
       "User-City          61\n",
       "User-State          0\n",
       "User-Country      669\n",
       "User-Age        18952\n",
       "dtype: int64"
      ]
     },
     "execution_count": 56,
     "metadata": {},
     "output_type": "execute_result"
    }
   ],
   "source": [
    "users.isna().sum()"
   ]
  },
  {
   "cell_type": "code",
   "execution_count": 57,
   "id": "55b190ff-027f-4fb6-aa88-a8333059c5a0",
   "metadata": {},
   "outputs": [
    {
     "data": {
      "text/html": [
       "<div>\n",
       "<style scoped>\n",
       "    .dataframe tbody tr th:only-of-type {\n",
       "        vertical-align: middle;\n",
       "    }\n",
       "\n",
       "    .dataframe tbody tr th {\n",
       "        vertical-align: top;\n",
       "    }\n",
       "\n",
       "    .dataframe thead th {\n",
       "        text-align: right;\n",
       "    }\n",
       "</style>\n",
       "<table border=\"1\" class=\"dataframe\">\n",
       "  <thead>\n",
       "    <tr style=\"text-align: right;\">\n",
       "      <th></th>\n",
       "      <th>User-ID</th>\n",
       "      <th>User-City</th>\n",
       "      <th>User-State</th>\n",
       "      <th>User-Country</th>\n",
       "      <th>User-Age</th>\n",
       "    </tr>\n",
       "  </thead>\n",
       "  <tbody>\n",
       "    <tr>\n",
       "      <th>385</th>\n",
       "      <td>2197</td>\n",
       "      <td>NaN</td>\n",
       "      <td>travelling</td>\n",
       "      <td>canada\"</td>\n",
       "      <td>26</td>\n",
       "    </tr>\n",
       "    <tr>\n",
       "      <th>616</th>\n",
       "      <td>3569</td>\n",
       "      <td>NaN</td>\n",
       "      <td>n/a</td>\n",
       "      <td>usa\"</td>\n",
       "      <td>NaN</td>\n",
       "    </tr>\n",
       "    <tr>\n",
       "      <th>731</th>\n",
       "      <td>4221</td>\n",
       "      <td>NaN</td>\n",
       "      <td>connecticut</td>\n",
       "      <td>usa\"</td>\n",
       "      <td>NaN</td>\n",
       "    </tr>\n",
       "    <tr>\n",
       "      <th>1904</th>\n",
       "      <td>11676</td>\n",
       "      <td>NaN</td>\n",
       "      <td>n/a</td>\n",
       "      <td>n/a\"</td>\n",
       "      <td>NaN</td>\n",
       "    </tr>\n",
       "    <tr>\n",
       "      <th>2107</th>\n",
       "      <td>12966</td>\n",
       "      <td>NaN</td>\n",
       "      <td>n/a</td>\n",
       "      <td>singapore\"</td>\n",
       "      <td>28</td>\n",
       "    </tr>\n",
       "  </tbody>\n",
       "</table>\n",
       "</div>"
      ],
      "text/plain": [
       "      User-ID User-City    User-State User-Country User-Age\n",
       "385      2197       NaN    travelling      canada\"       26\n",
       "616      3569       NaN           n/a         usa\"      NaN\n",
       "731      4221       NaN   connecticut         usa\"      NaN\n",
       "1904    11676       NaN           n/a         n/a\"      NaN\n",
       "2107    12966       NaN           n/a   singapore\"       28"
      ]
     },
     "execution_count": 57,
     "metadata": {},
     "output_type": "execute_result"
    }
   ],
   "source": [
    "users[users[\"User-City\"].isna()].head(5)"
   ]
  },
  {
   "cell_type": "code",
   "execution_count": 58,
   "id": "c3501337-c77c-4428-8024-a46750e327e8",
   "metadata": {
    "scrolled": true
   },
   "outputs": [
    {
     "data": {
      "text/plain": [
       "47963    True\n",
       "Name: User-State, dtype: bool"
      ]
     },
     "execution_count": 58,
     "metadata": {},
     "output_type": "execute_result"
    }
   ],
   "source": [
    "users[users[\"User-ID\"] == 277124][\"User-State\"] == ' '"
   ]
  },
  {
   "cell_type": "code",
   "execution_count": 59,
   "id": "f3ff68f9-88cb-4999-a256-06e2f43f05aa",
   "metadata": {},
   "outputs": [
    {
     "data": {
      "text/html": [
       "<div>\n",
       "<style scoped>\n",
       "    .dataframe tbody tr th:only-of-type {\n",
       "        vertical-align: middle;\n",
       "    }\n",
       "\n",
       "    .dataframe tbody tr th {\n",
       "        vertical-align: top;\n",
       "    }\n",
       "\n",
       "    .dataframe thead th {\n",
       "        text-align: right;\n",
       "    }\n",
       "</style>\n",
       "<table border=\"1\" class=\"dataframe\">\n",
       "  <thead>\n",
       "    <tr style=\"text-align: right;\">\n",
       "      <th></th>\n",
       "      <th>User-ID</th>\n",
       "      <th>User-City</th>\n",
       "      <th>User-State</th>\n",
       "      <th>User-Country</th>\n",
       "      <th>User-Age</th>\n",
       "    </tr>\n",
       "  </thead>\n",
       "  <tbody>\n",
       "    <tr>\n",
       "      <th>4</th>\n",
       "      <td>19</td>\n",
       "      <td>weston</td>\n",
       "      <td></td>\n",
       "      <td>NaN</td>\n",
       "      <td>14\"</td>\n",
       "    </tr>\n",
       "    <tr>\n",
       "      <th>133</th>\n",
       "      <td>777</td>\n",
       "      <td>portland</td>\n",
       "      <td></td>\n",
       "      <td>NaN</td>\n",
       "      <td>13\"</td>\n",
       "    </tr>\n",
       "    <tr>\n",
       "      <th>160</th>\n",
       "      <td>929</td>\n",
       "      <td>king of prussia</td>\n",
       "      <td></td>\n",
       "      <td>NaN</td>\n",
       "      <td>36\"</td>\n",
       "    </tr>\n",
       "    <tr>\n",
       "      <th>196</th>\n",
       "      <td>1118</td>\n",
       "      <td>cleveland</td>\n",
       "      <td></td>\n",
       "      <td>usa\"</td>\n",
       "      <td>NaN</td>\n",
       "    </tr>\n",
       "    <tr>\n",
       "      <th>198</th>\n",
       "      <td>1131</td>\n",
       "      <td>berkeley</td>\n",
       "      <td></td>\n",
       "      <td>NaN</td>\n",
       "      <td>22\"</td>\n",
       "    </tr>\n",
       "  </tbody>\n",
       "</table>\n",
       "</div>"
      ],
      "text/plain": [
       "     User-ID        User-City User-State User-Country User-Age\n",
       "4         19           weston                     NaN      14\"\n",
       "133      777         portland                     NaN      13\"\n",
       "160      929  king of prussia                     NaN      36\"\n",
       "196     1118        cleveland                    usa\"      NaN\n",
       "198     1131         berkeley                     NaN      22\""
      ]
     },
     "execution_count": 59,
     "metadata": {},
     "output_type": "execute_result"
    }
   ],
   "source": [
    "users[users[\"User-State\"] == \" \"].head(5)"
   ]
  },
  {
   "cell_type": "code",
   "execution_count": 60,
   "id": "05eae018-b787-4acc-ad12-24b65eca3cff",
   "metadata": {},
   "outputs": [
    {
     "data": {
      "text/plain": [
       "(666, 5)"
      ]
     },
     "execution_count": 60,
     "metadata": {},
     "output_type": "execute_result"
    }
   ],
   "source": [
    "users[users[\"User-State\"] == \" \"].shape"
   ]
  },
  {
   "cell_type": "code",
   "execution_count": 61,
   "id": "b51634b3-2e62-47d3-b5fa-7fadeb4dfdd4",
   "metadata": {},
   "outputs": [
    {
     "data": {
      "text/html": [
       "<div>\n",
       "<style scoped>\n",
       "    .dataframe tbody tr th:only-of-type {\n",
       "        vertical-align: middle;\n",
       "    }\n",
       "\n",
       "    .dataframe tbody tr th {\n",
       "        vertical-align: top;\n",
       "    }\n",
       "\n",
       "    .dataframe thead th {\n",
       "        text-align: right;\n",
       "    }\n",
       "</style>\n",
       "<table border=\"1\" class=\"dataframe\">\n",
       "  <thead>\n",
       "    <tr style=\"text-align: right;\">\n",
       "      <th></th>\n",
       "      <th>User-ID</th>\n",
       "      <th>User-City</th>\n",
       "      <th>User-State</th>\n",
       "      <th>User-Country</th>\n",
       "      <th>User-Age</th>\n",
       "    </tr>\n",
       "  </thead>\n",
       "  <tbody>\n",
       "    <tr>\n",
       "      <th>4</th>\n",
       "      <td>19</td>\n",
       "      <td>weston</td>\n",
       "      <td></td>\n",
       "      <td>NaN</td>\n",
       "      <td>14\"</td>\n",
       "    </tr>\n",
       "    <tr>\n",
       "      <th>133</th>\n",
       "      <td>777</td>\n",
       "      <td>portland</td>\n",
       "      <td></td>\n",
       "      <td>NaN</td>\n",
       "      <td>13\"</td>\n",
       "    </tr>\n",
       "    <tr>\n",
       "      <th>160</th>\n",
       "      <td>929</td>\n",
       "      <td>king of prussia</td>\n",
       "      <td></td>\n",
       "      <td>NaN</td>\n",
       "      <td>36\"</td>\n",
       "    </tr>\n",
       "    <tr>\n",
       "      <th>198</th>\n",
       "      <td>1131</td>\n",
       "      <td>berkeley</td>\n",
       "      <td></td>\n",
       "      <td>NaN</td>\n",
       "      <td>22\"</td>\n",
       "    </tr>\n",
       "    <tr>\n",
       "      <th>284</th>\n",
       "      <td>1589</td>\n",
       "      <td>clio</td>\n",
       "      <td>michigan</td>\n",
       "      <td>NaN</td>\n",
       "      <td>50\"</td>\n",
       "    </tr>\n",
       "  </tbody>\n",
       "</table>\n",
       "</div>"
      ],
      "text/plain": [
       "     User-ID        User-City User-State User-Country User-Age\n",
       "4         19           weston                     NaN      14\"\n",
       "133      777         portland                     NaN      13\"\n",
       "160      929  king of prussia                     NaN      36\"\n",
       "198     1131         berkeley                     NaN      22\"\n",
       "284     1589             clio   michigan          NaN      50\""
      ]
     },
     "execution_count": 61,
     "metadata": {},
     "output_type": "execute_result"
    }
   ],
   "source": [
    "users[users[\"User-Country\"].isna()].head(5)"
   ]
  },
  {
   "cell_type": "code",
   "execution_count": 62,
   "id": "d98f0d4d-6b18-46fb-8a84-434a6825ac50",
   "metadata": {},
   "outputs": [
    {
     "data": {
      "text/html": [
       "<div>\n",
       "<style scoped>\n",
       "    .dataframe tbody tr th:only-of-type {\n",
       "        vertical-align: middle;\n",
       "    }\n",
       "\n",
       "    .dataframe tbody tr th {\n",
       "        vertical-align: top;\n",
       "    }\n",
       "\n",
       "    .dataframe thead th {\n",
       "        text-align: right;\n",
       "    }\n",
       "</style>\n",
       "<table border=\"1\" class=\"dataframe\">\n",
       "  <thead>\n",
       "    <tr style=\"text-align: right;\">\n",
       "      <th></th>\n",
       "      <th>User-ID</th>\n",
       "      <th>User-City</th>\n",
       "      <th>User-State</th>\n",
       "      <th>User-Country</th>\n",
       "      <th>User-Age</th>\n",
       "    </tr>\n",
       "  </thead>\n",
       "  <tbody>\n",
       "    <tr>\n",
       "      <th>0</th>\n",
       "      <td>8</td>\n",
       "      <td>timmins</td>\n",
       "      <td>ontario</td>\n",
       "      <td>canada\"</td>\n",
       "      <td>NaN</td>\n",
       "    </tr>\n",
       "    <tr>\n",
       "      <th>1</th>\n",
       "      <td>9</td>\n",
       "      <td>germantown</td>\n",
       "      <td>tennessee</td>\n",
       "      <td>usa\"</td>\n",
       "      <td>NaN</td>\n",
       "    </tr>\n",
       "    <tr>\n",
       "      <th>2</th>\n",
       "      <td>16</td>\n",
       "      <td>albuquerque</td>\n",
       "      <td>new mexico</td>\n",
       "      <td>usa\"</td>\n",
       "      <td>NaN</td>\n",
       "    </tr>\n",
       "    <tr>\n",
       "      <th>3</th>\n",
       "      <td>17</td>\n",
       "      <td>chesapeake</td>\n",
       "      <td>virginia</td>\n",
       "      <td>usa\"</td>\n",
       "      <td>NaN</td>\n",
       "    </tr>\n",
       "    <tr>\n",
       "      <th>5</th>\n",
       "      <td>26</td>\n",
       "      <td>bellevue</td>\n",
       "      <td>washington</td>\n",
       "      <td>usa\"</td>\n",
       "      <td>NaN</td>\n",
       "    </tr>\n",
       "  </tbody>\n",
       "</table>\n",
       "</div>"
      ],
      "text/plain": [
       "   User-ID    User-City   User-State User-Country User-Age\n",
       "0        8      timmins      ontario      canada\"      NaN\n",
       "1        9   germantown    tennessee         usa\"      NaN\n",
       "2       16  albuquerque   new mexico         usa\"      NaN\n",
       "3       17   chesapeake     virginia         usa\"      NaN\n",
       "5       26     bellevue   washington         usa\"      NaN"
      ]
     },
     "execution_count": 62,
     "metadata": {},
     "output_type": "execute_result"
    }
   ],
   "source": [
    "users[users[\"User-Age\"].isna()].head(5)"
   ]
  },
  {
   "cell_type": "markdown",
   "id": "cd58f824-b99a-445a-bff2-5e27f78a659f",
   "metadata": {},
   "source": [
    "### Remove trailing \":"
   ]
  },
  {
   "cell_type": "code",
   "execution_count": 63,
   "id": "13908684-71ee-4e70-af3c-c5645df0e145",
   "metadata": {},
   "outputs": [
    {
     "data": {
      "text/plain": [
       "0            canada\n",
       "1               usa\n",
       "2               usa\n",
       "3               usa\n",
       "4               NaN\n",
       "            ...    \n",
       "48294        canada\n",
       "48295        canada\n",
       "48296           usa\n",
       "48297     australia\n",
       "48298           usa\n",
       "Name: User-Country, Length: 48299, dtype: object"
      ]
     },
     "execution_count": 63,
     "metadata": {},
     "output_type": "execute_result"
    }
   ],
   "source": [
    "users[\"User-Country\"].str.rstrip('\"')"
   ]
  },
  {
   "cell_type": "code",
   "execution_count": 64,
   "id": "7ea6f51e-d7cf-4052-a1e8-72ae6d190d30",
   "metadata": {},
   "outputs": [
    {
     "data": {
      "text/plain": [
       "0            canada\"\n",
       "1               usa\"\n",
       "2               usa\"\n",
       "3               usa\"\n",
       "4                NaN\n",
       "            ...     \n",
       "48294        canada\"\n",
       "48295        canada\"\n",
       "48296           usa\"\n",
       "48297     australia\"\n",
       "48298           usa\"\n",
       "Name: User-Country, Length: 48299, dtype: object"
      ]
     },
     "execution_count": 64,
     "metadata": {},
     "output_type": "execute_result"
    }
   ],
   "source": [
    "users[\"User-Country\"]"
   ]
  },
  {
   "cell_type": "code",
   "execution_count": 65,
   "id": "12942f68-46db-4a42-a514-2ece4c26c026",
   "metadata": {},
   "outputs": [],
   "source": [
    "users[\"User-City\"] = users[\"User-City\"].str.rstrip('\"')\n",
    "users[\"User-State\"] = users[\"User-State\"].str.rstrip('\"')\n",
    "users[\"User-Country\"] = users[\"User-Country\"].str.rstrip('\"')\n",
    "users[\"User-Age\"] = users[\"User-Age\"].str.rstrip('\"')"
   ]
  },
  {
   "cell_type": "code",
   "execution_count": 66,
   "id": "d28a9029-1258-4283-ade7-a5eac2e8ab5e",
   "metadata": {},
   "outputs": [
    {
     "data": {
      "text/html": [
       "<div>\n",
       "<style scoped>\n",
       "    .dataframe tbody tr th:only-of-type {\n",
       "        vertical-align: middle;\n",
       "    }\n",
       "\n",
       "    .dataframe tbody tr th {\n",
       "        vertical-align: top;\n",
       "    }\n",
       "\n",
       "    .dataframe thead th {\n",
       "        text-align: right;\n",
       "    }\n",
       "</style>\n",
       "<table border=\"1\" class=\"dataframe\">\n",
       "  <thead>\n",
       "    <tr style=\"text-align: right;\">\n",
       "      <th></th>\n",
       "      <th>User-ID</th>\n",
       "      <th>User-City</th>\n",
       "      <th>User-State</th>\n",
       "      <th>User-Country</th>\n",
       "      <th>User-Age</th>\n",
       "    </tr>\n",
       "  </thead>\n",
       "  <tbody>\n",
       "    <tr>\n",
       "      <th>0</th>\n",
       "      <td>8</td>\n",
       "      <td>timmins</td>\n",
       "      <td>ontario</td>\n",
       "      <td>canada</td>\n",
       "      <td>NaN</td>\n",
       "    </tr>\n",
       "  </tbody>\n",
       "</table>\n",
       "</div>"
      ],
      "text/plain": [
       "   User-ID User-City User-State User-Country User-Age\n",
       "0        8   timmins    ontario       canada      NaN"
      ]
     },
     "execution_count": 66,
     "metadata": {},
     "output_type": "execute_result"
    }
   ],
   "source": [
    "users.head(1)"
   ]
  },
  {
   "cell_type": "markdown",
   "id": "73e2fc4f-3fa8-4abb-8d14-790e9e5acc76",
   "metadata": {},
   "source": [
    "## User-ID\n",
    "No duplicates"
   ]
  },
  {
   "cell_type": "code",
   "execution_count": 67,
   "id": "34634734-df20-481a-bf24-06740b9d11af",
   "metadata": {},
   "outputs": [
    {
     "data": {
      "text/html": [
       "<div>\n",
       "<style scoped>\n",
       "    .dataframe tbody tr th:only-of-type {\n",
       "        vertical-align: middle;\n",
       "    }\n",
       "\n",
       "    .dataframe tbody tr th {\n",
       "        vertical-align: top;\n",
       "    }\n",
       "\n",
       "    .dataframe thead th {\n",
       "        text-align: right;\n",
       "    }\n",
       "</style>\n",
       "<table border=\"1\" class=\"dataframe\">\n",
       "  <thead>\n",
       "    <tr style=\"text-align: right;\">\n",
       "      <th></th>\n",
       "      <th>User-ID</th>\n",
       "      <th>User-City</th>\n",
       "      <th>User-State</th>\n",
       "      <th>User-Country</th>\n",
       "      <th>User-Age</th>\n",
       "    </tr>\n",
       "  </thead>\n",
       "  <tbody>\n",
       "  </tbody>\n",
       "</table>\n",
       "</div>"
      ],
      "text/plain": [
       "Empty DataFrame\n",
       "Columns: [User-ID, User-City, User-State, User-Country, User-Age]\n",
       "Index: []"
      ]
     },
     "execution_count": 67,
     "metadata": {},
     "output_type": "execute_result"
    }
   ],
   "source": [
    "users[users[\"User-ID\"].duplicated()]"
   ]
  },
  {
   "cell_type": "markdown",
   "id": "75a244e5-b18e-4fcc-9ba4-afb38cf0dc56",
   "metadata": {},
   "source": [
    "## User-City"
   ]
  },
  {
   "cell_type": "code",
   "execution_count": 68,
   "id": "9b14ed27-86e1-4683-94f7-1dab1dc7b357",
   "metadata": {},
   "outputs": [
    {
     "data": {
      "text/plain": [
       "<Axes: xlabel='Count', ylabel='User-City'>"
      ]
     },
     "execution_count": 68,
     "metadata": {},
     "output_type": "execute_result"
    },
    {
     "data": {
      "image/png": "[encoded data removed]",
      "text/plain": [
       "<Figure size 432x288 with 1 Axes>"
      ]
     },
     "metadata": {},
     "output_type": "display_data"
    }
   ],
   "source": [
    "users_city = users.groupby([\"User-City\"])[\"User-ID\"].count() \\\n",
    "    .sort_values(ascending = False).reset_index().rename(columns= {'User-ID':'Count'})\n",
    "\n",
    "sns.barplot(users_city.head(20), x = \"Count\", y = \"User-City\", orient = \"h\")"
   ]
  },
  {
   "cell_type": "code",
   "execution_count": 69,
   "id": "35271c38-f557-4574-8a95-da962bc4a981",
   "metadata": {},
   "outputs": [
    {
     "data": {
      "text/plain": [
       "<Axes: xlabel='Count', ylabel='User-City'>"
      ]
     },
     "execution_count": 69,
     "metadata": {},
     "output_type": "execute_result"
    },
    {
     "data": {
      "image/png": "[encoded data removed]",
      "text/plain": [
       "<Figure size 432x288 with 1 Axes>"
      ]
     },
     "metadata": {},
     "output_type": "display_data"
    }
   ],
   "source": [
    "sns.barplot(users_city.tail(20), x = \"Count\", y = \"User-City\", orient = \"h\")"
   ]
  },
  {
   "cell_type": "markdown",
   "id": "340ef773-9237-4454-b2bd-53ef6ff8bcda",
   "metadata": {},
   "source": [
    "## User-State"
   ]
  },
  {
   "cell_type": "code",
   "execution_count": 70,
   "id": "cffd83bb-a7ff-4770-b2ff-c3b92204978b",
   "metadata": {},
   "outputs": [
    {
     "data": {
      "text/plain": [
       "<Axes: xlabel='Count', ylabel='User-State'>"
      ]
     },
     "execution_count": 70,
     "metadata": {},
     "output_type": "execute_result"
    },
    {
     "data": {
      "image/png": "[encoded data removed]",
      "text/plain": [
       "<Figure size 432x288 with 1 Axes>"
      ]
     },
     "metadata": {},
     "output_type": "display_data"
    }
   ],
   "source": [
    "users_state = users.groupby([\"User-State\"])[\"User-ID\"].count() \\\n",
    "    .sort_values(ascending = False).reset_index().rename(columns= {'User-ID':'Count'})\n",
    "\n",
    "sns.barplot(users_state.head(20), x = \"Count\", y = \"User-State\", orient = \"h\")"
   ]
  },
  {
   "cell_type": "code",
   "execution_count": 71,
   "id": "ba7ff053-a023-4d45-8be6-abdba3e48b17",
   "metadata": {},
   "outputs": [
    {
     "data": {
      "text/plain": [
       "<Axes: xlabel='Count', ylabel='User-State'>"
      ]
     },
     "execution_count": 71,
     "metadata": {},
     "output_type": "execute_result"
    },
    {
     "data": {
      "image/png": "[encoded data removed]",
      "text/plain": [
       "<Figure size 432x288 with 1 Axes>"
      ]
     },
     "metadata": {},
     "output_type": "display_data"
    }
   ],
   "source": [
    "sns.barplot(users_state.tail(20), x = \"Count\", y = \"User-State\", orient = \"h\")"
   ]
  },
  {
   "cell_type": "markdown",
   "id": "ce6ff5c1-1cd3-40e7-98a2-7c75b640700b",
   "metadata": {},
   "source": [
    "## User-Country"
   ]
  },
  {
   "cell_type": "code",
   "execution_count": 72,
   "id": "3a69d25e-260d-4905-a069-8db2ec06a9a8",
   "metadata": {},
   "outputs": [
    {
     "data": {
      "text/plain": [
       "Text(0.5, 1.0, 'Top 10 Countries Users are from')"
      ]
     },
     "execution_count": 72,
     "metadata": {},
     "output_type": "execute_result"
    },
    {
     "data": {
      "image/png": "[encoded data removed]",
      "text/plain": [
       "<Figure size 432x288 with 1 Axes>"
      ]
     },
     "metadata": {},
     "output_type": "display_data"
    }
   ],
   "source": [
    "# dataset is mainly from the usa\n",
    "users_country = users.groupby([\"User-Country\"])[\"User-ID\"].count() \\\n",
    "    .sort_values(ascending = False).reset_index().rename(columns= {'User-ID':'Count'})\n",
    "\n",
    "sns.barplot(users_country.head(10), x = \"Count\", y = \"User-Country\", orient = \"h\")\n",
    "plt.xlabel('Frequency')\n",
    "plt.ylabel('User Country')\n",
    "plt.title('Top 10 Countries Users are from')"
   ]
  },
  {
   "cell_type": "code",
   "execution_count": 73,
   "id": "94804728-a6df-4cb9-b184-60e0b56e0e0b",
   "metadata": {},
   "outputs": [
    {
     "data": {
      "text/plain": [
       "<Axes: xlabel='Count', ylabel='User-Country'>"
      ]
     },
     "execution_count": 73,
     "metadata": {},
     "output_type": "execute_result"
    },
    {
     "data": {
      "image/png": "[encoded data removed]",
      "text/plain": [
       "<Figure size 432x288 with 1 Axes>"
      ]
     },
     "metadata": {},
     "output_type": "display_data"
    }
   ],
   "source": [
    "sns.barplot(users_country.tail(20), x = \"Count\", y = \"User-Country\", orient = \"h\")"
   ]
  },
  {
   "cell_type": "code",
   "execution_count": 74,
   "id": "510677e7-a194-4f0a-bbb3-28718dc1c9da",
   "metadata": {},
   "outputs": [
    {
     "data": {
      "text/plain": [
       "34465"
      ]
     },
     "execution_count": 74,
     "metadata": {},
     "output_type": "execute_result"
    }
   ],
   "source": [
    "# USA users count\n",
    "users_country['Count'][0] "
   ]
  },
  {
   "cell_type": "code",
   "execution_count": 75,
   "id": "d12f266b-f7b9-4927-88b6-6341b83042e4",
   "metadata": {},
   "outputs": [
    {
     "data": {
      "text/plain": [
       "72.36"
      ]
     },
     "execution_count": 75,
     "metadata": {},
     "output_type": "execute_result"
    }
   ],
   "source": [
    "# USA users percentage\n",
    "round(100 * users_country['Count'][0]/users_country['Count'].sum(),2)"
   ]
  },
  {
   "cell_type": "markdown",
   "id": "70c5a07e-0b6f-4048-8d2c-62c3d3f5353e",
   "metadata": {},
   "source": [
    "## User-Age\n",
    "- Ages that are NaN set to -1 and removed for analysis.\n",
    "- Impute mean, based on other features.\n",
    "- Ages above ~100 outliers and less than 5 don't make sense\n",
    "- Average age is 36.2."
   ]
  },
  {
   "cell_type": "code",
   "execution_count": 76,
   "id": "3ada1bbd-5674-43e4-bf7f-0546ba863f44",
   "metadata": {},
   "outputs": [
    {
     "data": {
      "text/plain": [
       "<Axes: xlabel='Count', ylabel='User-Age'>"
      ]
     },
     "execution_count": 76,
     "metadata": {},
     "output_type": "execute_result"
    },
    {
     "data": {
      "image/png": "[encoded data removed]",
      "text/plain": [
       "<Figure size 432x288 with 1 Axes>"
      ]
     },
     "metadata": {},
     "output_type": "display_data"
    }
   ],
   "source": [
    "users_age = users.groupby([\"User-Age\"])[\"User-ID\"].count() \\\n",
    "    .sort_values(ascending = False).reset_index().rename(columns= {'User-ID':'Count'})\n",
    "\n",
    "sns.barplot(users_age.head(30), x = \"Count\", y = \"User-Age\", orient = \"h\")"
   ]
  },
  {
   "cell_type": "code",
   "execution_count": 77,
   "id": "19d5086b-68ce-4101-b32d-70ce05ec7f8b",
   "metadata": {},
   "outputs": [
    {
     "data": {
      "text/plain": [
       "<Axes: xlabel='Count', ylabel='User-Age'>"
      ]
     },
     "execution_count": 77,
     "metadata": {},
     "output_type": "execute_result"
    },
    {
     "data": {
      "image/png": "[encoded data removed]",
      "text/plain": [
       "<Figure size 432x288 with 1 Axes>"
      ]
     },
     "metadata": {},
     "output_type": "display_data"
    }
   ],
   "source": [
    "sns.barplot(users_age.tail(20), x = \"Count\", y = \"User-Age\", orient = \"h\")"
   ]
  },
  {
   "cell_type": "code",
   "execution_count": 78,
   "id": "30db7244-7fe8-414f-89d4-1c158e50905d",
   "metadata": {},
   "outputs": [],
   "source": [
    "users[\"User-Age\"] = users[\"User-Age\"].fillna(-1).astype(int)"
   ]
  },
  {
   "cell_type": "code",
   "execution_count": 79,
   "id": "567f1092-e924-418b-b032-01b65649116d",
   "metadata": {},
   "outputs": [
    {
     "name": "stderr",
     "output_type": "stream",
     "text": [
      "/Users/caseyhaseloff/anaconda3/lib/python3.11/site-packages/seaborn/_oldcore.py:1119: FutureWarning: use_inf_as_na option is deprecated and will be removed in a future version. Convert inf values to NaN before operating instead.\n",
      "  with pd.option_context('mode.use_inf_as_na', True):\n"
     ]
    },
    {
     "data": {
      "text/plain": [
       "Text(0.5, 1.0, 'User Age Distribution with NaN')"
      ]
     },
     "execution_count": 79,
     "metadata": {},
     "output_type": "execute_result"
    },
    {
     "data": {
      "image/png": "[encoded data removed]",
      "text/plain": [
       "<Figure size 432x288 with 1 Axes>"
      ]
     },
     "metadata": {},
     "output_type": "display_data"
    }
   ],
   "source": [
    "sns.histplot(users, x = \"User-Age\")\n",
    "plt.xlabel('User Age')\n",
    "plt.ylabel('Frequency')\n",
    "plt.title('User Age Distribution with NaN')"
   ]
  },
  {
   "cell_type": "code",
   "execution_count": 80,
   "id": "62446297-b8b1-498d-82fa-785971a4f477",
   "metadata": {},
   "outputs": [],
   "source": [
    "users_age = users[users[\"User-Age\"] != -1]"
   ]
  },
  {
   "cell_type": "code",
   "execution_count": 81,
   "id": "0e4bc4c3-e1b0-4494-afbe-db3b1a53dbd4",
   "metadata": {},
   "outputs": [
    {
     "name": "stderr",
     "output_type": "stream",
     "text": [
      "/Users/caseyhaseloff/anaconda3/lib/python3.11/site-packages/seaborn/_oldcore.py:1119: FutureWarning: use_inf_as_na option is deprecated and will be removed in a future version. Convert inf values to NaN before operating instead.\n",
      "  with pd.option_context('mode.use_inf_as_na', True):\n"
     ]
    },
    {
     "data": {
      "text/plain": [
       "Text(0.5, 1.0, 'User Age Distribution without NaN')"
      ]
     },
     "execution_count": 81,
     "metadata": {},
     "output_type": "execute_result"
    },
    {
     "data": {
      "image/png": "[encoded data removed]",
      "text/plain": [
       "<Figure size 432x288 with 1 Axes>"
      ]
     },
     "metadata": {},
     "output_type": "display_data"
    }
   ],
   "source": [
    "sns.histplot(users_age, x = \"User-Age\", bins = 20)\n",
    "plt.xlabel('User Age')\n",
    "plt.ylabel('Frequency')\n",
    "plt.title('User Age Distribution without NaN')"
   ]
  },
  {
   "cell_type": "code",
   "execution_count": 82,
   "id": "07110eab-0e27-43a3-ba5a-115e1043ad1e",
   "metadata": {},
   "outputs": [
    {
     "data": {
      "text/html": [
       "<div>\n",
       "<style scoped>\n",
       "    .dataframe tbody tr th:only-of-type {\n",
       "        vertical-align: middle;\n",
       "    }\n",
       "\n",
       "    .dataframe tbody tr th {\n",
       "        vertical-align: top;\n",
       "    }\n",
       "\n",
       "    .dataframe thead th {\n",
       "        text-align: right;\n",
       "    }\n",
       "</style>\n",
       "<table border=\"1\" class=\"dataframe\">\n",
       "  <thead>\n",
       "    <tr style=\"text-align: right;\">\n",
       "      <th></th>\n",
       "      <th>User-ID</th>\n",
       "      <th>User-Age</th>\n",
       "    </tr>\n",
       "  </thead>\n",
       "  <tbody>\n",
       "    <tr>\n",
       "      <th>count</th>\n",
       "      <td>29347.000000</td>\n",
       "      <td>29347.000000</td>\n",
       "    </tr>\n",
       "    <tr>\n",
       "      <th>mean</th>\n",
       "      <td>139454.265751</td>\n",
       "      <td>36.204178</td>\n",
       "    </tr>\n",
       "    <tr>\n",
       "      <th>std</th>\n",
       "      <td>80448.399162</td>\n",
       "      <td>14.681020</td>\n",
       "    </tr>\n",
       "    <tr>\n",
       "      <th>min</th>\n",
       "      <td>19.000000</td>\n",
       "      <td>0.000000</td>\n",
       "    </tr>\n",
       "    <tr>\n",
       "      <th>25%</th>\n",
       "      <td>69601.000000</td>\n",
       "      <td>26.000000</td>\n",
       "    </tr>\n",
       "    <tr>\n",
       "      <th>50%</th>\n",
       "      <td>138514.000000</td>\n",
       "      <td>34.000000</td>\n",
       "    </tr>\n",
       "    <tr>\n",
       "      <th>75%</th>\n",
       "      <td>209461.000000</td>\n",
       "      <td>45.000000</td>\n",
       "    </tr>\n",
       "    <tr>\n",
       "      <th>max</th>\n",
       "      <td>278852.000000</td>\n",
       "      <td>244.000000</td>\n",
       "    </tr>\n",
       "  </tbody>\n",
       "</table>\n",
       "</div>"
      ],
      "text/plain": [
       "             User-ID      User-Age\n",
       "count   29347.000000  29347.000000\n",
       "mean   139454.265751     36.204178\n",
       "std     80448.399162     14.681020\n",
       "min        19.000000      0.000000\n",
       "25%     69601.000000     26.000000\n",
       "50%    138514.000000     34.000000\n",
       "75%    209461.000000     45.000000\n",
       "max    278852.000000    244.000000"
      ]
     },
     "execution_count": 82,
     "metadata": {},
     "output_type": "execute_result"
    }
   ],
   "source": [
    "users_age.describe()"
   ]
  },
  {
   "cell_type": "code",
   "execution_count": 83,
   "id": "adb8c496-d169-4bac-a2f7-440958b57d5d",
   "metadata": {},
   "outputs": [
    {
     "data": {
      "text/plain": [
       "<Axes: xlabel='User-Age'>"
      ]
     },
     "execution_count": 83,
     "metadata": {},
     "output_type": "execute_result"
    },
    {
     "data": {
      "image/png": "[encoded data removed]",
      "text/plain": [
       "<Figure size 432x288 with 1 Axes>"
      ]
     },
     "metadata": {},
     "output_type": "display_data"
    }
   ],
   "source": [
    "# all ages including nans\n",
    "sns.boxplot(users, x = \"User-Age\")"
   ]
  },
  {
   "cell_type": "code",
   "execution_count": 84,
   "id": "aef1ff58-e073-4da0-857c-e14a25481dba",
   "metadata": {},
   "outputs": [
    {
     "data": {
      "text/plain": [
       "Text(0.5, 1.0, 'Boxplot of Users Age (Age >= 5 and Age <= 100')"
      ]
     },
     "execution_count": 84,
     "metadata": {},
     "output_type": "execute_result"
    },
    {
     "data": {
      "image/png": "[encoded data removed]",
      "text/plain": [
       "<Figure size 432x288 with 1 Axes>"
      ]
     },
     "metadata": {},
     "output_type": "display_data"
    }
   ],
   "source": [
    "# valid age range\n",
    "sns.boxplot(users[(users['User-Age'] >= 5) & (users['User-Age'] <= 100)], x = \"User-Age\")\n",
    "plt.xlabel('User Age')\n",
    "plt.title('Boxplot of Users Age (Age >= 5 and Age <= 100')"
   ]
  },
  {
   "cell_type": "code",
   "execution_count": 85,
   "id": "de28bcb9-2ffc-479d-becc-2603e9ee6e9d",
   "metadata": {},
   "outputs": [
    {
     "data": {
      "text/html": [
       "<div>\n",
       "<style scoped>\n",
       "    .dataframe tbody tr th:only-of-type {\n",
       "        vertical-align: middle;\n",
       "    }\n",
       "\n",
       "    .dataframe tbody tr th {\n",
       "        vertical-align: top;\n",
       "    }\n",
       "\n",
       "    .dataframe thead th {\n",
       "        text-align: right;\n",
       "    }\n",
       "</style>\n",
       "<table border=\"1\" class=\"dataframe\">\n",
       "  <thead>\n",
       "    <tr style=\"text-align: right;\">\n",
       "      <th></th>\n",
       "      <th>User-ID</th>\n",
       "      <th>User-Age</th>\n",
       "    </tr>\n",
       "  </thead>\n",
       "  <tbody>\n",
       "    <tr>\n",
       "      <th>count</th>\n",
       "      <td>29166.000000</td>\n",
       "      <td>29166.000000</td>\n",
       "    </tr>\n",
       "    <tr>\n",
       "      <th>mean</th>\n",
       "      <td>139426.439724</td>\n",
       "      <td>36.168587</td>\n",
       "    </tr>\n",
       "    <tr>\n",
       "      <th>std</th>\n",
       "      <td>80447.358463</td>\n",
       "      <td>13.660521</td>\n",
       "    </tr>\n",
       "    <tr>\n",
       "      <th>min</th>\n",
       "      <td>19.000000</td>\n",
       "      <td>5.000000</td>\n",
       "    </tr>\n",
       "    <tr>\n",
       "      <th>25%</th>\n",
       "      <td>69568.000000</td>\n",
       "      <td>26.000000</td>\n",
       "    </tr>\n",
       "    <tr>\n",
       "      <th>50%</th>\n",
       "      <td>138386.000000</td>\n",
       "      <td>34.000000</td>\n",
       "    </tr>\n",
       "    <tr>\n",
       "      <th>75%</th>\n",
       "      <td>209423.750000</td>\n",
       "      <td>45.000000</td>\n",
       "    </tr>\n",
       "    <tr>\n",
       "      <th>max</th>\n",
       "      <td>278852.000000</td>\n",
       "      <td>100.000000</td>\n",
       "    </tr>\n",
       "  </tbody>\n",
       "</table>\n",
       "</div>"
      ],
      "text/plain": [
       "             User-ID      User-Age\n",
       "count   29166.000000  29166.000000\n",
       "mean   139426.439724     36.168587\n",
       "std     80447.358463     13.660521\n",
       "min        19.000000      5.000000\n",
       "25%     69568.000000     26.000000\n",
       "50%    138386.000000     34.000000\n",
       "75%    209423.750000     45.000000\n",
       "max    278852.000000    100.000000"
      ]
     },
     "execution_count": 85,
     "metadata": {},
     "output_type": "execute_result"
    }
   ],
   "source": [
    "users[(users['User-Age'] >= 5) & (users['User-Age'] <= 100)].describe()\n",
    "# mean = 36.17\n",
    "# sd = 13.66"
   ]
  },
  {
   "cell_type": "code",
   "execution_count": 86,
   "id": "78a354bb-35ad-4beb-9b92-4798cc8e1651",
   "metadata": {},
   "outputs": [
    {
     "name": "stderr",
     "output_type": "stream",
     "text": [
      "/Users/caseyhaseloff/anaconda3/lib/python3.11/site-packages/seaborn/_oldcore.py:1119: FutureWarning: use_inf_as_na option is deprecated and will be removed in a future version. Convert inf values to NaN before operating instead.\n",
      "  with pd.option_context('mode.use_inf_as_na', True):\n"
     ]
    },
    {
     "data": {
      "text/plain": [
       "<Axes: xlabel='User-Age', ylabel='Count'>"
      ]
     },
     "execution_count": 86,
     "metadata": {},
     "output_type": "execute_result"
    },
    {
     "data": {
      "image/png": "[encoded data removed]",
      "text/plain": [
       "<Figure size 432x288 with 1 Axes>"
      ]
     },
     "metadata": {},
     "output_type": "display_data"
    }
   ],
   "source": [
    "# count of users outside age range\n",
    "sns.histplot(users[users[\"User-Age\"] > 100], x = \"User-Age\")"
   ]
  },
  {
   "cell_type": "code",
   "execution_count": 87,
   "id": "e617f7e4-1c52-4e93-b39c-5b44bb5dfe1a",
   "metadata": {
    "scrolled": true
   },
   "outputs": [
    {
     "data": {
      "text/html": [
       "<div>\n",
       "<style scoped>\n",
       "    .dataframe tbody tr th:only-of-type {\n",
       "        vertical-align: middle;\n",
       "    }\n",
       "\n",
       "    .dataframe tbody tr th {\n",
       "        vertical-align: top;\n",
       "    }\n",
       "\n",
       "    .dataframe thead th {\n",
       "        text-align: right;\n",
       "    }\n",
       "</style>\n",
       "<table border=\"1\" class=\"dataframe\">\n",
       "  <thead>\n",
       "    <tr style=\"text-align: right;\">\n",
       "      <th></th>\n",
       "      <th>User-ID</th>\n",
       "      <th>User-City</th>\n",
       "      <th>User-State</th>\n",
       "      <th>User-Country</th>\n",
       "      <th>User-Age</th>\n",
       "    </tr>\n",
       "  </thead>\n",
       "  <tbody>\n",
       "    <tr>\n",
       "      <th>591</th>\n",
       "      <td>3437</td>\n",
       "      <td>honolulu</td>\n",
       "      <td>hawaii</td>\n",
       "      <td>usa</td>\n",
       "      <td>103</td>\n",
       "    </tr>\n",
       "    <tr>\n",
       "      <th>1483</th>\n",
       "      <td>8782</td>\n",
       "      <td>calgary</td>\n",
       "      <td>alberta</td>\n",
       "      <td>canada</td>\n",
       "      <td>239</td>\n",
       "    </tr>\n",
       "    <tr>\n",
       "      <th>2056</th>\n",
       "      <td>12692</td>\n",
       "      <td>jacksonville</td>\n",
       "      <td>florida</td>\n",
       "      <td>usa</td>\n",
       "      <td>151</td>\n",
       "    </tr>\n",
       "    <tr>\n",
       "      <th>2158</th>\n",
       "      <td>13273</td>\n",
       "      <td>harrisburg</td>\n",
       "      <td>pennsylvania</td>\n",
       "      <td>usa</td>\n",
       "      <td>201</td>\n",
       "    </tr>\n",
       "    <tr>\n",
       "      <th>2233</th>\n",
       "      <td>13801</td>\n",
       "      <td>burlington</td>\n",
       "      <td>ontario</td>\n",
       "      <td>canada</td>\n",
       "      <td>104</td>\n",
       "    </tr>\n",
       "    <tr>\n",
       "      <th>3368</th>\n",
       "      <td>20857</td>\n",
       "      <td>stuttgart</td>\n",
       "      <td>baden-wuerttemberg</td>\n",
       "      <td>germany</td>\n",
       "      <td>244</td>\n",
       "    </tr>\n",
       "    <tr>\n",
       "      <th>4319</th>\n",
       "      <td>26083</td>\n",
       "      <td>leipzig</td>\n",
       "      <td>sachsen</td>\n",
       "      <td>NaN</td>\n",
       "      <td>104</td>\n",
       "    </tr>\n",
       "    <tr>\n",
       "      <th>4682</th>\n",
       "      <td>28091</td>\n",
       "      <td>fort collins</td>\n",
       "      <td>colorado</td>\n",
       "      <td>usa</td>\n",
       "      <td>128</td>\n",
       "    </tr>\n",
       "    <tr>\n",
       "      <th>5145</th>\n",
       "      <td>30590</td>\n",
       "      <td>cambridge</td>\n",
       "      <td>cambridgeshire</td>\n",
       "      <td>united kingdom</td>\n",
       "      <td>141</td>\n",
       "    </tr>\n",
       "    <tr>\n",
       "      <th>5595</th>\n",
       "      <td>32642</td>\n",
       "      <td>boston</td>\n",
       "      <td>massachusetts</td>\n",
       "      <td>usa</td>\n",
       "      <td>103</td>\n",
       "    </tr>\n",
       "  </tbody>\n",
       "</table>\n",
       "</div>"
      ],
      "text/plain": [
       "      User-ID     User-City           User-State     User-Country  User-Age\n",
       "591      3437      honolulu               hawaii              usa       103\n",
       "1483     8782       calgary              alberta           canada       239\n",
       "2056    12692  jacksonville              florida              usa       151\n",
       "2158    13273    harrisburg         pennsylvania              usa       201\n",
       "2233    13801    burlington              ontario           canada       104\n",
       "3368    20857     stuttgart   baden-wuerttemberg          germany       244\n",
       "4319    26083       leipzig              sachsen              NaN       104\n",
       "4682    28091  fort collins             colorado              usa       128\n",
       "5145    30590     cambridge       cambridgeshire   united kingdom       141\n",
       "5595    32642        boston        massachusetts              usa       103"
      ]
     },
     "execution_count": 87,
     "metadata": {},
     "output_type": "execute_result"
    }
   ],
   "source": [
    "users[users[\"User-Age\"] > 95].head(10)"
   ]
  },
  {
   "cell_type": "markdown",
   "id": "6a138f04-6fc8-4f6a-affe-f095d209386a",
   "metadata": {},
   "source": [
    "## BX-ratings\n",
    "No Nulls\n",
    "\n"
   ]
  },
  {
   "cell_type": "code",
   "execution_count": 88,
   "id": "e2060459-b3a5-4041-b879-c14132fc0b92",
   "metadata": {},
   "outputs": [],
   "source": [
    "ratings = pd.read_csv(path + \"raw/BX-Ratings.csv\")\n",
    "ratings.columns\n",
    "\n",
    "ratings[\"User-ID\"] = ratings[\"User-ID\"].astype(str)"
   ]
  },
  {
   "cell_type": "code",
   "execution_count": 89,
   "id": "e5210218-ee54-4448-b628-3693bd76ca25",
   "metadata": {},
   "outputs": [
    {
     "data": {
      "text/html": [
       "<div>\n",
       "<style scoped>\n",
       "    .dataframe tbody tr th:only-of-type {\n",
       "        vertical-align: middle;\n",
       "    }\n",
       "\n",
       "    .dataframe tbody tr th {\n",
       "        vertical-align: top;\n",
       "    }\n",
       "\n",
       "    .dataframe thead th {\n",
       "        text-align: right;\n",
       "    }\n",
       "</style>\n",
       "<table border=\"1\" class=\"dataframe\">\n",
       "  <thead>\n",
       "    <tr style=\"text-align: right;\">\n",
       "      <th></th>\n",
       "      <th>User-ID</th>\n",
       "      <th>ISBN</th>\n",
       "      <th>Book-Rating</th>\n",
       "    </tr>\n",
       "  </thead>\n",
       "  <tbody>\n",
       "    <tr>\n",
       "      <th>0</th>\n",
       "      <td>276744</td>\n",
       "      <td>038550120X</td>\n",
       "      <td>7</td>\n",
       "    </tr>\n",
       "    <tr>\n",
       "      <th>1</th>\n",
       "      <td>276754</td>\n",
       "      <td>0684867621</td>\n",
       "      <td>8</td>\n",
       "    </tr>\n",
       "    <tr>\n",
       "      <th>2</th>\n",
       "      <td>276755</td>\n",
       "      <td>0451166892</td>\n",
       "      <td>5</td>\n",
       "    </tr>\n",
       "    <tr>\n",
       "      <th>3</th>\n",
       "      <td>276762</td>\n",
       "      <td>0380711524</td>\n",
       "      <td>5</td>\n",
       "    </tr>\n",
       "    <tr>\n",
       "      <th>4</th>\n",
       "      <td>276772</td>\n",
       "      <td>0553572369</td>\n",
       "      <td>7</td>\n",
       "    </tr>\n",
       "  </tbody>\n",
       "</table>\n",
       "</div>"
      ],
      "text/plain": [
       "  User-ID        ISBN  Book-Rating\n",
       "0  276744  038550120X            7\n",
       "1  276754  0684867621            8\n",
       "2  276755  0451166892            5\n",
       "3  276762  0380711524            5\n",
       "4  276772  0553572369            7"
      ]
     },
     "execution_count": 89,
     "metadata": {},
     "output_type": "execute_result"
    }
   ],
   "source": [
    "ratings.head(5)"
   ]
  },
  {
   "cell_type": "code",
   "execution_count": 90,
   "id": "44f003a2-222a-4e58-82d5-ce4928f08887",
   "metadata": {},
   "outputs": [
    {
     "data": {
      "text/plain": [
       "User-ID        object\n",
       "ISBN           object\n",
       "Book-Rating     int64\n",
       "dtype: object"
      ]
     },
     "execution_count": 90,
     "metadata": {},
     "output_type": "execute_result"
    }
   ],
   "source": [
    "ratings.dtypes"
   ]
  },
  {
   "cell_type": "code",
   "execution_count": 91,
   "id": "85d6e820-2c00-475d-aef1-eb412e1046cd",
   "metadata": {},
   "outputs": [
    {
     "data": {
      "text/plain": [
       "User-ID        0\n",
       "ISBN           0\n",
       "Book-Rating    0\n",
       "dtype: int64"
      ]
     },
     "execution_count": 91,
     "metadata": {},
     "output_type": "execute_result"
    }
   ],
   "source": [
    "ratings.isna().sum()"
   ]
  },
  {
   "cell_type": "code",
   "execution_count": 92,
   "id": "59ba1294-f21b-4dbc-b56a-764d63c67149",
   "metadata": {},
   "outputs": [
    {
     "data": {
      "text/html": [
       "<div>\n",
       "<style scoped>\n",
       "    .dataframe tbody tr th:only-of-type {\n",
       "        vertical-align: middle;\n",
       "    }\n",
       "\n",
       "    .dataframe tbody tr th {\n",
       "        vertical-align: top;\n",
       "    }\n",
       "\n",
       "    .dataframe thead th {\n",
       "        text-align: right;\n",
       "    }\n",
       "</style>\n",
       "<table border=\"1\" class=\"dataframe\">\n",
       "  <thead>\n",
       "    <tr style=\"text-align: right;\">\n",
       "      <th></th>\n",
       "      <th>Book-Rating</th>\n",
       "    </tr>\n",
       "  </thead>\n",
       "  <tbody>\n",
       "    <tr>\n",
       "      <th>count</th>\n",
       "      <td>204164.000000</td>\n",
       "    </tr>\n",
       "    <tr>\n",
       "      <th>mean</th>\n",
       "      <td>7.719676</td>\n",
       "    </tr>\n",
       "    <tr>\n",
       "      <th>std</th>\n",
       "      <td>1.791132</td>\n",
       "    </tr>\n",
       "    <tr>\n",
       "      <th>min</th>\n",
       "      <td>1.000000</td>\n",
       "    </tr>\n",
       "    <tr>\n",
       "      <th>25%</th>\n",
       "      <td>7.000000</td>\n",
       "    </tr>\n",
       "    <tr>\n",
       "      <th>50%</th>\n",
       "      <td>8.000000</td>\n",
       "    </tr>\n",
       "    <tr>\n",
       "      <th>75%</th>\n",
       "      <td>9.000000</td>\n",
       "    </tr>\n",
       "    <tr>\n",
       "      <th>max</th>\n",
       "      <td>10.000000</td>\n",
       "    </tr>\n",
       "  </tbody>\n",
       "</table>\n",
       "</div>"
      ],
      "text/plain": [
       "         Book-Rating\n",
       "count  204164.000000\n",
       "mean        7.719676\n",
       "std         1.791132\n",
       "min         1.000000\n",
       "25%         7.000000\n",
       "50%         8.000000\n",
       "75%         9.000000\n",
       "max        10.000000"
      ]
     },
     "execution_count": 92,
     "metadata": {},
     "output_type": "execute_result"
    }
   ],
   "source": [
    "ratings.describe()"
   ]
  },
  {
   "cell_type": "code",
   "execution_count": 93,
   "id": "24cd712e-446f-41a6-8b65-ac6f524e865e",
   "metadata": {},
   "outputs": [],
   "source": [
    "ratings_tmp = ratings.copy()\n",
    "ratings_tmp['Book-Rating'] = ratings_tmp['Book-Rating']\n",
    "ratings_tmp = ratings_tmp.groupby('Book-Rating')['ISBN'].count().reset_index()"
   ]
  },
  {
   "cell_type": "code",
   "execution_count": 94,
   "id": "225907ea-8dc4-49ba-93d2-7c09d873f738",
   "metadata": {},
   "outputs": [],
   "source": [
    "ratings_tmp['Book-Rating'] = ratings_tmp['Book-Rating'].astype(str)"
   ]
  },
  {
   "cell_type": "code",
   "execution_count": 95,
   "id": "851c48d6-f8b0-4877-aa22-2d3bd4b2ef2c",
   "metadata": {},
   "outputs": [
    {
     "data": {
      "text/plain": [
       "Text(0.5, 1.0, 'Distribution of Book Ratings')"
      ]
     },
     "execution_count": 95,
     "metadata": {},
     "output_type": "execute_result"
    },
    {
     "data": {
      "image/png": "[encoded data removed]",
      "text/plain": [
       "<Figure size 432x288 with 1 Axes>"
      ]
     },
     "metadata": {},
     "output_type": "display_data"
    }
   ],
   "source": [
    "sns.barplot(ratings_tmp, y = \"ISBN\", x = 'Book-Rating')\n",
    "plt.xlabel('Book Rating')\n",
    "plt.ylabel('Frequency')\n",
    "plt.title('Distribution of Book Ratings')"
   ]
  },
  {
   "cell_type": "code",
   "execution_count": 96,
   "id": "2f1b9c0b-142e-4364-a680-60c33650148c",
   "metadata": {},
   "outputs": [
    {
     "data": {
      "text/plain": [
       "<Axes: xlabel='Book-Rating'>"
      ]
     },
     "execution_count": 96,
     "metadata": {},
     "output_type": "execute_result"
    },
    {
     "data": {
      "image/png": "[encoded data removed]",
      "text/plain": [
       "<Figure size 432x288 with 1 Axes>"
      ]
     },
     "metadata": {},
     "output_type": "display_data"
    }
   ],
   "source": [
    "# distribution of ratings\n",
    "sns.boxplot(ratings, x = \"Book-Rating\")"
   ]
  },
  {
   "cell_type": "code",
   "execution_count": 97,
   "id": "bf2d4175-2583-4857-abec-02e7b30d1e63",
   "metadata": {},
   "outputs": [
    {
     "data": {
      "text/html": [
       "<div>\n",
       "<style scoped>\n",
       "    .dataframe tbody tr th:only-of-type {\n",
       "        vertical-align: middle;\n",
       "    }\n",
       "\n",
       "    .dataframe tbody tr th {\n",
       "        vertical-align: top;\n",
       "    }\n",
       "\n",
       "    .dataframe thead th {\n",
       "        text-align: right;\n",
       "    }\n",
       "</style>\n",
       "<table border=\"1\" class=\"dataframe\">\n",
       "  <thead>\n",
       "    <tr style=\"text-align: right;\">\n",
       "      <th></th>\n",
       "      <th>User-ID</th>\n",
       "      <th>Count</th>\n",
       "    </tr>\n",
       "  </thead>\n",
       "  <tbody>\n",
       "    <tr>\n",
       "      <th>0</th>\n",
       "      <td>100002</td>\n",
       "      <td>1</td>\n",
       "    </tr>\n",
       "    <tr>\n",
       "      <th>28015</th>\n",
       "      <td>245668</td>\n",
       "      <td>1</td>\n",
       "    </tr>\n",
       "    <tr>\n",
       "      <th>28010</th>\n",
       "      <td>245652</td>\n",
       "      <td>1</td>\n",
       "    </tr>\n",
       "    <tr>\n",
       "      <th>28006</th>\n",
       "      <td>24562</td>\n",
       "      <td>1</td>\n",
       "    </tr>\n",
       "    <tr>\n",
       "      <th>28004</th>\n",
       "      <td>245610</td>\n",
       "      <td>1</td>\n",
       "    </tr>\n",
       "    <tr>\n",
       "      <th>...</th>\n",
       "      <td>...</td>\n",
       "      <td>...</td>\n",
       "    </tr>\n",
       "    <tr>\n",
       "      <th>2687</th>\n",
       "      <td>114368</td>\n",
       "      <td>432</td>\n",
       "    </tr>\n",
       "    <tr>\n",
       "      <th>12967</th>\n",
       "      <td>16795</td>\n",
       "      <td>516</td>\n",
       "    </tr>\n",
       "    <tr>\n",
       "      <th>10377</th>\n",
       "      <td>153662</td>\n",
       "      <td>603</td>\n",
       "    </tr>\n",
       "    <tr>\n",
       "      <th>47994</th>\n",
       "      <td>98391</td>\n",
       "      <td>1174</td>\n",
       "    </tr>\n",
       "    <tr>\n",
       "      <th>3211</th>\n",
       "      <td>11676</td>\n",
       "      <td>3598</td>\n",
       "    </tr>\n",
       "  </tbody>\n",
       "</table>\n",
       "<p>48299 rows × 2 columns</p>\n",
       "</div>"
      ],
      "text/plain": [
       "      User-ID  Count\n",
       "0      100002      1\n",
       "28015  245668      1\n",
       "28010  245652      1\n",
       "28006   24562      1\n",
       "28004  245610      1\n",
       "...       ...    ...\n",
       "2687   114368    432\n",
       "12967   16795    516\n",
       "10377  153662    603\n",
       "47994   98391   1174\n",
       "3211    11676   3598\n",
       "\n",
       "[48299 rows x 2 columns]"
      ]
     },
     "execution_count": 97,
     "metadata": {},
     "output_type": "execute_result"
    }
   ],
   "source": [
    "ratings.groupby(\"User-ID\")[\"ISBN\"].count().reset_index().rename(columns = {\"ISBN\":\"Count\"}).sort_values(\"Count\")"
   ]
  },
  {
   "cell_type": "code",
   "execution_count": 98,
   "id": "987c3d35-4d37-4860-90f7-3ef356176e1e",
   "metadata": {},
   "outputs": [
    {
     "data": {
      "text/plain": [
       "<Axes: xlabel='Count', ylabel='User-ID'>"
      ]
     },
     "execution_count": 98,
     "metadata": {},
     "output_type": "execute_result"
    },
    {
     "data": {
      "image/png": "[encoded data removed]",
      "text/plain": [
       "<Figure size 432x288 with 1 Axes>"
      ]
     },
     "metadata": {},
     "output_type": "display_data"
    }
   ],
   "source": [
    "# some users are very active in reviewing books\n",
    "ratings_users = ratings.groupby([\"User-ID\"])[\"ISBN\"].count() \\\n",
    "    .reset_index().rename(columns= {'ISBN':'Count'}).sort_values(by = \"Count\",ascending = False)\n",
    "\n",
    "sns.barplot(ratings_users.head(10), x = \"Count\", y = \"User-ID\", orient = \"h\")"
   ]
  },
  {
   "cell_type": "code",
   "execution_count": 99,
   "id": "5e8d21df-bd10-40f1-a844-b4e75be637a7",
   "metadata": {},
   "outputs": [
    {
     "data": {
      "text/plain": [
       "<Axes: xlabel='Count', ylabel='User-ID'>"
      ]
     },
     "execution_count": 99,
     "metadata": {},
     "output_type": "execute_result"
    },
    {
     "data": {
      "image/png": "[encoded data removed]",
      "text/plain": [
       "<Figure size 432x288 with 1 Axes>"
      ]
     },
     "metadata": {},
     "output_type": "display_data"
    }
   ],
   "source": [
    "sns.barplot(ratings_users.tail(10), x = \"Count\", y = \"User-ID\", orient = \"h\")"
   ]
  },
  {
   "cell_type": "code",
   "execution_count": 100,
   "id": "67ed3176-7c84-444e-866b-086aad05a642",
   "metadata": {},
   "outputs": [
    {
     "data": {
      "text/html": [
       "<div>\n",
       "<style scoped>\n",
       "    .dataframe tbody tr th:only-of-type {\n",
       "        vertical-align: middle;\n",
       "    }\n",
       "\n",
       "    .dataframe tbody tr th {\n",
       "        vertical-align: top;\n",
       "    }\n",
       "\n",
       "    .dataframe thead th {\n",
       "        text-align: right;\n",
       "    }\n",
       "</style>\n",
       "<table border=\"1\" class=\"dataframe\">\n",
       "  <thead>\n",
       "    <tr style=\"text-align: right;\">\n",
       "      <th></th>\n",
       "      <th>User-ID</th>\n",
       "      <th>Average</th>\n",
       "    </tr>\n",
       "  </thead>\n",
       "  <tbody>\n",
       "    <tr>\n",
       "      <th>21853</th>\n",
       "      <td>21468</td>\n",
       "      <td>10.0</td>\n",
       "    </tr>\n",
       "    <tr>\n",
       "      <th>5720</th>\n",
       "      <td>12972</td>\n",
       "      <td>10.0</td>\n",
       "    </tr>\n",
       "    <tr>\n",
       "      <th>45594</th>\n",
       "      <td>85549</td>\n",
       "      <td>10.0</td>\n",
       "    </tr>\n",
       "    <tr>\n",
       "      <th>45593</th>\n",
       "      <td>85540</td>\n",
       "      <td>10.0</td>\n",
       "    </tr>\n",
       "    <tr>\n",
       "      <th>25633</th>\n",
       "      <td>234016</td>\n",
       "      <td>10.0</td>\n",
       "    </tr>\n",
       "  </tbody>\n",
       "</table>\n",
       "</div>"
      ],
      "text/plain": [
       "      User-ID  Average\n",
       "21853   21468     10.0\n",
       "5720    12972     10.0\n",
       "45594   85549     10.0\n",
       "45593   85540     10.0\n",
       "25633  234016     10.0"
      ]
     },
     "execution_count": 100,
     "metadata": {},
     "output_type": "execute_result"
    }
   ],
   "source": [
    "ratings_user_average = ratings.groupby([\"User-ID\"])[\"Book-Rating\"].mean() \\\n",
    "     .reset_index().rename(columns= {'Book-Rating':'Average'}).sort_values(by = \"Average\",ascending = False)\n",
    "ratings_user_average.head()"
   ]
  },
  {
   "cell_type": "code",
   "execution_count": 101,
   "id": "22ee2fde-727f-49f1-b510-8422f01771d5",
   "metadata": {},
   "outputs": [
    {
     "data": {
      "text/html": [
       "<div>\n",
       "<style scoped>\n",
       "    .dataframe tbody tr th:only-of-type {\n",
       "        vertical-align: middle;\n",
       "    }\n",
       "\n",
       "    .dataframe tbody tr th {\n",
       "        vertical-align: top;\n",
       "    }\n",
       "\n",
       "    .dataframe thead th {\n",
       "        text-align: right;\n",
       "    }\n",
       "</style>\n",
       "<table border=\"1\" class=\"dataframe\">\n",
       "  <thead>\n",
       "    <tr style=\"text-align: right;\">\n",
       "      <th></th>\n",
       "      <th>User-ID</th>\n",
       "      <th>Average</th>\n",
       "    </tr>\n",
       "  </thead>\n",
       "  <tbody>\n",
       "    <tr>\n",
       "      <th>21853</th>\n",
       "      <td>21468</td>\n",
       "      <td>10.0</td>\n",
       "    </tr>\n",
       "    <tr>\n",
       "      <th>5720</th>\n",
       "      <td>12972</td>\n",
       "      <td>10.0</td>\n",
       "    </tr>\n",
       "    <tr>\n",
       "      <th>45594</th>\n",
       "      <td>85549</td>\n",
       "      <td>10.0</td>\n",
       "    </tr>\n",
       "    <tr>\n",
       "      <th>45593</th>\n",
       "      <td>85540</td>\n",
       "      <td>10.0</td>\n",
       "    </tr>\n",
       "    <tr>\n",
       "      <th>25633</th>\n",
       "      <td>234016</td>\n",
       "      <td>10.0</td>\n",
       "    </tr>\n",
       "  </tbody>\n",
       "</table>\n",
       "</div>"
      ],
      "text/plain": [
       "      User-ID  Average\n",
       "21853   21468     10.0\n",
       "5720    12972     10.0\n",
       "45594   85549     10.0\n",
       "45593   85540     10.0\n",
       "25633  234016     10.0"
      ]
     },
     "execution_count": 101,
     "metadata": {},
     "output_type": "execute_result"
    }
   ],
   "source": [
    "ratings_user_average = ratings.groupby([\"User-ID\"])[\"Book-Rating\"].mean() \\\n",
    "     .reset_index().rename(columns= {'Book-Rating':'Average'}).sort_values(by = \"Average\",ascending = False)\n",
    "ratings_user_average.head()"
   ]
  },
  {
   "cell_type": "markdown",
   "id": "b56dc8f3-4b57-4758-855a-bf5f2df9efdd",
   "metadata": {},
   "source": [
    "### Merge ratings with BX-Books to see titles"
   ]
  },
  {
   "cell_type": "code",
   "execution_count": 102,
   "id": "9e45e3e4-5dfb-456f-9e57-06f3179cb8b2",
   "metadata": {},
   "outputs": [],
   "source": [
    "ratings = ratings.merge(books)"
   ]
  },
  {
   "cell_type": "code",
   "execution_count": 103,
   "id": "8f2d3521-13d0-403b-860d-bb0ec0c3a06f",
   "metadata": {},
   "outputs": [
    {
     "data": {
      "text/html": [
       "<div>\n",
       "<style scoped>\n",
       "    .dataframe tbody tr th:only-of-type {\n",
       "        vertical-align: middle;\n",
       "    }\n",
       "\n",
       "    .dataframe tbody tr th {\n",
       "        vertical-align: top;\n",
       "    }\n",
       "\n",
       "    .dataframe thead th {\n",
       "        text-align: right;\n",
       "    }\n",
       "</style>\n",
       "<table border=\"1\" class=\"dataframe\">\n",
       "  <thead>\n",
       "    <tr style=\"text-align: right;\">\n",
       "      <th></th>\n",
       "      <th>ISBN</th>\n",
       "      <th>Book-Title</th>\n",
       "      <th>average_rating</th>\n",
       "      <th>times_reviewed</th>\n",
       "    </tr>\n",
       "  </thead>\n",
       "  <tbody>\n",
       "    <tr>\n",
       "      <th>342</th>\n",
       "      <td>0060280034</td>\n",
       "      <td>Dinotopia: A Land Apart from Time (Dinotopia)</td>\n",
       "      <td>10.0</td>\n",
       "      <td>4</td>\n",
       "    </tr>\n",
       "    <tr>\n",
       "      <th>345</th>\n",
       "      <td>0060281375</td>\n",
       "      <td>The Complete Chronicles of Narnia</td>\n",
       "      <td>10.0</td>\n",
       "      <td>4</td>\n",
       "    </tr>\n",
       "    <tr>\n",
       "      <th>1156</th>\n",
       "      <td>006440546X</td>\n",
       "      <td>Betsy and Joe (Betsy &amp; Tacy)</td>\n",
       "      <td>10.0</td>\n",
       "      <td>4</td>\n",
       "    </tr>\n",
       "    <tr>\n",
       "      <th>1759</th>\n",
       "      <td>0140431683</td>\n",
       "      <td>Heart of Darkness (English Library)</td>\n",
       "      <td>10.0</td>\n",
       "      <td>4</td>\n",
       "    </tr>\n",
       "    <tr>\n",
       "      <th>1823</th>\n",
       "      <td>0140501711</td>\n",
       "      <td>Make Way for Ducklings (Picture Puffins)</td>\n",
       "      <td>10.0</td>\n",
       "      <td>4</td>\n",
       "    </tr>\n",
       "    <tr>\n",
       "      <th>2035</th>\n",
       "      <td>0152047379</td>\n",
       "      <td>The Borrowers</td>\n",
       "      <td>10.0</td>\n",
       "      <td>4</td>\n",
       "    </tr>\n",
       "    <tr>\n",
       "      <th>3401</th>\n",
       "      <td>0345368983</td>\n",
       "      <td>The Chronicles of Pern: First Fall (The Dragon...</td>\n",
       "      <td>10.0</td>\n",
       "      <td>4</td>\n",
       "    </tr>\n",
       "    <tr>\n",
       "      <th>4576</th>\n",
       "      <td>0375727191</td>\n",
       "      <td>The Laramie Project (Vintage Originals)</td>\n",
       "      <td>10.0</td>\n",
       "      <td>4</td>\n",
       "    </tr>\n",
       "    <tr>\n",
       "      <th>5796</th>\n",
       "      <td>0393048470</td>\n",
       "      <td>The Annotated Alice: The Definitive Edition</td>\n",
       "      <td>10.0</td>\n",
       "      <td>4</td>\n",
       "    </tr>\n",
       "    <tr>\n",
       "      <th>5981</th>\n",
       "      <td>0394829204</td>\n",
       "      <td>There's a Wocket in My Pocket!</td>\n",
       "      <td>10.0</td>\n",
       "      <td>4</td>\n",
       "    </tr>\n",
       "    <tr>\n",
       "      <th>5984</th>\n",
       "      <td>039483609X</td>\n",
       "      <td>The Black Stallion-Pa (Black Stallion (Paperba...</td>\n",
       "      <td>10.0</td>\n",
       "      <td>4</td>\n",
       "    </tr>\n",
       "    <tr>\n",
       "      <th>6030</th>\n",
       "      <td>039548930X</td>\n",
       "      <td>The Return of the King (The Lord of the Rings,...</td>\n",
       "      <td>10.0</td>\n",
       "      <td>4</td>\n",
       "    </tr>\n",
       "    <tr>\n",
       "      <th>6888</th>\n",
       "      <td>0439042445</td>\n",
       "      <td>I Spy Treasure Hunt: A Book of Picture Riddles...</td>\n",
       "      <td>10.0</td>\n",
       "      <td>4</td>\n",
       "    </tr>\n",
       "    <tr>\n",
       "      <th>8664</th>\n",
       "      <td>0451133196</td>\n",
       "      <td>Fountainhead</td>\n",
       "      <td>10.0</td>\n",
       "      <td>4</td>\n",
       "    </tr>\n",
       "    <tr>\n",
       "      <th>9199</th>\n",
       "      <td>0451458206</td>\n",
       "      <td>Tamsin</td>\n",
       "      <td>10.0</td>\n",
       "      <td>4</td>\n",
       "    </tr>\n",
       "    <tr>\n",
       "      <th>9516</th>\n",
       "      <td>0486270661</td>\n",
       "      <td>The Trial and Death of Socrates : Four Dialogu...</td>\n",
       "      <td>10.0</td>\n",
       "      <td>4</td>\n",
       "    </tr>\n",
       "    <tr>\n",
       "      <th>11135</th>\n",
       "      <td>0571105580</td>\n",
       "      <td>The Illustrated Old Possum's Book of Practical...</td>\n",
       "      <td>10.0</td>\n",
       "      <td>4</td>\n",
       "    </tr>\n",
       "    <tr>\n",
       "      <th>11264</th>\n",
       "      <td>059044168X</td>\n",
       "      <td>Yukon Ho</td>\n",
       "      <td>10.0</td>\n",
       "      <td>4</td>\n",
       "    </tr>\n",
       "    <tr>\n",
       "      <th>11918</th>\n",
       "      <td>0671041657</td>\n",
       "      <td>Whispers from the Past</td>\n",
       "      <td>10.0</td>\n",
       "      <td>4</td>\n",
       "    </tr>\n",
       "    <tr>\n",
       "      <th>12111</th>\n",
       "      <td>0671600613</td>\n",
       "      <td>WOUNDED SKY</td>\n",
       "      <td>10.0</td>\n",
       "      <td>4</td>\n",
       "    </tr>\n",
       "  </tbody>\n",
       "</table>\n",
       "</div>"
      ],
      "text/plain": [
       "             ISBN  ... times_reviewed\n",
       "342    0060280034  ...              4\n",
       "345    0060281375  ...              4\n",
       "1156   006440546X  ...              4\n",
       "1759   0140431683  ...              4\n",
       "1823   0140501711  ...              4\n",
       "2035   0152047379  ...              4\n",
       "3401   0345368983  ...              4\n",
       "4576   0375727191  ...              4\n",
       "5796   0393048470  ...              4\n",
       "5981   0394829204  ...              4\n",
       "5984   039483609X  ...              4\n",
       "6030   039548930X  ...              4\n",
       "6888   0439042445  ...              4\n",
       "8664   0451133196  ...              4\n",
       "9199   0451458206  ...              4\n",
       "9516   0486270661  ...              4\n",
       "11135  0571105580  ...              4\n",
       "11264  059044168X  ...              4\n",
       "11918  0671041657  ...              4\n",
       "12111  0671600613  ...              4\n",
       "\n",
       "[20 rows x 4 columns]"
      ]
     },
     "execution_count": 103,
     "metadata": {},
     "output_type": "execute_result"
    }
   ],
   "source": [
    "ratings_book = ratings.groupby([\"ISBN\",\"Book-Title\"]).agg(average_rating = (\"Book-Rating\",\"mean\"),\n",
    "                                                   times_reviewed = (\"Book-Rating\",\"count\")). \\\n",
    "            reset_index().sort_values([\"average_rating\", \"times_reviewed\"], ascending = [False, True])\n",
    "ratings_book.head(20)"
   ]
  },
  {
   "cell_type": "code",
   "execution_count": 104,
   "id": "69e1489a-1ca2-47d3-b26a-97249151eba4",
   "metadata": {},
   "outputs": [
    {
     "name": "stderr",
     "output_type": "stream",
     "text": [
      "/Users/caseyhaseloff/anaconda3/lib/python3.11/site-packages/seaborn/_oldcore.py:1119: FutureWarning: use_inf_as_na option is deprecated and will be removed in a future version. Convert inf values to NaN before operating instead.\n",
      "  with pd.option_context('mode.use_inf_as_na', True):\n"
     ]
    },
    {
     "data": {
      "text/plain": [
       "<Axes: xlabel='times_reviewed', ylabel='Count'>"
      ]
     },
     "execution_count": 104,
     "metadata": {},
     "output_type": "execute_result"
    },
    {
     "data": {
      "image/png": "[encoded data removed]",
      "text/plain": [
       "<Figure size 432x288 with 1 Axes>"
      ]
     },
     "metadata": {},
     "output_type": "display_data"
    }
   ],
   "source": [
    "# distribution of times books reviewed \n",
    "sns.histplot(ratings_book, x = 'times_reviewed')"
   ]
  },
  {
   "cell_type": "code",
   "execution_count": 105,
   "id": "1ef6310d-df28-4639-a19f-50201244c080",
   "metadata": {},
   "outputs": [],
   "source": [
    "q = np.quantile(list(ratings_book[\"times_reviewed\"]), 0.995)"
   ]
  },
  {
   "cell_type": "code",
   "execution_count": 106,
   "id": "1ca61d4e-345a-4541-a8f2-49154d936b49",
   "metadata": {},
   "outputs": [
    {
     "data": {
      "text/html": [
       "<div>\n",
       "<style scoped>\n",
       "    .dataframe tbody tr th:only-of-type {\n",
       "        vertical-align: middle;\n",
       "    }\n",
       "\n",
       "    .dataframe tbody tr th {\n",
       "        vertical-align: top;\n",
       "    }\n",
       "\n",
       "    .dataframe thead th {\n",
       "        text-align: right;\n",
       "    }\n",
       "</style>\n",
       "<table border=\"1\" class=\"dataframe\">\n",
       "  <thead>\n",
       "    <tr style=\"text-align: right;\">\n",
       "      <th></th>\n",
       "      <th>ISBN</th>\n",
       "      <th>Book-Title</th>\n",
       "      <th>average_rating</th>\n",
       "      <th>times_reviewed</th>\n",
       "    </tr>\n",
       "  </thead>\n",
       "  <tbody>\n",
       "    <tr>\n",
       "      <th>6911</th>\n",
       "      <td>0439139597</td>\n",
       "      <td>Harry Potter and the Goblet of Fire (Book 4)</td>\n",
       "      <td>9.311111</td>\n",
       "      <td>135</td>\n",
       "    </tr>\n",
       "    <tr>\n",
       "      <th>6909</th>\n",
       "      <td>0439136369</td>\n",
       "      <td>Harry Potter and the Prisoner of Azkaban (Book 3)</td>\n",
       "      <td>9.068702</td>\n",
       "      <td>131</td>\n",
       "    </tr>\n",
       "    <tr>\n",
       "      <th>6908</th>\n",
       "      <td>0439136350</td>\n",
       "      <td>Harry Potter and the Prisoner of Azkaban (Book 3)</td>\n",
       "      <td>9.035461</td>\n",
       "      <td>141</td>\n",
       "    </tr>\n",
       "    <tr>\n",
       "      <th>6925</th>\n",
       "      <td>043935806X</td>\n",
       "      <td>Harry Potter and the Order of the Phoenix (Boo...</td>\n",
       "      <td>9.024510</td>\n",
       "      <td>204</td>\n",
       "    </tr>\n",
       "    <tr>\n",
       "      <th>7754</th>\n",
       "      <td>0446310786</td>\n",
       "      <td>To Kill a Mockingbird</td>\n",
       "      <td>8.946078</td>\n",
       "      <td>204</td>\n",
       "    </tr>\n",
       "    <tr>\n",
       "      <th>...</th>\n",
       "      <td>...</td>\n",
       "      <td>...</td>\n",
       "      <td>...</td>\n",
       "      <td>...</td>\n",
       "    </tr>\n",
       "    <tr>\n",
       "      <th>4565</th>\n",
       "      <td>0375725784</td>\n",
       "      <td>A Heartbreaking Work of Staggering Genius</td>\n",
       "      <td>7.194245</td>\n",
       "      <td>139</td>\n",
       "    </tr>\n",
       "    <tr>\n",
       "      <th>9439</th>\n",
       "      <td>0452282829</td>\n",
       "      <td>We Were the Mulvaneys</td>\n",
       "      <td>7.059259</td>\n",
       "      <td>135</td>\n",
       "    </tr>\n",
       "    <tr>\n",
       "      <th>3813</th>\n",
       "      <td>0345443284</td>\n",
       "      <td>While I Was Gone</td>\n",
       "      <td>7.000000</td>\n",
       "      <td>133</td>\n",
       "    </tr>\n",
       "    <tr>\n",
       "      <th>1646</th>\n",
       "      <td>0140293248</td>\n",
       "      <td>The Girls' Guide to Hunting and Fishing</td>\n",
       "      <td>6.924528</td>\n",
       "      <td>159</td>\n",
       "    </tr>\n",
       "    <tr>\n",
       "      <th>16055</th>\n",
       "      <td>0971880107</td>\n",
       "      <td>Wild Animus</td>\n",
       "      <td>4.400000</td>\n",
       "      <td>575</td>\n",
       "    </tr>\n",
       "  </tbody>\n",
       "</table>\n",
       "<p>89 rows × 4 columns</p>\n",
       "</div>"
      ],
      "text/plain": [
       "             ISBN  ... times_reviewed\n",
       "6911   0439139597  ...            135\n",
       "6909   0439136369  ...            131\n",
       "6908   0439136350  ...            141\n",
       "6925   043935806X  ...            204\n",
       "7754   0446310786  ...            204\n",
       "...           ...  ...            ...\n",
       "4565   0375725784  ...            139\n",
       "9439   0452282829  ...            135\n",
       "3813   0345443284  ...            133\n",
       "1646   0140293248  ...            159\n",
       "16055  0971880107  ...            575\n",
       "\n",
       "[89 rows x 4 columns]"
      ]
     },
     "execution_count": 106,
     "metadata": {},
     "output_type": "execute_result"
    }
   ],
   "source": [
    "ratings_book[ratings_book['times_reviewed'] > q].sort_values('average_rating', ascending = False)"
   ]
  },
  {
   "cell_type": "code",
   "execution_count": 109,
   "id": "8b8a34d3-9fca-4466-b7af-874e99ef17a3",
   "metadata": {},
   "outputs": [
    {
     "data": {
      "text/html": [
       "<div>\n",
       "<style scoped>\n",
       "    .dataframe tbody tr th:only-of-type {\n",
       "        vertical-align: middle;\n",
       "    }\n",
       "\n",
       "    .dataframe tbody tr th {\n",
       "        vertical-align: top;\n",
       "    }\n",
       "\n",
       "    .dataframe thead th {\n",
       "        text-align: right;\n",
       "    }\n",
       "</style>\n",
       "<table border=\"1\" class=\"dataframe\">\n",
       "  <thead>\n",
       "    <tr style=\"text-align: right;\">\n",
       "      <th></th>\n",
       "      <th>Book-Author</th>\n",
       "      <th>average_rating</th>\n",
       "      <th>times_reviewed</th>\n",
       "    </tr>\n",
       "  </thead>\n",
       "  <tbody>\n",
       "    <tr>\n",
       "      <th>688</th>\n",
       "      <td>Bill Watterson</td>\n",
       "      <td>9.214521</td>\n",
       "      <td>303</td>\n",
       "    </tr>\n",
       "    <tr>\n",
       "      <th>1606</th>\n",
       "      <td>Dr. Seuss</td>\n",
       "      <td>9.203297</td>\n",
       "      <td>182</td>\n",
       "    </tr>\n",
       "    <tr>\n",
       "      <th>400</th>\n",
       "      <td>Antoine de Saint-ExupÃÂ©ry</td>\n",
       "      <td>9.012987</td>\n",
       "      <td>154</td>\n",
       "    </tr>\n",
       "    <tr>\n",
       "      <th>2299</th>\n",
       "      <td>Harper Lee</td>\n",
       "      <td>8.996094</td>\n",
       "      <td>256</td>\n",
       "    </tr>\n",
       "    <tr>\n",
       "      <th>2488</th>\n",
       "      <td>J. K. Rowling</td>\n",
       "      <td>8.984185</td>\n",
       "      <td>1644</td>\n",
       "    </tr>\n",
       "    <tr>\n",
       "      <th>...</th>\n",
       "      <td>...</td>\n",
       "      <td>...</td>\n",
       "      <td>...</td>\n",
       "    </tr>\n",
       "    <tr>\n",
       "      <th>5050</th>\n",
       "      <td>R. L. Stine</td>\n",
       "      <td>6.810585</td>\n",
       "      <td>359</td>\n",
       "    </tr>\n",
       "    <tr>\n",
       "      <th>543</th>\n",
       "      <td>Barbara Taylor Bradford</td>\n",
       "      <td>6.788079</td>\n",
       "      <td>151</td>\n",
       "    </tr>\n",
       "    <tr>\n",
       "      <th>12</th>\n",
       "      <td>A. Manette Ansay</td>\n",
       "      <td>6.590909</td>\n",
       "      <td>132</td>\n",
       "    </tr>\n",
       "    <tr>\n",
       "      <th>853</th>\n",
       "      <td>Candace Bushnell</td>\n",
       "      <td>5.721591</td>\n",
       "      <td>176</td>\n",
       "    </tr>\n",
       "    <tr>\n",
       "      <th>5177</th>\n",
       "      <td>Rich Shapero</td>\n",
       "      <td>4.400000</td>\n",
       "      <td>575</td>\n",
       "    </tr>\n",
       "  </tbody>\n",
       "</table>\n",
       "<p>326 rows × 3 columns</p>\n",
       "</div>"
      ],
      "text/plain": [
       "                      Book-Author  average_rating  times_reviewed\n",
       "688                Bill Watterson        9.214521             303\n",
       "1606                    Dr. Seuss        9.203297             182\n",
       "400   Antoine de Saint-ExupÃÂ©ry        9.012987             154\n",
       "2299                   Harper Lee        8.996094             256\n",
       "2488                J. K. Rowling        8.984185            1644\n",
       "...                           ...             ...             ...\n",
       "5050                  R. L. Stine        6.810585             359\n",
       "543       Barbara Taylor Bradford        6.788079             151\n",
       "12               A. Manette Ansay        6.590909             132\n",
       "853              Candace Bushnell        5.721591             176\n",
       "5177                 Rich Shapero        4.400000             575\n",
       "\n",
       "[326 rows x 3 columns]"
      ]
     },
     "execution_count": 109,
     "metadata": {},
     "output_type": "execute_result"
    }
   ],
   "source": [
    "ratings_author = ratings.groupby([\"Book-Author\"]).agg(average_rating = (\"Book-Rating\",\"mean\"), times_reviewed = (\"Book-Rating\",\"count\")).reset_index()\n",
    "ratings_author[ratings_author['times_reviewed'] > q].sort_values(['average_rating', 'times_reviewed'], ascending = False)"
   ]
  },
  {
   "cell_type": "code",
   "execution_count": 110,
   "id": "444b0fce-fa60-48a6-954f-03885a1a17ca",
   "metadata": {},
   "outputs": [],
   "source": [
    "q = np.quantile(list(ratings_author['times_reviewed']), 0.999)"
   ]
  },
  {
   "cell_type": "code",
   "execution_count": 111,
   "id": "ae5c09b8-59db-4161-967f-52ed2f943e0c",
   "metadata": {},
   "outputs": [],
   "source": [
    "ratings_stats = ratings.groupby([\"Book-Title\", \"Book-Author\", \"Book-Publisher\"]) \\\n",
    "    .agg(average_rating = (\"Book-Rating\",\"mean\"), times_reviewed = (\"Book-Rating\",\"count\")).reset_index()"
   ]
  },
  {
   "cell_type": "code",
   "execution_count": 112,
   "id": "9bf8684d-8aa6-4dc5-8a58-ea0c80fba4fd",
   "metadata": {},
   "outputs": [],
   "source": [
    "ratings_stats = ratings_stats[ratings_stats['times_reviewed'] > 250].sort_values('times_reviewed', ascending = False)"
   ]
  },
  {
   "cell_type": "code",
   "execution_count": 113,
   "id": "03763fde-b70b-4909-9f24-1a41d8898e6b",
   "metadata": {},
   "outputs": [
    {
     "data": {
      "text/plain": [
       "<Axes: xlabel='times_reviewed', ylabel='average_rating'>"
      ]
     },
     "execution_count": 113,
     "metadata": {},
     "output_type": "execute_result"
    },
    {
     "data": {
      "image/png": "[encoded data removed]",
      "text/plain": [
       "<Figure size 432x288 with 1 Axes>"
      ]
     },
     "metadata": {},
     "output_type": "display_data"
    }
   ],
   "source": [
    "sns.scatterplot(ratings_stats, x = \"times_reviewed\", y = \"average_rating\")"
   ]
  },
  {
   "cell_type": "markdown",
   "id": "53b3a7b7-ad0f-4e85-823d-46fef9def719",
   "metadata": {},
   "source": [
    "### Extended look into combining datasets"
   ]
  },
  {
   "cell_type": "code",
   "execution_count": 114,
   "id": "4e89194f-f1e3-445b-9b41-bb81c97f0839",
   "metadata": {},
   "outputs": [],
   "source": [
    "users[\"User-ID\"] = users[\"User-ID\"].astype(str)"
   ]
  },
  {
   "cell_type": "code",
   "execution_count": 115,
   "id": "594d5b67-9fce-40f1-be22-13f02b9540ad",
   "metadata": {},
   "outputs": [
    {
     "data": {
      "text/html": [
       "<div>\n",
       "<style scoped>\n",
       "    .dataframe tbody tr th:only-of-type {\n",
       "        vertical-align: middle;\n",
       "    }\n",
       "\n",
       "    .dataframe tbody tr th {\n",
       "        vertical-align: top;\n",
       "    }\n",
       "\n",
       "    .dataframe thead th {\n",
       "        text-align: right;\n",
       "    }\n",
       "</style>\n",
       "<table border=\"1\" class=\"dataframe\">\n",
       "  <thead>\n",
       "    <tr style=\"text-align: right;\">\n",
       "      <th></th>\n",
       "      <th>User-ID</th>\n",
       "      <th>User-City</th>\n",
       "      <th>User-State</th>\n",
       "      <th>User-Country</th>\n",
       "      <th>User-Age</th>\n",
       "    </tr>\n",
       "  </thead>\n",
       "  <tbody>\n",
       "    <tr>\n",
       "      <th>0</th>\n",
       "      <td>8</td>\n",
       "      <td>timmins</td>\n",
       "      <td>ontario</td>\n",
       "      <td>canada</td>\n",
       "      <td>-1</td>\n",
       "    </tr>\n",
       "    <tr>\n",
       "      <th>1</th>\n",
       "      <td>9</td>\n",
       "      <td>germantown</td>\n",
       "      <td>tennessee</td>\n",
       "      <td>usa</td>\n",
       "      <td>-1</td>\n",
       "    </tr>\n",
       "    <tr>\n",
       "      <th>2</th>\n",
       "      <td>16</td>\n",
       "      <td>albuquerque</td>\n",
       "      <td>new mexico</td>\n",
       "      <td>usa</td>\n",
       "      <td>-1</td>\n",
       "    </tr>\n",
       "    <tr>\n",
       "      <th>3</th>\n",
       "      <td>17</td>\n",
       "      <td>chesapeake</td>\n",
       "      <td>virginia</td>\n",
       "      <td>usa</td>\n",
       "      <td>-1</td>\n",
       "    </tr>\n",
       "    <tr>\n",
       "      <th>4</th>\n",
       "      <td>19</td>\n",
       "      <td>weston</td>\n",
       "      <td></td>\n",
       "      <td>NaN</td>\n",
       "      <td>14</td>\n",
       "    </tr>\n",
       "    <tr>\n",
       "      <th>...</th>\n",
       "      <td>...</td>\n",
       "      <td>...</td>\n",
       "      <td>...</td>\n",
       "      <td>...</td>\n",
       "      <td>...</td>\n",
       "    </tr>\n",
       "    <tr>\n",
       "      <th>48294</th>\n",
       "      <td>278846</td>\n",
       "      <td>toronto</td>\n",
       "      <td>ontario</td>\n",
       "      <td>canada</td>\n",
       "      <td>23</td>\n",
       "    </tr>\n",
       "    <tr>\n",
       "      <th>48295</th>\n",
       "      <td>278849</td>\n",
       "      <td>georgetown</td>\n",
       "      <td>ontario</td>\n",
       "      <td>canada</td>\n",
       "      <td>23</td>\n",
       "    </tr>\n",
       "    <tr>\n",
       "      <th>48296</th>\n",
       "      <td>278851</td>\n",
       "      <td>dallas</td>\n",
       "      <td>texas</td>\n",
       "      <td>usa</td>\n",
       "      <td>33</td>\n",
       "    </tr>\n",
       "    <tr>\n",
       "      <th>48297</th>\n",
       "      <td>278852</td>\n",
       "      <td>brisbane</td>\n",
       "      <td>queensland</td>\n",
       "      <td>australia</td>\n",
       "      <td>32</td>\n",
       "    </tr>\n",
       "    <tr>\n",
       "      <th>48298</th>\n",
       "      <td>278854</td>\n",
       "      <td>portland</td>\n",
       "      <td>oregon</td>\n",
       "      <td>usa</td>\n",
       "      <td>-1</td>\n",
       "    </tr>\n",
       "  </tbody>\n",
       "</table>\n",
       "<p>48299 rows × 5 columns</p>\n",
       "</div>"
      ],
      "text/plain": [
       "      User-ID    User-City   User-State User-Country  User-Age\n",
       "0           8      timmins      ontario       canada        -1\n",
       "1           9   germantown    tennessee          usa        -1\n",
       "2          16  albuquerque   new mexico          usa        -1\n",
       "3          17   chesapeake     virginia          usa        -1\n",
       "4          19       weston                       NaN        14\n",
       "...       ...          ...          ...          ...       ...\n",
       "48294  278846      toronto      ontario       canada        23\n",
       "48295  278849   georgetown      ontario       canada        23\n",
       "48296  278851       dallas        texas          usa        33\n",
       "48297  278852     brisbane   queensland    australia        32\n",
       "48298  278854     portland       oregon          usa        -1\n",
       "\n",
       "[48299 rows x 5 columns]"
      ]
     },
     "execution_count": 115,
     "metadata": {},
     "output_type": "execute_result"
    }
   ],
   "source": [
    "users"
   ]
  },
  {
   "cell_type": "code",
   "execution_count": 116,
   "id": "bb0a2854-973e-437d-a25f-edbb86d87603",
   "metadata": {},
   "outputs": [
    {
     "data": {
      "text/html": [
       "<div>\n",
       "<style scoped>\n",
       "    .dataframe tbody tr th:only-of-type {\n",
       "        vertical-align: middle;\n",
       "    }\n",
       "\n",
       "    .dataframe tbody tr th {\n",
       "        vertical-align: top;\n",
       "    }\n",
       "\n",
       "    .dataframe thead th {\n",
       "        text-align: right;\n",
       "    }\n",
       "</style>\n",
       "<table border=\"1\" class=\"dataframe\">\n",
       "  <thead>\n",
       "    <tr style=\"text-align: right;\">\n",
       "      <th></th>\n",
       "      <th>User-ID</th>\n",
       "      <th>ISBN</th>\n",
       "      <th>Book-Rating</th>\n",
       "      <th>Book-Title</th>\n",
       "      <th>Book-Author</th>\n",
       "      <th>Year-Of-Publication</th>\n",
       "      <th>Book-Publisher</th>\n",
       "      <th>Book-Author-Processed</th>\n",
       "      <th>Book-Title-Processed</th>\n",
       "      <th>Book-Publisher-Processed</th>\n",
       "      <th>User-City</th>\n",
       "      <th>User-State</th>\n",
       "      <th>User-Country</th>\n",
       "      <th>User-Age</th>\n",
       "    </tr>\n",
       "  </thead>\n",
       "  <tbody>\n",
       "    <tr>\n",
       "      <th>0</th>\n",
       "      <td>276744</td>\n",
       "      <td>038550120X</td>\n",
       "      <td>7</td>\n",
       "      <td>A Painted House</td>\n",
       "      <td>JOHN GRISHAM</td>\n",
       "      <td>2001</td>\n",
       "      <td>doubleday</td>\n",
       "      <td>john grisham</td>\n",
       "      <td>a painted house</td>\n",
       "      <td>doubleday</td>\n",
       "      <td>torrance</td>\n",
       "      <td>california</td>\n",
       "      <td>usa</td>\n",
       "      <td>-1</td>\n",
       "    </tr>\n",
       "    <tr>\n",
       "      <th>1</th>\n",
       "      <td>276754</td>\n",
       "      <td>0684867621</td>\n",
       "      <td>8</td>\n",
       "      <td>The Girl Who Loved Tom Gordon : A Novel</td>\n",
       "      <td>Stephen King</td>\n",
       "      <td>1999</td>\n",
       "      <td>scribner</td>\n",
       "      <td>stephen king</td>\n",
       "      <td>the girl who loved tom gordon a novel</td>\n",
       "      <td>scribner</td>\n",
       "      <td>alberta beach</td>\n",
       "      <td>alberta</td>\n",
       "      <td>canada</td>\n",
       "      <td>19</td>\n",
       "    </tr>\n",
       "    <tr>\n",
       "      <th>2</th>\n",
       "      <td>276755</td>\n",
       "      <td>0451166892</td>\n",
       "      <td>5</td>\n",
       "      <td>The Pillars of the Earth</td>\n",
       "      <td>Ken Follett</td>\n",
       "      <td>1996</td>\n",
       "      <td>signet book</td>\n",
       "      <td>ken follett</td>\n",
       "      <td>the pillar of the earth</td>\n",
       "      <td>signet book</td>\n",
       "      <td>frankfurt am main</td>\n",
       "      <td>hessen</td>\n",
       "      <td>germany</td>\n",
       "      <td>32</td>\n",
       "    </tr>\n",
       "    <tr>\n",
       "      <th>3</th>\n",
       "      <td>276762</td>\n",
       "      <td>0380711524</td>\n",
       "      <td>5</td>\n",
       "      <td>See Jane Run</td>\n",
       "      <td>Joy Fielding</td>\n",
       "      <td>1992</td>\n",
       "      <td>avon</td>\n",
       "      <td>joy fielding</td>\n",
       "      <td>see jane run</td>\n",
       "      <td>avon</td>\n",
       "      <td>duisburg</td>\n",
       "      <td>nordrhein-westfalen</td>\n",
       "      <td>germany</td>\n",
       "      <td>25</td>\n",
       "    </tr>\n",
       "    <tr>\n",
       "      <th>4</th>\n",
       "      <td>276772</td>\n",
       "      <td>0553572369</td>\n",
       "      <td>7</td>\n",
       "      <td>Pay Dirt (Mrs. Murphy Mysteries (Paperback))</td>\n",
       "      <td>RITA MAE BROWN</td>\n",
       "      <td>1996</td>\n",
       "      <td>bantam</td>\n",
       "      <td>rita mae brown</td>\n",
       "      <td>pay dirt mr murphy mystery paperback</td>\n",
       "      <td>bantam</td>\n",
       "      <td>bonn</td>\n",
       "      <td>nordrhein-westfalen</td>\n",
       "      <td>germany</td>\n",
       "      <td>-1</td>\n",
       "    </tr>\n",
       "  </tbody>\n",
       "</table>\n",
       "</div>"
      ],
      "text/plain": [
       "  User-ID        ISBN  Book-Rating  ...            User-State User-Country  User-Age\n",
       "0  276744  038550120X            7  ...            california          usa        -1\n",
       "1  276754  0684867621            8  ...               alberta       canada        19\n",
       "2  276755  0451166892            5  ...                hessen      germany        32\n",
       "3  276762  0380711524            5  ...   nordrhein-westfalen      germany        25\n",
       "4  276772  0553572369            7  ...   nordrhein-westfalen      germany        -1\n",
       "\n",
       "[5 rows x 14 columns]"
      ]
     },
     "execution_count": 116,
     "metadata": {},
     "output_type": "execute_result"
    }
   ],
   "source": [
    "ratings = ratings.merge(users)\n",
    "\n",
    "ratings.head()"
   ]
  },
  {
   "cell_type": "code",
   "execution_count": 117,
   "id": "dfb86225-ea88-4a1e-a6ec-146f55551a74",
   "metadata": {},
   "outputs": [],
   "source": [
    "ratings = ratings[(ratings['User-Age'] >= 5) & (ratings['User-Age'] <= 100)]"
   ]
  },
  {
   "cell_type": "code",
   "execution_count": 118,
   "id": "e21ba99e-51ef-4527-9854-9346a633fa3e",
   "metadata": {},
   "outputs": [
    {
     "data": {
      "text/plain": [
       "<Axes: >"
      ]
     },
     "execution_count": 118,
     "metadata": {},
     "output_type": "execute_result"
    },
    {
     "data": {
      "image/png": "[encoded data removed]",
      "text/plain": [
       "<Figure size 432x288 with 1 Axes>"
      ]
     },
     "metadata": {},
     "output_type": "display_data"
    }
   ],
   "source": [
    "# distribution of reviews within valid age range\n",
    "ratings['User-Age'].hist()"
   ]
  },
  {
   "cell_type": "code",
   "execution_count": 119,
   "id": "331c2b92-279c-4848-bb6b-b91dda57fb53",
   "metadata": {},
   "outputs": [
    {
     "data": {
      "text/plain": [
       "<Axes: xlabel='count', ylabel='mean'>"
      ]
     },
     "execution_count": 119,
     "metadata": {},
     "output_type": "execute_result"
    },
    {
     "data": {
      "image/png": "[encoded data removed]",
      "text/plain": [
       "<Figure size 432x288 with 1 Axes>"
      ]
     },
     "metadata": {},
     "output_type": "display_data"
    }
   ],
   "source": [
    "# average rating by author\n",
    "ratings_avg_age = ratings.groupby([\"Book-Author\"]) \\\n",
    "    .agg(mean = (\"Book-Rating\",\"mean\"), count = (\"Book-Rating\",\"count\"), average_age = (\"User-Age\", \"mean\")) \\\n",
    "    .reset_index()\n",
    "sns.scatterplot(ratings_avg_age[ratings_avg_age[\"count\"] > 1000], x = \"count\", y = \"mean\", hue = \"Book-Author\")"
   ]
  },
  {
   "cell_type": "code",
   "execution_count": 120,
   "id": "c9cce6d1-f917-4237-b340-73ba70a9fada",
   "metadata": {},
   "outputs": [
    {
     "data": {
      "text/plain": [
       "<Axes: xlabel='count', ylabel='average_age'>"
      ]
     },
     "execution_count": 120,
     "metadata": {},
     "output_type": "execute_result"
    },
    {
     "data": {
      "image/png": "[encoded data removed]",
      "text/plain": [
       "<Figure size 432x288 with 1 Axes>"
      ]
     },
     "metadata": {},
     "output_type": "display_data"
    }
   ],
   "source": [
    "# average age of users by country\n",
    "ratings_avg_age = ratings.groupby([\"User-Country\"]) \\\n",
    "    .agg(mean = (\"Book-Rating\",\"mean\"), count = (\"Book-Rating\",\"count\"), average_age = (\"User-Age\", \"mean\")) \\\n",
    "    .reset_index()\n",
    "sns.scatterplot(ratings_avg_age[ratings_avg_age[\"count\"] > 1000], x = \"count\", y = \"average_age\", hue = \"User-Country\")"
   ]
  },
  {
   "cell_type": "code",
   "execution_count": 121,
   "id": "424b41d0-5f32-4796-b1a5-a3c901a063fd",
   "metadata": {},
   "outputs": [
    {
     "data": {
      "text/html": [
       "<div>\n",
       "<style scoped>\n",
       "    .dataframe tbody tr th:only-of-type {\n",
       "        vertical-align: middle;\n",
       "    }\n",
       "\n",
       "    .dataframe tbody tr th {\n",
       "        vertical-align: top;\n",
       "    }\n",
       "\n",
       "    .dataframe thead th {\n",
       "        text-align: right;\n",
       "    }\n",
       "</style>\n",
       "<table border=\"1\" class=\"dataframe\">\n",
       "  <thead>\n",
       "    <tr style=\"text-align: right;\">\n",
       "      <th></th>\n",
       "      <th>User-Country</th>\n",
       "      <th>mean</th>\n",
       "      <th>count</th>\n",
       "      <th>average_age</th>\n",
       "    </tr>\n",
       "  </thead>\n",
       "  <tbody>\n",
       "    <tr>\n",
       "      <th>0</th>\n",
       "      <td>afghanistan</td>\n",
       "      <td>1.5</td>\n",
       "      <td>2</td>\n",
       "      <td>52.5</td>\n",
       "    </tr>\n",
       "    <tr>\n",
       "      <th>1</th>\n",
       "      <td>algeria</td>\n",
       "      <td>6.0</td>\n",
       "      <td>1</td>\n",
       "      <td>34.0</td>\n",
       "    </tr>\n",
       "    <tr>\n",
       "      <th>2</th>\n",
       "      <td>america</td>\n",
       "      <td>8.0</td>\n",
       "      <td>5</td>\n",
       "      <td>26.0</td>\n",
       "    </tr>\n",
       "    <tr>\n",
       "      <th>3</th>\n",
       "      <td>angola</td>\n",
       "      <td>8.0</td>\n",
       "      <td>1</td>\n",
       "      <td>51.0</td>\n",
       "    </tr>\n",
       "    <tr>\n",
       "      <th>4</th>\n",
       "      <td>antigua and barbuda</td>\n",
       "      <td>8.0</td>\n",
       "      <td>1</td>\n",
       "      <td>35.0</td>\n",
       "    </tr>\n",
       "    <tr>\n",
       "      <th>...</th>\n",
       "      <td>...</td>\n",
       "      <td>...</td>\n",
       "      <td>...</td>\n",
       "      <td>...</td>\n",
       "    </tr>\n",
       "    <tr>\n",
       "      <th>126</th>\n",
       "      <td>vietnam</td>\n",
       "      <td>8.0</td>\n",
       "      <td>2</td>\n",
       "      <td>22.0</td>\n",
       "    </tr>\n",
       "    <tr>\n",
       "      <th>127</th>\n",
       "      <td>wales</td>\n",
       "      <td>6.0</td>\n",
       "      <td>1</td>\n",
       "      <td>42.0</td>\n",
       "    </tr>\n",
       "    <tr>\n",
       "      <th>128</th>\n",
       "      <td>ysa</td>\n",
       "      <td>9.0</td>\n",
       "      <td>1</td>\n",
       "      <td>32.0</td>\n",
       "    </tr>\n",
       "    <tr>\n",
       "      <th>129</th>\n",
       "      <td>yugoslavia</td>\n",
       "      <td>7.0</td>\n",
       "      <td>3</td>\n",
       "      <td>22.0</td>\n",
       "    </tr>\n",
       "    <tr>\n",
       "      <th>130</th>\n",
       "      <td>zambia</td>\n",
       "      <td>7.0</td>\n",
       "      <td>1</td>\n",
       "      <td>55.0</td>\n",
       "    </tr>\n",
       "  </tbody>\n",
       "</table>\n",
       "<p>131 rows × 4 columns</p>\n",
       "</div>"
      ],
      "text/plain": [
       "             User-Country  mean  count  average_age\n",
       "0             afghanistan   1.5      2         52.5\n",
       "1                 algeria   6.0      1         34.0\n",
       "2                 america   8.0      5         26.0\n",
       "3                  angola   8.0      1         51.0\n",
       "4     antigua and barbuda   8.0      1         35.0\n",
       "..                    ...   ...    ...          ...\n",
       "126               vietnam   8.0      2         22.0\n",
       "127                 wales   6.0      1         42.0\n",
       "128                   ysa   9.0      1         32.0\n",
       "129            yugoslavia   7.0      3         22.0\n",
       "130                zambia   7.0      1         55.0\n",
       "\n",
       "[131 rows x 4 columns]"
      ]
     },
     "execution_count": 121,
     "metadata": {},
     "output_type": "execute_result"
    }
   ],
   "source": [
    "ratings_avg_age"
   ]
  },
  {
   "cell_type": "code",
   "execution_count": 128,
   "id": "5f4daf87-c41e-4521-a93a-60820eb8025a",
   "metadata": {},
   "outputs": [],
   "source": [
    "publication = ratings.groupby(['ISBN', 'Book-Title', 'Book-Author', 'Year-Of-Publication']).agg(average_age = (\"User-Age\", \"mean\"),\n",
    "                                                                  average_rating = (\"Book-Rating\", \"mean\"),\n",
    "                                                                    times_reviewed = (\"User-ID\", \"count\")).reset_index()"
   ]
  },
  {
   "cell_type": "code",
   "execution_count": 129,
   "id": "31346b20-4cbf-44b9-b961-b46440c9a1e0",
   "metadata": {},
   "outputs": [],
   "source": [
    "# books reviewed more than 50 times\n",
    "publication = publication[publication['times_reviewed'] > 50]"
   ]
  },
  {
   "cell_type": "code",
   "execution_count": 130,
   "id": "0fb23022-51d0-4a78-bbd7-f938d65f0c0a",
   "metadata": {},
   "outputs": [
    {
     "data": {
      "text/plain": [
       "<Axes: xlabel='Year-Of-Publication', ylabel='average_age'>"
      ]
     },
     "execution_count": 130,
     "metadata": {},
     "output_type": "execute_result"
    },
    {
     "data": {
      "image/png": "[encoded data removed]",
      "text/plain": [
       "<Figure size 432x288 with 1 Axes>"
      ]
     },
     "metadata": {},
     "output_type": "display_data"
    }
   ],
   "source": [
    "# average age of reader compared to year of publication of book\n",
    "sns.scatterplot(publication[(publication['Year-Of-Publication'] != 0) & \n",
    "                (publication['Year-Of-Publication'] < 2030)], x = \"Year-Of-Publication\", y = \"average_age\")"
   ]
  },
  {
   "cell_type": "code",
   "execution_count": 131,
   "id": "49627787-dbd3-4bc3-919b-70ffa4e67364",
   "metadata": {},
   "outputs": [
    {
     "data": {
      "text/plain": [
       "<Axes: xlabel='Year-Of-Publication', ylabel='average_rating'>"
      ]
     },
     "execution_count": 131,
     "metadata": {},
     "output_type": "execute_result"
    },
    {
     "data": {
      "image/png": "[encoded data removed]",
      "text/plain": [
       "<Figure size 432x288 with 1 Axes>"
      ]
     },
     "metadata": {},
     "output_type": "display_data"
    }
   ],
   "source": [
    "# average rating compared to year of publication per book\n",
    "sns.scatterplot(publication[(publication['Year-Of-Publication'] != 0) & \n",
    "                (publication['Year-Of-Publication'] < 2030)], x = \"Year-Of-Publication\", y = \"average_rating\")"
   ]
  },
  {
   "cell_type": "code",
   "execution_count": 132,
   "id": "c077e91a-79c8-4e8c-a9b7-ab45ad27192e",
   "metadata": {},
   "outputs": [
    {
     "data": {
      "text/plain": [
       "<Axes: xlabel='average_age', ylabel='average_rating'>"
      ]
     },
     "execution_count": 132,
     "metadata": {},
     "output_type": "execute_result"
    },
    {
     "data": {
      "image/png": "[encoded data removed]",
      "text/plain": [
       "<Figure size 432x288 with 1 Axes>"
      ]
     },
     "metadata": {},
     "output_type": "display_data"
    }
   ],
   "source": [
    "# average rating compared to average age per book\n",
    "sns.scatterplot(publication[(publication['Year-Of-Publication'] != 0) & \n",
    "                (publication['Year-Of-Publication'] < 2030)], x = \"average_age\", y = \"average_rating\")"
   ]
  },
  {
   "cell_type": "code",
   "execution_count": 134,
   "id": "7718dfb9-f00d-4696-805e-f960863177a5",
   "metadata": {},
   "outputs": [],
   "source": [
    "publication = ratings.groupby(['ISBN', 'Book-Title', 'Book-Author', 'Year-Of-Publication', 'User-Country']).agg(average_age = (\"User-Age\", \"mean\"),\n",
    "                                                                  average_rating = (\"Book-Rating\", \"mean\"),\n",
    "                                                                    times_reviewed = (\"User-ID\", \"count\")).reset_index()"
   ]
  },
  {
   "cell_type": "code",
   "execution_count": 135,
   "id": "6356b9fd-e724-46e9-98f4-d620826322fc",
   "metadata": {},
   "outputs": [],
   "source": [
    "# books are reviewed by at least 5 users in country\n",
    "publication = publication[publication['times_reviewed'] > 5]"
   ]
  },
  {
   "cell_type": "code",
   "execution_count": 136,
   "id": "9c8c7f42-fd4f-43e7-967b-4caafd5589e8",
   "metadata": {
    "scrolled": true
   },
   "outputs": [
    {
     "data": {
      "text/html": [
       "<div>\n",
       "<style scoped>\n",
       "    .dataframe tbody tr th:only-of-type {\n",
       "        vertical-align: middle;\n",
       "    }\n",
       "\n",
       "    .dataframe tbody tr th {\n",
       "        vertical-align: top;\n",
       "    }\n",
       "\n",
       "    .dataframe thead th {\n",
       "        text-align: right;\n",
       "    }\n",
       "</style>\n",
       "<table border=\"1\" class=\"dataframe\">\n",
       "  <thead>\n",
       "    <tr style=\"text-align: right;\">\n",
       "      <th></th>\n",
       "      <th>ISBN</th>\n",
       "      <th>Book-Title</th>\n",
       "      <th>Book-Author</th>\n",
       "      <th>Year-Of-Publication</th>\n",
       "      <th>User-Country</th>\n",
       "      <th>average_age</th>\n",
       "      <th>average_rating</th>\n",
       "      <th>times_reviewed</th>\n",
       "    </tr>\n",
       "  </thead>\n",
       "  <tbody>\n",
       "    <tr>\n",
       "      <th>42</th>\n",
       "      <td>000649840X</td>\n",
       "      <td>Angelas Ashes</td>\n",
       "      <td>Frank Mccourt</td>\n",
       "      <td>0</td>\n",
       "      <td>united kingdom</td>\n",
       "      <td>32.058824</td>\n",
       "      <td>8.0</td>\n",
       "      <td>17</td>\n",
       "    </tr>\n",
       "  </tbody>\n",
       "</table>\n",
       "</div>"
      ],
      "text/plain": [
       "          ISBN     Book-Title  ... average_rating  times_reviewed\n",
       "42  000649840X  Angelas Ashes  ...            8.0              17\n",
       "\n",
       "[1 rows x 8 columns]"
      ]
     },
     "execution_count": 136,
     "metadata": {},
     "output_type": "execute_result"
    }
   ],
   "source": [
    "publication.head(1)"
   ]
  },
  {
   "cell_type": "code",
   "execution_count": 140,
   "id": "d18d4c4b-f341-43a5-90e9-031a31fdccde",
   "metadata": {},
   "outputs": [
    {
     "data": {
      "text/plain": [
       "<Axes: xlabel='average_rating', ylabel='User-Country'>"
      ]
     },
     "execution_count": 140,
     "metadata": {},
     "output_type": "execute_result"
    },
    {
     "data": {
      "image/png": "[encoded data removed]",
      "text/plain": [
       "<Figure size 432x288 with 1 Axes>"
      ]
     },
     "metadata": {},
     "output_type": "display_data"
    }
   ],
   "source": [
    "# average rating by country\n",
    "sns.barplot(publication[(publication['Year-Of-Publication'] != 0) & \n",
    "                (publication['Year-Of-Publication'] < 2030)], x = 'average_rating', y = 'User-Country')"
   ]
  },
  {
   "cell_type": "code",
   "execution_count": 141,
   "id": "1313e4db-af78-4c9d-b7cf-8289798be72b",
   "metadata": {},
   "outputs": [
    {
     "data": {
      "text/plain": [
       "<Axes: xlabel='average_age', ylabel='User-Country'>"
      ]
     },
     "execution_count": 141,
     "metadata": {},
     "output_type": "execute_result"
    },
    {
     "data": {
      "image/png": "[encoded data removed]",
      "text/plain": [
       "<Figure size 432x288 with 1 Axes>"
      ]
     },
     "metadata": {},
     "output_type": "display_data"
    }
   ],
   "source": [
    "# average age by country\n",
    "sns.barplot(publication[(publication['Year-Of-Publication'] != 0) & \n",
    "                (publication['Year-Of-Publication'] < 2030)], x = 'average_age', y = 'User-Country')"
   ]
  },
  {
   "cell_type": "code",
   "execution_count": null,
   "id": "518b7bf7-582f-4dbe-b942-28fae09cf950",
   "metadata": {},
   "outputs": [],
   "source": []
  }
 ],
 "metadata": {
  "kernelspec": {
   "display_name": "Python 3 (Spyder)",
   "language": "python3",
   "name": "python3"
  },
  "language_info": {
   "codemirror_mode": {
    "name": "ipython",
    "version": 3
   },
   "file_extension": ".py",
   "mimetype": "text/x-python",
   "name": "python",
   "nbconvert_exporter": "python",
   "pygments_lexer": "ipython3",
   "version": "3.11.0"
  }
 },
 "nbformat": 4,
 "nbformat_minor": 5
}
