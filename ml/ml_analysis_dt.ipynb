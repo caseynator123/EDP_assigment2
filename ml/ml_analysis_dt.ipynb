{
 "cells": [
  {
   "cell_type": "markdown",
   "id": "5f5fe41d-6844-4350-9922-f99caee611cd",
   "metadata": {},
   "source": [
    "# ML Analysis\n",
    "Will attempt to do some sort of clustering.\n",
    "## Set up Environment"
   ]
  },
  {
   "cell_type": "code",
   "execution_count": 73,
   "id": "9b533cb2-7851-4a1a-b958-297a384aa8af",
   "metadata": {},
   "outputs": [],
   "source": [
    "import os\n",
    "import pandas as pd\n",
    "import numpy as np\n",
    "import matplotlib.pyplot as plt\n",
    "import seaborn as sns\n",
    "import re\n",
    "\n",
    "# vectorizing the book info column using TFidf Vectorizer\n",
    "from sklearn.feature_extraction.text import CountVectorizer, TfidfVectorizer\n",
    "from sklearn.metrics.pairwise import cosine_similarity\n",
    "\n",
    "from sklearn.model_selection import train_test_split\n",
    "\n",
    "from sklearn.preprocessing import OrdinalEncoder\n",
    "\n",
    "from sklearn.pipeline import Pipeline, FeatureUnion\n",
    "from sklearn.compose import ColumnTransformer\n",
    "\n",
    "from sklearn.tree import DecisionTreeClassifier\n",
    "from sklearn.metrics import accuracy_score, confusion_matrix, classification_report\n",
    "\n",
    "from sklearn import tree"
   ]
  },
  {
   "cell_type": "code",
   "execution_count": 74,
   "id": "5fd525cd-4a38-4ee4-8265-5c0a467c4885",
   "metadata": {},
   "outputs": [],
   "source": [
    "path = os.path.join(os.path.normpath(os.getcwd() + os.sep + os.pardir) + \"/data/\")"
   ]
  },
  {
   "cell_type": "code",
   "execution_count": 75,
   "id": "1c31c5ed-c417-4059-9a39-6008b2e00e3b",
   "metadata": {},
   "outputs": [
    {
     "data": {
      "text/plain": [
       "['processed_books.csv']"
      ]
     },
     "execution_count": 75,
     "metadata": {},
     "output_type": "execute_result"
    }
   ],
   "source": [
    "os.listdir(path + 'processed')"
   ]
  },
  {
   "cell_type": "markdown",
   "id": "2225efef-5978-42d3-96c5-4925d5acf19b",
   "metadata": {},
   "source": [
    "## Pull in required data:"
   ]
  },
  {
   "cell_type": "code",
   "execution_count": 76,
   "id": "4adf3af2-d5ea-4d6b-a112-16e6f2addf80",
   "metadata": {},
   "outputs": [],
   "source": [
    "df = pd.read_csv(path + 'processed/processed_books.csv')"
   ]
  },
  {
   "cell_type": "code",
   "execution_count": 77,
   "id": "2991dda9-d32c-4cf2-94bd-21c063c4d9be",
   "metadata": {},
   "outputs": [
    {
     "data": {
      "text/plain": [
       "(37141, 21)"
      ]
     },
     "execution_count": 77,
     "metadata": {},
     "output_type": "execute_result"
    }
   ],
   "source": [
    "df.shape"
   ]
  },
  {
   "cell_type": "code",
   "execution_count": 78,
   "id": "9b738158-ea27-4f81-8b5b-ccb6e06b04fe",
   "metadata": {},
   "outputs": [
    {
     "data": {
      "text/html": [
       "<div>\n",
       "<style scoped>\n",
       "    .dataframe tbody tr th:only-of-type {\n",
       "        vertical-align: middle;\n",
       "    }\n",
       "\n",
       "    .dataframe tbody tr th {\n",
       "        vertical-align: top;\n",
       "    }\n",
       "\n",
       "    .dataframe thead th {\n",
       "        text-align: right;\n",
       "    }\n",
       "</style>\n",
       "<table border=\"1\" class=\"dataframe\">\n",
       "  <thead>\n",
       "    <tr style=\"text-align: right;\">\n",
       "      <th></th>\n",
       "      <th>ISBN</th>\n",
       "      <th>Book-Title</th>\n",
       "      <th>Book-Author</th>\n",
       "      <th>Year-Of-Publication</th>\n",
       "      <th>Book-Publisher</th>\n",
       "      <th>Book-Author-Processed</th>\n",
       "      <th>Book-Publisher-Processed</th>\n",
       "      <th>Book-Title-Processed</th>\n",
       "      <th>Book-Info</th>\n",
       "      <th>Book-Vector</th>\n",
       "      <th>Year-Of-Publication-Group</th>\n",
       "      <th>Year-Of-Publication-Group-Encoded</th>\n",
       "      <th>User-Country</th>\n",
       "      <th>User-Country-Encoded</th>\n",
       "      <th>Age-Group-Encoded</th>\n",
       "      <th>Age-Group</th>\n",
       "      <th>average_rating</th>\n",
       "      <th>times_read</th>\n",
       "      <th>average_age</th>\n",
       "      <th>weighted_ratings</th>\n",
       "      <th>weighted_ratings_group_encoded</th>\n",
       "    </tr>\n",
       "  </thead>\n",
       "  <tbody>\n",
       "    <tr>\n",
       "      <th>0</th>\n",
       "      <td>0399135782</td>\n",
       "      <td>The Kitchen God's Wife</td>\n",
       "      <td>Amy Tan</td>\n",
       "      <td>1991.0</td>\n",
       "      <td>Putnam Pub Group</td>\n",
       "      <td>amy tan</td>\n",
       "      <td>putnam pub group</td>\n",
       "      <td>kitchen god wife</td>\n",
       "      <td>The Kitchen God's Wife by Amy Tan</td>\n",
       "      <td>[0. 0. 0. ... 0. 0. 0.]</td>\n",
       "      <td>(1989, 1999]</td>\n",
       "      <td>7</td>\n",
       "      <td>malaysia</td>\n",
       "      <td>65</td>\n",
       "      <td>0</td>\n",
       "      <td>(4.0, 26.0]</td>\n",
       "      <td>10.0</td>\n",
       "      <td>1</td>\n",
       "      <td>21.0</td>\n",
       "      <td>8.325719</td>\n",
       "      <td>2</td>\n",
       "    </tr>\n",
       "  </tbody>\n",
       "</table>\n",
       "</div>"
      ],
      "text/plain": [
       "         ISBN  ... weighted_ratings_group_encoded\n",
       "0  0399135782  ...                              2\n",
       "\n",
       "[1 rows x 21 columns]"
      ]
     },
     "execution_count": 78,
     "metadata": {},
     "output_type": "execute_result"
    }
   ],
   "source": [
    "df.head(1)"
   ]
  },
  {
   "cell_type": "markdown",
   "id": "4b78d2d5-0221-4fbf-94d6-e587e06f3fa0",
   "metadata": {},
   "source": [
    "### TF-IDF for Book Info:"
   ]
  },
  {
   "cell_type": "code",
   "execution_count": 79,
   "id": "0dc42faf-d577-49de-b26a-ccedbe478752",
   "metadata": {},
   "outputs": [],
   "source": [
    "tf = TfidfVectorizer(analyzer = \"word\", ngram_range=(1,2), min_df=0, stop_words='english')"
   ]
  },
  {
   "cell_type": "code",
   "execution_count": 80,
   "id": "1b32ae77-6145-4f6e-a13a-7facd2439a00",
   "metadata": {},
   "outputs": [],
   "source": [
    "tfidf_matrix = tf.fit(df['Book-Info'])"
   ]
  },
  {
   "cell_type": "code",
   "execution_count": 81,
   "id": "ec539946-cad7-4868-bcba-ed12b1f845e1",
   "metadata": {},
   "outputs": [],
   "source": [
    "book_vector = tfidf_matrix.transform(df['Book-Info']).toarray()"
   ]
  },
  {
   "cell_type": "code",
   "execution_count": 82,
   "id": "28a0c046-c23d-4ae7-9aad-ad9de539d6f7",
   "metadata": {},
   "outputs": [],
   "source": [
    "df['Book-Vector'] = list(book_vector)"
   ]
  },
  {
   "cell_type": "markdown",
   "id": "a21be739-bf15-4444-9c3d-6127007839ab",
   "metadata": {},
   "source": [
    "## Prepare model:\n",
    "\n",
    "## Split into train and test set\n",
    "also want to do cross validation to get mean of models"
   ]
  },
  {
   "cell_type": "code",
   "execution_count": 83,
   "id": "b1e9c8a8-b1f2-4062-b018-ec3ec6b02bc1",
   "metadata": {},
   "outputs": [
    {
     "data": {
      "text/plain": [
       "Index(['ISBN', 'Book-Title', 'Book-Author', 'Year-Of-Publication',\n",
       "       'Book-Publisher', 'Book-Author-Processed', 'Book-Publisher-Processed',\n",
       "       'Book-Title-Processed', 'Book-Info', 'Book-Vector',\n",
       "       'Year-Of-Publication-Group', 'Year-Of-Publication-Group-Encoded',\n",
       "       'User-Country', 'User-Country-Encoded', 'Age-Group-Encoded',\n",
       "       'Age-Group', 'average_rating', 'times_read', 'average_age',\n",
       "       'weighted_ratings', 'weighted_ratings_group_encoded'],\n",
       "      dtype='object')"
      ]
     },
     "execution_count": 83,
     "metadata": {},
     "output_type": "execute_result"
    }
   ],
   "source": [
    "df.columns"
   ]
  },
  {
   "cell_type": "code",
   "execution_count": 84,
   "id": "3234a1a8-d2bc-44dc-8b3b-453b56af41b5",
   "metadata": {},
   "outputs": [],
   "source": [
    "X = df[['Book-Info', 'User-Country-Encoded', 'Age-Group-Encoded', 'Year-Of-Publication-Group-Encoded']]\n",
    "y = df['weighted_ratings_group_encoded']"
   ]
  },
  {
   "cell_type": "code",
   "execution_count": 85,
   "id": "f90250fe-c62a-4a99-906d-2bb3ecdb88d3",
   "metadata": {},
   "outputs": [],
   "source": [
    "X_train, X_test, y_train, y_test = train_test_split(X, y, test_size=0.2, random_state=2)"
   ]
  },
  {
   "cell_type": "code",
   "execution_count": 86,
   "id": "321f04fb-a2fd-425b-811c-6075e2648b28",
   "metadata": {},
   "outputs": [
    {
     "data": {
      "text/html": [
       "<div>\n",
       "<style scoped>\n",
       "    .dataframe tbody tr th:only-of-type {\n",
       "        vertical-align: middle;\n",
       "    }\n",
       "\n",
       "    .dataframe tbody tr th {\n",
       "        vertical-align: top;\n",
       "    }\n",
       "\n",
       "    .dataframe thead th {\n",
       "        text-align: right;\n",
       "    }\n",
       "</style>\n",
       "<table border=\"1\" class=\"dataframe\">\n",
       "  <thead>\n",
       "    <tr style=\"text-align: right;\">\n",
       "      <th></th>\n",
       "      <th>Book-Info</th>\n",
       "      <th>User-Country-Encoded</th>\n",
       "      <th>Age-Group-Encoded</th>\n",
       "      <th>Year-Of-Publication-Group-Encoded</th>\n",
       "    </tr>\n",
       "  </thead>\n",
       "  <tbody>\n",
       "    <tr>\n",
       "      <th>9148</th>\n",
       "      <td>Song of Solomon (Oprah's Book Club (Paperback)...</td>\n",
       "      <td>7</td>\n",
       "      <td>0</td>\n",
       "      <td>6</td>\n",
       "    </tr>\n",
       "  </tbody>\n",
       "</table>\n",
       "</div>"
      ],
      "text/plain": [
       "                                              Book-Info  ...  Year-Of-Publication-Group-Encoded\n",
       "9148  Song of Solomon (Oprah's Book Club (Paperback)...  ...                                  6\n",
       "\n",
       "[1 rows x 4 columns]"
      ]
     },
     "execution_count": 86,
     "metadata": {},
     "output_type": "execute_result"
    }
   ],
   "source": [
    "X_train.head(1)"
   ]
  },
  {
   "cell_type": "markdown",
   "id": "8186e349-411a-4530-859a-c0190e3add2c",
   "metadata": {},
   "source": [
    "## Train Model"
   ]
  },
  {
   "cell_type": "code",
   "execution_count": 87,
   "id": "c41796ef-8bfd-454e-a696-9de16768776e",
   "metadata": {},
   "outputs": [
    {
     "name": "stdout",
     "output_type": "stream",
     "text": [
      "CPU times: user 15 µs, sys: 14 µs, total: 29 µs\n",
      "Wall time: 42 µs\n"
     ]
    }
   ],
   "source": [
    "%%time\n",
    "# Define text preprocessing (TF-IDF vectorization) and numeric preprocessing pipelines\n",
    "text_pipeline = Pipeline([\n",
    "    ('tfidf', TfidfVectorizer(analyzer = \"word\", ngram_range=(1,2), min_df=0, stop_words='english'))\n",
    "])\n",
    "\n",
    "\n",
    "# Define column transformer to apply different preprocessing to specific columns\n",
    "preprocessor = ColumnTransformer([\n",
    "    ('text', text_pipeline, 'Book-Info'),\n",
    "    ('group', 'passthrough', ['Age-Group-Encoded', 'Year-Of-Publication-Group-Encoded']),\n",
    "    ('country', 'passthrough', ['User-Country-Encoded'])\n",
    "])\n",
    "\n",
    "# Define the full pipeline with preprocessing and model\n",
    "pipeline = Pipeline([\n",
    "    ('preprocessor', preprocessor),\n",
    "    ('classifier', DecisionTreeClassifier(random_state=42))\n",
    "])"
   ]
  },
  {
   "cell_type": "code",
   "execution_count": 88,
   "id": "85713604-f1ff-44fe-9764-572b468f44f3",
   "metadata": {},
   "outputs": [],
   "source": [
    "from sklearn.model_selection import cross_val_score"
   ]
  },
  {
   "cell_type": "code",
   "execution_count": 89,
   "id": "6e0ba1af-d194-4afe-85fc-a649fa33e6e3",
   "metadata": {},
   "outputs": [
    {
     "name": "stdout",
     "output_type": "stream",
     "text": [
      "CPU times: user 19.6 s, sys: 308 ms, total: 19.9 s\n",
      "Wall time: 20.5 s\n"
     ]
    }
   ],
   "source": [
    "%%time\n",
    "scores = cross_val_score(pipeline, X_train, y_train, cv=5)"
   ]
  },
  {
   "cell_type": "code",
   "execution_count": 90,
   "id": "f9767255-c61f-4f32-95b2-087da97de81e",
   "metadata": {},
   "outputs": [
    {
     "name": "stdout",
     "output_type": "stream",
     "text": [
      "Cross-validation scores: [0.4088844  0.4055191  0.40979468 0.40356782 0.40777516]\n"
     ]
    }
   ],
   "source": [
    "print(\"Cross-validation scores:\", scores)"
   ]
  },
  {
   "cell_type": "code",
   "execution_count": 91,
   "id": "65161e7d-1729-4a7c-8803-33b9ab3b6155",
   "metadata": {},
   "outputs": [
    {
     "data": {
      "text/html": [
       "<style>#sk-container-id-3 {color: black;background-color: white;}#sk-container-id-3 pre{padding: 0;}#sk-container-id-3 div.sk-toggleable {background-color: white;}#sk-container-id-3 label.sk-toggleable__label {cursor: pointer;display: block;width: 100%;margin-bottom: 0;padding: 0.3em;box-sizing: border-box;text-align: center;}#sk-container-id-3 label.sk-toggleable__label-arrow:before {content: \"▸\";float: left;margin-right: 0.25em;color: #696969;}#sk-container-id-3 label.sk-toggleable__label-arrow:hover:before {color: black;}#sk-container-id-3 div.sk-estimator:hover label.sk-toggleable__label-arrow:before {color: black;}#sk-container-id-3 div.sk-toggleable__content {max-height: 0;max-width: 0;overflow: hidden;text-align: left;background-color: #f0f8ff;}#sk-container-id-3 div.sk-toggleable__content pre {margin: 0.2em;color: black;border-radius: 0.25em;background-color: #f0f8ff;}#sk-container-id-3 input.sk-toggleable__control:checked~div.sk-toggleable__content {max-height: 200px;max-width: 100%;overflow: auto;}#sk-container-id-3 input.sk-toggleable__control:checked~label.sk-toggleable__label-arrow:before {content: \"▾\";}#sk-container-id-3 div.sk-estimator input.sk-toggleable__control:checked~label.sk-toggleable__label {background-color: #d4ebff;}#sk-container-id-3 div.sk-label input.sk-toggleable__control:checked~label.sk-toggleable__label {background-color: #d4ebff;}#sk-container-id-3 input.sk-hidden--visually {border: 0;clip: rect(1px 1px 1px 1px);clip: rect(1px, 1px, 1px, 1px);height: 1px;margin: -1px;overflow: hidden;padding: 0;position: absolute;width: 1px;}#sk-container-id-3 div.sk-estimator {font-family: monospace;background-color: #f0f8ff;border: 1px dotted black;border-radius: 0.25em;box-sizing: border-box;margin-bottom: 0.5em;}#sk-container-id-3 div.sk-estimator:hover {background-color: #d4ebff;}#sk-container-id-3 div.sk-parallel-item::after {content: \"\";width: 100%;border-bottom: 1px solid gray;flex-grow: 1;}#sk-container-id-3 div.sk-label:hover label.sk-toggleable__label {background-color: #d4ebff;}#sk-container-id-3 div.sk-serial::before {content: \"\";position: absolute;border-left: 1px solid gray;box-sizing: border-box;top: 0;bottom: 0;left: 50%;z-index: 0;}#sk-container-id-3 div.sk-serial {display: flex;flex-direction: column;align-items: center;background-color: white;padding-right: 0.2em;padding-left: 0.2em;position: relative;}#sk-container-id-3 div.sk-item {position: relative;z-index: 1;}#sk-container-id-3 div.sk-parallel {display: flex;align-items: stretch;justify-content: center;background-color: white;position: relative;}#sk-container-id-3 div.sk-item::before, #sk-container-id-3 div.sk-parallel-item::before {content: \"\";position: absolute;border-left: 1px solid gray;box-sizing: border-box;top: 0;bottom: 0;left: 50%;z-index: -1;}#sk-container-id-3 div.sk-parallel-item {display: flex;flex-direction: column;z-index: 1;position: relative;background-color: white;}#sk-container-id-3 div.sk-parallel-item:first-child::after {align-self: flex-end;width: 50%;}#sk-container-id-3 div.sk-parallel-item:last-child::after {align-self: flex-start;width: 50%;}#sk-container-id-3 div.sk-parallel-item:only-child::after {width: 0;}#sk-container-id-3 div.sk-dashed-wrapped {border: 1px dashed gray;margin: 0 0.4em 0.5em 0.4em;box-sizing: border-box;padding-bottom: 0.4em;background-color: white;}#sk-container-id-3 div.sk-label label {font-family: monospace;font-weight: bold;display: inline-block;line-height: 1.2em;}#sk-container-id-3 div.sk-label-container {text-align: center;}#sk-container-id-3 div.sk-container {/* jupyter's `normalize.less` sets `[hidden] { display: none; }` but bootstrap.min.css set `[hidden] { display: none !important; }` so we also need the `!important` here to be able to override the default hidden behavior on the sphinx rendered scikit-learn.org. See: https://github.com/scikit-learn/scikit-learn/issues/21755 */display: inline-block !important;position: relative;}#sk-container-id-3 div.sk-text-repr-fallback {display: none;}</style><div id=\"sk-container-id-3\" class=\"sk-top-container\"><div class=\"sk-text-repr-fallback\"><pre>Pipeline(steps=[(&#x27;preprocessor&#x27;,\n",
       "                 ColumnTransformer(transformers=[(&#x27;text&#x27;,\n",
       "                                                  Pipeline(steps=[(&#x27;tfidf&#x27;,\n",
       "                                                                   TfidfVectorizer(min_df=0,\n",
       "                                                                                   ngram_range=(1,\n",
       "                                                                                                2),\n",
       "                                                                                   stop_words=&#x27;english&#x27;))]),\n",
       "                                                  &#x27;Book-Info&#x27;),\n",
       "                                                 (&#x27;group&#x27;, &#x27;passthrough&#x27;,\n",
       "                                                  [&#x27;Age-Group-Encoded&#x27;,\n",
       "                                                   &#x27;Year-Of-Publication-Group-Encoded&#x27;]),\n",
       "                                                 (&#x27;country&#x27;, &#x27;passthrough&#x27;,\n",
       "                                                  [&#x27;User-Country-Encoded&#x27;])])),\n",
       "                (&#x27;classifier&#x27;, DecisionTreeClassifier(random_state=42))])</pre><b>In a Jupyter environment, please rerun this cell to show the HTML representation or trust the notebook. <br />On GitHub, the HTML representation is unable to render, please try loading this page with nbviewer.org.</b></div><div class=\"sk-container\" hidden><div class=\"sk-item sk-dashed-wrapped\"><div class=\"sk-label-container\"><div class=\"sk-label sk-toggleable\"><input class=\"sk-toggleable__control sk-hidden--visually\" id=\"sk-estimator-id-19\" type=\"checkbox\" ><label for=\"sk-estimator-id-19\" class=\"sk-toggleable__label sk-toggleable__label-arrow\">Pipeline</label><div class=\"sk-toggleable__content\"><pre>Pipeline(steps=[(&#x27;preprocessor&#x27;,\n",
       "                 ColumnTransformer(transformers=[(&#x27;text&#x27;,\n",
       "                                                  Pipeline(steps=[(&#x27;tfidf&#x27;,\n",
       "                                                                   TfidfVectorizer(min_df=0,\n",
       "                                                                                   ngram_range=(1,\n",
       "                                                                                                2),\n",
       "                                                                                   stop_words=&#x27;english&#x27;))]),\n",
       "                                                  &#x27;Book-Info&#x27;),\n",
       "                                                 (&#x27;group&#x27;, &#x27;passthrough&#x27;,\n",
       "                                                  [&#x27;Age-Group-Encoded&#x27;,\n",
       "                                                   &#x27;Year-Of-Publication-Group-Encoded&#x27;]),\n",
       "                                                 (&#x27;country&#x27;, &#x27;passthrough&#x27;,\n",
       "                                                  [&#x27;User-Country-Encoded&#x27;])])),\n",
       "                (&#x27;classifier&#x27;, DecisionTreeClassifier(random_state=42))])</pre></div></div></div><div class=\"sk-serial\"><div class=\"sk-item sk-dashed-wrapped\"><div class=\"sk-label-container\"><div class=\"sk-label sk-toggleable\"><input class=\"sk-toggleable__control sk-hidden--visually\" id=\"sk-estimator-id-20\" type=\"checkbox\" ><label for=\"sk-estimator-id-20\" class=\"sk-toggleable__label sk-toggleable__label-arrow\">preprocessor: ColumnTransformer</label><div class=\"sk-toggleable__content\"><pre>ColumnTransformer(transformers=[(&#x27;text&#x27;,\n",
       "                                 Pipeline(steps=[(&#x27;tfidf&#x27;,\n",
       "                                                  TfidfVectorizer(min_df=0,\n",
       "                                                                  ngram_range=(1,\n",
       "                                                                               2),\n",
       "                                                                  stop_words=&#x27;english&#x27;))]),\n",
       "                                 &#x27;Book-Info&#x27;),\n",
       "                                (&#x27;group&#x27;, &#x27;passthrough&#x27;,\n",
       "                                 [&#x27;Age-Group-Encoded&#x27;,\n",
       "                                  &#x27;Year-Of-Publication-Group-Encoded&#x27;]),\n",
       "                                (&#x27;country&#x27;, &#x27;passthrough&#x27;,\n",
       "                                 [&#x27;User-Country-Encoded&#x27;])])</pre></div></div></div><div class=\"sk-parallel\"><div class=\"sk-parallel-item\"><div class=\"sk-item\"><div class=\"sk-label-container\"><div class=\"sk-label sk-toggleable\"><input class=\"sk-toggleable__control sk-hidden--visually\" id=\"sk-estimator-id-21\" type=\"checkbox\" ><label for=\"sk-estimator-id-21\" class=\"sk-toggleable__label sk-toggleable__label-arrow\">text</label><div class=\"sk-toggleable__content\"><pre>Book-Info</pre></div></div></div><div class=\"sk-serial\"><div class=\"sk-item\"><div class=\"sk-serial\"><div class=\"sk-item\"><div class=\"sk-estimator sk-toggleable\"><input class=\"sk-toggleable__control sk-hidden--visually\" id=\"sk-estimator-id-22\" type=\"checkbox\" ><label for=\"sk-estimator-id-22\" class=\"sk-toggleable__label sk-toggleable__label-arrow\">TfidfVectorizer</label><div class=\"sk-toggleable__content\"><pre>TfidfVectorizer(min_df=0, ngram_range=(1, 2), stop_words=&#x27;english&#x27;)</pre></div></div></div></div></div></div></div></div><div class=\"sk-parallel-item\"><div class=\"sk-item\"><div class=\"sk-label-container\"><div class=\"sk-label sk-toggleable\"><input class=\"sk-toggleable__control sk-hidden--visually\" id=\"sk-estimator-id-23\" type=\"checkbox\" ><label for=\"sk-estimator-id-23\" class=\"sk-toggleable__label sk-toggleable__label-arrow\">group</label><div class=\"sk-toggleable__content\"><pre>[&#x27;Age-Group-Encoded&#x27;, &#x27;Year-Of-Publication-Group-Encoded&#x27;]</pre></div></div></div><div class=\"sk-serial\"><div class=\"sk-item\"><div class=\"sk-estimator sk-toggleable\"><input class=\"sk-toggleable__control sk-hidden--visually\" id=\"sk-estimator-id-24\" type=\"checkbox\" ><label for=\"sk-estimator-id-24\" class=\"sk-toggleable__label sk-toggleable__label-arrow\">passthrough</label><div class=\"sk-toggleable__content\"><pre>passthrough</pre></div></div></div></div></div></div><div class=\"sk-parallel-item\"><div class=\"sk-item\"><div class=\"sk-label-container\"><div class=\"sk-label sk-toggleable\"><input class=\"sk-toggleable__control sk-hidden--visually\" id=\"sk-estimator-id-25\" type=\"checkbox\" ><label for=\"sk-estimator-id-25\" class=\"sk-toggleable__label sk-toggleable__label-arrow\">country</label><div class=\"sk-toggleable__content\"><pre>[&#x27;User-Country-Encoded&#x27;]</pre></div></div></div><div class=\"sk-serial\"><div class=\"sk-item\"><div class=\"sk-estimator sk-toggleable\"><input class=\"sk-toggleable__control sk-hidden--visually\" id=\"sk-estimator-id-26\" type=\"checkbox\" ><label for=\"sk-estimator-id-26\" class=\"sk-toggleable__label sk-toggleable__label-arrow\">passthrough</label><div class=\"sk-toggleable__content\"><pre>passthrough</pre></div></div></div></div></div></div></div></div><div class=\"sk-item\"><div class=\"sk-estimator sk-toggleable\"><input class=\"sk-toggleable__control sk-hidden--visually\" id=\"sk-estimator-id-27\" type=\"checkbox\" ><label for=\"sk-estimator-id-27\" class=\"sk-toggleable__label sk-toggleable__label-arrow\">DecisionTreeClassifier</label><div class=\"sk-toggleable__content\"><pre>DecisionTreeClassifier(random_state=42)</pre></div></div></div></div></div></div></div>"
      ],
      "text/plain": [
       "Pipeline(steps=[('preprocessor',\n",
       "                 ColumnTransformer(transformers=[('text',\n",
       "                                                  Pipeline(steps=[('tfidf',\n",
       "                                                                   TfidfVectorizer(min_df=0,\n",
       "                                                                                   ngram_range=(1,\n",
       "                                                                                                2),\n",
       "                                                                                   stop_words='english'))]),\n",
       "                                                  'Book-Info'),\n",
       "                                                 ('group', 'passthrough',\n",
       "                                                  ['Age-Group-Encoded',\n",
       "                                                   'Year-Of-Publication-Group-Encoded']),\n",
       "                                                 ('country', 'passthrough',\n",
       "                                                  ['User-Country-Encoded'])])),\n",
       "                ('classifier', DecisionTreeClassifier(random_state=42))])"
      ]
     },
     "execution_count": 91,
     "metadata": {},
     "output_type": "execute_result"
    }
   ],
   "source": [
    "# Fit the pipeline on training data\n",
    "pipeline.fit(X_train, y_train)"
   ]
  },
  {
   "cell_type": "code",
   "execution_count": 92,
   "id": "b0e93175-d463-4315-a104-6167f78fd136",
   "metadata": {},
   "outputs": [],
   "source": [
    "y_pred = pipeline.predict(X_test)"
   ]
  },
  {
   "cell_type": "markdown",
   "id": "25da8dc8-1fb4-4372-9d04-29490341e816",
   "metadata": {},
   "source": [
    "## Results"
   ]
  },
  {
   "cell_type": "code",
   "execution_count": 93,
   "id": "733f0de0-79ae-4a22-b563-3953d83f4624",
   "metadata": {},
   "outputs": [
    {
     "name": "stdout",
     "output_type": "stream",
     "text": [
      "Accuracy: 0.9728056004308023\n",
      "Classification Report (Training Set):\n",
      "              precision    recall  f1-score   support\n",
      "\n",
      "           0       0.94      1.00      0.97      8486\n",
      "           1       0.97      0.97      0.97     11250\n",
      "           2       1.00      0.95      0.98      9976\n",
      "\n",
      "    accuracy                           0.97     29712\n",
      "   macro avg       0.97      0.97      0.97     29712\n",
      "weighted avg       0.97      0.97      0.97     29712\n",
      "\n",
      "Confusion Matrix (Training Set):\n",
      "[[ 8472     9     5]\n",
      " [  324 10916    10]\n",
      " [  186   274  9516]]\n"
     ]
    }
   ],
   "source": [
    "y_pred_train = pipeline.predict(X_train)\n",
    "\n",
    "accuracy = accuracy_score(y_train, y_pred_train)\n",
    "print(\"Accuracy:\", accuracy)\n",
    "\n",
    "# Display classification report\n",
    "print(\"Classification Report (Training Set):\")\n",
    "print(classification_report(y_train, y_pred_train))\n",
    "\n",
    "# Display confusion matrix\n",
    "conf_matrix_train = confusion_matrix(y_train, y_pred_train)\n",
    "print(\"Confusion Matrix (Training Set):\")\n",
    "print(conf_matrix_train)"
   ]
  },
  {
   "cell_type": "code",
   "execution_count": 94,
   "id": "1feaba46-90f6-4f1a-a7ee-57aba3ebb55c",
   "metadata": {},
   "outputs": [
    {
     "name": "stdout",
     "output_type": "stream",
     "text": [
      "Accuracy: 0.41755283349037553\n",
      "Classification Report (Test Set):\n",
      "              precision    recall  f1-score   support\n",
      "\n",
      "           0       0.38      0.33      0.35      2062\n",
      "           1       0.41      0.50      0.45      2820\n",
      "           2       0.46      0.40      0.43      2547\n",
      "\n",
      "    accuracy                           0.42      7429\n",
      "   macro avg       0.42      0.41      0.41      7429\n",
      "weighted avg       0.42      0.42      0.42      7429\n",
      "\n",
      "Confusion Matrix (Test Set):\n",
      "[[ 681  916  465]\n",
      " [ 670 1404  746]\n",
      " [ 449 1081 1017]]\n"
     ]
    }
   ],
   "source": [
    "accuracy = accuracy_score(y_test, y_pred)\n",
    "print(\"Accuracy:\", accuracy)\n",
    "\n",
    "# Display classification report\n",
    "print(\"Classification Report (Test Set):\")\n",
    "print(classification_report(y_test, y_pred))\n",
    "\n",
    "# Display confusion matrix\n",
    "conf_matrix_train = confusion_matrix(y_test, y_pred)\n",
    "print(\"Confusion Matrix (Test Set):\")\n",
    "print(conf_matrix_train)"
   ]
  },
  {
   "cell_type": "code",
   "execution_count": 97,
   "id": "4cc68db6-be21-458a-885b-d27818909fa5",
   "metadata": {},
   "outputs": [
    {
     "data": {
      "image/png": "[encoded data removed]",
      "text/plain": [
       "<Figure size 576x432 with 2 Axes>"
      ]
     },
     "metadata": {},
     "output_type": "display_data"
    }
   ],
   "source": [
    "cm = confusion_matrix(y_test, y_pred)\n",
    "\n",
    "# Plot confusion matrix\n",
    "plt.figure(figsize=(8, 6))\n",
    "sns.heatmap(cm, fmt='%d', cmap='Blues',\n",
    "            xticklabels=['0', '1', '2'],\n",
    "            yticklabels=['0', '1', '2'])\n",
    "plt.title('Confusion Matrix')\n",
    "plt.xlabel('Predicted Label')\n",
    "plt.ylabel('True Label')\n",
    "plt.show()\n"
   ]
  },
  {
   "cell_type": "code",
   "execution_count": 98,
   "id": "f7546b26-b59c-4db4-8f14-5e678a4668f1",
   "metadata": {},
   "outputs": [
    {
     "data": {
      "text/plain": [
       "array([[ 681,  916,  465],\n",
       "       [ 670, 1404,  746],\n",
       "       [ 449, 1081, 1017]])"
      ]
     },
     "execution_count": 98,
     "metadata": {},
     "output_type": "execute_result"
    }
   ],
   "source": [
    "cm"
   ]
  },
  {
   "cell_type": "markdown",
   "id": "b908fcc6-d3ff-4783-85af-c7daa531ae54",
   "metadata": {},
   "source": [
    "## Able to estimate popularity:"
   ]
  },
  {
   "cell_type": "code",
   "execution_count": 99,
   "id": "0e22c9fa-cc9a-42fe-b925-1be6bc35ac43",
   "metadata": {},
   "outputs": [
    {
     "data": {
      "text/html": [
       "<div>\n",
       "<style scoped>\n",
       "    .dataframe tbody tr th:only-of-type {\n",
       "        vertical-align: middle;\n",
       "    }\n",
       "\n",
       "    .dataframe tbody tr th {\n",
       "        vertical-align: top;\n",
       "    }\n",
       "\n",
       "    .dataframe thead th {\n",
       "        text-align: right;\n",
       "    }\n",
       "</style>\n",
       "<table border=\"1\" class=\"dataframe\">\n",
       "  <thead>\n",
       "    <tr style=\"text-align: right;\">\n",
       "      <th></th>\n",
       "      <th>Book-Info</th>\n",
       "      <th>User-Country-Encoded</th>\n",
       "      <th>Age-Group-Encoded</th>\n",
       "      <th>Year-Of-Publication-Group-Encoded</th>\n",
       "    </tr>\n",
       "  </thead>\n",
       "  <tbody>\n",
       "    <tr>\n",
       "      <th>0</th>\n",
       "      <td>harry potter by jk rowling</td>\n",
       "      <td>65</td>\n",
       "      <td>2</td>\n",
       "      <td>7</td>\n",
       "    </tr>\n",
       "  </tbody>\n",
       "</table>\n",
       "</div>"
      ],
      "text/plain": [
       "                    Book-Info  ...  Year-Of-Publication-Group-Encoded\n",
       "0  harry potter by jk rowling  ...                                  7\n",
       "\n",
       "[1 rows x 4 columns]"
      ]
     },
     "execution_count": 99,
     "metadata": {},
     "output_type": "execute_result"
    }
   ],
   "source": [
    "example_dict = {'Book-Info':'harry potter by jk rowling',\n",
    "                          'User-Country-Encoded':65, 'Age-Group-Encoded':2,\n",
    "                'Year-Of-Publication-Group-Encoded':7}\n",
    "\n",
    "X_example = pd.DataFrame(example_dict, index = [0])\n",
    "X_example"
   ]
  },
  {
   "cell_type": "code",
   "execution_count": 100,
   "id": "1a2b5d76-b918-4f10-a038-cd756006a713",
   "metadata": {},
   "outputs": [
    {
     "data": {
      "text/plain": [
       "2"
      ]
     },
     "execution_count": 100,
     "metadata": {},
     "output_type": "execute_result"
    }
   ],
   "source": [
    "# bins for weighted rating: 4.20336529, 7.57571908, 8.05047939, 9.51708247]\n",
    "# between 8.050 and 9.517\n",
    "# high populirity\n",
    "pipeline.predict(X_example)[0]"
   ]
  },
  {
   "cell_type": "markdown",
   "id": "a5f86df0-087a-4d2b-ad1a-2a815d67e6da",
   "metadata": {},
   "source": [
    "## Dataset info:"
   ]
  },
  {
   "cell_type": "code",
   "execution_count": 40,
   "id": "79df269e-1180-45b9-8f46-f25fbeb86be8",
   "metadata": {},
   "outputs": [
    {
     "data": {
      "text/html": [
       "<div>\n",
       "<style scoped>\n",
       "    .dataframe tbody tr th:only-of-type {\n",
       "        vertical-align: middle;\n",
       "    }\n",
       "\n",
       "    .dataframe tbody tr th {\n",
       "        vertical-align: top;\n",
       "    }\n",
       "\n",
       "    .dataframe thead th {\n",
       "        text-align: right;\n",
       "    }\n",
       "</style>\n",
       "<table border=\"1\" class=\"dataframe\">\n",
       "  <thead>\n",
       "    <tr style=\"text-align: right;\">\n",
       "      <th></th>\n",
       "      <th>Year-Of-Publication-Group</th>\n",
       "      <th>Year-Of-Publication-Group-Encoded</th>\n",
       "    </tr>\n",
       "  </thead>\n",
       "  <tbody>\n",
       "    <tr>\n",
       "      <th>0</th>\n",
       "      <td>(1989, 1999]</td>\n",
       "      <td>7</td>\n",
       "    </tr>\n",
       "    <tr>\n",
       "      <th>47</th>\n",
       "      <td>(1999, 2009]</td>\n",
       "      <td>8</td>\n",
       "    </tr>\n",
       "    <tr>\n",
       "      <th>172</th>\n",
       "      <td>(1979, 1989]</td>\n",
       "      <td>6</td>\n",
       "    </tr>\n",
       "    <tr>\n",
       "      <th>1588</th>\n",
       "      <td>(1959, 1969]</td>\n",
       "      <td>4</td>\n",
       "    </tr>\n",
       "    <tr>\n",
       "      <th>1600</th>\n",
       "      <td>(1969, 1979]</td>\n",
       "      <td>5</td>\n",
       "    </tr>\n",
       "    <tr>\n",
       "      <th>6028</th>\n",
       "      <td>(1949, 1959]</td>\n",
       "      <td>3</td>\n",
       "    </tr>\n",
       "    <tr>\n",
       "      <th>22704</th>\n",
       "      <td>(1929, 1939]</td>\n",
       "      <td>1</td>\n",
       "    </tr>\n",
       "  </tbody>\n",
       "</table>\n",
       "</div>"
      ],
      "text/plain": [
       "      Year-Of-Publication-Group  Year-Of-Publication-Group-Encoded\n",
       "0                  (1989, 1999]                                  7\n",
       "47                 (1999, 2009]                                  8\n",
       "172                (1979, 1989]                                  6\n",
       "1588               (1959, 1969]                                  4\n",
       "1600               (1969, 1979]                                  5\n",
       "6028               (1949, 1959]                                  3\n",
       "22704              (1929, 1939]                                  1"
      ]
     },
     "execution_count": 40,
     "metadata": {},
     "output_type": "execute_result"
    }
   ],
   "source": [
    "df[['Year-Of-Publication-Group', 'Year-Of-Publication-Group-Encoded']].drop_duplicates()"
   ]
  },
  {
   "cell_type": "raw",
   "id": "12b69db7-2095-44f9-8622-bc09bd209036",
   "metadata": {},
   "source": [
    "df[['weighted_ratings_group', 'weighted_ratings_group_encoded']].drop_duplicates()"
   ]
  },
  {
   "cell_type": "code",
   "execution_count": 44,
   "id": "0bdaa6c6-5b12-411a-87e6-f8e570408f3b",
   "metadata": {},
   "outputs": [
    {
     "data": {
      "text/html": [
       "<div>\n",
       "<style scoped>\n",
       "    .dataframe tbody tr th:only-of-type {\n",
       "        vertical-align: middle;\n",
       "    }\n",
       "\n",
       "    .dataframe tbody tr th {\n",
       "        vertical-align: top;\n",
       "    }\n",
       "\n",
       "    .dataframe thead th {\n",
       "        text-align: right;\n",
       "    }\n",
       "</style>\n",
       "<table border=\"1\" class=\"dataframe\">\n",
       "  <thead>\n",
       "    <tr style=\"text-align: right;\">\n",
       "      <th></th>\n",
       "      <th>Age-Group</th>\n",
       "      <th>Age-Group-Encoded</th>\n",
       "    </tr>\n",
       "  </thead>\n",
       "  <tbody>\n",
       "    <tr>\n",
       "      <th>0</th>\n",
       "      <td>(4.0, 26.0]</td>\n",
       "      <td>0</td>\n",
       "    </tr>\n",
       "    <tr>\n",
       "      <th>1</th>\n",
       "      <td>(26.0, 34.0]</td>\n",
       "      <td>1</td>\n",
       "    </tr>\n",
       "    <tr>\n",
       "      <th>2</th>\n",
       "      <td>(46.0, 100.0]</td>\n",
       "      <td>3</td>\n",
       "    </tr>\n",
       "    <tr>\n",
       "      <th>5</th>\n",
       "      <td>(34.0, 46.0]</td>\n",
       "      <td>2</td>\n",
       "    </tr>\n",
       "  </tbody>\n",
       "</table>\n",
       "</div>"
      ],
      "text/plain": [
       "       Age-Group  Age-Group-Encoded\n",
       "0    (4.0, 26.0]                  0\n",
       "1   (26.0, 34.0]                  1\n",
       "2  (46.0, 100.0]                  3\n",
       "5   (34.0, 46.0]                  2"
      ]
     },
     "execution_count": 44,
     "metadata": {},
     "output_type": "execute_result"
    }
   ],
   "source": [
    "df[['Age-Group', 'Age-Group-Encoded']].drop_duplicates()"
   ]
  },
  {
   "cell_type": "code",
   "execution_count": 45,
   "id": "ae61786e-04df-4754-b128-f9a5c8b8df0d",
   "metadata": {
    "scrolled": true
   },
   "outputs": [
    {
     "data": {
      "text/html": [
       "<div>\n",
       "<style scoped>\n",
       "    .dataframe tbody tr th:only-of-type {\n",
       "        vertical-align: middle;\n",
       "    }\n",
       "\n",
       "    .dataframe tbody tr th {\n",
       "        vertical-align: top;\n",
       "    }\n",
       "\n",
       "    .dataframe thead th {\n",
       "        text-align: right;\n",
       "    }\n",
       "</style>\n",
       "<table border=\"1\" class=\"dataframe\">\n",
       "  <thead>\n",
       "    <tr style=\"text-align: right;\">\n",
       "      <th></th>\n",
       "      <th>User-Country</th>\n",
       "      <th>User-Country-Encoded</th>\n",
       "    </tr>\n",
       "  </thead>\n",
       "  <tbody>\n",
       "    <tr>\n",
       "      <th>0</th>\n",
       "      <td>malaysia</td>\n",
       "      <td>65</td>\n",
       "    </tr>\n",
       "    <tr>\n",
       "      <th>1</th>\n",
       "      <td>unknown</td>\n",
       "      <td>121</td>\n",
       "    </tr>\n",
       "    <tr>\n",
       "      <th>3</th>\n",
       "      <td>usa</td>\n",
       "      <td>124</td>\n",
       "    </tr>\n",
       "    <tr>\n",
       "      <th>7</th>\n",
       "      <td>australia</td>\n",
       "      <td>7</td>\n",
       "    </tr>\n",
       "    <tr>\n",
       "      <th>8</th>\n",
       "      <td>brazil</td>\n",
       "      <td>15</td>\n",
       "    </tr>\n",
       "    <tr>\n",
       "      <th>...</th>\n",
       "      <td>...</td>\n",
       "      <td>...</td>\n",
       "    </tr>\n",
       "    <tr>\n",
       "      <th>27737</th>\n",
       "      <td>urugua</td>\n",
       "      <td>122</td>\n",
       "    </tr>\n",
       "    <tr>\n",
       "      <th>31652</th>\n",
       "      <td>croatia</td>\n",
       "      <td>25</td>\n",
       "    </tr>\n",
       "    <tr>\n",
       "      <th>33861</th>\n",
       "      <td>u.s.a.</td>\n",
       "      <td>115</td>\n",
       "    </tr>\n",
       "    <tr>\n",
       "      <th>34124</th>\n",
       "      <td>tajikistan</td>\n",
       "      <td>107</td>\n",
       "    </tr>\n",
       "    <tr>\n",
       "      <th>36091</th>\n",
       "      <td>cuba</td>\n",
       "      <td>26</td>\n",
       "    </tr>\n",
       "  </tbody>\n",
       "</table>\n",
       "<p>114 rows × 2 columns</p>\n",
       "</div>"
      ],
      "text/plain": [
       "      User-Country  User-Country-Encoded\n",
       "0         malaysia                    65\n",
       "1          unknown                   121\n",
       "3              usa                   124\n",
       "7        australia                     7\n",
       "8           brazil                    15\n",
       "...            ...                   ...\n",
       "27737       urugua                   122\n",
       "31652      croatia                    25\n",
       "33861       u.s.a.                   115\n",
       "34124   tajikistan                   107\n",
       "36091         cuba                    26\n",
       "\n",
       "[114 rows x 2 columns]"
      ]
     },
     "execution_count": 45,
     "metadata": {},
     "output_type": "execute_result"
    }
   ],
   "source": [
    "df[['User-Country', 'User-Country-Encoded']].drop_duplicates()"
   ]
  },
  {
   "cell_type": "code",
   "execution_count": 69,
   "id": "0e1ccca6-a0d2-4b57-a27b-d175fdf3a899",
   "metadata": {},
   "outputs": [
    {
     "data": {
      "text/plain": [
       "0    3\n",
       "1    1\n",
       "3    2\n",
       "4    0\n",
       "Name: weighted_ratings_group_encoded, dtype: int64"
      ]
     },
     "execution_count": 69,
     "metadata": {},
     "output_type": "execute_result"
    }
   ],
   "source": [
    "df['weighted_ratings_group_encoded'].drop_duplicates()"
   ]
  },
  {
   "cell_type": "code",
   "execution_count": 70,
   "id": "1f8d71ad-acaf-410c-8e45-1c1db85c9eef",
   "metadata": {},
   "outputs": [
    {
     "data": {
      "text/html": [
       "<div>\n",
       "<style scoped>\n",
       "    .dataframe tbody tr th:only-of-type {\n",
       "        vertical-align: middle;\n",
       "    }\n",
       "\n",
       "    .dataframe tbody tr th {\n",
       "        vertical-align: top;\n",
       "    }\n",
       "\n",
       "    .dataframe thead th {\n",
       "        text-align: right;\n",
       "    }\n",
       "</style>\n",
       "<table border=\"1\" class=\"dataframe\">\n",
       "  <thead>\n",
       "    <tr style=\"text-align: right;\">\n",
       "      <th></th>\n",
       "      <th>ISBN</th>\n",
       "      <th>Book-Title</th>\n",
       "      <th>Book-Author</th>\n",
       "      <th>Year-Of-Publication</th>\n",
       "      <th>Book-Publisher</th>\n",
       "      <th>Book-Author-Processed</th>\n",
       "      <th>Book-Publisher-Processed</th>\n",
       "      <th>Book-Title-Processed</th>\n",
       "      <th>Book-Info</th>\n",
       "      <th>Book-Vector</th>\n",
       "      <th>Year-Of-Publication-Group</th>\n",
       "      <th>Year-Of-Publication-Group-Encoded</th>\n",
       "      <th>User-Country</th>\n",
       "      <th>User-Country-Encoded</th>\n",
       "      <th>Age-Group-Encoded</th>\n",
       "      <th>Age-Group</th>\n",
       "      <th>average_rating</th>\n",
       "      <th>times_read</th>\n",
       "      <th>average_age</th>\n",
       "      <th>weighted_ratings</th>\n",
       "      <th>weighted_ratings_group_encoded</th>\n",
       "    </tr>\n",
       "  </thead>\n",
       "  <tbody>\n",
       "    <tr>\n",
       "      <th>0</th>\n",
       "      <td>0399135782</td>\n",
       "      <td>The Kitchen God's Wife</td>\n",
       "      <td>Amy Tan</td>\n",
       "      <td>1991.0</td>\n",
       "      <td>Putnam Pub Group</td>\n",
       "      <td>amy tan</td>\n",
       "      <td>putnam pub group</td>\n",
       "      <td>kitchen god wife</td>\n",
       "      <td>The Kitchen God's Wife by Amy Tan</td>\n",
       "      <td>[0.0, 0.0, 0.0, 0.0, 0.0, 0.0, 0.0, 0.0, 0.0, ...</td>\n",
       "      <td>(1989, 1999]</td>\n",
       "      <td>7</td>\n",
       "      <td>malaysia</td>\n",
       "      <td>65</td>\n",
       "      <td>0</td>\n",
       "      <td>(4.0, 26.0]</td>\n",
       "      <td>10.000000</td>\n",
       "      <td>1</td>\n",
       "      <td>21.0</td>\n",
       "      <td>8.325719</td>\n",
       "      <td>3</td>\n",
       "    </tr>\n",
       "    <tr>\n",
       "      <th>1</th>\n",
       "      <td>0399135782</td>\n",
       "      <td>The Kitchen God's Wife</td>\n",
       "      <td>Amy Tan</td>\n",
       "      <td>1991.0</td>\n",
       "      <td>Putnam Pub Group</td>\n",
       "      <td>amy tan</td>\n",
       "      <td>putnam pub group</td>\n",
       "      <td>kitchen god wife</td>\n",
       "      <td>The Kitchen God's Wife by Amy Tan</td>\n",
       "      <td>[0.0, 0.0, 0.0, 0.0, 0.0, 0.0, 0.0, 0.0, 0.0, ...</td>\n",
       "      <td>(1989, 1999]</td>\n",
       "      <td>7</td>\n",
       "      <td>unknown</td>\n",
       "      <td>121</td>\n",
       "      <td>1</td>\n",
       "      <td>(26.0, 34.0]</td>\n",
       "      <td>7.000000</td>\n",
       "      <td>1</td>\n",
       "      <td>27.0</td>\n",
       "      <td>7.575719</td>\n",
       "      <td>1</td>\n",
       "    </tr>\n",
       "    <tr>\n",
       "      <th>2</th>\n",
       "      <td>0399135782</td>\n",
       "      <td>The Kitchen God's Wife</td>\n",
       "      <td>Amy Tan</td>\n",
       "      <td>1991.0</td>\n",
       "      <td>Putnam Pub Group</td>\n",
       "      <td>amy tan</td>\n",
       "      <td>putnam pub group</td>\n",
       "      <td>kitchen god wife</td>\n",
       "      <td>The Kitchen God's Wife by Amy Tan</td>\n",
       "      <td>[0.0, 0.0, 0.0, 0.0, 0.0, 0.0, 0.0, 0.0, 0.0, ...</td>\n",
       "      <td>(1989, 1999]</td>\n",
       "      <td>7</td>\n",
       "      <td>unknown</td>\n",
       "      <td>121</td>\n",
       "      <td>3</td>\n",
       "      <td>(46.0, 100.0]</td>\n",
       "      <td>9.000000</td>\n",
       "      <td>1</td>\n",
       "      <td>72.0</td>\n",
       "      <td>8.075719</td>\n",
       "      <td>3</td>\n",
       "    </tr>\n",
       "    <tr>\n",
       "      <th>3</th>\n",
       "      <td>0399135782</td>\n",
       "      <td>The Kitchen God's Wife</td>\n",
       "      <td>Amy Tan</td>\n",
       "      <td>1991.0</td>\n",
       "      <td>Putnam Pub Group</td>\n",
       "      <td>amy tan</td>\n",
       "      <td>putnam pub group</td>\n",
       "      <td>kitchen god wife</td>\n",
       "      <td>The Kitchen God's Wife by Amy Tan</td>\n",
       "      <td>[0.0, 0.0, 0.0, 0.0, 0.0, 0.0, 0.0, 0.0, 0.0, ...</td>\n",
       "      <td>(1989, 1999]</td>\n",
       "      <td>7</td>\n",
       "      <td>usa</td>\n",
       "      <td>124</td>\n",
       "      <td>0</td>\n",
       "      <td>(4.0, 26.0]</td>\n",
       "      <td>8.500000</td>\n",
       "      <td>2</td>\n",
       "      <td>24.0</td>\n",
       "      <td>8.060575</td>\n",
       "      <td>2</td>\n",
       "    </tr>\n",
       "    <tr>\n",
       "      <th>4</th>\n",
       "      <td>0399135782</td>\n",
       "      <td>The Kitchen God's Wife</td>\n",
       "      <td>Amy Tan</td>\n",
       "      <td>1991.0</td>\n",
       "      <td>Putnam Pub Group</td>\n",
       "      <td>amy tan</td>\n",
       "      <td>putnam pub group</td>\n",
       "      <td>kitchen god wife</td>\n",
       "      <td>The Kitchen God's Wife by Amy Tan</td>\n",
       "      <td>[0.0, 0.0, 0.0, 0.0, 0.0, 0.0, 0.0, 0.0, 0.0, ...</td>\n",
       "      <td>(1989, 1999]</td>\n",
       "      <td>7</td>\n",
       "      <td>usa</td>\n",
       "      <td>124</td>\n",
       "      <td>1</td>\n",
       "      <td>(26.0, 34.0]</td>\n",
       "      <td>6.333333</td>\n",
       "      <td>3</td>\n",
       "      <td>30.0</td>\n",
       "      <td>7.050479</td>\n",
       "      <td>0</td>\n",
       "    </tr>\n",
       "  </tbody>\n",
       "</table>\n",
       "</div>"
      ],
      "text/plain": [
       "         ISBN  ... weighted_ratings_group_encoded\n",
       "0  0399135782  ...                              3\n",
       "1  0399135782  ...                              1\n",
       "2  0399135782  ...                              3\n",
       "3  0399135782  ...                              2\n",
       "4  0399135782  ...                              0\n",
       "\n",
       "[5 rows x 21 columns]"
      ]
     },
     "execution_count": 70,
     "metadata": {},
     "output_type": "execute_result"
    }
   ],
   "source": [
    "df.head()"
   ]
  },
  {
   "cell_type": "code",
   "execution_count": null,
   "id": "dd48e8a3-0736-4134-a09d-f017a44139ef",
   "metadata": {},
   "outputs": [],
   "source": []
  }
 ],
 "metadata": {
  "kernelspec": {
   "display_name": "Python 3 (Spyder)",
   "language": "python3",
   "name": "python3"
  },
  "language_info": {
   "codemirror_mode": {
    "name": "ipython",
    "version": 3
   },
   "file_extension": ".py",
   "mimetype": "text/x-python",
   "name": "python",
   "nbconvert_exporter": "python",
   "pygments_lexer": "ipython3",
   "version": "3.11.0"
  }
 },
 "nbformat": 4,
 "nbformat_minor": 5
}
