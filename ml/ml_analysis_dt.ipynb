{
 "cells": [
  {
   "cell_type": "markdown",
   "id": "5f5fe41d-6844-4350-9922-f99caee611cd",
   "metadata": {},
   "source": [
    "# ML Analysis\n",
    "Will attempt to do some sort of clustering.\n",
    "## Set up Environment"
   ]
  },
  {
   "cell_type": "code",
   "execution_count": 3,
   "id": "9b533cb2-7851-4a1a-b958-297a384aa8af",
   "metadata": {},
   "outputs": [],
   "source": [
    "import os\n",
    "import pandas as pd\n",
    "import numpy as np\n",
    "import matplotlib.pyplot as plt\n",
    "import seaborn as sns\n",
    "import re\n",
    "\n",
    "# vectorizing the book info column using TFidf Vectorizer\n",
    "from sklearn.feature_extraction.text import CountVectorizer, TfidfVectorizer\n",
    "from sklearn.metrics.pairwise import cosine_similarity\n",
    "\n",
    "from sklearn.model_selection import train_test_split\n",
    "\n",
    "from sklearn.preprocessing import OrdinalEncoder\n",
    "\n",
    "from sklearn.pipeline import Pipeline, FeatureUnion\n",
    "from sklearn.compose import ColumnTransformer\n",
    "\n",
    "from sklearn.tree import DecisionTreeClassifier\n",
    "from sklearn.metrics import accuracy_score, confusion_matrix\n",
    "\n",
    "from sklearn import tree"
   ]
  },
  {
   "cell_type": "code",
   "execution_count": 4,
   "id": "5fd525cd-4a38-4ee4-8265-5c0a467c4885",
   "metadata": {},
   "outputs": [],
   "source": [
    "path = os.path.join(os.path.normpath(os.getcwd() + os.sep + os.pardir) + \"/data/\")"
   ]
  },
  {
   "cell_type": "code",
   "execution_count": 5,
   "id": "1c31c5ed-c417-4059-9a39-6008b2e00e3b",
   "metadata": {},
   "outputs": [
    {
     "data": {
      "text/plain": [
       "['.DS_Store',\n",
       " 'BX-Books.csv',\n",
       " 'BX-Ratings.csv',\n",
       " 'BX-Users.csv',\n",
       " 'BX-NewBooksRatings.csv',\n",
       " '.ipynb_checkpoints']"
      ]
     },
     "execution_count": 5,
     "metadata": {},
     "output_type": "execute_result"
    }
   ],
   "source": [
    "os.listdir(path + 'cleaned')"
   ]
  },
  {
   "cell_type": "markdown",
   "id": "2225efef-5978-42d3-96c5-4925d5acf19b",
   "metadata": {},
   "source": [
    "## Pull in required data:"
   ]
  },
  {
   "cell_type": "code",
   "execution_count": 6,
   "id": "4adf3af2-d5ea-4d6b-a112-16e6f2addf80",
   "metadata": {},
   "outputs": [],
   "source": [
    "books = pd.read_csv(path + 'cleaned/BX-Books.csv')\n",
    "users = pd.read_csv(path + 'cleaned/BX-Users.csv')\n",
    "ratings = pd.read_csv(path + 'cleaned/BX-Ratings.csv')"
   ]
  },
  {
   "cell_type": "code",
   "execution_count": 7,
   "id": "9b738158-ea27-4f81-8b5b-ccb6e06b04fe",
   "metadata": {},
   "outputs": [
    {
     "data": {
      "text/html": [
       "<div>\n",
       "<style scoped>\n",
       "    .dataframe tbody tr th:only-of-type {\n",
       "        vertical-align: middle;\n",
       "    }\n",
       "\n",
       "    .dataframe tbody tr th {\n",
       "        vertical-align: top;\n",
       "    }\n",
       "\n",
       "    .dataframe thead th {\n",
       "        text-align: right;\n",
       "    }\n",
       "</style>\n",
       "<table border=\"1\" class=\"dataframe\">\n",
       "  <thead>\n",
       "    <tr style=\"text-align: right;\">\n",
       "      <th></th>\n",
       "      <th>ISBN</th>\n",
       "      <th>Book-Title</th>\n",
       "      <th>Book-Author</th>\n",
       "      <th>Year-Of-Publication</th>\n",
       "      <th>Book-Publisher</th>\n",
       "      <th>Book-Info</th>\n",
       "      <th>Book-Vector</th>\n",
       "    </tr>\n",
       "  </thead>\n",
       "  <tbody>\n",
       "    <tr>\n",
       "      <th>0</th>\n",
       "      <td>0002005018</td>\n",
       "      <td>clara callan</td>\n",
       "      <td>richard bruce wright</td>\n",
       "      <td>2001.0</td>\n",
       "      <td>harperflamingo canada</td>\n",
       "      <td>clara callan by richard bruce wright</td>\n",
       "      <td>[0. 0. 0. ... 0. 0. 0.]</td>\n",
       "    </tr>\n",
       "  </tbody>\n",
       "</table>\n",
       "</div>"
      ],
      "text/plain": [
       "         ISBN  ...              Book-Vector\n",
       "0  0002005018  ...  [0. 0. 0. ... 0. 0. 0.]\n",
       "\n",
       "[1 rows x 7 columns]"
      ]
     },
     "execution_count": 7,
     "metadata": {},
     "output_type": "execute_result"
    }
   ],
   "source": [
    "books.head(1)"
   ]
  },
  {
   "cell_type": "code",
   "execution_count": 8,
   "id": "26c2039c-b4c7-46ee-a4ca-b8b360ba6add",
   "metadata": {},
   "outputs": [
    {
     "data": {
      "text/html": [
       "<div>\n",
       "<style scoped>\n",
       "    .dataframe tbody tr th:only-of-type {\n",
       "        vertical-align: middle;\n",
       "    }\n",
       "\n",
       "    .dataframe tbody tr th {\n",
       "        vertical-align: top;\n",
       "    }\n",
       "\n",
       "    .dataframe thead th {\n",
       "        text-align: right;\n",
       "    }\n",
       "</style>\n",
       "<table border=\"1\" class=\"dataframe\">\n",
       "  <thead>\n",
       "    <tr style=\"text-align: right;\">\n",
       "      <th></th>\n",
       "      <th>Unnamed: 0</th>\n",
       "      <th>User-ID</th>\n",
       "      <th>User-City</th>\n",
       "      <th>User-State</th>\n",
       "      <th>User-Country</th>\n",
       "      <th>User-Age</th>\n",
       "      <th>Age-Group</th>\n",
       "    </tr>\n",
       "  </thead>\n",
       "  <tbody>\n",
       "    <tr>\n",
       "      <th>0</th>\n",
       "      <td>0</td>\n",
       "      <td>8</td>\n",
       "      <td>timmins</td>\n",
       "      <td>ontario</td>\n",
       "      <td>canada</td>\n",
       "      <td>44.0</td>\n",
       "      <td>1</td>\n",
       "    </tr>\n",
       "  </tbody>\n",
       "</table>\n",
       "</div>"
      ],
      "text/plain": [
       "   Unnamed: 0  User-ID User-City User-State User-Country  User-Age  Age-Group\n",
       "0           0        8   timmins    ontario       canada      44.0          1"
      ]
     },
     "execution_count": 8,
     "metadata": {},
     "output_type": "execute_result"
    }
   ],
   "source": [
    "users.head(1)"
   ]
  },
  {
   "cell_type": "code",
   "execution_count": 9,
   "id": "7e41974e-2460-45eb-86bf-2be5bbcb6e54",
   "metadata": {},
   "outputs": [
    {
     "data": {
      "text/html": [
       "<div>\n",
       "<style scoped>\n",
       "    .dataframe tbody tr th:only-of-type {\n",
       "        vertical-align: middle;\n",
       "    }\n",
       "\n",
       "    .dataframe tbody tr th {\n",
       "        vertical-align: top;\n",
       "    }\n",
       "\n",
       "    .dataframe thead th {\n",
       "        text-align: right;\n",
       "    }\n",
       "</style>\n",
       "<table border=\"1\" class=\"dataframe\">\n",
       "  <thead>\n",
       "    <tr style=\"text-align: right;\">\n",
       "      <th></th>\n",
       "      <th>User-ID</th>\n",
       "      <th>ISBN</th>\n",
       "      <th>Book-Rating</th>\n",
       "    </tr>\n",
       "  </thead>\n",
       "  <tbody>\n",
       "    <tr>\n",
       "      <th>0</th>\n",
       "      <td>276744</td>\n",
       "      <td>038550120X</td>\n",
       "      <td>7</td>\n",
       "    </tr>\n",
       "  </tbody>\n",
       "</table>\n",
       "</div>"
      ],
      "text/plain": [
       "   User-ID        ISBN  Book-Rating\n",
       "0   276744  038550120X            7"
      ]
     },
     "execution_count": 9,
     "metadata": {},
     "output_type": "execute_result"
    }
   ],
   "source": [
    "ratings.head(1)"
   ]
  },
  {
   "cell_type": "markdown",
   "id": "4b78d2d5-0221-4fbf-94d6-e587e06f3fa0",
   "metadata": {},
   "source": [
    "### TF-IDF for Book Info:"
   ]
  },
  {
   "cell_type": "code",
   "execution_count": 10,
   "id": "0dc42faf-d577-49de-b26a-ccedbe478752",
   "metadata": {},
   "outputs": [],
   "source": [
    "tf = TfidfVectorizer(analyzer = \"word\", ngram_range=(1,2), min_df=0, stop_words='english')"
   ]
  },
  {
   "cell_type": "code",
   "execution_count": 11,
   "id": "1b32ae77-6145-4f6e-a13a-7facd2439a00",
   "metadata": {},
   "outputs": [],
   "source": [
    "tfidf_matrix = tf.fit(books['Book-Info'])"
   ]
  },
  {
   "cell_type": "code",
   "execution_count": 12,
   "id": "ec539946-cad7-4868-bcba-ed12b1f845e1",
   "metadata": {},
   "outputs": [],
   "source": [
    "book_vector = tfidf_matrix.transform(books['Book-Info']).toarray()"
   ]
  },
  {
   "cell_type": "code",
   "execution_count": 13,
   "id": "28a0c046-c23d-4ae7-9aad-ad9de539d6f7",
   "metadata": {},
   "outputs": [],
   "source": [
    "books['Book-Vector'] = list(book_vector)"
   ]
  },
  {
   "cell_type": "markdown",
   "id": "1318a6d4-2659-43de-949b-dfc90610ecc7",
   "metadata": {},
   "source": [
    "### Discretize ratings, year of published ..."
   ]
  },
  {
   "cell_type": "code",
   "execution_count": 14,
   "id": "4a6890fa-2f82-40d0-9694-f105a1150edd",
   "metadata": {},
   "outputs": [
    {
     "data": {
      "text/plain": [
       "array([[<Axes: title={'center': 'Book-Rating'}>]], dtype=object)"
      ]
     },
     "execution_count": 14,
     "metadata": {},
     "output_type": "execute_result"
    },
    {
     "data": {
      "image/png": "[encoded data removed]",
      "text/plain": [
       "<Figure size 432x288 with 1 Axes>"
      ]
     },
     "metadata": {},
     "output_type": "display_data"
    }
   ],
   "source": [
    "ratings.hist('Book-Rating')"
   ]
  },
  {
   "cell_type": "code",
   "execution_count": 15,
   "id": "2542c52c-c65e-4b7d-aecc-421fe1bd298d",
   "metadata": {},
   "outputs": [],
   "source": [
    "from sklearn.preprocessing import KBinsDiscretizer"
   ]
  },
  {
   "cell_type": "code",
   "execution_count": 16,
   "id": "bb1529d5-f1a8-4fa2-9d32-e217848c4626",
   "metadata": {},
   "outputs": [],
   "source": [
    "encoder = KBinsDiscretizer(n_bins=4, encode='ordinal', strategy='kmeans')"
   ]
  },
  {
   "cell_type": "code",
   "execution_count": 17,
   "id": "08ff46d8-b837-48a0-b961-ee49ff88f552",
   "metadata": {},
   "outputs": [],
   "source": [
    "ratings_discretized = encoder.fit_transform(ratings[['Book-Rating']])"
   ]
  },
  {
   "cell_type": "code",
   "execution_count": 18,
   "id": "fd24fd05-6620-4716-9bab-65a690f35b44",
   "metadata": {},
   "outputs": [
    {
     "data": {
      "text/plain": [
       "array([array([ 1.        ,  3.62727768,  5.76263836,  7.790488  , 10.        ])],\n",
       "      dtype=object)"
      ]
     },
     "execution_count": 18,
     "metadata": {},
     "output_type": "execute_result"
    }
   ],
   "source": [
    "encoder.bin_edges_"
   ]
  },
  {
   "cell_type": "code",
   "execution_count": 19,
   "id": "ebea613b-3568-4d4c-a4dd-487ec34134bf",
   "metadata": {},
   "outputs": [],
   "source": [
    "ratings['Rating-Group'] = ratings_discretized.astype(int)"
   ]
  },
  {
   "cell_type": "code",
   "execution_count": 20,
   "id": "74f4c494-39e8-421e-b4fa-b8d0e9c96267",
   "metadata": {},
   "outputs": [
    {
     "data": {
      "text/plain": [
       "array([2, 3, 1, 0])"
      ]
     },
     "execution_count": 20,
     "metadata": {},
     "output_type": "execute_result"
    }
   ],
   "source": [
    "ratings['Rating-Group'].unique()"
   ]
  },
  {
   "cell_type": "code",
   "execution_count": 21,
   "id": "41f561a1-3f71-4621-b776-4ac5181b9959",
   "metadata": {},
   "outputs": [
    {
     "data": {
      "text/html": [
       "<div>\n",
       "<style scoped>\n",
       "    .dataframe tbody tr th:only-of-type {\n",
       "        vertical-align: middle;\n",
       "    }\n",
       "\n",
       "    .dataframe tbody tr th {\n",
       "        vertical-align: top;\n",
       "    }\n",
       "\n",
       "    .dataframe thead th {\n",
       "        text-align: right;\n",
       "    }\n",
       "</style>\n",
       "<table border=\"1\" class=\"dataframe\">\n",
       "  <thead>\n",
       "    <tr style=\"text-align: right;\">\n",
       "      <th></th>\n",
       "      <th>User-ID</th>\n",
       "      <th>ISBN</th>\n",
       "      <th>Book-Rating</th>\n",
       "      <th>Rating-Group</th>\n",
       "    </tr>\n",
       "  </thead>\n",
       "  <tbody>\n",
       "    <tr>\n",
       "      <th>0</th>\n",
       "      <td>276744</td>\n",
       "      <td>038550120X</td>\n",
       "      <td>7</td>\n",
       "      <td>2</td>\n",
       "    </tr>\n",
       "    <tr>\n",
       "      <th>1</th>\n",
       "      <td>276754</td>\n",
       "      <td>0684867621</td>\n",
       "      <td>8</td>\n",
       "      <td>3</td>\n",
       "    </tr>\n",
       "    <tr>\n",
       "      <th>2</th>\n",
       "      <td>276755</td>\n",
       "      <td>0451166892</td>\n",
       "      <td>5</td>\n",
       "      <td>1</td>\n",
       "    </tr>\n",
       "    <tr>\n",
       "      <th>3</th>\n",
       "      <td>276762</td>\n",
       "      <td>0380711524</td>\n",
       "      <td>5</td>\n",
       "      <td>1</td>\n",
       "    </tr>\n",
       "    <tr>\n",
       "      <th>4</th>\n",
       "      <td>276772</td>\n",
       "      <td>0553572369</td>\n",
       "      <td>7</td>\n",
       "      <td>2</td>\n",
       "    </tr>\n",
       "    <tr>\n",
       "      <th>...</th>\n",
       "      <td>...</td>\n",
       "      <td>...</td>\n",
       "      <td>...</td>\n",
       "      <td>...</td>\n",
       "    </tr>\n",
       "    <tr>\n",
       "      <th>204159</th>\n",
       "      <td>276688</td>\n",
       "      <td>0892966548</td>\n",
       "      <td>10</td>\n",
       "      <td>3</td>\n",
       "    </tr>\n",
       "    <tr>\n",
       "      <th>204160</th>\n",
       "      <td>276688</td>\n",
       "      <td>1551669315</td>\n",
       "      <td>6</td>\n",
       "      <td>2</td>\n",
       "    </tr>\n",
       "    <tr>\n",
       "      <th>204161</th>\n",
       "      <td>276704</td>\n",
       "      <td>0345386108</td>\n",
       "      <td>6</td>\n",
       "      <td>2</td>\n",
       "    </tr>\n",
       "    <tr>\n",
       "      <th>204162</th>\n",
       "      <td>276704</td>\n",
       "      <td>0743211383</td>\n",
       "      <td>7</td>\n",
       "      <td>2</td>\n",
       "    </tr>\n",
       "    <tr>\n",
       "      <th>204163</th>\n",
       "      <td>276709</td>\n",
       "      <td>0515107662</td>\n",
       "      <td>10</td>\n",
       "      <td>3</td>\n",
       "    </tr>\n",
       "  </tbody>\n",
       "</table>\n",
       "<p>204164 rows × 4 columns</p>\n",
       "</div>"
      ],
      "text/plain": [
       "        User-ID        ISBN  Book-Rating  Rating-Group\n",
       "0        276744  038550120X            7             2\n",
       "1        276754  0684867621            8             3\n",
       "2        276755  0451166892            5             1\n",
       "3        276762  0380711524            5             1\n",
       "4        276772  0553572369            7             2\n",
       "...         ...         ...          ...           ...\n",
       "204159   276688  0892966548           10             3\n",
       "204160   276688  1551669315            6             2\n",
       "204161   276704  0345386108            6             2\n",
       "204162   276704  0743211383            7             2\n",
       "204163   276709  0515107662           10             3\n",
       "\n",
       "[204164 rows x 4 columns]"
      ]
     },
     "execution_count": 21,
     "metadata": {},
     "output_type": "execute_result"
    }
   ],
   "source": [
    "ratings"
   ]
  },
  {
   "cell_type": "code",
   "execution_count": 177,
   "id": "97b5078a-a50c-4d7b-ab0d-ff42d122812e",
   "metadata": {},
   "outputs": [],
   "source": [
    "ratings = ratings.merge(users)"
   ]
  },
  {
   "cell_type": "code",
   "execution_count": 178,
   "id": "d4f40357-ce4d-4cee-b350-2b457838fee8",
   "metadata": {},
   "outputs": [],
   "source": [
    "weighted_ratings = ratings.groupby(['ISBN', 'User-Country', 'Age-Group']).agg(average_rating \n",
    "                                     = ('Book-Rating', 'mean'), times_read = ('User-ID', 'count'), average_age = ('User-Age', 'mean')) \\\n",
    "                                    .reset_index()"
   ]
  },
  {
   "cell_type": "code",
   "execution_count": 185,
   "id": "66a89dc4-31af-46dd-8549-c24a81d0e839",
   "metadata": {},
   "outputs": [
    {
     "data": {
      "text/html": [
       "<div>\n",
       "<style scoped>\n",
       "    .dataframe tbody tr th:only-of-type {\n",
       "        vertical-align: middle;\n",
       "    }\n",
       "\n",
       "    .dataframe tbody tr th {\n",
       "        vertical-align: top;\n",
       "    }\n",
       "\n",
       "    .dataframe thead th {\n",
       "        text-align: right;\n",
       "    }\n",
       "</style>\n",
       "<table border=\"1\" class=\"dataframe\">\n",
       "  <thead>\n",
       "    <tr style=\"text-align: right;\">\n",
       "      <th></th>\n",
       "      <th>ISBN</th>\n",
       "      <th>User-Country</th>\n",
       "      <th>Age-Group</th>\n",
       "      <th>average_rating</th>\n",
       "      <th>times_read</th>\n",
       "      <th>average_age</th>\n",
       "      <th>weighted_ratings</th>\n",
       "    </tr>\n",
       "  </thead>\n",
       "  <tbody>\n",
       "    <tr>\n",
       "      <th>0</th>\n",
       "      <td>0002005018</td>\n",
       "      <td>canada</td>\n",
       "      <td>0</td>\n",
       "      <td>7.333333</td>\n",
       "      <td>3</td>\n",
       "      <td>25.666667</td>\n",
       "      <td>7.712623</td>\n",
       "    </tr>\n",
       "    <tr>\n",
       "      <th>1</th>\n",
       "      <td>0002005018</td>\n",
       "      <td>canada</td>\n",
       "      <td>1</td>\n",
       "      <td>7.666667</td>\n",
       "      <td>3</td>\n",
       "      <td>39.666667</td>\n",
       "      <td>7.722331</td>\n",
       "    </tr>\n",
       "    <tr>\n",
       "      <th>2</th>\n",
       "      <td>0002005018</td>\n",
       "      <td>canada</td>\n",
       "      <td>2</td>\n",
       "      <td>7.000000</td>\n",
       "      <td>1</td>\n",
       "      <td>60.000000</td>\n",
       "      <td>7.716833</td>\n",
       "    </tr>\n",
       "    <tr>\n",
       "      <th>3</th>\n",
       "      <td>0002116286</td>\n",
       "      <td>canada</td>\n",
       "      <td>0</td>\n",
       "      <td>8.000000</td>\n",
       "      <td>1</td>\n",
       "      <td>24.000000</td>\n",
       "      <td>7.726734</td>\n",
       "    </tr>\n",
       "    <tr>\n",
       "      <th>4</th>\n",
       "      <td>0002116286</td>\n",
       "      <td>canada</td>\n",
       "      <td>1</td>\n",
       "      <td>7.000000</td>\n",
       "      <td>2</td>\n",
       "      <td>32.000000</td>\n",
       "      <td>7.709805</td>\n",
       "    </tr>\n",
       "    <tr>\n",
       "      <th>...</th>\n",
       "      <td>...</td>\n",
       "      <td>...</td>\n",
       "      <td>...</td>\n",
       "      <td>...</td>\n",
       "      <td>...</td>\n",
       "      <td>...</td>\n",
       "      <td>...</td>\n",
       "    </tr>\n",
       "    <tr>\n",
       "      <th>68539</th>\n",
       "      <td>9728423160</td>\n",
       "      <td>portugal</td>\n",
       "      <td>1</td>\n",
       "      <td>6.000000</td>\n",
       "      <td>1</td>\n",
       "      <td>36.000000</td>\n",
       "      <td>7.706932</td>\n",
       "    </tr>\n",
       "    <tr>\n",
       "      <th>68540</th>\n",
       "      <td>9812327975</td>\n",
       "      <td>united kingdom</td>\n",
       "      <td>0</td>\n",
       "      <td>8.000000</td>\n",
       "      <td>1</td>\n",
       "      <td>28.000000</td>\n",
       "      <td>7.726734</td>\n",
       "    </tr>\n",
       "    <tr>\n",
       "      <th>68541</th>\n",
       "      <td>9871138148</td>\n",
       "      <td>portugal</td>\n",
       "      <td>1</td>\n",
       "      <td>9.000000</td>\n",
       "      <td>1</td>\n",
       "      <td>41.000000</td>\n",
       "      <td>7.736635</td>\n",
       "    </tr>\n",
       "    <tr>\n",
       "      <th>68542</th>\n",
       "      <td>9871138148</td>\n",
       "      <td>spain</td>\n",
       "      <td>0</td>\n",
       "      <td>8.000000</td>\n",
       "      <td>2</td>\n",
       "      <td>20.000000</td>\n",
       "      <td>7.729413</td>\n",
       "    </tr>\n",
       "    <tr>\n",
       "      <th>68543</th>\n",
       "      <td>9871138148</td>\n",
       "      <td>usa</td>\n",
       "      <td>0</td>\n",
       "      <td>10.000000</td>\n",
       "      <td>1</td>\n",
       "      <td>25.000000</td>\n",
       "      <td>7.746536</td>\n",
       "    </tr>\n",
       "  </tbody>\n",
       "</table>\n",
       "<p>68544 rows × 7 columns</p>\n",
       "</div>"
      ],
      "text/plain": [
       "             ISBN    User-Country  ...  average_age  weighted_ratings\n",
       "0      0002005018          canada  ...    25.666667          7.712623\n",
       "1      0002005018          canada  ...    39.666667          7.722331\n",
       "2      0002005018          canada  ...    60.000000          7.716833\n",
       "3      0002116286          canada  ...    24.000000          7.726734\n",
       "4      0002116286          canada  ...    32.000000          7.709805\n",
       "...           ...             ...  ...          ...               ...\n",
       "68539  9728423160        portugal  ...    36.000000          7.706932\n",
       "68540  9812327975  united kingdom  ...    28.000000          7.726734\n",
       "68541  9871138148        portugal  ...    41.000000          7.736635\n",
       "68542  9871138148           spain  ...    20.000000          7.729413\n",
       "68543  9871138148             usa  ...    25.000000          7.746536\n",
       "\n",
       "[68544 rows x 7 columns]"
      ]
     },
     "execution_count": 185,
     "metadata": {},
     "output_type": "execute_result"
    }
   ],
   "source": [
    "m = 50\n",
    "# weighted_ratings = weighted_ratings[weighted_ratings['times_read'] > m]\n",
    "weighted_ratings"
   ]
  },
  {
   "cell_type": "code",
   "execution_count": 186,
   "id": "ac6ad170-542e-4821-8d8f-2c1e2c1fe489",
   "metadata": {},
   "outputs": [],
   "source": [
    "t = weighted_ratings['times_read']\n",
    "a = weighted_ratings['average_rating']\n",
    "c = ratings['Book-Rating'].mean()"
   ]
  },
  {
   "cell_type": "code",
   "execution_count": 187,
   "id": "a3c649dc-d282-488b-b6da-e8702a685795",
   "metadata": {},
   "outputs": [],
   "source": [
    "weighted_ratings['weighted_ratings'] = ((t*a/(t+m))) + ((m*c/(m+t)))"
   ]
  },
  {
   "cell_type": "code",
   "execution_count": 188,
   "id": "7924e385-7528-481e-88f0-82622b92d6b5",
   "metadata": {},
   "outputs": [
    {
     "data": {
      "text/html": [
       "<div>\n",
       "<style scoped>\n",
       "    .dataframe tbody tr th:only-of-type {\n",
       "        vertical-align: middle;\n",
       "    }\n",
       "\n",
       "    .dataframe tbody tr th {\n",
       "        vertical-align: top;\n",
       "    }\n",
       "\n",
       "    .dataframe thead th {\n",
       "        text-align: right;\n",
       "    }\n",
       "</style>\n",
       "<table border=\"1\" class=\"dataframe\">\n",
       "  <thead>\n",
       "    <tr style=\"text-align: right;\">\n",
       "      <th></th>\n",
       "      <th>ISBN</th>\n",
       "      <th>User-Country</th>\n",
       "      <th>Age-Group</th>\n",
       "      <th>average_rating</th>\n",
       "      <th>times_read</th>\n",
       "      <th>average_age</th>\n",
       "      <th>weighted_ratings</th>\n",
       "    </tr>\n",
       "  </thead>\n",
       "  <tbody>\n",
       "    <tr>\n",
       "      <th>27158</th>\n",
       "      <td>0439139597</td>\n",
       "      <td>usa</td>\n",
       "      <td>0</td>\n",
       "      <td>9.522388</td>\n",
       "      <td>67</td>\n",
       "      <td>22.283582</td>\n",
       "      <td>8.753847</td>\n",
       "    </tr>\n",
       "    <tr>\n",
       "      <th>27233</th>\n",
       "      <td>043935806X</td>\n",
       "      <td>usa</td>\n",
       "      <td>0</td>\n",
       "      <td>9.281250</td>\n",
       "      <td>96</td>\n",
       "      <td>24.093750</td>\n",
       "      <td>8.747946</td>\n",
       "    </tr>\n",
       "    <tr>\n",
       "      <th>44700</th>\n",
       "      <td>059035342X</td>\n",
       "      <td>usa</td>\n",
       "      <td>0</td>\n",
       "      <td>9.021429</td>\n",
       "      <td>140</td>\n",
       "      <td>22.921429</td>\n",
       "      <td>8.680000</td>\n",
       "    </tr>\n",
       "    <tr>\n",
       "      <th>27127</th>\n",
       "      <td>0439136350</td>\n",
       "      <td>usa</td>\n",
       "      <td>0</td>\n",
       "      <td>9.370968</td>\n",
       "      <td>62</td>\n",
       "      <td>21.903226</td>\n",
       "      <td>8.635715</td>\n",
       "    </tr>\n",
       "    <tr>\n",
       "      <th>27143</th>\n",
       "      <td>0439136369</td>\n",
       "      <td>usa</td>\n",
       "      <td>0</td>\n",
       "      <td>9.287879</td>\n",
       "      <td>66</td>\n",
       "      <td>24.303030</td>\n",
       "      <td>8.613794</td>\n",
       "    </tr>\n",
       "    <tr>\n",
       "      <th>...</th>\n",
       "      <td>...</td>\n",
       "      <td>...</td>\n",
       "      <td>...</td>\n",
       "      <td>...</td>\n",
       "      <td>...</td>\n",
       "      <td>...</td>\n",
       "      <td>...</td>\n",
       "    </tr>\n",
       "    <tr>\n",
       "      <th>62259</th>\n",
       "      <td>0971880107</td>\n",
       "      <td>canada</td>\n",
       "      <td>0</td>\n",
       "      <td>4.250000</td>\n",
       "      <td>24</td>\n",
       "      <td>24.458333</td>\n",
       "      <td>6.597298</td>\n",
       "    </tr>\n",
       "    <tr>\n",
       "      <th>62252</th>\n",
       "      <td>0971880107</td>\n",
       "      <td>australia</td>\n",
       "      <td>1</td>\n",
       "      <td>3.526316</td>\n",
       "      <td>19</td>\n",
       "      <td>37.947368</td>\n",
       "      <td>6.568117</td>\n",
       "    </tr>\n",
       "    <tr>\n",
       "      <th>62302</th>\n",
       "      <td>0971880107</td>\n",
       "      <td>usa</td>\n",
       "      <td>2</td>\n",
       "      <td>4.253333</td>\n",
       "      <td>75</td>\n",
       "      <td>56.906667</td>\n",
       "      <td>5.641601</td>\n",
       "    </tr>\n",
       "    <tr>\n",
       "      <th>62301</th>\n",
       "      <td>0971880107</td>\n",
       "      <td>usa</td>\n",
       "      <td>1</td>\n",
       "      <td>4.620370</td>\n",
       "      <td>108</td>\n",
       "      <td>38.787037</td>\n",
       "      <td>5.602532</td>\n",
       "    </tr>\n",
       "    <tr>\n",
       "      <th>62300</th>\n",
       "      <td>0971880107</td>\n",
       "      <td>usa</td>\n",
       "      <td>0</td>\n",
       "      <td>4.151786</td>\n",
       "      <td>112</td>\n",
       "      <td>24.205357</td>\n",
       "      <td>5.254321</td>\n",
       "    </tr>\n",
       "  </tbody>\n",
       "</table>\n",
       "<p>68544 rows × 7 columns</p>\n",
       "</div>"
      ],
      "text/plain": [
       "             ISBN User-Country  ...  average_age  weighted_ratings\n",
       "27158  0439139597          usa  ...    22.283582          8.753847\n",
       "27233  043935806X          usa  ...    24.093750          8.747946\n",
       "44700  059035342X          usa  ...    22.921429          8.680000\n",
       "27127  0439136350          usa  ...    21.903226          8.635715\n",
       "27143  0439136369          usa  ...    24.303030          8.613794\n",
       "...           ...          ...  ...          ...               ...\n",
       "62259  0971880107       canada  ...    24.458333          6.597298\n",
       "62252  0971880107    australia  ...    37.947368          6.568117\n",
       "62302  0971880107          usa  ...    56.906667          5.641601\n",
       "62301  0971880107          usa  ...    38.787037          5.602532\n",
       "62300  0971880107          usa  ...    24.205357          5.254321\n",
       "\n",
       "[68544 rows x 7 columns]"
      ]
     },
     "execution_count": 188,
     "metadata": {},
     "output_type": "execute_result"
    }
   ],
   "source": [
    "weighted_ratings.sort_values('weighted_ratings', ascending = False)"
   ]
  },
  {
   "cell_type": "code",
   "execution_count": 189,
   "id": "943a0fc5-257e-42fe-95e3-78b07bb1e9b6",
   "metadata": {},
   "outputs": [
    {
     "data": {
      "text/plain": [
       "count    68544.000000\n",
       "mean         7.723342\n",
       "std          0.065540\n",
       "min          5.254321\n",
       "25%          7.690197\n",
       "50%          7.729413\n",
       "75%          7.753848\n",
       "max          8.753847\n",
       "Name: weighted_ratings, dtype: float64"
      ]
     },
     "execution_count": 189,
     "metadata": {},
     "output_type": "execute_result"
    }
   ],
   "source": [
    "weighted_ratings['weighted_ratings'].describe()"
   ]
  },
  {
   "cell_type": "code",
   "execution_count": 190,
   "id": "9bb90197-c180-4c47-9068-37be0091f509",
   "metadata": {},
   "outputs": [
    {
     "data": {
      "text/plain": [
       "array([[<Axes: title={'center': 'weighted_ratings'}>]], dtype=object)"
      ]
     },
     "execution_count": 190,
     "metadata": {},
     "output_type": "execute_result"
    },
    {
     "data": {
      "image/png": "[encoded data removed]",
      "text/plain": [
       "<Figure size 432x288 with 1 Axes>"
      ]
     },
     "metadata": {},
     "output_type": "display_data"
    }
   ],
   "source": [
    "weighted_ratings.hist('weighted_ratings')"
   ]
  },
  {
   "cell_type": "markdown",
   "id": "d86689b0-a1bb-4b67-9caf-e3aab368ea47",
   "metadata": {},
   "source": [
    "## Look into popularity metric:"
   ]
  },
  {
   "cell_type": "code",
   "execution_count": 127,
   "id": "261f5013-241d-4bc3-87dd-9e6330171087",
   "metadata": {},
   "outputs": [],
   "source": [
    "books_ratings = books.merge(weighted_ratings)"
   ]
  },
  {
   "cell_type": "code",
   "execution_count": 128,
   "id": "1230985c-e16d-4a88-b931-b1c786352fd1",
   "metadata": {},
   "outputs": [
    {
     "data": {
      "text/html": [
       "<div>\n",
       "<style scoped>\n",
       "    .dataframe tbody tr th:only-of-type {\n",
       "        vertical-align: middle;\n",
       "    }\n",
       "\n",
       "    .dataframe tbody tr th {\n",
       "        vertical-align: top;\n",
       "    }\n",
       "\n",
       "    .dataframe thead th {\n",
       "        text-align: right;\n",
       "    }\n",
       "</style>\n",
       "<table border=\"1\" class=\"dataframe\">\n",
       "  <thead>\n",
       "    <tr style=\"text-align: right;\">\n",
       "      <th></th>\n",
       "      <th>ISBN</th>\n",
       "      <th>Book-Title</th>\n",
       "      <th>Book-Author</th>\n",
       "      <th>Year-Of-Publication</th>\n",
       "      <th>Book-Publisher</th>\n",
       "      <th>Book-Info</th>\n",
       "      <th>Book-Vector</th>\n",
       "      <th>User-Country</th>\n",
       "      <th>Age-Group</th>\n",
       "      <th>average_rating</th>\n",
       "      <th>times_read</th>\n",
       "      <th>average_age</th>\n",
       "      <th>weighted_ratings</th>\n",
       "    </tr>\n",
       "  </thead>\n",
       "  <tbody>\n",
       "    <tr>\n",
       "      <th>2759</th>\n",
       "      <td>0439139597</td>\n",
       "      <td>harry potter goblet fire book 4</td>\n",
       "      <td>j k rowling</td>\n",
       "      <td>2000.0</td>\n",
       "      <td>scholastic</td>\n",
       "      <td>harry potter goblet fire book 4 by j k rowling</td>\n",
       "      <td>[0.0, 0.0, 0.0, 0.0, 0.0, 0.0, 0.0, 0.0, 0.0, ...</td>\n",
       "      <td>usa</td>\n",
       "      <td>0</td>\n",
       "      <td>9.522388</td>\n",
       "      <td>67</td>\n",
       "      <td>22.283582</td>\n",
       "      <td>9.3975</td>\n",
       "    </tr>\n",
       "  </tbody>\n",
       "</table>\n",
       "</div>"
      ],
      "text/plain": [
       "            ISBN  ... weighted_ratings\n",
       "2759  0439139597  ...           9.3975\n",
       "\n",
       "[1 rows x 13 columns]"
      ]
     },
     "execution_count": 128,
     "metadata": {},
     "output_type": "execute_result"
    }
   ],
   "source": [
    "## find good split here...\n",
    "books_ratings.sort_values('weighted_ratings', ascending = False).head(1)"
   ]
  },
  {
   "cell_type": "code",
   "execution_count": 129,
   "id": "c9fe83d4-2625-4002-9a15-22b117f98ae7",
   "metadata": {},
   "outputs": [],
   "source": [
    "books_ratings = books.merge(weighted_ratings)"
   ]
  },
  {
   "cell_type": "code",
   "execution_count": 130,
   "id": "804a2ce4-ec5e-4cbb-b954-ce557eb7ee2c",
   "metadata": {},
   "outputs": [],
   "source": [
    "encoder = KBinsDiscretizer(n_bins=4, encode='ordinal', strategy='uniform')"
   ]
  },
  {
   "cell_type": "code",
   "execution_count": 131,
   "id": "7af21524-8aba-4b3c-a2d6-9d44bd0a693a",
   "metadata": {},
   "outputs": [],
   "source": [
    "average_ratings_discretized = encoder.fit_transform(books_ratings[['average_rating']])\n",
    "weight_ratings_discretized = encoder.fit_transform(books_ratings[['weighted_ratings']])"
   ]
  },
  {
   "cell_type": "code",
   "execution_count": 132,
   "id": "a3df7138-f8a3-43fa-87a0-db33bd867d5c",
   "metadata": {},
   "outputs": [
    {
     "data": {
      "text/plain": [
       "array([array([4.30444451, 5.5777084 , 6.8509723 , 8.1242362 , 9.3975001 ])],\n",
       "      dtype=object)"
      ]
     },
     "execution_count": 132,
     "metadata": {},
     "output_type": "execute_result"
    }
   ],
   "source": [
    "encoder.bin_edges_"
   ]
  },
  {
   "cell_type": "code",
   "execution_count": 133,
   "id": "4235000b-8f52-4e24-aee4-a130f63c5bf2",
   "metadata": {},
   "outputs": [],
   "source": [
    "books_ratings['Average-Rating-Group'] = average_ratings_discretized.astype(int)\n",
    "books_ratings['Weighted-Rating-Group'] = weight_ratings_discretized.astype(int)"
   ]
  },
  {
   "cell_type": "code",
   "execution_count": 134,
   "id": "05af8716-83ff-4709-af41-b84b95ca146b",
   "metadata": {
    "scrolled": true
   },
   "outputs": [],
   "source": [
    "decade_list = [1919 + 10 * x for x in range(10)]"
   ]
  },
  {
   "cell_type": "code",
   "execution_count": 135,
   "id": "cb9538dc-bb13-4582-bd72-2d0ef1af3330",
   "metadata": {},
   "outputs": [],
   "source": [
    "books_ratings['Year-Of-Publication-Group'] = pd.cut(x=books_ratings['Year-Of-Publication'], bins=decade_list)"
   ]
  },
  {
   "cell_type": "code",
   "execution_count": 136,
   "id": "0a35f818-760a-40ba-b725-abceeda26e58",
   "metadata": {},
   "outputs": [
    {
     "data": {
      "text/html": [
       "<div>\n",
       "<style scoped>\n",
       "    .dataframe tbody tr th:only-of-type {\n",
       "        vertical-align: middle;\n",
       "    }\n",
       "\n",
       "    .dataframe tbody tr th {\n",
       "        vertical-align: top;\n",
       "    }\n",
       "\n",
       "    .dataframe thead th {\n",
       "        text-align: right;\n",
       "    }\n",
       "</style>\n",
       "<table border=\"1\" class=\"dataframe\">\n",
       "  <thead>\n",
       "    <tr style=\"text-align: right;\">\n",
       "      <th></th>\n",
       "      <th>ISBN</th>\n",
       "      <th>Book-Title</th>\n",
       "      <th>Book-Author</th>\n",
       "      <th>Year-Of-Publication</th>\n",
       "      <th>Book-Publisher</th>\n",
       "      <th>Book-Info</th>\n",
       "      <th>Book-Vector</th>\n",
       "      <th>User-Country</th>\n",
       "      <th>Age-Group</th>\n",
       "      <th>average_rating</th>\n",
       "      <th>times_read</th>\n",
       "      <th>average_age</th>\n",
       "      <th>weighted_ratings</th>\n",
       "      <th>Average-Rating-Group</th>\n",
       "      <th>Weighted-Rating-Group</th>\n",
       "      <th>Year-Of-Publication-Group</th>\n",
       "    </tr>\n",
       "  </thead>\n",
       "  <tbody>\n",
       "    <tr>\n",
       "      <th>0</th>\n",
       "      <td>0399135782</td>\n",
       "      <td>kitchen god wife</td>\n",
       "      <td>amy tan</td>\n",
       "      <td>1991.0</td>\n",
       "      <td>putnam pub group</td>\n",
       "      <td>kitchen god wife by amy tan</td>\n",
       "      <td>[0.0, 0.0, 0.0, 0.0, 0.0, 0.0, 0.0, 0.0, 0.0, ...</td>\n",
       "      <td>usa</td>\n",
       "      <td>0</td>\n",
       "      <td>8.125</td>\n",
       "      <td>8</td>\n",
       "      <td>21.5</td>\n",
       "      <td>7.97077</td>\n",
       "      <td>3</td>\n",
       "      <td>2</td>\n",
       "      <td>(1989, 1999]</td>\n",
       "    </tr>\n",
       "  </tbody>\n",
       "</table>\n",
       "</div>"
      ],
      "text/plain": [
       "         ISBN  ... Year-Of-Publication-Group\n",
       "0  0399135782  ...              (1989, 1999]\n",
       "\n",
       "[1 rows x 16 columns]"
      ]
     },
     "execution_count": 136,
     "metadata": {},
     "output_type": "execute_result"
    }
   ],
   "source": [
    "books_ratings.head(1)"
   ]
  },
  {
   "cell_type": "code",
   "execution_count": 137,
   "id": "b1e9c8a8-b1f2-4062-b018-ec3ec6b02bc1",
   "metadata": {},
   "outputs": [
    {
     "data": {
      "text/plain": [
       "Index(['ISBN', 'Book-Title', 'Book-Author', 'Year-Of-Publication',\n",
       "       'Book-Publisher', 'Book-Info', 'Book-Vector', 'User-Country',\n",
       "       'Age-Group', 'average_rating', 'times_read', 'average_age',\n",
       "       'weighted_ratings', 'Average-Rating-Group', 'Weighted-Rating-Group',\n",
       "       'Year-Of-Publication-Group'],\n",
       "      dtype='object')"
      ]
     },
     "execution_count": 137,
     "metadata": {},
     "output_type": "execute_result"
    }
   ],
   "source": [
    "books_ratings.columns"
   ]
  },
  {
   "cell_type": "code",
   "execution_count": 138,
   "id": "da68cb29-6824-490f-8282-d489d8983844",
   "metadata": {},
   "outputs": [],
   "source": [
    "encoder = OrdinalEncoder()\n",
    "encoded = encoder.fit_transform(books_ratings[['User-Country']])\n",
    "books_ratings[['User-Country']] = encoded.astype(int)"
   ]
  },
  {
   "cell_type": "code",
   "execution_count": 139,
   "id": "ff6f04ce-19a4-48d2-8c14-ca7357ff4d72",
   "metadata": {},
   "outputs": [],
   "source": [
    "encoder = OrdinalEncoder()\n",
    "encoded = encoder.fit_transform(books_ratings[['Year-Of-Publication-Group']])\n",
    "books_ratings[['Year-Of-Publication-Group']] = encoded.astype(int)"
   ]
  },
  {
   "cell_type": "code",
   "execution_count": 140,
   "id": "3234a1a8-d2bc-44dc-8b3b-453b56af41b5",
   "metadata": {},
   "outputs": [],
   "source": [
    "X = books_ratings[['Book-Info', 'User-Country', 'Age-Group', 'Year-Of-Publication-Group']]\n",
    "y = books_ratings['Weighted-Rating-Group']"
   ]
  },
  {
   "cell_type": "code",
   "execution_count": 141,
   "id": "f90250fe-c62a-4a99-906d-2bb3ecdb88d3",
   "metadata": {},
   "outputs": [],
   "source": [
    "X_train, X_test, y_train, y_test = train_test_split(X, y, test_size=0.2, random_state=2)"
   ]
  },
  {
   "cell_type": "code",
   "execution_count": 142,
   "id": "321f04fb-a2fd-425b-811c-6075e2648b28",
   "metadata": {
    "scrolled": true
   },
   "outputs": [
    {
     "data": {
      "text/html": [
       "<div>\n",
       "<style scoped>\n",
       "    .dataframe tbody tr th:only-of-type {\n",
       "        vertical-align: middle;\n",
       "    }\n",
       "\n",
       "    .dataframe tbody tr th {\n",
       "        vertical-align: top;\n",
       "    }\n",
       "\n",
       "    .dataframe thead th {\n",
       "        text-align: right;\n",
       "    }\n",
       "</style>\n",
       "<table border=\"1\" class=\"dataframe\">\n",
       "  <thead>\n",
       "    <tr style=\"text-align: right;\">\n",
       "      <th></th>\n",
       "      <th>Book-Info</th>\n",
       "      <th>User-Country</th>\n",
       "      <th>Age-Group</th>\n",
       "      <th>Year-Of-Publication-Group</th>\n",
       "    </tr>\n",
       "  </thead>\n",
       "  <tbody>\n",
       "    <tr>\n",
       "      <th>99</th>\n",
       "      <td>corelli mandolin novel by louis de bernieres</td>\n",
       "      <td>11</td>\n",
       "      <td>1</td>\n",
       "      <td>5</td>\n",
       "    </tr>\n",
       "  </tbody>\n",
       "</table>\n",
       "</div>"
      ],
      "text/plain": [
       "                                       Book-Info  ...  Year-Of-Publication-Group\n",
       "99  corelli mandolin novel by louis de bernieres  ...                          5\n",
       "\n",
       "[1 rows x 4 columns]"
      ]
     },
     "execution_count": 142,
     "metadata": {},
     "output_type": "execute_result"
    }
   ],
   "source": [
    "X_train.head(1)"
   ]
  },
  {
   "cell_type": "code",
   "execution_count": 143,
   "id": "c41796ef-8bfd-454e-a696-9de16768776e",
   "metadata": {},
   "outputs": [
    {
     "data": {
      "text/html": [
       "<style>#sk-container-id-3 {color: black;background-color: white;}#sk-container-id-3 pre{padding: 0;}#sk-container-id-3 div.sk-toggleable {background-color: white;}#sk-container-id-3 label.sk-toggleable__label {cursor: pointer;display: block;width: 100%;margin-bottom: 0;padding: 0.3em;box-sizing: border-box;text-align: center;}#sk-container-id-3 label.sk-toggleable__label-arrow:before {content: \"▸\";float: left;margin-right: 0.25em;color: #696969;}#sk-container-id-3 label.sk-toggleable__label-arrow:hover:before {color: black;}#sk-container-id-3 div.sk-estimator:hover label.sk-toggleable__label-arrow:before {color: black;}#sk-container-id-3 div.sk-toggleable__content {max-height: 0;max-width: 0;overflow: hidden;text-align: left;background-color: #f0f8ff;}#sk-container-id-3 div.sk-toggleable__content pre {margin: 0.2em;color: black;border-radius: 0.25em;background-color: #f0f8ff;}#sk-container-id-3 input.sk-toggleable__control:checked~div.sk-toggleable__content {max-height: 200px;max-width: 100%;overflow: auto;}#sk-container-id-3 input.sk-toggleable__control:checked~label.sk-toggleable__label-arrow:before {content: \"▾\";}#sk-container-id-3 div.sk-estimator input.sk-toggleable__control:checked~label.sk-toggleable__label {background-color: #d4ebff;}#sk-container-id-3 div.sk-label input.sk-toggleable__control:checked~label.sk-toggleable__label {background-color: #d4ebff;}#sk-container-id-3 input.sk-hidden--visually {border: 0;clip: rect(1px 1px 1px 1px);clip: rect(1px, 1px, 1px, 1px);height: 1px;margin: -1px;overflow: hidden;padding: 0;position: absolute;width: 1px;}#sk-container-id-3 div.sk-estimator {font-family: monospace;background-color: #f0f8ff;border: 1px dotted black;border-radius: 0.25em;box-sizing: border-box;margin-bottom: 0.5em;}#sk-container-id-3 div.sk-estimator:hover {background-color: #d4ebff;}#sk-container-id-3 div.sk-parallel-item::after {content: \"\";width: 100%;border-bottom: 1px solid gray;flex-grow: 1;}#sk-container-id-3 div.sk-label:hover label.sk-toggleable__label {background-color: #d4ebff;}#sk-container-id-3 div.sk-serial::before {content: \"\";position: absolute;border-left: 1px solid gray;box-sizing: border-box;top: 0;bottom: 0;left: 50%;z-index: 0;}#sk-container-id-3 div.sk-serial {display: flex;flex-direction: column;align-items: center;background-color: white;padding-right: 0.2em;padding-left: 0.2em;position: relative;}#sk-container-id-3 div.sk-item {position: relative;z-index: 1;}#sk-container-id-3 div.sk-parallel {display: flex;align-items: stretch;justify-content: center;background-color: white;position: relative;}#sk-container-id-3 div.sk-item::before, #sk-container-id-3 div.sk-parallel-item::before {content: \"\";position: absolute;border-left: 1px solid gray;box-sizing: border-box;top: 0;bottom: 0;left: 50%;z-index: -1;}#sk-container-id-3 div.sk-parallel-item {display: flex;flex-direction: column;z-index: 1;position: relative;background-color: white;}#sk-container-id-3 div.sk-parallel-item:first-child::after {align-self: flex-end;width: 50%;}#sk-container-id-3 div.sk-parallel-item:last-child::after {align-self: flex-start;width: 50%;}#sk-container-id-3 div.sk-parallel-item:only-child::after {width: 0;}#sk-container-id-3 div.sk-dashed-wrapped {border: 1px dashed gray;margin: 0 0.4em 0.5em 0.4em;box-sizing: border-box;padding-bottom: 0.4em;background-color: white;}#sk-container-id-3 div.sk-label label {font-family: monospace;font-weight: bold;display: inline-block;line-height: 1.2em;}#sk-container-id-3 div.sk-label-container {text-align: center;}#sk-container-id-3 div.sk-container {/* jupyter's `normalize.less` sets `[hidden] { display: none; }` but bootstrap.min.css set `[hidden] { display: none !important; }` so we also need the `!important` here to be able to override the default hidden behavior on the sphinx rendered scikit-learn.org. See: https://github.com/scikit-learn/scikit-learn/issues/21755 */display: inline-block !important;position: relative;}#sk-container-id-3 div.sk-text-repr-fallback {display: none;}</style><div id=\"sk-container-id-3\" class=\"sk-top-container\"><div class=\"sk-text-repr-fallback\"><pre>Pipeline(steps=[(&#x27;preprocessor&#x27;,\n",
       "                 ColumnTransformer(transformers=[(&#x27;text&#x27;,\n",
       "                                                  Pipeline(steps=[(&#x27;tfidf&#x27;,\n",
       "                                                                   TfidfVectorizer())]),\n",
       "                                                  &#x27;Book-Info&#x27;),\n",
       "                                                 (&#x27;group&#x27;, &#x27;passthrough&#x27;,\n",
       "                                                  [&#x27;Age-Group&#x27;,\n",
       "                                                   &#x27;Year-Of-Publication-Group&#x27;]),\n",
       "                                                 (&#x27;country&#x27;, &#x27;passthrough&#x27;,\n",
       "                                                  [&#x27;User-Country&#x27;])])),\n",
       "                (&#x27;classifier&#x27;, DecisionTreeClassifier(random_state=42))])</pre><b>In a Jupyter environment, please rerun this cell to show the HTML representation or trust the notebook. <br />On GitHub, the HTML representation is unable to render, please try loading this page with nbviewer.org.</b></div><div class=\"sk-container\" hidden><div class=\"sk-item sk-dashed-wrapped\"><div class=\"sk-label-container\"><div class=\"sk-label sk-toggleable\"><input class=\"sk-toggleable__control sk-hidden--visually\" id=\"sk-estimator-id-19\" type=\"checkbox\" ><label for=\"sk-estimator-id-19\" class=\"sk-toggleable__label sk-toggleable__label-arrow\">Pipeline</label><div class=\"sk-toggleable__content\"><pre>Pipeline(steps=[(&#x27;preprocessor&#x27;,\n",
       "                 ColumnTransformer(transformers=[(&#x27;text&#x27;,\n",
       "                                                  Pipeline(steps=[(&#x27;tfidf&#x27;,\n",
       "                                                                   TfidfVectorizer())]),\n",
       "                                                  &#x27;Book-Info&#x27;),\n",
       "                                                 (&#x27;group&#x27;, &#x27;passthrough&#x27;,\n",
       "                                                  [&#x27;Age-Group&#x27;,\n",
       "                                                   &#x27;Year-Of-Publication-Group&#x27;]),\n",
       "                                                 (&#x27;country&#x27;, &#x27;passthrough&#x27;,\n",
       "                                                  [&#x27;User-Country&#x27;])])),\n",
       "                (&#x27;classifier&#x27;, DecisionTreeClassifier(random_state=42))])</pre></div></div></div><div class=\"sk-serial\"><div class=\"sk-item sk-dashed-wrapped\"><div class=\"sk-label-container\"><div class=\"sk-label sk-toggleable\"><input class=\"sk-toggleable__control sk-hidden--visually\" id=\"sk-estimator-id-20\" type=\"checkbox\" ><label for=\"sk-estimator-id-20\" class=\"sk-toggleable__label sk-toggleable__label-arrow\">preprocessor: ColumnTransformer</label><div class=\"sk-toggleable__content\"><pre>ColumnTransformer(transformers=[(&#x27;text&#x27;,\n",
       "                                 Pipeline(steps=[(&#x27;tfidf&#x27;, TfidfVectorizer())]),\n",
       "                                 &#x27;Book-Info&#x27;),\n",
       "                                (&#x27;group&#x27;, &#x27;passthrough&#x27;,\n",
       "                                 [&#x27;Age-Group&#x27;, &#x27;Year-Of-Publication-Group&#x27;]),\n",
       "                                (&#x27;country&#x27;, &#x27;passthrough&#x27;, [&#x27;User-Country&#x27;])])</pre></div></div></div><div class=\"sk-parallel\"><div class=\"sk-parallel-item\"><div class=\"sk-item\"><div class=\"sk-label-container\"><div class=\"sk-label sk-toggleable\"><input class=\"sk-toggleable__control sk-hidden--visually\" id=\"sk-estimator-id-21\" type=\"checkbox\" ><label for=\"sk-estimator-id-21\" class=\"sk-toggleable__label sk-toggleable__label-arrow\">text</label><div class=\"sk-toggleable__content\"><pre>Book-Info</pre></div></div></div><div class=\"sk-serial\"><div class=\"sk-item\"><div class=\"sk-serial\"><div class=\"sk-item\"><div class=\"sk-estimator sk-toggleable\"><input class=\"sk-toggleable__control sk-hidden--visually\" id=\"sk-estimator-id-22\" type=\"checkbox\" ><label for=\"sk-estimator-id-22\" class=\"sk-toggleable__label sk-toggleable__label-arrow\">TfidfVectorizer</label><div class=\"sk-toggleable__content\"><pre>TfidfVectorizer()</pre></div></div></div></div></div></div></div></div><div class=\"sk-parallel-item\"><div class=\"sk-item\"><div class=\"sk-label-container\"><div class=\"sk-label sk-toggleable\"><input class=\"sk-toggleable__control sk-hidden--visually\" id=\"sk-estimator-id-23\" type=\"checkbox\" ><label for=\"sk-estimator-id-23\" class=\"sk-toggleable__label sk-toggleable__label-arrow\">group</label><div class=\"sk-toggleable__content\"><pre>[&#x27;Age-Group&#x27;, &#x27;Year-Of-Publication-Group&#x27;]</pre></div></div></div><div class=\"sk-serial\"><div class=\"sk-item\"><div class=\"sk-estimator sk-toggleable\"><input class=\"sk-toggleable__control sk-hidden--visually\" id=\"sk-estimator-id-24\" type=\"checkbox\" ><label for=\"sk-estimator-id-24\" class=\"sk-toggleable__label sk-toggleable__label-arrow\">passthrough</label><div class=\"sk-toggleable__content\"><pre>passthrough</pre></div></div></div></div></div></div><div class=\"sk-parallel-item\"><div class=\"sk-item\"><div class=\"sk-label-container\"><div class=\"sk-label sk-toggleable\"><input class=\"sk-toggleable__control sk-hidden--visually\" id=\"sk-estimator-id-25\" type=\"checkbox\" ><label for=\"sk-estimator-id-25\" class=\"sk-toggleable__label sk-toggleable__label-arrow\">country</label><div class=\"sk-toggleable__content\"><pre>[&#x27;User-Country&#x27;]</pre></div></div></div><div class=\"sk-serial\"><div class=\"sk-item\"><div class=\"sk-estimator sk-toggleable\"><input class=\"sk-toggleable__control sk-hidden--visually\" id=\"sk-estimator-id-26\" type=\"checkbox\" ><label for=\"sk-estimator-id-26\" class=\"sk-toggleable__label sk-toggleable__label-arrow\">passthrough</label><div class=\"sk-toggleable__content\"><pre>passthrough</pre></div></div></div></div></div></div></div></div><div class=\"sk-item\"><div class=\"sk-estimator sk-toggleable\"><input class=\"sk-toggleable__control sk-hidden--visually\" id=\"sk-estimator-id-27\" type=\"checkbox\" ><label for=\"sk-estimator-id-27\" class=\"sk-toggleable__label sk-toggleable__label-arrow\">DecisionTreeClassifier</label><div class=\"sk-toggleable__content\"><pre>DecisionTreeClassifier(random_state=42)</pre></div></div></div></div></div></div></div>"
      ],
      "text/plain": [
       "Pipeline(steps=[('preprocessor',\n",
       "                 ColumnTransformer(transformers=[('text',\n",
       "                                                  Pipeline(steps=[('tfidf',\n",
       "                                                                   TfidfVectorizer())]),\n",
       "                                                  'Book-Info'),\n",
       "                                                 ('group', 'passthrough',\n",
       "                                                  ['Age-Group',\n",
       "                                                   'Year-Of-Publication-Group']),\n",
       "                                                 ('country', 'passthrough',\n",
       "                                                  ['User-Country'])])),\n",
       "                ('classifier', DecisionTreeClassifier(random_state=42))])"
      ]
     },
     "execution_count": 143,
     "metadata": {},
     "output_type": "execute_result"
    }
   ],
   "source": [
    "# Define text preprocessing (TF-IDF vectorization) and numeric preprocessing pipelines\n",
    "text_pipeline = Pipeline([\n",
    "    ('tfidf', TfidfVectorizer())\n",
    "])\n",
    "\n",
    "\n",
    "# Define column transformer to apply different preprocessing to specific columns\n",
    "preprocessor = ColumnTransformer([\n",
    "    ('text', text_pipeline, 'Book-Info'),\n",
    "    ('group', 'passthrough', ['Age-Group', 'Year-Of-Publication-Group']),\n",
    "    ('country', 'passthrough', ['User-Country'])\n",
    "])\n",
    "\n",
    "# Define the full pipeline with preprocessing and model\n",
    "pipeline = Pipeline([\n",
    "    ('preprocessor', preprocessor),\n",
    "    ('classifier', DecisionTreeClassifier(random_state=42))\n",
    "])\n",
    "\n",
    "# Fit the pipeline on training data\n",
    "pipeline.fit(X_train, y_train)"
   ]
  },
  {
   "cell_type": "raw",
   "id": "09127a65-7f04-47f1-bf0e-b5fecccfc4e8",
   "metadata": {},
   "source": [
    "tree_clf = pipeline.named_steps['classifier']"
   ]
  },
  {
   "cell_type": "raw",
   "id": "6edea0f5-8d14-469b-b5e5-11f0cf4cf9f9",
   "metadata": {},
   "source": [
    "plt.figure(figsize=(20, 10))\n",
    "tree.plot_tree(tree_clf, \n",
    "                feature_names=features_list,\n",
    "                class_names=['0','1','2','3'],\n",
    "                filled=True, rounded=True\n",
    "                )\n",
    "plt.show()"
   ]
  },
  {
   "cell_type": "code",
   "execution_count": 144,
   "id": "b0e93175-d463-4315-a104-6167f78fd136",
   "metadata": {},
   "outputs": [],
   "source": [
    "y_pred = pipeline.predict(X_test)"
   ]
  },
  {
   "cell_type": "code",
   "execution_count": 153,
   "id": "733f0de0-79ae-4a22-b563-3953d83f4624",
   "metadata": {},
   "outputs": [
    {
     "name": "stdout",
     "output_type": "stream",
     "text": [
      "Classification Report (Training Set):\n",
      "              precision    recall  f1-score   support\n",
      "\n",
      "           0       1.00      1.00      1.00        14\n",
      "           1       0.90      1.00      0.95       184\n",
      "           2       0.98      0.99      0.99      3781\n",
      "           3       1.00      0.93      0.97      1169\n",
      "\n",
      "    accuracy                           0.98      5148\n",
      "   macro avg       0.97      0.98      0.97      5148\n",
      "weighted avg       0.98      0.98      0.98      5148\n",
      "\n",
      "Confusion Matrix (Training Set):\n",
      "[[  14    0    0    0]\n",
      " [   0  184    0    0]\n",
      " [   0   21 3758    2]\n",
      " [   0    0   77 1092]]\n"
     ]
    }
   ],
   "source": [
    "from sklearn.metrics import accuracy_score, classification_report, confusion_matrix\n",
    "y_pred_train = pipeline.predict(X_train)\n",
    "\n",
    "# Display classification report\n",
    "print(\"Classification Report (Training Set):\")\n",
    "print(classification_report(y_train, y_pred_train))\n",
    "\n",
    "# Display confusion matrix\n",
    "conf_matrix_train = confusion_matrix(y_train, y_pred_train)\n",
    "print(\"Confusion Matrix (Training Set):\")\n",
    "print(conf_matrix_train)"
   ]
  },
  {
   "cell_type": "code",
   "execution_count": 155,
   "id": "1feaba46-90f6-4f1a-a7ee-57aba3ebb55c",
   "metadata": {},
   "outputs": [
    {
     "name": "stdout",
     "output_type": "stream",
     "text": [
      "Accuracy: 0.6884226884226884\n",
      "Classification Report (Test Set):\n",
      "              precision    recall  f1-score   support\n",
      "\n",
      "           0       0.00      0.00      0.00         0\n",
      "           1       0.13      0.13      0.13        39\n",
      "           2       0.78      0.81      0.80       942\n",
      "           3       0.43      0.37      0.40       306\n",
      "\n",
      "    accuracy                           0.69      1287\n",
      "   macro avg       0.34      0.33      0.33      1287\n",
      "weighted avg       0.68      0.69      0.68      1287\n",
      "\n",
      "Confusion Matrix (Test Set):\n",
      "[[  0   0   0   0]\n",
      " [  1   5  30   3]\n",
      " [  0  28 767 147]\n",
      " [  0   5 187 114]]\n"
     ]
    },
    {
     "name": "stderr",
     "output_type": "stream",
     "text": [
      "/Users/caseyhaseloff/anaconda3/lib/python3.11/site-packages/sklearn/metrics/_classification.py:1334: UndefinedMetricWarning: Recall and F-score are ill-defined and being set to 0.0 in labels with no true samples. Use `zero_division` parameter to control this behavior.\n",
      "  _warn_prf(average, modifier, msg_start, len(result))\n",
      "/Users/caseyhaseloff/anaconda3/lib/python3.11/site-packages/sklearn/metrics/_classification.py:1334: UndefinedMetricWarning: Recall and F-score are ill-defined and being set to 0.0 in labels with no true samples. Use `zero_division` parameter to control this behavior.\n",
      "  _warn_prf(average, modifier, msg_start, len(result))\n",
      "/Users/caseyhaseloff/anaconda3/lib/python3.11/site-packages/sklearn/metrics/_classification.py:1334: UndefinedMetricWarning: Recall and F-score are ill-defined and being set to 0.0 in labels with no true samples. Use `zero_division` parameter to control this behavior.\n",
      "  _warn_prf(average, modifier, msg_start, len(result))\n"
     ]
    }
   ],
   "source": [
    "accuracy = accuracy_score(y_test, y_pred)\n",
    "print(\"Accuracy:\", accuracy)\n",
    "\n",
    "# Display classification report\n",
    "print(\"Classification Report (Test Set):\")\n",
    "print(classification_report(y_test, y_pred))\n",
    "\n",
    "# Display confusion matrix\n",
    "conf_matrix_train = confusion_matrix(y_test, y_pred)\n",
    "print(\"Confusion Matrix (Test Set):\")\n",
    "print(conf_matrix_train)"
   ]
  },
  {
   "cell_type": "code",
   "execution_count": 146,
   "id": "4cc68db6-be21-458a-885b-d27818909fa5",
   "metadata": {},
   "outputs": [
    {
     "data": {
      "image/png": "[encoded data removed]",
      "text/plain": [
       "<Figure size 576x432 with 2 Axes>"
      ]
     },
     "metadata": {},
     "output_type": "display_data"
    }
   ],
   "source": [
    "cm = confusion_matrix(y_test, y_pred)\n",
    "\n",
    "# Plot confusion matrix\n",
    "plt.figure(figsize=(8, 6))\n",
    "sns.heatmap(cm, fmt='%d', cmap='Blues',\n",
    "            xticklabels=['0', '1', '2', '3'],\n",
    "            yticklabels=['0', '1', '2', '3'])\n",
    "plt.title('Confusion Matrix')\n",
    "plt.xlabel('Predicted Label')\n",
    "plt.ylabel('True Label')\n",
    "plt.show()\n"
   ]
  },
  {
   "cell_type": "code",
   "execution_count": 147,
   "id": "f7546b26-b59c-4db4-8f14-5e678a4668f1",
   "metadata": {},
   "outputs": [
    {
     "data": {
      "text/plain": [
       "array([[  0,   0,   0,   0],\n",
       "       [  1,   5,  30,   3],\n",
       "       [  0,  28, 767, 147],\n",
       "       [  0,   5, 187, 114]])"
      ]
     },
     "execution_count": 147,
     "metadata": {},
     "output_type": "execute_result"
    }
   ],
   "source": [
    "cm"
   ]
  },
  {
   "cell_type": "code",
   "execution_count": 128,
   "id": "7b0623b3-019e-48f2-9c73-6c8b18281657",
   "metadata": {},
   "outputs": [
    {
     "data": {
      "text/html": [
       "<div>\n",
       "<style scoped>\n",
       "    .dataframe tbody tr th:only-of-type {\n",
       "        vertical-align: middle;\n",
       "    }\n",
       "\n",
       "    .dataframe tbody tr th {\n",
       "        vertical-align: top;\n",
       "    }\n",
       "\n",
       "    .dataframe thead th {\n",
       "        text-align: right;\n",
       "    }\n",
       "</style>\n",
       "<table border=\"1\" class=\"dataframe\">\n",
       "  <thead>\n",
       "    <tr style=\"text-align: right;\">\n",
       "      <th></th>\n",
       "      <th>Book-Info</th>\n",
       "      <th>User-Country</th>\n",
       "      <th>Age-Group</th>\n",
       "      <th>Year-Of-Publication-Group</th>\n",
       "    </tr>\n",
       "  </thead>\n",
       "  <tbody>\n",
       "    <tr>\n",
       "      <th>0</th>\n",
       "      <td>clara callan by richard bruce wright</td>\n",
       "      <td>17</td>\n",
       "      <td>0</td>\n",
       "      <td>8</td>\n",
       "    </tr>\n",
       "    <tr>\n",
       "      <th>1</th>\n",
       "      <td>clara callan by richard bruce wright</td>\n",
       "      <td>17</td>\n",
       "      <td>1</td>\n",
       "      <td>8</td>\n",
       "    </tr>\n",
       "    <tr>\n",
       "      <th>2</th>\n",
       "      <td>clara callan by richard bruce wright</td>\n",
       "      <td>17</td>\n",
       "      <td>2</td>\n",
       "      <td>8</td>\n",
       "    </tr>\n",
       "    <tr>\n",
       "      <th>3</th>\n",
       "      <td>flu story great influenza pandemic 1918 search...</td>\n",
       "      <td>111</td>\n",
       "      <td>0</td>\n",
       "      <td>7</td>\n",
       "    </tr>\n",
       "    <tr>\n",
       "      <th>4</th>\n",
       "      <td>flu story great influenza pandemic 1918 search...</td>\n",
       "      <td>111</td>\n",
       "      <td>1</td>\n",
       "      <td>7</td>\n",
       "    </tr>\n",
       "    <tr>\n",
       "      <th>...</th>\n",
       "      <td>...</td>\n",
       "      <td>...</td>\n",
       "      <td>...</td>\n",
       "      <td>...</td>\n",
       "    </tr>\n",
       "    <tr>\n",
       "      <th>68539</th>\n",
       "      <td>ice house tv tie edition by minette walters</td>\n",
       "      <td>104</td>\n",
       "      <td>2</td>\n",
       "      <td>7</td>\n",
       "    </tr>\n",
       "    <tr>\n",
       "      <th>68540</th>\n",
       "      <td>trouble business vintage crime black lizard by...</td>\n",
       "      <td>17</td>\n",
       "      <td>0</td>\n",
       "      <td>7</td>\n",
       "    </tr>\n",
       "    <tr>\n",
       "      <th>68541</th>\n",
       "      <td>trouble business vintage crime black lizard by...</td>\n",
       "      <td>111</td>\n",
       "      <td>0</td>\n",
       "      <td>7</td>\n",
       "    </tr>\n",
       "    <tr>\n",
       "      <th>68542</th>\n",
       "      <td>trouble business vintage crime black lizard by...</td>\n",
       "      <td>111</td>\n",
       "      <td>1</td>\n",
       "      <td>7</td>\n",
       "    </tr>\n",
       "    <tr>\n",
       "      <th>68543</th>\n",
       "      <td>trouble business vintage crime black lizard by...</td>\n",
       "      <td>111</td>\n",
       "      <td>2</td>\n",
       "      <td>7</td>\n",
       "    </tr>\n",
       "  </tbody>\n",
       "</table>\n",
       "<p>68544 rows × 4 columns</p>\n",
       "</div>"
      ],
      "text/plain": [
       "                                               Book-Info  ...  Year-Of-Publication-Group\n",
       "0                   clara callan by richard bruce wright  ...                          8\n",
       "1                   clara callan by richard bruce wright  ...                          8\n",
       "2                   clara callan by richard bruce wright  ...                          8\n",
       "3      flu story great influenza pandemic 1918 search...  ...                          7\n",
       "4      flu story great influenza pandemic 1918 search...  ...                          7\n",
       "...                                                  ...  ...                        ...\n",
       "68539        ice house tv tie edition by minette walters  ...                          7\n",
       "68540  trouble business vintage crime black lizard by...  ...                          7\n",
       "68541  trouble business vintage crime black lizard by...  ...                          7\n",
       "68542  trouble business vintage crime black lizard by...  ...                          7\n",
       "68543  trouble business vintage crime black lizard by...  ...                          7\n",
       "\n",
       "[68544 rows x 4 columns]"
      ]
     },
     "execution_count": 128,
     "metadata": {},
     "output_type": "execute_result"
    }
   ],
   "source": [
    "X"
   ]
  },
  {
   "cell_type": "code",
   "execution_count": 55,
   "id": "1b4085c7-268d-45b7-88bb-1a80d4e94aaa",
   "metadata": {},
   "outputs": [
    {
     "data": {
      "text/plain": [
       "{'Book-Info': 'harry potter by jk rowling',\n",
       " 'User-Country': 111,\n",
       " 'Age-Group': 1,\n",
       " 'Year-Of-Publication-Group': 8}"
      ]
     },
     "execution_count": 55,
     "metadata": {},
     "output_type": "execute_result"
    }
   ],
   "source": [
    "example_dict = {'Book-Info':'harry potter by jk rowling',\n",
    "                          'User-Country':111, 'Age-Group':1, 'Year-Of-Publication-Group':8}\n",
    "example_dict"
   ]
  },
  {
   "cell_type": "code",
   "execution_count": 56,
   "id": "0e22c9fa-cc9a-42fe-b925-1be6bc35ac43",
   "metadata": {},
   "outputs": [],
   "source": [
    "X_example = pd.DataFrame(example_dict, index = [0])"
   ]
  },
  {
   "cell_type": "code",
   "execution_count": 57,
   "id": "9c18a767-cc77-47ba-a57d-05fac5aa62bb",
   "metadata": {},
   "outputs": [
    {
     "data": {
      "text/html": [
       "<div>\n",
       "<style scoped>\n",
       "    .dataframe tbody tr th:only-of-type {\n",
       "        vertical-align: middle;\n",
       "    }\n",
       "\n",
       "    .dataframe tbody tr th {\n",
       "        vertical-align: top;\n",
       "    }\n",
       "\n",
       "    .dataframe thead th {\n",
       "        text-align: right;\n",
       "    }\n",
       "</style>\n",
       "<table border=\"1\" class=\"dataframe\">\n",
       "  <thead>\n",
       "    <tr style=\"text-align: right;\">\n",
       "      <th></th>\n",
       "      <th>Book-Info</th>\n",
       "      <th>User-Country</th>\n",
       "      <th>Age-Group</th>\n",
       "      <th>Year-Of-Publication-Group</th>\n",
       "    </tr>\n",
       "  </thead>\n",
       "  <tbody>\n",
       "    <tr>\n",
       "      <th>0</th>\n",
       "      <td>harry potter by jk rowling</td>\n",
       "      <td>111</td>\n",
       "      <td>1</td>\n",
       "      <td>8</td>\n",
       "    </tr>\n",
       "  </tbody>\n",
       "</table>\n",
       "</div>"
      ],
      "text/plain": [
       "                    Book-Info  ...  Year-Of-Publication-Group\n",
       "0  harry potter by jk rowling  ...                          8\n",
       "\n",
       "[1 rows x 4 columns]"
      ]
     },
     "execution_count": 57,
     "metadata": {},
     "output_type": "execute_result"
    }
   ],
   "source": [
    "X_example"
   ]
  },
  {
   "cell_type": "code",
   "execution_count": 58,
   "id": "1a2b5d76-b918-4f10-a038-cd756006a713",
   "metadata": {},
   "outputs": [
    {
     "data": {
      "text/plain": [
       "array([2])"
      ]
     },
     "execution_count": 58,
     "metadata": {},
     "output_type": "execute_result"
    }
   ],
   "source": [
    "pipeline.predict(X_example)"
   ]
  },
  {
   "cell_type": "code",
   "execution_count": null,
   "id": "79df269e-1180-45b9-8f46-f25fbeb86be8",
   "metadata": {},
   "outputs": [],
   "source": []
  }
 ],
 "metadata": {
  "kernelspec": {
   "display_name": "Python 3 (Spyder)",
   "language": "python3",
   "name": "python3"
  },
  "language_info": {
   "codemirror_mode": {
    "name": "ipython",
    "version": 3
   },
   "file_extension": ".py",
   "mimetype": "text/x-python",
   "name": "python",
   "nbconvert_exporter": "python",
   "pygments_lexer": "ipython3",
   "version": "3.11.0"
  }
 },
 "nbformat": 4,
 "nbformat_minor": 5
}
