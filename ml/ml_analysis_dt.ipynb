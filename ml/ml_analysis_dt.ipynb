{
 "cells": [
  {
   "cell_type": "markdown",
   "id": "5f5fe41d-6844-4350-9922-f99caee611cd",
   "metadata": {},
   "source": [
    "# ML Analysis\n",
    "Will attempt to do some sort of clustering.\n",
    "## Set up Environment"
   ]
  },
  {
   "cell_type": "code",
   "execution_count": 8,
   "id": "9b533cb2-7851-4a1a-b958-297a384aa8af",
   "metadata": {},
   "outputs": [],
   "source": [
    "import os\n",
    "import pandas as pd\n",
    "import numpy as np\n",
    "import matplotlib.pyplot as plt\n",
    "import seaborn as sns\n",
    "import re\n",
    "\n",
    "# vectorizing the book info column using TFidf Vectorizer\n",
    "from sklearn.feature_extraction.text import CountVectorizer, TfidfVectorizer\n",
    "from sklearn.metrics.pairwise import cosine_similarity\n",
    "\n",
    "from sklearn.model_selection import train_test_split\n",
    "\n",
    "from sklearn.preprocessing import OrdinalEncoder\n",
    "\n",
    "from sklearn.pipeline import Pipeline, FeatureUnion\n",
    "from sklearn.compose import ColumnTransformer\n",
    "\n",
    "from sklearn.tree import DecisionTreeClassifier\n",
    "from sklearn.metrics import accuracy_score, confusion_matrix\n",
    "\n",
    "from sklearn import tree"
   ]
  },
  {
   "cell_type": "code",
   "execution_count": 9,
   "id": "5fd525cd-4a38-4ee4-8265-5c0a467c4885",
   "metadata": {},
   "outputs": [],
   "source": [
    "path = os.path.join(os.path.normpath(os.getcwd() + os.sep + os.pardir) + \"/data/\")"
   ]
  },
  {
   "cell_type": "code",
   "execution_count": 10,
   "id": "1c31c5ed-c417-4059-9a39-6008b2e00e3b",
   "metadata": {},
   "outputs": [
    {
     "data": {
      "text/plain": [
       "['processed_books.csv']"
      ]
     },
     "execution_count": 10,
     "metadata": {},
     "output_type": "execute_result"
    }
   ],
   "source": [
    "os.listdir(path + 'processed')"
   ]
  },
  {
   "cell_type": "markdown",
   "id": "2225efef-5978-42d3-96c5-4925d5acf19b",
   "metadata": {},
   "source": [
    "## Pull in required data:"
   ]
  },
  {
   "cell_type": "code",
   "execution_count": 11,
   "id": "4adf3af2-d5ea-4d6b-a112-16e6f2addf80",
   "metadata": {},
   "outputs": [],
   "source": [
    "df = pd.read_csv(path + 'processed/processed_books.csv')"
   ]
  },
  {
   "cell_type": "code",
   "execution_count": 12,
   "id": "2991dda9-d32c-4cf2-94bd-21c063c4d9be",
   "metadata": {},
   "outputs": [
    {
     "data": {
      "text/plain": [
       "(36196, 19)"
      ]
     },
     "execution_count": 12,
     "metadata": {},
     "output_type": "execute_result"
    }
   ],
   "source": [
    "df.shape"
   ]
  },
  {
   "cell_type": "code",
   "execution_count": 13,
   "id": "9b738158-ea27-4f81-8b5b-ccb6e06b04fe",
   "metadata": {},
   "outputs": [
    {
     "data": {
      "text/html": [
       "<div>\n",
       "<style scoped>\n",
       "    .dataframe tbody tr th:only-of-type {\n",
       "        vertical-align: middle;\n",
       "    }\n",
       "\n",
       "    .dataframe tbody tr th {\n",
       "        vertical-align: top;\n",
       "    }\n",
       "\n",
       "    .dataframe thead th {\n",
       "        text-align: right;\n",
       "    }\n",
       "</style>\n",
       "<table border=\"1\" class=\"dataframe\">\n",
       "  <thead>\n",
       "    <tr style=\"text-align: right;\">\n",
       "      <th></th>\n",
       "      <th>ISBN</th>\n",
       "      <th>Book-Title</th>\n",
       "      <th>Book-Author</th>\n",
       "      <th>Year-Of-Publication</th>\n",
       "      <th>Book-Publisher</th>\n",
       "      <th>Book-Info</th>\n",
       "      <th>Book-Vector</th>\n",
       "      <th>Year-Of-Publication-Group</th>\n",
       "      <th>Year-Of-Publication-Group-Encoded</th>\n",
       "      <th>User-Country</th>\n",
       "      <th>User-Country-Encoded</th>\n",
       "      <th>Age-Group-Encoded</th>\n",
       "      <th>Age-Group</th>\n",
       "      <th>average_rating</th>\n",
       "      <th>times_read</th>\n",
       "      <th>average_age</th>\n",
       "      <th>weighted_ratings</th>\n",
       "      <th>weighted_ratings_group</th>\n",
       "      <th>weighted_ratings_group_encoded</th>\n",
       "    </tr>\n",
       "  </thead>\n",
       "  <tbody>\n",
       "    <tr>\n",
       "      <th>0</th>\n",
       "      <td>0399135782</td>\n",
       "      <td>kitchen god wife</td>\n",
       "      <td>amy tan</td>\n",
       "      <td>1991.0</td>\n",
       "      <td>putnam pub group</td>\n",
       "      <td>kitchen god wife by amy tan</td>\n",
       "      <td>[0. 0. 0. ... 0. 0. 0.]</td>\n",
       "      <td>(1989, 1999]</td>\n",
       "      <td>7</td>\n",
       "      <td>malaysia</td>\n",
       "      <td>65</td>\n",
       "      <td>0</td>\n",
       "      <td>(4, 24]</td>\n",
       "      <td>10.0</td>\n",
       "      <td>1</td>\n",
       "      <td>21.0</td>\n",
       "      <td>8.325719</td>\n",
       "      <td>(8.0, 9.0]</td>\n",
       "      <td>3</td>\n",
       "    </tr>\n",
       "  </tbody>\n",
       "</table>\n",
       "</div>"
      ],
      "text/plain": [
       "         ISBN  ... weighted_ratings_group_encoded\n",
       "0  0399135782  ...                              3\n",
       "\n",
       "[1 rows x 19 columns]"
      ]
     },
     "execution_count": 13,
     "metadata": {},
     "output_type": "execute_result"
    }
   ],
   "source": [
    "df.head(1)"
   ]
  },
  {
   "cell_type": "markdown",
   "id": "4b78d2d5-0221-4fbf-94d6-e587e06f3fa0",
   "metadata": {},
   "source": [
    "### TF-IDF for Book Info:"
   ]
  },
  {
   "cell_type": "code",
   "execution_count": 15,
   "id": "0dc42faf-d577-49de-b26a-ccedbe478752",
   "metadata": {},
   "outputs": [],
   "source": [
    "tf = TfidfVectorizer(analyzer = \"word\", ngram_range=(1,2), min_df=0, stop_words='english')"
   ]
  },
  {
   "cell_type": "code",
   "execution_count": 16,
   "id": "1b32ae77-6145-4f6e-a13a-7facd2439a00",
   "metadata": {},
   "outputs": [],
   "source": [
    "tfidf_matrix = tf.fit(df['Book-Info'])"
   ]
  },
  {
   "cell_type": "code",
   "execution_count": 17,
   "id": "ec539946-cad7-4868-bcba-ed12b1f845e1",
   "metadata": {},
   "outputs": [],
   "source": [
    "book_vector = tfidf_matrix.transform(df['Book-Info']).toarray()"
   ]
  },
  {
   "cell_type": "code",
   "execution_count": 18,
   "id": "28a0c046-c23d-4ae7-9aad-ad9de539d6f7",
   "metadata": {},
   "outputs": [],
   "source": [
    "df['Book-Vector'] = list(book_vector)"
   ]
  },
  {
   "cell_type": "markdown",
   "id": "a21be739-bf15-4444-9c3d-6127007839ab",
   "metadata": {},
   "source": [
    "## Prepare model:\n",
    "\n",
    "## Split into train and test set\n",
    "also want to do cross validation to get mean of models"
   ]
  },
  {
   "cell_type": "code",
   "execution_count": 19,
   "id": "b1e9c8a8-b1f2-4062-b018-ec3ec6b02bc1",
   "metadata": {},
   "outputs": [
    {
     "data": {
      "text/plain": [
       "Index(['ISBN', 'Book-Title', 'Book-Author', 'Year-Of-Publication',\n",
       "       'Book-Publisher', 'Book-Info', 'Book-Vector',\n",
       "       'Year-Of-Publication-Group', 'Year-Of-Publication-Group-Encoded',\n",
       "       'User-Country', 'User-Country-Encoded', 'Age-Group-Encoded',\n",
       "       'Age-Group', 'average_rating', 'times_read', 'average_age',\n",
       "       'weighted_ratings', 'weighted_ratings_group',\n",
       "       'weighted_ratings_group_encoded'],\n",
       "      dtype='object')"
      ]
     },
     "execution_count": 19,
     "metadata": {},
     "output_type": "execute_result"
    }
   ],
   "source": [
    "df.columns"
   ]
  },
  {
   "cell_type": "code",
   "execution_count": 20,
   "id": "3234a1a8-d2bc-44dc-8b3b-453b56af41b5",
   "metadata": {},
   "outputs": [],
   "source": [
    "X = df[['Book-Info', 'User-Country-Encoded', 'Age-Group-Encoded', 'Year-Of-Publication-Group-Encoded']]\n",
    "y = df['weighted_ratings_group_encoded']"
   ]
  },
  {
   "cell_type": "code",
   "execution_count": 21,
   "id": "f90250fe-c62a-4a99-906d-2bb3ecdb88d3",
   "metadata": {},
   "outputs": [],
   "source": [
    "X_train, X_test, y_train, y_test = train_test_split(X, y, test_size=0.2, random_state=2)"
   ]
  },
  {
   "cell_type": "code",
   "execution_count": 22,
   "id": "321f04fb-a2fd-425b-811c-6075e2648b28",
   "metadata": {},
   "outputs": [
    {
     "data": {
      "text/html": [
       "<div>\n",
       "<style scoped>\n",
       "    .dataframe tbody tr th:only-of-type {\n",
       "        vertical-align: middle;\n",
       "    }\n",
       "\n",
       "    .dataframe tbody tr th {\n",
       "        vertical-align: top;\n",
       "    }\n",
       "\n",
       "    .dataframe thead th {\n",
       "        text-align: right;\n",
       "    }\n",
       "</style>\n",
       "<table border=\"1\" class=\"dataframe\">\n",
       "  <thead>\n",
       "    <tr style=\"text-align: right;\">\n",
       "      <th></th>\n",
       "      <th>Book-Info</th>\n",
       "      <th>User-Country-Encoded</th>\n",
       "      <th>Age-Group-Encoded</th>\n",
       "      <th>Year-Of-Publication-Group-Encoded</th>\n",
       "    </tr>\n",
       "  </thead>\n",
       "  <tbody>\n",
       "    <tr>\n",
       "      <th>17242</th>\n",
       "      <td>guardian by john saul</td>\n",
       "      <td>121</td>\n",
       "      <td>0</td>\n",
       "      <td>7</td>\n",
       "    </tr>\n",
       "  </tbody>\n",
       "</table>\n",
       "</div>"
      ],
      "text/plain": [
       "                   Book-Info  ...  Year-Of-Publication-Group-Encoded\n",
       "17242  guardian by john saul  ...                                  7\n",
       "\n",
       "[1 rows x 4 columns]"
      ]
     },
     "execution_count": 22,
     "metadata": {},
     "output_type": "execute_result"
    }
   ],
   "source": [
    "X_train.head(1)"
   ]
  },
  {
   "cell_type": "markdown",
   "id": "8186e349-411a-4530-859a-c0190e3add2c",
   "metadata": {},
   "source": [
    "## Train Model"
   ]
  },
  {
   "cell_type": "code",
   "execution_count": 23,
   "id": "c41796ef-8bfd-454e-a696-9de16768776e",
   "metadata": {},
   "outputs": [
    {
     "name": "stdout",
     "output_type": "stream",
     "text": [
      "CPU times: user 4.56 s, sys: 126 ms, total: 4.69 s\n",
      "Wall time: 4.92 s\n"
     ]
    },
    {
     "data": {
      "text/html": [
       "<style>#sk-container-id-1 {color: black;background-color: white;}#sk-container-id-1 pre{padding: 0;}#sk-container-id-1 div.sk-toggleable {background-color: white;}#sk-container-id-1 label.sk-toggleable__label {cursor: pointer;display: block;width: 100%;margin-bottom: 0;padding: 0.3em;box-sizing: border-box;text-align: center;}#sk-container-id-1 label.sk-toggleable__label-arrow:before {content: \"▸\";float: left;margin-right: 0.25em;color: #696969;}#sk-container-id-1 label.sk-toggleable__label-arrow:hover:before {color: black;}#sk-container-id-1 div.sk-estimator:hover label.sk-toggleable__label-arrow:before {color: black;}#sk-container-id-1 div.sk-toggleable__content {max-height: 0;max-width: 0;overflow: hidden;text-align: left;background-color: #f0f8ff;}#sk-container-id-1 div.sk-toggleable__content pre {margin: 0.2em;color: black;border-radius: 0.25em;background-color: #f0f8ff;}#sk-container-id-1 input.sk-toggleable__control:checked~div.sk-toggleable__content {max-height: 200px;max-width: 100%;overflow: auto;}#sk-container-id-1 input.sk-toggleable__control:checked~label.sk-toggleable__label-arrow:before {content: \"▾\";}#sk-container-id-1 div.sk-estimator input.sk-toggleable__control:checked~label.sk-toggleable__label {background-color: #d4ebff;}#sk-container-id-1 div.sk-label input.sk-toggleable__control:checked~label.sk-toggleable__label {background-color: #d4ebff;}#sk-container-id-1 input.sk-hidden--visually {border: 0;clip: rect(1px 1px 1px 1px);clip: rect(1px, 1px, 1px, 1px);height: 1px;margin: -1px;overflow: hidden;padding: 0;position: absolute;width: 1px;}#sk-container-id-1 div.sk-estimator {font-family: monospace;background-color: #f0f8ff;border: 1px dotted black;border-radius: 0.25em;box-sizing: border-box;margin-bottom: 0.5em;}#sk-container-id-1 div.sk-estimator:hover {background-color: #d4ebff;}#sk-container-id-1 div.sk-parallel-item::after {content: \"\";width: 100%;border-bottom: 1px solid gray;flex-grow: 1;}#sk-container-id-1 div.sk-label:hover label.sk-toggleable__label {background-color: #d4ebff;}#sk-container-id-1 div.sk-serial::before {content: \"\";position: absolute;border-left: 1px solid gray;box-sizing: border-box;top: 0;bottom: 0;left: 50%;z-index: 0;}#sk-container-id-1 div.sk-serial {display: flex;flex-direction: column;align-items: center;background-color: white;padding-right: 0.2em;padding-left: 0.2em;position: relative;}#sk-container-id-1 div.sk-item {position: relative;z-index: 1;}#sk-container-id-1 div.sk-parallel {display: flex;align-items: stretch;justify-content: center;background-color: white;position: relative;}#sk-container-id-1 div.sk-item::before, #sk-container-id-1 div.sk-parallel-item::before {content: \"\";position: absolute;border-left: 1px solid gray;box-sizing: border-box;top: 0;bottom: 0;left: 50%;z-index: -1;}#sk-container-id-1 div.sk-parallel-item {display: flex;flex-direction: column;z-index: 1;position: relative;background-color: white;}#sk-container-id-1 div.sk-parallel-item:first-child::after {align-self: flex-end;width: 50%;}#sk-container-id-1 div.sk-parallel-item:last-child::after {align-self: flex-start;width: 50%;}#sk-container-id-1 div.sk-parallel-item:only-child::after {width: 0;}#sk-container-id-1 div.sk-dashed-wrapped {border: 1px dashed gray;margin: 0 0.4em 0.5em 0.4em;box-sizing: border-box;padding-bottom: 0.4em;background-color: white;}#sk-container-id-1 div.sk-label label {font-family: monospace;font-weight: bold;display: inline-block;line-height: 1.2em;}#sk-container-id-1 div.sk-label-container {text-align: center;}#sk-container-id-1 div.sk-container {/* jupyter's `normalize.less` sets `[hidden] { display: none; }` but bootstrap.min.css set `[hidden] { display: none !important; }` so we also need the `!important` here to be able to override the default hidden behavior on the sphinx rendered scikit-learn.org. See: https://github.com/scikit-learn/scikit-learn/issues/21755 */display: inline-block !important;position: relative;}#sk-container-id-1 div.sk-text-repr-fallback {display: none;}</style><div id=\"sk-container-id-1\" class=\"sk-top-container\"><div class=\"sk-text-repr-fallback\"><pre>Pipeline(steps=[(&#x27;preprocessor&#x27;,\n",
       "                 ColumnTransformer(transformers=[(&#x27;text&#x27;,\n",
       "                                                  Pipeline(steps=[(&#x27;tfidf&#x27;,\n",
       "                                                                   TfidfVectorizer(min_df=0,\n",
       "                                                                                   ngram_range=(1,\n",
       "                                                                                                2),\n",
       "                                                                                   stop_words=&#x27;english&#x27;))]),\n",
       "                                                  &#x27;Book-Info&#x27;),\n",
       "                                                 (&#x27;group&#x27;, &#x27;passthrough&#x27;,\n",
       "                                                  [&#x27;Age-Group-Encoded&#x27;,\n",
       "                                                   &#x27;Year-Of-Publication-Group-Encoded&#x27;]),\n",
       "                                                 (&#x27;country&#x27;, &#x27;passthrough&#x27;,\n",
       "                                                  [&#x27;User-Country-Encoded&#x27;])])),\n",
       "                (&#x27;classifier&#x27;, DecisionTreeClassifier(random_state=42))])</pre><b>In a Jupyter environment, please rerun this cell to show the HTML representation or trust the notebook. <br />On GitHub, the HTML representation is unable to render, please try loading this page with nbviewer.org.</b></div><div class=\"sk-container\" hidden><div class=\"sk-item sk-dashed-wrapped\"><div class=\"sk-label-container\"><div class=\"sk-label sk-toggleable\"><input class=\"sk-toggleable__control sk-hidden--visually\" id=\"sk-estimator-id-1\" type=\"checkbox\" ><label for=\"sk-estimator-id-1\" class=\"sk-toggleable__label sk-toggleable__label-arrow\">Pipeline</label><div class=\"sk-toggleable__content\"><pre>Pipeline(steps=[(&#x27;preprocessor&#x27;,\n",
       "                 ColumnTransformer(transformers=[(&#x27;text&#x27;,\n",
       "                                                  Pipeline(steps=[(&#x27;tfidf&#x27;,\n",
       "                                                                   TfidfVectorizer(min_df=0,\n",
       "                                                                                   ngram_range=(1,\n",
       "                                                                                                2),\n",
       "                                                                                   stop_words=&#x27;english&#x27;))]),\n",
       "                                                  &#x27;Book-Info&#x27;),\n",
       "                                                 (&#x27;group&#x27;, &#x27;passthrough&#x27;,\n",
       "                                                  [&#x27;Age-Group-Encoded&#x27;,\n",
       "                                                   &#x27;Year-Of-Publication-Group-Encoded&#x27;]),\n",
       "                                                 (&#x27;country&#x27;, &#x27;passthrough&#x27;,\n",
       "                                                  [&#x27;User-Country-Encoded&#x27;])])),\n",
       "                (&#x27;classifier&#x27;, DecisionTreeClassifier(random_state=42))])</pre></div></div></div><div class=\"sk-serial\"><div class=\"sk-item sk-dashed-wrapped\"><div class=\"sk-label-container\"><div class=\"sk-label sk-toggleable\"><input class=\"sk-toggleable__control sk-hidden--visually\" id=\"sk-estimator-id-2\" type=\"checkbox\" ><label for=\"sk-estimator-id-2\" class=\"sk-toggleable__label sk-toggleable__label-arrow\">preprocessor: ColumnTransformer</label><div class=\"sk-toggleable__content\"><pre>ColumnTransformer(transformers=[(&#x27;text&#x27;,\n",
       "                                 Pipeline(steps=[(&#x27;tfidf&#x27;,\n",
       "                                                  TfidfVectorizer(min_df=0,\n",
       "                                                                  ngram_range=(1,\n",
       "                                                                               2),\n",
       "                                                                  stop_words=&#x27;english&#x27;))]),\n",
       "                                 &#x27;Book-Info&#x27;),\n",
       "                                (&#x27;group&#x27;, &#x27;passthrough&#x27;,\n",
       "                                 [&#x27;Age-Group-Encoded&#x27;,\n",
       "                                  &#x27;Year-Of-Publication-Group-Encoded&#x27;]),\n",
       "                                (&#x27;country&#x27;, &#x27;passthrough&#x27;,\n",
       "                                 [&#x27;User-Country-Encoded&#x27;])])</pre></div></div></div><div class=\"sk-parallel\"><div class=\"sk-parallel-item\"><div class=\"sk-item\"><div class=\"sk-label-container\"><div class=\"sk-label sk-toggleable\"><input class=\"sk-toggleable__control sk-hidden--visually\" id=\"sk-estimator-id-3\" type=\"checkbox\" ><label for=\"sk-estimator-id-3\" class=\"sk-toggleable__label sk-toggleable__label-arrow\">text</label><div class=\"sk-toggleable__content\"><pre>Book-Info</pre></div></div></div><div class=\"sk-serial\"><div class=\"sk-item\"><div class=\"sk-serial\"><div class=\"sk-item\"><div class=\"sk-estimator sk-toggleable\"><input class=\"sk-toggleable__control sk-hidden--visually\" id=\"sk-estimator-id-4\" type=\"checkbox\" ><label for=\"sk-estimator-id-4\" class=\"sk-toggleable__label sk-toggleable__label-arrow\">TfidfVectorizer</label><div class=\"sk-toggleable__content\"><pre>TfidfVectorizer(min_df=0, ngram_range=(1, 2), stop_words=&#x27;english&#x27;)</pre></div></div></div></div></div></div></div></div><div class=\"sk-parallel-item\"><div class=\"sk-item\"><div class=\"sk-label-container\"><div class=\"sk-label sk-toggleable\"><input class=\"sk-toggleable__control sk-hidden--visually\" id=\"sk-estimator-id-5\" type=\"checkbox\" ><label for=\"sk-estimator-id-5\" class=\"sk-toggleable__label sk-toggleable__label-arrow\">group</label><div class=\"sk-toggleable__content\"><pre>[&#x27;Age-Group-Encoded&#x27;, &#x27;Year-Of-Publication-Group-Encoded&#x27;]</pre></div></div></div><div class=\"sk-serial\"><div class=\"sk-item\"><div class=\"sk-estimator sk-toggleable\"><input class=\"sk-toggleable__control sk-hidden--visually\" id=\"sk-estimator-id-6\" type=\"checkbox\" ><label for=\"sk-estimator-id-6\" class=\"sk-toggleable__label sk-toggleable__label-arrow\">passthrough</label><div class=\"sk-toggleable__content\"><pre>passthrough</pre></div></div></div></div></div></div><div class=\"sk-parallel-item\"><div class=\"sk-item\"><div class=\"sk-label-container\"><div class=\"sk-label sk-toggleable\"><input class=\"sk-toggleable__control sk-hidden--visually\" id=\"sk-estimator-id-7\" type=\"checkbox\" ><label for=\"sk-estimator-id-7\" class=\"sk-toggleable__label sk-toggleable__label-arrow\">country</label><div class=\"sk-toggleable__content\"><pre>[&#x27;User-Country-Encoded&#x27;]</pre></div></div></div><div class=\"sk-serial\"><div class=\"sk-item\"><div class=\"sk-estimator sk-toggleable\"><input class=\"sk-toggleable__control sk-hidden--visually\" id=\"sk-estimator-id-8\" type=\"checkbox\" ><label for=\"sk-estimator-id-8\" class=\"sk-toggleable__label sk-toggleable__label-arrow\">passthrough</label><div class=\"sk-toggleable__content\"><pre>passthrough</pre></div></div></div></div></div></div></div></div><div class=\"sk-item\"><div class=\"sk-estimator sk-toggleable\"><input class=\"sk-toggleable__control sk-hidden--visually\" id=\"sk-estimator-id-9\" type=\"checkbox\" ><label for=\"sk-estimator-id-9\" class=\"sk-toggleable__label sk-toggleable__label-arrow\">DecisionTreeClassifier</label><div class=\"sk-toggleable__content\"><pre>DecisionTreeClassifier(random_state=42)</pre></div></div></div></div></div></div></div>"
      ],
      "text/plain": [
       "Pipeline(steps=[('preprocessor',\n",
       "                 ColumnTransformer(transformers=[('text',\n",
       "                                                  Pipeline(steps=[('tfidf',\n",
       "                                                                   TfidfVectorizer(min_df=0,\n",
       "                                                                                   ngram_range=(1,\n",
       "                                                                                                2),\n",
       "                                                                                   stop_words='english'))]),\n",
       "                                                  'Book-Info'),\n",
       "                                                 ('group', 'passthrough',\n",
       "                                                  ['Age-Group-Encoded',\n",
       "                                                   'Year-Of-Publication-Group-Encoded']),\n",
       "                                                 ('country', 'passthrough',\n",
       "                                                  ['User-Country-Encoded'])])),\n",
       "                ('classifier', DecisionTreeClassifier(random_state=42))])"
      ]
     },
     "execution_count": 23,
     "metadata": {},
     "output_type": "execute_result"
    }
   ],
   "source": [
    "%%time\n",
    "# Define text preprocessing (TF-IDF vectorization) and numeric preprocessing pipelines\n",
    "text_pipeline = Pipeline([\n",
    "    ('tfidf', TfidfVectorizer(analyzer = \"word\", ngram_range=(1,2), min_df=0, stop_words='english'))\n",
    "])\n",
    "\n",
    "\n",
    "# Define column transformer to apply different preprocessing to specific columns\n",
    "preprocessor = ColumnTransformer([\n",
    "    ('text', text_pipeline, 'Book-Info'),\n",
    "    ('group', 'passthrough', ['Age-Group-Encoded', 'Year-Of-Publication-Group-Encoded']),\n",
    "    ('country', 'passthrough', ['User-Country-Encoded'])\n",
    "])\n",
    "\n",
    "# Define the full pipeline with preprocessing and model\n",
    "pipeline = Pipeline([\n",
    "    ('preprocessor', preprocessor),\n",
    "    ('classifier', DecisionTreeClassifier(random_state=42))\n",
    "])\n",
    "\n",
    "# Fit the pipeline on training data\n",
    "pipeline.fit(X_train, y_train)"
   ]
  },
  {
   "cell_type": "code",
   "execution_count": 24,
   "id": "b0e93175-d463-4315-a104-6167f78fd136",
   "metadata": {},
   "outputs": [],
   "source": [
    "y_pred = pipeline.predict(X_test)"
   ]
  },
  {
   "cell_type": "markdown",
   "id": "25da8dc8-1fb4-4372-9d04-29490341e816",
   "metadata": {},
   "source": [
    "## Results"
   ]
  },
  {
   "cell_type": "code",
   "execution_count": 25,
   "id": "733f0de0-79ae-4a22-b563-3953d83f4624",
   "metadata": {},
   "outputs": [
    {
     "name": "stdout",
     "output_type": "stream",
     "text": [
      "Classification Report (Training Set):\n",
      "              precision    recall  f1-score   support\n",
      "\n",
      "           0       1.00      0.98      0.99        64\n",
      "           1       0.94      1.00      0.97      7637\n",
      "           2       0.97      0.97      0.97     11007\n",
      "           3       1.00      0.95      0.97     10170\n",
      "           4       1.00      0.87      0.93        78\n",
      "\n",
      "    accuracy                           0.97     28956\n",
      "   macro avg       0.98      0.96      0.97     28956\n",
      "weighted avg       0.97      0.97      0.97     28956\n",
      "\n",
      "Confusion Matrix (Training Set):\n",
      "[[   63     0     1     0     0]\n",
      " [    0  7631     2     4     0]\n",
      " [    0   277 10723     7     0]\n",
      " [    0   224   314  9632     0]\n",
      " [    0     1     2     7    68]]\n"
     ]
    }
   ],
   "source": [
    "from sklearn.metrics import accuracy_score, classification_report, confusion_matrix\n",
    "y_pred_train = pipeline.predict(X_train)\n",
    "\n",
    "# Display classification report\n",
    "print(\"Classification Report (Training Set):\")\n",
    "print(classification_report(y_train, y_pred_train))\n",
    "\n",
    "# Display confusion matrix\n",
    "conf_matrix_train = confusion_matrix(y_train, y_pred_train)\n",
    "print(\"Confusion Matrix (Training Set):\")\n",
    "print(conf_matrix_train)"
   ]
  },
  {
   "cell_type": "code",
   "execution_count": 26,
   "id": "1feaba46-90f6-4f1a-a7ee-57aba3ebb55c",
   "metadata": {},
   "outputs": [
    {
     "name": "stdout",
     "output_type": "stream",
     "text": [
      "Accuracy: 0.41450276243093925\n",
      "Classification Report (Test Set):\n",
      "              precision    recall  f1-score   support\n",
      "\n",
      "           0       0.19      0.23      0.21        13\n",
      "           1       0.38      0.32      0.35      1927\n",
      "           2       0.41      0.48      0.44      2703\n",
      "           3       0.45      0.42      0.43      2583\n",
      "           4       0.17      0.21      0.19        14\n",
      "\n",
      "    accuracy                           0.41      7240\n",
      "   macro avg       0.32      0.33      0.32      7240\n",
      "weighted avg       0.41      0.41      0.41      7240\n",
      "\n",
      "Confusion Matrix (Test Set):\n",
      "[[   3    6    2    2    0]\n",
      " [   8  624  810  483    2]\n",
      " [   2  574 1297  829    1]\n",
      " [   3  442 1052 1074   12]\n",
      " [   0    1    1    9    3]]\n"
     ]
    }
   ],
   "source": [
    "accuracy = accuracy_score(y_test, y_pred)\n",
    "print(\"Accuracy:\", accuracy)\n",
    "\n",
    "# Display classification report\n",
    "print(\"Classification Report (Test Set):\")\n",
    "print(classification_report(y_test, y_pred))\n",
    "\n",
    "# Display confusion matrix\n",
    "conf_matrix_train = confusion_matrix(y_test, y_pred)\n",
    "print(\"Confusion Matrix (Test Set):\")\n",
    "print(conf_matrix_train)"
   ]
  },
  {
   "cell_type": "code",
   "execution_count": 27,
   "id": "4cc68db6-be21-458a-885b-d27818909fa5",
   "metadata": {},
   "outputs": [
    {
     "data": {
      "image/png": "[encoded data removed]",
      "text/plain": [
       "<Figure size 576x432 with 2 Axes>"
      ]
     },
     "metadata": {},
     "output_type": "display_data"
    }
   ],
   "source": [
    "cm = confusion_matrix(y_test, y_pred)\n",
    "\n",
    "# Plot confusion matrix\n",
    "plt.figure(figsize=(8, 6))\n",
    "sns.heatmap(cm, fmt='%d', cmap='Blues',\n",
    "            xticklabels=['0', '1', '2', '3'],\n",
    "            yticklabels=['0', '1', '2', '3'])\n",
    "plt.title('Confusion Matrix')\n",
    "plt.xlabel('Predicted Label')\n",
    "plt.ylabel('True Label')\n",
    "plt.show()\n"
   ]
  },
  {
   "cell_type": "code",
   "execution_count": 28,
   "id": "f7546b26-b59c-4db4-8f14-5e678a4668f1",
   "metadata": {},
   "outputs": [
    {
     "data": {
      "text/plain": [
       "array([[   3,    6,    2,    2,    0],\n",
       "       [   8,  624,  810,  483,    2],\n",
       "       [   2,  574, 1297,  829,    1],\n",
       "       [   3,  442, 1052, 1074,   12],\n",
       "       [   0,    1,    1,    9,    3]])"
      ]
     },
     "execution_count": 28,
     "metadata": {},
     "output_type": "execute_result"
    }
   ],
   "source": [
    "cm"
   ]
  },
  {
   "cell_type": "markdown",
   "id": "b908fcc6-d3ff-4783-85af-c7daa531ae54",
   "metadata": {},
   "source": [
    "## Able to estimate popularity:"
   ]
  },
  {
   "cell_type": "code",
   "execution_count": 103,
   "id": "1b4085c7-268d-45b7-88bb-1a80d4e94aaa",
   "metadata": {},
   "outputs": [
    {
     "data": {
      "text/plain": [
       "{'Book-Info': '1984 by jk rowling',\n",
       " 'User-Country-Encoded': 124,\n",
       " 'Age-Group-Encoded': 0,\n",
       " 'Year-Of-Publication-Group-Encoded': 1}"
      ]
     },
     "execution_count": 103,
     "metadata": {},
     "output_type": "execute_result"
    }
   ],
   "source": [
    "example_dict = {'Book-Info':'1984 by jk rowling',\n",
    "                          'User-Country-Encoded':124, 'Age-Group-Encoded':0,\n",
    "                'Year-Of-Publication-Group-Encoded':1}\n",
    "example_dict"
   ]
  },
  {
   "cell_type": "code",
   "execution_count": 104,
   "id": "0e22c9fa-cc9a-42fe-b925-1be6bc35ac43",
   "metadata": {},
   "outputs": [],
   "source": [
    "X_example = pd.DataFrame(example_dict, index = [0])"
   ]
  },
  {
   "cell_type": "code",
   "execution_count": 105,
   "id": "9c18a767-cc77-47ba-a57d-05fac5aa62bb",
   "metadata": {},
   "outputs": [
    {
     "data": {
      "text/html": [
       "<div>\n",
       "<style scoped>\n",
       "    .dataframe tbody tr th:only-of-type {\n",
       "        vertical-align: middle;\n",
       "    }\n",
       "\n",
       "    .dataframe tbody tr th {\n",
       "        vertical-align: top;\n",
       "    }\n",
       "\n",
       "    .dataframe thead th {\n",
       "        text-align: right;\n",
       "    }\n",
       "</style>\n",
       "<table border=\"1\" class=\"dataframe\">\n",
       "  <thead>\n",
       "    <tr style=\"text-align: right;\">\n",
       "      <th></th>\n",
       "      <th>Book-Info</th>\n",
       "      <th>User-Country-Encoded</th>\n",
       "      <th>Age-Group-Encoded</th>\n",
       "      <th>Year-Of-Publication-Group-Encoded</th>\n",
       "    </tr>\n",
       "  </thead>\n",
       "  <tbody>\n",
       "    <tr>\n",
       "      <th>0</th>\n",
       "      <td>1984 by jk rowling</td>\n",
       "      <td>124</td>\n",
       "      <td>0</td>\n",
       "      <td>1</td>\n",
       "    </tr>\n",
       "  </tbody>\n",
       "</table>\n",
       "</div>"
      ],
      "text/plain": [
       "            Book-Info  ...  Year-Of-Publication-Group-Encoded\n",
       "0  1984 by jk rowling  ...                                  1\n",
       "\n",
       "[1 rows x 4 columns]"
      ]
     },
     "execution_count": 105,
     "metadata": {},
     "output_type": "execute_result"
    }
   ],
   "source": [
    "X_example"
   ]
  },
  {
   "cell_type": "code",
   "execution_count": 106,
   "id": "1a2b5d76-b918-4f10-a038-cd756006a713",
   "metadata": {},
   "outputs": [
    {
     "data": {
      "text/plain": [
       "array([3])"
      ]
     },
     "execution_count": 106,
     "metadata": {},
     "output_type": "execute_result"
    }
   ],
   "source": [
    "pipeline.predict(X_example)"
   ]
  },
  {
   "cell_type": "code",
   "execution_count": 107,
   "id": "79df269e-1180-45b9-8f46-f25fbeb86be8",
   "metadata": {},
   "outputs": [
    {
     "data": {
      "text/html": [
       "<div>\n",
       "<style scoped>\n",
       "    .dataframe tbody tr th:only-of-type {\n",
       "        vertical-align: middle;\n",
       "    }\n",
       "\n",
       "    .dataframe tbody tr th {\n",
       "        vertical-align: top;\n",
       "    }\n",
       "\n",
       "    .dataframe thead th {\n",
       "        text-align: right;\n",
       "    }\n",
       "</style>\n",
       "<table border=\"1\" class=\"dataframe\">\n",
       "  <thead>\n",
       "    <tr style=\"text-align: right;\">\n",
       "      <th></th>\n",
       "      <th>Year-Of-Publication-Group</th>\n",
       "      <th>Year-Of-Publication-Group-Encoded</th>\n",
       "    </tr>\n",
       "  </thead>\n",
       "  <tbody>\n",
       "    <tr>\n",
       "      <th>0</th>\n",
       "      <td>(1989, 1999]</td>\n",
       "      <td>7</td>\n",
       "    </tr>\n",
       "    <tr>\n",
       "      <th>45</th>\n",
       "      <td>(1999, 2009]</td>\n",
       "      <td>8</td>\n",
       "    </tr>\n",
       "    <tr>\n",
       "      <th>169</th>\n",
       "      <td>(1979, 1989]</td>\n",
       "      <td>6</td>\n",
       "    </tr>\n",
       "    <tr>\n",
       "      <th>1555</th>\n",
       "      <td>(1959, 1969]</td>\n",
       "      <td>4</td>\n",
       "    </tr>\n",
       "    <tr>\n",
       "      <th>1568</th>\n",
       "      <td>(1969, 1979]</td>\n",
       "      <td>5</td>\n",
       "    </tr>\n",
       "    <tr>\n",
       "      <th>5919</th>\n",
       "      <td>(1949, 1959]</td>\n",
       "      <td>3</td>\n",
       "    </tr>\n",
       "    <tr>\n",
       "      <th>22190</th>\n",
       "      <td>(1929, 1939]</td>\n",
       "      <td>1</td>\n",
       "    </tr>\n",
       "  </tbody>\n",
       "</table>\n",
       "</div>"
      ],
      "text/plain": [
       "      Year-Of-Publication-Group  Year-Of-Publication-Group-Encoded\n",
       "0                  (1989, 1999]                                  7\n",
       "45                 (1999, 2009]                                  8\n",
       "169                (1979, 1989]                                  6\n",
       "1555               (1959, 1969]                                  4\n",
       "1568               (1969, 1979]                                  5\n",
       "5919               (1949, 1959]                                  3\n",
       "22190              (1929, 1939]                                  1"
      ]
     },
     "execution_count": 107,
     "metadata": {},
     "output_type": "execute_result"
    }
   ],
   "source": [
    "df[['Year-Of-Publication-Group', 'Year-Of-Publication-Group-Encoded']].drop_duplicates()"
   ]
  },
  {
   "cell_type": "code",
   "execution_count": 108,
   "id": "230b4672-aa47-45ff-8509-c4132899b1bd",
   "metadata": {},
   "outputs": [
    {
     "data": {
      "text/html": [
       "<div>\n",
       "<style scoped>\n",
       "    .dataframe tbody tr th:only-of-type {\n",
       "        vertical-align: middle;\n",
       "    }\n",
       "\n",
       "    .dataframe tbody tr th {\n",
       "        vertical-align: top;\n",
       "    }\n",
       "\n",
       "    .dataframe thead th {\n",
       "        text-align: right;\n",
       "    }\n",
       "</style>\n",
       "<table border=\"1\" class=\"dataframe\">\n",
       "  <thead>\n",
       "    <tr style=\"text-align: right;\">\n",
       "      <th></th>\n",
       "      <th>weighted_ratings_group</th>\n",
       "      <th>weighted_ratings_group_encoded</th>\n",
       "    </tr>\n",
       "  </thead>\n",
       "  <tbody>\n",
       "    <tr>\n",
       "      <th>0</th>\n",
       "      <td>(8.0, 9.0]</td>\n",
       "      <td>3</td>\n",
       "    </tr>\n",
       "    <tr>\n",
       "      <th>1</th>\n",
       "      <td>(7.5, 8.0]</td>\n",
       "      <td>2</td>\n",
       "    </tr>\n",
       "    <tr>\n",
       "      <th>14</th>\n",
       "      <td>(6.0, 7.5]</td>\n",
       "      <td>1</td>\n",
       "    </tr>\n",
       "    <tr>\n",
       "      <th>46</th>\n",
       "      <td>(0.0, 6.0]</td>\n",
       "      <td>0</td>\n",
       "    </tr>\n",
       "    <tr>\n",
       "      <th>195</th>\n",
       "      <td>(9.0, 10.0]</td>\n",
       "      <td>4</td>\n",
       "    </tr>\n",
       "  </tbody>\n",
       "</table>\n",
       "</div>"
      ],
      "text/plain": [
       "    weighted_ratings_group  weighted_ratings_group_encoded\n",
       "0               (8.0, 9.0]                               3\n",
       "1               (7.5, 8.0]                               2\n",
       "14              (6.0, 7.5]                               1\n",
       "46              (0.0, 6.0]                               0\n",
       "195            (9.0, 10.0]                               4"
      ]
     },
     "execution_count": 108,
     "metadata": {},
     "output_type": "execute_result"
    }
   ],
   "source": [
    "df[['weighted_ratings_group', 'weighted_ratings_group_encoded']].drop_duplicates()"
   ]
  },
  {
   "cell_type": "code",
   "execution_count": 47,
   "id": "0bdaa6c6-5b12-411a-87e6-f8e570408f3b",
   "metadata": {},
   "outputs": [
    {
     "data": {
      "text/html": [
       "<div>\n",
       "<style scoped>\n",
       "    .dataframe tbody tr th:only-of-type {\n",
       "        vertical-align: middle;\n",
       "    }\n",
       "\n",
       "    .dataframe tbody tr th {\n",
       "        vertical-align: top;\n",
       "    }\n",
       "\n",
       "    .dataframe thead th {\n",
       "        text-align: right;\n",
       "    }\n",
       "</style>\n",
       "<table border=\"1\" class=\"dataframe\">\n",
       "  <thead>\n",
       "    <tr style=\"text-align: right;\">\n",
       "      <th></th>\n",
       "      <th>Age-Group</th>\n",
       "      <th>Age-Group-Encoded</th>\n",
       "    </tr>\n",
       "  </thead>\n",
       "  <tbody>\n",
       "    <tr>\n",
       "      <th>0</th>\n",
       "      <td>(4, 24]</td>\n",
       "      <td>0</td>\n",
       "    </tr>\n",
       "    <tr>\n",
       "      <th>1</th>\n",
       "      <td>(24, 35]</td>\n",
       "      <td>1</td>\n",
       "    </tr>\n",
       "    <tr>\n",
       "      <th>2</th>\n",
       "      <td>(50, 100]</td>\n",
       "      <td>3</td>\n",
       "    </tr>\n",
       "    <tr>\n",
       "      <th>5</th>\n",
       "      <td>(35, 50]</td>\n",
       "      <td>2</td>\n",
       "    </tr>\n",
       "  </tbody>\n",
       "</table>\n",
       "</div>"
      ],
      "text/plain": [
       "   Age-Group  Age-Group-Encoded\n",
       "0    (4, 24]                  0\n",
       "1   (24, 35]                  1\n",
       "2  (50, 100]                  3\n",
       "5   (35, 50]                  2"
      ]
     },
     "execution_count": 47,
     "metadata": {},
     "output_type": "execute_result"
    }
   ],
   "source": [
    "df[['Age-Group', 'Age-Group-Encoded']].drop_duplicates()"
   ]
  },
  {
   "cell_type": "code",
   "execution_count": 48,
   "id": "ae61786e-04df-4754-b128-f9a5c8b8df0d",
   "metadata": {
    "scrolled": true
   },
   "outputs": [
    {
     "data": {
      "text/html": [
       "<div>\n",
       "<style scoped>\n",
       "    .dataframe tbody tr th:only-of-type {\n",
       "        vertical-align: middle;\n",
       "    }\n",
       "\n",
       "    .dataframe tbody tr th {\n",
       "        vertical-align: top;\n",
       "    }\n",
       "\n",
       "    .dataframe thead th {\n",
       "        text-align: right;\n",
       "    }\n",
       "</style>\n",
       "<table border=\"1\" class=\"dataframe\">\n",
       "  <thead>\n",
       "    <tr style=\"text-align: right;\">\n",
       "      <th></th>\n",
       "      <th>User-Country</th>\n",
       "      <th>User-Country-Encoded</th>\n",
       "    </tr>\n",
       "  </thead>\n",
       "  <tbody>\n",
       "    <tr>\n",
       "      <th>0</th>\n",
       "      <td>malaysia</td>\n",
       "      <td>65</td>\n",
       "    </tr>\n",
       "    <tr>\n",
       "      <th>1</th>\n",
       "      <td>unknown</td>\n",
       "      <td>121</td>\n",
       "    </tr>\n",
       "    <tr>\n",
       "      <th>3</th>\n",
       "      <td>usa</td>\n",
       "      <td>124</td>\n",
       "    </tr>\n",
       "    <tr>\n",
       "      <th>7</th>\n",
       "      <td>australia</td>\n",
       "      <td>7</td>\n",
       "    </tr>\n",
       "    <tr>\n",
       "      <th>8</th>\n",
       "      <td>brazil</td>\n",
       "      <td>15</td>\n",
       "    </tr>\n",
       "    <tr>\n",
       "      <th>...</th>\n",
       "      <td>...</td>\n",
       "      <td>...</td>\n",
       "    </tr>\n",
       "    <tr>\n",
       "      <th>27076</th>\n",
       "      <td>urugua</td>\n",
       "      <td>122</td>\n",
       "    </tr>\n",
       "    <tr>\n",
       "      <th>30872</th>\n",
       "      <td>croatia</td>\n",
       "      <td>25</td>\n",
       "    </tr>\n",
       "    <tr>\n",
       "      <th>33013</th>\n",
       "      <td>u.s.a.</td>\n",
       "      <td>115</td>\n",
       "    </tr>\n",
       "    <tr>\n",
       "      <th>33266</th>\n",
       "      <td>tajikistan</td>\n",
       "      <td>107</td>\n",
       "    </tr>\n",
       "    <tr>\n",
       "      <th>35174</th>\n",
       "      <td>cuba</td>\n",
       "      <td>26</td>\n",
       "    </tr>\n",
       "  </tbody>\n",
       "</table>\n",
       "<p>114 rows × 2 columns</p>\n",
       "</div>"
      ],
      "text/plain": [
       "      User-Country  User-Country-Encoded\n",
       "0         malaysia                    65\n",
       "1          unknown                   121\n",
       "3              usa                   124\n",
       "7        australia                     7\n",
       "8           brazil                    15\n",
       "...            ...                   ...\n",
       "27076       urugua                   122\n",
       "30872      croatia                    25\n",
       "33013       u.s.a.                   115\n",
       "33266   tajikistan                   107\n",
       "35174         cuba                    26\n",
       "\n",
       "[114 rows x 2 columns]"
      ]
     },
     "execution_count": 48,
     "metadata": {},
     "output_type": "execute_result"
    }
   ],
   "source": [
    "df[['User-Country', 'User-Country-Encoded']].drop_duplicates()"
   ]
  },
  {
   "cell_type": "code",
   "execution_count": null,
   "id": "0e1ccca6-a0d2-4b57-a27b-d175fdf3a899",
   "metadata": {},
   "outputs": [],
   "source": []
  }
 ],
 "metadata": {
  "kernelspec": {
   "display_name": "Python 3 (Spyder)",
   "language": "python3",
   "name": "python3"
  },
  "language_info": {
   "codemirror_mode": {
    "name": "ipython",
    "version": 3
   },
   "file_extension": ".py",
   "mimetype": "text/x-python",
   "name": "python",
   "nbconvert_exporter": "python",
   "pygments_lexer": "ipython3",
   "version": "3.11.0"
  }
 },
 "nbformat": 4,
 "nbformat_minor": 5
}
