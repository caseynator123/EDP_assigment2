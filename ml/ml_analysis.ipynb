{
 "cells": [
  {
   "cell_type": "markdown",
   "id": "5f5fe41d-6844-4350-9922-f99caee611cd",
   "metadata": {},
   "source": [
    "# ML Analysis\n",
    "Will attempt to do some sort of clustering.\n",
    "## Set up Environment"
   ]
  },
  {
   "cell_type": "code",
   "execution_count": 8,
   "id": "9b533cb2-7851-4a1a-b958-297a384aa8af",
   "metadata": {},
   "outputs": [],
   "source": [
    "import os\n",
    "import pandas as pd\n",
    "import numpy as np\n",
    "import matplotlib.pyplot as plt\n",
    "import seaborn as sns\n",
    "import re\n",
    "\n",
    "# vectorizing the book info column using TFidf Vectorizer\n",
    "from sklearn.feature_extraction.text import CountVectorizer, TfidfVectorizer\n",
    "from sklearn.metrics.pairwise import cosine_similarity"
   ]
  },
  {
   "cell_type": "code",
   "execution_count": 3,
   "id": "5fd525cd-4a38-4ee4-8265-5c0a467c4885",
   "metadata": {},
   "outputs": [],
   "source": [
    "path = os.path.join(os.path.normpath(os.getcwd() + os.sep + os.pardir) + \"/data/\")"
   ]
  },
  {
   "cell_type": "code",
   "execution_count": 4,
   "id": "1c31c5ed-c417-4059-9a39-6008b2e00e3b",
   "metadata": {},
   "outputs": [
    {
     "data": {
      "text/plain": [
       "['.DS_Store',\n",
       " 'BX-Books.csv',\n",
       " 'BX-Ratings.csv',\n",
       " 'BX-Users.csv',\n",
       " 'BX-NewBooksRatings.csv',\n",
       " '.ipynb_checkpoints']"
      ]
     },
     "execution_count": 4,
     "metadata": {},
     "output_type": "execute_result"
    }
   ],
   "source": [
    "os.listdir(path + 'cleaned')"
   ]
  },
  {
   "cell_type": "markdown",
   "id": "2225efef-5978-42d3-96c5-4925d5acf19b",
   "metadata": {},
   "source": [
    "## Pull in required data:"
   ]
  },
  {
   "cell_type": "code",
   "execution_count": 6,
   "id": "4adf3af2-d5ea-4d6b-a112-16e6f2addf80",
   "metadata": {},
   "outputs": [],
   "source": [
    "books = pd.read_csv(path + 'cleaned/BX-Books.csv')\n",
    "users = pd.read_csv(path + 'cleaned/BX-Users.csv')\n",
    "ratings = pd.read_csv(path + 'cleaned/BX-Ratings.csv')"
   ]
  },
  {
   "cell_type": "code",
   "execution_count": 7,
   "id": "5f3769f4-1474-417b-aa28-8a603cd7bce7",
   "metadata": {},
   "outputs": [
    {
     "data": {
      "text/html": [
       "<div>\n",
       "<style scoped>\n",
       "    .dataframe tbody tr th:only-of-type {\n",
       "        vertical-align: middle;\n",
       "    }\n",
       "\n",
       "    .dataframe tbody tr th {\n",
       "        vertical-align: top;\n",
       "    }\n",
       "\n",
       "    .dataframe thead th {\n",
       "        text-align: right;\n",
       "    }\n",
       "</style>\n",
       "<table border=\"1\" class=\"dataframe\">\n",
       "  <thead>\n",
       "    <tr style=\"text-align: right;\">\n",
       "      <th></th>\n",
       "      <th>ISBN</th>\n",
       "      <th>Book-Title</th>\n",
       "      <th>Book-Author</th>\n",
       "      <th>Year-Of-Publication</th>\n",
       "      <th>Book-Publisher</th>\n",
       "      <th>Book-Author-Processed</th>\n",
       "    </tr>\n",
       "  </thead>\n",
       "  <tbody>\n",
       "    <tr>\n",
       "      <th>0</th>\n",
       "      <td>0002005018</td>\n",
       "      <td>Clara Callan</td>\n",
       "      <td>richard bruce wright</td>\n",
       "      <td>2001.0</td>\n",
       "      <td>harperflamingo canada</td>\n",
       "      <td>richard bruce wright</td>\n",
       "    </tr>\n",
       "    <tr>\n",
       "      <th>1</th>\n",
       "      <td>0374157065</td>\n",
       "      <td>Flu: The Story of the Great Influenza Pandemic...</td>\n",
       "      <td>gina bari kolata</td>\n",
       "      <td>1999.0</td>\n",
       "      <td>farrar straus giroux</td>\n",
       "      <td>gina bari kolata</td>\n",
       "    </tr>\n",
       "    <tr>\n",
       "      <th>2</th>\n",
       "      <td>0399135782</td>\n",
       "      <td>The Kitchen God's Wife</td>\n",
       "      <td>amy tan</td>\n",
       "      <td>1991.0</td>\n",
       "      <td>putnam pub group</td>\n",
       "      <td>amy tan</td>\n",
       "    </tr>\n",
       "    <tr>\n",
       "      <th>3</th>\n",
       "      <td>0440234743</td>\n",
       "      <td>The Testament</td>\n",
       "      <td>john grisham</td>\n",
       "      <td>1999.0</td>\n",
       "      <td>dell</td>\n",
       "      <td>john grisham</td>\n",
       "    </tr>\n",
       "    <tr>\n",
       "      <th>4</th>\n",
       "      <td>0452264464</td>\n",
       "      <td>Beloved (Plume Contemporary Fiction)</td>\n",
       "      <td>toni morrison</td>\n",
       "      <td>1994.0</td>\n",
       "      <td>plume</td>\n",
       "      <td>toni morrison</td>\n",
       "    </tr>\n",
       "    <tr>\n",
       "      <th>...</th>\n",
       "      <td>...</td>\n",
       "      <td>...</td>\n",
       "      <td>...</td>\n",
       "      <td>...</td>\n",
       "      <td>...</td>\n",
       "      <td>...</td>\n",
       "    </tr>\n",
       "    <tr>\n",
       "      <th>18180</th>\n",
       "      <td>0375411615</td>\n",
       "      <td>Love, Etc.</td>\n",
       "      <td>julian barnes</td>\n",
       "      <td>2001.0</td>\n",
       "      <td>alfred e knopf</td>\n",
       "      <td>julian barnes</td>\n",
       "    </tr>\n",
       "    <tr>\n",
       "      <th>18181</th>\n",
       "      <td>0836227751</td>\n",
       "      <td>The Wit And Whimsy Of Mary Engelbreit</td>\n",
       "      <td>mary engelbreit</td>\n",
       "      <td>1997.0</td>\n",
       "      <td>andrews mcmeel publishing</td>\n",
       "      <td>mary engelbreit</td>\n",
       "    </tr>\n",
       "    <tr>\n",
       "      <th>18182</th>\n",
       "      <td>8433966634</td>\n",
       "      <td>Los Detectives Salvajes</td>\n",
       "      <td>roberto bolano</td>\n",
       "      <td>2003.0</td>\n",
       "      <td>anagrama</td>\n",
       "      <td>roberto bolano</td>\n",
       "    </tr>\n",
       "    <tr>\n",
       "      <th>18183</th>\n",
       "      <td>0330353349</td>\n",
       "      <td>The Ice House (TV Tie-In Edition)</td>\n",
       "      <td>minette walters</td>\n",
       "      <td>1997.0</td>\n",
       "      <td>mcclelland &amp; stewart ltd</td>\n",
       "      <td>minette walter</td>\n",
       "    </tr>\n",
       "    <tr>\n",
       "      <th>18184</th>\n",
       "      <td>0394757645</td>\n",
       "      <td>Trouble Is My Business (Vintage Crime/Black Li...</td>\n",
       "      <td>raymond chandler</td>\n",
       "      <td>1992.0</td>\n",
       "      <td>vintage books usa</td>\n",
       "      <td>raymond chandler</td>\n",
       "    </tr>\n",
       "  </tbody>\n",
       "</table>\n",
       "<p>18185 rows × 6 columns</p>\n",
       "</div>"
      ],
      "text/plain": [
       "             ISBN  ... Book-Author-Processed\n",
       "0      0002005018  ...  richard bruce wright\n",
       "1      0374157065  ...      gina bari kolata\n",
       "2      0399135782  ...               amy tan\n",
       "3      0440234743  ...          john grisham\n",
       "4      0452264464  ...         toni morrison\n",
       "...           ...  ...                   ...\n",
       "18180  0375411615  ...         julian barnes\n",
       "18181  0836227751  ...       mary engelbreit\n",
       "18182  8433966634  ...        roberto bolano\n",
       "18183  0330353349  ...        minette walter\n",
       "18184  0394757645  ...      raymond chandler\n",
       "\n",
       "[18185 rows x 6 columns]"
      ]
     },
     "execution_count": 7,
     "metadata": {},
     "output_type": "execute_result"
    }
   ],
   "source": [
    "books"
   ]
  },
  {
   "cell_type": "code",
   "execution_count": null,
   "id": "8caafb4a-f473-4421-97a3-abe13c169523",
   "metadata": {},
   "outputs": [],
   "source": []
  }
 ],
 "metadata": {
  "kernelspec": {
   "display_name": "Python 3 (Spyder)",
   "language": "python3",
   "name": "python3"
  },
  "language_info": {
   "codemirror_mode": {
    "name": "ipython",
    "version": 3
   },
   "file_extension": ".py",
   "mimetype": "text/x-python",
   "name": "python",
   "nbconvert_exporter": "python",
   "pygments_lexer": "ipython3",
   "version": "3.11.0"
  }
 },
 "nbformat": 4,
 "nbformat_minor": 5
}
