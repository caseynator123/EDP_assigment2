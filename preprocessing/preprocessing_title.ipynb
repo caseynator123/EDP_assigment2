{
 "cells": [
  {
   "cell_type": "markdown",
   "id": "7bf2793e-9c17-4f66-a620-47f975fd10c2",
   "metadata": {},
   "source": [
    "# Book-Title preprocessing"
   ]
  },
  {
   "cell_type": "markdown",
   "id": "db25d164-258f-4163-8128-5c283f6d7861",
   "metadata": {},
   "source": [
    "## Set up environment"
   ]
  },
  {
   "cell_type": "code",
   "execution_count": 19,
   "id": "84e49b03-f497-4611-9423-5beb27b4b267",
   "metadata": {},
   "outputs": [
    {
     "name": "stderr",
     "output_type": "stream",
     "text": [
      "[nltk_data] Downloading package omw-1.4 to\n",
      "[nltk_data]     /Users/caseyhaseloff/nltk_data...\n",
      "[nltk_data]   Package omw-1.4 is already up-to-date!\n",
      "[nltk_data] Downloading package punkt to\n",
      "[nltk_data]     /Users/caseyhaseloff/nltk_data...\n",
      "[nltk_data]   Package punkt is already up-to-date!\n",
      "[nltk_data] Downloading package stopwords to\n",
      "[nltk_data]     /Users/caseyhaseloff/nltk_data...\n",
      "[nltk_data]   Package stopwords is already up-to-date!\n",
      "[nltk_data] Downloading package wordnet to\n",
      "[nltk_data]     /Users/caseyhaseloff/nltk_data...\n",
      "[nltk_data]   Package wordnet is already up-to-date!\n"
     ]
    }
   ],
   "source": [
    "import os\n",
    "import pandas as pd\n",
    "import numpy as np\n",
    "\n",
    "import re\n",
    "import nltk\n",
    "nltk.download('omw-1.4')\n",
    "nltk.download('punkt')\n",
    "from nltk.tokenize import word_tokenize\n",
    "from nltk.corpus import stopwords\n",
    "from nltk.stem import WordNetLemmatizer\n",
    "\n",
    "nltk.download('stopwords')\n",
    "nltk.download('wordnet')\n",
    "\n",
    "# Initialize the lemmatizer\n",
    "lemmatizer = WordNetLemmatizer()\n",
    "\n",
    "# Initialize the stop words\n",
    "stop_words = set(stopwords.words('english'))\n",
    "\n",
    "# vectorizing the book info column using TFidf Vectorizer\n",
    "from sklearn.feature_extraction.text import CountVectorizer, TfidfVectorizer\n",
    "from sklearn.metrics.pairwise import cosine_similarity"
   ]
  },
  {
   "cell_type": "code",
   "execution_count": 11,
   "id": "2c86f0cd-ce87-4075-bcdc-7f7d27e48b27",
   "metadata": {},
   "outputs": [],
   "source": [
    "path = os.path.join(os.path.normpath(os.getcwd() + os.sep + os.pardir) + \"/data/raw/\")"
   ]
  },
  {
   "cell_type": "code",
   "execution_count": 12,
   "id": "82dda1a8-a7fc-4872-98eb-b702a0be007e",
   "metadata": {},
   "outputs": [],
   "source": [
    "cwd = os.path.join(os.path.normpath(os.getcwd() + os.sep + os.pardir))"
   ]
  },
  {
   "cell_type": "code",
   "execution_count": 13,
   "id": "f6313679-606d-4570-b43a-7752daf3f703",
   "metadata": {},
   "outputs": [
    {
     "data": {
      "text/plain": [
       "['BX-NewBooksUsers.csv',\n",
       " 'BX-Books.csv',\n",
       " 'BX-Ratings.csv',\n",
       " 'BX-Users.csv',\n",
       " 'BX-NewBooksRatings.csv',\n",
       " 'BX-NewBooks.csv']"
      ]
     },
     "execution_count": 13,
     "metadata": {},
     "output_type": "execute_result"
    }
   ],
   "source": [
    "os.listdir(path)"
   ]
  },
  {
   "cell_type": "code",
   "execution_count": 14,
   "id": "7b4870a8-ef21-4d90-8ddb-8243a8c818ac",
   "metadata": {},
   "outputs": [],
   "source": [
    "books = pd.read_csv(path + 'BX-Books.csv')"
   ]
  },
  {
   "cell_type": "code",
   "execution_count": 15,
   "id": "80001f0b-fc4e-4c8d-b3b9-87b0f6b6f45a",
   "metadata": {},
   "outputs": [],
   "source": [
    "def preprocess_text(text):\n",
    "\n",
    "    # Convert to lowercase\n",
    "    text = text.lower()\n",
    "    \n",
    "    # Remove special characters and digits\n",
    "    text = re.sub(r'[^a-zA-Z0-9]', ' ', text)\n",
    "    \n",
    "    # Tokenize the text\n",
    "    tokens = nltk.word_tokenize(text)\n",
    "    \n",
    "    # Remove stop words\n",
    "    tokens = [word for word in tokens if word not in stop_words]\n",
    "    \n",
    "    # Lemmatize the tokens\n",
    "    tokens = [lemmatizer.lemmatize(word) for word in tokens]\n",
    "    \n",
    "    # Return the processed text as a string\n",
    "    return \" \".join(tokens)\n",
    "\n",
    "def preprocess_dataframe(df, column_name):\n",
    "    df[f\"{column_name}-Processed\"] = df[column_name].apply(preprocess_text)\n",
    "    return df"
   ]
  },
  {
   "cell_type": "code",
   "execution_count": 52,
   "id": "fe91c44b-b879-435c-97df-059668ba20dd",
   "metadata": {},
   "outputs": [],
   "source": [
    "books = preprocess_dataframe(books, \"Book-Title\")\n",
    "books = preprocess_dataframe(books, \"Book-Publisher\")\n",
    "books = preprocess_dataframe(books, \"Book-Author\")"
   ]
  },
  {
   "cell_type": "code",
   "execution_count": 53,
   "id": "0d9c56b7-f834-4940-b435-1f66513006c3",
   "metadata": {},
   "outputs": [
    {
     "data": {
      "text/html": [
       "<div>\n",
       "<style scoped>\n",
       "    .dataframe tbody tr th:only-of-type {\n",
       "        vertical-align: middle;\n",
       "    }\n",
       "\n",
       "    .dataframe tbody tr th {\n",
       "        vertical-align: top;\n",
       "    }\n",
       "\n",
       "    .dataframe thead th {\n",
       "        text-align: right;\n",
       "    }\n",
       "</style>\n",
       "<table border=\"1\" class=\"dataframe\">\n",
       "  <thead>\n",
       "    <tr style=\"text-align: right;\">\n",
       "      <th></th>\n",
       "      <th>ISBN</th>\n",
       "      <th>Book-Title</th>\n",
       "      <th>Book-Author</th>\n",
       "      <th>Year-Of-Publication</th>\n",
       "      <th>Book-Publisher</th>\n",
       "      <th>Book-Title-Processed</th>\n",
       "      <th>Book-Publisher-Processed</th>\n",
       "      <th>Book-Author-Processed</th>\n",
       "    </tr>\n",
       "  </thead>\n",
       "  <tbody>\n",
       "    <tr>\n",
       "      <th>0</th>\n",
       "      <td>0002005018</td>\n",
       "      <td>Clara Callan</td>\n",
       "      <td>Richard Bruce Wright</td>\n",
       "      <td>2001</td>\n",
       "      <td>HarperFlamingo Canada</td>\n",
       "      <td>clara callan</td>\n",
       "      <td>harperflamingo canada</td>\n",
       "      <td>richard bruce wright</td>\n",
       "    </tr>\n",
       "    <tr>\n",
       "      <th>1</th>\n",
       "      <td>0374157065</td>\n",
       "      <td>Flu: The Story of the Great Influenza Pandemic...</td>\n",
       "      <td>Gina Bari Kolata</td>\n",
       "      <td>1999</td>\n",
       "      <td>Farrar Straus Giroux</td>\n",
       "      <td>flu story great influenza pandemic 1918 search...</td>\n",
       "      <td>farrar straus giroux</td>\n",
       "      <td>gina bari kolata</td>\n",
       "    </tr>\n",
       "    <tr>\n",
       "      <th>2</th>\n",
       "      <td>0399135782</td>\n",
       "      <td>The Kitchen God's Wife</td>\n",
       "      <td>Amy Tan</td>\n",
       "      <td>1991</td>\n",
       "      <td>Putnam Pub Group</td>\n",
       "      <td>kitchen god wife</td>\n",
       "      <td>putnam pub group</td>\n",
       "      <td>amy tan</td>\n",
       "    </tr>\n",
       "    <tr>\n",
       "      <th>3</th>\n",
       "      <td>0440234743</td>\n",
       "      <td>The Testament</td>\n",
       "      <td>John Grisham</td>\n",
       "      <td>1999</td>\n",
       "      <td>Dell</td>\n",
       "      <td>testament</td>\n",
       "      <td>dell</td>\n",
       "      <td>john grisham</td>\n",
       "    </tr>\n",
       "    <tr>\n",
       "      <th>4</th>\n",
       "      <td>0452264464</td>\n",
       "      <td>Beloved (Plume Contemporary Fiction)</td>\n",
       "      <td>Toni Morrison</td>\n",
       "      <td>1994</td>\n",
       "      <td>Plume</td>\n",
       "      <td>beloved plume contemporary fiction</td>\n",
       "      <td>plume</td>\n",
       "      <td>toni morrison</td>\n",
       "    </tr>\n",
       "    <tr>\n",
       "      <th>...</th>\n",
       "      <td>...</td>\n",
       "      <td>...</td>\n",
       "      <td>...</td>\n",
       "      <td>...</td>\n",
       "      <td>...</td>\n",
       "      <td>...</td>\n",
       "      <td>...</td>\n",
       "      <td>...</td>\n",
       "    </tr>\n",
       "    <tr>\n",
       "      <th>18180</th>\n",
       "      <td>0375411615</td>\n",
       "      <td>Love, Etc.</td>\n",
       "      <td>Julian Barnes</td>\n",
       "      <td>2001</td>\n",
       "      <td>Alfred A. Knopf</td>\n",
       "      <td>love etc</td>\n",
       "      <td>alfred knopf</td>\n",
       "      <td>julian barnes</td>\n",
       "    </tr>\n",
       "    <tr>\n",
       "      <th>18181</th>\n",
       "      <td>0836227751</td>\n",
       "      <td>The Wit And Whimsy Of Mary Engelbreit</td>\n",
       "      <td>Mary Engelbreit</td>\n",
       "      <td>1997</td>\n",
       "      <td>Andrews McMeel Publishing</td>\n",
       "      <td>wit whimsy mary engelbreit</td>\n",
       "      <td>andrew mcmeel publishing</td>\n",
       "      <td>mary engelbreit</td>\n",
       "    </tr>\n",
       "    <tr>\n",
       "      <th>18182</th>\n",
       "      <td>8433966634</td>\n",
       "      <td>Los Detectives Salvajes</td>\n",
       "      <td>Roberto Bolano</td>\n",
       "      <td>2003</td>\n",
       "      <td>Anagrama</td>\n",
       "      <td>los detective salvajes</td>\n",
       "      <td>anagrama</td>\n",
       "      <td>roberto bolano</td>\n",
       "    </tr>\n",
       "    <tr>\n",
       "      <th>18183</th>\n",
       "      <td>0330353349</td>\n",
       "      <td>The Ice House (TV Tie-In Edition)</td>\n",
       "      <td>Minette Walters</td>\n",
       "      <td>1997</td>\n",
       "      <td>McClelland &amp; Stewart</td>\n",
       "      <td>ice house tv tie edition</td>\n",
       "      <td>mcclelland stewart</td>\n",
       "      <td>minette walter</td>\n",
       "    </tr>\n",
       "    <tr>\n",
       "      <th>18184</th>\n",
       "      <td>0394757645</td>\n",
       "      <td>Trouble Is My Business (Vintage Crime/Black Li...</td>\n",
       "      <td>Raymond Chandler</td>\n",
       "      <td>1992</td>\n",
       "      <td>Vintage Books USA</td>\n",
       "      <td>trouble business vintage crime black lizard</td>\n",
       "      <td>vintage book usa</td>\n",
       "      <td>raymond chandler</td>\n",
       "    </tr>\n",
       "  </tbody>\n",
       "</table>\n",
       "<p>18185 rows × 8 columns</p>\n",
       "</div>"
      ],
      "text/plain": [
       "             ISBN  ... Book-Author-Processed\n",
       "0      0002005018  ...  richard bruce wright\n",
       "1      0374157065  ...      gina bari kolata\n",
       "2      0399135782  ...               amy tan\n",
       "3      0440234743  ...          john grisham\n",
       "4      0452264464  ...         toni morrison\n",
       "...           ...  ...                   ...\n",
       "18180  0375411615  ...         julian barnes\n",
       "18181  0836227751  ...       mary engelbreit\n",
       "18182  8433966634  ...        roberto bolano\n",
       "18183  0330353349  ...        minette walter\n",
       "18184  0394757645  ...      raymond chandler\n",
       "\n",
       "[18185 rows x 8 columns]"
      ]
     },
     "execution_count": 53,
     "metadata": {},
     "output_type": "execute_result"
    }
   ],
   "source": [
    "books"
   ]
  },
  {
   "cell_type": "code",
   "execution_count": 65,
   "id": "2873a707-bffd-47a5-884a-33c6b448fe05",
   "metadata": {},
   "outputs": [],
   "source": [
    "books[\"info\"] = books[\"Book-Title-Processed\"] + ' ' + books[\"Book-Author-Processed\"] + ' ' \\\n",
    "     + books[\"Year-Of-Publication\"].astype(str)"
   ]
  },
  {
   "cell_type": "code",
   "execution_count": 66,
   "id": "7a7de185-5d63-40c1-b170-dd05f621abed",
   "metadata": {},
   "outputs": [],
   "source": [
    "tf = TfidfVectorizer(analyzer = \"word\", ngram_range=(1,2), min_df=0, stop_words='english')"
   ]
  },
  {
   "cell_type": "code",
   "execution_count": 67,
   "id": "4c7b1c63-0925-466d-800d-94be4a8ab661",
   "metadata": {},
   "outputs": [],
   "source": [
    "tfidf_matrix = tf.fit_transform(books['info'])"
   ]
  },
  {
   "cell_type": "code",
   "execution_count": 68,
   "id": "134d32a3-aec9-4903-afb5-057dba8ca9c1",
   "metadata": {},
   "outputs": [],
   "source": [
    "cosine_sim = cosine_similarity(tfidf_matrix)"
   ]
  },
  {
   "cell_type": "code",
   "execution_count": 69,
   "id": "0684813a-4694-4fd5-94cb-4c9f577d5c1e",
   "metadata": {},
   "outputs": [],
   "source": [
    "indices = pd.Series(books['Book-Title'])"
   ]
  },
  {
   "cell_type": "code",
   "execution_count": 70,
   "id": "251f4ec1-799a-4c65-bf9c-06dbd3c6cb34",
   "metadata": {},
   "outputs": [],
   "source": [
    "def recommend(title, cosine_sim = cosine_sim):\n",
    "    if title not in indices.values:\n",
    "        return \"Title not found in the database.\"\n",
    "    recommended_books = []\n",
    "    idx = indices[indices == title].index[0]   # to get the index of book name matching the input book_name\n",
    "    score_series = pd.Series(cosine_sim[idx]).sort_values(ascending = False)   # similarity scores in descending order\n",
    "    top_10_indices = list(score_series.iloc[1:11].index)   # to get the indices of top 10 most similar books\n",
    "    # [1:11] to exclude 0 (index 0 is the input book itself)\n",
    "    \n",
    "    for i, x in zip(top_10_indices, score_series.iloc[1:11]):   # to append the titles of top 10 similar booksto the recommended_books list\n",
    "        recommended_books.append([list(books['info'])[i], round(x, 2)])\n",
    "        \n",
    "    return recommended_books"
   ]
  },
  {
   "cell_type": "code",
   "execution_count": 73,
   "id": "30d795ff-657a-408d-8dd6-1005b7887e18",
   "metadata": {},
   "outputs": [
    {
     "data": {
      "text/plain": [
       "[['talking julian barnes 1992', 0.45],\n",
       " ['staring sun julian barnes 0', 0.42],\n",
       " ['ex appeal zoe barnes 2001', 0.3],\n",
       " ['history world 10 1 2 chapter vintage international julian barnes 1990',\n",
       "  0.3],\n",
       " ['surveillance julian may 1988', 0.16],\n",
       " ['hitched z barnes 1998', 0.15],\n",
       " ['king albion julian rathbone 2001', 0.14],\n",
       " ['many colored land julian may 1994', 0.14],\n",
       " ['coyote linda barnes 1991', 0.13],\n",
       " ['last english king julian rathbone 1998', 0.13]]"
      ]
     },
     "execution_count": 73,
     "metadata": {},
     "output_type": "execute_result"
    }
   ],
   "source": [
    "recommend(\"Love, Etc.\")"
   ]
  },
  {
   "cell_type": "code",
   "execution_count": 77,
   "id": "e343a045-899a-4c22-9f90-9b380b016fe0",
   "metadata": {},
   "outputs": [],
   "source": [
    "example = tf.fit_transform([\"hello\"])"
   ]
  },
  {
   "cell_type": "code",
   "execution_count": 78,
   "id": "ca811fda-34cc-4012-813a-62145bece961",
   "metadata": {},
   "outputs": [
    {
     "ename": "ValueError",
     "evalue": "Incompatible dimension for X and Y matrices: X.shape[1] == 1 while Y.shape[1] == 76675",
     "output_type": "error",
     "traceback": [
      "Traceback \u001b[0;36m(most recent call last)\u001b[0m:\n",
      "\u001b[0m  Cell \u001b[1;32mIn[78], line 1\u001b[0m\n    cosine_similarity(example, tfidf_matrix)\u001b[0m\n",
      "\u001b[0m  File \u001b[1;32m~/anaconda3/lib/python3.11/site-packages/sklearn/metrics/pairwise.py:1377\u001b[0m in \u001b[1;35mcosine_similarity\u001b[0m\n    X, Y = check_pairwise_arrays(X, Y)\u001b[0m\n",
      "\u001b[0;36m  File \u001b[0;32m~/anaconda3/lib/python3.11/site-packages/sklearn/metrics/pairwise.py:180\u001b[0;36m in \u001b[0;35mcheck_pairwise_arrays\u001b[0;36m\n\u001b[0;31m    raise ValueError(\u001b[0;36m\n",
      "\u001b[0;31mValueError\u001b[0m\u001b[0;31m:\u001b[0m Incompatible dimension for X and Y matrices: X.shape[1] == 1 while Y.shape[1] == 76675\n"
     ]
    }
   ],
   "source": [
    "cosine_similarity(example, tfidf_matrix)"
   ]
  },
  {
   "cell_type": "code",
   "execution_count": 80,
   "id": "448acde5-b3a6-451c-90fa-6294855fa9ca",
   "metadata": {},
   "outputs": [],
   "source": [
    "user = pd.read_csv(path + \"BX-Ratings.csv\")"
   ]
  },
  {
   "cell_type": "code",
   "execution_count": 81,
   "id": "3de4d067-ba30-48f3-a114-ccf85b77b979",
   "metadata": {},
   "outputs": [
    {
     "data": {
      "text/html": [
       "<div>\n",
       "<style scoped>\n",
       "    .dataframe tbody tr th:only-of-type {\n",
       "        vertical-align: middle;\n",
       "    }\n",
       "\n",
       "    .dataframe tbody tr th {\n",
       "        vertical-align: top;\n",
       "    }\n",
       "\n",
       "    .dataframe thead th {\n",
       "        text-align: right;\n",
       "    }\n",
       "</style>\n",
       "<table border=\"1\" class=\"dataframe\">\n",
       "  <thead>\n",
       "    <tr style=\"text-align: right;\">\n",
       "      <th></th>\n",
       "      <th>User-ID</th>\n",
       "      <th>ISBN</th>\n",
       "      <th>Book-Rating</th>\n",
       "    </tr>\n",
       "  </thead>\n",
       "  <tbody>\n",
       "    <tr>\n",
       "      <th>0</th>\n",
       "      <td>276744</td>\n",
       "      <td>038550120X</td>\n",
       "      <td>7</td>\n",
       "    </tr>\n",
       "    <tr>\n",
       "      <th>1</th>\n",
       "      <td>276754</td>\n",
       "      <td>0684867621</td>\n",
       "      <td>8</td>\n",
       "    </tr>\n",
       "    <tr>\n",
       "      <th>2</th>\n",
       "      <td>276755</td>\n",
       "      <td>0451166892</td>\n",
       "      <td>5</td>\n",
       "    </tr>\n",
       "    <tr>\n",
       "      <th>3</th>\n",
       "      <td>276762</td>\n",
       "      <td>0380711524</td>\n",
       "      <td>5</td>\n",
       "    </tr>\n",
       "    <tr>\n",
       "      <th>4</th>\n",
       "      <td>276772</td>\n",
       "      <td>0553572369</td>\n",
       "      <td>7</td>\n",
       "    </tr>\n",
       "    <tr>\n",
       "      <th>...</th>\n",
       "      <td>...</td>\n",
       "      <td>...</td>\n",
       "      <td>...</td>\n",
       "    </tr>\n",
       "    <tr>\n",
       "      <th>204159</th>\n",
       "      <td>276688</td>\n",
       "      <td>0892966548</td>\n",
       "      <td>10</td>\n",
       "    </tr>\n",
       "    <tr>\n",
       "      <th>204160</th>\n",
       "      <td>276688</td>\n",
       "      <td>1551669315</td>\n",
       "      <td>6</td>\n",
       "    </tr>\n",
       "    <tr>\n",
       "      <th>204161</th>\n",
       "      <td>276704</td>\n",
       "      <td>0345386108</td>\n",
       "      <td>6</td>\n",
       "    </tr>\n",
       "    <tr>\n",
       "      <th>204162</th>\n",
       "      <td>276704</td>\n",
       "      <td>0743211383</td>\n",
       "      <td>7</td>\n",
       "    </tr>\n",
       "    <tr>\n",
       "      <th>204163</th>\n",
       "      <td>276709</td>\n",
       "      <td>0515107662</td>\n",
       "      <td>10</td>\n",
       "    </tr>\n",
       "  </tbody>\n",
       "</table>\n",
       "<p>204164 rows × 3 columns</p>\n",
       "</div>"
      ],
      "text/plain": [
       "        User-ID        ISBN  Book-Rating\n",
       "0        276744  038550120X            7\n",
       "1        276754  0684867621            8\n",
       "2        276755  0451166892            5\n",
       "3        276762  0380711524            5\n",
       "4        276772  0553572369            7\n",
       "...         ...         ...          ...\n",
       "204159   276688  0892966548           10\n",
       "204160   276688  1551669315            6\n",
       "204161   276704  0345386108            6\n",
       "204162   276704  0743211383            7\n",
       "204163   276709  0515107662           10\n",
       "\n",
       "[204164 rows x 3 columns]"
      ]
     },
     "execution_count": 81,
     "metadata": {},
     "output_type": "execute_result"
    }
   ],
   "source": [
    "user"
   ]
  },
  {
   "cell_type": "code",
   "execution_count": null,
   "id": "bd7052a5-fd5f-40f9-90d4-59e021ae3444",
   "metadata": {},
   "outputs": [],
   "source": [
    "user.pivot_table(columns='User-ID', index='ISBN', values=\"Book-Rating\")"
   ]
  },
  {
   "cell_type": "code",
   "execution_count": null,
   "id": "9f277258-e6d3-4b8c-8cde-ba3aa4163cf9",
   "metadata": {},
   "outputs": [],
   "source": []
  }
 ],
 "metadata": {
  "kernelspec": {
   "display_name": "Python 3 (Spyder)",
   "language": "python3",
   "name": "python3"
  },
  "language_info": {
   "codemirror_mode": {
    "name": "ipython",
    "version": 3
   },
   "file_extension": ".py",
   "mimetype": "text/x-python",
   "name": "python",
   "nbconvert_exporter": "python",
   "pygments_lexer": "ipython3",
   "version": "3.11.0"
  }
 },
 "nbformat": 4,
 "nbformat_minor": 5
}
