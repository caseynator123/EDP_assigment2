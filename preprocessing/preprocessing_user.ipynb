{
 "cells": [
  {
   "cell_type": "markdown",
   "metadata": {},
   "source": [
    "# Clean BX-User.csv\n",
    "## Set up Enviroment"
   ]
  },
  {
   "cell_type": "code",
   "execution_count": 1,
   "metadata": {},
   "outputs": [],
   "source": [
    "import os\n",
    "import pandas as pd\n",
    "import numpy as np\n",
    "import matplotlib.pyplot as plt\n",
    "import seaborn as sns\n",
    "import re\n",
    "\n",
    "from fuzzywuzzy import process, fuzz"
   ]
  },
  {
   "cell_type": "code",
   "execution_count": 2,
   "metadata": {},
   "outputs": [],
   "source": [
    "path = os.path.join(os.path.normpath(os.getcwd() + os.sep + os.pardir) + \"/data/\")"
   ]
  },
  {
   "cell_type": "code",
   "execution_count": 3,
   "metadata": {},
   "outputs": [
    {
     "data": {
      "text/plain": [
       "['BX-NewBooksUsers.csv',\n",
       " 'BX-Books.csv',\n",
       " 'BX-Ratings.csv',\n",
       " 'BX-Users.csv',\n",
       " 'BX-NewBooksRatings.csv',\n",
       " 'BX-NewBooks.csv']"
      ]
     },
     "execution_count": 3,
     "metadata": {},
     "output_type": "execute_result"
    }
   ],
   "source": [
    "os.listdir(path + 'raw')"
   ]
  },
  {
   "cell_type": "markdown",
   "metadata": {},
   "source": [
    "## Data Information"
   ]
  },
  {
   "cell_type": "code",
   "execution_count": 266,
   "metadata": {},
   "outputs": [
    {
     "data": {
      "text/plain": [
       "Index(['User-ID', 'User-City', 'User-State', 'User-Country', 'User-Age'], dtype='object')"
      ]
     },
     "execution_count": 266,
     "metadata": {},
     "output_type": "execute_result"
    }
   ],
   "source": [
    "users = pd.read_csv(path + \"raw/BX-Users.csv\")\n",
    "users.columns"
   ]
  },
  {
   "cell_type": "code",
   "execution_count": 267,
   "metadata": {},
   "outputs": [
    {
     "data": {
      "text/plain": [
       "(48299, 5)"
      ]
     },
     "execution_count": 267,
     "metadata": {},
     "output_type": "execute_result"
    }
   ],
   "source": [
    "users.shape"
   ]
  },
  {
   "cell_type": "code",
   "execution_count": 268,
   "metadata": {},
   "outputs": [
    {
     "data": {
      "text/plain": [
       "User-ID          int64\n",
       "User-City       object\n",
       "User-State      object\n",
       "User-Country    object\n",
       "User-Age        object\n",
       "dtype: object"
      ]
     },
     "execution_count": 268,
     "metadata": {},
     "output_type": "execute_result"
    }
   ],
   "source": [
    "users.dtypes"
   ]
  },
  {
   "cell_type": "code",
   "execution_count": 269,
   "metadata": {},
   "outputs": [
    {
     "data": {
      "text/html": [
       "<div>\n",
       "<style scoped>\n",
       "    .dataframe tbody tr th:only-of-type {\n",
       "        vertical-align: middle;\n",
       "    }\n",
       "\n",
       "    .dataframe tbody tr th {\n",
       "        vertical-align: top;\n",
       "    }\n",
       "\n",
       "    .dataframe thead th {\n",
       "        text-align: right;\n",
       "    }\n",
       "</style>\n",
       "<table border=\"1\" class=\"dataframe\">\n",
       "  <thead>\n",
       "    <tr style=\"text-align: right;\">\n",
       "      <th></th>\n",
       "      <th>User-ID</th>\n",
       "      <th>User-City</th>\n",
       "      <th>User-State</th>\n",
       "      <th>User-Country</th>\n",
       "      <th>User-Age</th>\n",
       "    </tr>\n",
       "  </thead>\n",
       "  <tbody>\n",
       "    <tr>\n",
       "      <th>0</th>\n",
       "      <td>8</td>\n",
       "      <td>timmins</td>\n",
       "      <td>ontario</td>\n",
       "      <td>canada\"</td>\n",
       "      <td>NaN</td>\n",
       "    </tr>\n",
       "    <tr>\n",
       "      <th>1</th>\n",
       "      <td>9</td>\n",
       "      <td>germantown</td>\n",
       "      <td>tennessee</td>\n",
       "      <td>usa\"</td>\n",
       "      <td>NaN</td>\n",
       "    </tr>\n",
       "    <tr>\n",
       "      <th>2</th>\n",
       "      <td>16</td>\n",
       "      <td>albuquerque</td>\n",
       "      <td>new mexico</td>\n",
       "      <td>usa\"</td>\n",
       "      <td>NaN</td>\n",
       "    </tr>\n",
       "    <tr>\n",
       "      <th>3</th>\n",
       "      <td>17</td>\n",
       "      <td>chesapeake</td>\n",
       "      <td>virginia</td>\n",
       "      <td>usa\"</td>\n",
       "      <td>NaN</td>\n",
       "    </tr>\n",
       "    <tr>\n",
       "      <th>4</th>\n",
       "      <td>19</td>\n",
       "      <td>weston</td>\n",
       "      <td></td>\n",
       "      <td>NaN</td>\n",
       "      <td>14\"</td>\n",
       "    </tr>\n",
       "  </tbody>\n",
       "</table>\n",
       "</div>"
      ],
      "text/plain": [
       "   User-ID    User-City   User-State User-Country User-Age\n",
       "0        8      timmins      ontario      canada\"      NaN\n",
       "1        9   germantown    tennessee         usa\"      NaN\n",
       "2       16  albuquerque   new mexico         usa\"      NaN\n",
       "3       17   chesapeake     virginia         usa\"      NaN\n",
       "4       19       weston                       NaN      14\""
      ]
     },
     "execution_count": 269,
     "metadata": {},
     "output_type": "execute_result"
    }
   ],
   "source": [
    "users.head()"
   ]
  },
  {
   "cell_type": "markdown",
   "metadata": {},
   "source": [
    "## Clean Country Names\n",
    "- Strip apostrophe and spaces\n",
    "- Clean values supposed to be NaN\n",
    "- Fix Abbreviated names: Dictionary of abbreviations\n",
    "\n",
    "Fill in empty states/countries via data base from: \n",
    "- https://simplemaps.com/data/us-cities\n",
    "- https://simplemaps.com/data/world-cities"
   ]
  },
  {
   "cell_type": "code",
   "execution_count": 270,
   "metadata": {},
   "outputs": [
    {
     "data": {
      "text/html": [
       "<div>\n",
       "<style scoped>\n",
       "    .dataframe tbody tr th:only-of-type {\n",
       "        vertical-align: middle;\n",
       "    }\n",
       "\n",
       "    .dataframe tbody tr th {\n",
       "        vertical-align: top;\n",
       "    }\n",
       "\n",
       "    .dataframe thead th {\n",
       "        text-align: right;\n",
       "    }\n",
       "</style>\n",
       "<table border=\"1\" class=\"dataframe\">\n",
       "  <thead>\n",
       "    <tr style=\"text-align: right;\">\n",
       "      <th></th>\n",
       "      <th>User-ID</th>\n",
       "      <th>User-City</th>\n",
       "      <th>User-State</th>\n",
       "      <th>User-Country</th>\n",
       "      <th>User-Age</th>\n",
       "    </tr>\n",
       "  </thead>\n",
       "  <tbody>\n",
       "    <tr>\n",
       "      <th>0</th>\n",
       "      <td>8</td>\n",
       "      <td>timmins</td>\n",
       "      <td>ontario</td>\n",
       "      <td>canada</td>\n",
       "      <td>NaN</td>\n",
       "    </tr>\n",
       "    <tr>\n",
       "      <th>1</th>\n",
       "      <td>9</td>\n",
       "      <td>germantown</td>\n",
       "      <td>tennessee</td>\n",
       "      <td>usa</td>\n",
       "      <td>NaN</td>\n",
       "    </tr>\n",
       "    <tr>\n",
       "      <th>2</th>\n",
       "      <td>16</td>\n",
       "      <td>albuquerque</td>\n",
       "      <td>new mexico</td>\n",
       "      <td>usa</td>\n",
       "      <td>NaN</td>\n",
       "    </tr>\n",
       "    <tr>\n",
       "      <th>3</th>\n",
       "      <td>17</td>\n",
       "      <td>chesapeake</td>\n",
       "      <td>virginia</td>\n",
       "      <td>usa</td>\n",
       "      <td>NaN</td>\n",
       "    </tr>\n",
       "    <tr>\n",
       "      <th>4</th>\n",
       "      <td>19</td>\n",
       "      <td>weston</td>\n",
       "      <td></td>\n",
       "      <td>NaN</td>\n",
       "      <td>14</td>\n",
       "    </tr>\n",
       "  </tbody>\n",
       "</table>\n",
       "</div>"
      ],
      "text/plain": [
       "   User-ID    User-City  User-State User-Country User-Age\n",
       "0        8      timmins     ontario       canada      NaN\n",
       "1        9   germantown   tennessee          usa      NaN\n",
       "2       16  albuquerque  new mexico          usa      NaN\n",
       "3       17   chesapeake    virginia          usa      NaN\n",
       "4       19       weston                      NaN       14"
      ]
     },
     "execution_count": 270,
     "metadata": {},
     "output_type": "execute_result"
    }
   ],
   "source": [
    "columns = ['User-Country', 'User-State', 'User-City','User-Age']\n",
    "for column in columns:\n",
    "    users[column] = users[column].apply(lambda x: x.strip().strip('\"') if pd.notnull(x) and isinstance(x, str) else x)\n",
    "users.head()"
   ]
  },
  {
   "cell_type": "code",
   "execution_count": 271,
   "metadata": {},
   "outputs": [],
   "source": [
    "pattern_1 = r'[xX]{2,6}'  # Matches 2 to 6 occurrences of \"X\"\n",
    "pattern_2 = r'\\b(n/a)\\b' # Matches n/a \n",
    "pattern_3 = r'^\\s$|^$' #matches whitespace entries\n",
    "pattern_4 = r'-' # matches hyphen\n",
    "\n",
    "\n",
    "# Replace matching values with np.nan\n",
    "for column in ['User-Country', 'User-State', 'User-City']:\n",
    "    # Replace matching values with np.nan using the respective pattern\n",
    "    users[column] = users[column].replace(pattern_1, np.nan, regex=True)\n",
    "    users[column] = users[column].replace(pattern_2, np.nan, regex =True)\n",
    "    users[column] = users[column].replace(pattern_3, np.nan, regex=True)\n",
    "    users[column] = users[column].replace(pattern_4, np.nan, regex=True)\n",
    "\n",
    "  \n",
    "# Fill remaining NaN values with np.nan\n",
    "users.fillna(np.nan, inplace=True)"
   ]
  },
  {
   "cell_type": "code",
   "execution_count": 272,
   "metadata": {},
   "outputs": [],
   "source": [
    "abbreviation_dict = {\n",
    "    # https://en.wikipedia.org/wiki/List_of_states_and_territories_of_the_United_States#States.\n",
    "    \"AK\": \"Alaska\",\n",
    "    \"AL\": \"Alabama\",\n",
    "    \"AR\": \"Arkansas\",\n",
    "    \"AZ\": \"Arizona\",\n",
    "    \"CA\": \"California\",\n",
    "    \"CO\": \"Colorado\",\n",
    "    \"CT\": \"Connecticut\",\n",
    "    \"DE\": \"Delaware\",\n",
    "    \"FL\": \"Florida\",\n",
    "    \"GA\": \"Georgia\",\n",
    "    \"HI\": \"Hawaii\",\n",
    "    \"IA\": \"Iowa\",\n",
    "    \"ID\": \"Idaho\",\n",
    "    \"IL\": \"Illinois\",\n",
    "    \"IN\": \"Indiana\",\n",
    "    \"KS\": \"Kansas\",\n",
    "    \"KY\": \"Kentucky\",\n",
    "    \"LA\": \"Louisiana\",\n",
    "    \"MA\": \"Massachusetts\",\n",
    "    \"MD\": \"Maryland\",\n",
    "    \"ME\": \"Maine\",\n",
    "    \"MI\": \"Michigan\",\n",
    "    \"MN\": \"Minnesota\",\n",
    "    \"MO\": \"Missouri\",\n",
    "    \"MS\": \"Mississippi\",\n",
    "    \"MT\": \"Montana\",\n",
    "    \"NC\": \"North Carolina\",\n",
    "    \"ND\": \"North Dakota\",\n",
    "    \"NE\": \"Nebraska\",\n",
    "    \"NH\": \"New Hampshire\",\n",
    "    \"NJ\": \"New Jersey\",\n",
    "    \"NM\": \"New Mexico\",\n",
    "    \"NV\": \"Nevada\",\n",
    "    \"NY\": \"New York\",\n",
    "    \"OH\": \"Ohio\",\n",
    "    \"OK\": \"Oklahoma\",\n",
    "    \"OR\": \"Oregon\",\n",
    "    \"PA\": \"Pennsylvania\",\n",
    "    \"RI\": \"Rhode Island\",\n",
    "    \"SC\": \"South Carolina\",\n",
    "    \"SD\": \"South Dakota\",\n",
    "    \"TN\": \"Tennessee\",\n",
    "    \"TX\": \"Texas\",\n",
    "    \"UT\": \"Utah\",\n",
    "    \"VA\": \"Virginia\",\n",
    "    \"VT\": \"Vermont\",\n",
    "    \"WA\": \"Washington\",\n",
    "    \"WI\": \"Wisconsin\",\n",
    "    \"WV\": \"West Virginia\",\n",
    "    \"WY\": \"Wyoming\",\n",
    "    # https://en.wikipedia.org/wiki/List_of_states_and_territories_of_the_United_States#Federal_district.\n",
    "    \"DC\": \"District of Columbia\",\n",
    "    # https://en.wikipedia.org/wiki/List_of_states_and_territories_of_the_United_States#Inhabited_territories.\n",
    "    \"AS\": \"American Samoa\",\n",
    "    \"GU\": \"Guam GU\",\n",
    "    \"MP\": \"Northern Mariana Islands\",\n",
    "    \"PR\": \"Puerto Rico PR\",\n",
    "    \"VI\": \"U.S. Virgin Islands\",\n",
    "    'sg': 'singapore',\n",
    "    'jax': \"Jacksonville\",\n",
    "    'nyc' : \"New York City\",\n",
    "    'ny' : 'New York',\n",
    "    'la':'Las Vegas',\n",
    "    'wi': \"Wisconsin\",\n",
    "    'sj' : 'San Jose',\n",
    "    'pdx':'portland',\n",
    "    'atl' : 'atlanta',\n",
    "    'rtr' : 'Remedios T. Romualdez',\n",
    "    'phx' : 'phoenix',\n",
    "    'hyd':'Hyderabad',\n",
    "    'bcn': 'Barcelona',\n",
    "    'ala':'alabama',\n",
    "    'rr':'round rock', \n",
    "    'dc': \"washington d.c\",\n",
    "    'apo': 'apopka',\n",
    "    'kdh':'kill devil hills',\n",
    "    'yvr': 'vancouver',\n",
    "    'okc' : 'oklahoma city',\n",
    "    'abq' :'albuquerque',\n",
    "    'pve': 'palos verdes estates' ,\n",
    "    'dfb' :'deerfield beach',\n",
    "    'pj' : 'petaling Jaya',\n",
    "    'van' : 'vancouver',\n",
    "    'rsm' : 'Rancho Santa Margarita',\n",
    "    'rvc' : \" Rockville centre\",\n",
    "    'srq' : 'Sarasota',\n",
    "    'br' : 'baton rouge',\n",
    "    'kl' : \"Kuala Lumpur\",\n",
    "    'kc' :'kansas city',\n",
    "    'abc' : \"alphabet city\",\n",
    "    'sf' : \"San Francisco\",\n",
    "    'slc' : 'salt lake city',\n",
    "    'wbl' : 'white bear lake', \n",
    "    'rtp' : 'research triangle park', \n",
    "    'li' : 'long island', \n",
    "    'hhi' : 'Hilton head island', \n",
    "    }"
   ]
  },
  {
   "cell_type": "code",
   "execution_count": 273,
   "metadata": {},
   "outputs": [],
   "source": [
    "def lowercase_dict(data):\n",
    "  \"\"\"Creates a new dictionary with lowercase keys.\"\"\"\n",
    "  return {key.lower(): value for key, value in data.items()}"
   ]
  },
  {
   "cell_type": "code",
   "execution_count": 274,
   "metadata": {},
   "outputs": [],
   "source": [
    "lowercase_keys = lowercase_dict(abbreviation_dict)"
   ]
  },
  {
   "cell_type": "code",
   "execution_count": 275,
   "metadata": {},
   "outputs": [],
   "source": [
    "cols = ['User-City','User-State']\n",
    "for index, row in users.iterrows():\n",
    "    for col in cols:            \n",
    "        if row[col] in abbreviation_dict:\n",
    "            users.at[index, col] = abbreviation_dict[row[col]]"
   ]
  },
  {
   "cell_type": "code",
   "execution_count": 276,
   "metadata": {
    "scrolled": true
   },
   "outputs": [],
   "source": [
    "cities = pd.read_csv(path + \"cities/worldcities.csv\")\n",
    "us_cities = pd.read_csv(path + \"cities/uscities.csv\")"
   ]
  },
  {
   "cell_type": "code",
   "execution_count": 277,
   "metadata": {},
   "outputs": [
    {
     "name": "stdout",
     "output_type": "stream",
     "text": [
      "(47869, 3)\n"
     ]
    },
    {
     "data": {
      "text/html": [
       "<div>\n",
       "<style scoped>\n",
       "    .dataframe tbody tr th:only-of-type {\n",
       "        vertical-align: middle;\n",
       "    }\n",
       "\n",
       "    .dataframe tbody tr th {\n",
       "        vertical-align: top;\n",
       "    }\n",
       "\n",
       "    .dataframe thead th {\n",
       "        text-align: right;\n",
       "    }\n",
       "</style>\n",
       "<table border=\"1\" class=\"dataframe\">\n",
       "  <thead>\n",
       "    <tr style=\"text-align: right;\">\n",
       "      <th></th>\n",
       "      <th>city_ascii</th>\n",
       "      <th>country</th>\n",
       "      <th>state_name</th>\n",
       "    </tr>\n",
       "  </thead>\n",
       "  <tbody>\n",
       "    <tr>\n",
       "      <th>0</th>\n",
       "      <td>Tokyo</td>\n",
       "      <td>Japan</td>\n",
       "      <td>Tōkyō</td>\n",
       "    </tr>\n",
       "    <tr>\n",
       "      <th>1</th>\n",
       "      <td>Jakarta</td>\n",
       "      <td>Indonesia</td>\n",
       "      <td>Jakarta</td>\n",
       "    </tr>\n",
       "    <tr>\n",
       "      <th>2</th>\n",
       "      <td>Delhi</td>\n",
       "      <td>India</td>\n",
       "      <td>Delhi</td>\n",
       "    </tr>\n",
       "    <tr>\n",
       "      <th>3</th>\n",
       "      <td>Guangzhou</td>\n",
       "      <td>China</td>\n",
       "      <td>Guangdong</td>\n",
       "    </tr>\n",
       "    <tr>\n",
       "      <th>4</th>\n",
       "      <td>Mumbai</td>\n",
       "      <td>India</td>\n",
       "      <td>Mahārāshtra</td>\n",
       "    </tr>\n",
       "  </tbody>\n",
       "</table>\n",
       "</div>"
      ],
      "text/plain": [
       "  city_ascii    country   state_name\n",
       "0      Tokyo      Japan        Tōkyō\n",
       "1    Jakarta  Indonesia      Jakarta\n",
       "2      Delhi      India        Delhi\n",
       "3  Guangzhou      China    Guangdong\n",
       "4     Mumbai      India  Mahārāshtra"
      ]
     },
     "execution_count": 277,
     "metadata": {},
     "output_type": "execute_result"
    }
   ],
   "source": [
    "# Extract Relevant collumns\n",
    "cities = cities[['city_ascii','country', 'admin_name']]\n",
    "cities = cities[['city_ascii', 'country', 'admin_name']].rename(columns={'admin_name': 'state_name'})\n",
    "filtered = cities[cities['country'] != 'United States']\n",
    "print(cities.shape)\n",
    "cities.head()"
   ]
  },
  {
   "cell_type": "code",
   "execution_count": 278,
   "metadata": {},
   "outputs": [
    {
     "name": "stdout",
     "output_type": "stream",
     "text": [
      "(31120, 3)\n"
     ]
    },
    {
     "data": {
      "text/html": [
       "<div>\n",
       "<style scoped>\n",
       "    .dataframe tbody tr th:only-of-type {\n",
       "        vertical-align: middle;\n",
       "    }\n",
       "\n",
       "    .dataframe tbody tr th {\n",
       "        vertical-align: top;\n",
       "    }\n",
       "\n",
       "    .dataframe thead th {\n",
       "        text-align: right;\n",
       "    }\n",
       "</style>\n",
       "<table border=\"1\" class=\"dataframe\">\n",
       "  <thead>\n",
       "    <tr style=\"text-align: right;\">\n",
       "      <th></th>\n",
       "      <th>city_ascii</th>\n",
       "      <th>state_name</th>\n",
       "      <th>country</th>\n",
       "    </tr>\n",
       "  </thead>\n",
       "  <tbody>\n",
       "    <tr>\n",
       "      <th>0</th>\n",
       "      <td>New York</td>\n",
       "      <td>New York</td>\n",
       "      <td>usa</td>\n",
       "    </tr>\n",
       "    <tr>\n",
       "      <th>1</th>\n",
       "      <td>Los Angeles</td>\n",
       "      <td>California</td>\n",
       "      <td>usa</td>\n",
       "    </tr>\n",
       "    <tr>\n",
       "      <th>2</th>\n",
       "      <td>Chicago</td>\n",
       "      <td>Illinois</td>\n",
       "      <td>usa</td>\n",
       "    </tr>\n",
       "    <tr>\n",
       "      <th>3</th>\n",
       "      <td>Miami</td>\n",
       "      <td>Florida</td>\n",
       "      <td>usa</td>\n",
       "    </tr>\n",
       "    <tr>\n",
       "      <th>4</th>\n",
       "      <td>Houston</td>\n",
       "      <td>Texas</td>\n",
       "      <td>usa</td>\n",
       "    </tr>\n",
       "  </tbody>\n",
       "</table>\n",
       "</div>"
      ],
      "text/plain": [
       "    city_ascii  state_name country\n",
       "0     New York    New York     usa\n",
       "1  Los Angeles  California     usa\n",
       "2      Chicago    Illinois     usa\n",
       "3        Miami     Florida     usa\n",
       "4      Houston       Texas     usa"
      ]
     },
     "execution_count": 278,
     "metadata": {},
     "output_type": "execute_result"
    }
   ],
   "source": [
    "us_cities = us_cities[['city_ascii','state_name']]\n",
    "us_cities['country'] = 'usa'\n",
    "print(us_cities.shape)\n",
    "us_cities.head()"
   ]
  },
  {
   "cell_type": "code",
   "execution_count": 279,
   "metadata": {},
   "outputs": [
    {
     "name": "stdout",
     "output_type": "stream",
     "text": [
      "(78989, 3)\n"
     ]
    },
    {
     "data": {
      "text/html": [
       "<div>\n",
       "<style scoped>\n",
       "    .dataframe tbody tr th:only-of-type {\n",
       "        vertical-align: middle;\n",
       "    }\n",
       "\n",
       "    .dataframe tbody tr th {\n",
       "        vertical-align: top;\n",
       "    }\n",
       "\n",
       "    .dataframe thead th {\n",
       "        text-align: right;\n",
       "    }\n",
       "</style>\n",
       "<table border=\"1\" class=\"dataframe\">\n",
       "  <thead>\n",
       "    <tr style=\"text-align: right;\">\n",
       "      <th></th>\n",
       "      <th>city_ascii</th>\n",
       "      <th>country</th>\n",
       "      <th>states</th>\n",
       "    </tr>\n",
       "  </thead>\n",
       "  <tbody>\n",
       "    <tr>\n",
       "      <th>0</th>\n",
       "      <td>Tokyo</td>\n",
       "      <td>Japan</td>\n",
       "      <td>Tōkyō</td>\n",
       "    </tr>\n",
       "    <tr>\n",
       "      <th>1</th>\n",
       "      <td>Jakarta</td>\n",
       "      <td>Indonesia</td>\n",
       "      <td>Jakarta</td>\n",
       "    </tr>\n",
       "    <tr>\n",
       "      <th>2</th>\n",
       "      <td>Delhi</td>\n",
       "      <td>India</td>\n",
       "      <td>Delhi</td>\n",
       "    </tr>\n",
       "    <tr>\n",
       "      <th>3</th>\n",
       "      <td>Guangzhou</td>\n",
       "      <td>China</td>\n",
       "      <td>Guangdong</td>\n",
       "    </tr>\n",
       "    <tr>\n",
       "      <th>4</th>\n",
       "      <td>Mumbai</td>\n",
       "      <td>India</td>\n",
       "      <td>Mahārāshtra</td>\n",
       "    </tr>\n",
       "  </tbody>\n",
       "</table>\n",
       "</div>"
      ],
      "text/plain": [
       "  city_ascii    country       states\n",
       "0      Tokyo      Japan        Tōkyō\n",
       "1    Jakarta  Indonesia      Jakarta\n",
       "2      Delhi      India        Delhi\n",
       "3  Guangzhou      China    Guangdong\n",
       "4     Mumbai      India  Mahārāshtra"
      ]
     },
     "execution_count": 279,
     "metadata": {},
     "output_type": "execute_result"
    }
   ],
   "source": [
    "cities = pd.concat([cities,us_cities], axis = 0)\n",
    "cities = cities[['city_ascii', 'country', 'state_name']].rename(columns={'state_name': 'states'})\n",
    "\n",
    "print(cities.shape)\n",
    "cities.head()"
   ]
  },
  {
   "cell_type": "code",
   "execution_count": 280,
   "metadata": {},
   "outputs": [],
   "source": [
    "# Case folding\n",
    "cities['city_ascii'] = cities['city_ascii'].str.lower()\n",
    "cities['country'] = cities['country'].str.lower()\n",
    "cities['states'] = cities['states'].str.lower()"
   ]
  },
  {
   "cell_type": "code",
   "execution_count": 281,
   "metadata": {},
   "outputs": [],
   "source": [
    "# Fixing naming deviations\n",
    "cities['country'] = cities['country'].replace('korea, south', 'south korea', regex=True)\n",
    "cities['country'] = cities['country'].replace('united states', 'usa', regex=True)"
   ]
  },
  {
   "cell_type": "markdown",
   "metadata": {},
   "source": [
    "## Imputing corrosponding country from state\n",
    "Too many cities to country/state to map.\n",
    "Impute 'unknown' where unable to map\n",
    "\n",
    "\n"
   ]
  },
  {
   "cell_type": "code",
   "execution_count": 283,
   "metadata": {},
   "outputs": [],
   "source": [
    "state_country_mapping = cities.dropna().set_index('states')['country'].to_dict()"
   ]
  },
  {
   "cell_type": "code",
   "execution_count": 284,
   "metadata": {},
   "outputs": [],
   "source": [
    "users.loc[users['User-Country'].isna(),'User-Country'] = users.loc[users['User-Country'].isna(), 'User-State'].map(state_country_mapping)\n",
    "users['User-Country'] = users['User-Country'].fillna('unknown')"
   ]
  },
  {
   "cell_type": "code",
   "execution_count": 285,
   "metadata": {},
   "outputs": [
    {
     "data": {
      "text/html": [
       "<div>\n",
       "<style scoped>\n",
       "    .dataframe tbody tr th:only-of-type {\n",
       "        vertical-align: middle;\n",
       "    }\n",
       "\n",
       "    .dataframe tbody tr th {\n",
       "        vertical-align: top;\n",
       "    }\n",
       "\n",
       "    .dataframe thead th {\n",
       "        text-align: right;\n",
       "    }\n",
       "</style>\n",
       "<table border=\"1\" class=\"dataframe\">\n",
       "  <thead>\n",
       "    <tr style=\"text-align: right;\">\n",
       "      <th></th>\n",
       "      <th>User-ID</th>\n",
       "      <th>User-City</th>\n",
       "      <th>User-State</th>\n",
       "      <th>User-Country</th>\n",
       "      <th>User-Age</th>\n",
       "    </tr>\n",
       "  </thead>\n",
       "  <tbody>\n",
       "    <tr>\n",
       "      <th>0</th>\n",
       "      <td>8</td>\n",
       "      <td>timmins</td>\n",
       "      <td>ontario</td>\n",
       "      <td>canada</td>\n",
       "      <td>NaN</td>\n",
       "    </tr>\n",
       "    <tr>\n",
       "      <th>1</th>\n",
       "      <td>9</td>\n",
       "      <td>germantown</td>\n",
       "      <td>tennessee</td>\n",
       "      <td>usa</td>\n",
       "      <td>NaN</td>\n",
       "    </tr>\n",
       "    <tr>\n",
       "      <th>2</th>\n",
       "      <td>16</td>\n",
       "      <td>albuquerque</td>\n",
       "      <td>new mexico</td>\n",
       "      <td>usa</td>\n",
       "      <td>NaN</td>\n",
       "    </tr>\n",
       "    <tr>\n",
       "      <th>3</th>\n",
       "      <td>17</td>\n",
       "      <td>chesapeake</td>\n",
       "      <td>virginia</td>\n",
       "      <td>usa</td>\n",
       "      <td>NaN</td>\n",
       "    </tr>\n",
       "    <tr>\n",
       "      <th>4</th>\n",
       "      <td>19</td>\n",
       "      <td>weston</td>\n",
       "      <td>NaN</td>\n",
       "      <td>unknown</td>\n",
       "      <td>14</td>\n",
       "    </tr>\n",
       "  </tbody>\n",
       "</table>\n",
       "</div>"
      ],
      "text/plain": [
       "   User-ID    User-City  User-State User-Country User-Age\n",
       "0        8      timmins     ontario       canada      NaN\n",
       "1        9   germantown   tennessee          usa      NaN\n",
       "2       16  albuquerque  new mexico          usa      NaN\n",
       "3       17   chesapeake    virginia          usa      NaN\n",
       "4       19       weston         NaN      unknown       14"
      ]
     },
     "execution_count": 285,
     "metadata": {},
     "output_type": "execute_result"
    }
   ],
   "source": [
    "users.head()"
   ]
  },
  {
   "cell_type": "code",
   "execution_count": 286,
   "metadata": {},
   "outputs": [
    {
     "data": {
      "text/plain": [
       "User-ID             0\n",
       "User-City         230\n",
       "User-State       2471\n",
       "User-Country        0\n",
       "User-Age        18952\n",
       "dtype: int64"
      ]
     },
     "execution_count": 286,
     "metadata": {},
     "output_type": "execute_result"
    }
   ],
   "source": [
    "users.isna().sum()"
   ]
  },
  {
   "cell_type": "markdown",
   "metadata": {},
   "source": [
    "## Imputing Age\n",
    "Impute age based on mean of country the user is from"
   ]
  },
  {
   "cell_type": "code",
   "execution_count": 287,
   "metadata": {},
   "outputs": [],
   "source": [
    "users['User-Age'] = users['User-Age'].fillna(-1).astype('int64')"
   ]
  },
  {
   "cell_type": "code",
   "execution_count": 297,
   "metadata": {},
   "outputs": [],
   "source": [
    "users_non_outlier = users[(users['User-Age'] > -1) & (users['User-Age'] < 90)]"
   ]
  },
  {
   "cell_type": "code",
   "execution_count": 298,
   "metadata": {},
   "outputs": [
    {
     "data": {
      "text/html": [
       "<div>\n",
       "<style scoped>\n",
       "    .dataframe tbody tr th:only-of-type {\n",
       "        vertical-align: middle;\n",
       "    }\n",
       "\n",
       "    .dataframe tbody tr th {\n",
       "        vertical-align: top;\n",
       "    }\n",
       "\n",
       "    .dataframe thead th {\n",
       "        text-align: right;\n",
       "    }\n",
       "</style>\n",
       "<table border=\"1\" class=\"dataframe\">\n",
       "  <thead>\n",
       "    <tr style=\"text-align: right;\">\n",
       "      <th></th>\n",
       "      <th>User-ID</th>\n",
       "      <th>User-Age</th>\n",
       "    </tr>\n",
       "  </thead>\n",
       "  <tbody>\n",
       "    <tr>\n",
       "      <th>count</th>\n",
       "      <td>29347.000000</td>\n",
       "      <td>29347.000000</td>\n",
       "    </tr>\n",
       "    <tr>\n",
       "      <th>mean</th>\n",
       "      <td>139454.265751</td>\n",
       "      <td>36.204178</td>\n",
       "    </tr>\n",
       "    <tr>\n",
       "      <th>std</th>\n",
       "      <td>80448.399162</td>\n",
       "      <td>14.681020</td>\n",
       "    </tr>\n",
       "    <tr>\n",
       "      <th>min</th>\n",
       "      <td>19.000000</td>\n",
       "      <td>0.000000</td>\n",
       "    </tr>\n",
       "    <tr>\n",
       "      <th>25%</th>\n",
       "      <td>69601.000000</td>\n",
       "      <td>26.000000</td>\n",
       "    </tr>\n",
       "    <tr>\n",
       "      <th>50%</th>\n",
       "      <td>138514.000000</td>\n",
       "      <td>34.000000</td>\n",
       "    </tr>\n",
       "    <tr>\n",
       "      <th>75%</th>\n",
       "      <td>209461.000000</td>\n",
       "      <td>45.000000</td>\n",
       "    </tr>\n",
       "    <tr>\n",
       "      <th>max</th>\n",
       "      <td>278852.000000</td>\n",
       "      <td>244.000000</td>\n",
       "    </tr>\n",
       "  </tbody>\n",
       "</table>\n",
       "</div>"
      ],
      "text/plain": [
       "             User-ID      User-Age\n",
       "count   29347.000000  29347.000000\n",
       "mean   139454.265751     36.204178\n",
       "std     80448.399162     14.681020\n",
       "min        19.000000      0.000000\n",
       "25%     69601.000000     26.000000\n",
       "50%    138514.000000     34.000000\n",
       "75%    209461.000000     45.000000\n",
       "max    278852.000000    244.000000"
      ]
     },
     "execution_count": 298,
     "metadata": {},
     "output_type": "execute_result"
    }
   ],
   "source": [
    "users[users['User-Age'] != -1].describe()"
   ]
  },
  {
   "cell_type": "code",
   "execution_count": 299,
   "metadata": {},
   "outputs": [
    {
     "data": {
      "text/plain": [
       "<Axes: >"
      ]
     },
     "execution_count": 299,
     "metadata": {},
     "output_type": "execute_result"
    },
    {
     "data": {
      "image/png": "[encoded data removed]",
      "text/plain": [
       "<Figure size 432x288 with 1 Axes>"
      ]
     },
     "metadata": {},
     "output_type": "display_data"
    }
   ],
   "source": [
    "users[users['User-Age'] != -1].boxplot(column = 'User-Age')"
   ]
  },
  {
   "cell_type": "code",
   "execution_count": 305,
   "metadata": {},
   "outputs": [],
   "source": [
    "mean_age_by_country = users_non_outlier.groupby('User-Country')['User-Age'].mean().reset_index().set_index('User-Country')['User-Age'].to_dict()"
   ]
  },
  {
   "cell_type": "code",
   "execution_count": 308,
   "metadata": {},
   "outputs": [
    {
     "data": {
      "text/plain": [
       "0        35.254024\n",
       "1        37.425644\n",
       "2        37.425644\n",
       "3        37.425644\n",
       "5        37.425644\n",
       "           ...    \n",
       "48280    35.254024\n",
       "48287    37.425644\n",
       "48288    37.425644\n",
       "48289    37.425644\n",
       "48298    37.425644\n",
       "Name: User-Country, Length: 19015, dtype: float64"
      ]
     },
     "execution_count": 308,
     "metadata": {},
     "output_type": "execute_result"
    }
   ],
   "source": [
    "# users.loc[(users['User-Age'] <= -1) | (users['User-Age'] >= 90),'User-Age'] = \\\n",
    "users.loc[(users['User-Age'] <= -1) | (users['User-Age'] >= 90), 'User-Country'].map(mean_age_by_country)"
   ]
  },
  {
   "cell_type": "code",
   "execution_count": 309,
   "metadata": {},
   "outputs": [
    {
     "data": {
      "text/html": [
       "<div>\n",
       "<style scoped>\n",
       "    .dataframe tbody tr th:only-of-type {\n",
       "        vertical-align: middle;\n",
       "    }\n",
       "\n",
       "    .dataframe tbody tr th {\n",
       "        vertical-align: top;\n",
       "    }\n",
       "\n",
       "    .dataframe thead th {\n",
       "        text-align: right;\n",
       "    }\n",
       "</style>\n",
       "<table border=\"1\" class=\"dataframe\">\n",
       "  <thead>\n",
       "    <tr style=\"text-align: right;\">\n",
       "      <th></th>\n",
       "      <th>User-ID</th>\n",
       "      <th>User-City</th>\n",
       "      <th>User-State</th>\n",
       "      <th>User-Country</th>\n",
       "      <th>User-Age</th>\n",
       "    </tr>\n",
       "  </thead>\n",
       "  <tbody>\n",
       "    <tr>\n",
       "      <th>0</th>\n",
       "      <td>8</td>\n",
       "      <td>timmins</td>\n",
       "      <td>ontario</td>\n",
       "      <td>canada</td>\n",
       "      <td>-1</td>\n",
       "    </tr>\n",
       "    <tr>\n",
       "      <th>1</th>\n",
       "      <td>9</td>\n",
       "      <td>germantown</td>\n",
       "      <td>tennessee</td>\n",
       "      <td>usa</td>\n",
       "      <td>-1</td>\n",
       "    </tr>\n",
       "    <tr>\n",
       "      <th>2</th>\n",
       "      <td>16</td>\n",
       "      <td>albuquerque</td>\n",
       "      <td>new mexico</td>\n",
       "      <td>usa</td>\n",
       "      <td>-1</td>\n",
       "    </tr>\n",
       "    <tr>\n",
       "      <th>3</th>\n",
       "      <td>17</td>\n",
       "      <td>chesapeake</td>\n",
       "      <td>virginia</td>\n",
       "      <td>usa</td>\n",
       "      <td>-1</td>\n",
       "    </tr>\n",
       "    <tr>\n",
       "      <th>4</th>\n",
       "      <td>19</td>\n",
       "      <td>weston</td>\n",
       "      <td>NaN</td>\n",
       "      <td>unknown</td>\n",
       "      <td>14</td>\n",
       "    </tr>\n",
       "    <tr>\n",
       "      <th>...</th>\n",
       "      <td>...</td>\n",
       "      <td>...</td>\n",
       "      <td>...</td>\n",
       "      <td>...</td>\n",
       "      <td>...</td>\n",
       "    </tr>\n",
       "    <tr>\n",
       "      <th>48294</th>\n",
       "      <td>278846</td>\n",
       "      <td>toronto</td>\n",
       "      <td>ontario</td>\n",
       "      <td>canada</td>\n",
       "      <td>23</td>\n",
       "    </tr>\n",
       "    <tr>\n",
       "      <th>48295</th>\n",
       "      <td>278849</td>\n",
       "      <td>georgetown</td>\n",
       "      <td>ontario</td>\n",
       "      <td>canada</td>\n",
       "      <td>23</td>\n",
       "    </tr>\n",
       "    <tr>\n",
       "      <th>48296</th>\n",
       "      <td>278851</td>\n",
       "      <td>dallas</td>\n",
       "      <td>texas</td>\n",
       "      <td>usa</td>\n",
       "      <td>33</td>\n",
       "    </tr>\n",
       "    <tr>\n",
       "      <th>48297</th>\n",
       "      <td>278852</td>\n",
       "      <td>brisbane</td>\n",
       "      <td>queensland</td>\n",
       "      <td>australia</td>\n",
       "      <td>32</td>\n",
       "    </tr>\n",
       "    <tr>\n",
       "      <th>48298</th>\n",
       "      <td>278854</td>\n",
       "      <td>portland</td>\n",
       "      <td>oregon</td>\n",
       "      <td>usa</td>\n",
       "      <td>-1</td>\n",
       "    </tr>\n",
       "  </tbody>\n",
       "</table>\n",
       "<p>48299 rows × 5 columns</p>\n",
       "</div>"
      ],
      "text/plain": [
       "       User-ID    User-City  User-State User-Country  User-Age\n",
       "0            8      timmins     ontario       canada        -1\n",
       "1            9   germantown   tennessee          usa        -1\n",
       "2           16  albuquerque  new mexico          usa        -1\n",
       "3           17   chesapeake    virginia          usa        -1\n",
       "4           19       weston         NaN      unknown        14\n",
       "...        ...          ...         ...          ...       ...\n",
       "48294   278846      toronto     ontario       canada        23\n",
       "48295   278849   georgetown     ontario       canada        23\n",
       "48296   278851       dallas       texas          usa        33\n",
       "48297   278852     brisbane  queensland    australia        32\n",
       "48298   278854     portland      oregon          usa        -1\n",
       "\n",
       "[48299 rows x 5 columns]"
      ]
     },
     "execution_count": 309,
     "metadata": {},
     "output_type": "execute_result"
    }
   ],
   "source": [
    "users"
   ]
  },
  {
   "cell_type": "code",
   "execution_count": null,
   "metadata": {},
   "outputs": [],
   "source": []
  },
  {
   "cell_type": "code",
   "execution_count": 292,
   "metadata": {},
   "outputs": [
    {
     "data": {
      "text/plain": [
       "User-ID            0\n",
       "User-City        230\n",
       "User-State      2471\n",
       "User-Country       0\n",
       "User-Age           0\n",
       "dtype: int64"
      ]
     },
     "execution_count": 292,
     "metadata": {},
     "output_type": "execute_result"
    }
   ],
   "source": [
    "users.isna().sum()"
   ]
  },
  {
   "cell_type": "code",
   "execution_count": 30,
   "metadata": {},
   "outputs": [],
   "source": [
    "users.to_csv(path + 'cleaned/Bx-Users.csv')"
   ]
  }
 ],
 "metadata": {
  "kernelspec": {
   "display_name": "Python 3 (Spyder)",
   "language": "python3",
   "name": "python3"
  },
  "language_info": {
   "codemirror_mode": {
    "name": "ipython",
    "version": 3
   },
   "file_extension": ".py",
   "mimetype": "text/x-python",
   "name": "python",
   "nbconvert_exporter": "python",
   "pygments_lexer": "ipython3",
   "version": "3.11.0"
  }
 },
 "nbformat": 4,
 "nbformat_minor": 4
}
